{
 "cells": [
  {
   "cell_type": "markdown",
   "metadata": {},
   "source": [
    "# Small noise approximation - mRNA level"
   ]
  },
  {
   "cell_type": "code",
   "execution_count": 3,
   "metadata": {
    "collapsed": true
   },
   "outputs": [],
   "source": [
    "import glob\n",
    "# Our numerical workhorses\n",
    "import numpy as np\n",
    "import scipy.optimize\n",
    "import scipy.special\n",
    "import scipy.integrate\n",
    "import mpmath\n",
    "\n",
    "# To compute symbolic expressions\n",
    "import sympy\n",
    "sympy.init_printing(use_unicode=True) # print outputs in LaTeX\n",
    "\n",
    "# Import matplotlib stuff for plotting\n",
    "import matplotlib.pyplot as plt\n",
    "import matplotlib.cm as cm\n",
    "import matplotlib as mpl\n",
    "\n",
    "# Seaborn, useful for graphics\n",
    "import seaborn as sns\n",
    "\n",
    "# Import the utils for this project\n",
    "import chann_cap_utils as chann_cap\n",
    "\n",
    "# Set PBoC plotting style\n",
    "chann_cap.set_plotting_style()\n",
    "\n",
    "# Magic function to make matplotlib inline; other style specs must come AFTER\n",
    "%matplotlib inline\n",
    "\n",
    "# This enables SVG graphics inline (only use with static plots (non-Bokeh))\n",
    "%config InlineBackend.figure_format = 'svg'\n",
    "\n",
    "# figdir = '../../fig/chemical_master_analytic_protein/'\n",
    "tmpdir = '../../tmp/'"
   ]
  },
  {
   "cell_type": "markdown",
   "metadata": {},
   "source": [
    "### $\\LaTeX$ macros\n",
    "\n",
    "$\\newcommand{\\meanm}{\\langle m \\rangle}$\n",
    "$\\newcommand{\\rm}{r_m}$\n",
    "$\\newcommand{\\gm}{\\gamma_m}$\n",
    "$\\newcommand{\\kon}{k_{\\text{on}}}$\n",
    "$\\newcommand{\\koff}{k_{\\text{off}}}$\n",
    "$\\newcommand{\\depsilon}{\\Delta \\varepsilon}$"
   ]
  },
  {
   "cell_type": "markdown",
   "metadata": {},
   "source": [
    "## The small noise approximation.\n",
    "\n",
    "In this notebook we will explore the use of the small noise approximation in the context of the information processing capacity of the simple repression motif at steady state focusing on the mRNA level.\n",
    "\n",
    "As derived by Tkacik, Callan and Bialek in their [2008 Phys Rev E paper](https://journals.aps.org/pre/abstract/10.1103/PhysRevE.78.011910), if one assumes the small noise approximation is valid, computing the channel capacity of a genetic regulatory system becomes analytically tractable.\n",
    "The calculation requires a mapping between the input (in our case $c$ the inducer concentration) and the **mean output** (for this particular notebook the mean mRNA copy number $\\meanm$). Since these means are deterministic functions of the input we can use the change of variables\n",
    "$$\n",
    "P_c(c) dc = P_{\\meanm} (\\meanm) d \\meanm.\n",
    "$$\n",
    "In that case the optimal distribution $P^*_c(c)$ can be mapped to the optimal mean output distribution $P^*_{\\meanm}(\\meanm)$."
   ]
  },
  {
   "cell_type": "markdown",
   "metadata": {},
   "source": [
    "Using this change of variables and the small noise approximation (SMA) the optimal mean output distribution is given by\n",
    "$$\n",
    "P^*(\\meanm) = {1 \\over \\mathcal{Z}} {1 \\over \\sigma_{\\meanm}(\\meanm)},\n",
    "$$\n",
    "where $\\mathcal{Z}$ is a normalization constant of the form\n",
    "$$\n",
    "\\mathcal{Z} = \\int_{\\meanm _\\min}^{\\meanm _\\max} \n",
    "              {d\\meanm \\over \\sigma_{\\meanm}\\left( \\meanm \\right)}.\n",
    "$$\n",
    "\n",
    "Giventhis optimal distribution it can be shown that the channel capacity \n",
    "$I^*(c;\\meanm)$ is given by\n",
    "$$\n",
    "I^*(c;\\meanm) = \\log_2 \\left( {\\mathcal{Z} \\over \\sqrt{2\\pi e}} \\right).\n",
    "$$\n",
    "\n",
    "So with this amazing and simple result all we need is an expression for the noise $\\sigma_{\\meanm}$ as a function of the mean output $\\meanm$ in order to compute the channel capacity of our system of interest!"
   ]
  },
  {
   "cell_type": "markdown",
   "metadata": {},
   "source": [
    "## mRNA level channel capacity.\n",
    "As derived using the two-state promoter chemical master equation the mean mRNA copy number at this level is given by\n",
    "$$\n",
    "\\meanm = {\\rm \\over \\gm}{\\kon \\over \\kon + \\koff},\n",
    "$$\n",
    "where $\\rm$ is the mRNA production rate $\\gm$ is the degradation rate, $\\kon$ is the rate to transition from inactive to active promoter and $\\koff$ is the rate to transition from active to inactive.\n",
    "\n",
    "The variance in gene expression again as derived using chemical master equations is of the form\n",
    "$$\n",
    "\\sigma_{\\meanm}^2 = \\meanm \\left( 1 + {\\koff \\over \\kon + \\koff}\n",
    "                            {\\rm \\over \\koff + \\kon + \\gm}\\right).\n",
    "$$"
   ]
  },
  {
   "cell_type": "markdown",
   "metadata": {},
   "source": [
    "For the case of the induction we have that $\\meanm \\equiv \\meanm(\\koff)$, i.e. the only variable that changes as we increase the induction concentration is assumed to be the rate $\\koff$. That means that in performing the integral to compute $\\mathcal{Z}$ we have to take into account the fact that this rate will change within the limits of the integral. To account for that let's use the expression for the mean mRNA copy number and solve for $\\koff$\n",
    "\n",
    "**Note: This has already been done manually but I'll implement an algebraic solver with `sympy` to double check the results.**"
   ]
  },
  {
   "cell_type": "code",
   "execution_count": 22,
   "metadata": {},
   "outputs": [
    {
     "data": {
      "image/png": "[encoded data removed]",
      "text/latex": [
       "$$\\left ( r, \\quad \\gamma, \\quad k_{{on}}, \\quad k_{{off}}, \\quad \\langle m \\rangle, \\quad \\sigma_{\\langle m \\rangle}\\right )$$"
      ],
      "text/plain": [
       "(r, γ, k_{{on}}, k_{{off}}, \\langle m \\rangle, \\sigma_{\\langle m \\rangle})"
      ]
     },
     "execution_count": 22,
     "metadata": {},
     "output_type": "execute_result"
    }
   ],
   "source": [
    "# Define the sympy variables\n",
    "r, gamma = sympy.symbols('r gamma')\n",
    "kon, koff = sympy.symbols('k_{{on}} k_{{off}}')\n",
    "mm = sympy.Symbol('\\\\langle m \\\\rangle')\n",
    "sigmam = sympy.Symbol('\\\\sigma_{\\\\langle m \\\\rangle}')\n",
    "\n",
    "r, gamma, kon, koff, mm, sigmam"
   ]
  },
  {
   "cell_type": "markdown",
   "metadata": {},
   "source": [
    "Having defined the variables let's find the expression that connects $\\meanm$ with $\\koff$"
   ]
  },
  {
   "cell_type": "code",
   "execution_count": 25,
   "metadata": {},
   "outputs": [
    {
     "data": {
      "image/png": "[encoded data removed]",
      "text/latex": [
       "$$\\langle m \\rangle = \\frac{k_{{on}} r}{\\gamma \\left(k_{{off}} + k_{{on}}\\right)}$$"
      ],
      "text/plain": [
       "                           k_{{on}}⋅r       \n",
       "\\langle m \\rangle = ────────────────────────\n",
       "                    γ⋅(k_{{off}} + k_{{on}})"
      ]
     },
     "execution_count": 25,
     "metadata": {},
     "output_type": "execute_result"
    }
   ],
   "source": [
    "# Define the equation for the mean mRNA copy number\n",
    "mean_mRNA = sympy.Eq(mm , (r / gamma) * kon / (kon + koff))\n",
    "mean_mRNA"
   ]
  },
  {
   "cell_type": "code",
   "execution_count": 32,
   "metadata": {},
   "outputs": [
    {
     "data": {
      "image/png": "[encoded data removed]",
      "text/latex": [
       "$$k_{{off}} = - k_{{on}} + \\frac{k_{{on}} r}{\\langle m \\rangle \\gamma}$$"
      ],
      "text/plain": [
       "                             k_{{on}}⋅r    \n",
       "k_{{off}} = -k_{{on}} + ───────────────────\n",
       "                        \\langle m \\rangle⋅γ"
      ]
     },
     "execution_count": 32,
     "metadata": {},
     "output_type": "execute_result"
    }
   ],
   "source": [
    "# Solve the equation for koff to find a relationship between koff and <m>\n",
    "koff_m_func = sympy.solve(mean_mRNA, koff)[0]\n",
    "sympy.Eq(koff, koff_m_func)"
   ]
  },
  {
   "cell_type": "markdown",
   "metadata": {},
   "source": [
    "Having this relationship allow us to now use the equation for the variance in mRNA copy number. Let's declare the `sympy` function for the variance"
   ]
  },
  {
   "cell_type": "code",
   "execution_count": 34,
   "metadata": {},
   "outputs": [
    {
     "data": {
      "image/png": "[encoded data removed]",
      "text/latex": [
       "$$\\sigma_{\\langle m \\rangle}^{2} = \\langle m \\rangle \\left(\\frac{k_{{off}} r}{\\left(k_{{off}} + k_{{on}}\\right) \\left(\\gamma + k_{{off}} + k_{{on}}\\right)} + 1\\right)$$"
      ],
      "text/plain": [
       "                          2                     ⎛                   k_{{off}}⋅\n",
       "\\sigma_{\\langle m \\rangle}  = \\langle m \\rangle⋅⎜─────────────────────────────\n",
       "                                                ⎝(k_{{off}} + k_{{on}})⋅(γ + k\n",
       "\n",
       "r                       ⎞\n",
       "──────────────────── + 1⎟\n",
       "_{{off}} + k_{{on}})    ⎠"
      ]
     },
     "execution_count": 34,
     "metadata": {},
     "output_type": "execute_result"
    }
   ],
   "source": [
    "# Define function for variance\n",
    "var_mRNA = mm * (1 + koff / (kon + koff) * r / (kon + koff + gamma))\n",
    "sympy.Eq(sigmam**2, var_mRNA)"
   ]
  },
  {
   "cell_type": "code",
   "execution_count": 42,
   "metadata": {},
   "outputs": [
    {
     "data": {
      "image/png": "[encoded data removed]",
      "text/latex": [
       "$$\\sigma_{\\langle m \\rangle}^{2} = \\frac{\\langle m \\rangle}{\\langle m \\rangle \\gamma^{2} + k_{{on}} r} \\left(\\langle m \\rangle \\gamma^{2} - \\langle m \\rangle \\gamma \\left(\\langle m \\rangle \\gamma - r\\right) + k_{{on}} r\\right)$$"
      ],
      "text/plain": [
       "                                                ⎛                   2         \n",
       "                          2   \\langle m \\rangle⋅⎝\\langle m \\rangle⋅γ  - \\langl\n",
       "\\sigma_{\\langle m \\rangle}  = ────────────────────────────────────────────────\n",
       "                                                                              \n",
       "                                                                \\langle m \\ran\n",
       "\n",
       "                                                    ⎞\n",
       "e m \\rangle⋅γ⋅(\\langle m \\rangle⋅γ - r) + k_{{on}}⋅r⎠\n",
       "─────────────────────────────────────────────────────\n",
       "     2                                               \n",
       "gle⋅γ  + k_{{on}}⋅r                                  "
      ]
     },
     "execution_count": 42,
     "metadata": {},
     "output_type": "execute_result"
    }
   ],
   "source": [
    "# Substitute koff for the relationship with mean mRNA\n",
    "var_mRNA_m_func = sympy.simplify(var_mRNA.subs(koff, koff_m_func))\n",
    "\n",
    "sympy.Eq(sigmam**2, var_mRNA_m_func)"
   ]
  },
  {
   "cell_type": "markdown",
   "metadata": {},
   "source": [
    "Having this expression let's check if sympy can perform the integral for this case."
   ]
  },
  {
   "cell_type": "code",
   "execution_count": null,
   "metadata": {},
   "outputs": [],
   "source": [
    "# Z_int = sympy.integrate(1 / sympy.sqrt(var_mRNA_m_func), mm)"
   ]
  },
  {
   "cell_type": "markdown",
   "metadata": {},
   "source": [
    "It seems that `sympy` cannot solve this integral. Mathematica on the other side can solve the integral and it is a horrible and useless equation. The numerical integration will be the actual intuitive result for this. Nevertheless here is Mathematica's result\n",
    "$$\\scriptstyle{\n",
    "-\\frac{2 \\sqrt{2} m \\sqrt{-\\frac{k r+\\gamma ^2 m}{\\gamma  m \\left(-\\gamma +\\sqrt{4 k r+(\\gamma +r)^2}+r\\right)}} \\left(\\sqrt{\\frac{-\\gamma  m \\left(\\gamma -\\sqrt{4 k\n",
    "   r+(\\gamma +r)^2}+r\\right)-2 k r}{\\gamma  m \\sqrt{4 k r+(\\gamma +r)^2}}} \\left(\\gamma  m (\\gamma +r) \\left(\\gamma +\\sqrt{4 k r+(\\gamma +r)^2}+r\\right)+k r \\left(\\gamma\n",
    "   +\\sqrt{4 k r+(\\gamma +r)^2}+2 \\gamma  m+r\\right)\\right) F\\left(\\sin ^{-1}\\left(\\frac{\\sqrt{\\frac{\\frac{2 k r}{m}+\\gamma  \\left(r+\\gamma +\\sqrt{(r+\\gamma )^2+4 k\n",
    "   r}\\right)}{\\gamma  \\sqrt{(r+\\gamma )^2+4 k r}}}}{\\sqrt{2}}\\right)|\\frac{2 \\sqrt{(r+\\gamma )^2+4 k r}}{r-\\gamma +\\sqrt{(r+\\gamma )^2+4 k r}}\\right)-2 \\gamma ^2 m\n",
    "   \\sqrt{4 k r+(\\gamma +r)^2} \\sqrt{-\\frac{k r (k r+\\gamma  m (\\gamma -\\gamma  m+r))}{\\gamma ^2 m^2 \\left(4 k r+(\\gamma +r)^2\\right)}} \\sqrt{\\frac{\\frac{2 k r}{m}+\\gamma \n",
    "   \\left(\\gamma +\\sqrt{4 k r+(\\gamma +r)^2}+r\\right)}{\\gamma  \\sqrt{4 k r+(\\gamma +r)^2}}} \\Pi \\left(\\frac{2 \\sqrt{(r+\\gamma )^2+4 k r}}{r+\\gamma +\\sqrt{(r+\\gamma )^2+4 k\n",
    "   r}};\\sin ^{-1}\\left(\\frac{\\sqrt{\\frac{\\frac{2 k r}{m}+\\gamma  \\left(r+\\gamma +\\sqrt{(r+\\gamma )^2+4 k r}\\right)}{\\gamma  \\sqrt{(r+\\gamma )^2+4 k\n",
    "   r}}}}{\\sqrt{2}}\\right)|\\frac{2 \\sqrt{(r+\\gamma )^2+4 k r}}{r-\\gamma +\\sqrt{(r+\\gamma )^2+4 k r}}\\right)\\right)}{\\left(\\gamma +\\sqrt{4 k r+(\\gamma +r)^2}+r\\right)\n",
    "   \\left(k r+\\gamma ^2 m\\right) \\sqrt{\\frac{m (k r+\\gamma  m (\\gamma -\\gamma  m+r))}{k r+\\gamma ^2 m}} \\sqrt{\\frac{\\frac{2 k r}{m}+\\gamma  \\left(\\gamma +\\sqrt{4 k\n",
    "   r+(\\gamma +r)^2}+r\\right)}{\\gamma  \\sqrt{4 k r+(\\gamma +r)^2}}}}\n",
    "   }\n",
    "$$"
   ]
  },
  {
   "cell_type": "markdown",
   "metadata": {},
   "source": [
    "## Numerical exploration of the channel capacity.\n",
    "\n",
    "Given the unintuitive form of this equation we will make use of numerical integration to explore how different parameters affect the channel capacity.\n",
    "\n",
    "First we define the inverse standard deviation function and generate a `lambdify` function to evaluate this expression numerically."
   ]
  },
  {
   "cell_type": "code",
   "execution_count": 47,
   "metadata": {},
   "outputs": [
    {
     "data": {
      "image/png": "[encoded data removed]",
      "text/latex": [
       "$$\\frac{1}{\\sigma_{\\langle m \\rangle}} = \\frac{1}{\\sqrt{\\frac{\\langle m \\rangle}{\\langle m \\rangle \\gamma^{2} + k_{{on}} r} \\left(\\langle m \\rangle \\gamma^{2} - \\langle m \\rangle \\gamma \\left(\\langle m \\rangle \\gamma - r\\right) + k_{{on}} r\\right)}}$$"
      ],
      "text/plain": [
       "            1                                                                 \n",
       "────────────────────────── = ─────────────────────────────────────────────────\n",
       "\\sigma_{\\langle m \\rangle}         ___________________________________________\n",
       "                                  ╱                   ⎛                   2   \n",
       "                                 ╱  \\langle m \\rangle⋅⎝\\langle m \\rangle⋅γ  - \n",
       "                                ╱   ──────────────────────────────────────────\n",
       "                               ╱                                              \n",
       "                             ╲╱                                       \\langle \n",
       "\n",
       "     1                                                      \n",
       "────────────────────────────────────────────────────────────\n",
       "____________________________________________________________\n",
       "                                                          ⎞ \n",
       "\\langle m \\rangle⋅γ⋅(\\langle m \\rangle⋅γ - r) + k_{{on}}⋅r⎠ \n",
       "─────────────────────────────────────────────────────────── \n",
       "           2                                                \n",
       "m \\rangle⋅γ  + k_{{on}}⋅r                                   "
      ]
     },
     "execution_count": 47,
     "metadata": {},
     "output_type": "execute_result"
    }
   ],
   "source": [
    "# Define the inverse standard deviation \n",
    "inv_sigma = 1 / sympy.sqrt(var_mRNA_m_func)\n",
    "sympy.Eq(1 / sigmam, inv_sigma)"
   ]
  },
  {
   "cell_type": "code",
   "execution_count": 49,
   "metadata": {},
   "outputs": [],
   "source": [
    "# Generate lambdify function\n",
    "imv_sigma_num = sympy.lambdify([mm, kon, r, gamma], inv_sigma, 'numpy')"
   ]
  },
  {
   "cell_type": "markdown",
   "metadata": {},
   "source": [
    "### Limits of integration\n",
    "\n",
    "The limits of integration to compute $\\mathcal{Z}$ are $\\meanm_\\min$ and $\\meanm_\\max$. These limits indicate the mean number of mRNA produce in the absence of inducer ($\\meanm_\\min$) and the mRNA copy number at saturating concentrations of inducer ($\\meanm_\\max$).\n",
    "\n",
    "These limits are given as (derivation show elsewhere):\n",
    "$$\n",
    "\\meanm_\\min = {\\rm \\over \\gm} \n",
    "{1 \\over {k_o \\left[ R \\right] \\over \\kon} \\left( {1 \\over 1 + e^{-\\beta \\depsilon_{AI}}} \\right)},\n",
    "$$\n",
    "where $\\depsilon_{AI}$ is the energy difference between the active and inactive state of the repressor. For the upper bound we have\n",
    "$$\n",
    "\\meanm_\\max = {\\rm \\over \\gm} \n",
    "{1 \\over {k_o \\left[ R \\right] \\over \\kon} \\left( {1 \\over 1 + e^{-\\beta \\depsilon_{AI}} \\left( {K_A \\over K_I} \\right)^2 } \\right)},\n",
    "$$"
   ]
  },
  {
   "cell_type": "code",
   "execution_count": null,
   "metadata": {
    "collapsed": true
   },
   "outputs": [],
   "source": []
  }
 ],
 "metadata": {
  "kernelspec": {
   "display_name": "Python 3",
   "language": "python",
   "name": "python3"
  },
  "language_info": {
   "codemirror_mode": {
    "name": "ipython",
    "version": 3
   },
   "file_extension": ".py",
   "mimetype": "text/x-python",
   "name": "python",
   "nbconvert_exporter": "python",
   "pygments_lexer": "ipython3",
   "version": "3.6.2"
  }
 },
 "nbformat": 4,
 "nbformat_minor": 2
}
