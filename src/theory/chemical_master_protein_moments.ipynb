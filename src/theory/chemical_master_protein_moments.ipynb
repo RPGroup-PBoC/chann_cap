{
 "cells": [
  {
   "cell_type": "markdown",
   "metadata": {},
   "source": [
    "# The moments of the distribution for protein in a two- and three-state promoter."
   ]
  },
  {
   "cell_type": "markdown",
   "metadata": {},
   "source": [
    "(c) 2017 Manuel Razo. This work is licensed under a [Creative Commons Attribution License CC-BY 4.0](https://creativecommons.org/licenses/by/4.0/). All code contained herein is licensed under an [MIT license](https://opensource.org/licenses/MIT)"
   ]
  },
  {
   "cell_type": "code",
   "execution_count": 18,
   "metadata": {
    "collapsed": true
   },
   "outputs": [],
   "source": [
    "import glob\n",
    "import pickle\n",
    "# Our numerical workhorses\n",
    "import numpy as np\n",
    "import scipy.optimize\n",
    "import scipy.special\n",
    "import scipy.integrate\n",
    "import mpmath\n",
    "# To compute symbolic expressions\n",
    "import sympy\n",
    "# sympy.init_printing(use_unicode=True) # print outputs in LaTeX\n",
    "sympy.init_printing(use_latex=True) # print outputs in LaTeX\n",
    "\n",
    "import pandas as pd\n",
    "# Import libraries to parallelize processes\n",
    "from joblib import Parallel, delayed\n",
    "\n",
    "# Import matplotlib stuff for plotting\n",
    "import matplotlib.pyplot as plt\n",
    "import matplotlib.cm as cm\n",
    "import matplotlib as mpl\n",
    "\n",
    "# Seaborn, useful for graphics\n",
    "import seaborn as sns\n",
    "\n",
    "# Import the utils for this project\n",
    "import chann_cap_utils as chann_cap\n",
    "\n",
    "# Set PBoC plotting style\n",
    "chann_cap.set_plotting_style()\n",
    "\n",
    "# Magic function to make matplotlib inline; other style specs must come AFTER\n",
    "%matplotlib inline\n",
    "\n",
    "# This enables SVG graphics inline (only use with static plots (non-Bokeh))\n",
    "%config InlineBackend.figure_format = 'svg'\n",
    "\n",
    "# figdir = '../../fig/chemical_master_analytic_mRNA/'\n",
    "tmpdir = '../../tmp/'"
   ]
  },
  {
   "cell_type": "markdown",
   "metadata": {},
   "source": [
    "### $\\LaTeX$ macros\n",
    "$\\newcommand{kpon}{k^p_{\\text{on}}}$\n",
    "$\\newcommand{kpoff}{k^p_{\\text{off}}}$\n",
    "$\\newcommand{kron}{k^r_{\\text{on}}}$\n",
    "$\\newcommand{kroff}{k^r_{\\text{off}}}$\n",
    "$\\newcommand{rm}{r _m}$\n",
    "$\\newcommand{gm}{\\gamma _m}$\n",
    "$\\newcommand{mm}{\\left\\langle m \\right\\rangle}$"
   ]
  },
  {
   "cell_type": "markdown",
   "metadata": {},
   "source": [
    "# Two-state promoter (protein)\n",
    "\n",
    "In this section we will perform the linear algebra to solve for the steady-state moments of the mRNA distribution.\n",
    "\n",
    "Up to this stage we wrote the chemical master equation in matrix notation and did some tricks when it came to compute the $n^{\\text{th}}$ moment. Now we will use the equations we obtained for the time derivative of the mRNA distribution moments and set that to steady-state to solve for the moments themselves.\n",
    "\n",
    "Let's first define the `sympy` variables that we will need for the two- and three-state promoter."
   ]
  },
  {
   "cell_type": "code",
   "execution_count": 26,
   "metadata": {},
   "outputs": [
    {
     "data": {
      "image/png": "[encoded data removed]",
      "text/latex": [
       "$$\\left ( {k_{off}^p}, \\quad {k_{on}^p}, \\quad {k_{off}^r}, \\quad {k_{on}^r}, \\quad r_{m}, \\quad \\gamma_{m}, \\quad r_{p}, \\quad \\gamma_{p}\\right )$$"
      ],
      "text/plain": [
       "({k_{off}__p}, {k_{on}__p}, {k_{off}__r}, {k_{on}__r}, rₘ, γₘ, rₚ, γₚ)"
      ]
     },
     "execution_count": 26,
     "metadata": {},
     "output_type": "execute_result"
    }
   ],
   "source": [
    "# Define rate constant variables\n",
    "kp_off, kp_on = sympy.symbols('{k_{off}^p} {k_{on}^p}')\n",
    "kr_off, kr_on = sympy.symbols('{k_{off}^r} {k_{on}^r}')\n",
    "\n",
    "# Define degradation rate and production rate\n",
    "rm, gm = sympy.symbols('r_m gamma_m')\n",
    "rp, gp = sympy.symbols('r_p gamma_p')\n",
    "\n",
    "kp_off, kp_on, kr_off, kr_on, rm, gm, rp, gp"
   ]
  },
  {
   "cell_type": "markdown",
   "metadata": {},
   "source": [
    "Let's now define a function that generates a `sympy` variable of the form $\\left\\langle x^n \\right\\rangle$ to easily define the variables to save the moments."
   ]
  },
  {
   "cell_type": "code",
   "execution_count": 42,
   "metadata": {
    "collapsed": true
   },
   "outputs": [],
   "source": [
    "def moment_sympy(var, moment):\n",
    "    '''\n",
    "    Shortcut to generate variables of the form <var**n> in sympy to facilitate the\n",
    "    definition of the moment variables\n",
    "    Parameters\n",
    "    ----------\n",
    "    var : string.\n",
    "        variable name string that should be put inside the <> parenthesis.\n",
    "    moment : int.\n",
    "        exponent of the moment to be defined.\n",
    "    '''\n",
    "    if moment == None:\n",
    "        return sympy.Symbol('{\\\\langle ' + var + '\\\\rangle}')\n",
    "    else:\n",
    "        return sympy.Symbol('{\\\\langle ' + var + '^{:d}'.format(moment) + '\\\\rangle}')"
   ]
  },
  {
   "cell_type": "markdown",
   "metadata": {},
   "source": [
    "Now let's define the moment variables for the unregulated promoter. We will do it for both the mRNA and the protein since the protein moments depend also on mRNA moments."
   ]
  },
  {
   "cell_type": "code",
   "execution_count": 28,
   "metadata": {},
   "outputs": [
    {
     "data": {
      "image/png": "[encoded data removed]",
      "text/latex": [
       "$$\\left ( \\left [ {\\langle m_{P_{unreg}}^0\\rangle}, \\quad {\\langle m_{E_{unreg}}^0\\rangle}\\right ], \\quad \\left [ {\\langle m_{P_{unreg}}^1\\rangle}, \\quad {\\langle m_{E_{unreg}}^1\\rangle}\\right ], \\quad \\left [ {\\langle m_{P_{unreg}}^2\\rangle}, \\quad {\\langle m_{E_{unreg}}^2\\rangle}\\right ], \\quad \\left [ {\\langle m_{P_{unreg}}^3\\rangle}, \\quad {\\langle m_{E_{unreg}}^3\\rangle}\\right ]\\right )$$"
      ],
      "text/plain": [
       "([{\\langle m_{P_{unreg}}__0\\rangle}, {\\langle m_{E_{unreg}}__0\\rangle}], [{\\la\n",
       "ngle m_{P_{unreg}}__1\\rangle}, {\\langle m_{E_{unreg}}__1\\rangle}], [{\\langle m\n",
       "_{P_{unreg}}__2\\rangle}, {\\langle m_{E_{unreg}}__2\\rangle}], [{\\langle m_{P_{u\n",
       "nreg}}__3\\rangle}, {\\langle m_{E_{unreg}}__3\\rangle}])"
      ]
     },
     "execution_count": 28,
     "metadata": {},
     "output_type": "execute_result"
    }
   ],
   "source": [
    "# Define the string for the states\n",
    "m_unreg = ['m_{P_{unreg}}', 'm_{E_{unreg}}']\n",
    "\n",
    "# Define the zeroth moments\n",
    "m0_unreg = [moment_sympy(x, 0) for x in m_unreg]\n",
    "# Define the first moments\n",
    "m1_unreg = [moment_sympy(x, 1) for x in m_unreg]\n",
    "# Define the second moments\n",
    "m2_unreg = [moment_sympy(x, 2) for x in m_unreg]\n",
    "# Define the second moments\n",
    "m3_unreg = [moment_sympy(x, 3) for x in m_unreg]\n",
    "\n",
    "m0_unreg, m1_unreg, m2_unreg, m3_unreg"
   ]
  },
  {
   "cell_type": "code",
   "execution_count": 77,
   "metadata": {},
   "outputs": [
    {
     "data": {
      "image/png": "[encoded data removed]",
      "text/latex": [
       "$$\\left ( \\left [ {\\langle \\mathbf{p}_{P_{unreg}}^0\\rangle}, \\quad {\\langle p_{E_{unreg}}^0\\rangle}\\right ], \\quad \\left [ {\\langle \\mathbf{p}_{P_{unreg}}^1\\rangle}, \\quad {\\langle p_{E_{unreg}}^1\\rangle}\\right ], \\quad \\left [ {\\langle \\mathbf{p}_{P_{unreg}}^2\\rangle}, \\quad {\\langle p_{E_{unreg}}^2\\rangle}\\right ], \\quad \\left [ {\\langle \\mathbf{p}_{P_{unreg}}^3\\rangle}, \\quad {\\langle p_{E_{unreg}}^3\\rangle}\\right ]\\right )$$"
      ],
      "text/plain": [
       "([{\\langle \\mathbf{p}_{P_{unreg}}__0\\rangle}, {\\langle p_{E_{unreg}}__0\\rangle\n",
       "}], [{\\langle \\mathbf{p}_{P_{unreg}}__1\\rangle}, {\\langle p_{E_{unreg}}__1\\ran\n",
       "gle}], [{\\langle \\mathbf{p}_{P_{unreg}}__2\\rangle}, {\\langle p_{E_{unreg}}__2\\\n",
       "rangle}], [{\\langle \\mathbf{p}_{P_{unreg}}__3\\rangle}, {\\langle p_{E_{unreg}}_\n",
       "_3\\rangle}])"
      ]
     },
     "execution_count": 77,
     "metadata": {},
     "output_type": "execute_result"
    }
   ],
   "source": [
    "# Define the string for the states\n",
    "p_unreg = ['p_{P_{unreg}}', 'p_{E_{unreg}}']\n",
    "\n",
    "# Define the zeroth moments\n",
    "p0_unreg = [moment_sympy(x, 0) for x in p_unreg]\n",
    "# Define the first moments\n",
    "p1_unreg = [moment_sympy(x, 1) for x in p_unreg]\n",
    "# Define the second moments\n",
    "p2_unreg = [moment_sympy(x, 2) for x in p_unreg]\n",
    "# Define the second moments\n",
    "p3_unreg = [moment_sympy(x, 3) for x in p_unreg]\n",
    "\n",
    "p0_unreg, p1_unreg, p2_unreg, p3_unreg"
   ]
  },
  {
   "cell_type": "code",
   "execution_count": null,
   "metadata": {
    "collapsed": true
   },
   "outputs": [],
   "source": []
  },
  {
   "cell_type": "markdown",
   "metadata": {},
   "source": [
    "Now we will define the state transition matrix $\\mathbf{K}^u$, the mRNA production matrix $\\mathbf{R}^u_m$ and the mRNA degradation matrix $\\mathbf{\\Gamma}^u_m$."
   ]
  },
  {
   "cell_type": "code",
   "execution_count": 30,
   "metadata": {},
   "outputs": [
    {
     "data": {
      "image/png": "[encoded data removed]",
      "text/latex": [
       "$$\\left ( \\left[\\begin{matrix}- {k_{off}^p} & {k_{on}^p}\\\\{k_{off}^p} & - {k_{on}^p}\\end{matrix}\\right], \\quad \\left[\\begin{matrix}r_{m} & 0\\\\0 & 0\\end{matrix}\\right], \\quad \\left[\\begin{matrix}\\gamma_{m} & 0\\\\0 & \\gamma_{m}\\end{matrix}\\right], \\quad \\left[\\begin{matrix}r_{p} & 0\\\\0 & r_{p}\\end{matrix}\\right], \\quad \\left[\\begin{matrix}\\gamma_{p} & 0\\\\0 & \\gamma_{p}\\end{matrix}\\right]\\right )$$"
      ],
      "text/plain": [
       "⎛⎡-{k_{off}__p}  {k_{on}__p} ⎤  ⎡rₘ  0⎤  ⎡γₘ  0 ⎤  ⎡rₚ  0 ⎤  ⎡γₚ  0 ⎤⎞\n",
       "⎜⎢                           ⎥, ⎢     ⎥, ⎢      ⎥, ⎢      ⎥, ⎢      ⎥⎟\n",
       "⎝⎣{k_{off}__p}   -{k_{on}__p}⎦  ⎣0   0⎦  ⎣0   γₘ⎦  ⎣0   rₚ⎦  ⎣0   γₚ⎦⎠"
      ]
     },
     "execution_count": 30,
     "metadata": {},
     "output_type": "execute_result"
    }
   ],
   "source": [
    "# Define the rate constant matrix\n",
    "Km_unreg = sympy.Matrix([[-kp_off, kp_on], \n",
    "                           [kp_off, -kp_on]])\n",
    "# Define the mRNA production matrix\n",
    "Rm_unreg = sympy.Matrix([[rm, 0], \n",
    "                         [0, 0]])\n",
    "# Define the mRNA degradation matrix\n",
    "Gm_unreg = sympy.Matrix([[gm, 0],\n",
    "                         [0, gm]])\n",
    "\n",
    "# Define the protein production matrix\n",
    "Rp_unreg = sympy.Matrix([[rp, 0], \n",
    "                         [0, rp]])\n",
    "# Define the protein degradation matrix\n",
    "Gp_unreg = sympy.Matrix([[gp, 0],\n",
    "                         [0, gp]])\n",
    "\n",
    "\n",
    "Km_unreg, Rm_unreg, Gm_unreg, Rp_unreg, Gp_unreg"
   ]
  },
  {
   "cell_type": "markdown",
   "metadata": {},
   "source": [
    "### Import mRNA moments\n",
    "Let's import the solutions we obtained for the mRNA moments that are saved in a `pickle` object."
   ]
  },
  {
   "cell_type": "code",
   "execution_count": 31,
   "metadata": {},
   "outputs": [
    {
     "data": {
      "image/png": "[encoded data removed]",
      "text/latex": [
       "$$\\left ( \\left \\{ {\\langle m_{E_{unreg}}^1\\rangle} : \\frac{r_{m} {\\langle m_{P_{unreg}}^0\\rangle} {k_{off}^p}}{\\gamma_{m} \\left(\\gamma_{m} + {k_{off}^p} + {k_{on}^p}\\right)}, \\quad {\\langle m_{P_{unreg}}^1\\rangle} : \\frac{r_{m} {\\langle m_{P_{unreg}}^0\\rangle} \\left(\\gamma_{m} + {k_{on}^p}\\right)}{\\gamma_{m} \\left(\\gamma_{m} + {k_{off}^p} + {k_{on}^p}\\right)}\\right \\}, \\quad \\left \\{ {\\langle m_{E_{unreg}}^2\\rangle} : - \\frac{\\gamma_{m} {\\langle m_{E_{unreg}}^1\\rangle} \\left(2 \\gamma_{m} + {k_{off}^p}\\right) + {k_{off}^p} \\left(r_{m} {\\langle m_{P_{unreg}}^0\\rangle} + {\\langle m_{P_{unreg}}^1\\rangle} \\left(\\gamma_{m} + 2 r_{m}\\right)\\right)}{{k_{off}^p} {k_{on}^p} - \\left(2 \\gamma_{m} + {k_{off}^p}\\right) \\left(2 \\gamma_{m} + {k_{on}^p}\\right)}, \\quad {\\langle m_{P_{unreg}}^2\\rangle} : - \\frac{\\gamma_{m} {\\langle m_{E_{unreg}}^1\\rangle} {k_{on}^p} + \\left(2 \\gamma_{m} + {k_{on}^p}\\right) \\left(r_{m} {\\langle m_{P_{unreg}}^0\\rangle} + {\\langle m_{P_{unreg}}^1\\rangle} \\left(\\gamma_{m} + 2 r_{m}\\right)\\right)}{{k_{off}^p} {k_{on}^p} - \\left(2 \\gamma_{m} + {k_{off}^p}\\right) \\left(2 \\gamma_{m} + {k_{on}^p}\\right)}\\right \\}\\right )$$"
      ],
      "text/plain": [
       "⎛⎧                                   rₘ⋅{\\langle m_{P_{unreg}}__0\\rangle}⋅{k_{\n",
       "⎜⎨{\\langle m_{E_{unreg}}__1\\rangle}: ─────────────────────────────────────────\n",
       "⎝⎩                                          γₘ⋅(γₘ + {k_{off}__p} + {k_{on}__p\n",
       "\n",
       "off}__p}                                     rₘ⋅{\\langle m_{P_{unreg}}__0\\rang\n",
       "────────, {\\langle m_{P_{unreg}}__1\\rangle}: ─────────────────────────────────\n",
       "})                                                     γₘ⋅(γₘ + {k_{off}__p} +\n",
       "\n",
       "le}⋅(γₘ + {k_{on}__p})⎫  ⎧                                   -(γₘ⋅{\\langle m_{\n",
       "──────────────────────⎬, ⎨{\\langle m_{E_{unreg}}__2\\rangle}: ─────────────────\n",
       " {k_{on}__p})         ⎭  ⎩                                                    \n",
       "\n",
       "E_{unreg}}__1\\rangle}⋅(2⋅γₘ + {k_{off}__p}) + {k_{off}__p}⋅(rₘ⋅{\\langle m_{P_{\n",
       "──────────────────────────────────────────────────────────────────────────────\n",
       "                              {k_{off}__p}⋅{k_{on}__p} - (2⋅γₘ + {k_{off}__p})\n",
       "\n",
       "unreg}}__0\\rangle} + {\\langle m_{P_{unreg}}__1\\rangle}⋅(γₘ + 2⋅rₘ)))          \n",
       "─────────────────────────────────────────────────────────────────────, {\\langl\n",
       "⋅(2⋅γₘ + {k_{on}__p})                                                         \n",
       "\n",
       "                            -(γₘ⋅{\\langle m_{E_{unreg}}__1\\rangle}⋅{k_{on}__p}\n",
       "e m_{P_{unreg}}__2\\rangle}: ──────────────────────────────────────────────────\n",
       "                                                                          {k_{\n",
       "\n",
       " + (2⋅γₘ + {k_{on}__p})⋅(rₘ⋅{\\langle m_{P_{unreg}}__0\\rangle} + {\\langle m_{P_\n",
       "──────────────────────────────────────────────────────────────────────────────\n",
       "off}__p}⋅{k_{on}__p} - (2⋅γₘ + {k_{off}__p})⋅(2⋅γₘ + {k_{on}__p})             \n",
       "\n",
       "{unreg}}__1\\rangle}⋅(γₘ + 2⋅rₘ))) ⎫⎞\n",
       "──────────────────────────────────⎬⎟\n",
       "                                  ⎭⎠"
      ]
     },
     "execution_count": 31,
     "metadata": {},
     "output_type": "execute_result"
    }
   ],
   "source": [
    "with open(tmpdir + 'two_state_mRNA_moments.pkl', 'rb') as file:\n",
    "    first_sol_unreg_m = pickle.load(file)\n",
    "    second_sol_unreg_m = pickle.load(file)\n",
    "    third_sol_unreg_m = pickle.load(file)\n",
    "\n",
    "first_sol_unreg_m, second_sol_unreg_m"
   ]
  },
  {
   "cell_type": "markdown",
   "metadata": {},
   "source": [
    "### Zeroth moment two-state promoter\n",
    "In order to solve for the two-state promoter we have two equations to use\n",
    "$$\n",
    "1 = \\mathbf{u} \\cdot \\left\\langle \\mathbf{m}^0 \\right\\rangle,\n",
    "$$\n",
    "where $u = (1, 1)$ and $\\left\\langle \\mathbf{m}^0 \\right\\rangle$ is the vector containing all the states, and\n",
    "$$\n",
    "\\mathbf{0} = \\mathbf{K}^u_m \\left\\langle \\mathbf{m}^0 \\right\\rangle.\n",
    "$$\n",
    "\n",
    "We will use the linear algebra solver where we write an extended matrix with the last column being the right hand side of these equations.\n",
    "\n",
    "Let's now define this extended matrix."
   ]
  },
  {
   "cell_type": "code",
   "execution_count": 32,
   "metadata": {},
   "outputs": [
    {
     "data": {
      "image/png": "[encoded data removed]",
      "text/latex": [
       "$$\\left[\\begin{matrix}1 & 1 & 1\\\\- {k_{off}^p} & {k_{on}^p} & 0\\\\{k_{off}^p} & - {k_{on}^p} & 0\\end{matrix}\\right]$$"
      ],
      "text/plain": [
       "⎡      1             1        1⎤\n",
       "⎢                              ⎥\n",
       "⎢-{k_{off}__p}  {k_{on}__p}   0⎥\n",
       "⎢                              ⎥\n",
       "⎣{k_{off}__p}   -{k_{on}__p}  0⎦"
      ]
     },
     "execution_count": 32,
     "metadata": {},
     "output_type": "execute_result"
    }
   ],
   "source": [
    "# Add the extra row for the normalization constraint\n",
    "K_sys_unreg = Km_unreg.row_insert(0, sympy.Matrix([1, 1]).transpose())\n",
    "\n",
    "# Define right-side array\n",
    "b = sympy.Matrix([1, 0, 0])\n",
    "\n",
    "# Define augmented matrix\n",
    "zero_aug_unreg = K_sys_unreg.col_insert(2, b)\n",
    "zero_aug_unreg"
   ]
  },
  {
   "cell_type": "markdown",
   "metadata": {},
   "source": [
    "Now we solve the equation for the two state moments."
   ]
  },
  {
   "cell_type": "code",
   "execution_count": 33,
   "metadata": {},
   "outputs": [
    {
     "data": {
      "image/png": "[encoded data removed]",
      "text/latex": [
       "$$\\left \\{ {\\langle m_{E_{unreg}}^0\\rangle} : \\frac{{k_{off}^p}}{{k_{off}^p} + {k_{on}^p}}, \\quad {\\langle m_{P_{unreg}}^0\\rangle} : \\frac{{k_{on}^p}}{{k_{off}^p} + {k_{on}^p}}\\right \\}$$"
      ],
      "text/plain": [
       "⎧                                          {k_{off}__p}                       \n",
       "⎨{\\langle m_{E_{unreg}}__0\\rangle}: ──────────────────────────, {\\langle m_{P_\n",
       "⎩                                   {k_{off}__p} + {k_{on}__p}                \n",
       "\n",
       "                            {k_{on}__p}        ⎫\n",
       "{unreg}}__0\\rangle}: ──────────────────────────⎬\n",
       "                     {k_{off}__p} + {k_{on}__p}⎭"
      ]
     },
     "execution_count": 33,
     "metadata": {},
     "output_type": "execute_result"
    }
   ],
   "source": [
    "# Solve linear system for the three zeroth moments\n",
    "zero_sol_unreg = sympy.solve_linear_system(zero_aug_unreg, *m0_unreg)\n",
    "zero_sol_unreg"
   ]
  },
  {
   "cell_type": "markdown",
   "metadata": {},
   "source": [
    "### First moment two-state promoter (protein)\n",
    "\n",
    "Now that we have the zeroth moment that indicates the probability of being on either state let's now compute the first moment. For this we have the matrix equation\n",
    "$$\n",
    "\\mathbf{0} = \\left( \\mathbf{K}^u - \\mathbf{\\Gamma}^u_p  \\right)\n",
    "             + \\mathbf{R}^u_p \\left\\langle \\mathbf{m} \\right\\rangle.\n",
    "$$\n",
    "\n",
    "Let's write this system in the form of the augmented matrix."
   ]
  },
  {
   "cell_type": "code",
   "execution_count": 34,
   "metadata": {},
   "outputs": [
    {
     "data": {
      "image/png": "[encoded data removed]",
      "text/latex": [
       "$$\\left[\\begin{matrix}- \\gamma_{p} - {k_{off}^p} & {k_{on}^p} & - r_{p} {\\langle m_{P_{unreg}}^1\\rangle}\\\\{k_{off}^p} & - \\gamma_{p} - {k_{on}^p} & - r_{p} {\\langle m_{E_{unreg}}^1\\rangle}\\end{matrix}\\right]$$"
      ],
      "text/plain": [
       "⎡-γₚ - {k_{off}__p}     {k_{on}__p}     -rₚ⋅{\\langle m_{P_{unreg}}__1\\rangle}⎤\n",
       "⎢                                                                            ⎥\n",
       "⎣   {k_{off}__p}     -γₚ - {k_{on}__p}  -rₚ⋅{\\langle m_{E_{unreg}}__1\\rangle}⎦"
      ]
     },
     "execution_count": 34,
     "metadata": {},
     "output_type": "execute_result"
    }
   ],
   "source": [
    "# Define augmented matrix for first moment\n",
    "first_aug_unreg = (Km_unreg - Gp_unreg).col_insert(2, \n",
    "                                            -Rp_unreg * sympy.Matrix(m1_unreg))\n",
    "first_aug_unreg"
   ]
  },
  {
   "cell_type": "markdown",
   "metadata": {},
   "source": [
    "And again we use the `sympy` solver to solve for the first moments"
   ]
  },
  {
   "cell_type": "code",
   "execution_count": 35,
   "metadata": {},
   "outputs": [
    {
     "data": {
      "image/png": "[encoded data removed]",
      "text/latex": [
       "$$\\left \\{ {\\langle p_{E_{unreg}}^1\\rangle} : \\frac{r_{p} \\left(\\gamma_{p} {\\langle m_{E_{unreg}}^1\\rangle} + {\\langle m_{E_{unreg}}^1\\rangle} {k_{off}^p} + {\\langle m_{P_{unreg}}^1\\rangle} {k_{off}^p}\\right)}{\\gamma_{p} \\left(\\gamma_{p} + {k_{off}^p} + {k_{on}^p}\\right)}, \\quad {\\langle p_{P_{unreg}}^1\\rangle} : \\frac{r_{p} \\left(\\gamma_{p} {\\langle m_{P_{unreg}}^1\\rangle} + {\\langle m_{E_{unreg}}^1\\rangle} {k_{on}^p} + {\\langle m_{P_{unreg}}^1\\rangle} {k_{on}^p}\\right)}{\\gamma_{p} \\left(\\gamma_{p} + {k_{off}^p} + {k_{on}^p}\\right)}\\right \\}$$"
      ],
      "text/plain": [
       "⎧                                   rₚ⋅(γₚ⋅{\\langle m_{E_{unreg}}__1\\rangle} +\n",
       "⎨{\\langle p_{E_{unreg}}__1\\rangle}: ──────────────────────────────────────────\n",
       "⎩                                                                             \n",
       "\n",
       " {\\langle m_{E_{unreg}}__1\\rangle}⋅{k_{off}__p} + {\\langle m_{P_{unreg}}__1\\ra\n",
       "──────────────────────────────────────────────────────────────────────────────\n",
       "          γₚ⋅(γₚ + {k_{off}__p} + {k_{on}__p})                                \n",
       "\n",
       "ngle}⋅{k_{off}__p})                                     rₚ⋅(γₚ⋅{\\langle m_{P_{\n",
       "───────────────────, {\\langle p_{P_{unreg}}__1\\rangle}: ──────────────────────\n",
       "                                                                              \n",
       "\n",
       "unreg}}__1\\rangle} + {\\langle m_{E_{unreg}}__1\\rangle}⋅{k_{on}__p} + {\\langle \n",
       "──────────────────────────────────────────────────────────────────────────────\n",
       "                             γₚ⋅(γₚ + {k_{off}__p} + {k_{on}__p})             \n",
       "\n",
       "m_{P_{unreg}}__1\\rangle}⋅{k_{on}__p})⎫\n",
       "─────────────────────────────────────⎬\n",
       "                                     ⎭"
      ]
     },
     "execution_count": 35,
     "metadata": {},
     "output_type": "execute_result"
    }
   ],
   "source": [
    "# Solve linear system for the first protein moments\n",
    "first_sol_unreg = sympy.solve_linear_system(first_aug_unreg, *p1_unreg)\n",
    "first_sol_unreg"
   ]
  },
  {
   "cell_type": "markdown",
   "metadata": {},
   "source": [
    "We now sum both elements and substitute the solution for the zeroth moments"
   ]
  },
  {
   "cell_type": "code",
   "execution_count": 36,
   "metadata": {},
   "outputs": [
    {
     "data": {
      "image/png": "[encoded data removed]",
      "text/latex": [
       "$$\\left ( \\frac{r_{p}}{\\gamma_{p}} \\left({\\langle m_{E_{unreg}}^1\\rangle} + {\\langle m_{P_{unreg}}^1\\rangle}\\right), \\quad \\frac{r_{m} r_{p} {k_{on}^p}}{\\gamma_{m} \\gamma_{p} \\left({k_{off}^p} + {k_{on}^p}\\right)}\\right )$$"
      ],
      "text/plain": [
       "⎛rₚ⋅({\\langle m_{E_{unreg}}__1\\rangle} + {\\langle m_{P_{unreg}}__1\\rangle})   \n",
       "⎜──────────────────────────────────────────────────────────────────────────, ─\n",
       "⎝                                    γₚ                                      γ\n",
       "\n",
       "       rₘ⋅rₚ⋅{k_{on}__p}         ⎞\n",
       "─────────────────────────────────⎟\n",
       "ₘ⋅γₚ⋅({k_{off}__p} + {k_{on}__p})⎠"
      ]
     },
     "execution_count": 36,
     "metadata": {},
     "output_type": "execute_result"
    }
   ],
   "source": [
    "first_unreg = sum(first_sol_unreg.values()).simplify()\n",
    "first_unreg_s = first_unreg.subs(first_sol_unreg_m).subs(zero_sol_unreg).simplify()\n",
    "first_unreg, first_unreg_s"
   ]
  },
  {
   "cell_type": "markdown",
   "metadata": {},
   "source": [
    "### mRNA protein correlation two-state promoter\n",
    "\n",
    "The computation of the second moment $\\left\\langle \\mathbf{p}^2 \\right\\rangle$ depends on the correlation $\\left\\langle \\mathbf{mp} \\right\\rangle$. To compute this correlation we have the equation\n",
    "$$\n",
    "\\mathbf{0} = \\left( \\mathbf{K}^u - \\mathbf{\\Gamma}^u_m -  \\mathbf{\\Gamma}^u_p  \\right)\n",
    "             \\left\\langle \\mathbf{mp} \\right\\rangle \n",
    "             + \\mathbf{R}^u_m \\left\\langle \\mathbf{p} \\right\\rangle\n",
    "             + \\mathbf{R}^u_p \\left\\langle \\mathbf{m}^2 \\right\\rangle\n",
    "$$\n",
    "Let's define this augmented matrix."
   ]
  },
  {
   "cell_type": "code",
   "execution_count": 43,
   "metadata": {},
   "outputs": [
    {
     "data": {
      "image/png": "[encoded data removed]",
      "text/latex": [
       "$$\\left [ {\\langle mp_{P_{unreg}}\\rangle}, \\quad {\\langle mp_{E_{unreg}}\\rangle}\\right ]$$"
      ],
      "text/plain": [
       "[{\\langle mp_{P_{unreg}}\\rangle}, {\\langle mp_{E_{unreg}}\\rangle}]"
      ]
     },
     "execution_count": 43,
     "metadata": {},
     "output_type": "execute_result"
    }
   ],
   "source": [
    "# Define the string for the states\n",
    "corr_unreg = ['mp_{P_{unreg}}', 'mp_{E_{unreg}}']\n",
    "\n",
    "# Define the zeroth moments\n",
    "mp_unreg = [moment_sympy(x, None) for x in corr_unreg]\n",
    "mp_unreg"
   ]
  },
  {
   "cell_type": "code",
   "execution_count": 44,
   "metadata": {},
   "outputs": [
    {
     "data": {
      "image/png": "[encoded data removed]",
      "text/latex": [
       "$$\\left[\\begin{matrix}- \\gamma_{m} - \\gamma_{p} - {k_{off}^p} & {k_{on}^p} & r_{m} {\\langle p_{P_{unreg}}^1\\rangle} + r_{p} {\\langle m_{P_{unreg}}^2\\rangle}\\\\{k_{off}^p} & - \\gamma_{m} - \\gamma_{p} - {k_{on}^p} & r_{p} {\\langle m_{E_{unreg}}^2\\rangle}\\end{matrix}\\right]$$"
      ],
      "text/plain": [
       "⎡-γₘ - γₚ - {k_{off}__p}       {k_{on}__p}        rₘ⋅{\\langle p_{P_{unreg}}__1\n",
       "⎢                                                                             \n",
       "⎣     {k_{off}__p}        -γₘ - γₚ - {k_{on}__p}                     rₚ⋅{\\lang\n",
       "\n",
       "\\rangle} + rₚ⋅{\\langle m_{P_{unreg}}__2\\rangle}⎤\n",
       "                                               ⎥\n",
       "le m_{E_{unreg}}__2\\rangle}                    ⎦"
      ]
     },
     "execution_count": 44,
     "metadata": {},
     "output_type": "execute_result"
    }
   ],
   "source": [
    "# define augmented matrix for correlation\n",
    "corr_aug_unreg = (Km_unreg - Gm_unreg - Gp_unreg).col_insert(2,\n",
    "                  Rm_unreg * sympy.Matrix(p1_unreg)\\\n",
    "                  + Rp_unreg * sympy.Matrix(m2_unreg))\n",
    "corr_aug_unreg"
   ]
  },
  {
   "cell_type": "code",
   "execution_count": 45,
   "metadata": {},
   "outputs": [
    {
     "data": {
      "image/png": "[encoded data removed]",
      "text/latex": [
       "$$\\left \\{ {\\langle mp_{E_{unreg}}\\rangle} : \\frac{r_{p} {\\langle m_{E_{unreg}}^2\\rangle} \\left(\\gamma_{m} + \\gamma_{p} + {k_{off}^p}\\right) + {k_{off}^p} \\left(r_{m} {\\langle p_{P_{unreg}}^1\\rangle} + r_{p} {\\langle m_{P_{unreg}}^2\\rangle}\\right)}{{k_{off}^p} {k_{on}^p} - \\left(\\gamma_{m} + \\gamma_{p} + {k_{off}^p}\\right) \\left(\\gamma_{m} + \\gamma_{p} + {k_{on}^p}\\right)}, \\quad {\\langle mp_{P_{unreg}}\\rangle} : \\frac{r_{p} {\\langle m_{E_{unreg}}^2\\rangle} {k_{on}^p} + \\left(r_{m} {\\langle p_{P_{unreg}}^1\\rangle} + r_{p} {\\langle m_{P_{unreg}}^2\\rangle}\\right) \\left(\\gamma_{m} + \\gamma_{p} + {k_{on}^p}\\right)}{{k_{off}^p} {k_{on}^p} - \\left(\\gamma_{m} + \\gamma_{p} + {k_{off}^p}\\right) \\left(\\gamma_{m} + \\gamma_{p} + {k_{on}^p}\\right)}\\right \\}$$"
      ],
      "text/plain": [
       "⎧                                 rₚ⋅{\\langle m_{E_{unreg}}__2\\rangle}⋅(γₘ + γ\n",
       "⎨{\\langle mp_{E_{unreg}}\\rangle}: ────────────────────────────────────────────\n",
       "⎩                                                                        {k_{o\n",
       "\n",
       "ₚ + {k_{off}__p}) + {k_{off}__p}⋅(rₘ⋅{\\langle p_{P_{unreg}}__1\\rangle} + rₚ⋅{\\\n",
       "──────────────────────────────────────────────────────────────────────────────\n",
       "ff}__p}⋅{k_{on}__p} - (γₘ + γₚ + {k_{off}__p})⋅(γₘ + γₚ + {k_{on}__p})        \n",
       "\n",
       "langle m_{P_{unreg}}__2\\rangle})                                   rₚ⋅{\\langle\n",
       "────────────────────────────────, {\\langle mp_{P_{unreg}}\\rangle}: ───────────\n",
       "                                                                              \n",
       "\n",
       " m_{E_{unreg}}__2\\rangle}⋅{k_{on}__p} + (rₘ⋅{\\langle p_{P_{unreg}}__1\\rangle} \n",
       "──────────────────────────────────────────────────────────────────────────────\n",
       "                           {k_{off}__p}⋅{k_{on}__p} - (γₘ + γₚ + {k_{off}__p})\n",
       "\n",
       "+ rₚ⋅{\\langle m_{P_{unreg}}__2\\rangle})⋅(γₘ + γₚ + {k_{on}__p})⎫\n",
       "───────────────────────────────────────────────────────────────⎬\n",
       "⋅(γₘ + γₚ + {k_{on}__p})                                       ⎭"
      ]
     },
     "execution_count": 45,
     "metadata": {},
     "output_type": "execute_result"
    }
   ],
   "source": [
    "# Solve linear system for the three moments\n",
    "corr_sol_unreg = sympy.solve_linear_system(corr_aug_unreg, *mp_unreg)\n",
    "corr_sol_unreg"
   ]
  },
  {
   "cell_type": "markdown",
   "metadata": {},
   "source": [
    "The sum of these terms gives the correlation we are looking for."
   ]
  },
  {
   "cell_type": "code",
   "execution_count": 58,
   "metadata": {},
   "outputs": [
    {
     "data": {
      "image/png": "[encoded data removed]",
      "text/latex": [
       "$$\\left ( - \\frac{1}{\\gamma_{m} + \\gamma_{p}} \\left(r_{m} {\\langle p_{P_{unreg}}^1\\rangle} + r_{p} \\left({\\langle m_{E_{unreg}}^2\\rangle} + {\\langle m_{P_{unreg}}^2\\rangle}\\right)\\right), \\quad - \\frac{r_{p} \\left(\\gamma_{m} \\gamma_{p} \\left({\\langle m_{E_{unreg}}^2\\rangle} + {\\langle m_{P_{unreg}}^2\\rangle}\\right) \\left({k_{off}^p} + {k_{on}^p}\\right) \\left(\\gamma_{m} + {k_{off}^p} + {k_{on}^p}\\right) \\left(\\gamma_{p} + {k_{off}^p} + {k_{on}^p}\\right) + r_{m}^{2} {k_{on}^p} \\left(\\gamma_{p} \\left(\\gamma_{m} + {k_{on}^p}\\right) + {k_{off}^p} {k_{on}^p} + {k_{on}^p} \\left(\\gamma_{m} + {k_{on}^p}\\right)\\right)\\right)}{\\gamma_{m} \\gamma_{p} \\left(\\gamma_{m} + \\gamma_{p}\\right) \\left({k_{off}^p} + {k_{on}^p}\\right) \\left(\\gamma_{m} + {k_{off}^p} + {k_{on}^p}\\right) \\left(\\gamma_{p} + {k_{off}^p} + {k_{on}^p}\\right)}\\right )$$"
      ],
      "text/plain": [
       "⎛                                                                             \n",
       "⎜-(rₘ⋅{\\langle p_{P_{unreg}}__1\\rangle} + rₚ⋅({\\langle m_{E_{unreg}}__2\\rangle\n",
       "⎜─────────────────────────────────────────────────────────────────────────────\n",
       "⎝                                                       γₘ + γₚ               \n",
       "\n",
       "                                              ⎛                               \n",
       "} + {\\langle m_{P_{unreg}}__2\\rangle}))   -rₚ⋅⎝γₘ⋅γₚ⋅({\\langle m_{E_{unreg}}__\n",
       "────────────────────────────────────────, ────────────────────────────────────\n",
       "                                                                              \n",
       "\n",
       "                                                                              \n",
       "2\\rangle} + {\\langle m_{P_{unreg}}__2\\rangle})⋅({k_{off}__p} + {k_{on}__p})⋅(γ\n",
       "──────────────────────────────────────────────────────────────────────────────\n",
       "                                                  γₘ⋅γₚ⋅(γₘ + γₚ)⋅({k_{off}__p\n",
       "\n",
       "                                                                      2       \n",
       "ₘ + {k_{off}__p} + {k_{on}__p})⋅(γₚ + {k_{off}__p} + {k_{on}__p}) + rₘ ⋅{k_{on\n",
       "──────────────────────────────────────────────────────────────────────────────\n",
       "} + {k_{on}__p})⋅(γₘ + {k_{off}__p} + {k_{on}__p})⋅(γₚ + {k_{off}__p} + {k_{on\n",
       "\n",
       "                                                                              \n",
       "}__p}⋅(γₚ⋅(γₘ + {k_{on}__p}) + {k_{off}__p}⋅{k_{on}__p} + {k_{on}__p}⋅(γₘ + {k\n",
       "──────────────────────────────────────────────────────────────────────────────\n",
       "}__p})                                                                        \n",
       "\n",
       "           ⎞ ⎞\n",
       "_{on}__p}))⎠ ⎟\n",
       "─────────────⎟\n",
       "             ⎠"
      ]
     },
     "execution_count": 58,
     "metadata": {},
     "output_type": "execute_result"
    }
   ],
   "source": [
    "corr_unreg = sum(corr_sol_unreg.values()).simplify()\n",
    "corr_unreg_s = corr_unreg.subs(first_sol_unreg).subs(first_sol_unreg_m).\\\n",
    "               subs(zero_sol_unreg)\n",
    "\n",
    "corr_unreg.collect(rp), corr_unreg_s.simplify()"
   ]
  },
  {
   "cell_type": "markdown",
   "metadata": {},
   "source": [
    "This is the same result I obtained by hand for the one-state promoter!"
   ]
  },
  {
   "cell_type": "markdown",
   "metadata": {},
   "source": [
    "### Second moment two-state promoter\n",
    "\n",
    "For the second moment we have an equation of the form\n",
    "$$\n",
    "\\mathbf{0} = \\left( \\mathbf{K}^u - 2 \\mathbf{\\Gamma}^u_p \\right) \n",
    "             \\left\\langle \\mathbf{p}^2 \\right\\rangle\n",
    "             + \\mathbf{\\Gamma}^u_p \\left\\langle \\mathbf{p} \\right\\rangle\n",
    "             + \\mathbf{R}^u_p \\mm\n",
    "             + 2 \\mathbf{R}^u_p \\left\\langle \\mathbf{mp} \\right\\rangle\n",
    "$$\n",
    "\n",
    "Let's again define this augmented matrix."
   ]
  },
  {
   "cell_type": "code",
   "execution_count": 53,
   "metadata": {},
   "outputs": [
    {
     "data": {
      "image/png": "[encoded data removed]",
      "text/latex": [
       "$$\\left[\\begin{matrix}- 2 \\gamma_{p} - {k_{off}^p} & {k_{on}^p} & - \\gamma_{p} {\\langle p_{P_{unreg}}^1\\rangle} - r_{p} {\\langle m_{P_{unreg}}^1\\rangle} - 2 r_{p} {\\langle mp_{P_{unreg}}\\rangle}\\\\{k_{off}^p} & - 2 \\gamma_{p} - {k_{on}^p} & - \\gamma_{p} {\\langle p_{E_{unreg}}^1\\rangle} - r_{p} {\\langle m_{E_{unreg}}^1\\rangle} - 2 r_{p} {\\langle mp_{E_{unreg}}\\rangle}\\end{matrix}\\right]$$"
      ],
      "text/plain": [
       "⎡-2⋅γₚ - {k_{off}__p}      {k_{on}__p}      -γₚ⋅{\\langle p_{P_{unreg}}__1\\rang\n",
       "⎢                                                                             \n",
       "⎣    {k_{off}__p}      -2⋅γₚ - {k_{on}__p}  -γₚ⋅{\\langle p_{E_{unreg}}__1\\rang\n",
       "\n",
       "le} - rₚ⋅{\\langle m_{P_{unreg}}__1\\rangle} - 2⋅rₚ⋅{\\langle mp_{P_{unreg}}\\rang\n",
       "                                                                              \n",
       "le} - rₚ⋅{\\langle m_{E_{unreg}}__1\\rangle} - 2⋅rₚ⋅{\\langle mp_{E_{unreg}}\\rang\n",
       "\n",
       "le}⎤\n",
       "   ⎥\n",
       "le}⎦"
      ]
     },
     "execution_count": 53,
     "metadata": {},
     "output_type": "execute_result"
    }
   ],
   "source": [
    "# Define augmented matrix for second moment\n",
    "second_aug_unreg = (Km_unreg - 2 * Gp_unreg).col_insert(2, \n",
    "                    - Gp_unreg * sympy.Matrix(p1_unreg)\\\n",
    "                    - Rp_unreg * sympy.Matrix(m1_unreg)\\\n",
    "                    - 2 * Rp_unreg * sympy.Matrix(mp_unreg))\n",
    "second_aug_unreg"
   ]
  },
  {
   "cell_type": "code",
   "execution_count": 54,
   "metadata": {},
   "outputs": [
    {
     "data": {
      "image/png": "[encoded data removed]",
      "text/latex": [
       "$$\\left \\{ {\\langle p_{E_{unreg}}^2\\rangle} : - \\frac{1}{{k_{off}^p} {k_{on}^p} - \\left(2 \\gamma_{p} + {k_{off}^p}\\right) \\left(2 \\gamma_{p} + {k_{on}^p}\\right)} \\left({k_{off}^p} \\left(\\gamma_{p} {\\langle p_{P_{unreg}}^1\\rangle} + r_{p} {\\langle m_{P_{unreg}}^1\\rangle} + 2 r_{p} {\\langle mp_{P_{unreg}}\\rangle}\\right) + \\left(2 \\gamma_{p} + {k_{off}^p}\\right) \\left(\\gamma_{p} {\\langle p_{E_{unreg}}^1\\rangle} + r_{p} {\\langle m_{E_{unreg}}^1\\rangle} + 2 r_{p} {\\langle mp_{E_{unreg}}\\rangle}\\right)\\right), \\quad {\\langle p_{P_{unreg}}^2\\rangle} : - \\frac{1}{{k_{off}^p} {k_{on}^p} - \\left(2 \\gamma_{p} + {k_{off}^p}\\right) \\left(2 \\gamma_{p} + {k_{on}^p}\\right)} \\left({k_{on}^p} \\left(\\gamma_{p} {\\langle p_{E_{unreg}}^1\\rangle} + r_{p} {\\langle m_{E_{unreg}}^1\\rangle} + 2 r_{p} {\\langle mp_{E_{unreg}}\\rangle}\\right) + \\left(2 \\gamma_{p} + {k_{on}^p}\\right) \\left(\\gamma_{p} {\\langle p_{P_{unreg}}^1\\rangle} + r_{p} {\\langle m_{P_{unreg}}^1\\rangle} + 2 r_{p} {\\langle mp_{P_{unreg}}\\rangle}\\right)\\right)\\right \\}$$"
      ],
      "text/plain": [
       "⎧                                   -({k_{off}__p}⋅(γₚ⋅{\\langle p_{P_{unreg}}_\n",
       "⎨{\\langle p_{E_{unreg}}__2\\rangle}: ──────────────────────────────────────────\n",
       "⎩                                                                             \n",
       "\n",
       "_1\\rangle} + rₚ⋅{\\langle m_{P_{unreg}}__1\\rangle} + 2⋅rₚ⋅{\\langle mp_{P_{unreg\n",
       "──────────────────────────────────────────────────────────────────────────────\n",
       "                                                            {k_{off}__p}⋅{k_{o\n",
       "\n",
       "}}\\rangle}) + (2⋅γₚ + {k_{off}__p})⋅(γₚ⋅{\\langle p_{E_{unreg}}__1\\rangle} + rₚ\n",
       "──────────────────────────────────────────────────────────────────────────────\n",
       "n}__p} - (2⋅γₚ + {k_{off}__p})⋅(2⋅γₚ + {k_{on}__p})                           \n",
       "\n",
       "⋅{\\langle m_{E_{unreg}}__1\\rangle} + 2⋅rₚ⋅{\\langle mp_{E_{unreg}}\\rangle}))   \n",
       "────────────────────────────────────────────────────────────────────────────, \n",
       "                                                                              \n",
       "\n",
       "                                   -({k_{on}__p}⋅(γₚ⋅{\\langle p_{E_{unreg}}__1\n",
       "{\\langle p_{P_{unreg}}__2\\rangle}: ───────────────────────────────────────────\n",
       "                                                                              \n",
       "\n",
       "\\rangle} + rₚ⋅{\\langle m_{E_{unreg}}__1\\rangle} + 2⋅rₚ⋅{\\langle mp_{E_{unreg}}\n",
       "──────────────────────────────────────────────────────────────────────────────\n",
       "                                                          {k_{off}__p}⋅{k_{on}\n",
       "\n",
       "\\rangle}) + (2⋅γₚ + {k_{on}__p})⋅(γₚ⋅{\\langle p_{P_{unreg}}__1\\rangle} + rₚ⋅{\\\n",
       "──────────────────────────────────────────────────────────────────────────────\n",
       "__p} - (2⋅γₚ + {k_{off}__p})⋅(2⋅γₚ + {k_{on}__p})                             \n",
       "\n",
       "langle m_{P_{unreg}}__1\\rangle} + 2⋅rₚ⋅{\\langle mp_{P_{unreg}}\\rangle})) ⎫\n",
       "─────────────────────────────────────────────────────────────────────────⎬\n",
       "                                                                         ⎭"
      ]
     },
     "execution_count": 54,
     "metadata": {},
     "output_type": "execute_result"
    }
   ],
   "source": [
    "# Solve linear system for the three moments\n",
    "second_sol_unreg = sympy.solve_linear_system(second_aug_unreg, *p2_unreg)\n",
    "second_sol_unreg"
   ]
  },
  {
   "cell_type": "markdown",
   "metadata": {},
   "source": [
    "Again let's add both of these moments to obtain the global second moment."
   ]
  },
  {
   "cell_type": "code",
   "execution_count": 73,
   "metadata": {},
   "outputs": [
    {
     "data": {
      "image/png": "[encoded data removed]",
      "text/latex": [
       "$$\\frac{1}{2 \\gamma_{p}} \\left(\\gamma_{p} \\left({\\langle p_{E_{unreg}}^1\\rangle} + {\\langle p_{P_{unreg}}^1\\rangle}\\right) + r_{p} \\left({\\langle m_{E_{unreg}}^1\\rangle} + {\\langle m_{P_{unreg}}^1\\rangle} + 2 {\\langle mp_{E_{unreg}}\\rangle} + 2 {\\langle mp_{P_{unreg}}\\rangle}\\right)\\right)$$"
      ],
      "text/plain": [
       "γₚ⋅({\\langle p_{E_{unreg}}__1\\rangle} + {\\langle p_{P_{unreg}}__1\\rangle}) + r\n",
       "──────────────────────────────────────────────────────────────────────────────\n",
       "                                                                              \n",
       "\n",
       "ₚ⋅({\\langle m_{E_{unreg}}__1\\rangle} + {\\langle m_{P_{unreg}}__1\\rangle} + 2⋅{\n",
       "──────────────────────────────────────────────────────────────────────────────\n",
       "                                2⋅γₚ                                          \n",
       "\n",
       "\\langle mp_{E_{unreg}}\\rangle} + 2⋅{\\langle mp_{P_{unreg}}\\rangle})\n",
       "───────────────────────────────────────────────────────────────────\n",
       "                                                                   "
      ]
     },
     "execution_count": 73,
     "metadata": {},
     "output_type": "execute_result"
    }
   ],
   "source": [
    "second_unreg = sum(second_sol_unreg.values()).simplify()\n",
    "second_unreg_s = second_unreg.subs(corr_sol_unreg).subs(first_sol_unreg).\\\n",
    "                 subs(second_sol_unreg_m).subs(first_sol_unreg_m).\\\n",
    "                 subs(zero_sol_unreg)\n",
    "second_unreg.collect(gp).collect(rp)"
   ]
  },
  {
   "cell_type": "markdown",
   "metadata": {},
   "source": [
    "### Noise $\\eta$ and fano-factor\n",
    "\n",
    "Having the first and second moment"
   ]
  },
  {
   "cell_type": "code",
   "execution_count": 76,
   "metadata": {},
   "outputs": [
    {
     "data": {
      "image/png": "[encoded data removed]",
      "text/latex": [
       "$$\\frac{{\\langle p_{E_{unreg}}^1\\rangle}}{2} + \\frac{{\\langle p_{P_{unreg}}^1\\rangle}}{2} + \\frac{1}{2 \\gamma_{p}^{2}} \\left(\\gamma_{p} r_{p} {\\langle m_{E_{unreg}}^1\\rangle} + \\gamma_{p} r_{p} {\\langle m_{P_{unreg}}^1\\rangle} + 2 \\gamma_{p} r_{p} {\\langle mp_{E_{unreg}}\\rangle} + 2 \\gamma_{p} r_{p} {\\langle mp_{P_{unreg}}\\rangle} - 2 r_{p}^{2} {\\langle m_{E_{unreg}}^1\\rangle}^{2} - 4 r_{p}^{2} {\\langle m_{E_{unreg}}^1\\rangle} {\\langle m_{P_{unreg}}^1\\rangle} - 2 r_{p}^{2} {\\langle m_{P_{unreg}}^1\\rangle}^{2}\\right)$$"
      ],
      "text/plain": [
       "                                                                              \n",
       "{\\langle p_{E_{unreg}}__1\\rangle}   {\\langle p_{P_{unreg}}__1\\rangle}   γₚ⋅rₚ⋅\n",
       "───────────────────────────────── + ───────────────────────────────── + ──────\n",
       "                2                                   2                         \n",
       "                                                                              \n",
       "\n",
       "                                                                              \n",
       "{\\langle m_{E_{unreg}}__1\\rangle} + γₚ⋅rₚ⋅{\\langle m_{P_{unreg}}__1\\rangle} + \n",
       "──────────────────────────────────────────────────────────────────────────────\n",
       "                                                                              \n",
       "                                                                              \n",
       "\n",
       "                                                                              \n",
       "2⋅γₚ⋅rₚ⋅{\\langle mp_{E_{unreg}}\\rangle} + 2⋅γₚ⋅rₚ⋅{\\langle mp_{P_{unreg}}\\rang\n",
       "──────────────────────────────────────────────────────────────────────────────\n",
       "                                                                              \n",
       "                                                                             2\n",
       "\n",
       "          2                                  2       2                        \n",
       "le} - 2⋅rₚ ⋅{\\langle m_{E_{unreg}}__1\\rangle}  - 4⋅rₚ ⋅{\\langle m_{E_{unreg}}_\n",
       "──────────────────────────────────────────────────────────────────────────────\n",
       "   2                                                                          \n",
       "⋅γₚ                                                                           \n",
       "\n",
       "                                                   2                          \n",
       "_1\\rangle}⋅{\\langle m_{P_{unreg}}__1\\rangle} - 2⋅rₚ ⋅{\\langle m_{P_{unreg}}__1\n",
       "──────────────────────────────────────────────────────────────────────────────\n",
       "                                                                              \n",
       "                                                                              \n",
       "\n",
       "        2\n",
       "\\rangle} \n",
       "─────────\n",
       "         \n",
       "         "
      ]
     },
     "execution_count": 76,
     "metadata": {},
     "output_type": "execute_result"
    }
   ],
   "source": [
    "# Compute the variance of the unregulated promoter\n",
    "var_unreg = second_unreg - first_unreg**2\n",
    "# var_unreg_s = var_unreg.subs(first_sol_unreg).subs(zero_sol_unreg)\n",
    "var_unreg.ratsimp()#, var_unreg_s.simplify()"
   ]
  },
  {
   "cell_type": "code",
   "execution_count": 104,
   "metadata": {},
   "outputs": [
    {
     "data": {
      "image/png": "[encoded data removed]",
      "text/latex": [
       "$$\\left ( \\frac{1}{2} + \\frac{1}{2 \\gamma_{m} r_{m} {\\langle m_{P_{unreg}}^0\\rangle}} \\left(\\gamma_{m}^{2} {\\langle m_{E_{unreg}}^1\\rangle} + \\gamma_{m}^{2} {\\langle m_{P_{unreg}}^1\\rangle} + 2 \\gamma_{m} r_{m} {\\langle m_{P_{unreg}}^1\\rangle} - 2 r_{m}^{2} {\\langle m_{P_{unreg}}^0\\rangle}^{2}\\right), \\quad \\frac{1}{\\gamma_{m} \\left({k_{off}^p} + {k_{on}^p}\\right) \\left(\\gamma_{m} + {k_{off}^p} + {k_{on}^p}\\right)} \\left(- r_{m} {k_{on}^p} \\left(\\gamma_{m} + {k_{off}^p} + {k_{on}^p}\\right) + \\left({k_{off}^p} + {k_{on}^p}\\right) \\left(\\gamma_{m} \\left(\\gamma_{m} + {k_{off}^p} + {k_{on}^p}\\right) + r_{m} \\left(\\gamma_{m} + {k_{on}^p}\\right)\\right)\\right)\\right )$$"
      ],
      "text/plain": [
       "⎛      2                                       2                              \n",
       "⎜1   γₘ ⋅{\\langle m_{E_{unreg}}__1\\rangle} + γₘ ⋅{\\langle m_{P_{unreg}}__1\\ran\n",
       "⎜─ + ─────────────────────────────────────────────────────────────────────────\n",
       "⎝2                                                                2⋅γₘ⋅rₘ⋅{\\la\n",
       "\n",
       "                                                       2                      \n",
       "gle} + 2⋅γₘ⋅rₘ⋅{\\langle m_{P_{unreg}}__1\\rangle} - 2⋅rₘ ⋅{\\langle m_{P_{unreg}\n",
       "──────────────────────────────────────────────────────────────────────────────\n",
       "ngle m_{P_{unreg}}__0\\rangle}                                                 \n",
       "\n",
       "            2                                                                 \n",
       "}__0\\rangle}   -rₘ⋅{k_{on}__p}⋅(γₘ + {k_{off}__p} + {k_{on}__p}) + ({k_{off}__\n",
       "─────────────, ───────────────────────────────────────────────────────────────\n",
       "                                                      γₘ⋅({k_{off}__p} + {k_{o\n",
       "\n",
       "                                                                              \n",
       "p} + {k_{on}__p})⋅(γₘ⋅(γₘ + {k_{off}__p} + {k_{on}__p}) + rₘ⋅(γₘ + {k_{on}__p}\n",
       "──────────────────────────────────────────────────────────────────────────────\n",
       "n}__p})⋅(γₘ + {k_{off}__p} + {k_{on}__p})                                     \n",
       "\n",
       "  ⎞\n",
       "))⎟\n",
       "──⎟\n",
       "  ⎠"
      ]
     },
     "execution_count": 104,
     "metadata": {},
     "output_type": "execute_result"
    }
   ],
   "source": [
    "# Compute the fano factor of the unregulated promoter\n",
    "fano_unreg = var_unreg / first_unreg\n",
    "fano_unreg_s = fano_unreg.subs(first_sol_unreg).subs(zero_sol_unreg)\n",
    "fano_unreg.ratsimp(), fano_unreg_s.simplify()"
   ]
  },
  {
   "cell_type": "markdown",
   "metadata": {},
   "source": [
    "Let's manually define the fano-factor as reported in PBoC and compare both expressions."
   ]
  },
  {
   "cell_type": "code",
   "execution_count": 18,
   "metadata": {},
   "outputs": [
    {
     "data": {
      "image/png": "[encoded data removed]",
      "text/latex": [
       "$$\\frac{r_{m} {k_{off}^p}}{\\left({k_{off}^p} + {k_{on}^p}\\right) \\left(\\gamma_{m} + {k_{off}^p} + {k_{on}^p}\\right)} + 1$$"
      ],
      "text/plain": [
       "                       rₘ⋅{k_{off}__p}                            \n",
       "────────────────────────────────────────────────────────────── + 1\n",
       "({k_{off}__p} + {k_{on}__p})⋅(γₘ + {k_{off}__p} + {k_{on}__p})    "
      ]
     },
     "execution_count": 18,
     "metadata": {},
     "output_type": "execute_result"
    }
   ],
   "source": [
    "fano_pboc = 1 + kp_off / (kp_off + kp_on) * rm / (kp_off + kp_on + gm)\n",
    "fano_pboc"
   ]
  },
  {
   "cell_type": "code",
   "execution_count": 105,
   "metadata": {},
   "outputs": [
    {
     "data": {
      "text/plain": [
       "True"
      ]
     },
     "execution_count": 105,
     "metadata": {},
     "output_type": "execute_result"
    }
   ],
   "source": [
    "fano_pboc.ratsimp() == fano_unreg_s.ratsimp()"
   ]
  },
  {
   "cell_type": "markdown",
   "metadata": {},
   "source": [
    "### Third moment two-state promoter\n",
    "\n",
    "As an extra derivation we will include the 3rd moment in our calculation. This will be useful to define the equations to compute the parameters. The matrix equation for the 3rd moment is given by\n",
    "$$\n",
    "\\mathbf{0} = \\left( \\mathbf{K}^u_m - 3 \\mathbf{\\Gamma}^u_n \\right) \n",
    "             \\left\\langle \\mathbf{m}^2 \\right\\rangle\n",
    "             + \\left( 3 \\mathbf{R}^u_m + 3 \\mathbf{\\Gamma}^u_m \\right)\n",
    "             \\left\\langle \\mathbf{m}^2 \\right\\rangle\n",
    "             + \\left( 3 \\mathbf{R}^u_m - \\mathbf{\\Gamma}^u_m \\right)\n",
    "             \\left\\langle \\mathbf{m}^1 \\right\\rangle\n",
    "             + \\mathbf{R}^u_m\n",
    "             \\left\\langle \\mathbf{m}^0 \\right\\rangle\n",
    "$$\n",
    "\n",
    "Let's again define this augmented matrix."
   ]
  },
  {
   "cell_type": "code",
   "execution_count": 20,
   "metadata": {},
   "outputs": [
    {
     "data": {
      "image/png": "[encoded data removed]",
      "text/latex": [
       "$$\\left[\\begin{matrix}3 \\gamma_{m} + {k_{off}^p} & - {k_{on}^p} & r_{m} {\\langle m_{P_{unreg}}^0\\rangle} + {\\langle m_{P_{unreg}}^1\\rangle} \\left(- \\gamma_{m} + 3 r_{m}\\right) + {\\langle m_{P_{unreg}}^2\\rangle} \\left(3 \\gamma_{m} + 3 r_{m}\\right)\\\\- {k_{off}^p} & 3 \\gamma_{m} + {k_{on}^p} & - \\gamma_{m} {\\langle m_{E_{unreg}}^1\\rangle} + 3 \\gamma_{m} {\\langle m_{E_{unreg}}^2\\rangle}\\end{matrix}\\right]$$"
      ],
      "text/plain": [
       "⎡3⋅γₘ + {k_{off}__p}     -{k_{on}__p}     rₘ⋅{\\langle m_{P_{unreg}}__0\\rangle}\n",
       "⎢                                                                             \n",
       "⎣   -{k_{off}__p}     3⋅γₘ + {k_{on}__p}                              -γₘ⋅{\\la\n",
       "\n",
       " + {\\langle m_{P_{unreg}}__1\\rangle}⋅(-γₘ + 3⋅rₘ) + {\\langle m_{P_{unreg}}__2\\\n",
       "                                                                              \n",
       "ngle m_{E_{unreg}}__1\\rangle} + 3⋅γₘ⋅{\\langle m_{E_{unreg}}__2\\rangle}        \n",
       "\n",
       "rangle}⋅(3⋅γₘ + 3⋅rₘ)⎤\n",
       "                     ⎥\n",
       "                     ⎦"
      ]
     },
     "execution_count": 20,
     "metadata": {},
     "output_type": "execute_result"
    }
   ],
   "source": [
    "# Define augmented matrix for third moment\n",
    "third_aug_unreg = (3 * Gmat_unreg - Kmat_unreg).col_insert(2, \n",
    "                  (3 * Rmat_unreg + 3 * Gmat_unreg) * sympy.Matrix(m2_unreg)\\\n",
    "                  + (3 * Rmat_unreg - Gmat_unreg) * sympy.Matrix(m1_unreg)\n",
    "                  + Rmat_unreg * sympy.Matrix(m0_unreg))\n",
    "third_aug_unreg"
   ]
  },
  {
   "cell_type": "code",
   "execution_count": 21,
   "metadata": {},
   "outputs": [
    {
     "data": {
      "image/png": "[encoded data removed]",
      "text/latex": [
       "$$\\left \\{ {\\langle m_{E_{unreg}}^3\\rangle} : \\frac{1}{{k_{off}^p} {k_{on}^p} - \\left(3 \\gamma_{m} + {k_{off}^p}\\right) \\left(3 \\gamma_{m} + {k_{on}^p}\\right)} \\left(\\gamma_{m} \\left(3 \\gamma_{m} + {k_{off}^p}\\right) \\left({\\langle m_{E_{unreg}}^1\\rangle} - 3 {\\langle m_{E_{unreg}}^2\\rangle}\\right) - {k_{off}^p} \\left(r_{m} {\\langle m_{P_{unreg}}^0\\rangle} - {\\langle m_{P_{unreg}}^1\\rangle} \\left(\\gamma_{m} - 3 r_{m}\\right) + 3 {\\langle m_{P_{unreg}}^2\\rangle} \\left(\\gamma_{m} + r_{m}\\right)\\right)\\right), \\quad {\\langle m_{P_{unreg}}^3\\rangle} : \\frac{1}{{k_{off}^p} {k_{on}^p} - \\left(3 \\gamma_{m} + {k_{off}^p}\\right) \\left(3 \\gamma_{m} + {k_{on}^p}\\right)} \\left(\\gamma_{m} {k_{on}^p} \\left({\\langle m_{E_{unreg}}^1\\rangle} - 3 {\\langle m_{E_{unreg}}^2\\rangle}\\right) - \\left(3 \\gamma_{m} + {k_{on}^p}\\right) \\left(r_{m} {\\langle m_{P_{unreg}}^0\\rangle} - {\\langle m_{P_{unreg}}^1\\rangle} \\left(\\gamma_{m} - 3 r_{m}\\right) + 3 {\\langle m_{P_{unreg}}^2\\rangle} \\left(\\gamma_{m} + r_{m}\\right)\\right)\\right)\\right \\}$$"
      ],
      "text/plain": [
       "⎧                                   γₘ⋅(3⋅γₘ + {k_{off}__p})⋅({\\langle m_{E_{u\n",
       "⎨{\\langle m_{E_{unreg}}__3\\rangle}: ──────────────────────────────────────────\n",
       "⎩                                                                             \n",
       "\n",
       "nreg}}__1\\rangle} - 3⋅{\\langle m_{E_{unreg}}__2\\rangle}) - {k_{off}__p}⋅(rₘ⋅{\\\n",
       "──────────────────────────────────────────────────────────────────────────────\n",
       "                                               {k_{off}__p}⋅{k_{on}__p} - (3⋅γ\n",
       "\n",
       "langle m_{P_{unreg}}__0\\rangle} - {\\langle m_{P_{unreg}}__1\\rangle}⋅(γₘ - 3⋅rₘ\n",
       "──────────────────────────────────────────────────────────────────────────────\n",
       "ₘ + {k_{off}__p})⋅(3⋅γₘ + {k_{on}__p})                                        \n",
       "\n",
       ") + 3⋅{\\langle m_{P_{unreg}}__2\\rangle}⋅(γₘ + rₘ))                            \n",
       "──────────────────────────────────────────────────, {\\langle m_{P_{unreg}}__3\\\n",
       "                                                                              \n",
       "\n",
       "         γₘ⋅{k_{on}__p}⋅({\\langle m_{E_{unreg}}__1\\rangle} - 3⋅{\\langle m_{E_{\n",
       "rangle}: ─────────────────────────────────────────────────────────────────────\n",
       "                                                                              \n",
       "\n",
       "unreg}}__2\\rangle}) - (3⋅γₘ + {k_{on}__p})⋅(rₘ⋅{\\langle m_{P_{unreg}}__0\\rangl\n",
       "──────────────────────────────────────────────────────────────────────────────\n",
       "                   {k_{off}__p}⋅{k_{on}__p} - (3⋅γₘ + {k_{off}__p})⋅(3⋅γₘ + {k\n",
       "\n",
       "e} - {\\langle m_{P_{unreg}}__1\\rangle}⋅(γₘ - 3⋅rₘ) + 3⋅{\\langle m_{P_{unreg}}_\n",
       "──────────────────────────────────────────────────────────────────────────────\n",
       "_{on}__p})                                                                    \n",
       "\n",
       "_2\\rangle}⋅(γₘ + rₘ))⎫\n",
       "─────────────────────⎬\n",
       "                     ⎭"
      ]
     },
     "execution_count": 21,
     "metadata": {},
     "output_type": "execute_result"
    }
   ],
   "source": [
    "# Solve linear system for the three moments\n",
    "third_sol_unreg = sympy.solve_linear_system(third_aug_unreg, *m3_unreg)\n",
    "third_sol_unreg"
   ]
  },
  {
   "cell_type": "markdown",
   "metadata": {},
   "source": [
    "As usual let's add these moments"
   ]
  },
  {
   "cell_type": "code",
   "execution_count": 22,
   "metadata": {},
   "outputs": [
    {
     "data": {
      "image/png": "[encoded data removed]",
      "text/latex": [
       "$$- \\frac{{\\langle m_{E_{unreg}}^1\\rangle}}{3} + {\\langle m_{E_{unreg}}^2\\rangle} - \\frac{{\\langle m_{P_{unreg}}^1\\rangle}}{3} + {\\langle m_{P_{unreg}}^2\\rangle} + \\frac{r_{m} {\\langle m_{P_{unreg}}^0\\rangle}}{3 \\gamma_{m}} + \\frac{r_{m}}{\\gamma_{m}} {\\langle m_{P_{unreg}}^1\\rangle} + \\frac{r_{m}}{\\gamma_{m}} {\\langle m_{P_{unreg}}^2\\rangle}$$"
      ],
      "text/plain": [
       "  {\\langle m_{E_{unreg}}__1\\rangle}                                       {\\la\n",
       "- ───────────────────────────────── + {\\langle m_{E_{unreg}}__2\\rangle} - ────\n",
       "                  3                                                           \n",
       "\n",
       "ngle m_{P_{unreg}}__1\\rangle}                                       rₘ⋅{\\langl\n",
       "───────────────────────────── + {\\langle m_{P_{unreg}}__2\\rangle} + ──────────\n",
       "            3                                                                 \n",
       "\n",
       "e m_{P_{unreg}}__0\\rangle}   rₘ⋅{\\langle m_{P_{unreg}}__1\\rangle}   rₘ⋅{\\langl\n",
       "────────────────────────── + ──────────────────────────────────── + ──────────\n",
       "      3⋅γₘ                                    γₘ                              \n",
       "\n",
       "e m_{P_{unreg}}__2\\rangle}\n",
       "──────────────────────────\n",
       "       γₘ                 "
      ]
     },
     "execution_count": 22,
     "metadata": {},
     "output_type": "execute_result"
    }
   ],
   "source": [
    "third_unreg = sum(third_sol_unreg.values()).simplify()\n",
    "third_unreg"
   ]
  },
  {
   "cell_type": "code",
   "execution_count": 23,
   "metadata": {},
   "outputs": [
    {
     "data": {
      "image/png": "[encoded data removed]",
      "text/latex": [
       "$$\\frac{r_{m} {k_{on}^p} \\left(2 \\gamma_{m}^{4} + 6 \\gamma_{m}^{3} r_{m} + 3 \\gamma_{m}^{3} {k_{off}^p} + 3 \\gamma_{m}^{3} {k_{on}^p} + 2 \\gamma_{m}^{2} r_{m}^{2} + 3 \\gamma_{m}^{2} r_{m} {k_{off}^p} + 9 \\gamma_{m}^{2} r_{m} {k_{on}^p} + \\gamma_{m}^{2} {k_{off}^p}^{2} + 2 \\gamma_{m}^{2} {k_{off}^p} {k_{on}^p} + \\gamma_{m}^{2} {k_{on}^p}^{2} + 3 \\gamma_{m} r_{m}^{2} {k_{on}^p} + 3 \\gamma_{m} r_{m} {k_{off}^p} {k_{on}^p} + 3 \\gamma_{m} r_{m} {k_{on}^p}^{2} + r_{m}^{2} {k_{on}^p}^{2}\\right)}{\\gamma_{m}^{3} \\left(2 \\gamma_{m}^{2} {k_{off}^p} + 2 \\gamma_{m}^{2} {k_{on}^p} + 3 \\gamma_{m} {k_{off}^p}^{2} + 6 \\gamma_{m} {k_{off}^p} {k_{on}^p} + 3 \\gamma_{m} {k_{on}^p}^{2} + {k_{off}^p}^{3} + 3 {k_{off}^p}^{2} {k_{on}^p} + 3 {k_{off}^p} {k_{on}^p}^{2} + {k_{on}^p}^{3}\\right)}$$"
      ],
      "text/plain": [
       "               ⎛    4       3          3                    3                 \n",
       "rₘ⋅{k_{on}__p}⋅⎝2⋅γₘ  + 6⋅γₘ ⋅rₘ + 3⋅γₘ ⋅{k_{off}__p} + 3⋅γₘ ⋅{k_{on}__p} + 2⋅\n",
       "──────────────────────────────────────────────────────────────────────────────\n",
       "                                                   3 ⎛    2                   \n",
       "                                                 γₘ ⋅⎝2⋅γₘ ⋅{k_{off}__p} + 2⋅γ\n",
       "\n",
       "  2   2       2                       2                    2             2    \n",
       "γₘ ⋅rₘ  + 3⋅γₘ ⋅rₘ⋅{k_{off}__p} + 9⋅γₘ ⋅rₘ⋅{k_{on}__p} + γₘ ⋅{k_{off}__p}  + 2\n",
       "──────────────────────────────────────────────────────────────────────────────\n",
       " 2                                2                                           \n",
       "ₘ ⋅{k_{on}__p} + 3⋅γₘ⋅{k_{off}__p}  + 6⋅γₘ⋅{k_{off}__p}⋅{k_{on}__p} + 3⋅γₘ⋅{k_\n",
       "\n",
       "   2                              2            2          2                   \n",
       "⋅γₘ ⋅{k_{off}__p}⋅{k_{on}__p} + γₘ ⋅{k_{on}__p}  + 3⋅γₘ⋅rₘ ⋅{k_{on}__p} + 3⋅γₘ\n",
       "──────────────────────────────────────────────────────────────────────────────\n",
       "        2               3                 2                                   \n",
       "{on}__p}  + {k_{off}__p}  + 3⋅{k_{off}__p} ⋅{k_{on}__p} + 3⋅{k_{off}__p}⋅{k_{o\n",
       "\n",
       "                                                  2     2            2⎞\n",
       "⋅rₘ⋅{k_{off}__p}⋅{k_{on}__p} + 3⋅γₘ⋅rₘ⋅{k_{on}__p}  + rₘ ⋅{k_{on}__p} ⎠\n",
       "───────────────────────────────────────────────────────────────────────\n",
       "      2              3⎞                                                \n",
       "n}__p}  + {k_{on}__p} ⎠                                                "
      ]
     },
     "execution_count": 23,
     "metadata": {},
     "output_type": "execute_result"
    }
   ],
   "source": [
    "third_unreg_ss = third_unreg.subs(second_sol_unreg).\\\n",
    "                 subs(first_sol_unreg).subs(zero_sol_unreg)\n",
    "third_unreg_ss.simplify()"
   ]
  },
  {
   "cell_type": "markdown",
   "metadata": {},
   "source": [
    "## Deriving expressions for the parameters.\n",
    "\n",
    "Just as Peccoud & Ycart did we will find equations that solve for the parameters in the equation.\n",
    "\n",
    "In their paper Peccoud & Ycart note that by computing the exponential moments they can generate a system of equations simple enough to solve for almost all parameters in the equation. Not all four parameters can be uniquely determined since the model is homogeneous in time. What that implies is that multiplying the time scale by a constant is equivalent to dividing all parameters by the same constant and this does not affect the steady-state distribution. But if we define the parameters in units of $\\gm$ we can find equations for the other three parameters.\n",
    "\n",
    "The so-called exponential moments are defined as\n",
    "$$\n",
    "e_n \\equiv \\left\\langle m (m - 1) \\cdots (m - n + 1) \\right\\rangle.\n",
    "$$\n",
    "Given the linearity property of expected values these moments can be computed from knowing up to the highest regular moment. The first three exponential moments are given by\n",
    "$$\n",
    "e_1 = \\mm,\\\\\n",
    "e_2 = \\left\\langle m (m - 1) \\right\\rangle = \\left\\langle m^2 \\right\\rangle - \\mm,\\\\\n",
    "e_3 = \\left\\langle m (m - 1) (m - 2) \\right\\rangle =\n",
    "\\left\\langle m^3 \\right\\rangle - 3\\left\\langle m^2 \\right\\rangle + 2\\mm\n",
    "$$"
   ]
  },
  {
   "cell_type": "markdown",
   "metadata": {},
   "source": [
    "Peccoud and Ycart cleverly realize that by defining the successive ratios of these first three exponential moments one can get a system of three equations from which to extract the parameters. The consecutive ratios are simply given by\n",
    "$$\n",
    "r_1 \\equiv e_1,\\\\\n",
    "r_2 \\equiv e_2 / e_1,\n",
    "$$\n",
    "and\n",
    "$$\n",
    "r_3 \\equiv e_3 / e_2.\n",
    "$$\n",
    "\n",
    "Let's now define these three equations."
   ]
  },
  {
   "cell_type": "code",
   "execution_count": 63,
   "metadata": {},
   "outputs": [
    {
     "data": {
      "image/png": "[encoded data removed]",
      "text/latex": [
       "$$r_{1} = \\frac{r_{m} {k_{on}^p}}{{k_{off}^p} + {k_{on}^p}}$$"
      ],
      "text/plain": [
       "           rₘ⋅{k_{on}__p}      \n",
       "r₁ = ──────────────────────────\n",
       "     {k_{off}__p} + {k_{on}__p}"
      ]
     },
     "execution_count": 63,
     "metadata": {},
     "output_type": "execute_result"
    }
   ],
   "source": [
    "r1, r2, r3 = sympy.symbols('r_1 r_2 r_3')\n",
    "r1_unreg = first_unreg.subs(gm, 1)\n",
    "sympy.Eq(r1, r1_unreg)"
   ]
  },
  {
   "cell_type": "code",
   "execution_count": 64,
   "metadata": {},
   "outputs": [
    {
     "data": {
      "image/png": "[encoded data removed]",
      "text/latex": [
       "$$r_{2} = \\frac{r_{m} \\left({k_{on}^p} + 1\\right)}{{k_{off}^p} + {k_{on}^p} + 1}$$"
      ],
      "text/plain": [
       "          rₘ⋅({k_{on}__p} + 1)     \n",
       "r₂ = ──────────────────────────────\n",
       "     {k_{off}__p} + {k_{on}__p} + 1"
      ]
     },
     "execution_count": 64,
     "metadata": {},
     "output_type": "execute_result"
    }
   ],
   "source": [
    "r2_unreg = ((second_unreg_ss - first_unreg) / first_unreg).subs(gm, 1).simplify()\n",
    "sympy.Eq(r2, r2_unreg)"
   ]
  },
  {
   "cell_type": "code",
   "execution_count": 65,
   "metadata": {},
   "outputs": [
    {
     "data": {
      "image/png": "[encoded data removed]",
      "text/latex": [
       "$$r_{3} = \\frac{r_{m} \\left({k_{on}^p} + 2\\right)}{{k_{off}^p} + {k_{on}^p} + 2}$$"
      ],
      "text/plain": [
       "          rₘ⋅({k_{on}__p} + 2)     \n",
       "r₃ = ──────────────────────────────\n",
       "     {k_{off}__p} + {k_{on}__p} + 2"
      ]
     },
     "execution_count": 65,
     "metadata": {},
     "output_type": "execute_result"
    }
   ],
   "source": [
    "r3_unreg = ((third_unreg_ss - 3 * second_unreg_ss + 2 * first_unreg) / \\\n",
    "     (second_unreg_ss - first_unreg)).subs(gm, 1).simplify()\n",
    "sympy.Eq(r3, r3_unreg)"
   ]
  },
  {
   "cell_type": "markdown",
   "metadata": {},
   "source": [
    "Now let's use these three equations to solve for the parameters."
   ]
  },
  {
   "cell_type": "code",
   "execution_count": 66,
   "metadata": {},
   "outputs": [
    {
     "data": {
      "image/png": "[encoded data removed]",
      "text/latex": [
       "$$\\left \\{ r_{m} : \\frac{- r_{1} r_{2} + 2 r_{1} r_{3} - r_{2} r_{3}}{r_{1} - 2 r_{2} + r_{3}}, \\quad {k_{off}^p} : \\frac{2 \\left(r_{1} - r_{2}\\right) \\left(r_{1} - r_{3}\\right) \\left(r_{2} - r_{3}\\right)}{\\left(r_{1} - 2 r_{2} + r_{3}\\right) \\left(r_{1} r_{2} - 2 r_{1} r_{3} + r_{2} r_{3}\\right)}, \\quad {k_{on}^p} : - \\frac{2 r_{1} \\left(r_{2} - r_{3}\\right)}{r_{1} r_{2} - 2 r_{1} r_{3} + r_{2} r_{3}}\\right \\}$$"
      ],
      "text/plain": [
       "⎧    -r₁⋅r₂ + 2⋅r₁⋅r₃ - r₂⋅r₃                     2⋅(r₁ - r₂)⋅(r₁ - r₃)⋅(r₂ - \n",
       "⎨rₘ: ────────────────────────, {k_{off}__p}: ─────────────────────────────────\n",
       "⎩         r₁ - 2⋅r₂ + r₃                     (r₁ - 2⋅r₂ + r₃)⋅(r₁⋅r₂ - 2⋅r₁⋅r₃\n",
       "\n",
       "r₃)                         -2⋅r₁⋅(r₂ - r₃)    ⎫\n",
       "─────────, {k_{on}__p}: ───────────────────────⎬\n",
       " + r₂⋅r₃)               r₁⋅r₂ - 2⋅r₁⋅r₃ + r₂⋅r₃⎭"
      ]
     },
     "execution_count": 66,
     "metadata": {},
     "output_type": "execute_result"
    }
   ],
   "source": [
    "infer_param = [kp_on, kp_off, rm]\n",
    "param_moments = sympy.solve([r1_unreg - r1,\n",
    "                             r2_unreg - r2,\n",
    "                             r3_unreg - r3], *infer_param)[0]\n",
    "param_moments = dict(zip(infer_param, param_moments))\n",
    "param_moments"
   ]
  },
  {
   "cell_type": "markdown",
   "metadata": {},
   "source": [
    "So by simply computing this experimentally accessible quantities we can obtain estimates for the values of these kinetic parameters."
   ]
  },
  {
   "cell_type": "markdown",
   "metadata": {},
   "source": [
    "# Three-state promoter (mRNA)\n",
    "\n",
    "Let's now derive the moments for the three-state promoter. The matrix equations remain the same between the two- and the three-state promoter. The only difference is the definition of the state transition, production and degradation matrix.\n",
    "\n",
    "Let's first define the moment variables"
   ]
  },
  {
   "cell_type": "code",
   "execution_count": 67,
   "metadata": {},
   "outputs": [
    {
     "data": {
      "image/png": "[encoded data removed]",
      "text/latex": [
       "$$\\left ( \\left [ {\\langle m_{P_{reg}}^0\\rangle}, \\quad {\\langle m_{E_{reg}}^0\\rangle}, \\quad {\\langle m_{R_{reg}}^0\\rangle}\\right ], \\quad \\left [ {\\langle m_{P_{reg}}^1\\rangle}, \\quad {\\langle m_{E_{reg}}^1\\rangle}, \\quad {\\langle m_{R_{reg}}^1\\rangle}\\right ], \\quad \\left [ {\\langle m_{P_{reg}}^2\\rangle}, \\quad {\\langle m_{E_{reg}}^2\\rangle}, \\quad {\\langle m_{R_{reg}}^2\\rangle}\\right ], \\quad \\left [ {\\langle m_{P_{reg}}^3\\rangle}, \\quad {\\langle m_{E_{reg}}^3\\rangle}, \\quad {\\langle m_{R_{reg}}^3\\rangle}\\right ]\\right )$$"
      ],
      "text/plain": [
       "([{\\langle m_{P_{reg}}__0\\rangle}, {\\langle m_{E_{reg}}__0\\rangle}, {\\langle m\n",
       "_{R_{reg}}__0\\rangle}], [{\\langle m_{P_{reg}}__1\\rangle}, {\\langle m_{E_{reg}}\n",
       "__1\\rangle}, {\\langle m_{R_{reg}}__1\\rangle}], [{\\langle m_{P_{reg}}__2\\rangle\n",
       "}, {\\langle m_{E_{reg}}__2\\rangle}, {\\langle m_{R_{reg}}__2\\rangle}], [{\\langl\n",
       "e m_{P_{reg}}__3\\rangle}, {\\langle m_{E_{reg}}__3\\rangle}, {\\langle m_{R_{reg}\n",
       "}__3\\rangle}])"
      ]
     },
     "execution_count": 67,
     "metadata": {},
     "output_type": "execute_result"
    }
   ],
   "source": [
    "# Define the string for the states\n",
    "m_reg = ['m_{P_{reg}}', 'm_{E_{reg}}', 'm_{R_{reg}}']\n",
    "\n",
    "# Define the zeroth moments\n",
    "m0_reg = [moment_sympy(x, 0) for x in m_reg]\n",
    "# Define the first moments\n",
    "m1_reg = [moment_sympy(x, 1) for x in m_reg]\n",
    "# Define the second moments\n",
    "m2_reg = [moment_sympy(x, 2) for x in m_reg]\n",
    "# Define the second moments\n",
    "m3_reg = [moment_sympy(x, 3) for x in m_reg]\n",
    "\n",
    "m0_reg, m1_reg, m2_reg, m3_reg"
   ]
  },
  {
   "cell_type": "markdown",
   "metadata": {},
   "source": [
    "Now we will define the state transition matrix $\\mathbf{K}^r$, the mRNA production matrix $\\mathbf{R}^r_m$ and the mRNA degradation matrix $\\mathbf{\\Gamma}^r_m$."
   ]
  },
  {
   "cell_type": "code",
   "execution_count": 68,
   "metadata": {},
   "outputs": [
    {
     "data": {
      "image/png": "[encoded data removed]",
      "text/latex": [
       "$$\\left ( \\left[\\begin{matrix}- {k_{off}^p} & {k_{on}^p} & 0\\\\{k_{off}^p} & - {k_{on}^p} - {k_{on}^r} & {k_{off}^r}\\\\0 & {k_{on}^r} & - {k_{off}^r}\\end{matrix}\\right], \\quad \\left[\\begin{matrix}r_{m} & 0 & 0\\\\0 & 0 & 0\\\\0 & 0 & 0\\end{matrix}\\right], \\quad \\left[\\begin{matrix}\\gamma_{m} & 0 & 0\\\\0 & \\gamma_{m} & 0\\\\0 & 0 & \\gamma_{m}\\end{matrix}\\right]\\right )$$"
      ],
      "text/plain": [
       "⎛⎡-{k_{off}__p}         {k_{on}__p}                0      ⎤  ⎡rₘ  0  0⎤  ⎡γₘ  \n",
       "⎜⎢                                                        ⎥  ⎢        ⎥  ⎢    \n",
       "⎜⎢{k_{off}__p}   -{k_{on}__p} - {k_{on}__r}  {k_{off}__r} ⎥, ⎢0   0  0⎥, ⎢0   \n",
       "⎜⎢                                                        ⎥  ⎢        ⎥  ⎢    \n",
       "⎝⎣      0               {k_{on}__r}          -{k_{off}__r}⎦  ⎣0   0  0⎦  ⎣0   \n",
       "\n",
       "0   0 ⎤⎞\n",
       "      ⎥⎟\n",
       "γₘ  0 ⎥⎟\n",
       "      ⎥⎟\n",
       "0   γₘ⎦⎠"
      ]
     },
     "execution_count": 68,
     "metadata": {},
     "output_type": "execute_result"
    }
   ],
   "source": [
    "# Define the rate constant matrix\n",
    "Kmat_reg = sympy.Matrix([[-kp_off, kp_on, 0], \n",
    "                         [kp_off, -(kp_on + kr_on), kr_off],\n",
    "                         [0, kr_on, -kr_off]])\n",
    "# Define the production matrix\n",
    "Rmat_reg = sympy.Matrix([[rm, 0, 0], \n",
    "                         [0, 0, 0],\n",
    "                         [0, 0, 0]])\n",
    "# Define the degradation matrix\n",
    "Gmat_reg = sympy.Matrix([[gm, 0, 0],\n",
    "                         [0, gm, 0],\n",
    "                         [0, 0, gm]])\n",
    "\n",
    "Kmat_reg, Rmat_reg, Gmat_reg"
   ]
  },
  {
   "cell_type": "markdown",
   "metadata": {},
   "source": [
    "### Zeroth moment three-state promoter\n",
    "To solve the zeroth moment for the three-state promoter we use the same set of equations as for the two-state promoter, this is\n",
    "$$\n",
    "1 = \\mathbf{u} \\cdot \\left\\langle \\mathbf{m}^0 \\right\\rangle,\n",
    "$$\n",
    "where this time $u = (1, 1, 1)$ and $\\left\\langle \\mathbf{m}^0 \\right\\rangle$ is the vector containing all *three* states. We use as well\n",
    "$$\n",
    "\\mathbf{0} = \\mathbf{K}^r_m \\left\\langle \\mathbf{m}^0 \\right\\rangle.\n",
    "$$\n",
    "\n",
    "We will again use the linear algebra solver where we write an extended matrix with the last column being the right hand side of these equations.\n",
    "\n",
    "Let's now define this extended matrix."
   ]
  },
  {
   "cell_type": "code",
   "execution_count": 69,
   "metadata": {},
   "outputs": [
    {
     "data": {
      "image/png": "[encoded data removed]",
      "text/latex": [
       "$$\\left[\\begin{matrix}1 & 1 & 1 & 1\\\\- {k_{off}^p} & {k_{on}^p} & 0 & 0\\\\{k_{off}^p} & - {k_{on}^p} - {k_{on}^r} & {k_{off}^r} & 0\\\\0 & {k_{on}^r} & - {k_{off}^r} & 0\\end{matrix}\\right]$$"
      ],
      "text/plain": [
       "⎡      1                    1                     1        1⎤\n",
       "⎢                                                           ⎥\n",
       "⎢-{k_{off}__p}         {k_{on}__p}                0        0⎥\n",
       "⎢                                                           ⎥\n",
       "⎢{k_{off}__p}   -{k_{on}__p} - {k_{on}__r}  {k_{off}__r}   0⎥\n",
       "⎢                                                           ⎥\n",
       "⎣      0               {k_{on}__r}          -{k_{off}__r}  0⎦"
      ]
     },
     "execution_count": 69,
     "metadata": {},
     "output_type": "execute_result"
    }
   ],
   "source": [
    "# Add the extra row for the normalization constraint\n",
    "K_sys_reg = Kmat_reg.row_insert(0, sympy.Matrix([1, 1, 1]).transpose())\n",
    "\n",
    "# Define right-side array\n",
    "b = sympy.Matrix([1, 0, 0, 0])\n",
    "\n",
    "# Define augmented matrix\n",
    "zero_aug_reg = K_sys_reg.col_insert(3, b)\n",
    "zero_aug_reg"
   ]
  },
  {
   "cell_type": "markdown",
   "metadata": {},
   "source": [
    "Let's solve the system for our three zeroth moments."
   ]
  },
  {
   "cell_type": "code",
   "execution_count": 31,
   "metadata": {},
   "outputs": [
    {
     "data": {
      "image/png": "[encoded data removed]",
      "text/latex": [
       "$$\\left \\{ {\\langle m_{E_{reg}}^0\\rangle} : \\frac{{k_{off}^p} {k_{off}^r}}{{k_{off}^p} {k_{off}^r} + {k_{off}^p} {k_{on}^r} + {k_{off}^r} {k_{on}^p}}, \\quad {\\langle m_{P_{reg}}^0\\rangle} : \\frac{{k_{off}^r} {k_{on}^p}}{{k_{off}^p} {k_{off}^r} + {k_{off}^p} {k_{on}^r} + {k_{off}^r} {k_{on}^p}}, \\quad {\\langle m_{R_{reg}}^0\\rangle} : \\frac{{k_{off}^p} {k_{on}^r}}{{k_{off}^p} {k_{off}^r} + {k_{off}^p} {k_{on}^r} + {k_{off}^r} {k_{on}^p}}\\right \\}$$"
      ],
      "text/plain": [
       "⎧                                                            {k_{off}__p}⋅{k_{\n",
       "⎨{\\langle m_{E_{reg}}__0\\rangle}: ────────────────────────────────────────────\n",
       "⎩                                 {k_{off}__p}⋅{k_{off}__r} + {k_{off}__p}⋅{k_\n",
       "\n",
       "off}__r}                                                                      \n",
       "───────────────────────────────────, {\\langle m_{P_{reg}}__0\\rangle}: ────────\n",
       "{on}__r} + {k_{off}__r}⋅{k_{on}__p}                                   {k_{off}\n",
       "\n",
       "                    {k_{off}__r}⋅{k_{on}__p}                                  \n",
       "───────────────────────────────────────────────────────────────────────, {\\lan\n",
       "__p}⋅{k_{off}__r} + {k_{off}__p}⋅{k_{on}__r} + {k_{off}__r}⋅{k_{on}__p}       \n",
       "\n",
       "                                                        {k_{off}__p}⋅{k_{on}__\n",
       "gle m_{R_{reg}}__0\\rangle}: ──────────────────────────────────────────────────\n",
       "                            {k_{off}__p}⋅{k_{off}__r} + {k_{off}__p}⋅{k_{on}__\n",
       "\n",
       "r}                           ⎫\n",
       "─────────────────────────────⎬\n",
       "r} + {k_{off}__r}⋅{k_{on}__p}⎭"
      ]
     },
     "execution_count": 31,
     "metadata": {},
     "output_type": "execute_result"
    }
   ],
   "source": [
    "# Solve linear system for the three zeroth moments\n",
    "zero_sol_reg = sympy.solve_linear_system(zero_aug_reg, *m0_reg)\n",
    "zero_sol_reg"
   ]
  },
  {
   "cell_type": "markdown",
   "metadata": {},
   "source": [
    "Let's quickly confirm that these moments add up to one since each represents the probability of being on each of the promoter states."
   ]
  },
  {
   "cell_type": "code",
   "execution_count": 32,
   "metadata": {},
   "outputs": [
    {
     "data": {
      "image/png": "[encoded data removed]",
      "text/latex": [
       "$$1$$"
      ],
      "text/plain": [
       "1"
      ]
     },
     "execution_count": 32,
     "metadata": {},
     "output_type": "execute_result"
    }
   ],
   "source": [
    "sum(zero_sol_reg.values()).simplify()"
   ]
  },
  {
   "cell_type": "markdown",
   "metadata": {},
   "source": [
    "### First moment three-state promoter\n",
    "\n",
    "Now that we have the zeroth moment that indicates the probability of being on eeach state let's now compute the first moment. We use the same matrix equation as before, this is\n",
    "$$\n",
    "\\mathbf{0} = \\left( \\mathbf{K}^r_m - \\mathbf{\\Gamma}^r_m  \\right)\n",
    "             + \\mathbf{R}^r_m \\left\\langle \\mathbf{m}^0 \\right\\rangle.\n",
    "$$\n",
    "\n",
    "Let's write this system in the form of the augmented matrix."
   ]
  },
  {
   "cell_type": "code",
   "execution_count": 33,
   "metadata": {},
   "outputs": [
    {
     "data": {
      "image/png": "[encoded data removed]",
      "text/latex": [
       "$$\\left[\\begin{matrix}- \\gamma_{m} - {k_{off}^p} & {k_{on}^p} & 0 & - r_{m} {\\langle m_{P_{reg}}^0\\rangle}\\\\{k_{off}^p} & - \\gamma_{m} - {k_{on}^p} - {k_{on}^r} & {k_{off}^r} & 0\\\\0 & {k_{on}^r} & - \\gamma_{m} - {k_{off}^r} & 0\\end{matrix}\\right]$$"
      ],
      "text/plain": [
       "⎡-γₘ - {k_{off}__p}            {k_{on}__p}                    0           -rₘ⋅\n",
       "⎢                                                                             \n",
       "⎢   {k_{off}__p}     -γₘ - {k_{on}__p} - {k_{on}__r}     {k_{off}__r}         \n",
       "⎢                                                                             \n",
       "⎣        0                     {k_{on}__r}            -γₘ - {k_{off}__r}      \n",
       "\n",
       "{\\langle m_{P_{reg}}__0\\rangle}⎤\n",
       "                               ⎥\n",
       "             0                 ⎥\n",
       "                               ⎥\n",
       "             0                 ⎦"
      ]
     },
     "execution_count": 33,
     "metadata": {},
     "output_type": "execute_result"
    }
   ],
   "source": [
    "# Define augmented matrix for first moment\n",
    "first_aug_reg = (Kmat_reg - Gmat_reg).col_insert(3, \n",
    "                                            -Rmat_reg * sympy.Matrix(m0_reg))\n",
    "first_aug_reg"
   ]
  },
  {
   "cell_type": "markdown",
   "metadata": {},
   "source": [
    "Now let's solve the system."
   ]
  },
  {
   "cell_type": "code",
   "execution_count": 34,
   "metadata": {},
   "outputs": [
    {
     "data": {
      "image/png": "[encoded data removed]",
      "text/latex": [
       "$$\\left \\{ {\\langle m_{E_{reg}}^1\\rangle} : - \\frac{r_{m} {\\langle m_{P_{reg}}^0\\rangle} {k_{off}^p} \\left(\\gamma_{m} + {k_{off}^r}\\right)}{{k_{off}^p} {k_{on}^p} \\left(\\gamma_{m} + {k_{off}^r}\\right) + {k_{off}^r} {k_{on}^r} \\left(\\gamma_{m} + {k_{off}^p}\\right) - \\left(\\gamma_{m} + {k_{off}^p}\\right) \\left(\\gamma_{m} + {k_{off}^r}\\right) \\left(\\gamma_{m} + {k_{on}^p} + {k_{on}^r}\\right)}, \\quad {\\langle m_{P_{reg}}^1\\rangle} : \\frac{r_{m} {\\langle m_{P_{reg}}^0\\rangle} \\left({k_{off}^r} {k_{on}^r} - \\left(\\gamma_{m} + {k_{off}^r}\\right) \\left(\\gamma_{m} + {k_{on}^p} + {k_{on}^r}\\right)\\right)}{{k_{off}^p} {k_{on}^p} \\left(\\gamma_{m} + {k_{off}^r}\\right) + {k_{off}^r} {k_{on}^r} \\left(\\gamma_{m} + {k_{off}^p}\\right) - \\left(\\gamma_{m} + {k_{off}^p}\\right) \\left(\\gamma_{m} + {k_{off}^r}\\right) \\left(\\gamma_{m} + {k_{on}^p} + {k_{on}^r}\\right)}, \\quad {\\langle m_{R_{reg}}^1\\rangle} : - \\frac{r_{m} {\\langle m_{P_{reg}}^0\\rangle} {k_{off}^p} {k_{on}^r}}{{k_{off}^p} {k_{on}^p} \\left(\\gamma_{m} + {k_{off}^r}\\right) + {k_{off}^r} {k_{on}^r} \\left(\\gamma_{m} + {k_{off}^p}\\right) - \\left(\\gamma_{m} + {k_{off}^p}\\right) \\left(\\gamma_{m} + {k_{off}^r}\\right) \\left(\\gamma_{m} + {k_{on}^p} + {k_{on}^r}\\right)}\\right \\}$$"
      ],
      "text/plain": [
       "⎧                                                                             \n",
       "⎨{\\langle m_{E_{reg}}__1\\rangle}: ────────────────────────────────────────────\n",
       "⎩                                 {k_{off}__p}⋅{k_{on}__p}⋅(γₘ + {k_{off}__r})\n",
       "\n",
       "    -rₘ⋅{\\langle m_{P_{reg}}__0\\rangle}⋅{k_{off}__p}⋅(γₘ + {k_{off}__r})      \n",
       "──────────────────────────────────────────────────────────────────────────────\n",
       " + {k_{off}__r}⋅{k_{on}__r}⋅(γₘ + {k_{off}__p}) - (γₘ + {k_{off}__p})⋅(γₘ + {k\n",
       "\n",
       "                                                                              \n",
       "────────────────────────────────────────────, {\\langle m_{P_{reg}}__1\\rangle}:\n",
       "_{off}__r})⋅(γₘ + {k_{on}__p} + {k_{on}__r})                                  \n",
       "\n",
       "                          rₘ⋅{\\langle m_{P_{reg}}__0\\rangle}⋅({k_{off}__r}⋅{k_\n",
       " ─────────────────────────────────────────────────────────────────────────────\n",
       " {k_{off}__p}⋅{k_{on}__p}⋅(γₘ + {k_{off}__r}) + {k_{off}__r}⋅{k_{on}__r}⋅(γₘ +\n",
       "\n",
       "{on}__r} - (γₘ + {k_{off}__r})⋅(γₘ + {k_{on}__p} + {k_{on}__r}))              \n",
       "──────────────────────────────────────────────────────────────────────────────\n",
       " {k_{off}__p}) - (γₘ + {k_{off}__p})⋅(γₘ + {k_{off}__r})⋅(γₘ + {k_{on}__p} + {\n",
       "\n",
       "                                                                              \n",
       "───────────, {\\langle m_{R_{reg}}__1\\rangle}: ────────────────────────────────\n",
       "k_{on}__r})                                   {k_{off}__p}⋅{k_{on}__p}⋅(γₘ + {\n",
       "\n",
       "                    -rₘ⋅{\\langle m_{P_{reg}}__0\\rangle}⋅{k_{off}__p}⋅{k_{on}__\n",
       "──────────────────────────────────────────────────────────────────────────────\n",
       "k_{off}__r}) + {k_{off}__r}⋅{k_{on}__r}⋅(γₘ + {k_{off}__p}) - (γₘ + {k_{off}__\n",
       "\n",
       "r}                                                      ⎫\n",
       "────────────────────────────────────────────────────────⎬\n",
       "p})⋅(γₘ + {k_{off}__r})⋅(γₘ + {k_{on}__p} + {k_{on}__r})⎭"
      ]
     },
     "execution_count": 34,
     "metadata": {},
     "output_type": "execute_result"
    }
   ],
   "source": [
    "# Solve linear system for the three moments\n",
    "first_sol_reg = sympy.solve_linear_system(first_aug_reg, *m1_reg)\n",
    "first_sol_reg"
   ]
  },
  {
   "cell_type": "markdown",
   "metadata": {},
   "source": [
    "Let's add all these first moments to obtain the complete distribution first moment."
   ]
  },
  {
   "cell_type": "code",
   "execution_count": 106,
   "metadata": {},
   "outputs": [
    {
     "data": {
      "image/png": "[encoded data removed]",
      "text/latex": [
       "$$\\left ( \\frac{r_{m}}{\\gamma_{m}} {\\langle m_{P_{reg}}^0\\rangle}, \\quad \\frac{r_{m} {k_{off}^r} {k_{on}^p}}{\\gamma_{m} \\left({k_{off}^p} {k_{off}^r} + {k_{off}^p} {k_{on}^r} + {k_{off}^r} {k_{on}^p}\\right)}\\right )$$"
      ],
      "text/plain": [
       "⎛rₘ⋅{\\langle m_{P_{reg}}__0\\rangle}                              rₘ⋅{k_{off}__\n",
       "⎜──────────────────────────────────, ─────────────────────────────────────────\n",
       "⎝                γₘ                  γₘ⋅({k_{off}__p}⋅{k_{off}__r} + {k_{off}_\n",
       "\n",
       "r}⋅{k_{on}__p}                             ⎞\n",
       "───────────────────────────────────────────⎟\n",
       "_p}⋅{k_{on}__r} + {k_{off}__r}⋅{k_{on}__p})⎠"
      ]
     },
     "execution_count": 106,
     "metadata": {},
     "output_type": "execute_result"
    }
   ],
   "source": [
    "first_reg = sum(first_sol_reg.values()).simplify()\n",
    "first_reg_s = first_reg.subs(zero_sol_reg)\n",
    "first_reg, first_reg_s"
   ]
  },
  {
   "cell_type": "markdown",
   "metadata": {},
   "source": [
    "#### fold-change.\n",
    "\n",
    "A very relevant quantity to compute is the fold-change in gene expression. Since this quantity must be consistent between the thermodynamic framework and the master equation framework this quantity will constraint the value of the parameters that we obtain at the end of the day."
   ]
  },
  {
   "cell_type": "code",
   "execution_count": 109,
   "metadata": {},
   "outputs": [
    {
     "data": {
      "image/png": "[encoded data removed]",
      "text/latex": [
       "$$\\frac{{k_{off}^r} \\left({k_{off}^p} + {k_{on}^p}\\right)}{{k_{off}^p} {k_{on}^r} + {k_{off}^r} \\left({k_{off}^p} + {k_{on}^p}\\right)}$$"
      ],
      "text/plain": [
       "             {k_{off}__r}⋅({k_{off}__p} + {k_{on}__p})              \n",
       "────────────────────────────────────────────────────────────────────\n",
       "{k_{off}__p}⋅{k_{on}__r} + {k_{off}__r}⋅({k_{off}__p} + {k_{on}__p})"
      ]
     },
     "execution_count": 109,
     "metadata": {},
     "output_type": "execute_result"
    }
   ],
   "source": [
    "# Compute fold-change\n",
    "fold_change = first_reg_s.subs(zero_sol_reg) / first_unreg_s\n",
    "fold_change.factor(kr_off)"
   ]
  },
  {
   "cell_type": "markdown",
   "metadata": {},
   "source": [
    "### Second moment three-state promoter\n",
    "\n",
    "Finally for the second moment we have again an equation of the form\n",
    "$$\n",
    "\\mathbf{0} = \\left( \\mathbf{K}^r_m - 2 \\mathbf{\\Gamma}^r_n \\right) \n",
    "             \\left\\langle \\mathbf{m}^2 \\right\\rangle\n",
    "             + \\left( 2 \\mathbf{R}^r_m + \\mathbf{\\Gamma}^r_m \\right)\n",
    "             \\left\\langle \\mathbf{m}^1 \\right\\rangle\n",
    "             + \\mathbf{R}^r_m\n",
    "             \\left\\langle \\mathbf{m}^0 \\right\\rangle\n",
    "$$\n",
    "\n",
    "Let's again define this augmented matrix."
   ]
  },
  {
   "cell_type": "code",
   "execution_count": 39,
   "metadata": {},
   "outputs": [
    {
     "data": {
      "image/png": "[encoded data removed]",
      "text/latex": [
       "$$\\left[\\begin{matrix}2 \\gamma_{m} + {k_{off}^p} & - {k_{on}^p} & 0 & r_{m} {\\langle m_{P_{reg}}^0\\rangle} + {\\langle m_{P_{reg}}^1\\rangle} \\left(\\gamma_{m} + 2 r_{m}\\right)\\\\- {k_{off}^p} & 2 \\gamma_{m} + {k_{on}^p} + {k_{on}^r} & - {k_{off}^r} & \\gamma_{m} {\\langle m_{E_{reg}}^1\\rangle}\\\\0 & - {k_{on}^r} & 2 \\gamma_{m} + {k_{off}^r} & \\gamma_{m} {\\langle m_{R_{reg}}^1\\rangle}\\end{matrix}\\right]$$"
      ],
      "text/plain": [
       "⎡2⋅γₘ + {k_{off}__p}            -{k_{on}__p}                     0           r\n",
       "⎢                                                                             \n",
       "⎢   -{k_{off}__p}     2⋅γₘ + {k_{on}__p} + {k_{on}__r}     -{k_{off}__r}      \n",
       "⎢                                                                             \n",
       "⎣         0                     -{k_{on}__r}            2⋅γₘ + {k_{off}__r}   \n",
       "\n",
       "ₘ⋅{\\langle m_{P_{reg}}__0\\rangle} + {\\langle m_{P_{reg}}__1\\rangle}⋅(γₘ + 2⋅rₘ\n",
       "                                                                              \n",
       "                      γₘ⋅{\\langle m_{E_{reg}}__1\\rangle}                      \n",
       "                                                                              \n",
       "                      γₘ⋅{\\langle m_{R_{reg}}__1\\rangle}                      \n",
       "\n",
       ")⎤\n",
       " ⎥\n",
       " ⎥\n",
       " ⎥\n",
       " ⎦"
      ]
     },
     "execution_count": 39,
     "metadata": {},
     "output_type": "execute_result"
    }
   ],
   "source": [
    "# Define augmented matrix for second moment\n",
    "second_aug_reg = (2 * Gmat_reg - Kmat_reg).col_insert(3, \n",
    "                   (2 * Rmat_reg + Gmat_reg) * sympy.Matrix(m1_reg)\\\n",
    "                   + Rmat_reg * sympy.Matrix(m0_reg))\n",
    "second_aug_reg"
   ]
  },
  {
   "cell_type": "markdown",
   "metadata": {},
   "source": [
    "And now we solve the second moment."
   ]
  },
  {
   "cell_type": "code",
   "execution_count": 40,
   "metadata": {},
   "outputs": [
    {
     "data": {
      "image/png": "[encoded data removed]",
      "text/latex": [
       "$$\\left \\{ {\\langle m_{E_{reg}}^2\\rangle} : - \\frac{\\gamma_{m} {\\langle m_{E_{reg}}^1\\rangle} \\left(2 \\gamma_{m} + {k_{off}^p}\\right) \\left(2 \\gamma_{m} + {k_{off}^r}\\right) + \\gamma_{m} {\\langle m_{R_{reg}}^1\\rangle} {k_{off}^r} \\left(2 \\gamma_{m} + {k_{off}^p}\\right) + {k_{off}^p} \\left(2 \\gamma_{m} + {k_{off}^r}\\right) \\left(r_{m} {\\langle m_{P_{reg}}^0\\rangle} + {\\langle m_{P_{reg}}^1\\rangle} \\left(\\gamma_{m} + 2 r_{m}\\right)\\right)}{{k_{off}^p} {k_{on}^p} \\left(2 \\gamma_{m} + {k_{off}^r}\\right) + {k_{off}^r} {k_{on}^r} \\left(2 \\gamma_{m} + {k_{off}^p}\\right) - \\left(2 \\gamma_{m} + {k_{off}^p}\\right) \\left(2 \\gamma_{m} + {k_{off}^r}\\right) \\left(2 \\gamma_{m} + {k_{on}^p} + {k_{on}^r}\\right)}, \\quad {\\langle m_{P_{reg}}^2\\rangle} : \\frac{- \\gamma_{m} {\\langle m_{E_{reg}}^1\\rangle} {k_{on}^p} \\left(2 \\gamma_{m} + {k_{off}^r}\\right) - \\gamma_{m} {\\langle m_{R_{reg}}^1\\rangle} {k_{off}^r} {k_{on}^p} + \\left(r_{m} {\\langle m_{P_{reg}}^0\\rangle} + {\\langle m_{P_{reg}}^1\\rangle} \\left(\\gamma_{m} + 2 r_{m}\\right)\\right) \\left({k_{off}^r} {k_{on}^r} - \\left(2 \\gamma_{m} + {k_{off}^r}\\right) \\left(2 \\gamma_{m} + {k_{on}^p} + {k_{on}^r}\\right)\\right)}{{k_{off}^p} {k_{on}^p} \\left(2 \\gamma_{m} + {k_{off}^r}\\right) + {k_{off}^r} {k_{on}^r} \\left(2 \\gamma_{m} + {k_{off}^p}\\right) - \\left(2 \\gamma_{m} + {k_{off}^p}\\right) \\left(2 \\gamma_{m} + {k_{off}^r}\\right) \\left(2 \\gamma_{m} + {k_{on}^p} + {k_{on}^r}\\right)}, \\quad {\\langle m_{R_{reg}}^2\\rangle} : \\frac{- \\gamma_{m} {\\langle m_{E_{reg}}^1\\rangle} {k_{on}^r} \\left(2 \\gamma_{m} + {k_{off}^p}\\right) + \\gamma_{m} {\\langle m_{R_{reg}}^1\\rangle} \\left({k_{off}^p} {k_{on}^p} - \\left(2 \\gamma_{m} + {k_{off}^p}\\right) \\left(2 \\gamma_{m} + {k_{on}^p} + {k_{on}^r}\\right)\\right) - {k_{off}^p} {k_{on}^r} \\left(r_{m} {\\langle m_{P_{reg}}^0\\rangle} + {\\langle m_{P_{reg}}^1\\rangle} \\left(\\gamma_{m} + 2 r_{m}\\right)\\right)}{{k_{off}^p} {k_{on}^p} \\left(2 \\gamma_{m} + {k_{off}^r}\\right) + {k_{off}^r} {k_{on}^r} \\left(2 \\gamma_{m} + {k_{off}^p}\\right) - \\left(2 \\gamma_{m} + {k_{off}^p}\\right) \\left(2 \\gamma_{m} + {k_{off}^r}\\right) \\left(2 \\gamma_{m} + {k_{on}^p} + {k_{on}^r}\\right)}\\right \\}$$"
      ],
      "text/plain": [
       "⎧                                 -(γₘ⋅{\\langle m_{E_{reg}}__1\\rangle}⋅(2⋅γₘ +\n",
       "⎨{\\langle m_{E_{reg}}__2\\rangle}: ────────────────────────────────────────────\n",
       "⎩                                                                             \n",
       "\n",
       " {k_{off}__p})⋅(2⋅γₘ + {k_{off}__r}) + γₘ⋅{\\langle m_{R_{reg}}__1\\rangle}⋅{k_{\n",
       "──────────────────────────────────────────────────────────────────────────────\n",
       "     {k_{off}__p}⋅{k_{on}__p}⋅(2⋅γₘ + {k_{off}__r}) + {k_{off}__r}⋅{k_{on}__r}\n",
       "\n",
       "off}__r}⋅(2⋅γₘ + {k_{off}__p}) + {k_{off}__p}⋅(2⋅γₘ + {k_{off}__r})⋅(rₘ⋅{\\lang\n",
       "──────────────────────────────────────────────────────────────────────────────\n",
       "⋅(2⋅γₘ + {k_{off}__p}) - (2⋅γₘ + {k_{off}__p})⋅(2⋅γₘ + {k_{off}__r})⋅(2⋅γₘ + {\n",
       "\n",
       "le m_{P_{reg}}__0\\rangle} + {\\langle m_{P_{reg}}__1\\rangle}⋅(γₘ + 2⋅rₘ)))     \n",
       "──────────────────────────────────────────────────────────────────────────, {\\\n",
       "k_{on}__p} + {k_{on}__r})                                                     \n",
       "\n",
       "                               -γₘ⋅{\\langle m_{E_{reg}}__1\\rangle}⋅{k_{on}__p}\n",
       "langle m_{P_{reg}}__2\\rangle}: ───────────────────────────────────────────────\n",
       "                                                                              \n",
       "\n",
       "⋅(2⋅γₘ + {k_{off}__r}) - γₘ⋅{\\langle m_{R_{reg}}__1\\rangle}⋅{k_{off}__r}⋅{k_{o\n",
       "──────────────────────────────────────────────────────────────────────────────\n",
       "                {k_{off}__p}⋅{k_{on}__p}⋅(2⋅γₘ + {k_{off}__r}) + {k_{off}__r}⋅\n",
       "\n",
       "n}__p} + (rₘ⋅{\\langle m_{P_{reg}}__0\\rangle} + {\\langle m_{P_{reg}}__1\\rangle}\n",
       "──────────────────────────────────────────────────────────────────────────────\n",
       "{k_{on}__r}⋅(2⋅γₘ + {k_{off}__p}) - (2⋅γₘ + {k_{off}__p})⋅(2⋅γₘ + {k_{off}__r}\n",
       "\n",
       "⋅(γₘ + 2⋅rₘ))⋅({k_{off}__r}⋅{k_{on}__r} - (2⋅γₘ + {k_{off}__r})⋅(2⋅γₘ + {k_{on\n",
       "──────────────────────────────────────────────────────────────────────────────\n",
       ")⋅(2⋅γₘ + {k_{on}__p} + {k_{on}__r})                                          \n",
       "\n",
       "}__p} + {k_{on}__r}))                                   -γₘ⋅{\\langle m_{E_{reg\n",
       "─────────────────────, {\\langle m_{R_{reg}}__2\\rangle}: ──────────────────────\n",
       "                                                                              \n",
       "\n",
       "}}__1\\rangle}⋅{k_{on}__r}⋅(2⋅γₘ + {k_{off}__p}) + γₘ⋅{\\langle m_{R_{reg}}__1\\r\n",
       "──────────────────────────────────────────────────────────────────────────────\n",
       "                                         {k_{off}__p}⋅{k_{on}__p}⋅(2⋅γₘ + {k_{\n",
       "\n",
       "angle}⋅({k_{off}__p}⋅{k_{on}__p} - (2⋅γₘ + {k_{off}__p})⋅(2⋅γₘ + {k_{on}__p} +\n",
       "──────────────────────────────────────────────────────────────────────────────\n",
       "off}__r}) + {k_{off}__r}⋅{k_{on}__r}⋅(2⋅γₘ + {k_{off}__p}) - (2⋅γₘ + {k_{off}_\n",
       "\n",
       " {k_{on}__r})) - {k_{off}__p}⋅{k_{on}__r}⋅(rₘ⋅{\\langle m_{P_{reg}}__0\\rangle} \n",
       "──────────────────────────────────────────────────────────────────────────────\n",
       "_p})⋅(2⋅γₘ + {k_{off}__r})⋅(2⋅γₘ + {k_{on}__p} + {k_{on}__r})                 \n",
       "\n",
       "+ {\\langle m_{P_{reg}}__1\\rangle}⋅(γₘ + 2⋅rₘ))⎫\n",
       "──────────────────────────────────────────────⎬\n",
       "                                              ⎭"
      ]
     },
     "execution_count": 40,
     "metadata": {},
     "output_type": "execute_result"
    }
   ],
   "source": [
    "# Solve linear system for the three moments\n",
    "second_sol_reg = sympy.solve_linear_system(second_aug_reg, *m2_reg)\n",
    "second_sol_reg"
   ]
  },
  {
   "cell_type": "markdown",
   "metadata": {},
   "source": [
    "Let's compute the global second moment adding all these second moments."
   ]
  },
  {
   "cell_type": "code",
   "execution_count": 124,
   "metadata": {},
   "outputs": [
    {
     "data": {
      "image/png": "[encoded data removed]",
      "text/latex": [
       "$$\\frac{{\\langle m_{E_{reg}}^1\\rangle}}{2} + \\frac{{\\langle m_{P_{reg}}^1\\rangle}}{2} + \\frac{{\\langle m_{R_{reg}}^1\\rangle}}{2} + \\frac{1}{2 \\gamma_{m}} \\left(r_{m} {\\langle m_{P_{reg}}^0\\rangle} + 2 r_{m} {\\langle m_{P_{reg}}^1\\rangle}\\right)$$"
      ],
      "text/plain": [
       "{\\langle m_{E_{reg}}__1\\rangle}   {\\langle m_{P_{reg}}__1\\rangle}   {\\langle m\n",
       "─────────────────────────────── + ─────────────────────────────── + ──────────\n",
       "               2                                 2                            \n",
       "\n",
       "_{R_{reg}}__1\\rangle}   rₘ⋅{\\langle m_{P_{reg}}__0\\rangle} + 2⋅rₘ⋅{\\langle m_{\n",
       "───────────────────── + ──────────────────────────────────────────────────────\n",
       "     2                                                     2⋅γₘ               \n",
       "\n",
       "P_{reg}}__1\\rangle}\n",
       "───────────────────\n",
       "                   "
      ]
     },
     "execution_count": 124,
     "metadata": {},
     "output_type": "execute_result"
    }
   ],
   "source": [
    "second_reg = sum(second_sol_reg.values()).simplify()\n",
    "second_reg.ratsimp()"
   ]
  },
  {
   "cell_type": "code",
   "execution_count": 134,
   "metadata": {},
   "outputs": [
    {
     "data": {
      "image/png": "[encoded data removed]",
      "text/latex": [
       "$$\\frac{r_{m} {\\langle m_{P_{reg}}^0\\rangle} \\left({k_{off}^r} {k_{on}^r} - \\left(\\gamma_{m} + {k_{off}^r}\\right) \\left(\\gamma_{m} + {k_{on}^p} + {k_{on}^r}\\right)\\right)}{{k_{off}^p} {k_{on}^p} \\left(\\gamma_{m} + {k_{off}^r}\\right) + {k_{off}^r} {k_{on}^r} \\left(\\gamma_{m} + {k_{off}^p}\\right) - \\left(\\gamma_{m} + {k_{off}^p}\\right) \\left(\\gamma_{m} + {k_{off}^r}\\right) \\left(\\gamma_{m} + {k_{on}^p} + {k_{on}^r}\\right)}$$"
      ],
      "text/plain": [
       "                         rₘ⋅{\\langle m_{P_{reg}}__0\\rangle}⋅({k_{off}__r}⋅{k_{\n",
       "──────────────────────────────────────────────────────────────────────────────\n",
       "{k_{off}__p}⋅{k_{on}__p}⋅(γₘ + {k_{off}__r}) + {k_{off}__r}⋅{k_{on}__r}⋅(γₘ + \n",
       "\n",
       "on}__r} - (γₘ + {k_{off}__r})⋅(γₘ + {k_{on}__p} + {k_{on}__r}))               \n",
       "──────────────────────────────────────────────────────────────────────────────\n",
       "{k_{off}__p}) - (γₘ + {k_{off}__p})⋅(γₘ + {k_{off}__r})⋅(γₘ + {k_{on}__p} + {k\n",
       "\n",
       "          \n",
       "──────────\n",
       "_{on}__r})"
      ]
     },
     "execution_count": 134,
     "metadata": {},
     "output_type": "execute_result"
    }
   ],
   "source": [
    "first_sol_reg[m1_reg[0]]"
   ]
  },
  {
   "cell_type": "markdown",
   "metadata": {},
   "source": [
    "#### Noise and fano-factor.\n",
    "\n",
    "Experimentally relevant quantities are the noise (standard deviation / mean) and the fano-factor (variance / mean). Let's compute these quantities for the three-state promoter.\n",
    "\n",
    "First let's compute the variance."
   ]
  },
  {
   "cell_type": "code",
   "execution_count": 115,
   "metadata": {},
   "outputs": [
    {
     "data": {
      "image/png": "[encoded data removed]",
      "text/latex": [
       "$$\\left ( \\frac{{\\langle m_{E_{reg}}^1\\rangle}}{2} + \\frac{{\\langle m_{P_{reg}}^1\\rangle}}{2} + \\frac{{\\langle m_{R_{reg}}^1\\rangle}}{2} + \\frac{1}{2 \\gamma_{m}^{2}} \\left(\\gamma_{m} r_{m} {\\langle m_{P_{reg}}^0\\rangle} + 2 \\gamma_{m} r_{m} {\\langle m_{P_{reg}}^1\\rangle} - 2 r_{m}^{2} {\\langle m_{P_{reg}}^0\\rangle}^{2}\\right), \\quad \\frac{r_{m} {k_{off}^r} {k_{on}^p}}{2 \\gamma_{m}^{2} \\left({k_{off}^p} {k_{off}^r} + {k_{off}^p} {k_{on}^r} + {k_{off}^r} {k_{on}^p}\\right)^{2} \\left({k_{off}^p} {k_{on}^p} \\left(\\gamma_{m} + {k_{off}^r}\\right) + {k_{off}^r} {k_{on}^r} \\left(\\gamma_{m} + {k_{off}^p}\\right) - \\left(\\gamma_{m} + {k_{off}^p}\\right) \\left(\\gamma_{m} + {k_{off}^r}\\right) \\left(\\gamma_{m} + {k_{on}^p} + {k_{on}^r}\\right)\\right)} \\left(\\gamma_{m} \\left({k_{off}^p} {k_{off}^r} + {k_{off}^p} {k_{on}^r} + {k_{off}^r} {k_{on}^p}\\right) \\left(- \\gamma_{m} {k_{off}^p} {k_{on}^r} - \\gamma_{m} {k_{off}^p} \\left(\\gamma_{m} + {k_{off}^r}\\right) + \\gamma_{m} \\left({k_{off}^r} {k_{on}^r} - \\left(\\gamma_{m} + {k_{off}^r}\\right) \\left(\\gamma_{m} + {k_{on}^p} + {k_{on}^r}\\right)\\right) + 2 r_{m} \\left({k_{off}^r} {k_{on}^r} - \\left(\\gamma_{m} + {k_{off}^r}\\right) \\left(\\gamma_{m} + {k_{on}^p} + {k_{on}^r}\\right)\\right) + {k_{off}^p} {k_{on}^p} \\left(\\gamma_{m} + {k_{off}^r}\\right) + {k_{off}^r} {k_{on}^r} \\left(\\gamma_{m} + {k_{off}^p}\\right) - \\left(\\gamma_{m} + {k_{off}^p}\\right) \\left(\\gamma_{m} + {k_{off}^r}\\right) \\left(\\gamma_{m} + {k_{on}^p} + {k_{on}^r}\\right)\\right) - 2 r_{m} {k_{off}^r} {k_{on}^p} \\left({k_{off}^p} {k_{on}^p} \\left(\\gamma_{m} + {k_{off}^r}\\right) + {k_{off}^r} {k_{on}^r} \\left(\\gamma_{m} + {k_{off}^p}\\right) - \\left(\\gamma_{m} + {k_{off}^p}\\right) \\left(\\gamma_{m} + {k_{off}^r}\\right) \\left(\\gamma_{m} + {k_{on}^p} + {k_{on}^r}\\right)\\right)\\right)\\right )$$"
      ],
      "text/plain": [
       "⎛                                                                             \n",
       "⎜{\\langle m_{E_{reg}}__1\\rangle}   {\\langle m_{P_{reg}}__1\\rangle}   {\\langle \n",
       "⎜─────────────────────────────── + ─────────────────────────────── + ─────────\n",
       "⎜               2                                 2                           \n",
       "⎝                                                                             \n",
       "\n",
       "                                                                              \n",
       "m_{R_{reg}}__1\\rangle}   γₘ⋅rₘ⋅{\\langle m_{P_{reg}}__0\\rangle} + 2⋅γₘ⋅rₘ⋅{\\lan\n",
       "────────────────────── + ─────────────────────────────────────────────────────\n",
       "      2                                                                       \n",
       "                                                                              \n",
       "\n",
       "                                 2                                2           \n",
       "gle m_{P_{reg}}__1\\rangle} - 2⋅rₘ ⋅{\\langle m_{P_{reg}}__0\\rangle}   rₘ⋅{k_{of\n",
       "───────────────────────────────────────────────────────────────────, ─────────\n",
       "        2                                                                     \n",
       "    2⋅γₘ                                                                      \n",
       "\n",
       "                                                                              \n",
       "f}__r}⋅{k_{on}__p}⋅(γₘ⋅({k_{off}__p}⋅{k_{off}__r} + {k_{off}__p}⋅{k_{on}__r} +\n",
       "──────────────────────────────────────────────────────────────────────────────\n",
       "                                                                              \n",
       "                                                                              \n",
       "\n",
       "                                                                              \n",
       " {k_{off}__r}⋅{k_{on}__p})⋅(-γₘ⋅{k_{off}__p}⋅{k_{on}__r} - γₘ⋅{k_{off}__p}⋅(γₘ\n",
       "──────────────────────────────────────────────────────────────────────────────\n",
       "                                                                              \n",
       "                                                                              \n",
       "\n",
       "                                                                              \n",
       " + {k_{off}__r}) + γₘ⋅({k_{off}__r}⋅{k_{on}__r} - (γₘ + {k_{off}__r})⋅(γₘ + {k\n",
       "──────────────────────────────────────────────────────────────────────────────\n",
       "                                                                           2  \n",
       "                                                                       2⋅γₘ ⋅(\n",
       "\n",
       "                                                                              \n",
       "_{on}__p} + {k_{on}__r})) + 2⋅rₘ⋅({k_{off}__r}⋅{k_{on}__r} - (γₘ + {k_{off}__r\n",
       "──────────────────────────────────────────────────────────────────────────────\n",
       "                                                                              \n",
       "{k_{off}__p}⋅{k_{off}__r} + {k_{off}__p}⋅{k_{on}__r} + {k_{off}__r}⋅{k_{on}__p\n",
       "\n",
       "                                                                              \n",
       "})⋅(γₘ + {k_{on}__p} + {k_{on}__r})) + {k_{off}__p}⋅{k_{on}__p}⋅(γₘ + {k_{off}\n",
       "──────────────────────────────────────────────────────────────────────────────\n",
       "  2                                                                           \n",
       "}) ⋅({k_{off}__p}⋅{k_{on}__p}⋅(γₘ + {k_{off}__r}) + {k_{off}__r}⋅{k_{on}__r}⋅(\n",
       "\n",
       "                                                                              \n",
       "__r}) + {k_{off}__r}⋅{k_{on}__r}⋅(γₘ + {k_{off}__p}) - (γₘ + {k_{off}__p})⋅(γₘ\n",
       "──────────────────────────────────────────────────────────────────────────────\n",
       "                                                                              \n",
       "γₘ + {k_{off}__p}) - (γₘ + {k_{off}__p})⋅(γₘ + {k_{off}__r})⋅(γₘ + {k_{on}__p}\n",
       "\n",
       "                                                                              \n",
       " + {k_{off}__r})⋅(γₘ + {k_{on}__p} + {k_{on}__r})) - 2⋅rₘ⋅{k_{off}__r}⋅{k_{on}\n",
       "──────────────────────────────────────────────────────────────────────────────\n",
       "                                                                              \n",
       " + {k_{on}__r}))                                                              \n",
       "\n",
       "                                                                              \n",
       "__p}⋅({k_{off}__p}⋅{k_{on}__p}⋅(γₘ + {k_{off}__r}) + {k_{off}__r}⋅{k_{on}__r}⋅\n",
       "──────────────────────────────────────────────────────────────────────────────\n",
       "                                                                              \n",
       "                                                                              \n",
       "\n",
       "                                                                              \n",
       "(γₘ + {k_{off}__p}) - (γₘ + {k_{off}__p})⋅(γₘ + {k_{off}__r})⋅(γₘ + {k_{on}__p\n",
       "──────────────────────────────────────────────────────────────────────────────\n",
       "                                                                              \n",
       "                                                                              \n",
       "\n",
       "                  ⎞\n",
       "} + {k_{on}__r})))⎟\n",
       "──────────────────⎟\n",
       "                  ⎟\n",
       "                  ⎠"
      ]
     },
     "execution_count": 115,
     "metadata": {},
     "output_type": "execute_result"
    }
   ],
   "source": [
    "# Compute the variance for the three-state promoter\n",
    "var_reg = (second_reg - first_reg**2)\n",
    "var_reg_s = var_reg.subs(first_sol_reg).subs(zero_sol_reg).simplify()\n",
    "var_reg.ratsimp(), var_reg_s.simplify()"
   ]
  },
  {
   "cell_type": "markdown",
   "metadata": {},
   "source": [
    "Now the noise squared $\\eta_{reg}$"
   ]
  },
  {
   "cell_type": "code",
   "execution_count": 112,
   "metadata": {},
   "outputs": [
    {
     "data": {
      "image/png": "[encoded data removed]",
      "text/latex": [
       "$$-1 + \\frac{1}{2 r_{m}^{2} {\\langle m_{P_{reg}}^0\\rangle}^{2}} \\left(\\gamma_{m}^{2} {\\langle m_{E_{reg}}^1\\rangle} + \\gamma_{m}^{2} {\\langle m_{P_{reg}}^1\\rangle} + \\gamma_{m}^{2} {\\langle m_{R_{reg}}^1\\rangle} + \\gamma_{m} r_{m} {\\langle m_{P_{reg}}^0\\rangle} + 2 \\gamma_{m} r_{m} {\\langle m_{P_{reg}}^1\\rangle}\\right)$$"
      ],
      "text/plain": [
       "       2                                     2                                \n",
       "     γₘ ⋅{\\langle m_{E_{reg}}__1\\rangle} + γₘ ⋅{\\langle m_{P_{reg}}__1\\rangle}\n",
       "-1 + ─────────────────────────────────────────────────────────────────────────\n",
       "                                                                              \n",
       "                                                                              \n",
       "\n",
       "     2                                                                        \n",
       " + γₘ ⋅{\\langle m_{R_{reg}}__1\\rangle} + γₘ⋅rₘ⋅{\\langle m_{P_{reg}}__0\\rangle}\n",
       "──────────────────────────────────────────────────────────────────────────────\n",
       "         2                                2                                   \n",
       "     2⋅rₘ ⋅{\\langle m_{P_{reg}}__0\\rangle}                                    \n",
       "\n",
       "                                          \n",
       " + 2⋅γₘ⋅rₘ⋅{\\langle m_{P_{reg}}__1\\rangle}\n",
       "──────────────────────────────────────────\n",
       "                                          \n",
       "                                          "
      ]
     },
     "execution_count": 112,
     "metadata": {},
     "output_type": "execute_result"
    }
   ],
   "source": [
    "# Compute the noise-square for the three-state promoter\n",
    "noise_square_reg = (var_reg / first_reg**2)\n",
    "noise_square_reg.ratsimp()"
   ]
  },
  {
   "cell_type": "markdown",
   "metadata": {},
   "source": [
    "And finally the fano-factor."
   ]
  },
  {
   "cell_type": "code",
   "execution_count": 136,
   "metadata": {},
   "outputs": [
    {
     "data": {
      "image/png": "[encoded data removed]",
      "text/latex": [
       "$$\\frac{\\gamma_{m} \\left({k_{off}^r} {k_{on}^r} - \\left(\\gamma_{m} + {k_{off}^r}\\right) \\left(\\gamma_{m} + {k_{on}^p} + {k_{on}^r}\\right)\\right)}{{k_{off}^p} {k_{on}^p} \\left(\\gamma_{m} + {k_{off}^r}\\right) + {k_{off}^r} {k_{on}^r} \\left(\\gamma_{m} + {k_{off}^p}\\right) - \\left(\\gamma_{m} + {k_{off}^p}\\right) \\left(\\gamma_{m} + {k_{off}^r}\\right) \\left(\\gamma_{m} + {k_{on}^p} + {k_{on}^r}\\right)}$$"
      ],
      "text/plain": [
       "                                         γₘ⋅({k_{off}__r}⋅{k_{on}__r} - (γₘ + \n",
       "──────────────────────────────────────────────────────────────────────────────\n",
       "{k_{off}__p}⋅{k_{on}__p}⋅(γₘ + {k_{off}__r}) + {k_{off}__r}⋅{k_{on}__r}⋅(γₘ + \n",
       "\n",
       "{k_{off}__r})⋅(γₘ + {k_{on}__p} + {k_{on}__r}))                               \n",
       "──────────────────────────────────────────────────────────────────────────────\n",
       "{k_{off}__p}) - (γₘ + {k_{off}__p})⋅(γₘ + {k_{off}__r})⋅(γₘ + {k_{on}__p} + {k\n",
       "\n",
       "          \n",
       "──────────\n",
       "_{on}__r})"
      ]
     },
     "execution_count": 136,
     "metadata": {},
     "output_type": "execute_result"
    }
   ],
   "source": [
    "first_sol_reg[m1_reg[0]] / first_reg.simplify()"
   ]
  },
  {
   "cell_type": "code",
   "execution_count": 121,
   "metadata": {},
   "outputs": [
    {
     "data": {
      "image/png": "[encoded data removed]",
      "text/latex": [
       "$$\\left ( \\frac{1}{2} + \\frac{1}{2 \\gamma_{m} r_{m} {\\langle m_{P_{reg}}^0\\rangle}} \\left(\\gamma_{m}^{2} {\\langle m_{E_{reg}}^1\\rangle} + \\gamma_{m}^{2} {\\langle m_{P_{reg}}^1\\rangle} + \\gamma_{m}^{2} {\\langle m_{R_{reg}}^1\\rangle} + 2 \\gamma_{m} r_{m} {\\langle m_{P_{reg}}^1\\rangle} - 2 r_{m}^{2} {\\langle m_{P_{reg}}^0\\rangle}^{2}\\right), \\quad \\frac{1}{\\gamma_{m} \\left({k_{off}^p} {k_{off}^r} + {k_{off}^p} {k_{on}^r} + {k_{off}^r} {k_{on}^p}\\right) \\left({k_{off}^p} {k_{on}^p} \\left(\\gamma_{m} + {k_{off}^r}\\right) + {k_{off}^r} {k_{on}^r} \\left(\\gamma_{m} + {k_{off}^p}\\right) - \\left(\\gamma_{m} + {k_{off}^p}\\right) \\left(\\gamma_{m} + {k_{off}^r}\\right) \\left(\\gamma_{m} + {k_{on}^p} + {k_{on}^r}\\right)\\right)} \\left(\\frac{\\gamma_{m}}{2} \\left({k_{off}^p} {k_{off}^r} + {k_{off}^p} {k_{on}^r} + {k_{off}^r} {k_{on}^p}\\right) \\left(- \\gamma_{m} {k_{off}^p} {k_{on}^r} - \\gamma_{m} {k_{off}^p} \\left(\\gamma_{m} + {k_{off}^r}\\right) + \\gamma_{m} \\left({k_{off}^r} {k_{on}^r} - \\left(\\gamma_{m} + {k_{off}^r}\\right) \\left(\\gamma_{m} + {k_{on}^p} + {k_{on}^r}\\right)\\right) + 2 r_{m} \\left({k_{off}^r} {k_{on}^r} - \\left(\\gamma_{m} + {k_{off}^r}\\right) \\left(\\gamma_{m} + {k_{on}^p} + {k_{on}^r}\\right)\\right) + {k_{off}^p} {k_{on}^p} \\left(\\gamma_{m} + {k_{off}^r}\\right) + {k_{off}^r} {k_{on}^r} \\left(\\gamma_{m} + {k_{off}^p}\\right) - \\left(\\gamma_{m} + {k_{off}^p}\\right) \\left(\\gamma_{m} + {k_{off}^r}\\right) \\left(\\gamma_{m} + {k_{on}^p} + {k_{on}^r}\\right)\\right) - r_{m} {k_{off}^r} {k_{on}^p} \\left({k_{off}^p} {k_{on}^p} \\left(\\gamma_{m} + {k_{off}^r}\\right) + {k_{off}^r} {k_{on}^r} \\left(\\gamma_{m} + {k_{off}^p}\\right) - \\left(\\gamma_{m} + {k_{off}^p}\\right) \\left(\\gamma_{m} + {k_{off}^r}\\right) \\left(\\gamma_{m} + {k_{on}^p} + {k_{on}^r}\\right)\\right)\\right)\\right )$$"
      ],
      "text/plain": [
       "⎛                                                                             \n",
       "⎜      2                                     2                                \n",
       "⎜1   γₘ ⋅{\\langle m_{E_{reg}}__1\\rangle} + γₘ ⋅{\\langle m_{P_{reg}}__1\\rangle}\n",
       "⎜─ + ─────────────────────────────────────────────────────────────────────────\n",
       "⎝2                                                                            \n",
       "\n",
       "                                                                              \n",
       "     2                                                                        \n",
       " + γₘ ⋅{\\langle m_{R_{reg}}__1\\rangle} + 2⋅γₘ⋅rₘ⋅{\\langle m_{P_{reg}}__1\\rangl\n",
       "──────────────────────────────────────────────────────────────────────────────\n",
       "    2⋅γₘ⋅rₘ⋅{\\langle m_{P_{reg}}__0\\rangle}                                   \n",
       "\n",
       "                                             γₘ⋅({k_{off}__p}⋅{k_{off}__r} + {\n",
       "         2                                2  ─────────────────────────────────\n",
       "e} - 2⋅rₘ ⋅{\\langle m_{P_{reg}}__0\\rangle}                                    \n",
       "───────────────────────────────────────────, ─────────────────────────────────\n",
       "                                                                              \n",
       "\n",
       "k_{off}__p}⋅{k_{on}__r} + {k_{off}__r}⋅{k_{on}__p})⋅(-γₘ⋅{k_{off}__p}⋅{k_{on}_\n",
       "──────────────────────────────────────────────────────────────────────────────\n",
       "                                                                              \n",
       "──────────────────────────────────────────────────────────────────────────────\n",
       "                                                                              \n",
       "\n",
       "_r} - γₘ⋅{k_{off}__p}⋅(γₘ + {k_{off}__r}) + γₘ⋅({k_{off}__r}⋅{k_{on}__r} - (γₘ\n",
       "──────────────────────────────────────────────────────────────────────────────\n",
       "                                                                              \n",
       "──────────────────────────────────────────────────────────────────────────────\n",
       "                                                                              \n",
       "\n",
       " + {k_{off}__r})⋅(γₘ + {k_{on}__p} + {k_{on}__r})) + 2⋅rₘ⋅({k_{off}__r}⋅{k_{on\n",
       "──────────────────────────────────────────────────────────────────────────────\n",
       "                                                           2                  \n",
       "──────────────────────────────────────────────────────────────────────────────\n",
       "                                 γₘ⋅({k_{off}__p}⋅{k_{off}__r} + {k_{off}__p}⋅\n",
       "\n",
       "}__r} - (γₘ + {k_{off}__r})⋅(γₘ + {k_{on}__p} + {k_{on}__r})) + {k_{off}__p}⋅{\n",
       "──────────────────────────────────────────────────────────────────────────────\n",
       "                                                                              \n",
       "──────────────────────────────────────────────────────────────────────────────\n",
       "{k_{on}__r} + {k_{off}__r}⋅{k_{on}__p})⋅({k_{off}__p}⋅{k_{on}__p}⋅(γₘ + {k_{of\n",
       "\n",
       "k_{on}__p}⋅(γₘ + {k_{off}__r}) + {k_{off}__r}⋅{k_{on}__r}⋅(γₘ + {k_{off}__p}) \n",
       "──────────────────────────────────────────────────────────────────────────────\n",
       "                                                                              \n",
       "──────────────────────────────────────────────────────────────────────────────\n",
       "f}__r}) + {k_{off}__r}⋅{k_{on}__r}⋅(γₘ + {k_{off}__p}) - (γₘ + {k_{off}__p})⋅(\n",
       "\n",
       "- (γₘ + {k_{off}__p})⋅(γₘ + {k_{off}__r})⋅(γₘ + {k_{on}__p} + {k_{on}__r}))   \n",
       "─────────────────────────────────────────────────────────────────────────── - \n",
       "                                                                              \n",
       "──────────────────────────────────────────────────────────────────────────────\n",
       "γₘ + {k_{off}__r})⋅(γₘ + {k_{on}__p} + {k_{on}__r}))                          \n",
       "\n",
       "                                                                              \n",
       "rₘ⋅{k_{off}__r}⋅{k_{on}__p}⋅({k_{off}__p}⋅{k_{on}__p}⋅(γₘ + {k_{off}__r}) + {k\n",
       "                                                                              \n",
       "──────────────────────────────────────────────────────────────────────────────\n",
       "                                                                              \n",
       "\n",
       "                                                                              \n",
       "_{off}__r}⋅{k_{on}__r}⋅(γₘ + {k_{off}__p}) - (γₘ + {k_{off}__p})⋅(γₘ + {k_{off\n",
       "                                                                              \n",
       "──────────────────────────────────────────────────────────────────────────────\n",
       "                                                                              \n",
       "\n",
       "                                        ⎞\n",
       "}__r})⋅(γₘ + {k_{on}__p} + {k_{on}__r}))⎟\n",
       "                                        ⎟\n",
       "────────────────────────────────────────⎟\n",
       "                                        ⎠"
      ]
     },
     "execution_count": 121,
     "metadata": {},
     "output_type": "execute_result"
    }
   ],
   "source": [
    "fano_reg = var_reg / first_reg\n",
    "fano_reg_s = fano_reg.subs(first_sol_reg).subs(zero_sol_reg)\n",
    "fano_reg.ratsimp(), fano_reg_s.simplify()"
   ]
  },
  {
   "cell_type": "markdown",
   "metadata": {},
   "source": [
    "### Third moment three-state promoter\n",
    "\n",
    "As an extra derivation we will include the 3rd moment in our calculation. This will be useful to define the equations to compute the parameters. The matrix equation for the 3rd moment is given by\n",
    "$$\n",
    "\\mathbf{0} = \\left( \\mathbf{K}^r_m - 3 \\mathbf{\\Gamma}^r_n \\right) \n",
    "             \\left\\langle \\mathbf{m}^2 \\right\\rangle\n",
    "             + \\left( 3 \\mathbf{R}^r_m + 3 \\mathbf{\\Gamma}^r_m \\right)\n",
    "             \\left\\langle \\mathbf{m}^2 \\right\\rangle\n",
    "             + \\left( 3 \\mathbf{R}^r_m - \\mathbf{\\Gamma}^r_m \\right)\n",
    "             \\left\\langle \\mathbf{m}^1 \\right\\rangle\n",
    "             + \\mathbf{R}^r_m\n",
    "             \\left\\langle \\mathbf{m}^0 \\right\\rangle\n",
    "$$\n",
    "\n",
    "Let's again define this augmented matrix."
   ]
  },
  {
   "cell_type": "code",
   "execution_count": 43,
   "metadata": {},
   "outputs": [
    {
     "data": {
      "image/png": "[encoded data removed]",
      "text/latex": [
       "$$\\left[\\begin{matrix}3 \\gamma_{m} + {k_{off}^p} & - {k_{on}^p} & r_{m} {\\langle m_{P_{reg}}^0\\rangle} + {\\langle m_{P_{reg}}^1\\rangle} \\left(- \\gamma_{m} + 3 r_{m}\\right) + {\\langle m_{P_{reg}}^2\\rangle} \\left(3 \\gamma_{m} + 3 r_{m}\\right) & 3 \\gamma_{m} + {k_{off}^p}\\\\- {k_{off}^p} & 3 \\gamma_{m} + {k_{on}^p} + {k_{on}^r} & - \\gamma_{m} {\\langle m_{E_{reg}}^1\\rangle} + 3 \\gamma_{m} {\\langle m_{E_{reg}}^2\\rangle} & - {k_{off}^p}\\\\0 & - {k_{on}^r} & - \\gamma_{m} {\\langle m_{R_{reg}}^1\\rangle} + 3 \\gamma_{m} {\\langle m_{R_{reg}}^2\\rangle} & 0\\end{matrix}\\right]$$"
      ],
      "text/plain": [
       "⎡3⋅γₘ + {k_{off}__p}            -{k_{on}__p}            rₘ⋅{\\langle m_{P_{reg}\n",
       "⎢                                                                             \n",
       "⎢   -{k_{off}__p}     3⋅γₘ + {k_{on}__p} + {k_{on}__r}                        \n",
       "⎢                                                                             \n",
       "⎣         0                     -{k_{on}__r}                                  \n",
       "\n",
       "}__0\\rangle} + {\\langle m_{P_{reg}}__1\\rangle}⋅(-γₘ + 3⋅rₘ) + {\\langle m_{P_{r\n",
       "                                                                              \n",
       "     -γₘ⋅{\\langle m_{E_{reg}}__1\\rangle} + 3⋅γₘ⋅{\\langle m_{E_{reg}}__2\\rangle\n",
       "                                                                              \n",
       "     -γₘ⋅{\\langle m_{R_{reg}}__1\\rangle} + 3⋅γₘ⋅{\\langle m_{R_{reg}}__2\\rangle\n",
       "\n",
       "eg}}__2\\rangle}⋅(3⋅γₘ + 3⋅rₘ)  3⋅γₘ + {k_{off}__p}⎤\n",
       "                                                  ⎥\n",
       "}                                 -{k_{off}__p}   ⎥\n",
       "                                                  ⎥\n",
       "}                                       0         ⎦"
      ]
     },
     "execution_count": 43,
     "metadata": {},
     "output_type": "execute_result"
    }
   ],
   "source": [
    "# Define augmented matrix for third moment\n",
    "third_aug_reg = (3 * Gmat_reg - Kmat_reg).col_insert(2, \n",
    "                  (3 * Rmat_reg + 3 * Gmat_reg) * sympy.Matrix(m2_reg)\\\n",
    "                  + (3 * Rmat_reg - Gmat_reg) * sympy.Matrix(m1_reg)\n",
    "                  + Rmat_reg * sympy.Matrix(m0_reg))\n",
    "third_aug_reg"
   ]
  },
  {
   "cell_type": "code",
   "execution_count": 44,
   "metadata": {},
   "outputs": [
    {
     "data": {
      "image/png": "[encoded data removed]",
      "text/latex": [
       "$$\\left \\{ {\\langle m_{E_{reg}}^3\\rangle} : 0, \\quad {\\langle m_{P_{reg}}^3\\rangle} : 1, \\quad {\\langle m_{R_{reg}}^3\\rangle} : 0\\right \\}$$"
      ],
      "text/plain": [
       "{{\\langle m_{E_{reg}}__3\\rangle}: 0, {\\langle m_{P_{reg}}__3\\rangle}: 1, {\\lan\n",
       "gle m_{R_{reg}}__3\\rangle}: 0}"
      ]
     },
     "execution_count": 44,
     "metadata": {},
     "output_type": "execute_result"
    }
   ],
   "source": [
    "# Solve linear system for the three moments\n",
    "third_sol_reg = sympy.solve_linear_system(third_aug_reg, *m3_reg)\n",
    "third_sol_reg"
   ]
  },
  {
   "cell_type": "code",
   "execution_count": 137,
   "metadata": {},
   "outputs": [
    {
     "data": {
      "image/png": "[encoded data removed]",
      "text/latex": [
       "$$1$$"
      ],
      "text/plain": [
       "1"
      ]
     },
     "execution_count": 137,
     "metadata": {},
     "output_type": "execute_result"
    }
   ],
   "source": [
    "third_reg = sum(third_sol_reg.values()).simplify()\n",
    "third_reg"
   ]
  },
  {
   "cell_type": "code",
   "execution_count": 138,
   "metadata": {},
   "outputs": [
    {
     "data": {
      "image/png": "[encoded data removed]",
      "text/latex": [
       "$$\\frac{r_{m} {k_{off}^r} {k_{on}^p}}{{k_{off}^p} {k_{off}^r} + {k_{off}^p} {k_{on}^r} + {k_{off}^r} {k_{on}^p}}$$"
      ],
      "text/plain": [
       "                          rₘ⋅{k_{off}__r}⋅{k_{on}__p}                         \n",
       "──────────────────────────────────────────────────────────────────────────────\n",
       "{k_{off}__p}⋅{k_{off}__r} + {k_{off}__p}⋅{k_{on}__r} + {k_{off}__r}⋅{k_{on}__p\n",
       "\n",
       " \n",
       "─\n",
       "}"
      ]
     },
     "execution_count": 138,
     "metadata": {},
     "output_type": "execute_result"
    }
   ],
   "source": [
    "r1 = first_reg.subs(gm, 1).subs(zero_sol_reg).subs(gm, 1)\n",
    "r1"
   ]
  },
  {
   "cell_type": "code",
   "execution_count": 139,
   "metadata": {},
   "outputs": [
    {
     "data": {
      "image/png": "[encoded data removed]",
      "text/latex": [
       "$$\\frac{r_{m} \\left({k_{off}^r} {k_{on}^p} + {k_{off}^r} + {k_{on}^p} + {k_{on}^r} + 1\\right)}{{k_{off}^p} {k_{off}^r} + {k_{off}^p} {k_{on}^r} + {k_{off}^p} + {k_{off}^r} {k_{on}^p} + {k_{off}^r} + {k_{on}^p} + {k_{on}^r} + 1}$$"
      ],
      "text/plain": [
       "                                 rₘ⋅({k_{off}__r}⋅{k_{on}__p} + {k_{off}__r} +\n",
       "──────────────────────────────────────────────────────────────────────────────\n",
       "{k_{off}__p}⋅{k_{off}__r} + {k_{off}__p}⋅{k_{on}__r} + {k_{off}__p} + {k_{off}\n",
       "\n",
       " {k_{on}__p} + {k_{on}__r} + 1)                                \n",
       "───────────────────────────────────────────────────────────────\n",
       "__r}⋅{k_{on}__p} + {k_{off}__r} + {k_{on}__p} + {k_{on}__r} + 1"
      ]
     },
     "execution_count": 139,
     "metadata": {},
     "output_type": "execute_result"
    }
   ],
   "source": [
    "r2 = ((second_reg - first_reg) / first_reg).subs(gm, 1).\\\n",
    "     subs(first_sol_reg).subs(zero_sol_reg).subs(gm, 1).simplify()\n",
    "r2"
   ]
  },
  {
   "cell_type": "code",
   "execution_count": 140,
   "metadata": {},
   "outputs": [
    {
     "data": {
      "image/png": "[encoded data removed]",
      "text/latex": [
       "$$- \\frac{r_{m} {k_{off}^r} {k_{on}^p} \\left({k_{off}^p} {k_{on}^p} \\left({k_{off}^r} + 1\\right) + {k_{off}^r} {k_{on}^r} \\left({k_{off}^p} + 1\\right) - \\left({k_{off}^p} + 1\\right) \\left({k_{off}^r} + 1\\right) \\left({k_{on}^p} + {k_{on}^r} + 1\\right)\\right) + 3 r_{m} {k_{off}^r} {k_{on}^p} \\left(- 2 r_{m} \\left({k_{off}^r} {k_{on}^r} - \\left({k_{off}^r} + 1\\right) \\left({k_{on}^p} + {k_{on}^r} + 1\\right)\\right) + {k_{off}^p} {k_{on}^r} + {k_{off}^p} \\left({k_{off}^r} + 1\\right) - {k_{off}^r} {k_{on}^r} + \\left({k_{off}^r} + 1\\right) \\left({k_{on}^p} + {k_{on}^r} + 1\\right)\\right) + 2 \\left({k_{off}^p} {k_{off}^r} + {k_{off}^p} {k_{on}^r} + {k_{off}^r} {k_{on}^p}\\right) \\left({k_{off}^p} {k_{on}^p} \\left({k_{off}^r} + 1\\right) + {k_{off}^r} {k_{on}^r} \\left({k_{off}^p} + 1\\right) - \\left({k_{off}^p} + 1\\right) \\left({k_{off}^r} + 1\\right) \\left({k_{on}^p} + {k_{on}^r} + 1\\right)\\right)}{r_{m} {k_{off}^r} {k_{on}^p} \\left(- 2 r_{m} \\left({k_{off}^r} {k_{on}^r} - \\left({k_{off}^r} + 1\\right) \\left({k_{on}^p} + {k_{on}^r} + 1\\right)\\right) + {k_{off}^p} {k_{on}^p} \\left({k_{off}^r} + 1\\right) + {k_{off}^p} {k_{on}^r} + {k_{off}^p} \\left({k_{off}^r} + 1\\right) + {k_{off}^r} {k_{on}^r} \\left({k_{off}^p} + 1\\right) - {k_{off}^r} {k_{on}^r} - \\left({k_{off}^p} + 1\\right) \\left({k_{off}^r} + 1\\right) \\left({k_{on}^p} + {k_{on}^r} + 1\\right) + \\left({k_{off}^r} + 1\\right) \\left({k_{on}^p} + {k_{on}^r} + 1\\right)\\right)}$$"
      ],
      "text/plain": [
       "-(rₘ⋅{k_{off}__r}⋅{k_{on}__p}⋅({k_{off}__p}⋅{k_{on}__p}⋅({k_{off}__r} + 1) + {\n",
       "──────────────────────────────────────────────────────────────────────────────\n",
       "                                                                              \n",
       "\n",
       "k_{off}__r}⋅{k_{on}__r}⋅({k_{off}__p} + 1) - ({k_{off}__p} + 1)⋅({k_{off}__r} \n",
       "──────────────────────────────────────────────────────────────────────────────\n",
       "                                                                 rₘ⋅{k_{off}__\n",
       "\n",
       "+ 1)⋅({k_{on}__p} + {k_{on}__r} + 1)) + 3⋅rₘ⋅{k_{off}__r}⋅{k_{on}__p}⋅(-2⋅rₘ⋅(\n",
       "──────────────────────────────────────────────────────────────────────────────\n",
       "r}⋅{k_{on}__p}⋅(-2⋅rₘ⋅({k_{off}__r}⋅{k_{on}__r} - ({k_{off}__r} + 1)⋅({k_{on}_\n",
       "\n",
       "{k_{off}__r}⋅{k_{on}__r} - ({k_{off}__r} + 1)⋅({k_{on}__p} + {k_{on}__r} + 1))\n",
       "──────────────────────────────────────────────────────────────────────────────\n",
       "_p} + {k_{on}__r} + 1)) + {k_{off}__p}⋅{k_{on}__p}⋅({k_{off}__r} + 1) + {k_{of\n",
       "\n",
       " + {k_{off}__p}⋅{k_{on}__r} + {k_{off}__p}⋅({k_{off}__r} + 1) - {k_{off}__r}⋅{\n",
       "──────────────────────────────────────────────────────────────────────────────\n",
       "f}__p}⋅{k_{on}__r} + {k_{off}__p}⋅({k_{off}__r} + 1) + {k_{off}__r}⋅{k_{on}__r\n",
       "\n",
       "k_{on}__r} + ({k_{off}__r} + 1)⋅({k_{on}__p} + {k_{on}__r} + 1)) + 2⋅({k_{off}\n",
       "──────────────────────────────────────────────────────────────────────────────\n",
       "}⋅({k_{off}__p} + 1) - {k_{off}__r}⋅{k_{on}__r} - ({k_{off}__p} + 1)⋅({k_{off}\n",
       "\n",
       "__p}⋅{k_{off}__r} + {k_{off}__p}⋅{k_{on}__r} + {k_{off}__r}⋅{k_{on}__p})⋅({k_{\n",
       "──────────────────────────────────────────────────────────────────────────────\n",
       "__r} + 1)⋅({k_{on}__p} + {k_{on}__r} + 1) + ({k_{off}__r} + 1)⋅({k_{on}__p} + \n",
       "\n",
       "off}__p}⋅{k_{on}__p}⋅({k_{off}__r} + 1) + {k_{off}__r}⋅{k_{on}__r}⋅({k_{off}__\n",
       "──────────────────────────────────────────────────────────────────────────────\n",
       "{k_{on}__r} + 1))                                                             \n",
       "\n",
       "p} + 1) - ({k_{off}__p} + 1)⋅({k_{off}__r} + 1)⋅({k_{on}__p} + {k_{on}__r} + 1\n",
       "──────────────────────────────────────────────────────────────────────────────\n",
       "                                                                              \n",
       "\n",
       "))) \n",
       "────\n",
       "    "
      ]
     },
     "execution_count": 140,
     "metadata": {},
     "output_type": "execute_result"
    }
   ],
   "source": [
    "r3 = ((third_reg - 3 * second_reg + 2 * first_reg) / \\\n",
    "     (second_reg - first_reg)).subs(second_sol_reg).subs(first_sol_reg).\\\n",
    "     subs(zero_sol_reg).subs(gm, 1).simplify()\n",
    "r3"
   ]
  },
  {
   "cell_type": "code",
   "execution_count": 141,
   "metadata": {},
   "outputs": [
    {
     "data": {
      "image/png": "[encoded data removed]",
      "text/latex": [
       "$$\\left [ \\right ]$$"
      ],
      "text/plain": [
       "[]"
      ]
     },
     "execution_count": 141,
     "metadata": {},
     "output_type": "execute_result"
    }
   ],
   "source": [
    "x1, x2, x3 = sympy.symbols('r_1 r_2 r_3')\n",
    "sympy.solve([r1 - x1, r2 - x2, r3 - x3], kr_off, kr_on)"
   ]
  },
  {
   "cell_type": "code",
   "execution_count": 142,
   "metadata": {},
   "outputs": [
    {
     "data": {
      "image/png": "[encoded data removed]",
      "text/latex": [
       "$$\\left \\{ {k_{off}^r} : \\frac{r_{1} {k_{off}^p} \\left(r_{2} {k_{off}^p} + r_{2} {k_{on}^p} + r_{2} - r_{m} {k_{on}^p} - r_{m}\\right)}{{k_{on}^p} \\left(r_{1} r_{2} + r_{1} r_{m} {k_{off}^p} - r_{1} r_{m} - r_{2} r_{m} {k_{off}^p} - r_{2} r_{m} + r_{m}^{2}\\right)}, \\quad {k_{on}^r} : \\frac{\\left(r_{1} {k_{off}^p} + r_{1} {k_{on}^p} - r_{m} {k_{on}^p}\\right) \\left(r_{2} {k_{off}^p} + r_{2} {k_{on}^p} + r_{2} - r_{m} {k_{on}^p} - r_{m}\\right)}{r_{1} {k_{off}^p} \\left(r_{2} {k_{off}^p} + r_{2} {k_{on}^p} + r_{2} - r_{m} {k_{on}^p} - r_{m}\\right) - \\left(r_{1} {k_{off}^p} + r_{1} {k_{on}^p} - r_{m} {k_{on}^p}\\right) \\left(r_{2} {k_{off}^p} + r_{2} - r_{m}\\right)}\\right \\}$$"
      ],
      "text/plain": [
       "⎧                 r₁⋅{k_{off}__p}⋅(r₂⋅{k_{off}__p} + r₂⋅{k_{on}__p} + r₂ - rₘ⋅\n",
       "⎪{k_{off}__r}: ───────────────────────────────────────────────────────────────\n",
       "⎨                          ⎛                                                  \n",
       "⎪              {k_{on}__p}⋅⎝r₁⋅r₂ + r₁⋅rₘ⋅{k_{off}__p} - r₁⋅rₘ - r₂⋅rₘ⋅{k_{off\n",
       "⎩                                                                             \n",
       "\n",
       "{k_{on}__p} - rₘ)                                         (r₁⋅{k_{off}__p} + r\n",
       "────────────────────, {k_{on}__r}: ───────────────────────────────────────────\n",
       "                  2⎞               r₁⋅{k_{off}__p}⋅(r₂⋅{k_{off}__p} + r₂⋅{k_{o\n",
       "}__p} - r₂⋅rₘ + rₘ ⎠                                                          \n",
       "                                                                              \n",
       "\n",
       "₁⋅{k_{on}__p} - rₘ⋅{k_{on}__p})⋅(r₂⋅{k_{off}__p} + r₂⋅{k_{on}__p} + r₂ - rₘ⋅{k\n",
       "──────────────────────────────────────────────────────────────────────────────\n",
       "n}__p} + r₂ - rₘ⋅{k_{on}__p} - rₘ) - (r₁⋅{k_{off}__p} + r₁⋅{k_{on}__p} - rₘ⋅{k\n",
       "                                                                              \n",
       "                                                                              \n",
       "\n",
       "_{on}__p} - rₘ)                       ⎫\n",
       "──────────────────────────────────────⎪\n",
       "_{on}__p})⋅(r₂⋅{k_{off}__p} + r₂ - rₘ)⎬\n",
       "                                      ⎪\n",
       "                                      ⎭"
      ]
     },
     "execution_count": 142,
     "metadata": {},
     "output_type": "execute_result"
    }
   ],
   "source": [
    "param_reg = sympy.solve([r1 - x1, r2 - x2], kr_off, kr_on)\n",
    "param_reg"
   ]
  },
  {
   "cell_type": "code",
   "execution_count": 156,
   "metadata": {},
   "outputs": [
    {
     "data": {
      "image/png": "[encoded data removed]",
      "text/latex": [
       "$$-1 + \\frac{{k_{on}^p}}{{k_{off}^p}} \\left(-1 + \\frac{r_{m}}{r_{1}}\\right)$$"
      ],
      "text/plain": [
       "                 ⎛     rₘ⎞\n",
       "     {k_{on}__p}⋅⎜-1 + ──⎟\n",
       "                 ⎝     r₁⎠\n",
       "-1 + ─────────────────────\n",
       "          {k_{off}__p}    "
      ]
     },
     "execution_count": 156,
     "metadata": {},
     "output_type": "execute_result"
    }
   ],
   "source": [
    "(param_reg[kr_on] / param_reg[kr_off]).simplify().collect(kp_on / kp_off)"
   ]
  },
  {
   "cell_type": "code",
   "execution_count": null,
   "metadata": {
    "collapsed": true
   },
   "outputs": [],
   "source": []
  }
 ],
 "metadata": {
  "anaconda-cloud": {},
  "kernelspec": {
   "display_name": "Python 3",
   "language": "python",
   "name": "python3"
  },
  "language_info": {
   "codemirror_mode": {
    "name": "ipython",
    "version": 3
   },
   "file_extension": ".py",
   "mimetype": "text/x-python",
   "name": "python",
   "nbconvert_exporter": "python",
   "pygments_lexer": "ipython3",
   "version": "3.6.3"
  }
 },
 "nbformat": 4,
 "nbformat_minor": 1
}
