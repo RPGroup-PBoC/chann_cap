{
 "cells": [
  {
   "cell_type": "markdown",
   "metadata": {},
   "source": [
    "# The moments of the distribution for protein in a two- and three-state promoter."
   ]
  },
  {
   "cell_type": "markdown",
   "metadata": {},
   "source": [
    "(c) 2017 Manuel Razo. This work is licensed under a [Creative Commons Attribution License CC-BY 4.0](https://creativecommons.org/licenses/by/4.0/). All code contained herein is licensed under an [MIT license](https://opensource.org/licenses/MIT)"
   ]
  },
  {
   "cell_type": "code",
   "execution_count": 1,
   "metadata": {
    "collapsed": true
   },
   "outputs": [],
   "source": [
    "import glob\n",
    "import pickle\n",
    "# Our numerical workhorses\n",
    "import numpy as np\n",
    "# To compute symbolic expressions\n",
    "import sympy\n",
    "sympy.init_printing(use_unicode=True, use_latex=True) # print outputs in LaTeX\n",
    "\n",
    "# Import matplotlib stuff for plotting\n",
    "import matplotlib.pyplot as plt\n",
    "import matplotlib.cm as cm\n",
    "import matplotlib as mpl\n",
    "\n",
    "# Seaborn, useful for graphics\n",
    "import seaborn as sns\n",
    "\n",
    "# Import the utils for this project\n",
    "import chann_cap_utils as chann_cap\n",
    "\n",
    "# Set PBoC plotting style\n",
    "# chann_cap.set_plotting_style()\n",
    "\n",
    "# Magic function to make matplotlib inline; other style specs must come AFTER\n",
    "%matplotlib inline\n",
    "\n",
    "# This enables SVG graphics inline (only use with static plots (non-Bokeh))\n",
    "%config InlineBackend.figure_format = 'svg'\n",
    "\n",
    "# figdir = '../../fig/chemical_master_analytic_mRNA/'\n",
    "tmpdir = '../../tmp/'"
   ]
  },
  {
   "cell_type": "markdown",
   "metadata": {},
   "source": [
    "### $\\LaTeX$ macros\n",
    "$\\newcommand{kpon}{k^p_{\\text{on}}}$\n",
    "$\\newcommand{kpoff}{k^p_{\\text{off}}}$\n",
    "$\\newcommand{kron}{k^r_{\\text{on}}}$\n",
    "$\\newcommand{kroff}{k^r_{\\text{off}}}$\n",
    "$\\newcommand{rm}{r _m}$\n",
    "$\\newcommand{gm}{\\gamma _m}$\n",
    "$\\newcommand{mm}{\\left\\langle m \\right\\rangle}$"
   ]
  },
  {
   "cell_type": "markdown",
   "metadata": {},
   "source": [
    "# Two-state promoter (protein)\n",
    "\n",
    "In this section we will perform the linear algebra to solve for the steady-state moments of the mRNA distribution.\n",
    "\n",
    "Up to this stage we wrote the chemical master equation in matrix notation and did some tricks when it came to compute the $n^{\\text{th}}$ moment. Now we will use the equations we obtained for the time derivative of the mRNA distribution moments and set that to steady-state to solve for the moments themselves.\n",
    "\n",
    "Let's first define the `sympy` variables that we will need for the two- and three-state promoter."
   ]
  },
  {
   "cell_type": "code",
   "execution_count": 2,
   "metadata": {},
   "outputs": [
    {
     "data": {
      "image/png": "[encoded data removed]",
      "text/latex": [
       "$$\\left ( {k_{off}^p}, \\quad {k_{on}^p}, \\quad {k_{off}^r}, \\quad {k_{on}^r}, \\quad r_{m}, \\quad \\gamma_{m}, \\quad r_{p}, \\quad \\gamma_{p}\\right )$$"
      ],
      "text/plain": [
       "({k_{off}__p}, {k_{on}__p}, {k_{off}__r}, {k_{on}__r}, rₘ, γₘ, rₚ, γₚ)"
      ]
     },
     "execution_count": 2,
     "metadata": {},
     "output_type": "execute_result"
    }
   ],
   "source": [
    "# Define rate constant variables\n",
    "kp_off, kp_on = sympy.symbols('{k_{off}^p} {k_{on}^p}')\n",
    "kr_off, kr_on = sympy.symbols('{k_{off}^r} {k_{on}^r}')\n",
    "\n",
    "# Define degradation rate and production rate\n",
    "rm, gm = sympy.symbols('r_m gamma_m')\n",
    "rp, gp = sympy.symbols('r_p gamma_p')\n",
    "\n",
    "kp_off, kp_on, kr_off, kr_on, rm, gm, rp, gp"
   ]
  },
  {
   "cell_type": "markdown",
   "metadata": {},
   "source": [
    "Let's now define a function that generates a `sympy` variable of the form $\\left\\langle x^n \\right\\rangle$ to easily define the variables to save the moments."
   ]
  },
  {
   "cell_type": "code",
   "execution_count": 3,
   "metadata": {
    "collapsed": true
   },
   "outputs": [],
   "source": [
    "def moment_sympy(var, moment):\n",
    "    '''\n",
    "    Shortcut to generate variables of the form <var**n> in sympy to facilitate the\n",
    "    definition of the moment variables\n",
    "    Parameters\n",
    "    ----------\n",
    "    var : string.\n",
    "        variable name string that should be put inside the <> parenthesis.\n",
    "    moment : int.\n",
    "        exponent of the moment to be defined.\n",
    "    '''\n",
    "    if moment == None:\n",
    "        return sympy.Symbol('{\\\\langle ' + var + '\\\\rangle}')\n",
    "    else:\n",
    "        return sympy.Symbol('{\\\\langle ' + var + '^{:d}'.format(moment) +\\\n",
    "                            '\\\\rangle}')"
   ]
  },
  {
   "cell_type": "markdown",
   "metadata": {},
   "source": [
    "Now let's define the moment variables for the unregulated promoter. We will do it for both the mRNA and the protein since the protein moments depend also on mRNA moments."
   ]
  },
  {
   "cell_type": "code",
   "execution_count": 4,
   "metadata": {},
   "outputs": [
    {
     "data": {
      "image/png": "[encoded data removed]",
      "text/latex": [
       "$$\\left ( \\left [ {\\langle m_{P_{unreg}}^0\\rangle}, \\quad {\\langle m_{E_{unreg}}^0\\rangle}\\right ], \\quad \\left [ {\\langle m_{P_{unreg}}^1\\rangle}, \\quad {\\langle m_{E_{unreg}}^1\\rangle}\\right ], \\quad \\left [ {\\langle m_{P_{unreg}}^2\\rangle}, \\quad {\\langle m_{E_{unreg}}^2\\rangle}\\right ], \\quad \\left [ {\\langle m_{P_{unreg}}^3\\rangle}, \\quad {\\langle m_{E_{unreg}}^3\\rangle}\\right ]\\right )$$"
      ],
      "text/plain": [
       "([{\\langle m_{P_{unreg}}__0\\rangle}, {\\langle m_{E_{unreg}}__0\\rangle}], [{\\la\n",
       "ngle m_{P_{unreg}}__1\\rangle}, {\\langle m_{E_{unreg}}__1\\rangle}], [{\\langle m\n",
       "_{P_{unreg}}__2\\rangle}, {\\langle m_{E_{unreg}}__2\\rangle}], [{\\langle m_{P_{u\n",
       "nreg}}__3\\rangle}, {\\langle m_{E_{unreg}}__3\\rangle}])"
      ]
     },
     "execution_count": 4,
     "metadata": {},
     "output_type": "execute_result"
    }
   ],
   "source": [
    "# Define the string for the states\n",
    "m_unreg = ['m_{P_{unreg}}', 'm_{E_{unreg}}']\n",
    "\n",
    "# Define the zeroth moments\n",
    "m0_unreg = [moment_sympy(x, 0) for x in m_unreg]\n",
    "# Define the first moments\n",
    "m1_unreg = [moment_sympy(x, 1) for x in m_unreg]\n",
    "# Define the second moments\n",
    "m2_unreg = [moment_sympy(x, 2) for x in m_unreg]\n",
    "# Define the second moments\n",
    "m3_unreg = [moment_sympy(x, 3) for x in m_unreg]\n",
    "\n",
    "m0_unreg, m1_unreg, m2_unreg, m3_unreg"
   ]
  },
  {
   "cell_type": "code",
   "execution_count": 5,
   "metadata": {},
   "outputs": [
    {
     "data": {
      "image/png": "[encoded data removed]",
      "text/latex": [
       "$$\\left ( \\left [ {\\langle p_{P_{unreg}}^0\\rangle}, \\quad {\\langle p_{E_{unreg}}^0\\rangle}\\right ], \\quad \\left [ {\\langle p_{P_{unreg}}^1\\rangle}, \\quad {\\langle p_{E_{unreg}}^1\\rangle}\\right ], \\quad \\left [ {\\langle p_{P_{unreg}}^2\\rangle}, \\quad {\\langle p_{E_{unreg}}^2\\rangle}\\right ], \\quad \\left [ {\\langle p_{P_{unreg}}^3\\rangle}, \\quad {\\langle p_{E_{unreg}}^3\\rangle}\\right ]\\right )$$"
      ],
      "text/plain": [
       "([{\\langle p_{P_{unreg}}__0\\rangle}, {\\langle p_{E_{unreg}}__0\\rangle}], [{\\la\n",
       "ngle p_{P_{unreg}}__1\\rangle}, {\\langle p_{E_{unreg}}__1\\rangle}], [{\\langle p\n",
       "_{P_{unreg}}__2\\rangle}, {\\langle p_{E_{unreg}}__2\\rangle}], [{\\langle p_{P_{u\n",
       "nreg}}__3\\rangle}, {\\langle p_{E_{unreg}}__3\\rangle}])"
      ]
     },
     "execution_count": 5,
     "metadata": {},
     "output_type": "execute_result"
    }
   ],
   "source": [
    "# Define the string for the states\n",
    "p_unreg = ['p_{P_{unreg}}', 'p_{E_{unreg}}']\n",
    "\n",
    "# Define the zeroth moments\n",
    "p0_unreg = [moment_sympy(x, 0) for x in p_unreg]\n",
    "# Define the first moments\n",
    "p1_unreg = [moment_sympy(x, 1) for x in p_unreg]\n",
    "# Define the second moments\n",
    "p2_unreg = [moment_sympy(x, 2) for x in p_unreg]\n",
    "# Define the second moments\n",
    "p3_unreg = [moment_sympy(x, 3) for x in p_unreg]\n",
    "\n",
    "p0_unreg, p1_unreg, p2_unreg, p3_unreg"
   ]
  },
  {
   "cell_type": "code",
   "execution_count": 99,
   "metadata": {},
   "outputs": [
    {
     "data": {
      "image/png": "[encoded data removed]",
      "text/latex": [
       "$$\\left ( {\\langle \\mathbf{m}_u^0\\rangle}, \\quad {\\langle \\mathbf{m}_u\\rangle}, \\quad {\\langle \\mathbf{m}_u^2\\rangle}, \\quad {\\langle \\mathbf{p}_u^0\\rangle}, \\quad {\\langle \\mathbf{p}_u\\rangle}, \\quad {\\langle \\mathbf{p}_u^2\\rangle}, \\quad {\\langle \\mathbf{mp}_u\\rangle}\\right )$$"
      ],
      "text/plain": [
       "({\\langle \\mathbf{m}_u__0\\rangle}, {\\langle \\mathbf{m}_u\\rangle}, {\\langle \\ma\n",
       "thbf{m}_u__2\\rangle}, {\\langle \\mathbf{p}_u__0\\rangle}, {\\langle \\mathbf{p}_u\\\n",
       "rangle}, {\\langle \\mathbf{p}_u__2\\rangle}, {\\langle \\mathbf{mp}_u\\rangle})"
      ]
     },
     "execution_count": 99,
     "metadata": {},
     "output_type": "execute_result"
    }
   ],
   "source": [
    "# define \"global\" moments\n",
    "mm0_unreg = moment_sympy('\\mathbf{m}_u', 0)\n",
    "mm1_unreg = moment_sympy('\\mathbf{m}_u', None)\n",
    "mm2_unreg = moment_sympy('\\mathbf{m}_u', 2)\n",
    "pp0_unreg = moment_sympy('\\mathbf{p}_u', 0)\n",
    "pp1_unreg = moment_sympy('\\mathbf{p}_u', None)\n",
    "pp2_unreg = moment_sympy('\\mathbf{p}_u', 2)\n",
    "mmpp_unreg = moment_sympy('\\mathbf{mp}_u', None)\n",
    "mm0_unreg, mm1_unreg, mm2_unreg, pp0_unreg, pp1_unreg, pp2_unreg, mmpp_unreg"
   ]
  },
  {
   "cell_type": "markdown",
   "metadata": {},
   "source": [
    "Now we will define the state transition matrix $\\mathbf{K}^u$, the mRNA production matrix $\\mathbf{R}^u_m$ and the mRNA degradation matrix $\\mathbf{\\Gamma}^u_m$."
   ]
  },
  {
   "cell_type": "code",
   "execution_count": 7,
   "metadata": {},
   "outputs": [
    {
     "data": {
      "image/png": "[encoded data removed]",
      "text/latex": [
       "$$\\left ( \\left[\\begin{matrix}- {k_{off}^p} & {k_{on}^p}\\\\{k_{off}^p} & - {k_{on}^p}\\end{matrix}\\right], \\quad \\left[\\begin{matrix}r_{m} & 0\\\\0 & 0\\end{matrix}\\right], \\quad \\left[\\begin{matrix}\\gamma_{m} & 0\\\\0 & \\gamma_{m}\\end{matrix}\\right], \\quad \\left[\\begin{matrix}r_{p} & 0\\\\0 & r_{p}\\end{matrix}\\right], \\quad \\left[\\begin{matrix}\\gamma_{p} & 0\\\\0 & \\gamma_{p}\\end{matrix}\\right]\\right )$$"
      ],
      "text/plain": [
       "⎛⎡-{k_{off}__p}  {k_{on}__p} ⎤  ⎡rₘ  0⎤  ⎡γₘ  0 ⎤  ⎡rₚ  0 ⎤  ⎡γₚ  0 ⎤⎞\n",
       "⎜⎢                           ⎥, ⎢     ⎥, ⎢      ⎥, ⎢      ⎥, ⎢      ⎥⎟\n",
       "⎝⎣{k_{off}__p}   -{k_{on}__p}⎦  ⎣0   0⎦  ⎣0   γₘ⎦  ⎣0   rₚ⎦  ⎣0   γₚ⎦⎠"
      ]
     },
     "execution_count": 7,
     "metadata": {},
     "output_type": "execute_result"
    }
   ],
   "source": [
    "# Define the rate constant matrix\n",
    "Km_unreg = sympy.Matrix([[-kp_off, kp_on], \n",
    "                           [kp_off, -kp_on]])\n",
    "# Define the mRNA production matrix\n",
    "Rm_unreg = sympy.Matrix([[rm, 0], \n",
    "                         [0, 0]])\n",
    "# Define the mRNA degradation matrix\n",
    "Gm_unreg = sympy.Matrix([[gm, 0],\n",
    "                         [0, gm]])\n",
    "\n",
    "# Define the protein production matrix\n",
    "Rp_unreg = sympy.Matrix([[rp, 0], \n",
    "                         [0, rp]])\n",
    "# Define the protein degradation matrix\n",
    "Gp_unreg = sympy.Matrix([[gp, 0],\n",
    "                         [0, gp]])\n",
    "\n",
    "\n",
    "Km_unreg, Rm_unreg, Gm_unreg, Rp_unreg, Gp_unreg"
   ]
  },
  {
   "cell_type": "markdown",
   "metadata": {},
   "source": [
    "### Import mRNA moments\n",
    "Let's import the solutions we obtained for the mRNA moments that are saved in a `pickle` object."
   ]
  },
  {
   "cell_type": "code",
   "execution_count": 100,
   "metadata": {},
   "outputs": [
    {
     "data": {
      "image/png": "[encoded data removed]",
      "text/latex": [
       "$$\\left ( \\left \\{ {\\langle m_{E_{unreg}}^1\\rangle} : \\frac{r_{m} {\\langle m_{P_{unreg}}^0\\rangle} {k_{off}^p}}{\\gamma_{m} \\left(\\gamma_{m} + {k_{off}^p} + {k_{on}^p}\\right)}, \\quad {\\langle m_{P_{unreg}}^1\\rangle} : \\frac{r_{m} {\\langle m_{P_{unreg}}^0\\rangle} \\left(\\gamma_{m} + {k_{on}^p}\\right)}{\\gamma_{m} \\left(\\gamma_{m} + {k_{off}^p} + {k_{on}^p}\\right)}\\right \\}, \\quad \\left \\{ {\\langle m_{E_{unreg}}^2\\rangle} : - \\frac{\\gamma_{m} {\\langle m_{E_{unreg}}^1\\rangle} \\left(2 \\gamma_{m} + {k_{off}^p}\\right) + {k_{off}^p} \\left(r_{m} {\\langle m_{P_{unreg}}^0\\rangle} + {\\langle m_{P_{unreg}}^1\\rangle} \\left(\\gamma_{m} + 2 r_{m}\\right)\\right)}{{k_{off}^p} {k_{on}^p} - \\left(2 \\gamma_{m} + {k_{off}^p}\\right) \\left(2 \\gamma_{m} + {k_{on}^p}\\right)}, \\quad {\\langle m_{P_{unreg}}^2\\rangle} : - \\frac{\\gamma_{m} {\\langle m_{E_{unreg}}^1\\rangle} {k_{on}^p} + \\left(2 \\gamma_{m} + {k_{on}^p}\\right) \\left(r_{m} {\\langle m_{P_{unreg}}^0\\rangle} + {\\langle m_{P_{unreg}}^1\\rangle} \\left(\\gamma_{m} + 2 r_{m}\\right)\\right)}{{k_{off}^p} {k_{on}^p} - \\left(2 \\gamma_{m} + {k_{off}^p}\\right) \\left(2 \\gamma_{m} + {k_{on}^p}\\right)}\\right \\}\\right )$$"
      ],
      "text/plain": [
       "⎛⎧                                   rₘ⋅{\\langle m_{P_{unreg}}__0\\rangle}⋅{k_{\n",
       "⎜⎨{\\langle m_{E_{unreg}}__1\\rangle}: ─────────────────────────────────────────\n",
       "⎝⎩                                          γₘ⋅(γₘ + {k_{off}__p} + {k_{on}__p\n",
       "\n",
       "off}__p}                                     rₘ⋅{\\langle m_{P_{unreg}}__0\\rang\n",
       "────────, {\\langle m_{P_{unreg}}__1\\rangle}: ─────────────────────────────────\n",
       "})                                                     γₘ⋅(γₘ + {k_{off}__p} +\n",
       "\n",
       "le}⋅(γₘ + {k_{on}__p})⎫  ⎧                                   -(γₘ⋅{\\langle m_{\n",
       "──────────────────────⎬, ⎨{\\langle m_{E_{unreg}}__2\\rangle}: ─────────────────\n",
       " {k_{on}__p})         ⎭  ⎩                                                    \n",
       "\n",
       "E_{unreg}}__1\\rangle}⋅(2⋅γₘ + {k_{off}__p}) + {k_{off}__p}⋅(rₘ⋅{\\langle m_{P_{\n",
       "──────────────────────────────────────────────────────────────────────────────\n",
       "                              {k_{off}__p}⋅{k_{on}__p} - (2⋅γₘ + {k_{off}__p})\n",
       "\n",
       "unreg}}__0\\rangle} + {\\langle m_{P_{unreg}}__1\\rangle}⋅(γₘ + 2⋅rₘ)))          \n",
       "─────────────────────────────────────────────────────────────────────, {\\langl\n",
       "⋅(2⋅γₘ + {k_{on}__p})                                                         \n",
       "\n",
       "                            -(γₘ⋅{\\langle m_{E_{unreg}}__1\\rangle}⋅{k_{on}__p}\n",
       "e m_{P_{unreg}}__2\\rangle}: ──────────────────────────────────────────────────\n",
       "                                                                          {k_{\n",
       "\n",
       " + (2⋅γₘ + {k_{on}__p})⋅(rₘ⋅{\\langle m_{P_{unreg}}__0\\rangle} + {\\langle m_{P_\n",
       "──────────────────────────────────────────────────────────────────────────────\n",
       "off}__p}⋅{k_{on}__p} - (2⋅γₘ + {k_{off}__p})⋅(2⋅γₘ + {k_{on}__p})             \n",
       "\n",
       "{unreg}}__1\\rangle}⋅(γₘ + 2⋅rₘ))) ⎫⎞\n",
       "──────────────────────────────────⎬⎟\n",
       "                                  ⎭⎠"
      ]
     },
     "execution_count": 100,
     "metadata": {},
     "output_type": "execute_result"
    }
   ],
   "source": [
    "with open(tmpdir + 'two_state_mRNA_solutions.pkl', 'rb') as file:\n",
    "    first_sol_unreg_m = pickle.load(file)\n",
    "    second_sol_unreg_m = pickle.load(file)\n",
    "    third_sol_unreg_m = pickle.load(file)\n",
    "\n",
    "first_sol_unreg_m, second_sol_unreg_m"
   ]
  },
  {
   "cell_type": "markdown",
   "metadata": {},
   "source": [
    "We now import the expressions of the moments in termos of the global moments"
   ]
  },
  {
   "cell_type": "code",
   "execution_count": 102,
   "metadata": {},
   "outputs": [
    {
     "data": {
      "image/png": "[encoded data removed]",
      "text/latex": [
       "$$\\left ( \\frac{r_{m}}{\\gamma_{m}} {\\langle m_{P_{unreg}}^0\\rangle}, \\quad {\\langle \\mathbf{m}_u\\rangle} \\left(1 + \\frac{r_{m} \\left(\\gamma_{m} + {k_{on}^p}\\right)}{\\gamma_{m} \\left(\\gamma_{m} + {k_{off}^p} + {k_{on}^p}\\right)}\\right), \\quad {\\langle \\mathbf{m}_u^2\\rangle} + \\frac{r_{m}}{\\gamma_{m}} \\left(\\frac{{\\langle \\mathbf{m}_u\\rangle} \\left(\\gamma_{m} + {k_{on}^p}\\right)}{\\gamma_{m} + {k_{off}^p} + {k_{on}^p}} + {\\langle m_{P_{unreg}}^2\\rangle}\\right)\\right )$$"
      ],
      "text/plain": [
       "⎛                                                                             \n",
       "⎜                                                                             \n",
       "⎜rₘ⋅{\\langle m_{P_{unreg}}__0\\rangle}                                ⎛        \n",
       "⎜────────────────────────────────────, {\\langle \\mathbf{m}_u\\rangle}⋅⎜1 + ────\n",
       "⎝                 γₘ                                                 ⎝    γₘ⋅(\n",
       "\n",
       "                                                                         ⎛{\\la\n",
       "                                                                      rₘ⋅⎜────\n",
       "   rₘ⋅(γₘ + {k_{on}__p})        ⎞                                        ⎝    \n",
       "────────────────────────────────⎟, {\\langle \\mathbf{m}_u__2\\rangle} + ────────\n",
       "γₘ + {k_{off}__p} + {k_{on}__p})⎠                                             \n",
       "\n",
       "ngle \\mathbf{m}_u\\rangle}⋅(γₘ + {k_{on}__p})                                  \n",
       "──────────────────────────────────────────── + {\\langle m_{P_{unreg}}__2\\rangl\n",
       "    γₘ + {k_{off}__p} + {k_{on}__p}                                           \n",
       "──────────────────────────────────────────────────────────────────────────────\n",
       "                                    γₘ                                        \n",
       "\n",
       "  ⎞⎞\n",
       "e}⎟⎟\n",
       "  ⎠⎟\n",
       "───⎟\n",
       "   ⎠"
      ]
     },
     "execution_count": 102,
     "metadata": {},
     "output_type": "execute_result"
    }
   ],
   "source": [
    "with open(tmpdir + 'two_state_mRNA_moments.pkl', 'rb') as file:\n",
    "    first_unreg_moments_m = pickle.load(file)\n",
    "    second_unreg_moments_m = pickle.load(file)\n",
    "    third_unreg_moments_m = pickle.load(file)\n",
    "\n",
    "first_unreg_moments_m, second_unreg_moments_m, third_unreg_moments_m"
   ]
  },
  {
   "cell_type": "markdown",
   "metadata": {},
   "source": [
    "### Zeroth moment two-state promoter\n",
    "In order to solve for the two-state promoter we have two equations to use\n",
    "$$\n",
    "1 = \\mathbf{u} \\cdot \\left\\langle \\mathbf{m}^0 \\right\\rangle,\n",
    "$$\n",
    "where $u = (1, 1)$ and $\\left\\langle \\mathbf{m}^0 \\right\\rangle$ is the vector containing all the states, and\n",
    "$$\n",
    "\\mathbf{0} = \\mathbf{K}^u_m \\left\\langle \\mathbf{m}^0 \\right\\rangle.\n",
    "$$\n",
    "\n",
    "We will use the linear algebra solver where we write an extended matrix with the last column being the right hand side of these equations.\n",
    "\n",
    "Let's now define this extended matrix."
   ]
  },
  {
   "cell_type": "code",
   "execution_count": 103,
   "metadata": {},
   "outputs": [
    {
     "data": {
      "image/png": "[encoded data removed]",
      "text/latex": [
       "$$\\left[\\begin{matrix}1 & 1 & 1\\\\- {k_{off}^p} & {k_{on}^p} & 0\\\\{k_{off}^p} & - {k_{on}^p} & 0\\end{matrix}\\right]$$"
      ],
      "text/plain": [
       "⎡      1             1        1⎤\n",
       "⎢                              ⎥\n",
       "⎢-{k_{off}__p}  {k_{on}__p}   0⎥\n",
       "⎢                              ⎥\n",
       "⎣{k_{off}__p}   -{k_{on}__p}  0⎦"
      ]
     },
     "execution_count": 103,
     "metadata": {},
     "output_type": "execute_result"
    }
   ],
   "source": [
    "# Add the extra row for the normalization constraint\n",
    "K_sys_unreg = Km_unreg.row_insert(0, sympy.Matrix([1, 1]).transpose())\n",
    "\n",
    "# Define right-side array\n",
    "b = sympy.Matrix([1, 0, 0])\n",
    "\n",
    "# Define augmented matrix\n",
    "zero_aug_unreg = K_sys_unreg.col_insert(2, b)\n",
    "zero_aug_unreg"
   ]
  },
  {
   "cell_type": "markdown",
   "metadata": {},
   "source": [
    "Now we solve the equation for the two state moments."
   ]
  },
  {
   "cell_type": "code",
   "execution_count": 104,
   "metadata": {},
   "outputs": [
    {
     "data": {
      "image/png": "[encoded data removed]",
      "text/latex": [
       "$$\\left \\{ {\\langle m_{E_{unreg}}^0\\rangle} : \\frac{{k_{off}^p}}{{k_{off}^p} + {k_{on}^p}}, \\quad {\\langle m_{P_{unreg}}^0\\rangle} : \\frac{{k_{on}^p}}{{k_{off}^p} + {k_{on}^p}}\\right \\}$$"
      ],
      "text/plain": [
       "⎧                                          {k_{off}__p}                       \n",
       "⎨{\\langle m_{E_{unreg}}__0\\rangle}: ──────────────────────────, {\\langle m_{P_\n",
       "⎩                                   {k_{off}__p} + {k_{on}__p}                \n",
       "\n",
       "                            {k_{on}__p}        ⎫\n",
       "{unreg}}__0\\rangle}: ──────────────────────────⎬\n",
       "                     {k_{off}__p} + {k_{on}__p}⎭"
      ]
     },
     "execution_count": 104,
     "metadata": {},
     "output_type": "execute_result"
    }
   ],
   "source": [
    "# Solve linear system for the three zeroth moments\n",
    "zero_sol_unreg = sympy.solve_linear_system(zero_aug_unreg, *m0_unreg)\n",
    "zero_sol_unreg"
   ]
  },
  {
   "cell_type": "markdown",
   "metadata": {},
   "source": [
    "### First moment two-state promoter (protein)\n",
    "\n",
    "Now that we have the zeroth moment that indicates the probability of being on either state let's now compute the first moment. For this we have the matrix equation\n",
    "$$\n",
    "\\mathbf{0} = \\left( \\mathbf{K}^u - \\mathbf{\\Gamma}^u_p  \\right)\n",
    "             + \\mathbf{R}^u_p \\left\\langle \\mathbf{m} \\right\\rangle.\n",
    "$$\n",
    "\n",
    "Let's write this system in the form of the augmented matrix."
   ]
  },
  {
   "cell_type": "code",
   "execution_count": 105,
   "metadata": {},
   "outputs": [
    {
     "data": {
      "image/png": "[encoded data removed]",
      "text/latex": [
       "$$\\left[\\begin{matrix}- \\gamma_{p} - {k_{off}^p} & {k_{on}^p} & - r_{p} {\\langle m_{P_{unreg}}^1\\rangle}\\\\{k_{off}^p} & - \\gamma_{p} - {k_{on}^p} & - r_{p} {\\langle m_{E_{unreg}}^1\\rangle}\\end{matrix}\\right]$$"
      ],
      "text/plain": [
       "⎡-γₚ - {k_{off}__p}     {k_{on}__p}     -rₚ⋅{\\langle m_{P_{unreg}}__1\\rangle}⎤\n",
       "⎢                                                                            ⎥\n",
       "⎣   {k_{off}__p}     -γₚ - {k_{on}__p}  -rₚ⋅{\\langle m_{E_{unreg}}__1\\rangle}⎦"
      ]
     },
     "execution_count": 105,
     "metadata": {},
     "output_type": "execute_result"
    }
   ],
   "source": [
    "# Define augmented matrix for first moment\n",
    "first_aug_unreg = (Km_unreg - Gp_unreg).col_insert(2, \n",
    "                                            -Rp_unreg * sympy.Matrix(m1_unreg))\n",
    "first_aug_unreg"
   ]
  },
  {
   "cell_type": "markdown",
   "metadata": {},
   "source": [
    "And again we use the `sympy` solver to solve for the first moments"
   ]
  },
  {
   "cell_type": "code",
   "execution_count": 106,
   "metadata": {},
   "outputs": [
    {
     "data": {
      "image/png": "[encoded data removed]",
      "text/latex": [
       "$$\\left \\{ {\\langle p_{E_{unreg}}^1\\rangle} : \\frac{r_{p} \\left(\\gamma_{p} {\\langle m_{E_{unreg}}^1\\rangle} + {\\langle m_{E_{unreg}}^1\\rangle} {k_{off}^p} + {\\langle m_{P_{unreg}}^1\\rangle} {k_{off}^p}\\right)}{\\gamma_{p} \\left(\\gamma_{p} + {k_{off}^p} + {k_{on}^p}\\right)}, \\quad {\\langle p_{P_{unreg}}^1\\rangle} : \\frac{r_{p} \\left(\\gamma_{p} {\\langle m_{P_{unreg}}^1\\rangle} + {\\langle m_{E_{unreg}}^1\\rangle} {k_{on}^p} + {\\langle m_{P_{unreg}}^1\\rangle} {k_{on}^p}\\right)}{\\gamma_{p} \\left(\\gamma_{p} + {k_{off}^p} + {k_{on}^p}\\right)}\\right \\}$$"
      ],
      "text/plain": [
       "⎧                                   rₚ⋅(γₚ⋅{\\langle m_{E_{unreg}}__1\\rangle} +\n",
       "⎨{\\langle p_{E_{unreg}}__1\\rangle}: ──────────────────────────────────────────\n",
       "⎩                                                                             \n",
       "\n",
       " {\\langle m_{E_{unreg}}__1\\rangle}⋅{k_{off}__p} + {\\langle m_{P_{unreg}}__1\\ra\n",
       "──────────────────────────────────────────────────────────────────────────────\n",
       "          γₚ⋅(γₚ + {k_{off}__p} + {k_{on}__p})                                \n",
       "\n",
       "ngle}⋅{k_{off}__p})                                     rₚ⋅(γₚ⋅{\\langle m_{P_{\n",
       "───────────────────, {\\langle p_{P_{unreg}}__1\\rangle}: ──────────────────────\n",
       "                                                                              \n",
       "\n",
       "unreg}}__1\\rangle} + {\\langle m_{E_{unreg}}__1\\rangle}⋅{k_{on}__p} + {\\langle \n",
       "──────────────────────────────────────────────────────────────────────────────\n",
       "                             γₚ⋅(γₚ + {k_{off}__p} + {k_{on}__p})             \n",
       "\n",
       "m_{P_{unreg}}__1\\rangle}⋅{k_{on}__p})⎫\n",
       "─────────────────────────────────────⎬\n",
       "                                     ⎭"
      ]
     },
     "execution_count": 106,
     "metadata": {},
     "output_type": "execute_result"
    }
   ],
   "source": [
    "# Solve linear system for the first protein moments\n",
    "first_sol_unreg_p = sympy.solve_linear_system(first_aug_unreg, *p1_unreg)\n",
    "first_sol_unreg_p"
   ]
  },
  {
   "cell_type": "markdown",
   "metadata": {},
   "source": [
    "We now sum both elements and substitute the solution for the zeroth moments"
   ]
  },
  {
   "cell_type": "code",
   "execution_count": 107,
   "metadata": {},
   "outputs": [
    {
     "data": {
      "image/png": "[encoded data removed]",
      "text/latex": [
       "$$\\left ( \\frac{r_{p}}{\\gamma_{p}} \\left({\\langle m_{E_{unreg}}^1\\rangle} + {\\langle m_{P_{unreg}}^1\\rangle}\\right), \\quad \\frac{r_{m} r_{p} {k_{on}^p}}{\\gamma_{m} \\gamma_{p} \\left({k_{off}^p} + {k_{on}^p}\\right)}\\right )$$"
      ],
      "text/plain": [
       "⎛rₚ⋅({\\langle m_{E_{unreg}}__1\\rangle} + {\\langle m_{P_{unreg}}__1\\rangle})   \n",
       "⎜──────────────────────────────────────────────────────────────────────────, ─\n",
       "⎝                                    γₚ                                      γ\n",
       "\n",
       "       rₘ⋅rₚ⋅{k_{on}__p}         ⎞\n",
       "─────────────────────────────────⎟\n",
       "ₘ⋅γₚ⋅({k_{off}__p} + {k_{on}__p})⎠"
      ]
     },
     "execution_count": 107,
     "metadata": {},
     "output_type": "execute_result"
    }
   ],
   "source": [
    "# Sum the results for the first moments\n",
    "first_unreg_p = sum(first_sol_unreg_p.values()).simplify()\n",
    "# Substitute the solutions for the mRNA first and zeroth moment\n",
    "first_unreg_p_s = first_unreg_p.subs(first_sol_unreg_m).\\\n",
    "                            subs(zero_sol_unreg).simplify()\n",
    "# Display solution in terms of the mRNA global first moment\n",
    "first_unreg_p,\\\n",
    "first_unreg_p_s # Disiplay substituted solution."
   ]
  },
  {
   "cell_type": "markdown",
   "metadata": {},
   "source": [
    "Let's display the solution for the first moment in terms of the global moments"
   ]
  },
  {
   "cell_type": "code",
   "execution_count": 108,
   "metadata": {},
   "outputs": [
    {
     "data": {
      "image/png": "[encoded data removed]",
      "text/latex": [
       "$${\\langle \\mathbf{p}_u\\rangle} = \\frac{r_{p}}{\\gamma_{p}} {\\langle \\mathbf{m}_u\\rangle}$$"
      ],
      "text/plain": [
       "                                rₚ⋅{\\langle \\mathbf{m}_u\\rangle}\n",
       "{\\langle \\mathbf{p}_u\\rangle} = ────────────────────────────────\n",
       "                                               γₚ               "
      ]
     },
     "execution_count": 108,
     "metadata": {},
     "output_type": "execute_result"
    }
   ],
   "source": [
    "first_unreg_moments_p = first_unreg_p.subs(sum(m1_unreg), mm1_unreg)\n",
    "sympy.Eq(pp1_unreg, first_unreg_moments_p)"
   ]
  },
  {
   "cell_type": "markdown",
   "metadata": {},
   "source": [
    "### mRNA-protein correlation two-state promoter\n",
    "\n",
    "The computation of the second moment $\\left\\langle \\mathbf{p}^2 \\right\\rangle$ depends on the correlation $\\left\\langle \\mathbf{mp} \\right\\rangle$. To compute this correlation we have the equation\n",
    "$$\n",
    "\\mathbf{0} = \\left( \\mathbf{K}^u - \\mathbf{\\Gamma}^u_m -  \\mathbf{\\Gamma}^u_p  \\right)\n",
    "             \\left\\langle \\mathbf{mp} \\right\\rangle \n",
    "             + \\mathbf{R}^u_m \\left\\langle \\mathbf{p} \\right\\rangle\n",
    "             + \\mathbf{R}^u_p \\left\\langle \\mathbf{m}^2 \\right\\rangle\n",
    "$$\n",
    "Let's define this augmented matrix."
   ]
  },
  {
   "cell_type": "code",
   "execution_count": 109,
   "metadata": {},
   "outputs": [
    {
     "data": {
      "image/png": "[encoded data removed]",
      "text/latex": [
       "$$\\left [ {\\langle mp_{P_{unreg}}\\rangle}, \\quad {\\langle mp_{E_{unreg}}\\rangle}\\right ]$$"
      ],
      "text/plain": [
       "[{\\langle mp_{P_{unreg}}\\rangle}, {\\langle mp_{E_{unreg}}\\rangle}]"
      ]
     },
     "execution_count": 109,
     "metadata": {},
     "output_type": "execute_result"
    }
   ],
   "source": [
    "# Define the string for the states\n",
    "corr_unreg = ['mp_{P_{unreg}}', 'mp_{E_{unreg}}']\n",
    "\n",
    "# Define the zeroth moments\n",
    "mp_unreg = [moment_sympy(x, None) for x in corr_unreg]\n",
    "mp_unreg"
   ]
  },
  {
   "cell_type": "code",
   "execution_count": 110,
   "metadata": {},
   "outputs": [
    {
     "data": {
      "image/png": "[encoded data removed]",
      "text/latex": [
       "$$\\left[\\begin{matrix}- \\gamma_{m} - \\gamma_{p} - {k_{off}^p} & {k_{on}^p} & - r_{m} {\\langle p_{P_{unreg}}^1\\rangle} - r_{p} {\\langle m_{P_{unreg}}^2\\rangle}\\\\{k_{off}^p} & - \\gamma_{m} - \\gamma_{p} - {k_{on}^p} & - r_{p} {\\langle m_{E_{unreg}}^2\\rangle}\\end{matrix}\\right]$$"
      ],
      "text/plain": [
       "⎡-γₘ - γₚ - {k_{off}__p}       {k_{on}__p}        -rₘ⋅{\\langle p_{P_{unreg}}__\n",
       "⎢                                                                             \n",
       "⎣     {k_{off}__p}        -γₘ - γₚ - {k_{on}__p}                     -rₚ⋅{\\lan\n",
       "\n",
       "1\\rangle} - rₚ⋅{\\langle m_{P_{unreg}}__2\\rangle}⎤\n",
       "                                                ⎥\n",
       "gle m_{E_{unreg}}__2\\rangle}                    ⎦"
      ]
     },
     "execution_count": 110,
     "metadata": {},
     "output_type": "execute_result"
    }
   ],
   "source": [
    "# define augmented matrix for correlation\n",
    "corr_aug_unreg = (Km_unreg - Gm_unreg - Gp_unreg).col_insert(2,\n",
    "                  - Rm_unreg * sympy.Matrix(p1_unreg)\\\n",
    "                  - Rp_unreg * sympy.Matrix(m2_unreg))\n",
    "corr_aug_unreg"
   ]
  },
  {
   "cell_type": "markdown",
   "metadata": {},
   "source": [
    "Now let's solve the system."
   ]
  },
  {
   "cell_type": "code",
   "execution_count": 111,
   "metadata": {},
   "outputs": [
    {
     "data": {
      "image/png": "[encoded data removed]",
      "text/latex": [
       "$$\\left \\{ {\\langle mp_{E_{unreg}}\\rangle} : - \\frac{r_{p} {\\langle m_{E_{unreg}}^2\\rangle} \\left(\\gamma_{m} + \\gamma_{p} + {k_{off}^p}\\right) + {k_{off}^p} \\left(r_{m} {\\langle p_{P_{unreg}}^1\\rangle} + r_{p} {\\langle m_{P_{unreg}}^2\\rangle}\\right)}{{k_{off}^p} {k_{on}^p} - \\left(\\gamma_{m} + \\gamma_{p} + {k_{off}^p}\\right) \\left(\\gamma_{m} + \\gamma_{p} + {k_{on}^p}\\right)}, \\quad {\\langle mp_{P_{unreg}}\\rangle} : - \\frac{r_{p} {\\langle m_{E_{unreg}}^2\\rangle} {k_{on}^p} + \\left(r_{m} {\\langle p_{P_{unreg}}^1\\rangle} + r_{p} {\\langle m_{P_{unreg}}^2\\rangle}\\right) \\left(\\gamma_{m} + \\gamma_{p} + {k_{on}^p}\\right)}{{k_{off}^p} {k_{on}^p} - \\left(\\gamma_{m} + \\gamma_{p} + {k_{off}^p}\\right) \\left(\\gamma_{m} + \\gamma_{p} + {k_{on}^p}\\right)}\\right \\}$$"
      ],
      "text/plain": [
       "⎧                                 -(rₚ⋅{\\langle m_{E_{unreg}}__2\\rangle}⋅(γₘ +\n",
       "⎨{\\langle mp_{E_{unreg}}\\rangle}: ────────────────────────────────────────────\n",
       "⎩                                                                          {k_\n",
       "\n",
       " γₚ + {k_{off}__p}) + {k_{off}__p}⋅(rₘ⋅{\\langle p_{P_{unreg}}__1\\rangle} + rₚ⋅\n",
       "──────────────────────────────────────────────────────────────────────────────\n",
       "{off}__p}⋅{k_{on}__p} - (γₘ + γₚ + {k_{off}__p})⋅(γₘ + γₚ + {k_{on}__p})      \n",
       "\n",
       "{\\langle m_{P_{unreg}}__2\\rangle}))                                    -(rₚ⋅{\\\n",
       "────────────────────────────────────, {\\langle mp_{P_{unreg}}\\rangle}: ───────\n",
       "                                                                              \n",
       "\n",
       "langle m_{E_{unreg}}__2\\rangle}⋅{k_{on}__p} + (rₘ⋅{\\langle p_{P_{unreg}}__1\\ra\n",
       "──────────────────────────────────────────────────────────────────────────────\n",
       "                                 {k_{off}__p}⋅{k_{on}__p} - (γₘ + γₚ + {k_{off\n",
       "\n",
       "ngle} + rₚ⋅{\\langle m_{P_{unreg}}__2\\rangle})⋅(γₘ + γₚ + {k_{on}__p})) ⎫\n",
       "───────────────────────────────────────────────────────────────────────⎬\n",
       "}__p})⋅(γₘ + γₚ + {k_{on}__p})                                         ⎭"
      ]
     },
     "execution_count": 111,
     "metadata": {},
     "output_type": "execute_result"
    }
   ],
   "source": [
    "# Solve linear system for the three moments\n",
    "corr_sol_unreg = sympy.solve_linear_system(corr_aug_unreg, *mp_unreg)\n",
    "corr_sol_unreg"
   ]
  },
  {
   "cell_type": "markdown",
   "metadata": {},
   "source": [
    "The sum of these terms gives the correlation we are looking for."
   ]
  },
  {
   "cell_type": "code",
   "execution_count": 112,
   "metadata": {},
   "outputs": [
    {
     "data": {
      "image/png": "[encoded data removed]",
      "text/latex": [
       "$$\\frac{1}{\\gamma_{m} + \\gamma_{p}} \\left(r_{m} {\\langle p_{P_{unreg}}^1\\rangle} + r_{p} {\\langle m_{E_{unreg}}^2\\rangle} + r_{p} {\\langle m_{P_{unreg}}^2\\rangle}\\right)$$"
      ],
      "text/plain": [
       "rₘ⋅{\\langle p_{P_{unreg}}__1\\rangle} + rₚ⋅{\\langle m_{E_{unreg}}__2\\rangle} + \n",
       "──────────────────────────────────────────────────────────────────────────────\n",
       "                                                     γₘ + γₚ                  \n",
       "\n",
       "rₚ⋅{\\langle m_{P_{unreg}}__2\\rangle}\n",
       "────────────────────────────────────\n",
       "                                    "
      ]
     },
     "execution_count": 112,
     "metadata": {},
     "output_type": "execute_result"
    }
   ],
   "source": [
    "# Sum the terms of the correlation\n",
    "corr_unreg = sum(corr_sol_unreg.values()).simplify()\n",
    "# Substitutte relevant solutions\n",
    "corr_unreg_s = corr_unreg.subs(first_sol_unreg_p).subs(second_sol_unreg_m).\\\n",
    "               subs(first_sol_unreg_m).subs(zero_sol_unreg)\n",
    "    \n",
    "# Display solution without substitutions\n",
    "corr_unreg"
   ]
  },
  {
   "cell_type": "markdown",
   "metadata": {},
   "source": [
    "We now display the solution in terms of the global moments."
   ]
  },
  {
   "cell_type": "code",
   "execution_count": 113,
   "metadata": {},
   "outputs": [
    {
     "data": {
      "image/png": "[encoded data removed]",
      "text/latex": [
       "$${\\langle \\mathbf{mp}_u\\rangle} = \\frac{1}{\\gamma_{m} + \\gamma_{p}} \\left(r_{m} {\\langle p_{P_{unreg}}^1\\rangle} + r_{p} {\\langle \\mathbf{m}_u^2\\rangle}\\right)$$"
      ],
      "text/plain": [
       "                                 rₘ⋅{\\langle p_{P_{unreg}}__1\\rangle} + rₚ⋅{\\l\n",
       "{\\langle \\mathbf{mp}_u\\rangle} = ─────────────────────────────────────────────\n",
       "                                                                  γₘ + γₚ     \n",
       "\n",
       "angle \\mathbf{m}_u__2\\rangle}\n",
       "─────────────────────────────\n",
       "                             "
      ]
     },
     "execution_count": 113,
     "metadata": {},
     "output_type": "execute_result"
    }
   ],
   "source": [
    "# Display correlation as a functiono f the second mRNA moment\n",
    "corr_moments = corr_unreg.collect(rp).subs(sum(m2_unreg), mm2_unreg)\n",
    "sympy.Eq(mmpp_unreg, corr_moments)"
   ]
  },
  {
   "cell_type": "markdown",
   "metadata": {},
   "source": [
    "LEt's implement the approximation of $\\gm \\gg \\gamma_p$. This would give us"
   ]
  },
  {
   "cell_type": "code",
   "execution_count": 114,
   "metadata": {},
   "outputs": [
    {
     "data": {
      "image/png": "[encoded data removed]",
      "text/latex": [
       "$$\\frac{1}{\\gamma_{m}} \\left(r_{m} {\\langle p_{P_{unreg}}^1\\rangle} + r_{p} {\\langle \\mathbf{m}_u^2\\rangle}\\right)$$"
      ],
      "text/plain": [
       "rₘ⋅{\\langle p_{P_{unreg}}__1\\rangle} + rₚ⋅{\\langle \\mathbf{m}_u__2\\rangle}\n",
       "──────────────────────────────────────────────────────────────────────────\n",
       "                                    γₘ                                    "
      ]
     },
     "execution_count": 114,
     "metadata": {},
     "output_type": "execute_result"
    }
   ],
   "source": [
    "corr_moments_approx = corr_moments.subs(gm + gp, gm)\n",
    "corr_moments_approx"
   ]
  },
  {
   "cell_type": "markdown",
   "metadata": {},
   "source": [
    "### Second moment two-state promoter\n",
    "\n",
    "For the second moment we have an equation of the form\n",
    "$$\n",
    "\\mathbf{0} = \\left( \\mathbf{K}^u - 2 \\mathbf{\\Gamma}^u_p \\right) \n",
    "             \\left\\langle \\mathbf{p}^2 \\right\\rangle\n",
    "             + \\mathbf{\\Gamma}^u_p \\left\\langle \\mathbf{p} \\right\\rangle\n",
    "             + \\mathbf{R}^u_p \\mm\n",
    "             + 2 \\mathbf{R}^u_p \\left\\langle \\mathbf{mp} \\right\\rangle\n",
    "$$\n",
    "\n",
    "Let's again define this augmented matrix."
   ]
  },
  {
   "cell_type": "code",
   "execution_count": 115,
   "metadata": {},
   "outputs": [
    {
     "data": {
      "image/png": "[encoded data removed]",
      "text/latex": [
       "$$\\left[\\begin{matrix}- 2 \\gamma_{p} - {k_{off}^p} & {k_{on}^p} & - \\gamma_{p} {\\langle p_{P_{unreg}}^1\\rangle} - r_{p} {\\langle m_{P_{unreg}}^1\\rangle} - 2 r_{p} {\\langle mp_{P_{unreg}}\\rangle}\\\\{k_{off}^p} & - 2 \\gamma_{p} - {k_{on}^p} & - \\gamma_{p} {\\langle p_{E_{unreg}}^1\\rangle} - r_{p} {\\langle m_{E_{unreg}}^1\\rangle} - 2 r_{p} {\\langle mp_{E_{unreg}}\\rangle}\\end{matrix}\\right]$$"
      ],
      "text/plain": [
       "⎡-2⋅γₚ - {k_{off}__p}      {k_{on}__p}      -γₚ⋅{\\langle p_{P_{unreg}}__1\\rang\n",
       "⎢                                                                             \n",
       "⎣    {k_{off}__p}      -2⋅γₚ - {k_{on}__p}  -γₚ⋅{\\langle p_{E_{unreg}}__1\\rang\n",
       "\n",
       "le} - rₚ⋅{\\langle m_{P_{unreg}}__1\\rangle} - 2⋅rₚ⋅{\\langle mp_{P_{unreg}}\\rang\n",
       "                                                                              \n",
       "le} - rₚ⋅{\\langle m_{E_{unreg}}__1\\rangle} - 2⋅rₚ⋅{\\langle mp_{E_{unreg}}\\rang\n",
       "\n",
       "le}⎤\n",
       "   ⎥\n",
       "le}⎦"
      ]
     },
     "execution_count": 115,
     "metadata": {},
     "output_type": "execute_result"
    }
   ],
   "source": [
    "# Define augmented matrix for second moment\n",
    "second_aug_unreg = (Km_unreg - 2 * Gp_unreg).col_insert(2, \n",
    "                    - Gp_unreg * sympy.Matrix(p1_unreg)\\\n",
    "                    - Rp_unreg * sympy.Matrix(m1_unreg)\\\n",
    "                    - 2 * Rp_unreg * sympy.Matrix(mp_unreg))\n",
    "second_aug_unreg"
   ]
  },
  {
   "cell_type": "markdown",
   "metadata": {},
   "source": [
    "Having defined the matrix let's solve the system."
   ]
  },
  {
   "cell_type": "code",
   "execution_count": 116,
   "metadata": {},
   "outputs": [
    {
     "data": {
      "image/png": "[encoded data removed]",
      "text/latex": [
       "$$\\left \\{ {\\langle p_{E_{unreg}}^2\\rangle} : - \\frac{1}{{k_{off}^p} {k_{on}^p} - \\left(2 \\gamma_{p} + {k_{off}^p}\\right) \\left(2 \\gamma_{p} + {k_{on}^p}\\right)} \\left({k_{off}^p} \\left(\\gamma_{p} {\\langle p_{P_{unreg}}^1\\rangle} + r_{p} {\\langle m_{P_{unreg}}^1\\rangle} + 2 r_{p} {\\langle mp_{P_{unreg}}\\rangle}\\right) + \\left(2 \\gamma_{p} + {k_{off}^p}\\right) \\left(\\gamma_{p} {\\langle p_{E_{unreg}}^1\\rangle} + r_{p} {\\langle m_{E_{unreg}}^1\\rangle} + 2 r_{p} {\\langle mp_{E_{unreg}}\\rangle}\\right)\\right), \\quad {\\langle p_{P_{unreg}}^2\\rangle} : - \\frac{1}{{k_{off}^p} {k_{on}^p} - \\left(2 \\gamma_{p} + {k_{off}^p}\\right) \\left(2 \\gamma_{p} + {k_{on}^p}\\right)} \\left({k_{on}^p} \\left(\\gamma_{p} {\\langle p_{E_{unreg}}^1\\rangle} + r_{p} {\\langle m_{E_{unreg}}^1\\rangle} + 2 r_{p} {\\langle mp_{E_{unreg}}\\rangle}\\right) + \\left(2 \\gamma_{p} + {k_{on}^p}\\right) \\left(\\gamma_{p} {\\langle p_{P_{unreg}}^1\\rangle} + r_{p} {\\langle m_{P_{unreg}}^1\\rangle} + 2 r_{p} {\\langle mp_{P_{unreg}}\\rangle}\\right)\\right)\\right \\}$$"
      ],
      "text/plain": [
       "⎧                                   -({k_{off}__p}⋅(γₚ⋅{\\langle p_{P_{unreg}}_\n",
       "⎨{\\langle p_{E_{unreg}}__2\\rangle}: ──────────────────────────────────────────\n",
       "⎩                                                                             \n",
       "\n",
       "_1\\rangle} + rₚ⋅{\\langle m_{P_{unreg}}__1\\rangle} + 2⋅rₚ⋅{\\langle mp_{P_{unreg\n",
       "──────────────────────────────────────────────────────────────────────────────\n",
       "                                                            {k_{off}__p}⋅{k_{o\n",
       "\n",
       "}}\\rangle}) + (2⋅γₚ + {k_{off}__p})⋅(γₚ⋅{\\langle p_{E_{unreg}}__1\\rangle} + rₚ\n",
       "──────────────────────────────────────────────────────────────────────────────\n",
       "n}__p} - (2⋅γₚ + {k_{off}__p})⋅(2⋅γₚ + {k_{on}__p})                           \n",
       "\n",
       "⋅{\\langle m_{E_{unreg}}__1\\rangle} + 2⋅rₚ⋅{\\langle mp_{E_{unreg}}\\rangle}))   \n",
       "────────────────────────────────────────────────────────────────────────────, \n",
       "                                                                              \n",
       "\n",
       "                                   -({k_{on}__p}⋅(γₚ⋅{\\langle p_{E_{unreg}}__1\n",
       "{\\langle p_{P_{unreg}}__2\\rangle}: ───────────────────────────────────────────\n",
       "                                                                              \n",
       "\n",
       "\\rangle} + rₚ⋅{\\langle m_{E_{unreg}}__1\\rangle} + 2⋅rₚ⋅{\\langle mp_{E_{unreg}}\n",
       "──────────────────────────────────────────────────────────────────────────────\n",
       "                                                          {k_{off}__p}⋅{k_{on}\n",
       "\n",
       "\\rangle}) + (2⋅γₚ + {k_{on}__p})⋅(γₚ⋅{\\langle p_{P_{unreg}}__1\\rangle} + rₚ⋅{\\\n",
       "──────────────────────────────────────────────────────────────────────────────\n",
       "__p} - (2⋅γₚ + {k_{off}__p})⋅(2⋅γₚ + {k_{on}__p})                             \n",
       "\n",
       "langle m_{P_{unreg}}__1\\rangle} + 2⋅rₚ⋅{\\langle mp_{P_{unreg}}\\rangle})) ⎫\n",
       "─────────────────────────────────────────────────────────────────────────⎬\n",
       "                                                                         ⎭"
      ]
     },
     "execution_count": 116,
     "metadata": {},
     "output_type": "execute_result"
    }
   ],
   "source": [
    "# Solve linear system for the three moments\n",
    "second_sol_unreg_p = sympy.solve_linear_system(second_aug_unreg, *p2_unreg)\n",
    "second_sol_unreg_p"
   ]
  },
  {
   "cell_type": "markdown",
   "metadata": {},
   "source": [
    "Again let's add both of these moments to obtain the global second moment."
   ]
  },
  {
   "cell_type": "code",
   "execution_count": 117,
   "metadata": {},
   "outputs": [
    {
     "data": {
      "image/png": "[encoded data removed]",
      "text/latex": [
       "$$\\frac{1}{2 \\gamma_{p}} \\left(\\gamma_{p} {\\langle p_{E_{unreg}}^1\\rangle} + \\gamma_{p} {\\langle p_{P_{unreg}}^1\\rangle} + r_{p} {\\langle m_{E_{unreg}}^1\\rangle} + r_{p} {\\langle m_{P_{unreg}}^1\\rangle} + 2 r_{p} {\\langle mp_{E_{unreg}}\\rangle} + 2 r_{p} {\\langle mp_{P_{unreg}}\\rangle}\\right)$$"
      ],
      "text/plain": [
       "γₚ⋅{\\langle p_{E_{unreg}}__1\\rangle} + γₚ⋅{\\langle p_{P_{unreg}}__1\\rangle} + \n",
       "──────────────────────────────────────────────────────────────────────────────\n",
       "                                                                              \n",
       "\n",
       "rₚ⋅{\\langle m_{E_{unreg}}__1\\rangle} + rₚ⋅{\\langle m_{P_{unreg}}__1\\rangle} + \n",
       "──────────────────────────────────────────────────────────────────────────────\n",
       "                                    2⋅γₚ                                      \n",
       "\n",
       "2⋅rₚ⋅{\\langle mp_{E_{unreg}}\\rangle} + 2⋅rₚ⋅{\\langle mp_{P_{unreg}}\\rangle}\n",
       "───────────────────────────────────────────────────────────────────────────\n",
       "                                                                           "
      ]
     },
     "execution_count": 117,
     "metadata": {},
     "output_type": "execute_result"
    }
   ],
   "source": [
    "# Sum the soltuon of second moments\n",
    "second_unreg_p = sum(second_sol_unreg_p.values()).simplify()\n",
    "# Substitute relevant solutions\n",
    "second_unreg_s = second_unreg_p.subs(corr_sol_unreg).subs(first_sol_unreg_p).\\\n",
    "                 subs(second_sol_unreg_m).subs(first_sol_unreg_m).\\\n",
    "                 subs(zero_sol_unreg)\n",
    "\n",
    "# Display solution without substitutions\n",
    "second_unreg_p"
   ]
  },
  {
   "cell_type": "markdown",
   "metadata": {},
   "source": [
    "Again let's show the solution using the global moments.\n",
    "\n",
    "The complexity of the substitutions comes from step-by-step manually recognizing patterns."
   ]
  },
  {
   "cell_type": "code",
   "execution_count": 118,
   "metadata": {},
   "outputs": [
    {
     "data": {
      "image/png": "[encoded data removed]",
      "text/latex": [
       "$${\\langle \\mathbf{p}_u^2\\rangle} = {\\langle \\mathbf{p}_u\\rangle} + \\frac{r_{p}}{\\gamma_{p}} {\\langle \\mathbf{mp}_u\\rangle}$$"
      ],
      "text/plain": [
       "                                                                   rₚ⋅{\\langle\n",
       "{\\langle \\mathbf{p}_u__2\\rangle} = {\\langle \\mathbf{p}_u\\rangle} + ───────────\n",
       "                                                                              \n",
       "\n",
       " \\mathbf{mp}_u\\rangle}\n",
       "──────────────────────\n",
       "     γₚ               "
      ]
     },
     "execution_count": 118,
     "metadata": {},
     "output_type": "execute_result"
    }
   ],
   "source": [
    "# Display solution\n",
    "second_unreg_moments_p = second_unreg_p.\\\n",
    "            collect(gp).collect(rp).\\\n",
    "            subs(sum(p1_unreg), pp1_unreg).\\\n",
    "            subs(sum(m1_unreg), mm1_unreg).\\\n",
    "            subs(sum(2 * mp_unreg), 2 * mmpp_unreg).\\\n",
    "            expand().\\\n",
    "            subs(rp / (2 * gp) * mm1_unreg, pp1_unreg / 2)\n",
    "sympy.Eq(pp2_unreg,  second_unreg_moments_p)"
   ]
  },
  {
   "cell_type": "markdown",
   "metadata": {},
   "source": [
    "Using the solution for $\\left\\langle \\mathbf{mp} \\right\\rangle$ with the $\\gm \\gg \\gamma_p$ approximation gives"
   ]
  },
  {
   "cell_type": "code",
   "execution_count": 119,
   "metadata": {},
   "outputs": [
    {
     "data": {
      "image/png": "[encoded data removed]",
      "text/latex": [
       "$${\\langle \\mathbf{p}_u^2\\rangle} = {\\langle \\mathbf{p}_u\\rangle} + \\frac{r_{p}}{\\gamma_{m} \\gamma_{p}} \\left(r_{m} {\\langle p_{P_{unreg}}^1\\rangle} + r_{p} {\\langle \\mathbf{m}_u^2\\rangle}\\right)$$"
      ],
      "text/plain": [
       "                                                                   rₚ⋅(rₘ⋅{\\la\n",
       "{\\langle \\mathbf{p}_u__2\\rangle} = {\\langle \\mathbf{p}_u\\rangle} + ───────────\n",
       "                                                                              \n",
       "\n",
       "ngle p_{P_{unreg}}__1\\rangle} + rₚ⋅{\\langle \\mathbf{m}_u__2\\rangle})\n",
       "────────────────────────────────────────────────────────────────────\n",
       "                          γₘ⋅γₚ                                     "
      ]
     },
     "execution_count": 119,
     "metadata": {},
     "output_type": "execute_result"
    }
   ],
   "source": [
    "second_unreg_moments_approx = second_unreg_moments_p.\\\n",
    "                              subs(mmpp_unreg, corr_moments_approx).\\\n",
    "                              collect(rp / (gm * gp))\n",
    "\n",
    "sympy.Eq(pp2_unreg, second_unreg_moments_approx)"
   ]
  },
  {
   "cell_type": "markdown",
   "metadata": {},
   "source": [
    "### Noise $\\eta$ and fano-factor\n",
    "\n",
    "Having the first and second moment let's compute the variance and the fano-factor to compare it with the results from Sharehzaei and Swain."
   ]
  },
  {
   "cell_type": "code",
   "execution_count": 120,
   "metadata": {},
   "outputs": [
    {
     "data": {
      "image/png": "[encoded data removed]",
      "text/latex": [
       "$$\\frac{1}{2 \\gamma_{p}} \\left(\\gamma_{p} {\\langle p_{E_{unreg}}^1\\rangle} + \\gamma_{p} {\\langle p_{P_{unreg}}^1\\rangle} + r_{p} {\\langle m_{E_{unreg}}^1\\rangle} + r_{p} {\\langle m_{P_{unreg}}^1\\rangle} + 2 r_{p} {\\langle mp_{E_{unreg}}\\rangle} + 2 r_{p} {\\langle mp_{P_{unreg}}\\rangle}\\right) - \\frac{r_{p}^{2}}{\\gamma_{p}^{2}} \\left({\\langle m_{E_{unreg}}^1\\rangle} + {\\langle m_{P_{unreg}}^1\\rangle}\\right)^{2}$$"
      ],
      "text/plain": [
       "                                                                              \n",
       "γₚ⋅{\\langle p_{E_{unreg}}__1\\rangle} + γₚ⋅{\\langle p_{P_{unreg}}__1\\rangle} + \n",
       "──────────────────────────────────────────────────────────────────────────────\n",
       "                                                                              \n",
       "                                                                              \n",
       "\n",
       "                                                                              \n",
       "rₚ⋅{\\langle m_{E_{unreg}}__1\\rangle} + rₚ⋅{\\langle m_{P_{unreg}}__1\\rangle} + \n",
       "──────────────────────────────────────────────────────────────────────────────\n",
       "                                    2⋅γₚ                                      \n",
       "                                                                              \n",
       "\n",
       "                                                                              \n",
       "2⋅rₚ⋅{\\langle mp_{E_{unreg}}\\rangle} + 2⋅rₚ⋅{\\langle mp_{P_{unreg}}\\rangle}   \n",
       "─────────────────────────────────────────────────────────────────────────── - \n",
       "                                                                              \n",
       "                                                                              \n",
       "\n",
       "  2                                                                        2\n",
       "rₚ ⋅({\\langle m_{E_{unreg}}__1\\rangle} + {\\langle m_{P_{unreg}}__1\\rangle}) \n",
       "────────────────────────────────────────────────────────────────────────────\n",
       "                                      2                                     \n",
       "                                    γₚ                                      "
      ]
     },
     "execution_count": 120,
     "metadata": {},
     "output_type": "execute_result"
    }
   ],
   "source": [
    "# Compute the variance of the unregulated promoter\n",
    "var_unreg_p = second_unreg_p - first_unreg_p**2\n",
    "var_unreg_p_s = var_unreg_p.subs(corr_sol_unreg).\\\n",
    "                            subs(first_sol_unreg_p).\\\n",
    "                            subs(second_sol_unreg_m).\\\n",
    "                            subs(first_sol_unreg_m).\\\n",
    "                            subs(zero_sol_unreg)\n",
    "var_unreg_p"
   ]
  },
  {
   "cell_type": "markdown",
   "metadata": {},
   "source": [
    "We again simplify this solution as a function of global moments."
   ]
  },
  {
   "cell_type": "code",
   "execution_count": 121,
   "metadata": {},
   "outputs": [
    {
     "data": {
      "image/png": "[encoded data removed]",
      "text/latex": [
       "$$- {\\langle \\mathbf{p}_u\\rangle}^{2} + {\\langle \\mathbf{p}_u\\rangle} + \\frac{r_{p}}{\\gamma_{p}} {\\langle \\mathbf{mp}_u\\rangle}$$"
      ],
      "text/plain": [
       "                               2                                   rₚ⋅{\\langle\n",
       "- {\\langle \\mathbf{p}_u\\rangle}  + {\\langle \\mathbf{p}_u\\rangle} + ───────────\n",
       "                                                                              \n",
       "\n",
       " \\mathbf{mp}_u\\rangle}\n",
       "──────────────────────\n",
       "     γₚ               "
      ]
     },
     "execution_count": 121,
     "metadata": {},
     "output_type": "execute_result"
    }
   ],
   "source": [
    "var_unreg_moments_p = second_unreg_moments_p - pp1_unreg**2\n",
    "var_unreg_moments_p"
   ]
  },
  {
   "cell_type": "markdown",
   "metadata": {},
   "source": [
    "Or using the approximate solution for $\\left\\langle \\mathbf{mp} \\right\\rangle$"
   ]
  },
  {
   "cell_type": "code",
   "execution_count": 122,
   "metadata": {},
   "outputs": [
    {
     "data": {
      "image/png": "[encoded data removed]",
      "text/latex": [
       "$$- {\\langle \\mathbf{p}_u\\rangle}^{2} + {\\langle \\mathbf{p}_u\\rangle} + \\frac{r_{p}}{\\gamma_{m} \\gamma_{p}} \\left(r_{m} {\\langle p_{P_{unreg}}^1\\rangle} + r_{p} {\\langle \\mathbf{m}_u^2\\rangle}\\right)$$"
      ],
      "text/plain": [
       "                               2                                   rₚ⋅(rₘ⋅{\\la\n",
       "- {\\langle \\mathbf{p}_u\\rangle}  + {\\langle \\mathbf{p}_u\\rangle} + ───────────\n",
       "                                                                              \n",
       "\n",
       "ngle p_{P_{unreg}}__1\\rangle} + rₚ⋅{\\langle \\mathbf{m}_u__2\\rangle})\n",
       "────────────────────────────────────────────────────────────────────\n",
       "                          γₘ⋅γₚ                                     "
      ]
     },
     "execution_count": 122,
     "metadata": {},
     "output_type": "execute_result"
    }
   ],
   "source": [
    "var_unreg_moments_approx = second_unreg_moments_approx - pp1_unreg**2\n",
    "var_unreg_moments_approx"
   ]
  },
  {
   "cell_type": "markdown",
   "metadata": {},
   "source": [
    "#### Fano-factor\n",
    "We now turn to computing the **fano-factor**."
   ]
  },
  {
   "cell_type": "code",
   "execution_count": 123,
   "metadata": {},
   "outputs": [
    {
     "data": {
      "image/png": "[encoded data removed]",
      "text/latex": [
       "$$\\frac{\\gamma_{p}}{r_{p} \\left({\\langle m_{E_{unreg}}^1\\rangle} + {\\langle m_{P_{unreg}}^1\\rangle}\\right)} \\left(\\frac{1}{2 \\gamma_{p}} \\left(\\gamma_{p} {\\langle p_{E_{unreg}}^1\\rangle} + \\gamma_{p} {\\langle p_{P_{unreg}}^1\\rangle} + r_{p} {\\langle m_{E_{unreg}}^1\\rangle} + r_{p} {\\langle m_{P_{unreg}}^1\\rangle} + 2 r_{p} {\\langle mp_{E_{unreg}}\\rangle} + 2 r_{p} {\\langle mp_{P_{unreg}}\\rangle}\\right) - \\frac{r_{p}^{2}}{\\gamma_{p}^{2}} \\left({\\langle m_{E_{unreg}}^1\\rangle} + {\\langle m_{P_{unreg}}^1\\rangle}\\right)^{2}\\right)$$"
      ],
      "text/plain": [
       "   ⎛                                                                          \n",
       "   ⎜γₚ⋅{\\langle p_{E_{unreg}}__1\\rangle} + γₚ⋅{\\langle p_{P_{unreg}}__1\\rangle\n",
       "γₚ⋅⎜──────────────────────────────────────────────────────────────────────────\n",
       "   ⎜                                                                          \n",
       "   ⎝                                                                          \n",
       "──────────────────────────────────────────────────────────────────────────────\n",
       "                                                                              \n",
       "\n",
       "                                                                              \n",
       "} + rₚ⋅{\\langle m_{E_{unreg}}__1\\rangle} + rₚ⋅{\\langle m_{P_{unreg}}__1\\rangle\n",
       "──────────────────────────────────────────────────────────────────────────────\n",
       "                                        2⋅γₚ                                  \n",
       "                                                                              \n",
       "──────────────────────────────────────────────────────────────────────────────\n",
       "                                           rₚ⋅({\\langle m_{E_{unreg}}__1\\rangl\n",
       "\n",
       "                                                                              \n",
       "} + 2⋅rₚ⋅{\\langle mp_{E_{unreg}}\\rangle} + 2⋅rₚ⋅{\\langle mp_{P_{unreg}}\\rangle\n",
       "──────────────────────────────────────────────────────────────────────────────\n",
       "                                                                              \n",
       "                                                                              \n",
       "──────────────────────────────────────────────────────────────────────────────\n",
       "e} + {\\langle m_{P_{unreg}}__1\\rangle})                                       \n",
       "\n",
       "      2                                                                       \n",
       "}   rₚ ⋅({\\langle m_{E_{unreg}}__1\\rangle} + {\\langle m_{P_{unreg}}__1\\rangle}\n",
       "─ - ──────────────────────────────────────────────────────────────────────────\n",
       "                                          2                                   \n",
       "                                        γₚ                                    \n",
       "──────────────────────────────────────────────────────────────────────────────\n",
       "                                                                              \n",
       "\n",
       " 2⎞\n",
       ") ⎟\n",
       "──⎟\n",
       "  ⎟\n",
       "  ⎠\n",
       "───\n",
       "   "
      ]
     },
     "execution_count": 123,
     "metadata": {},
     "output_type": "execute_result"
    }
   ],
   "source": [
    "# Compute the fano factor of the unregulated promoter\n",
    "fano_unreg_p = var_unreg_p / first_unreg_p\n",
    "fano_unreg_s = fano_unreg_p.subs(corr_sol_unreg).\\\n",
    "                          subs(first_sol_unreg_p).\\\n",
    "                          subs(second_sol_unreg_m).\\\n",
    "                          subs(first_sol_unreg_m).\\\n",
    "                          subs(zero_sol_unreg)\n",
    "fano_unreg_p"
   ]
  },
  {
   "cell_type": "markdown",
   "metadata": {},
   "source": [
    "Again it is more clear to display this equation as a funciton of global moments.\n",
    "\n",
    "The complexity of the substitutions comes from step-by-step recognizing parmeters in the equation."
   ]
  },
  {
   "cell_type": "code",
   "execution_count": 124,
   "metadata": {},
   "outputs": [
    {
     "data": {
      "image/png": "[encoded data removed]",
      "text/latex": [
       "$$\\frac{1}{{\\langle \\mathbf{p}_u\\rangle}} \\left(- {\\langle \\mathbf{p}_u\\rangle}^{2} + {\\langle \\mathbf{p}_u\\rangle} + \\frac{r_{p}}{\\gamma_{m} \\gamma_{p}} \\left(r_{m} {\\langle p_{P_{unreg}}^1\\rangle} + r_{p} {\\langle \\mathbf{m}_u^2\\rangle}\\right)\\right)$$"
      ],
      "text/plain": [
       "                               2                                   rₚ⋅(rₘ⋅{\\la\n",
       "- {\\langle \\mathbf{p}_u\\rangle}  + {\\langle \\mathbf{p}_u\\rangle} + ───────────\n",
       "                                                                              \n",
       "──────────────────────────────────────────────────────────────────────────────\n",
       "                                                          {\\langle \\mathbf{p}_\n",
       "\n",
       "ngle p_{P_{unreg}}__1\\rangle} + rₚ⋅{\\langle \\mathbf{m}_u__2\\rangle})\n",
       "────────────────────────────────────────────────────────────────────\n",
       "                          γₘ⋅γₚ                                     \n",
       "────────────────────────────────────────────────────────────────────\n",
       "u\\rangle}                                                           "
      ]
     },
     "execution_count": 124,
     "metadata": {},
     "output_type": "execute_result"
    }
   ],
   "source": [
    "fano_unreg_moments_p = var_unreg_moments_approx / pp1_unreg \n",
    "\n",
    "fano_unreg_moments_p"
   ]
  },
  {
   "cell_type": "markdown",
   "metadata": {},
   "source": [
    "#### Noise\n",
    "\n",
    "Let's now compute the noise squared \n",
    "$$\n",
    "\\eta^2 = {\\sigma_p^2 \\over \\left\\langle \\mathbf{p} \\right\\rangle^2}\n",
    "$$"
   ]
  },
  {
   "cell_type": "code",
   "execution_count": 125,
   "metadata": {},
   "outputs": [
    {
     "data": {
      "image/png": "[encoded data removed]",
      "text/latex": [
       "$$\\frac{\\gamma_{p}^{2}}{r_{p}^{2} \\left({\\langle m_{E_{unreg}}^1\\rangle} + {\\langle m_{P_{unreg}}^1\\rangle}\\right)^{2}} \\left(\\frac{1}{2 \\gamma_{p}} \\left(\\gamma_{p} {\\langle p_{E_{unreg}}^1\\rangle} + \\gamma_{p} {\\langle p_{P_{unreg}}^1\\rangle} + r_{p} {\\langle m_{E_{unreg}}^1\\rangle} + r_{p} {\\langle m_{P_{unreg}}^1\\rangle} + 2 r_{p} {\\langle mp_{E_{unreg}}\\rangle} + 2 r_{p} {\\langle mp_{P_{unreg}}\\rangle}\\right) - \\frac{r_{p}^{2}}{\\gamma_{p}^{2}} \\left({\\langle m_{E_{unreg}}^1\\rangle} + {\\langle m_{P_{unreg}}^1\\rangle}\\right)^{2}\\right)$$"
      ],
      "text/plain": [
       "    ⎛                                                                         \n",
       "  2 ⎜γₚ⋅{\\langle p_{E_{unreg}}__1\\rangle} + γₚ⋅{\\langle p_{P_{unreg}}__1\\rangl\n",
       "γₚ ⋅⎜─────────────────────────────────────────────────────────────────────────\n",
       "    ⎜                                                                         \n",
       "    ⎝                                                                         \n",
       "──────────────────────────────────────────────────────────────────────────────\n",
       "                                                                              \n",
       "                                                                              \n",
       "\n",
       "                                                                              \n",
       "e} + rₚ⋅{\\langle m_{E_{unreg}}__1\\rangle} + rₚ⋅{\\langle m_{P_{unreg}}__1\\rangl\n",
       "──────────────────────────────────────────────────────────────────────────────\n",
       "                                         2⋅γₚ                                 \n",
       "                                                                              \n",
       "──────────────────────────────────────────────────────────────────────────────\n",
       "                                            2                                 \n",
       "                                          rₚ ⋅({\\langle m_{E_{unreg}}__1\\rangl\n",
       "\n",
       "                                                                              \n",
       "e} + 2⋅rₚ⋅{\\langle mp_{E_{unreg}}\\rangle} + 2⋅rₚ⋅{\\langle mp_{P_{unreg}}\\rangl\n",
       "──────────────────────────────────────────────────────────────────────────────\n",
       "                                                                              \n",
       "                                                                              \n",
       "──────────────────────────────────────────────────────────────────────────────\n",
       "                                       2                                      \n",
       "e} + {\\langle m_{P_{unreg}}__1\\rangle})                                       \n",
       "\n",
       "       2                                                                      \n",
       "e}   rₚ ⋅({\\langle m_{E_{unreg}}__1\\rangle} + {\\langle m_{P_{unreg}}__1\\rangle\n",
       "── - ─────────────────────────────────────────────────────────────────────────\n",
       "                                           2                                  \n",
       "                                         γₚ                                   \n",
       "──────────────────────────────────────────────────────────────────────────────\n",
       "                                                                              \n",
       "                                                                              \n",
       "\n",
       "  2⎞\n",
       "}) ⎟\n",
       "───⎟\n",
       "   ⎟\n",
       "   ⎠\n",
       "────\n",
       "    \n",
       "    "
      ]
     },
     "execution_count": 125,
     "metadata": {},
     "output_type": "execute_result"
    }
   ],
   "source": [
    "# Compute the fano factor of the unregulated promoter\n",
    "noise_square_unreg_p = var_unreg_p / first_unreg_p**2\n",
    "noise_square_unreg_p_s = noise_square_unreg_p.subs(corr_sol_unreg).\\\n",
    "                          subs(first_sol_unreg_p).\\\n",
    "                          subs(second_sol_unreg_m).\\\n",
    "                          subs(first_sol_unreg_m).\\\n",
    "                          subs(zero_sol_unreg)\n",
    "noise_square_unreg_p"
   ]
  },
  {
   "cell_type": "markdown",
   "metadata": {},
   "source": [
    "And again we substitute the global moments to display a more transparent expression."
   ]
  },
  {
   "cell_type": "code",
   "execution_count": 126,
   "metadata": {},
   "outputs": [
    {
     "data": {
      "image/png": "[encoded data removed]",
      "text/latex": [
       "$$\\frac{1}{{\\langle \\mathbf{p}_u\\rangle}^{2}} \\left(- {\\langle \\mathbf{p}_u\\rangle}^{2} + {\\langle \\mathbf{p}_u\\rangle} + \\frac{r_{p}}{\\gamma_{m} \\gamma_{p}} \\left(r_{m} {\\langle p_{P_{unreg}}^1\\rangle} + r_{p} {\\langle \\mathbf{m}_u^2\\rangle}\\right)\\right)$$"
      ],
      "text/plain": [
       "                               2                                   rₚ⋅(rₘ⋅{\\la\n",
       "- {\\langle \\mathbf{p}_u\\rangle}  + {\\langle \\mathbf{p}_u\\rangle} + ───────────\n",
       "                                                                              \n",
       "──────────────────────────────────────────────────────────────────────────────\n",
       "                                                                              \n",
       "                                                          {\\langle \\mathbf{p}_\n",
       "\n",
       "ngle p_{P_{unreg}}__1\\rangle} + rₚ⋅{\\langle \\mathbf{m}_u__2\\rangle})\n",
       "────────────────────────────────────────────────────────────────────\n",
       "                          γₘ⋅γₚ                                     \n",
       "────────────────────────────────────────────────────────────────────\n",
       "         2                                                          \n",
       "u\\rangle}                                                           "
      ]
     },
     "execution_count": 126,
     "metadata": {},
     "output_type": "execute_result"
    }
   ],
   "source": [
    "noise_square_unreg_moments = (var_unreg_moments_approx / pp1_unreg**2)\n",
    "noise_square_unreg_moments"
   ]
  },
  {
   "cell_type": "code",
   "execution_count": 127,
   "metadata": {},
   "outputs": [
    {
     "data": {
      "image/png": "[encoded data removed]",
      "text/latex": [
       "$$\\frac{1}{r_{m} r_{p} {k_{on}^p} \\left({k_{off}^p} {k_{on}^p} - \\left(2 \\gamma_{m} + {k_{off}^p}\\right) \\left(2 \\gamma_{m} + {k_{on}^p}\\right)\\right) \\left({k_{off}^p} {k_{on}^p} + {k_{off}^p} \\left(\\gamma_{m} + \\gamma_{p} + {k_{off}^p} + {k_{on}^p}\\right) + \\left(\\gamma_{m} + {k_{on}^p}\\right) \\left(\\gamma_{p} + {k_{on}^p}\\right)\\right)^{2}} \\left(\\gamma_{m} \\gamma_{p} {k_{off}^p}^{2} \\left(\\gamma_{m} + {k_{off}^p}\\right) \\left(\\gamma_{p} + {k_{off}^p}\\right) \\left({k_{off}^p} {k_{on}^p} - \\left(2 \\gamma_{m} + {k_{off}^p}\\right) \\left(2 \\gamma_{m} + {k_{on}^p}\\right)\\right) \\left(\\gamma_{m} + \\gamma_{p} + {k_{off}^p} + {k_{on}^p}\\right) + \\gamma_{m} \\gamma_{p} {k_{off}^p} \\left(\\gamma_{m} + {k_{off}^p}\\right) \\left(\\gamma_{p} + {k_{off}^p}\\right) \\left({k_{off}^p} {k_{on}^p} + \\left(\\gamma_{m} + {k_{on}^p}\\right) \\left(\\gamma_{p} + {k_{on}^p}\\right)\\right) \\left({k_{off}^p} {k_{on}^p} - \\left(2 \\gamma_{m} + {k_{off}^p}\\right) \\left(2 \\gamma_{m} + {k_{on}^p}\\right)\\right) - r_{m} r_{p} {k_{on}^p} \\left({k_{off}^p} {k_{on}^p} - \\left(2 \\gamma_{m} + {k_{off}^p}\\right) \\left(2 \\gamma_{m} + {k_{on}^p}\\right)\\right) \\left({k_{off}^p} {k_{on}^p} + {k_{off}^p} \\left(\\gamma_{m} + \\gamma_{p} + {k_{off}^p} + {k_{on}^p}\\right) + \\left(\\gamma_{m} + {k_{on}^p}\\right) \\left(\\gamma_{p} + {k_{on}^p}\\right)\\right)^{2} - r_{p} {k_{off}^p} \\left(\\gamma_{m} + {k_{off}^p}\\right) \\left(\\gamma_{p} + {k_{off}^p}\\right) \\left(\\gamma_{p} \\left(\\gamma_{p} + {k_{off}^p}\\right) \\left(\\gamma_{m} {k_{off}^p} {k_{on}^p} + {k_{off}^p} \\left(\\gamma_{m} \\left(\\gamma_{m} + {k_{off}^p}\\right) + \\gamma_{m} \\left(2 \\gamma_{m} + {k_{off}^p}\\right) + \\left(\\gamma_{m} + 2 r_{m}\\right) \\left(\\gamma_{m} + {k_{on}^p}\\right)\\right) + \\left(2 \\gamma_{m} + {k_{on}^p}\\right) \\left(\\gamma_{m} \\left(\\gamma_{m} + {k_{off}^p}\\right) + \\left(\\gamma_{m} + 2 r_{m}\\right) \\left(\\gamma_{m} + {k_{on}^p}\\right)\\right)\\right) - r_{m} \\left({k_{off}^p} {k_{on}^p} + \\left(\\gamma_{m} + {k_{on}^p}\\right) \\left(\\gamma_{p} + {k_{on}^p}\\right)\\right) \\left({k_{off}^p} {k_{on}^p} - \\left(2 \\gamma_{m} + {k_{off}^p}\\right) \\left(2 \\gamma_{m} + {k_{on}^p}\\right)\\right)\\right)\\right)$$"
      ],
      "text/plain": [
       "                  2                                                           \n",
       "γₘ⋅γₚ⋅{k_{off}__p} ⋅(γₘ + {k_{off}__p})⋅(γₚ + {k_{off}__p})⋅({k_{off}__p}⋅{k_{\n",
       "──────────────────────────────────────────────────────────────────────────────\n",
       "                                                                              \n",
       "                                                                              \n",
       "\n",
       "                                                                              \n",
       "on}__p} - (2⋅γₘ + {k_{off}__p})⋅(2⋅γₘ + {k_{on}__p}))⋅(γₘ + γₚ + {k_{off}__p} \n",
       "──────────────────────────────────────────────────────────────────────────────\n",
       "                                                                              \n",
       "                                                                              \n",
       "\n",
       "                                                                              \n",
       "+ {k_{on}__p}) + γₘ⋅γₚ⋅{k_{off}__p}⋅(γₘ + {k_{off}__p})⋅(γₚ + {k_{off}__p})⋅({\n",
       "──────────────────────────────────────────────────────────────────────────────\n",
       "                                                                              \n",
       "                                                                              \n",
       "\n",
       "                                                                              \n",
       "k_{off}__p}⋅{k_{on}__p} + (γₘ + {k_{on}__p})⋅(γₚ + {k_{on}__p}))⋅({k_{off}__p}\n",
       "──────────────────────────────────────────────────────────────────────────────\n",
       "                                                                              \n",
       "                                                                              \n",
       "\n",
       "                                                                              \n",
       "⋅{k_{on}__p} - (2⋅γₘ + {k_{off}__p})⋅(2⋅γₘ + {k_{on}__p})) - rₘ⋅rₚ⋅{k_{on}__p}\n",
       "──────────────────────────────────────────────────────────────────────────────\n",
       "                                                                              \n",
       "                                                                              \n",
       "\n",
       "                                                                              \n",
       "⋅({k_{off}__p}⋅{k_{on}__p} - (2⋅γₘ + {k_{off}__p})⋅(2⋅γₘ + {k_{on}__p}))⋅({k_{\n",
       "──────────────────────────────────────────────────────────────────────────────\n",
       "                                                                              \n",
       "               rₘ⋅rₚ⋅{k_{on}__p}⋅({k_{off}__p}⋅{k_{on}__p} - (2⋅γₘ + {k_{off}_\n",
       "\n",
       "                                                                              \n",
       "off}__p}⋅{k_{on}__p} + {k_{off}__p}⋅(γₘ + γₚ + {k_{off}__p} + {k_{on}__p}) + (\n",
       "──────────────────────────────────────────────────────────────────────────────\n",
       "                                                                              \n",
       "_p})⋅(2⋅γₘ + {k_{on}__p}))⋅({k_{off}__p}⋅{k_{on}__p} + {k_{off}__p}⋅(γₘ + γₚ +\n",
       "\n",
       "                                     2                                        \n",
       "γₘ + {k_{on}__p})⋅(γₚ + {k_{on}__p}))  - rₚ⋅{k_{off}__p}⋅(γₘ + {k_{off}__p})⋅(\n",
       "──────────────────────────────────────────────────────────────────────────────\n",
       "                                                                     2        \n",
       " {k_{off}__p} + {k_{on}__p}) + (γₘ + {k_{on}__p})⋅(γₚ + {k_{on}__p}))         \n",
       "\n",
       "                                                                              \n",
       "γₚ + {k_{off}__p})⋅(γₚ⋅(γₚ + {k_{off}__p})⋅(γₘ⋅{k_{off}__p}⋅{k_{on}__p} + {k_{\n",
       "──────────────────────────────────────────────────────────────────────────────\n",
       "                                                                              \n",
       "                                                                              \n",
       "\n",
       "                                                                              \n",
       "off}__p}⋅(γₘ⋅(γₘ + {k_{off}__p}) + γₘ⋅(2⋅γₘ + {k_{off}__p}) + (γₘ + 2⋅rₘ)⋅(γₘ \n",
       "──────────────────────────────────────────────────────────────────────────────\n",
       "                                                                              \n",
       "                                                                              \n",
       "\n",
       "                                                                              \n",
       "+ {k_{on}__p})) + (2⋅γₘ + {k_{on}__p})⋅(γₘ⋅(γₘ + {k_{off}__p}) + (γₘ + 2⋅rₘ)⋅(\n",
       "──────────────────────────────────────────────────────────────────────────────\n",
       "                                                                              \n",
       "                                                                              \n",
       "\n",
       "                                                                              \n",
       "γₘ + {k_{on}__p}))) - rₘ⋅({k_{off}__p}⋅{k_{on}__p} + (γₘ + {k_{on}__p})⋅(γₚ + \n",
       "──────────────────────────────────────────────────────────────────────────────\n",
       "                                                                              \n",
       "                                                                              \n",
       "\n",
       "                                                                              \n",
       "{k_{on}__p}))⋅({k_{off}__p}⋅{k_{on}__p} - (2⋅γₘ + {k_{off}__p})⋅(2⋅γₘ + {k_{on\n",
       "──────────────────────────────────────────────────────────────────────────────\n",
       "                                                                              \n",
       "                                                                              \n",
       "\n",
       "        \n",
       "}__p})))\n",
       "────────\n",
       "        \n",
       "        "
      ]
     },
     "execution_count": 127,
     "metadata": {},
     "output_type": "execute_result"
    }
   ],
   "source": [
    "noise_square_unreg_moments.subs(first_sol_unreg_p).\\\n",
    "                           subs(mm2_unreg, sum(m2_unreg)).\\\n",
    "                           subs(pp1_unreg, sum(p1_unreg)).\\\n",
    "                           subs(first_sol_unreg_p).\\\n",
    "                           subs(second_sol_unreg_m).\\\n",
    "                           subs(first_sol_unreg_m).\\\n",
    "                           subs(zero_sol_unreg).\\\n",
    "                           subs(kp_off + kp_on, kp_off).\\\n",
    "                           subs(gm + gp , gm).simplify()"
   ]
  },
  {
   "cell_type": "markdown",
   "metadata": {},
   "source": [
    "Let's compare this result to the one derived by Shahrezaei and Swain."
   ]
  },
  {
   "cell_type": "code",
   "execution_count": 128,
   "metadata": {},
   "outputs": [
    {
     "data": {
      "image/png": "[encoded data removed]",
      "text/latex": [
       "$$\\frac{\\gamma_{p} {k_{off}^p}}{{k_{on}^p} \\left(\\gamma_{p} + {k_{off}^p} + {k_{on}^p}\\right)} + \\frac{1}{{\\langle p_{E_{unreg}}^1\\rangle} + {\\langle p_{P_{unreg}}^1\\rangle}} + \\frac{\\gamma_{p}}{\\gamma_{m} \\left({\\langle m_{E_{unreg}}^1\\rangle} + {\\langle m_{P_{unreg}}^1\\rangle}\\right)}$$"
      ],
      "text/plain": [
       "               γₚ⋅{k_{off}__p}                                                \n",
       "───────────────────────────────────────────── + ──────────────────────────────\n",
       "{k_{on}__p}⋅(γₚ + {k_{off}__p} + {k_{on}__p})   {\\langle p_{E_{unreg}}__1\\rang\n",
       "\n",
       "    1                                                                         \n",
       "─────────────────────────────────────── + ────────────────────────────────────\n",
       "le} + {\\langle p_{P_{unreg}}__1\\rangle}   γₘ⋅({\\langle m_{E_{unreg}}__1\\rangle\n",
       "\n",
       "γₚ                                    \n",
       "──────────────────────────────────────\n",
       "} + {\\langle m_{P_{unreg}}__1\\rangle})"
      ]
     },
     "execution_count": 128,
     "metadata": {},
     "output_type": "execute_result"
    }
   ],
   "source": [
    "# Define noise as derived by Shahrezaei and Swain\n",
    "noise_square_swain = 1 / (sum(p1_unreg)) +\\\n",
    "                     gp / gm * 1 / sum(m1_unreg) +\\\n",
    "                     gp / (gp + kp_off + kp_on) * kp_off / kp_on\n",
    "noise_square_swain_s = noise_square_swain.subs(first_sol_unreg_p).\\\n",
    "                                          subs(first_sol_unreg_m).\\\n",
    "                                          subs(zero_sol_unreg)\n",
    "noise_square_swain"
   ]
  },
  {
   "cell_type": "markdown",
   "metadata": {},
   "source": [
    "# Three-state promoter (mRNA)\n",
    "\n",
    "Let's now derive the moments for the three-state promoter. The matrix equations remain the same between the two- and the three-state promoter. The only difference is the definition of the state transition, production and degradation matrix.\n",
    "\n",
    "Let's first define the moment variables"
   ]
  },
  {
   "cell_type": "code",
   "execution_count": 159,
   "metadata": {},
   "outputs": [
    {
     "data": {
      "image/png": "[encoded data removed]",
      "text/latex": [
       "$$\\left ( \\left [ {\\langle m_{P_{reg}}^0\\rangle}, \\quad {\\langle m_{E_{reg}}^0\\rangle}, \\quad {\\langle m_{R_{reg}}^0\\rangle}\\right ], \\quad \\left [ {\\langle m_{P_{reg}}^1\\rangle}, \\quad {\\langle m_{E_{reg}}^1\\rangle}, \\quad {\\langle m_{R_{reg}}^1\\rangle}\\right ], \\quad \\left [ {\\langle m_{P_{reg}}^2\\rangle}, \\quad {\\langle m_{E_{reg}}^2\\rangle}, \\quad {\\langle m_{R_{reg}}^2\\rangle}\\right ], \\quad \\left [ {\\langle m_{P_{reg}}^3\\rangle}, \\quad {\\langle m_{E_{reg}}^3\\rangle}, \\quad {\\langle m_{R_{reg}}^3\\rangle}\\right ]\\right )$$"
      ],
      "text/plain": [
       "([{\\langle m_{P_{reg}}__0\\rangle}, {\\langle m_{E_{reg}}__0\\rangle}, {\\langle m\n",
       "_{R_{reg}}__0\\rangle}], [{\\langle m_{P_{reg}}__1\\rangle}, {\\langle m_{E_{reg}}\n",
       "__1\\rangle}, {\\langle m_{R_{reg}}__1\\rangle}], [{\\langle m_{P_{reg}}__2\\rangle\n",
       "}, {\\langle m_{E_{reg}}__2\\rangle}, {\\langle m_{R_{reg}}__2\\rangle}], [{\\langl\n",
       "e m_{P_{reg}}__3\\rangle}, {\\langle m_{E_{reg}}__3\\rangle}, {\\langle m_{R_{reg}\n",
       "}__3\\rangle}])"
      ]
     },
     "execution_count": 159,
     "metadata": {},
     "output_type": "execute_result"
    }
   ],
   "source": [
    "# Define the string for the states\n",
    "m_reg = ['m_{P_{reg}}', 'm_{E_{reg}}', 'm_{R_{reg}}']\n",
    "\n",
    "# Define the zeroth moments\n",
    "m0_reg = [moment_sympy(x, 0) for x in m_reg]\n",
    "# Define the first moments\n",
    "m1_reg = [moment_sympy(x, 1) for x in m_reg]\n",
    "# Define the second moments\n",
    "m2_reg = [moment_sympy(x, 2) for x in m_reg]\n",
    "# Define the second moments\n",
    "m3_reg = [moment_sympy(x, 3) for x in m_reg]\n",
    "\n",
    "m0_reg, m1_reg, m2_reg, m3_reg"
   ]
  },
  {
   "cell_type": "code",
   "execution_count": 160,
   "metadata": {},
   "outputs": [
    {
     "data": {
      "image/png": "[encoded data removed]",
      "text/latex": [
       "$$\\left ( \\left [ {\\langle p_{P_{reg}}^0\\rangle}, \\quad {\\langle p_{E_{reg}}^0\\rangle}, \\quad {\\langle p_{R_{reg}}^0\\rangle}\\right ], \\quad \\left [ {\\langle p_{P_{reg}}^1\\rangle}, \\quad {\\langle p_{E_{reg}}^1\\rangle}, \\quad {\\langle p_{R_{reg}}^1\\rangle}\\right ], \\quad \\left [ {\\langle p_{P_{reg}}^2\\rangle}, \\quad {\\langle p_{E_{reg}}^2\\rangle}, \\quad {\\langle p_{R_{reg}}^2\\rangle}\\right ], \\quad \\left [ {\\langle p_{P_{reg}}^3\\rangle}, \\quad {\\langle p_{E_{reg}}^3\\rangle}, \\quad {\\langle p_{R_{reg}}^3\\rangle}\\right ]\\right )$$"
      ],
      "text/plain": [
       "([{\\langle p_{P_{reg}}__0\\rangle}, {\\langle p_{E_{reg}}__0\\rangle}, {\\langle p\n",
       "_{R_{reg}}__0\\rangle}], [{\\langle p_{P_{reg}}__1\\rangle}, {\\langle p_{E_{reg}}\n",
       "__1\\rangle}, {\\langle p_{R_{reg}}__1\\rangle}], [{\\langle p_{P_{reg}}__2\\rangle\n",
       "}, {\\langle p_{E_{reg}}__2\\rangle}, {\\langle p_{R_{reg}}__2\\rangle}], [{\\langl\n",
       "e p_{P_{reg}}__3\\rangle}, {\\langle p_{E_{reg}}__3\\rangle}, {\\langle p_{R_{reg}\n",
       "}__3\\rangle}])"
      ]
     },
     "execution_count": 160,
     "metadata": {},
     "output_type": "execute_result"
    }
   ],
   "source": [
    "# Define the string for the states\n",
    "p_reg = ['p_{P_{reg}}', 'p_{E_{reg}}', 'p_{R_{reg}}']\n",
    "\n",
    "# Define the zeroth moments\n",
    "p0_reg = [moment_sympy(x, 0) for x in p_reg]\n",
    "# Define the first moments\n",
    "p1_reg = [moment_sympy(x, 1) for x in p_reg]\n",
    "# Define the second moments\n",
    "p2_reg = [moment_sympy(x, 2) for x in p_reg]\n",
    "# Define the second moments\n",
    "p3_reg = [moment_sympy(x, 3) for x in p_reg]\n",
    "\n",
    "p0_reg, p1_reg, p2_reg, p3_reg"
   ]
  },
  {
   "cell_type": "code",
   "execution_count": 161,
   "metadata": {},
   "outputs": [
    {
     "data": {
      "image/png": "[encoded data removed]",
      "text/latex": [
       "$$\\left ( {\\langle \\mathbf{m}_r^0\\rangle}, \\quad {\\langle \\mathbf{m}_r\\rangle}, \\quad {\\langle \\mathbf{m}_r^2\\rangle}, \\quad {\\langle \\mathbf{p}_r^0\\rangle}, \\quad {\\langle \\mathbf{p}_r\\rangle}, \\quad {\\langle \\mathbf{p}_r^2\\rangle}, \\quad {\\langle \\mathbf{mp}_r\\rangle}\\right )$$"
      ],
      "text/plain": [
       "({\\langle \\mathbf{m}_r__0\\rangle}, {\\langle \\mathbf{m}_r\\rangle}, {\\langle \\ma\n",
       "thbf{m}_r__2\\rangle}, {\\langle \\mathbf{p}_r__0\\rangle}, {\\langle \\mathbf{p}_r\\\n",
       "rangle}, {\\langle \\mathbf{p}_r__2\\rangle}, {\\langle \\mathbf{mp}_r\\rangle})"
      ]
     },
     "execution_count": 161,
     "metadata": {},
     "output_type": "execute_result"
    }
   ],
   "source": [
    "# define \"global\" moments\n",
    "mm0_reg = moment_sympy('\\mathbf{m}_r', 0)\n",
    "mm1_reg = moment_sympy('\\mathbf{m}_r', None)\n",
    "mm2_reg = moment_sympy('\\mathbf{m}_r', 2)\n",
    "pp0_reg = moment_sympy('\\mathbf{p}_r', 0)\n",
    "pp1_reg = moment_sympy('\\mathbf{p}_r', None)\n",
    "pp2_reg = moment_sympy('\\mathbf{p}_r', 2)\n",
    "mmpp_reg = moment_sympy('\\mathbf{mp}_r', None)\n",
    "mm0_reg, mm1_reg, mm2_reg, pp0_reg, pp1_reg, pp2_reg, mmpp_reg"
   ]
  },
  {
   "cell_type": "code",
   "execution_count": 162,
   "metadata": {},
   "outputs": [
    {
     "data": {
      "image/png": "[encoded data removed]",
      "text/latex": [
       "$$\\left ( \\left \\{ {\\langle m_{E_{reg}}^1\\rangle} : - \\frac{r_{m} {\\langle m_{P_{reg}}^0\\rangle} {k_{off}^p} \\left(\\gamma_{m} + {k_{off}^r}\\right)}{{k_{off}^p} {k_{on}^p} \\left(\\gamma_{m} + {k_{off}^r}\\right) + {k_{off}^r} {k_{on}^r} \\left(\\gamma_{m} + {k_{off}^p}\\right) - \\left(\\gamma_{m} + {k_{off}^p}\\right) \\left(\\gamma_{m} + {k_{off}^r}\\right) \\left(\\gamma_{m} + {k_{on}^p} + {k_{on}^r}\\right)}, \\quad {\\langle m_{P_{reg}}^1\\rangle} : \\frac{r_{m} {\\langle m_{P_{reg}}^0\\rangle} \\left({k_{off}^r} {k_{on}^r} - \\left(\\gamma_{m} + {k_{off}^r}\\right) \\left(\\gamma_{m} + {k_{on}^p} + {k_{on}^r}\\right)\\right)}{{k_{off}^p} {k_{on}^p} \\left(\\gamma_{m} + {k_{off}^r}\\right) + {k_{off}^r} {k_{on}^r} \\left(\\gamma_{m} + {k_{off}^p}\\right) - \\left(\\gamma_{m} + {k_{off}^p}\\right) \\left(\\gamma_{m} + {k_{off}^r}\\right) \\left(\\gamma_{m} + {k_{on}^p} + {k_{on}^r}\\right)}, \\quad {\\langle m_{R_{reg}}^1\\rangle} : - \\frac{r_{m} {\\langle m_{P_{reg}}^0\\rangle} {k_{off}^p} {k_{on}^r}}{{k_{off}^p} {k_{on}^p} \\left(\\gamma_{m} + {k_{off}^r}\\right) + {k_{off}^r} {k_{on}^r} \\left(\\gamma_{m} + {k_{off}^p}\\right) - \\left(\\gamma_{m} + {k_{off}^p}\\right) \\left(\\gamma_{m} + {k_{off}^r}\\right) \\left(\\gamma_{m} + {k_{on}^p} + {k_{on}^r}\\right)}\\right \\}, \\quad \\left \\{ {\\langle m_{E_{reg}}^2\\rangle} : - \\frac{\\gamma_{m} {\\langle m_{E_{reg}}^1\\rangle} \\left(2 \\gamma_{m} + {k_{off}^p}\\right) \\left(2 \\gamma_{m} + {k_{off}^r}\\right) + \\gamma_{m} {\\langle m_{R_{reg}}^1\\rangle} {k_{off}^r} \\left(2 \\gamma_{m} + {k_{off}^p}\\right) + {k_{off}^p} \\left(2 \\gamma_{m} + {k_{off}^r}\\right) \\left(r_{m} {\\langle m_{P_{reg}}^0\\rangle} + {\\langle m_{P_{reg}}^1\\rangle} \\left(\\gamma_{m} + 2 r_{m}\\right)\\right)}{{k_{off}^p} {k_{on}^p} \\left(2 \\gamma_{m} + {k_{off}^r}\\right) + {k_{off}^r} {k_{on}^r} \\left(2 \\gamma_{m} + {k_{off}^p}\\right) - \\left(2 \\gamma_{m} + {k_{off}^p}\\right) \\left(2 \\gamma_{m} + {k_{off}^r}\\right) \\left(2 \\gamma_{m} + {k_{on}^p} + {k_{on}^r}\\right)}, \\quad {\\langle m_{P_{reg}}^2\\rangle} : \\frac{- \\gamma_{m} {\\langle m_{E_{reg}}^1\\rangle} {k_{on}^p} \\left(2 \\gamma_{m} + {k_{off}^r}\\right) - \\gamma_{m} {\\langle m_{R_{reg}}^1\\rangle} {k_{off}^r} {k_{on}^p} + \\left(r_{m} {\\langle m_{P_{reg}}^0\\rangle} + {\\langle m_{P_{reg}}^1\\rangle} \\left(\\gamma_{m} + 2 r_{m}\\right)\\right) \\left({k_{off}^r} {k_{on}^r} - \\left(2 \\gamma_{m} + {k_{off}^r}\\right) \\left(2 \\gamma_{m} + {k_{on}^p} + {k_{on}^r}\\right)\\right)}{{k_{off}^p} {k_{on}^p} \\left(2 \\gamma_{m} + {k_{off}^r}\\right) + {k_{off}^r} {k_{on}^r} \\left(2 \\gamma_{m} + {k_{off}^p}\\right) - \\left(2 \\gamma_{m} + {k_{off}^p}\\right) \\left(2 \\gamma_{m} + {k_{off}^r}\\right) \\left(2 \\gamma_{m} + {k_{on}^p} + {k_{on}^r}\\right)}, \\quad {\\langle m_{R_{reg}}^2\\rangle} : \\frac{- \\gamma_{m} {\\langle m_{E_{reg}}^1\\rangle} {k_{on}^r} \\left(2 \\gamma_{m} + {k_{off}^p}\\right) + \\gamma_{m} {\\langle m_{R_{reg}}^1\\rangle} \\left({k_{off}^p} {k_{on}^p} - \\left(2 \\gamma_{m} + {k_{off}^p}\\right) \\left(2 \\gamma_{m} + {k_{on}^p} + {k_{on}^r}\\right)\\right) - {k_{off}^p} {k_{on}^r} \\left(r_{m} {\\langle m_{P_{reg}}^0\\rangle} + {\\langle m_{P_{reg}}^1\\rangle} \\left(\\gamma_{m} + 2 r_{m}\\right)\\right)}{{k_{off}^p} {k_{on}^p} \\left(2 \\gamma_{m} + {k_{off}^r}\\right) + {k_{off}^r} {k_{on}^r} \\left(2 \\gamma_{m} + {k_{off}^p}\\right) - \\left(2 \\gamma_{m} + {k_{off}^p}\\right) \\left(2 \\gamma_{m} + {k_{off}^r}\\right) \\left(2 \\gamma_{m} + {k_{on}^p} + {k_{on}^r}\\right)}\\right \\}\\right )$$"
      ],
      "text/plain": [
       "⎛⎧                                                                            \n",
       "⎜⎨{\\langle m_{E_{reg}}__1\\rangle}: ───────────────────────────────────────────\n",
       "⎝⎩                                 {k_{off}__p}⋅{k_{on}__p}⋅(γₘ + {k_{off}__r}\n",
       "\n",
       "     -rₘ⋅{\\langle m_{P_{reg}}__0\\rangle}⋅{k_{off}__p}⋅(γₘ + {k_{off}__r})     \n",
       "──────────────────────────────────────────────────────────────────────────────\n",
       ") + {k_{off}__r}⋅{k_{on}__r}⋅(γₘ + {k_{off}__p}) - (γₘ + {k_{off}__p})⋅(γₘ + {\n",
       "\n",
       "                                                                              \n",
       "─────────────────────────────────────────────, {\\langle m_{P_{reg}}__1\\rangle}\n",
       "k_{off}__r})⋅(γₘ + {k_{on}__p} + {k_{on}__r})                                 \n",
       "\n",
       "                           rₘ⋅{\\langle m_{P_{reg}}__0\\rangle}⋅({k_{off}__r}⋅{k\n",
       ": ────────────────────────────────────────────────────────────────────────────\n",
       "  {k_{off}__p}⋅{k_{on}__p}⋅(γₘ + {k_{off}__r}) + {k_{off}__r}⋅{k_{on}__r}⋅(γₘ \n",
       "\n",
       "_{on}__r} - (γₘ + {k_{off}__r})⋅(γₘ + {k_{on}__p} + {k_{on}__r}))             \n",
       "──────────────────────────────────────────────────────────────────────────────\n",
       "+ {k_{off}__p}) - (γₘ + {k_{off}__p})⋅(γₘ + {k_{off}__r})⋅(γₘ + {k_{on}__p} + \n",
       "\n",
       "                                                                              \n",
       "────────────, {\\langle m_{R_{reg}}__1\\rangle}: ───────────────────────────────\n",
       "{k_{on}__r})                                   {k_{off}__p}⋅{k_{on}__p}⋅(γₘ + \n",
       "\n",
       "                     -rₘ⋅{\\langle m_{P_{reg}}__0\\rangle}⋅{k_{off}__p}⋅{k_{on}_\n",
       "──────────────────────────────────────────────────────────────────────────────\n",
       "{k_{off}__r}) + {k_{off}__r}⋅{k_{on}__r}⋅(γₘ + {k_{off}__p}) - (γₘ + {k_{off}_\n",
       "\n",
       "_r}                                                      ⎫  ⎧                 \n",
       "─────────────────────────────────────────────────────────⎬, ⎨{\\langle m_{E_{re\n",
       "_p})⋅(γₘ + {k_{off}__r})⋅(γₘ + {k_{on}__p} + {k_{on}__r})⎭  ⎩                 \n",
       "\n",
       "                -(γₘ⋅{\\langle m_{E_{reg}}__1\\rangle}⋅(2⋅γₘ + {k_{off}__p})⋅(2⋅\n",
       "g}}__2\\rangle}: ──────────────────────────────────────────────────────────────\n",
       "                                                                 {k_{off}__p}⋅\n",
       "\n",
       "γₘ + {k_{off}__r}) + γₘ⋅{\\langle m_{R_{reg}}__1\\rangle}⋅{k_{off}__r}⋅(2⋅γₘ + {\n",
       "──────────────────────────────────────────────────────────────────────────────\n",
       "{k_{on}__p}⋅(2⋅γₘ + {k_{off}__r}) + {k_{off}__r}⋅{k_{on}__r}⋅(2⋅γₘ + {k_{off}_\n",
       "\n",
       "k_{off}__p}) + {k_{off}__p}⋅(2⋅γₘ + {k_{off}__r})⋅(rₘ⋅{\\langle m_{P_{reg}}__0\\\n",
       "──────────────────────────────────────────────────────────────────────────────\n",
       "_p}) - (2⋅γₘ + {k_{off}__p})⋅(2⋅γₘ + {k_{off}__r})⋅(2⋅γₘ + {k_{on}__p} + {k_{o\n",
       "\n",
       "rangle} + {\\langle m_{P_{reg}}__1\\rangle}⋅(γₘ + 2⋅rₘ)))                       \n",
       "────────────────────────────────────────────────────────, {\\langle m_{P_{reg}}\n",
       "n}__r})                                                                       \n",
       "\n",
       "             -γₘ⋅{\\langle m_{E_{reg}}__1\\rangle}⋅{k_{on}__p}⋅(2⋅γₘ + {k_{off}_\n",
       "__2\\rangle}: ─────────────────────────────────────────────────────────────────\n",
       "                                                                            {k\n",
       "\n",
       "_r}) - γₘ⋅{\\langle m_{R_{reg}}__1\\rangle}⋅{k_{off}__r}⋅{k_{on}__p} + (rₘ⋅{\\lan\n",
       "──────────────────────────────────────────────────────────────────────────────\n",
       "_{off}__p}⋅{k_{on}__p}⋅(2⋅γₘ + {k_{off}__r}) + {k_{off}__r}⋅{k_{on}__r}⋅(2⋅γₘ \n",
       "\n",
       "gle m_{P_{reg}}__0\\rangle} + {\\langle m_{P_{reg}}__1\\rangle}⋅(γₘ + 2⋅rₘ))⋅({k_\n",
       "──────────────────────────────────────────────────────────────────────────────\n",
       "+ {k_{off}__p}) - (2⋅γₘ + {k_{off}__p})⋅(2⋅γₘ + {k_{off}__r})⋅(2⋅γₘ + {k_{on}_\n",
       "\n",
       "{off}__r}⋅{k_{on}__r} - (2⋅γₘ + {k_{off}__r})⋅(2⋅γₘ + {k_{on}__p} + {k_{on}__r\n",
       "──────────────────────────────────────────────────────────────────────────────\n",
       "_p} + {k_{on}__r})                                                            \n",
       "\n",
       "}))                                   -γₘ⋅{\\langle m_{E_{reg}}__1\\rangle}⋅{k_{\n",
       "───, {\\langle m_{R_{reg}}__2\\rangle}: ────────────────────────────────────────\n",
       "                                                                              \n",
       "\n",
       "on}__r}⋅(2⋅γₘ + {k_{off}__p}) + γₘ⋅{\\langle m_{R_{reg}}__1\\rangle}⋅({k_{off}__\n",
       "──────────────────────────────────────────────────────────────────────────────\n",
       "                       {k_{off}__p}⋅{k_{on}__p}⋅(2⋅γₘ + {k_{off}__r}) + {k_{of\n",
       "\n",
       "p}⋅{k_{on}__p} - (2⋅γₘ + {k_{off}__p})⋅(2⋅γₘ + {k_{on}__p} + {k_{on}__r})) - {\n",
       "──────────────────────────────────────────────────────────────────────────────\n",
       "f}__r}⋅{k_{on}__r}⋅(2⋅γₘ + {k_{off}__p}) - (2⋅γₘ + {k_{off}__p})⋅(2⋅γₘ + {k_{o\n",
       "\n",
       "k_{off}__p}⋅{k_{on}__r}⋅(rₘ⋅{\\langle m_{P_{reg}}__0\\rangle} + {\\langle m_{P_{r\n",
       "──────────────────────────────────────────────────────────────────────────────\n",
       "ff}__r})⋅(2⋅γₘ + {k_{on}__p} + {k_{on}__r})                                   \n",
       "\n",
       "eg}}__1\\rangle}⋅(γₘ + 2⋅rₘ))⎫⎞\n",
       "────────────────────────────⎬⎟\n",
       "                            ⎭⎠"
      ]
     },
     "execution_count": 162,
     "metadata": {},
     "output_type": "execute_result"
    }
   ],
   "source": [
    "with open(tmpdir + 'three_state_mRNA_solutions.pkl', 'rb') as file:\n",
    "    first_sol_reg_m = pickle.load(file)\n",
    "    second_sol_reg_m = pickle.load(file)\n",
    "\n",
    "first_sol_reg_m, second_sol_reg_m"
   ]
  },
  {
   "cell_type": "code",
   "execution_count": 163,
   "metadata": {},
   "outputs": [
    {
     "data": {
      "image/png": "[encoded data removed]",
      "text/latex": [
       "$$\\left ( \\left[\\begin{matrix}- {k_{off}^p} & {k_{on}^p} & 0\\\\{k_{off}^p} & - {k_{on}^p} - {k_{on}^r} & {k_{off}^r}\\\\0 & {k_{on}^r} & - {k_{off}^r}\\end{matrix}\\right], \\quad \\left[\\begin{matrix}r_{m} & 0 & 0\\\\0 & 0 & 0\\\\0 & 0 & 0\\end{matrix}\\right], \\quad \\left[\\begin{matrix}\\gamma_{m} & 0 & 0\\\\0 & \\gamma_{m} & 0\\\\0 & 0 & \\gamma_{m}\\end{matrix}\\right], \\quad \\left[\\begin{matrix}r_{p} & 0 & 0\\\\0 & r_{p} & 0\\\\0 & 0 & r_{p}\\end{matrix}\\right], \\quad \\left[\\begin{matrix}\\gamma_{p} & 0 & 0\\\\0 & \\gamma_{p} & 0\\\\0 & 0 & \\gamma_{p}\\end{matrix}\\right]\\right )$$"
      ],
      "text/plain": [
       "⎛⎡-{k_{off}__p}         {k_{on}__p}                0      ⎤  ⎡rₘ  0  0⎤  ⎡γₘ  \n",
       "⎜⎢                                                        ⎥  ⎢        ⎥  ⎢    \n",
       "⎜⎢{k_{off}__p}   -{k_{on}__p} - {k_{on}__r}  {k_{off}__r} ⎥, ⎢0   0  0⎥, ⎢0   \n",
       "⎜⎢                                                        ⎥  ⎢        ⎥  ⎢    \n",
       "⎝⎣      0               {k_{on}__r}          -{k_{off}__r}⎦  ⎣0   0  0⎦  ⎣0   \n",
       "\n",
       "0   0 ⎤  ⎡rₚ  0   0 ⎤  ⎡γₚ  0   0 ⎤⎞\n",
       "      ⎥  ⎢          ⎥  ⎢          ⎥⎟\n",
       "γₘ  0 ⎥, ⎢0   rₚ  0 ⎥, ⎢0   γₚ  0 ⎥⎟\n",
       "      ⎥  ⎢          ⎥  ⎢          ⎥⎟\n",
       "0   γₘ⎦  ⎣0   0   rₚ⎦  ⎣0   0   γₚ⎦⎠"
      ]
     },
     "execution_count": 163,
     "metadata": {},
     "output_type": "execute_result"
    }
   ],
   "source": [
    "# Define the rate constant matrix\n",
    "Km_reg = sympy.Matrix([[-kp_off, kp_on, 0], \n",
    "                         [kp_off, -(kp_on + kr_on), kr_off],\n",
    "                         [0, kr_on, -kr_off]])\n",
    "# Define the production matrix\n",
    "Rm_reg = sympy.Matrix([[rm, 0, 0],\n",
    "                       [0, 0, 0],\n",
    "                       [0, 0, 0]])\n",
    "# Define the degradation matrix\n",
    "Gm_reg = sympy.Matrix([[gm, 0, 0],\n",
    "                       [0, gm, 0],\n",
    "                       [0, 0, gm]])\n",
    "\n",
    "# Define the production matrix\n",
    "Rp_reg = sympy.Matrix([[rp, 0, 0],\n",
    "                       [0, rp, 0],\n",
    "                       [0, 0, rp]])\n",
    "\n",
    "# Define the production matrix\n",
    "Gp_reg = sympy.Matrix([[gp, 0, 0],\n",
    "                       [0, gp, 0],\n",
    "                       [0, 0, gp]])\n",
    "\n",
    "\n",
    "Km_reg, Rm_reg, Gm_reg, Rp_reg, Gp_reg"
   ]
  },
  {
   "cell_type": "markdown",
   "metadata": {},
   "source": [
    "### Zeroth moment three-state promoter\n",
    "To solve the zeroth moment for the three-state promoter we use the same set of equations as for the two-state promoter, this is\n",
    "$$\n",
    "1 = \\mathbf{u} \\cdot \\left\\langle \\mathbf{m}^0 \\right\\rangle,\n",
    "$$\n",
    "where this time $u = (1, 1, 1)$ and $\\left\\langle \\mathbf{m}^0 \\right\\rangle$ is the vector containing all *three* states. We use as well\n",
    "$$\n",
    "\\mathbf{0} = \\mathbf{K}^r \\left\\langle \\mathbf{m}^0 \\right\\rangle.\n",
    "$$\n",
    "\n",
    "We will again use the linear algebra solver where we write an extended matrix with the last column being the right hand side of these equations.\n",
    "\n",
    "Let's now define this extended matrix."
   ]
  },
  {
   "cell_type": "code",
   "execution_count": 164,
   "metadata": {},
   "outputs": [
    {
     "data": {
      "image/png": "[encoded data removed]",
      "text/latex": [
       "$$\\left[\\begin{matrix}1 & 1 & 1 & 1\\\\- {k_{off}^p} & {k_{on}^p} & 0 & 0\\\\{k_{off}^p} & - {k_{on}^p} - {k_{on}^r} & {k_{off}^r} & 0\\\\0 & {k_{on}^r} & - {k_{off}^r} & 0\\end{matrix}\\right]$$"
      ],
      "text/plain": [
       "⎡      1                    1                     1        1⎤\n",
       "⎢                                                           ⎥\n",
       "⎢-{k_{off}__p}         {k_{on}__p}                0        0⎥\n",
       "⎢                                                           ⎥\n",
       "⎢{k_{off}__p}   -{k_{on}__p} - {k_{on}__r}  {k_{off}__r}   0⎥\n",
       "⎢                                                           ⎥\n",
       "⎣      0               {k_{on}__r}          -{k_{off}__r}  0⎦"
      ]
     },
     "execution_count": 164,
     "metadata": {},
     "output_type": "execute_result"
    }
   ],
   "source": [
    "# Add the extra row for the normalization constraint\n",
    "K_sys_reg = Km_reg.row_insert(0, sympy.Matrix([1, 1, 1]).transpose())\n",
    "\n",
    "# Define right-side array\n",
    "b = sympy.Matrix([1, 0, 0, 0])\n",
    "\n",
    "# Define augmented matrix\n",
    "zero_aug_reg = K_sys_reg.col_insert(3, b)\n",
    "zero_aug_reg"
   ]
  },
  {
   "cell_type": "markdown",
   "metadata": {},
   "source": [
    "Let's solve the system for our three zeroth moments."
   ]
  },
  {
   "cell_type": "code",
   "execution_count": 165,
   "metadata": {},
   "outputs": [
    {
     "data": {
      "image/png": "[encoded data removed]",
      "text/latex": [
       "$$\\left \\{ {\\langle m_{E_{reg}}^0\\rangle} : \\frac{{k_{off}^p} {k_{off}^r}}{{k_{off}^p} {k_{off}^r} + {k_{off}^p} {k_{on}^r} + {k_{off}^r} {k_{on}^p}}, \\quad {\\langle m_{P_{reg}}^0\\rangle} : \\frac{{k_{off}^r} {k_{on}^p}}{{k_{off}^p} {k_{off}^r} + {k_{off}^p} {k_{on}^r} + {k_{off}^r} {k_{on}^p}}, \\quad {\\langle m_{R_{reg}}^0\\rangle} : \\frac{{k_{off}^p} {k_{on}^r}}{{k_{off}^p} {k_{off}^r} + {k_{off}^p} {k_{on}^r} + {k_{off}^r} {k_{on}^p}}\\right \\}$$"
      ],
      "text/plain": [
       "⎧                                                            {k_{off}__p}⋅{k_{\n",
       "⎨{\\langle m_{E_{reg}}__0\\rangle}: ────────────────────────────────────────────\n",
       "⎩                                 {k_{off}__p}⋅{k_{off}__r} + {k_{off}__p}⋅{k_\n",
       "\n",
       "off}__r}                                                                      \n",
       "───────────────────────────────────, {\\langle m_{P_{reg}}__0\\rangle}: ────────\n",
       "{on}__r} + {k_{off}__r}⋅{k_{on}__p}                                   {k_{off}\n",
       "\n",
       "                    {k_{off}__r}⋅{k_{on}__p}                                  \n",
       "───────────────────────────────────────────────────────────────────────, {\\lan\n",
       "__p}⋅{k_{off}__r} + {k_{off}__p}⋅{k_{on}__r} + {k_{off}__r}⋅{k_{on}__p}       \n",
       "\n",
       "                                                        {k_{off}__p}⋅{k_{on}__\n",
       "gle m_{R_{reg}}__0\\rangle}: ──────────────────────────────────────────────────\n",
       "                            {k_{off}__p}⋅{k_{off}__r} + {k_{off}__p}⋅{k_{on}__\n",
       "\n",
       "r}                           ⎫\n",
       "─────────────────────────────⎬\n",
       "r} + {k_{off}__r}⋅{k_{on}__p}⎭"
      ]
     },
     "execution_count": 165,
     "metadata": {},
     "output_type": "execute_result"
    }
   ],
   "source": [
    "# Solve linear system for the three zeroth moments\n",
    "zero_sol_reg = sympy.solve_linear_system(zero_aug_reg, *m0_reg)\n",
    "zero_sol_reg"
   ]
  },
  {
   "cell_type": "markdown",
   "metadata": {},
   "source": [
    "Let's quickly confirm that these moments add up to one since each represents the probability of being on each of the promoter states."
   ]
  },
  {
   "cell_type": "code",
   "execution_count": 166,
   "metadata": {},
   "outputs": [
    {
     "data": {
      "image/png": "[encoded data removed]",
      "text/latex": [
       "$$1$$"
      ],
      "text/plain": [
       "1"
      ]
     },
     "execution_count": 166,
     "metadata": {},
     "output_type": "execute_result"
    }
   ],
   "source": [
    "sum(zero_sol_reg.values()).simplify()"
   ]
  },
  {
   "cell_type": "markdown",
   "metadata": {},
   "source": [
    "### First moment two-state promoter (protein)\n",
    "\n",
    "Now that we have the zeroth moment that indicates the probability of being on either state let's now compute the first moment. For this we have the matrix equation\n",
    "$$\n",
    "\\mathbf{0} = \\left( \\mathbf{K}^r - \\mathbf{\\Gamma}^r_p  \\right)\n",
    "             + \\mathbf{R}^r_p \\left\\langle \\mathbf{m} \\right\\rangle.\n",
    "$$\n",
    "\n",
    "Let's write this system in the form of the augmented matrix."
   ]
  },
  {
   "cell_type": "code",
   "execution_count": 167,
   "metadata": {},
   "outputs": [
    {
     "data": {
      "image/png": "[encoded data removed]",
      "text/latex": [
       "$$\\left[\\begin{matrix}- \\gamma_{p} - {k_{off}^p} & {k_{on}^p} & 0 & - r_{p} {\\langle m_{P_{reg}}^1\\rangle}\\\\{k_{off}^p} & - \\gamma_{p} - {k_{on}^p} - {k_{on}^r} & {k_{off}^r} & - r_{p} {\\langle m_{E_{reg}}^1\\rangle}\\\\0 & {k_{on}^r} & - \\gamma_{p} - {k_{off}^r} & - r_{p} {\\langle m_{R_{reg}}^1\\rangle}\\end{matrix}\\right]$$"
      ],
      "text/plain": [
       "⎡-γₚ - {k_{off}__p}            {k_{on}__p}                    0           -rₚ⋅\n",
       "⎢                                                                             \n",
       "⎢   {k_{off}__p}     -γₚ - {k_{on}__p} - {k_{on}__r}     {k_{off}__r}     -rₚ⋅\n",
       "⎢                                                                             \n",
       "⎣        0                     {k_{on}__r}            -γₚ - {k_{off}__r}  -rₚ⋅\n",
       "\n",
       "{\\langle m_{P_{reg}}__1\\rangle}⎤\n",
       "                               ⎥\n",
       "{\\langle m_{E_{reg}}__1\\rangle}⎥\n",
       "                               ⎥\n",
       "{\\langle m_{R_{reg}}__1\\rangle}⎦"
      ]
     },
     "execution_count": 167,
     "metadata": {},
     "output_type": "execute_result"
    }
   ],
   "source": [
    "# Define augmented matrix for first moment\n",
    "first_aug_reg = (Km_reg - Gp_reg).col_insert(3, \n",
    "                -Rp_reg * sympy.Matrix(m1_reg))\n",
    "first_aug_reg"
   ]
  },
  {
   "cell_type": "markdown",
   "metadata": {},
   "source": [
    "Now let's solve the system."
   ]
  },
  {
   "cell_type": "code",
   "execution_count": 168,
   "metadata": {},
   "outputs": [
    {
     "data": {
      "image/png": "[encoded data removed]",
      "text/latex": [
       "$$\\left \\{ {\\langle p_{E_{reg}}^1\\rangle} : - \\frac{r_{p} \\left({\\langle m_{E_{reg}}^1\\rangle} \\left(\\gamma_{p} + {k_{off}^p}\\right) \\left(\\gamma_{p} + {k_{off}^r}\\right) + {\\langle m_{P_{reg}}^1\\rangle} {k_{off}^p} \\left(\\gamma_{p} + {k_{off}^r}\\right) + {\\langle m_{R_{reg}}^1\\rangle} {k_{off}^r} \\left(\\gamma_{p} + {k_{off}^p}\\right)\\right)}{{k_{off}^p} {k_{on}^p} \\left(\\gamma_{p} + {k_{off}^r}\\right) + {k_{off}^r} {k_{on}^r} \\left(\\gamma_{p} + {k_{off}^p}\\right) - \\left(\\gamma_{p} + {k_{off}^p}\\right) \\left(\\gamma_{p} + {k_{off}^r}\\right) \\left(\\gamma_{p} + {k_{on}^p} + {k_{on}^r}\\right)}, \\quad {\\langle p_{P_{reg}}^1\\rangle} : \\frac{r_{p} \\left(- {\\langle m_{E_{reg}}^1\\rangle} {k_{on}^p} \\left(\\gamma_{p} + {k_{off}^r}\\right) + {\\langle m_{P_{reg}}^1\\rangle} \\left({k_{off}^r} {k_{on}^r} - \\left(\\gamma_{p} + {k_{off}^r}\\right) \\left(\\gamma_{p} + {k_{on}^p} + {k_{on}^r}\\right)\\right) - {\\langle m_{R_{reg}}^1\\rangle} {k_{off}^r} {k_{on}^p}\\right)}{{k_{off}^p} {k_{on}^p} \\left(\\gamma_{p} + {k_{off}^r}\\right) + {k_{off}^r} {k_{on}^r} \\left(\\gamma_{p} + {k_{off}^p}\\right) - \\left(\\gamma_{p} + {k_{off}^p}\\right) \\left(\\gamma_{p} + {k_{off}^r}\\right) \\left(\\gamma_{p} + {k_{on}^p} + {k_{on}^r}\\right)}, \\quad {\\langle p_{R_{reg}}^1\\rangle} : \\frac{r_{p} \\left(- {\\langle m_{E_{reg}}^1\\rangle} {k_{on}^r} \\left(\\gamma_{p} + {k_{off}^p}\\right) - {\\langle m_{P_{reg}}^1\\rangle} {k_{off}^p} {k_{on}^r} + {\\langle m_{R_{reg}}^1\\rangle} \\left({k_{off}^p} {k_{on}^p} - \\left(\\gamma_{p} + {k_{off}^p}\\right) \\left(\\gamma_{p} + {k_{on}^p} + {k_{on}^r}\\right)\\right)\\right)}{{k_{off}^p} {k_{on}^p} \\left(\\gamma_{p} + {k_{off}^r}\\right) + {k_{off}^r} {k_{on}^r} \\left(\\gamma_{p} + {k_{off}^p}\\right) - \\left(\\gamma_{p} + {k_{off}^p}\\right) \\left(\\gamma_{p} + {k_{off}^r}\\right) \\left(\\gamma_{p} + {k_{on}^p} + {k_{on}^r}\\right)}\\right \\}$$"
      ],
      "text/plain": [
       "⎧                                 -rₚ⋅({\\langle m_{E_{reg}}__1\\rangle}⋅(γₚ + {\n",
       "⎨{\\langle p_{E_{reg}}__1\\rangle}: ────────────────────────────────────────────\n",
       "⎩                                                        {k_{off}__p}⋅{k_{on}_\n",
       "\n",
       "k_{off}__p})⋅(γₚ + {k_{off}__r}) + {\\langle m_{P_{reg}}__1\\rangle}⋅{k_{off}__p\n",
       "──────────────────────────────────────────────────────────────────────────────\n",
       "_p}⋅(γₚ + {k_{off}__r}) + {k_{off}__r}⋅{k_{on}__r}⋅(γₚ + {k_{off}__p}) - (γₚ +\n",
       "\n",
       "}⋅(γₚ + {k_{off}__r}) + {\\langle m_{R_{reg}}__1\\rangle}⋅{k_{off}__r}⋅(γₚ + {k_\n",
       "──────────────────────────────────────────────────────────────────────────────\n",
       " {k_{off}__p})⋅(γₚ + {k_{off}__r})⋅(γₚ + {k_{on}__p} + {k_{on}__r})           \n",
       "\n",
       "{off}__p}))                                    rₚ⋅(-{\\langle m_{E_{reg}}__1\\ra\n",
       "────────────, {\\langle p_{P_{reg}}__1\\rangle}: ───────────────────────────────\n",
       "                                                                              \n",
       "\n",
       "ngle}⋅{k_{on}__p}⋅(γₚ + {k_{off}__r}) + {\\langle m_{P_{reg}}__1\\rangle}⋅({k_{o\n",
       "──────────────────────────────────────────────────────────────────────────────\n",
       "        {k_{off}__p}⋅{k_{on}__p}⋅(γₚ + {k_{off}__r}) + {k_{off}__r}⋅{k_{on}__r\n",
       "\n",
       "ff}__r}⋅{k_{on}__r} - (γₚ + {k_{off}__r})⋅(γₚ + {k_{on}__p} + {k_{on}__r})) - \n",
       "──────────────────────────────────────────────────────────────────────────────\n",
       "}⋅(γₚ + {k_{off}__p}) - (γₚ + {k_{off}__p})⋅(γₚ + {k_{off}__r})⋅(γₚ + {k_{on}_\n",
       "\n",
       "{\\langle m_{R_{reg}}__1\\rangle}⋅{k_{off}__r}⋅{k_{on}__p})                     \n",
       "─────────────────────────────────────────────────────────, {\\langle p_{R_{reg}\n",
       "_p} + {k_{on}__r})                                                            \n",
       "\n",
       "              rₚ⋅(-{\\langle m_{E_{reg}}__1\\rangle}⋅{k_{on}__r}⋅(γₚ + {k_{off}_\n",
       "}__1\\rangle}: ────────────────────────────────────────────────────────────────\n",
       "                                                     {k_{off}__p}⋅{k_{on}__p}⋅\n",
       "\n",
       "_p}) - {\\langle m_{P_{reg}}__1\\rangle}⋅{k_{off}__p}⋅{k_{on}__r} + {\\langle m_{\n",
       "──────────────────────────────────────────────────────────────────────────────\n",
       "(γₚ + {k_{off}__r}) + {k_{off}__r}⋅{k_{on}__r}⋅(γₚ + {k_{off}__p}) - (γₚ + {k_\n",
       "\n",
       "R_{reg}}__1\\rangle}⋅({k_{off}__p}⋅{k_{on}__p} - (γₚ + {k_{off}__p})⋅(γₚ + {k_{\n",
       "──────────────────────────────────────────────────────────────────────────────\n",
       "{off}__p})⋅(γₚ + {k_{off}__r})⋅(γₚ + {k_{on}__p} + {k_{on}__r})               \n",
       "\n",
       "on}__p} + {k_{on}__r})))⎫\n",
       "────────────────────────⎬\n",
       "                        ⎭"
      ]
     },
     "execution_count": 168,
     "metadata": {},
     "output_type": "execute_result"
    }
   ],
   "source": [
    "# Solve linear system for the first protein moments\n",
    "first_sol_reg_p = sympy.solve_linear_system(first_aug_reg, *p1_reg)\n",
    "first_sol_reg_p"
   ]
  },
  {
   "cell_type": "markdown",
   "metadata": {},
   "source": [
    "Let's sum the elements of this solution to compute the global moment."
   ]
  },
  {
   "cell_type": "code",
   "execution_count": 169,
   "metadata": {},
   "outputs": [
    {
     "data": {
      "image/png": "[encoded data removed]",
      "text/latex": [
       "$$\\left ( \\frac{r_{p}}{\\gamma_{p}} \\left({\\langle m_{E_{reg}}^1\\rangle} + {\\langle m_{P_{reg}}^1\\rangle} + {\\langle m_{R_{reg}}^1\\rangle}\\right), \\quad \\frac{r_{m} r_{p} {k_{off}^r} {k_{on}^p}}{\\gamma_{m} \\gamma_{p} \\left({k_{off}^p} {k_{off}^r} + {k_{off}^p} {k_{on}^r} + {k_{off}^r} {k_{on}^p}\\right)}\\right )$$"
      ],
      "text/plain": [
       "⎛rₚ⋅({\\langle m_{E_{reg}}__1\\rangle} + {\\langle m_{P_{reg}}__1\\rangle} + {\\lan\n",
       "⎜─────────────────────────────────────────────────────────────────────────────\n",
       "⎝                                                   γₚ                        \n",
       "\n",
       "gle m_{R_{reg}}__1\\rangle})                               rₘ⋅rₚ⋅{k_{off}__r}⋅{\n",
       "───────────────────────────, ─────────────────────────────────────────────────\n",
       "                             γₘ⋅γₚ⋅({k_{off}__p}⋅{k_{off}__r} + {k_{off}__p}⋅{\n",
       "\n",
       "k_{on}__p}                            ⎞\n",
       "──────────────────────────────────────⎟\n",
       "k_{on}__r} + {k_{off}__r}⋅{k_{on}__p})⎠"
      ]
     },
     "execution_count": 169,
     "metadata": {},
     "output_type": "execute_result"
    }
   ],
   "source": [
    "# Sum the results for the first moments\n",
    "first_reg_p = sum(first_sol_reg_p.values()).simplify()\n",
    "# Substitute the solutions for the mRNA first and zeroth moment\n",
    "first_reg_p_s = first_reg_p.subs(first_sol_reg_m).\\\n",
    "                            subs(zero_sol_reg).simplify()\n",
    "# Display solution in terms of the mRNA global first moment\n",
    "first_reg_p,\\\n",
    "first_reg_p_s # Disiplay substituted solution."
   ]
  },
  {
   "cell_type": "markdown",
   "metadata": {},
   "source": [
    "#### fold-change.\n",
    "\n",
    "A very relevant quantity to compute is the fold-change in gene expression. Since this quantity must be consistent between the thermodynamic framework and the master equation framework this quantity will constraint the value of the parameters that we obtain at the end of the day."
   ]
  },
  {
   "cell_type": "code",
   "execution_count": 170,
   "metadata": {},
   "outputs": [
    {
     "data": {
      "image/png": "[encoded data removed]",
      "text/latex": [
       "$$\\frac{{k_{off}^r} \\left({k_{off}^p} + {k_{on}^p}\\right)}{{k_{off}^p} {k_{on}^r} + {k_{off}^r} \\left({k_{off}^p} + {k_{on}^p}\\right)}$$"
      ],
      "text/plain": [
       "             {k_{off}__r}⋅({k_{off}__p} + {k_{on}__p})              \n",
       "────────────────────────────────────────────────────────────────────\n",
       "{k_{off}__p}⋅{k_{on}__r} + {k_{off}__r}⋅({k_{off}__p} + {k_{on}__p})"
      ]
     },
     "execution_count": 170,
     "metadata": {},
     "output_type": "execute_result"
    }
   ],
   "source": [
    "# Compute fold-change\n",
    "fold_change = first_reg_p_s / first_unreg_p_s\n",
    "fold_change.factor(kr_off)"
   ]
  },
  {
   "cell_type": "markdown",
   "metadata": {},
   "source": [
    "This is as expected the same expression that we obtained at the mRNA level."
   ]
  },
  {
   "cell_type": "markdown",
   "metadata": {},
   "source": [
    "### mRNA-protein correlation three-state promoter\n",
    "\n",
    "The computation of the second moment $\\left\\langle \\mathbf{p}^2 \\right\\rangle$ depends on the correlation $\\left\\langle \\mathbf{mp} \\right\\rangle$. To compute this correlation we have the equation\n",
    "$$\n",
    "\\mathbf{0} = \\left( \\mathbf{K}^r - \\mathbf{\\Gamma}^r_m -  \\mathbf{\\Gamma}^r_p  \\right)\n",
    "             \\left\\langle \\mathbf{mp} \\right\\rangle \n",
    "             + \\mathbf{R}^r_m \\left\\langle \\mathbf{p} \\right\\rangle\n",
    "             + \\mathbf{R}^r_p \\left\\langle \\mathbf{m}^2 \\right\\rangle\n",
    "$$\n",
    "Let's define this augmented matrix."
   ]
  },
  {
   "cell_type": "code",
   "execution_count": 172,
   "metadata": {},
   "outputs": [
    {
     "data": {
      "image/png": "[encoded data removed]",
      "text/latex": [
       "$$\\left [ {\\langle mp_{P_{reg}}\\rangle}, \\quad {\\langle mp_{E_{reg}}\\rangle}, \\quad {\\langle mp_{R_{reg}}\\rangle}\\right ]$$"
      ],
      "text/plain": [
       "[{\\langle mp_{P_{reg}}\\rangle}, {\\langle mp_{E_{reg}}\\rangle}, {\\langle mp_{R_\n",
       "{reg}}\\rangle}]"
      ]
     },
     "execution_count": 172,
     "metadata": {},
     "output_type": "execute_result"
    }
   ],
   "source": [
    "# Define the string for the states\n",
    "corr_reg = ['mp_{P_{reg}}', 'mp_{E_{reg}}', 'mp_{R_{reg}}']\n",
    "\n",
    "# Define the zeroth moments\n",
    "mp_reg = [moment_sympy(x, None) for x in corr_reg]\n",
    "mp_reg"
   ]
  },
  {
   "cell_type": "code",
   "execution_count": 173,
   "metadata": {},
   "outputs": [
    {
     "data": {
      "image/png": "[encoded data removed]",
      "text/latex": [
       "$$\\left[\\begin{matrix}- \\gamma_{m} - \\gamma_{p} - {k_{off}^p} & {k_{on}^p} & 0 & - r_{m} {\\langle p_{P_{reg}}^1\\rangle} - r_{p} {\\langle m_{P_{reg}}^2\\rangle}\\\\{k_{off}^p} & - \\gamma_{m} - \\gamma_{p} - {k_{on}^p} - {k_{on}^r} & {k_{off}^r} & - r_{p} {\\langle m_{E_{reg}}^2\\rangle}\\\\0 & {k_{on}^r} & - \\gamma_{m} - \\gamma_{p} - {k_{off}^r} & - r_{p} {\\langle m_{R_{reg}}^2\\rangle}\\end{matrix}\\right]$$"
      ],
      "text/plain": [
       "⎡-γₘ - γₚ - {k_{off}__p}              {k_{on}__p}                          0  \n",
       "⎢                                                                             \n",
       "⎢     {k_{off}__p}        -γₘ - γₚ - {k_{on}__p} - {k_{on}__r}       {k_{off}_\n",
       "⎢                                                                             \n",
       "⎣           0                         {k_{on}__r}               -γₘ - γₚ - {k_\n",
       "\n",
       "           -rₘ⋅{\\langle p_{P_{reg}}__1\\rangle} - rₚ⋅{\\langle m_{P_{reg}}__2\\ra\n",
       "                                                                              \n",
       "_r}                          -rₚ⋅{\\langle m_{E_{reg}}__2\\rangle}              \n",
       "                                                                              \n",
       "{off}__r}                    -rₚ⋅{\\langle m_{R_{reg}}__2\\rangle}              \n",
       "\n",
       "ngle}⎤\n",
       "     ⎥\n",
       "     ⎥\n",
       "     ⎥\n",
       "     ⎦"
      ]
     },
     "execution_count": 173,
     "metadata": {},
     "output_type": "execute_result"
    }
   ],
   "source": [
    "# define augmented matrix for correlation\n",
    "corr_aug_reg = (Km_reg - Gm_reg - Gp_reg).col_insert(3,\n",
    "                - Rm_reg * sympy.Matrix(p1_reg)\\\n",
    "                - Rp_reg * sympy.Matrix(m2_reg))\n",
    "corr_aug_reg"
   ]
  },
  {
   "cell_type": "code",
   "execution_count": 174,
   "metadata": {},
   "outputs": [
    {
     "data": {
      "image/png": "[encoded data removed]",
      "text/latex": [
       "$$\\left \\{ {\\langle mp_{E_{reg}}\\rangle} : - \\frac{r_{p} {\\langle m_{E_{reg}}^2\\rangle} \\left(\\gamma_{m} + \\gamma_{p} + {k_{off}^p}\\right) \\left(\\gamma_{m} + \\gamma_{p} + {k_{off}^r}\\right) + r_{p} {\\langle m_{R_{reg}}^2\\rangle} {k_{off}^r} \\left(\\gamma_{m} + \\gamma_{p} + {k_{off}^p}\\right) + {k_{off}^p} \\left(r_{m} {\\langle p_{P_{reg}}^1\\rangle} + r_{p} {\\langle m_{P_{reg}}^2\\rangle}\\right) \\left(\\gamma_{m} + \\gamma_{p} + {k_{off}^r}\\right)}{{k_{off}^p} {k_{on}^p} \\left(\\gamma_{m} + \\gamma_{p} + {k_{off}^r}\\right) + {k_{off}^r} {k_{on}^r} \\left(\\gamma_{m} + \\gamma_{p} + {k_{off}^p}\\right) - \\left(\\gamma_{m} + \\gamma_{p} + {k_{off}^p}\\right) \\left(\\gamma_{m} + \\gamma_{p} + {k_{off}^r}\\right) \\left(\\gamma_{m} + \\gamma_{p} + {k_{on}^p} + {k_{on}^r}\\right)}, \\quad {\\langle mp_{P_{reg}}\\rangle} : \\frac{- r_{p} {\\langle m_{E_{reg}}^2\\rangle} {k_{on}^p} \\left(\\gamma_{m} + \\gamma_{p} + {k_{off}^r}\\right) - r_{p} {\\langle m_{R_{reg}}^2\\rangle} {k_{off}^r} {k_{on}^p} + \\left(r_{m} {\\langle p_{P_{reg}}^1\\rangle} + r_{p} {\\langle m_{P_{reg}}^2\\rangle}\\right) \\left({k_{off}^r} {k_{on}^r} - \\left(\\gamma_{m} + \\gamma_{p} + {k_{off}^r}\\right) \\left(\\gamma_{m} + \\gamma_{p} + {k_{on}^p} + {k_{on}^r}\\right)\\right)}{{k_{off}^p} {k_{on}^p} \\left(\\gamma_{m} + \\gamma_{p} + {k_{off}^r}\\right) + {k_{off}^r} {k_{on}^r} \\left(\\gamma_{m} + \\gamma_{p} + {k_{off}^p}\\right) - \\left(\\gamma_{m} + \\gamma_{p} + {k_{off}^p}\\right) \\left(\\gamma_{m} + \\gamma_{p} + {k_{off}^r}\\right) \\left(\\gamma_{m} + \\gamma_{p} + {k_{on}^p} + {k_{on}^r}\\right)}, \\quad {\\langle mp_{R_{reg}}\\rangle} : \\frac{- r_{p} {\\langle m_{E_{reg}}^2\\rangle} {k_{on}^r} \\left(\\gamma_{m} + \\gamma_{p} + {k_{off}^p}\\right) + r_{p} {\\langle m_{R_{reg}}^2\\rangle} \\left({k_{off}^p} {k_{on}^p} - \\left(\\gamma_{m} + \\gamma_{p} + {k_{off}^p}\\right) \\left(\\gamma_{m} + \\gamma_{p} + {k_{on}^p} + {k_{on}^r}\\right)\\right) - {k_{off}^p} {k_{on}^r} \\left(r_{m} {\\langle p_{P_{reg}}^1\\rangle} + r_{p} {\\langle m_{P_{reg}}^2\\rangle}\\right)}{{k_{off}^p} {k_{on}^p} \\left(\\gamma_{m} + \\gamma_{p} + {k_{off}^r}\\right) + {k_{off}^r} {k_{on}^r} \\left(\\gamma_{m} + \\gamma_{p} + {k_{off}^p}\\right) - \\left(\\gamma_{m} + \\gamma_{p} + {k_{off}^p}\\right) \\left(\\gamma_{m} + \\gamma_{p} + {k_{off}^r}\\right) \\left(\\gamma_{m} + \\gamma_{p} + {k_{on}^p} + {k_{on}^r}\\right)}\\right \\}$$"
      ],
      "text/plain": [
       "⎧                               -(rₚ⋅{\\langle m_{E_{reg}}__2\\rangle}⋅(γₘ + γₚ \n",
       "⎨{\\langle mp_{E_{reg}}\\rangle}: ──────────────────────────────────────────────\n",
       "⎩                                                                          {k_\n",
       "\n",
       "+ {k_{off}__p})⋅(γₘ + γₚ + {k_{off}__r}) + rₚ⋅{\\langle m_{R_{reg}}__2\\rangle}⋅\n",
       "──────────────────────────────────────────────────────────────────────────────\n",
       "{off}__p}⋅{k_{on}__p}⋅(γₘ + γₚ + {k_{off}__r}) + {k_{off}__r}⋅{k_{on}__r}⋅(γₘ \n",
       "\n",
       "{k_{off}__r}⋅(γₘ + γₚ + {k_{off}__p}) + {k_{off}__p}⋅(rₘ⋅{\\langle p_{P_{reg}}_\n",
       "──────────────────────────────────────────────────────────────────────────────\n",
       "+ γₚ + {k_{off}__p}) - (γₘ + γₚ + {k_{off}__p})⋅(γₘ + γₚ + {k_{off}__r})⋅(γₘ +\n",
       "\n",
       "_1\\rangle} + rₚ⋅{\\langle m_{P_{reg}}__2\\rangle})⋅(γₘ + γₚ + {k_{off}__r}))    \n",
       "───────────────────────────────────────────────────────────────────────────, {\n",
       " γₚ + {k_{on}__p} + {k_{on}__r})                                              \n",
       "\n",
       "                              -rₚ⋅{\\langle m_{E_{reg}}__2\\rangle}⋅{k_{on}__p}⋅\n",
       "\\langle mp_{P_{reg}}\\rangle}: ────────────────────────────────────────────────\n",
       "                                                                              \n",
       "\n",
       "(γₘ + γₚ + {k_{off}__r}) - rₚ⋅{\\langle m_{R_{reg}}__2\\rangle}⋅{k_{off}__r}⋅{k_\n",
       "──────────────────────────────────────────────────────────────────────────────\n",
       "       {k_{off}__p}⋅{k_{on}__p}⋅(γₘ + γₚ + {k_{off}__r}) + {k_{off}__r}⋅{k_{on\n",
       "\n",
       "{on}__p} + (rₘ⋅{\\langle p_{P_{reg}}__1\\rangle} + rₚ⋅{\\langle m_{P_{reg}}__2\\ra\n",
       "──────────────────────────────────────────────────────────────────────────────\n",
       "}__r}⋅(γₘ + γₚ + {k_{off}__p}) - (γₘ + γₚ + {k_{off}__p})⋅(γₘ + γₚ + {k_{off}_\n",
       "\n",
       "ngle})⋅({k_{off}__r}⋅{k_{on}__r} - (γₘ + γₚ + {k_{off}__r})⋅(γₘ + γₚ + {k_{on}\n",
       "──────────────────────────────────────────────────────────────────────────────\n",
       "_r})⋅(γₘ + γₚ + {k_{on}__p} + {k_{on}__r})                                    \n",
       "\n",
       "__p} + {k_{on}__r}))                                 -rₚ⋅{\\langle m_{E_{reg}}_\n",
       "────────────────────, {\\langle mp_{R_{reg}}\\rangle}: ─────────────────────────\n",
       "                                                                              \n",
       "\n",
       "_2\\rangle}⋅{k_{on}__r}⋅(γₘ + γₚ + {k_{off}__p}) + rₚ⋅{\\langle m_{R_{reg}}__2\\r\n",
       "──────────────────────────────────────────────────────────────────────────────\n",
       "                              {k_{off}__p}⋅{k_{on}__p}⋅(γₘ + γₚ + {k_{off}__r}\n",
       "\n",
       "angle}⋅({k_{off}__p}⋅{k_{on}__p} - (γₘ + γₚ + {k_{off}__p})⋅(γₘ + γₚ + {k_{on}\n",
       "──────────────────────────────────────────────────────────────────────────────\n",
       ") + {k_{off}__r}⋅{k_{on}__r}⋅(γₘ + γₚ + {k_{off}__p}) - (γₘ + γₚ + {k_{off}__p\n",
       "\n",
       "__p} + {k_{on}__r})) - {k_{off}__p}⋅{k_{on}__r}⋅(rₘ⋅{\\langle p_{P_{reg}}__1\\ra\n",
       "──────────────────────────────────────────────────────────────────────────────\n",
       "})⋅(γₘ + γₚ + {k_{off}__r})⋅(γₘ + γₚ + {k_{on}__p} + {k_{on}__r})             \n",
       "\n",
       "ngle} + rₚ⋅{\\langle m_{P_{reg}}__2\\rangle})⎫\n",
       "───────────────────────────────────────────⎬\n",
       "                                           ⎭"
      ]
     },
     "execution_count": 174,
     "metadata": {},
     "output_type": "execute_result"
    }
   ],
   "source": [
    "# Solve linear system for the three moments\n",
    "corr_sol_reg = sympy.solve_linear_system(corr_aug_reg, *mp_reg)\n",
    "corr_sol_reg"
   ]
  },
  {
   "cell_type": "markdown",
   "metadata": {},
   "source": [
    "Now let's add each of these solutions to obtain the total correlation."
   ]
  },
  {
   "cell_type": "code",
   "execution_count": 175,
   "metadata": {},
   "outputs": [
    {
     "data": {
      "image/png": "[encoded data removed]",
      "text/latex": [
       "$$\\frac{1}{\\gamma_{m} + \\gamma_{p}} \\left(r_{m} {\\langle p_{P_{reg}}^1\\rangle} + r_{p} {\\langle m_{E_{reg}}^2\\rangle} + r_{p} {\\langle m_{P_{reg}}^2\\rangle} + r_{p} {\\langle m_{R_{reg}}^2\\rangle}\\right)$$"
      ],
      "text/plain": [
       "rₘ⋅{\\langle p_{P_{reg}}__1\\rangle} + rₚ⋅{\\langle m_{E_{reg}}__2\\rangle} + rₚ⋅{\n",
       "──────────────────────────────────────────────────────────────────────────────\n",
       "                                                                     γₘ + γₚ  \n",
       "\n",
       "\\langle m_{P_{reg}}__2\\rangle} + rₚ⋅{\\langle m_{R_{reg}}__2\\rangle}\n",
       "───────────────────────────────────────────────────────────────────\n",
       "                                                                   "
      ]
     },
     "execution_count": 175,
     "metadata": {},
     "output_type": "execute_result"
    }
   ],
   "source": [
    "# Sum the terms of the correlation\n",
    "corr_reg = sum(corr_sol_reg.values()).simplify()\n",
    "# Substitutte relevant solutions\n",
    "corr_reg_s = corr_reg.subs(first_sol_reg_p).subs(second_sol_reg_m).\\\n",
    "               subs(first_sol_reg_m).subs(zero_sol_reg)\n",
    "    \n",
    "# Display solution without substitutions\n",
    "corr_reg"
   ]
  },
  {
   "cell_type": "markdown",
   "metadata": {},
   "source": [
    "Let's now write this in terms of the global moments"
   ]
  },
  {
   "cell_type": "code",
   "execution_count": 176,
   "metadata": {},
   "outputs": [
    {
     "data": {
      "image/png": "[encoded data removed]",
      "text/latex": [
       "$${\\langle \\mathbf{mp}_r\\rangle} = \\frac{1}{\\gamma_{m} + \\gamma_{p}} \\left(r_{m} {\\langle p_{P_{reg}}^1\\rangle} + r_{p} {\\langle \\mathbf{m}_r^2\\rangle}\\right)$$"
      ],
      "text/plain": [
       "                                 rₘ⋅{\\langle p_{P_{reg}}__1\\rangle} + rₚ⋅{\\lan\n",
       "{\\langle \\mathbf{mp}_r\\rangle} = ─────────────────────────────────────────────\n",
       "                                                                 γₘ + γₚ      \n",
       "\n",
       "gle \\mathbf{m}_r__2\\rangle}\n",
       "───────────────────────────\n",
       "                           "
      ]
     },
     "execution_count": 176,
     "metadata": {},
     "output_type": "execute_result"
    }
   ],
   "source": [
    "# Display correlation as a functiono f the second mRNA moment\n",
    "corr_moments = corr_reg.collect(rp).subs(sum(m2_reg), mm2_reg)\n",
    "sympy.Eq(mmpp_reg, corr_moments)"
   ]
  },
  {
   "cell_type": "markdown",
   "metadata": {},
   "source": [
    "### Second moment three-state promoter\n",
    "\n",
    "For the second moment we have an equation of the form\n",
    "$$\n",
    "\\mathbf{0} = \\left( \\mathbf{K}^r - 2 \\mathbf{\\Gamma}^r_p \\right) \n",
    "             \\left\\langle \\mathbf{p}^2 \\right\\rangle\n",
    "             + \\mathbf{\\Gamma}^r_p \\left\\langle \\mathbf{p} \\right\\rangle\n",
    "             + \\mathbf{R}^r_p \\mm\n",
    "             + 2 \\mathbf{R}^r_p \\left\\langle \\mathbf{mp} \\right\\rangle\n",
    "$$\n",
    "\n",
    "Let's again define this augmented matrix."
   ]
  },
  {
   "cell_type": "code",
   "execution_count": 178,
   "metadata": {},
   "outputs": [
    {
     "data": {
      "image/png": "[encoded data removed]",
      "text/latex": [
       "$$\\left[\\begin{matrix}- 2 \\gamma_{p} - {k_{off}^p} & {k_{on}^p} & 0 & - \\gamma_{p} {\\langle p_{P_{reg}}^1\\rangle} - r_{p} {\\langle m_{P_{reg}}^1\\rangle} - 2 r_{p} {\\langle mp_{P_{reg}}\\rangle}\\\\{k_{off}^p} & - 2 \\gamma_{p} - {k_{on}^p} - {k_{on}^r} & {k_{off}^r} & - \\gamma_{p} {\\langle p_{E_{reg}}^1\\rangle} - r_{p} {\\langle m_{E_{reg}}^1\\rangle} - 2 r_{p} {\\langle mp_{E_{reg}}\\rangle}\\\\0 & {k_{on}^r} & - 2 \\gamma_{p} - {k_{off}^r} & - \\gamma_{p} {\\langle p_{R_{reg}}^1\\rangle} - r_{p} {\\langle m_{R_{reg}}^1\\rangle} - 2 r_{p} {\\langle mp_{R_{reg}}\\rangle}\\end{matrix}\\right]$$"
      ],
      "text/plain": [
       "⎡-2⋅γₚ - {k_{off}__p}             {k_{on}__p}                      0          \n",
       "⎢                                                                             \n",
       "⎢    {k_{off}__p}      -2⋅γₚ - {k_{on}__p} - {k_{on}__r}      {k_{off}__r}    \n",
       "⎢                                                                             \n",
       "⎣         0                       {k_{on}__r}             -2⋅γₚ - {k_{off}__r}\n",
       "\n",
       "  -γₚ⋅{\\langle p_{P_{reg}}__1\\rangle} - rₚ⋅{\\langle m_{P_{reg}}__1\\rangle} - 2\n",
       "                                                                              \n",
       "  -γₚ⋅{\\langle p_{E_{reg}}__1\\rangle} - rₚ⋅{\\langle m_{E_{reg}}__1\\rangle} - 2\n",
       "                                                                              \n",
       "  -γₚ⋅{\\langle p_{R_{reg}}__1\\rangle} - rₚ⋅{\\langle m_{R_{reg}}__1\\rangle} - 2\n",
       "\n",
       "⋅rₚ⋅{\\langle mp_{P_{reg}}\\rangle}⎤\n",
       "                                 ⎥\n",
       "⋅rₚ⋅{\\langle mp_{E_{reg}}\\rangle}⎥\n",
       "                                 ⎥\n",
       "⋅rₚ⋅{\\langle mp_{R_{reg}}\\rangle}⎦"
      ]
     },
     "execution_count": 178,
     "metadata": {},
     "output_type": "execute_result"
    }
   ],
   "source": [
    "# Define augmented matrix for second moment\n",
    "second_aug_reg = (Km_reg - 2 * Gp_reg).col_insert(3, \n",
    "                    - Gp_reg * sympy.Matrix(p1_reg)\\\n",
    "                    - Rp_reg * sympy.Matrix(m1_reg)\\\n",
    "                    - 2 * Rp_reg * sympy.Matrix(mp_reg))\n",
    "second_aug_reg"
   ]
  },
  {
   "cell_type": "markdown",
   "metadata": {},
   "source": [
    "Having defined the augmented matrix let's solve the linear system."
   ]
  },
  {
   "cell_type": "code",
   "execution_count": 179,
   "metadata": {},
   "outputs": [
    {
     "data": {
      "image/png": "[encoded data removed]",
      "text/latex": [
       "$$\\left \\{ {\\langle p_{E_{reg}}^2\\rangle} : - \\frac{{k_{off}^p} \\left(2 \\gamma_{p} + {k_{off}^r}\\right) \\left(\\gamma_{p} {\\langle p_{P_{reg}}^1\\rangle} + r_{p} {\\langle m_{P_{reg}}^1\\rangle} + 2 r_{p} {\\langle mp_{P_{reg}}\\rangle}\\right) + {k_{off}^r} \\left(2 \\gamma_{p} + {k_{off}^p}\\right) \\left(\\gamma_{p} {\\langle p_{R_{reg}}^1\\rangle} + r_{p} {\\langle m_{R_{reg}}^1\\rangle} + 2 r_{p} {\\langle mp_{R_{reg}}\\rangle}\\right) + \\left(2 \\gamma_{p} + {k_{off}^p}\\right) \\left(2 \\gamma_{p} + {k_{off}^r}\\right) \\left(\\gamma_{p} {\\langle p_{E_{reg}}^1\\rangle} + r_{p} {\\langle m_{E_{reg}}^1\\rangle} + 2 r_{p} {\\langle mp_{E_{reg}}\\rangle}\\right)}{{k_{off}^p} {k_{on}^p} \\left(2 \\gamma_{p} + {k_{off}^r}\\right) + {k_{off}^r} {k_{on}^r} \\left(2 \\gamma_{p} + {k_{off}^p}\\right) - \\left(2 \\gamma_{p} + {k_{off}^p}\\right) \\left(2 \\gamma_{p} + {k_{off}^r}\\right) \\left(2 \\gamma_{p} + {k_{on}^p} + {k_{on}^r}\\right)}, \\quad {\\langle p_{P_{reg}}^2\\rangle} : \\frac{1}{{k_{off}^p} {k_{on}^p} \\left(2 \\gamma_{p} + {k_{off}^r}\\right) + {k_{off}^r} {k_{on}^r} \\left(2 \\gamma_{p} + {k_{off}^p}\\right) - \\left(2 \\gamma_{p} + {k_{off}^p}\\right) \\left(2 \\gamma_{p} + {k_{off}^r}\\right) \\left(2 \\gamma_{p} + {k_{on}^p} + {k_{on}^r}\\right)} \\left(- {k_{off}^r} {k_{on}^p} \\left(\\gamma_{p} {\\langle p_{R_{reg}}^1\\rangle} + r_{p} {\\langle m_{R_{reg}}^1\\rangle} + 2 r_{p} {\\langle mp_{R_{reg}}\\rangle}\\right) - {k_{on}^p} \\left(2 \\gamma_{p} + {k_{off}^r}\\right) \\left(\\gamma_{p} {\\langle p_{E_{reg}}^1\\rangle} + r_{p} {\\langle m_{E_{reg}}^1\\rangle} + 2 r_{p} {\\langle mp_{E_{reg}}\\rangle}\\right) + \\left({k_{off}^r} {k_{on}^r} - \\left(2 \\gamma_{p} + {k_{off}^r}\\right) \\left(2 \\gamma_{p} + {k_{on}^p} + {k_{on}^r}\\right)\\right) \\left(\\gamma_{p} {\\langle p_{P_{reg}}^1\\rangle} + r_{p} {\\langle m_{P_{reg}}^1\\rangle} + 2 r_{p} {\\langle mp_{P_{reg}}\\rangle}\\right)\\right), \\quad {\\langle p_{R_{reg}}^2\\rangle} : \\frac{1}{{k_{off}^p} {k_{on}^p} \\left(2 \\gamma_{p} + {k_{off}^r}\\right) + {k_{off}^r} {k_{on}^r} \\left(2 \\gamma_{p} + {k_{off}^p}\\right) - \\left(2 \\gamma_{p} + {k_{off}^p}\\right) \\left(2 \\gamma_{p} + {k_{off}^r}\\right) \\left(2 \\gamma_{p} + {k_{on}^p} + {k_{on}^r}\\right)} \\left(- {k_{off}^p} {k_{on}^r} \\left(\\gamma_{p} {\\langle p_{P_{reg}}^1\\rangle} + r_{p} {\\langle m_{P_{reg}}^1\\rangle} + 2 r_{p} {\\langle mp_{P_{reg}}\\rangle}\\right) - {k_{on}^r} \\left(2 \\gamma_{p} + {k_{off}^p}\\right) \\left(\\gamma_{p} {\\langle p_{E_{reg}}^1\\rangle} + r_{p} {\\langle m_{E_{reg}}^1\\rangle} + 2 r_{p} {\\langle mp_{E_{reg}}\\rangle}\\right) + \\left({k_{off}^p} {k_{on}^p} - \\left(2 \\gamma_{p} + {k_{off}^p}\\right) \\left(2 \\gamma_{p} + {k_{on}^p} + {k_{on}^r}\\right)\\right) \\left(\\gamma_{p} {\\langle p_{R_{reg}}^1\\rangle} + r_{p} {\\langle m_{R_{reg}}^1\\rangle} + 2 r_{p} {\\langle mp_{R_{reg}}\\rangle}\\right)\\right)\\right \\}$$"
      ],
      "text/plain": [
       "⎧                                 -({k_{off}__p}⋅(2⋅γₚ + {k_{off}__r})⋅(γₚ⋅{\\l\n",
       "⎨{\\langle p_{E_{reg}}__2\\rangle}: ────────────────────────────────────────────\n",
       "⎩                                                                             \n",
       "\n",
       "angle p_{P_{reg}}__1\\rangle} + rₚ⋅{\\langle m_{P_{reg}}__1\\rangle} + 2⋅rₚ⋅{\\lan\n",
       "──────────────────────────────────────────────────────────────────────────────\n",
       "                                                                              \n",
       "\n",
       "gle mp_{P_{reg}}\\rangle}) + {k_{off}__r}⋅(2⋅γₚ + {k_{off}__p})⋅(γₚ⋅{\\langle p_\n",
       "──────────────────────────────────────────────────────────────────────────────\n",
       "                 {k_{off}__p}⋅{k_{on}__p}⋅(2⋅γₚ + {k_{off}__r}) + {k_{off}__r}\n",
       "\n",
       "{R_{reg}}__1\\rangle} + rₚ⋅{\\langle m_{R_{reg}}__1\\rangle} + 2⋅rₚ⋅{\\langle mp_{\n",
       "──────────────────────────────────────────────────────────────────────────────\n",
       "⋅{k_{on}__r}⋅(2⋅γₚ + {k_{off}__p}) - (2⋅γₚ + {k_{off}__p})⋅(2⋅γₚ + {k_{off}__r\n",
       "\n",
       "R_{reg}}\\rangle}) + (2⋅γₚ + {k_{off}__p})⋅(2⋅γₚ + {k_{off}__r})⋅(γₚ⋅{\\langle p\n",
       "──────────────────────────────────────────────────────────────────────────────\n",
       "})⋅(2⋅γₚ + {k_{on}__p} + {k_{on}__r})                                         \n",
       "\n",
       "_{E_{reg}}__1\\rangle} + rₚ⋅{\\langle m_{E_{reg}}__1\\rangle} + 2⋅rₚ⋅{\\langle mp_\n",
       "──────────────────────────────────────────────────────────────────────────────\n",
       "                                                                              \n",
       "\n",
       "{E_{reg}}\\rangle}))                                    -{k_{off}__r}⋅{k_{on}__\n",
       "────────────────────, {\\langle p_{P_{reg}}__2\\rangle}: ───────────────────────\n",
       "                                                                              \n",
       "\n",
       "p}⋅(γₚ⋅{\\langle p_{R_{reg}}__1\\rangle} + rₚ⋅{\\langle m_{R_{reg}}__1\\rangle} + \n",
       "──────────────────────────────────────────────────────────────────────────────\n",
       "                                                                              \n",
       "\n",
       "2⋅rₚ⋅{\\langle mp_{R_{reg}}\\rangle}) - {k_{on}__p}⋅(2⋅γₚ + {k_{off}__r})⋅(γₚ⋅{\\\n",
       "──────────────────────────────────────────────────────────────────────────────\n",
       "                                                    {k_{off}__p}⋅{k_{on}__p}⋅(\n",
       "\n",
       "langle p_{E_{reg}}__1\\rangle} + rₚ⋅{\\langle m_{E_{reg}}__1\\rangle} + 2⋅rₚ⋅{\\la\n",
       "──────────────────────────────────────────────────────────────────────────────\n",
       "2⋅γₚ + {k_{off}__r}) + {k_{off}__r}⋅{k_{on}__r}⋅(2⋅γₚ + {k_{off}__p}) - (2⋅γₚ \n",
       "\n",
       "ngle mp_{E_{reg}}\\rangle}) + ({k_{off}__r}⋅{k_{on}__r} - (2⋅γₚ + {k_{off}__r})\n",
       "──────────────────────────────────────────────────────────────────────────────\n",
       "+ {k_{off}__p})⋅(2⋅γₚ + {k_{off}__r})⋅(2⋅γₚ + {k_{on}__p} + {k_{on}__r})      \n",
       "\n",
       "⋅(2⋅γₚ + {k_{on}__p} + {k_{on}__r}))⋅(γₚ⋅{\\langle p_{P_{reg}}__1\\rangle} + rₚ⋅\n",
       "──────────────────────────────────────────────────────────────────────────────\n",
       "                                                                              \n",
       "\n",
       "{\\langle m_{P_{reg}}__1\\rangle} + 2⋅rₚ⋅{\\langle mp_{P_{reg}}\\rangle})         \n",
       "─────────────────────────────────────────────────────────────────────, {\\langl\n",
       "                                                                              \n",
       "\n",
       "                          -{k_{off}__p}⋅{k_{on}__r}⋅(γₚ⋅{\\langle p_{P_{reg}}__\n",
       "e p_{R_{reg}}__2\\rangle}: ────────────────────────────────────────────────────\n",
       "                                                                              \n",
       "\n",
       "1\\rangle} + rₚ⋅{\\langle m_{P_{reg}}__1\\rangle} + 2⋅rₚ⋅{\\langle mp_{P_{reg}}\\ra\n",
       "──────────────────────────────────────────────────────────────────────────────\n",
       "                                                                              \n",
       "\n",
       "ngle}) - {k_{on}__r}⋅(2⋅γₚ + {k_{off}__p})⋅(γₚ⋅{\\langle p_{E_{reg}}__1\\rangle}\n",
       "──────────────────────────────────────────────────────────────────────────────\n",
       "                       {k_{off}__p}⋅{k_{on}__p}⋅(2⋅γₚ + {k_{off}__r}) + {k_{of\n",
       "\n",
       " + rₚ⋅{\\langle m_{E_{reg}}__1\\rangle} + 2⋅rₚ⋅{\\langle mp_{E_{reg}}\\rangle}) + \n",
       "──────────────────────────────────────────────────────────────────────────────\n",
       "f}__r}⋅{k_{on}__r}⋅(2⋅γₚ + {k_{off}__p}) - (2⋅γₚ + {k_{off}__p})⋅(2⋅γₚ + {k_{o\n",
       "\n",
       "({k_{off}__p}⋅{k_{on}__p} - (2⋅γₚ + {k_{off}__p})⋅(2⋅γₚ + {k_{on}__p} + {k_{on\n",
       "──────────────────────────────────────────────────────────────────────────────\n",
       "ff}__r})⋅(2⋅γₚ + {k_{on}__p} + {k_{on}__r})                                   \n",
       "\n",
       "}__r}))⋅(γₚ⋅{\\langle p_{R_{reg}}__1\\rangle} + rₚ⋅{\\langle m_{R_{reg}}__1\\rangl\n",
       "──────────────────────────────────────────────────────────────────────────────\n",
       "                                                                              \n",
       "\n",
       "e} + 2⋅rₚ⋅{\\langle mp_{R_{reg}}\\rangle})⎫\n",
       "────────────────────────────────────────⎬\n",
       "                                        ⎭"
      ]
     },
     "execution_count": 179,
     "metadata": {},
     "output_type": "execute_result"
    }
   ],
   "source": [
    "# Solve linear system for the three moments\n",
    "second_sol_reg_p = sympy.solve_linear_system(second_aug_reg, *p2_reg)\n",
    "second_sol_reg_p"
   ]
  },
  {
   "cell_type": "markdown",
   "metadata": {},
   "source": [
    "Now we add all these elements to obtain the global second moment"
   ]
  },
  {
   "cell_type": "code",
   "execution_count": 180,
   "metadata": {},
   "outputs": [
    {
     "data": {
      "image/png": "[encoded data removed]",
      "text/latex": [
       "$$\\frac{1}{2 \\gamma_{p}} \\left(\\gamma_{p} {\\langle p_{E_{reg}}^1\\rangle} + \\gamma_{p} {\\langle p_{P_{reg}}^1\\rangle} + \\gamma_{p} {\\langle p_{R_{reg}}^1\\rangle} + r_{p} {\\langle m_{E_{reg}}^1\\rangle} + r_{p} {\\langle m_{P_{reg}}^1\\rangle} + r_{p} {\\langle m_{R_{reg}}^1\\rangle} + 2 r_{p} {\\langle mp_{E_{reg}}\\rangle} + 2 r_{p} {\\langle mp_{P_{reg}}\\rangle} + 2 r_{p} {\\langle mp_{R_{reg}}\\rangle}\\right)$$"
      ],
      "text/plain": [
       "γₚ⋅{\\langle p_{E_{reg}}__1\\rangle} + γₚ⋅{\\langle p_{P_{reg}}__1\\rangle} + γₚ⋅{\n",
       "──────────────────────────────────────────────────────────────────────────────\n",
       "                                                                              \n",
       "\n",
       "\\langle p_{R_{reg}}__1\\rangle} + rₚ⋅{\\langle m_{E_{reg}}__1\\rangle} + rₚ⋅{\\lan\n",
       "──────────────────────────────────────────────────────────────────────────────\n",
       "                                                                              \n",
       "\n",
       "gle m_{P_{reg}}__1\\rangle} + rₚ⋅{\\langle m_{R_{reg}}__1\\rangle} + 2⋅rₚ⋅{\\langl\n",
       "──────────────────────────────────────────────────────────────────────────────\n",
       "       2⋅γₚ                                                                   \n",
       "\n",
       "e mp_{E_{reg}}\\rangle} + 2⋅rₚ⋅{\\langle mp_{P_{reg}}\\rangle} + 2⋅rₚ⋅{\\langle mp\n",
       "──────────────────────────────────────────────────────────────────────────────\n",
       "                                                                              \n",
       "\n",
       "_{R_{reg}}\\rangle}\n",
       "──────────────────\n",
       "                  "
      ]
     },
     "execution_count": 180,
     "metadata": {},
     "output_type": "execute_result"
    }
   ],
   "source": [
    "# Sum the soltuon of second moments\n",
    "second_reg_p = sum(second_sol_reg_p.values()).simplify()\n",
    "# Substitute relevant solutions\n",
    "second_reg_s = second_reg_p.subs(corr_sol_reg).subs(first_sol_reg_p).\\\n",
    "                 subs(second_sol_reg_m).subs(first_sol_reg_m).\\\n",
    "                 subs(zero_sol_reg)\n",
    "\n",
    "# Display solution without substitutions\n",
    "second_reg_p"
   ]
  },
  {
   "cell_type": "markdown",
   "metadata": {},
   "source": [
    "Let's now express this moment as a funciton of the global moments."
   ]
  },
  {
   "cell_type": "code",
   "execution_count": 181,
   "metadata": {},
   "outputs": [
    {
     "data": {
      "image/png": "[encoded data removed]",
      "text/latex": [
       "$${\\langle \\mathbf{p}_r^2\\rangle} = {\\langle \\mathbf{p}_r\\rangle} + \\frac{r_{p}}{\\gamma_{p}} {\\langle \\mathbf{mp}_r\\rangle}$$"
      ],
      "text/plain": [
       "                                                                   rₚ⋅{\\langle\n",
       "{\\langle \\mathbf{p}_r__2\\rangle} = {\\langle \\mathbf{p}_r\\rangle} + ───────────\n",
       "                                                                              \n",
       "\n",
       " \\mathbf{mp}_r\\rangle}\n",
       "──────────────────────\n",
       "     γₚ               "
      ]
     },
     "execution_count": 181,
     "metadata": {},
     "output_type": "execute_result"
    }
   ],
   "source": [
    "# Display solution\n",
    "second_reg_moments_p = second_reg_p.\\\n",
    "            collect(gp).collect(rp).\\\n",
    "            subs(sum(p1_reg), pp1_reg).\\\n",
    "            subs(sum(m1_reg), mm1_reg).\\\n",
    "            subs(sum(2 * mp_reg), 2 * mmpp_reg).\\\n",
    "            expand().\\\n",
    "            subs(rp / (2 * gp) * mm1_reg, pp1_reg / 2)\n",
    "sympy.Eq(pp2_reg,  second_reg_moments_p)"
   ]
  },
  {
   "cell_type": "markdown",
   "metadata": {},
   "source": [
    "It has the exact same funcitonal form as the two-state promoter. The only difference is obviously the definition of each of the moments."
   ]
  },
  {
   "cell_type": "code",
   "execution_count": null,
   "metadata": {
    "collapsed": true
   },
   "outputs": [],
   "source": []
  }
 ],
 "metadata": {
  "anaconda-cloud": {},
  "kernelspec": {
   "display_name": "Python 3",
   "language": "python",
   "name": "python3"
  },
  "language_info": {
   "codemirror_mode": {
    "name": "ipython",
    "version": 3
   },
   "file_extension": ".py",
   "mimetype": "text/x-python",
   "name": "python",
   "nbconvert_exporter": "python",
   "pygments_lexer": "ipython3",
   "version": "3.6.3"
  }
 },
 "nbformat": 4,
 "nbformat_minor": 1
}
