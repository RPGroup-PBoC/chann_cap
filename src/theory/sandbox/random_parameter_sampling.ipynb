{
 "cells": [
  {
   "cell_type": "markdown",
   "metadata": {},
   "source": [
    "# Random sampling of parameters"
   ]
  },
  {
   "cell_type": "markdown",
   "metadata": {},
   "source": [
    "(c) 2019 Manuel Razo. This work is licensed under a [Creative Commons Attribution License CC-BY 4.0](https://creativecommons.org/licenses/by/4.0/). All code contained herein is licensed under an [MIT license](https://opensource.org/licenses/MIT). \n",
    "\n",
    "---"
   ]
  },
  {
   "cell_type": "code",
   "execution_count": 13,
   "metadata": {},
   "outputs": [],
   "source": [
    "import os\n",
    "import itertools\n",
    "import pickle\n",
    "import cloudpickle\n",
    "import re\n",
    "import glob\n",
    "import git\n",
    "\n",
    "# Our numerical workhorses\n",
    "import numpy as np\n",
    "import pandas as pd\n",
    "import scipy as sp\n",
    "\n",
    "# Import library to perform maximum entropy fits\n",
    "from maxentropy.skmaxent import FeatureTransformer, MinDivergenceModel\n",
    "\n",
    "# Import libraries to parallelize processes\n",
    "from joblib import Parallel, delayed\n",
    "\n",
    "# Import matplotlib stuff for plotting\n",
    "import matplotlib.pyplot as plt\n",
    "import matplotlib.cm as cm\n",
    "import matplotlib as mpl\n",
    "\n",
    "# Seaborn, useful for graphics\n",
    "import seaborn as sns\n",
    "# Increase DPI of displayed figures\n",
    "%config InlineBackend.figure_format = 'retina'\n",
    "\n",
    "# Import the project utils\n",
    "import ccutils\n",
    "\n",
    "# Find home directory for repo\n",
    "repo = git.Repo(\"./\", search_parent_directories=True)\n",
    "homedir = repo.working_dir\n",
    "\n",
    "# Define directories for data and figure \n",
    "figdir = f'{homedir}/fig/MaxEnt_approx_joint/'\n",
    "datadir = f'{homedir}/data/csv_maxEnt_dist'"
   ]
  },
  {
   "cell_type": "code",
   "execution_count": 3,
   "metadata": {},
   "outputs": [],
   "source": [
    "# Set PBoC plotting format\n",
    "ccutils.viz.set_plotting_style()\n",
    "# Increase dpi\n",
    "mpl.rcParams['figure.dpi'] = 110"
   ]
  },
  {
   "cell_type": "markdown",
   "metadata": {},
   "source": [
    "### $\\LaTeX$ macros\n",
    "\n",
    "$\\newcommand{kpon}{k^p_{\\text{on}}}$\n",
    "$\\newcommand{kpoff}{k^p_{\\text{off}}}$\n",
    "$\\newcommand{kron}{k^r_{\\text{on}}}$\n",
    "$\\newcommand{kroff}{k^r_{\\text{off}}}$\n",
    "$\\newcommand{rm}{r _m}$\n",
    "$\\newcommand{rp}{r _p}$\n",
    "$\\newcommand{gm}{\\gamma _m}$\n",
    "$\\newcommand{gp}{\\gamma _p}$\n",
    "$\\newcommand{mm}{\\left\\langle m \\right\\rangle}$\n",
    "$\\newcommand{foldchange}{\\text{fold-change}}$\n",
    "$\\newcommand{ee}[1]{\\left\\langle #1 \\right\\rangle}$\n",
    "$\\newcommand{var}[1]{\\text{Var}\\left( #1 \\right)}$\n",
    "$\\newcommand{bb}[1]{\\mathbf{#1}}$\n",
    "$\\newcommand{th}[1]{\\text{th}}$"
   ]
  },
  {
   "cell_type": "markdown",
   "metadata": {},
   "source": [
    "## Variability in the kinetic parameters"
   ]
  },
  {
   "cell_type": "markdown",
   "metadata": {},
   "source": [
    "An idea that could explain the systematic variation between our theoretical predictions and the data is the stochasticity that could be associated with random variation of the kinetic parameters. For example, if cells happen to stochastically have different number of ribosomes, how much would that affect the final distribution. Another good example is the variability in repressor copy number, which would affect the $\\kron$ rate.\n",
    "\n",
    "To simplify things what we will do is sample random variations to some of the kinetic parameters, run the dynamics with such parameters, and then reconstruct the corresponding MaxEnt distribution. Then we will combine all of these distributions to see how different this is compared to the one with single parameter values."
   ]
  },
  {
   "cell_type": "markdown",
   "metadata": {},
   "source": [
    "### Unregulated promoter parameter variation"
   ]
  },
  {
   "cell_type": "markdown",
   "metadata": {},
   "source": [
    "Let's begin with the unregulated promoter. The parameters here are $\\kpon, \\kpoff, r_m, \\gm, r_p$, and $\\gp$. The simplest scenario would be to sample variations out of a Gaussian distribution. We will set these distributions to be centered at the current value of the parameter we are using, and allow a variation of some defined percentage.\n",
    "\n",
    "Let's define a function that given an array of parameters, it samples random variations."
   ]
  },
  {
   "cell_type": "code",
   "execution_count": 8,
   "metadata": {},
   "outputs": [],
   "source": [
    "def param_normal_sample(param, n_samples, std=0.2):\n",
    "    '''\n",
    "    Function that samples variations to the parameter values out of a normal\n",
    "    distribution.\n",
    "    Parameters\n",
    "    ----------\n",
    "    param : array-like.\n",
    "        List of parameters from which the samples will be generated.\n",
    "    n_samples : int.\n",
    "        Number or random samples to draw from the distribution\n",
    "    std : float or array-like.\n",
    "        Fractional standard deviations for each of the samples to be taken. \n",
    "        If a single value is given, then all of the distributions will have \n",
    "        the same standard deviation proportional to the mean.\n",
    "        \n",
    "    Returns\n",
    "    -------\n",
    "    samples : array-like. Shape = len(param) x n_samples\n",
    "        Random samples of the parameters.\n",
    "    '''\n",
    "    # Initialize array to save output\n",
    "    samples = np.zeros([n_samples, len(param)])\n",
    "    \n",
    "    # Loop through parameters\n",
    "    for i, par in enumerate(param):\n",
    "        if len(std) == len(param):\n",
    "            samples[:, i] = np.random.normal(par, par * std[i], n_samples)\n",
    "        elif len(std) == 1:\n",
    "            samples[:, i] = np.random.normal(par, par * std[0], n_samples)\n",
    "            \n",
    "    return samples"
   ]
  },
  {
   "cell_type": "markdown",
   "metadata": {},
   "source": [
    "Let's now load the parameters and generate random samples."
   ]
  },
  {
   "cell_type": "code",
   "execution_count": 78,
   "metadata": {},
   "outputs": [],
   "source": [
    "# Load parameter values\n",
    "par = ccutils.model.load_constants()\n",
    "\n",
    "# Define parametesr for unregulated promoter\n",
    "par_names = ['kp_on', 'kp_off', 'rm', 'gm', 'rp']\n",
    "param = [par[x] for x in par_names]\n",
    "\n",
    "# Generate samples of all parameters with a 10% variability\n",
    "n_samples = 999 \n",
    "std = [0.15]\n",
    "param_sample = param_normal_sample(param, n_samples, std)\n",
    "# Add reference parameters to list\n",
    "param_sample = np.append(np.array([[*param]]), param_sample, axis=0)"
   ]
  },
  {
   "cell_type": "markdown",
   "metadata": {},
   "source": [
    "Having sampled the parameters let's go ahead and run the dynamics for each of these parameter sets. First we need to load the matrix to compute the moments of the distribution after the cell division as a function of the moments before the cell division."
   ]
  },
  {
   "cell_type": "code",
   "execution_count": 79,
   "metadata": {},
   "outputs": [],
   "source": [
    "# Read matrix into memory\n",
    "with open(f'{homedir}/src/theory/pkl_files/binom_coeff_matrix.pkl', \n",
    "          'rb') as file:\n",
    "    unpickler = pickle.Unpickler(file)\n",
    "    Z_mat = unpickler.load()\n",
    "    expo_binom = unpickler.load()"
   ]
  },
  {
   "cell_type": "markdown",
   "metadata": {},
   "source": [
    "Now let's load the matrix to compute the dynamics of the unregualted two-state promoter"
   ]
  },
  {
   "cell_type": "code",
   "execution_count": 80,
   "metadata": {},
   "outputs": [],
   "source": [
    "with open('../pkl_files/two_state_protein_dynamics_matrix.pkl',\n",
    "          'rb') as file:\n",
    "    A_mat_unreg_lam = cloudpickle.load(file)\n",
    "    expo_unreg = cloudpickle.load(file)"
   ]
  },
  {
   "cell_type": "markdown",
   "metadata": {},
   "source": [
    "Next let's define all of the parameters that we will need for the integration."
   ]
  },
  {
   "cell_type": "code",
   "execution_count": 81,
   "metadata": {},
   "outputs": [],
   "source": [
    "# Define doubling time\n",
    "doubling_time = 100\n",
    "# Define fraction of cell cycle spent with one copy\n",
    "t_single_frac = 0.6\n",
    "# Define time for single-promoter state\n",
    "t_single = 60 * t_single_frac * doubling_time # sec\n",
    "t_double = 60 * (1 - t_single_frac) * doubling_time # sec\n",
    "n_cycles = 6\n",
    "\n",
    "# Define names for dataframe columns\n",
    "names = par_names + ['m' + str(m[0]) + 'p' + str(m[1]) for m in expo_unreg]\n",
    "\n",
    "# Initialize DataFrame to save constraints\n",
    "df_moments = pd.DataFrame([], columns=names)"
   ]
  },
  {
   "cell_type": "markdown",
   "metadata": {},
   "source": [
    "Now we are ready to run the dynamics in parallel, let's define the function so that we can perform this numerical integration in parallel"
   ]
  },
  {
   "cell_type": "code",
   "execution_count": 109,
   "metadata": {},
   "outputs": [
    {
     "data": {
      "text/html": [
       "<div>\n",
       "<style scoped>\n",
       "    .dataframe tbody tr th:only-of-type {\n",
       "        vertical-align: middle;\n",
       "    }\n",
       "\n",
       "    .dataframe tbody tr th {\n",
       "        vertical-align: top;\n",
       "    }\n",
       "\n",
       "    .dataframe thead th {\n",
       "        text-align: right;\n",
       "    }\n",
       "</style>\n",
       "<table border=\"1\" class=\"dataframe\">\n",
       "  <thead>\n",
       "    <tr style=\"text-align: right;\">\n",
       "      <th></th>\n",
       "      <th>kp_on</th>\n",
       "      <th>kp_off</th>\n",
       "      <th>rm</th>\n",
       "      <th>gm</th>\n",
       "      <th>rp</th>\n",
       "      <th>m0p0</th>\n",
       "      <th>m1p0</th>\n",
       "      <th>m2p0</th>\n",
       "      <th>m3p0</th>\n",
       "      <th>m4p0</th>\n",
       "      <th>...</th>\n",
       "      <th>m3p2</th>\n",
       "      <th>m2p3</th>\n",
       "      <th>m1p4</th>\n",
       "      <th>m0p5</th>\n",
       "      <th>m5p1</th>\n",
       "      <th>m4p2</th>\n",
       "      <th>m3p3</th>\n",
       "      <th>m2p4</th>\n",
       "      <th>m1p5</th>\n",
       "      <th>m0p6</th>\n",
       "    </tr>\n",
       "  </thead>\n",
       "  <tbody>\n",
       "    <tr>\n",
       "      <th>0</th>\n",
       "      <td>0.035800</td>\n",
       "      <td>0.733642</td>\n",
       "      <td>1.428638</td>\n",
       "      <td>0.005556</td>\n",
       "      <td>0.057687</td>\n",
       "      <td>1.000001</td>\n",
       "      <td>15.465073</td>\n",
       "      <td>322.675799</td>\n",
       "      <td>8592.938264</td>\n",
       "      <td>278504.423656</td>\n",
       "      <td>...</td>\n",
       "      <td>7.435491e+11</td>\n",
       "      <td>2.400384e+14</td>\n",
       "      <td>9.106554e+16</td>\n",
       "      <td>4.227171e+19</td>\n",
       "      <td>1.023095e+11</td>\n",
       "      <td>2.564953e+13</td>\n",
       "      <td>7.223464e+15</td>\n",
       "      <td>2.324187e+18</td>\n",
       "      <td>8.751674e+20</td>\n",
       "      <td>4.007274e+23</td>\n",
       "    </tr>\n",
       "    <tr>\n",
       "      <th>1</th>\n",
       "      <td>0.032431</td>\n",
       "      <td>0.739528</td>\n",
       "      <td>1.393289</td>\n",
       "      <td>0.005057</td>\n",
       "      <td>0.053299</td>\n",
       "      <td>1.000000</td>\n",
       "      <td>14.931711</td>\n",
       "      <td>301.564644</td>\n",
       "      <td>7785.472725</td>\n",
       "      <td>244981.550660</td>\n",
       "      <td>...</td>\n",
       "      <td>5.395222e+11</td>\n",
       "      <td>1.606668e+14</td>\n",
       "      <td>5.630176e+16</td>\n",
       "      <td>2.419201e+19</td>\n",
       "      <td>7.836451e+10</td>\n",
       "      <td>1.808850e+13</td>\n",
       "      <td>4.694138e+15</td>\n",
       "      <td>1.393147e+18</td>\n",
       "      <td>4.844928e+20</td>\n",
       "      <td>2.053035e+23</td>\n",
       "    </tr>\n",
       "    <tr>\n",
       "      <th>2</th>\n",
       "      <td>0.033365</td>\n",
       "      <td>0.756140</td>\n",
       "      <td>1.506338</td>\n",
       "      <td>0.005693</td>\n",
       "      <td>0.051598</td>\n",
       "      <td>1.000001</td>\n",
       "      <td>14.460292</td>\n",
       "      <td>286.760352</td>\n",
       "      <td>7330.247698</td>\n",
       "      <td>229696.596719</td>\n",
       "      <td>...</td>\n",
       "      <td>4.462012e+11</td>\n",
       "      <td>1.259343e+14</td>\n",
       "      <td>4.219377e+16</td>\n",
       "      <td>1.756454e+19</td>\n",
       "      <td>6.879409e+10</td>\n",
       "      <td>1.487937e+13</td>\n",
       "      <td>3.636832e+15</td>\n",
       "      <td>1.023284e+18</td>\n",
       "      <td>3.403527e+20</td>\n",
       "      <td>1.397538e+23</td>\n",
       "    </tr>\n",
       "    <tr>\n",
       "      <th>3</th>\n",
       "      <td>0.032628</td>\n",
       "      <td>0.837036</td>\n",
       "      <td>1.691334</td>\n",
       "      <td>0.005508</td>\n",
       "      <td>0.062506</td>\n",
       "      <td>0.999998</td>\n",
       "      <td>14.887434</td>\n",
       "      <td>303.271975</td>\n",
       "      <td>7958.185306</td>\n",
       "      <td>255967.530435</td>\n",
       "      <td>...</td>\n",
       "      <td>7.484595e+11</td>\n",
       "      <td>2.556261e+14</td>\n",
       "      <td>1.035300e+17</td>\n",
       "      <td>5.198011e+19</td>\n",
       "      <td>9.785864e+10</td>\n",
       "      <td>2.563360e+13</td>\n",
       "      <td>7.586002e+15</td>\n",
       "      <td>2.582902e+18</td>\n",
       "      <td>1.038477e+21</td>\n",
       "      <td>5.143209e+23</td>\n",
       "    </tr>\n",
       "    <tr>\n",
       "      <th>4</th>\n",
       "      <td>0.039527</td>\n",
       "      <td>0.795206</td>\n",
       "      <td>1.198771</td>\n",
       "      <td>0.005553</td>\n",
       "      <td>0.055292</td>\n",
       "      <td>1.000000</td>\n",
       "      <td>13.212645</td>\n",
       "      <td>234.657643</td>\n",
       "      <td>5289.403937</td>\n",
       "      <td>144373.769725</td>\n",
       "      <td>...</td>\n",
       "      <td>3.067514e+11</td>\n",
       "      <td>9.590359e+13</td>\n",
       "      <td>3.507520e+16</td>\n",
       "      <td>1.562467e+19</td>\n",
       "      <td>3.641700e+10</td>\n",
       "      <td>8.908471e+12</td>\n",
       "      <td>2.439814e+15</td>\n",
       "      <td>7.604343e+17</td>\n",
       "      <td>2.761119e+20</td>\n",
       "      <td>1.213352e+23</td>\n",
       "    </tr>\n",
       "  </tbody>\n",
       "</table>\n",
       "<p>5 rows × 33 columns</p>\n",
       "</div>"
      ],
      "text/plain": [
       "      kp_on    kp_off        rm        gm        rp      m0p0       m1p0  \\\n",
       "0  0.035800  0.733642  1.428638  0.005556  0.057687  1.000001  15.465073   \n",
       "1  0.032431  0.739528  1.393289  0.005057  0.053299  1.000000  14.931711   \n",
       "2  0.033365  0.756140  1.506338  0.005693  0.051598  1.000001  14.460292   \n",
       "3  0.032628  0.837036  1.691334  0.005508  0.062506  0.999998  14.887434   \n",
       "4  0.039527  0.795206  1.198771  0.005553  0.055292  1.000000  13.212645   \n",
       "\n",
       "         m2p0         m3p0           m4p0  ...          m3p2          m2p3  \\\n",
       "0  322.675799  8592.938264  278504.423656  ...  7.435491e+11  2.400384e+14   \n",
       "1  301.564644  7785.472725  244981.550660  ...  5.395222e+11  1.606668e+14   \n",
       "2  286.760352  7330.247698  229696.596719  ...  4.462012e+11  1.259343e+14   \n",
       "3  303.271975  7958.185306  255967.530435  ...  7.484595e+11  2.556261e+14   \n",
       "4  234.657643  5289.403937  144373.769725  ...  3.067514e+11  9.590359e+13   \n",
       "\n",
       "           m1p4          m0p5          m5p1          m4p2          m3p3  \\\n",
       "0  9.106554e+16  4.227171e+19  1.023095e+11  2.564953e+13  7.223464e+15   \n",
       "1  5.630176e+16  2.419201e+19  7.836451e+10  1.808850e+13  4.694138e+15   \n",
       "2  4.219377e+16  1.756454e+19  6.879409e+10  1.487937e+13  3.636832e+15   \n",
       "3  1.035300e+17  5.198011e+19  9.785864e+10  2.563360e+13  7.586002e+15   \n",
       "4  3.507520e+16  1.562467e+19  3.641700e+10  8.908471e+12  2.439814e+15   \n",
       "\n",
       "           m2p4          m1p5          m0p6  \n",
       "0  2.324187e+18  8.751674e+20  4.007274e+23  \n",
       "1  1.393147e+18  4.844928e+20  2.053035e+23  \n",
       "2  1.023284e+18  3.403527e+20  1.397538e+23  \n",
       "3  2.582902e+18  1.038477e+21  5.143209e+23  \n",
       "4  7.604343e+17  2.761119e+20  1.213352e+23  \n",
       "\n",
       "[5 rows x 33 columns]"
      ]
     },
     "execution_count": 109,
     "metadata": {},
     "output_type": "execute_result"
    }
   ],
   "source": [
    "compute_dynamics = False\n",
    "\n",
    "if compute_dynamics:\n",
    "    # Define function for parallel computation\n",
    "    def constraints_parallel(par):\n",
    "        kp_on = par[0]\n",
    "        kp_off = par[1]\n",
    "        rm = par[2]\n",
    "        gm = par[3]\n",
    "        rp = par[4]\n",
    "\n",
    "        # Single promoter\n",
    "        gp_init = 1 / (60 * 60)\n",
    "        rp_init = 500 * gp_init\n",
    "\n",
    "        # Generate matrices for dynamics\n",
    "        # Single promoter\n",
    "        par_unreg_s = [kp_on, kp_off, rm, gm, rp, 0]\n",
    "        # Two promoters\n",
    "        par_unreg_d = [kp_on, kp_off, 2 * rm, gm, rp, 0]\n",
    "\n",
    "        # Initial conditions\n",
    "        A_unreg_s_init = A_mat_unreg_lam(\n",
    "            kp_on, kp_off, rm, gm, rp_init, gp_init\n",
    "        )\n",
    "\n",
    "        # Define initial conditions\n",
    "        mom_init = np.zeros(len(expo_unreg) * 2)\n",
    "        # Set initial condition for zero moment\n",
    "        # Since this needs to add up to 1\n",
    "        mom_init[0] = 1\n",
    "\n",
    "        # Define time on which to perform integration\n",
    "        t = np.linspace(0, 4000 * 60, 10000)\n",
    "        # Numerically integrate equations\n",
    "        m_init = sp.integrate.odeint(\n",
    "            ccutils.model.rhs_dmomdt, mom_init, t, args=(A_unreg_s_init,)\n",
    "        )\n",
    "        # Keep last time point as initial condition\n",
    "        m_init = m_init[-1, :]\n",
    "\n",
    "        # Integrate moment equations\n",
    "        df = ccutils.model.dmomdt_cycles(\n",
    "            m_init,\n",
    "            t_single,\n",
    "            t_double,\n",
    "            A_mat_unreg_lam,\n",
    "            par_unreg_s,\n",
    "            par_unreg_d,\n",
    "            expo_unreg,\n",
    "            n_cycles,\n",
    "            Z_mat,\n",
    "            states=[\"A\", \"I\"],\n",
    "            n_steps=3000,\n",
    "        )\n",
    "\n",
    "        # Keep only last cycle\n",
    "        df = df[df[\"cycle\"] == df[\"cycle\"].max()]\n",
    "\n",
    "        # Extract time of last cell cycle\n",
    "        time = np.sort(df[\"time\"].unique())\n",
    "\n",
    "        # Compute the time differences\n",
    "        time_diff = np.diff(time)\n",
    "        # Compute the cumulative time difference\n",
    "        time_cumsum = np.cumsum(time_diff)\n",
    "        time_cumsum = time_cumsum / time_cumsum[-1]\n",
    "\n",
    "        # Define array for spacing of cell cycle\n",
    "        a_array = np.zeros(len(time))\n",
    "        a_array[1:] = time_cumsum\n",
    "\n",
    "        # Compute probability based on this array\n",
    "        p_a_array = np.log(2) * 2 ** (1 - a_array)\n",
    "\n",
    "        # Initialize list to append moments\n",
    "        moms = list()\n",
    "        # Loop through moments computing the average moment\n",
    "        for i, mom in enumerate(expo_unreg):\n",
    "            # Generate string that finds the moment\n",
    "            mom_name = \"m\" + str(mom[0]) + \"p\" + str(mom[1])\n",
    "            # List rows with moment\n",
    "            mom_bool = [x for x in df.columns if mom_name in x]\n",
    "            # Extract data for this particular moment\n",
    "            df_mom = df.loc[:, mom_bool].sum(axis=1)\n",
    "\n",
    "            # Average moment and append it to list\n",
    "            moms.append(sp.integrate.simps(df_mom * p_a_array, a_array))\n",
    "\n",
    "        # Save results into series in order to append it to data frame\n",
    "        series = pd.Series(list(par) + moms, index=names)\n",
    "\n",
    "        return series\n",
    "\n",
    "    # Run function in parallel\n",
    "    constraint_series = Parallel(n_jobs=6)(\n",
    "        delayed(constraints_parallel)(par) for par in param_sample\n",
    "    )\n",
    "\n",
    "    # Initialize data frame to save list of pareters\n",
    "    df_moments = pd.DataFrame([], columns=names)\n",
    "\n",
    "    for s in constraint_series:\n",
    "        df_moments = df_moments.append(s, ignore_index=True)\n",
    "    df_moments.to_csv(\n",
    "        f\"{homedir}/data/csv_maxEnt_dist/\" + \"MaxEnt_unreg_random.csv\",\n",
    "        index=False,\n",
    "    )\n",
    "\n",
    "df_moments = pd.read_csv(\n",
    "    f\"{homedir}/data/csv_maxEnt_dist/\" + \"MaxEnt_unreg_random.csv\"\n",
    ")\n",
    "df_moments.head()"
   ]
  },
  {
   "cell_type": "markdown",
   "metadata": {},
   "source": [
    "Let's look at the distribution of means and standard deviations in mRNA count for these variations in parameters."
   ]
  },
  {
   "cell_type": "code",
   "execution_count": 84,
   "metadata": {},
   "outputs": [
    {
     "data": {
      "image/png": "[encoded data removed]",
      "text/plain": [
       "<Figure size 770x330 with 2 Axes>"
      ]
     },
     "metadata": {
      "image/png": {
       "height": 308,
       "width": 660
      }
     },
     "output_type": "display_data"
    }
   ],
   "source": [
    "# Compute mRNA standard deviations\n",
    "mRNA_std = np.sqrt(df_moments.m2p0 - df_moments.m1p0**2)\n",
    "\n",
    "# Initialize figure\n",
    "fig, ax = plt.subplots(1, 2, figsize=(7, 3))\n",
    "\n",
    "# Generate ECDF for mean\n",
    "x, y = ccutils.stats.ecdf(df_moments.m1p0)\n",
    "ax[0].plot(x, y, lw=0, marker='.')\n",
    "# add reference line\n",
    "ax[0].axvline(df_moments.m1p0[0], color='black',\n",
    "              linestyle='--')\n",
    "# label axis\n",
    "ax[0].set_xlabel(r'$\\left\\langle \\right.$mRNA/cell$\\left. \\right\\rangle$')\n",
    "ax[0].set_ylabel('ECDF')\n",
    "\n",
    "# Generate ECDF for standard deviation \n",
    "x, y = ccutils.stats.ecdf(mRNA_std)\n",
    "ax[1].plot(x, y, lw=0, marker='.')\n",
    "# add reference line\n",
    "ax[1].axvline(mRNA_std[0], color='black', linestyle='--')\n",
    "# label axis\n",
    "ax[1].set_xlabel('STD(mRNA/cell)')\n",
    "ax[1].set_ylabel('ECDF');"
   ]
  },
  {
   "cell_type": "markdown",
   "metadata": {},
   "source": [
    "There is quite a lot of variability compared to the reference value. Let's repeat these plots, but this time for the protein values"
   ]
  },
  {
   "cell_type": "code",
   "execution_count": 107,
   "metadata": {},
   "outputs": [
    {
     "data": {
      "text/plain": [
       "Text(0, 0.5, 'ECDF')"
      ]
     },
     "execution_count": 107,
     "metadata": {},
     "output_type": "execute_result"
    },
    {
     "data": {
      "image/png": "[encoded data removed]",
      "text/plain": [
       "<Figure size 770x330 with 2 Axes>"
      ]
     },
     "metadata": {
      "image/png": {
       "height": 308,
       "width": 660
      }
     },
     "output_type": "display_data"
    }
   ],
   "source": [
    "# Compute protein standard deviations\n",
    "protein_std = np.sqrt(df_moments.m0p2 - df_moments.m0p1 ** 2)\n",
    "\n",
    "# Initialize figure\n",
    "fig, ax = plt.subplots(1, 2, figsize=(7, 3))\n",
    "\n",
    "# Generate ECDF for mean\n",
    "x, y = ccutils.stats.ecdf(df_moments.m0p1)\n",
    "ax[0].plot(x, y, lw=0, marker=\".\")\n",
    "# add reference line\n",
    "ax[0].axvline(df_moments.m0p1[0], color=\"black\", linestyle=\"--\")\n",
    "# label axis\n",
    "ax[0].set_xlabel(r\"$\\left\\langle \\right.$protein/cell$\\left. \\right\\rangle$\")\n",
    "ax[0].set_ylabel(\"ECDF\")\n",
    "\n",
    "# Generate ECDF for standard deviation\n",
    "x, y = ccutils.stats.ecdf(protein_std)\n",
    "ax[1].plot(x, y, lw=0, marker=\".\")\n",
    "# add reference line\n",
    "ax[1].axvline(protein_std[0], color=\"black\", linestyle=\"--\")\n",
    "# label axis\n",
    "ax[1].set_xlabel(\"STD(protein/cell)\")\n",
    "ax[1].set_ylabel(\"ECDF\")"
   ]
  },
  {
   "cell_type": "markdown",
   "metadata": {},
   "source": [
    "### Moments of the conditional distribution"
   ]
  },
  {
   "cell_type": "markdown",
   "metadata": {},
   "source": [
    "Let's now compare the mean, variance and skewness of the resulting distribution. For this all we have to use is the so-called [law of total expectation](https://en.wikipedia.org/wiki/Law_of_total_expectation) that states that\n",
    "$$\n",
    "\\ee{f(p)} = \\ee{\\ee{f(p) \\mid \\theta}_p}_\\theta,\n",
    "$$\n",
    "i.e. to compute the expected value of the function $f(p)$ (could be something like $f(p) p^2$) we first compute the average of the function for a parameter set $\\theta$, then we average the expected value of the function over all values of $\\theta$."
   ]
  },
  {
   "cell_type": "markdown",
   "metadata": {},
   "source": [
    "Let's for example first compare the resulting mean protein copy numbers for the original value and the one that includes the variability"
   ]
  },
  {
   "cell_type": "code",
   "execution_count": 95,
   "metadata": {},
   "outputs": [
    {
     "name": "stdout",
     "output_type": "stream",
     "text": [
      "mean delta: 7733.0\n",
      "mean sample: 8075.0\n",
      "fractional change: 0.04428981949722924\n"
     ]
    }
   ],
   "source": [
    "mean_delta = df_moments.m0p1[0]\n",
    "mean_sample = df_moments.m0p1.mean()\n",
    "\n",
    "print(f'mean delta: {np.round(mean_delta, 0)}')\n",
    "print(f'mean sample: {np.round(mean_sample, 0)}')\n",
    "print(f'fractional change: {(mean_sample - mean_delta) / mean_delta}')"
   ]
  },
  {
   "cell_type": "markdown",
   "metadata": {},
   "source": [
    "There is an increment of roughly a 4%, so that is pretty small. Let's now look at the variance"
   ]
  },
  {
   "cell_type": "code",
   "execution_count": 98,
   "metadata": {},
   "outputs": [
    {
     "name": "stdout",
     "output_type": "stream",
     "text": [
      "variance delta: 2607605.0\n",
      "variance sample: 10714739.0\n",
      "fractional change: 3.1090341346727075\n"
     ]
    }
   ],
   "source": [
    "var_delta = df_moments.m0p2[0] - df_moments.m0p1[0]**2\n",
    "var_sample = df_moments.m0p2.mean() - df_moments.m0p1.mean()**2\n",
    "\n",
    "print(f'variance delta: {np.round(var_delta, 0)}')\n",
    "print(f'variance sample: {np.round(var_sample, 0)}')\n",
    "print(f'fractional change: {(var_sample - var_delta) / var_delta}')"
   ]
  },
  {
   "cell_type": "markdown",
   "metadata": {},
   "source": [
    "The change in the variance is quite large! Let's see how this reflects to the change in the noise (std/mean)."
   ]
  },
  {
   "cell_type": "code",
   "execution_count": 100,
   "metadata": {},
   "outputs": [
    {
     "name": "stdout",
     "output_type": "stream",
     "text": [
      "noise delta: 0.21\n",
      "noise sample: 0.41\n"
     ]
    }
   ],
   "source": [
    "noise_delta = np.sqrt(var_delta) / mean_delta\n",
    "noise_sample = np.sqrt(var_sample) / mean_sample\n",
    "\n",
    "print(f'noise delta: {np.round(noise_delta, 2)}')\n",
    "print(f'noise sample: {np.round(noise_sample, 2)}')"
   ]
  },
  {
   "cell_type": "markdown",
   "metadata": {},
   "source": [
    "There is a factor of two of difference when computing the noise. That is quite interesting since that is exactly what we saw the systematic deviation in the data was like. Let's see what the change in the skewness is then."
   ]
  },
  {
   "cell_type": "code",
   "execution_count": 105,
   "metadata": {},
   "outputs": [
    {
     "name": "stdout",
     "output_type": "stream",
     "text": [
      "skewness delta: 0.71\n",
      "skewness sample: 1.26\n"
     ]
    }
   ],
   "source": [
    "skew_delta = (\n",
    "    df_moments.m0p3[0] - 3 * mean_delta * var_delta - mean_delta ** 3\n",
    ") / var_delta ** (3 / 2)\n",
    "\n",
    "skew_sample = (\n",
    "    df_moments.m0p3.mean() - 3 * mean_sample * var_sample - mean_sample ** 3\n",
    ") / var_sample ** (3 / 2)\n",
    "\n",
    "print(f\"skewness delta: {np.round(skew_delta, 2)}\")\n",
    "print(f\"skewness sample: {np.round(skew_sample, 2)}\")"
   ]
  },
  {
   "cell_type": "markdown",
   "metadata": {},
   "source": [
    "This is quite suggestive. It seems that the random variability"
   ]
  }
 ],
 "metadata": {
  "kernelspec": {
   "display_name": "Python 3",
   "language": "python",
   "name": "python3"
  },
  "language_info": {
   "codemirror_mode": {
    "name": "ipython",
    "version": 3
   },
   "file_extension": ".py",
   "mimetype": "text/x-python",
   "name": "python",
   "nbconvert_exporter": "python",
   "pygments_lexer": "ipython3",
   "version": "3.7.4"
  }
 },
 "nbformat": 4,
 "nbformat_minor": 4
}
