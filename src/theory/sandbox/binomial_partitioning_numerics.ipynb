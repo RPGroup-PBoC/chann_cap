{
 "cells": [
  {
   "cell_type": "markdown",
   "metadata": {},
   "source": [
    "# Binomial partitioning numerics"
   ]
  },
  {
   "cell_type": "markdown",
   "metadata": {},
   "source": [
    "(c) 2019 Manuel Razo. This work is licensed under a [Creative Commons Attribution License CC-BY 4.0](https://creativecommons.org/licenses/by/4.0/). All code contained herein is licensed under an [MIT license](https://opensource.org/licenses/MIT)\n",
    "\n",
    "---"
   ]
  },
  {
   "cell_type": "code",
   "execution_count": 1,
   "metadata": {},
   "outputs": [],
   "source": [
    "# Our numerical workhorses\n",
    "import numpy as np\n",
    "import scipy as sp\n",
    "import pandas as pd\n",
    "import statsmodels.api as sm\n",
    "\n",
    "# Import matplotlib stuff for plotting\n",
    "import matplotlib.pyplot as plt\n",
    "import matplotlib.cm as cm\n",
    "import matplotlib as mpl\n",
    "\n",
    "# Seaborn, useful for graphics\n",
    "import seaborn as sns\n",
    "\n",
    "# Import the project utils\n",
    "import ccutils\n",
    "\n",
    "# Magic function to make matplotlib inline; other style specs must come AFTER\n",
    "%matplotlib inline\n",
    "\n",
    "# This enables SVG graphics inline\n",
    "%config InlineBackend.figure_format = 'retina'"
   ]
  },
  {
   "cell_type": "code",
   "execution_count": 2,
   "metadata": {},
   "outputs": [],
   "source": [
    "# Set PBoC plotting format\n",
    "ccutils.viz.set_plotting_style()\n",
    "# Increase dpi\n",
    "mpl.rcParams['figure.dpi'] = 110"
   ]
  },
  {
   "cell_type": "markdown",
   "metadata": {},
   "source": [
    "## Exploring binomial partitioning"
   ]
  },
  {
   "cell_type": "markdown",
   "metadata": {},
   "source": [
    "One of my ideas for why we could potentially have disagreement between theory and data is that when a cell partitions into two, the two daughter cells are perfectly correlated. This is, if a mother cell with $m'$ molecules divides into two, and one of the daughter cells gets $m \\leq m'$ molecules, by definition the other daughter cell must get $m' - m$ molecules. \n",
    "\n",
    "What I want to explore in this notebook is if this could represent a problem for the way we compute the distribution moments after cell division. I have tried approaching this question analytically, but it is quite challenging. So In this notebook I will tackle the question numerically then."
   ]
  },
  {
   "cell_type": "markdown",
   "metadata": {},
   "source": [
    "The idea is pretty simple. I will generate a certain number of binomial samples given $N$ trials. For one case I will only keep the number $n$ that the random number generator gives, and for the other case I will keep both $n$ and $N - n$ and see if the final distributions are different."
   ]
  },
  {
   "cell_type": "code",
   "execution_count": 30,
   "metadata": {},
   "outputs": [
    {
     "name": "stdout",
     "output_type": "stream",
     "text": [
      "mean uncorrelated: 499.49666666666667\n",
      "mean correlated: 500.0\n",
      "std uncorrelated: 16.101448865103897\n",
      "std correlated: 16.060510577189007\n",
      "noise uncorrelated: 0.03223534798050817\n",
      "noise correlated: 0.03212102115437801\n"
     ]
    }
   ],
   "source": [
    "# Set random seed\n",
    "np.random.seed(42)\n",
    "\n",
    "# Define number of \"cells\" to simulate\n",
    "n_sim = 300\n",
    "# Define partition probability\n",
    "p = 0.5\n",
    "# Define number of trials\n",
    "N = 1000\n",
    "\n",
    "# Generate binomial samples\n",
    "n = np.random.binomial(N, p, n_sim)\n",
    "# Generate \"correlated\" binomial samples\n",
    "n_corr = np.zeros(n_sim)\n",
    "n_corr[0:int(n_sim/2)] = np.random.binomial(N, p, int(n_sim / 2))\n",
    "n_corr[int(n_sim/2)::] = N - n_corr[0:int(n_sim/2)]\n",
    "\n",
    "print(f'mean uncorrelated: {np.mean(n)}' )\n",
    "print(f'mean correlated: {np.mean(n_corr)}' )\n",
    "\n",
    "print(f'std uncorrelated: {np.std(n)}' )\n",
    "print(f'std correlated: {np.std(n_corr)}' )\n",
    "\n",
    "print(f'noise uncorrelated: {np.std(n) / np.mean(n)}' )\n",
    "print(f'noise correlated: {np.std(n_corr) / np.mean(n_corr)}' )"
   ]
  },
  {
   "cell_type": "code",
   "execution_count": 10,
   "metadata": {},
   "outputs": [
    {
     "data": {
      "image/png": "[encoded data removed]",
      "text/plain": [
       "<Figure size 385x275 with 1 Axes>"
      ]
     },
     "metadata": {
      "image/png": {
       "height": 247,
       "width": 341
      }
     },
     "output_type": "display_data"
    }
   ],
   "source": [
    "plt.hist(n, bins=range(N), label='uncorrelated', \n",
    "         linewidth=0, alpha=0.5)\n",
    "plt.hist(n_corr, bins=range(N), label='correlated', \n",
    "         linewidth=0, alpha=0.5)\n",
    "plt.legend();"
   ]
  },
  {
   "cell_type": "code",
   "execution_count": 11,
   "metadata": {},
   "outputs": [
    {
     "name": "stdout",
     "output_type": "stream",
     "text": [
      "mean uncorrelated: 498.86\n",
      "mean correlated: 500.0\n",
      "std uncorrelated: 16.21037939099514\n",
      "std correlated: 15.660779035539706\n"
     ]
    }
   ],
   "source": [
    "print(f'mean uncorrelated: {np.mean(n)}' )\n",
    "print(f'mean correlated: {np.mean(n_corr)}' )\n",
    "\n",
    "print(f'std uncorrelated: {np.std(n)}' )\n",
    "print(f'std correlated: {np.std(n_corr)}' )"
   ]
  },
  {
   "cell_type": "code",
   "execution_count": null,
   "metadata": {},
   "outputs": [],
   "source": []
  }
 ],
 "metadata": {
  "kernelspec": {
   "display_name": "Python 3",
   "language": "python",
   "name": "python3"
  },
  "language_info": {
   "codemirror_mode": {
    "name": "ipython",
    "version": 3
   },
   "file_extension": ".py",
   "mimetype": "text/x-python",
   "name": "python",
   "nbconvert_exporter": "python",
   "pygments_lexer": "ipython3",
   "version": "3.7.4"
  }
 },
 "nbformat": 4,
 "nbformat_minor": 4
}
