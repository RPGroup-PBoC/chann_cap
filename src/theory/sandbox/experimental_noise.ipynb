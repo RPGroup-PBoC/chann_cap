{
 "cells": [
  {
   "cell_type": "markdown",
   "metadata": {},
   "source": [
    "# Modeling experimental noise"
   ]
  },
  {
   "cell_type": "markdown",
   "metadata": {},
   "source": [
    "(c) 2019 Manuel Razo. This work is licensed under a [Creative Commons Attribution License CC-BY 4.0](https://creativecommons.org/licenses/by/4.0/). All code contained herein is licensed under an [MIT license](https://opensource.org/licenses/MIT)\n",
    "\n",
    "---"
   ]
  },
  {
   "cell_type": "code",
   "execution_count": 1,
   "metadata": {},
   "outputs": [],
   "source": [
    "import os\n",
    "import pickle\n",
    "import cloudpickle\n",
    "import itertools\n",
    "import glob\n",
    "\n",
    "# Our numerical workhorses\n",
    "import numpy as np\n",
    "import scipy as sp\n",
    "import pandas as pd\n",
    "\n",
    "# Import matplotlib stuff for plotting\n",
    "import matplotlib.pyplot as plt\n",
    "import matplotlib.cm as cm\n",
    "import matplotlib as mpl\n",
    "\n",
    "# Seaborn, useful for graphics\n",
    "import seaborn as sns\n",
    "\n",
    "# Import the project utils\n",
    "import sys\n",
    "sys.path.insert(0, '../../')\n",
    "import ccutils\n",
    "\n",
    "# Magic function to make matplotlib inline; other style specs must come AFTER\n",
    "%matplotlib inline\n",
    "\n",
    "# This enables SVG graphics inline\n",
    "%config InlineBackend.figure_format = 'retina'\n",
    "\n",
    "tmpdir = '../../tmp/'\n",
    "figdir = '../../fig/moment_dynamics_numeric/'\n",
    "datadir = '../../data/csv_maxEnt_dist/'"
   ]
  },
  {
   "cell_type": "code",
   "execution_count": 2,
   "metadata": {},
   "outputs": [],
   "source": [
    "# Set PBoC plotting format\n",
    "ccutils.viz.set_plotting_style()\n",
    "# Increase dpi\n",
    "mpl.rcParams['figure.dpi'] = 110"
   ]
  },
  {
   "cell_type": "markdown",
   "metadata": {},
   "source": [
    "### $\\LaTeX$ macros\n",
    "$\\newcommand{kpon}{k^{(p)}_{\\text{on}}}$\n",
    "$\\newcommand{kpoff}{k^{(p)}_{\\text{off}}}$\n",
    "$\\newcommand{kron}{k^{(r)}_{\\text{on}}}$\n",
    "$\\newcommand{kroff}{k^{(r)}_{\\text{off}}}$\n",
    "$\\newcommand{rm}{r _m}$\n",
    "$\\newcommand{gm}{\\gamma _m}$\n",
    "$\\newcommand{rp}{r _p}$\n",
    "$\\newcommand{gp}{\\gamma _p}$\n",
    "$\\newcommand{mm}{\\left\\langle m \\right\\rangle}$\n",
    "$\\newcommand{ee}[1]{\\left\\langle #1 \\right\\rangle}$\n",
    "$\\newcommand{bb}[1]{\\mathbf{#1}}$\n",
    "$\\newcommand{foldchange}{\\text{fold-change}}$\n",
    "$\\newcommand{\\ee}[1]{\\left\\langle #1 \\right\\rangle}$\n",
    "$\\newcommand{\\bb}[1]{\\mathbf{#1}}$\n",
    "$\\newcommand{\\dt}[1]{{\\partial{#1} \\over \\partial t}}$\n",
    "$\\newcommand{\\Km}{\\bb{K}}$\n",
    "$\\newcommand{\\Rm}{\\bb{R}_m}$\n",
    "$\\newcommand{\\Gm}{\\bb{\\Gamma}_m}$\n",
    "$\\newcommand{\\Rp}{\\bb{R}_p}$\n",
    "$\\newcommand{\\Gp}{\\bb{\\Gamma}_p}$\n",
    "$\\newcommand{\\Var}{\\text{Var}}$\n",
    "$\\newcommand{\\std}{\\text{STD}}$"
   ]
  },
  {
   "cell_type": "markdown",
   "metadata": {},
   "source": [
    "## Experimental noise in the data and information loss"
   ]
  },
  {
   "cell_type": "markdown",
   "metadata": {},
   "source": [
    "The objective of this notebook will be to explore the possible sources of experimental noise when determining the single-cell distributions. Our theoretical model predicts the protein distribution $P(p)$, but in reality what we get to observe is not this quantity, but an indirect redout given by a number of electrons that the photomultiplier in the microscope camera emits given a certain number of photons. That means we have a Markov chain of the form\n",
    "$$\n",
    "c \\rightarrow p \\rightarrow \\nu,\n",
    "$$\n",
    "where $c$ is the environmental concentration of the inducer, $p$ is the protein copy number and $\\nu$ is the intensity readout from the microscope. The data processing inequality tells us that for this chain it must be the case that\n",
    "$$\n",
    "I(c; \\nu) \\leq I(c; p),\n",
    "$$\n",
    "in other words, as we have more and more steps in the chain we can only lose information about the input.\n",
    "\n",
    "So far our theoretical model overestimates the channel capacity that cells can process compared to the experimental determination of this quantity. More fundamentally we see that the single-cell intensity data that we obtain from microscopy has a higher noise compared with the theoretical predictions. Here we will try to model sources of experimental noise to see if we can explain the discrepancy between theory and data. Our first attempt will be to model a Poisson distributed amount of photons from each fluorophore."
   ]
  },
  {
   "cell_type": "markdown",
   "metadata": {},
   "source": [
    "### Poisson emission of photons"
   ]
  },
  {
   "cell_type": "markdown",
   "metadata": {},
   "source": [
    "The protein that we are indirectly measuring in the microscope is a YFP molecule that upon some wavelength excitation it emits an unknown number of photons $\\nu$. That means that the quantity we get to observe experimentally - ignoring for now the downstream conversion into electrons by the photomultiplier - is not the protein number but certain photon count.\n",
    "\n",
    "If we assume each protein emits on average $\\lambda$ photons, we have that for a single protein the number of photons $\\nu$ is distributed as\n",
    "$$\n",
    "P(\\nu) = {\\lambda^\\nu e^{- \\lambda} \\over \\nu!},\n",
    "$$\n",
    "i.e. a Poission distribution. So for a given protein copy number $p$ the probability of observing $\\nu$ photons is given by\n",
    "$$\n",
    "P(\\nu \\mid p) = {(p\\lambda)^\\nu e^{- p\\lambda} \\over \\nu!},\n",
    "$$\n",
    "since the sum of i.i.d. Poisson distributed random variables with mean $\\lambda$ is also poisson with the mean multiplied by the number of random variables added. Therefore for a given readout $\\nu$ we have to marginalize over all possible protein values, i.e.\n",
    "$$\n",
    "P(\\nu) = \\sum_{p=0}^{\\infty} P(\\nu \\mid p) P(p),\n",
    "$$\n",
    "where $P(p)$ is the theoretical distribtion of protein.\n",
    "\n",
    "The mean photon emission in this model is then computed as\n",
    "$$\n",
    "\\ee{\\nu} = \\sum_{\\nu = 0}^\\infty \\nu P(\\nu).\n",
    "$$\n",
    "Substituting the defitino of $P(\\nu)$ gives\n",
    "$$\n",
    "\\ee{\\nu} = \\sum_{\\nu = 0}^\\infty \\nu \\sum_{p=0}^{\\infty} P(\\nu \\mid p) P(p).\n",
    "$$\n",
    "Rearranging the sums results in\n",
    "$$\n",
    "\\ee{\\nu} = \\sum_{p = 0}^\\infty P(p)\n",
    "\\underbrace{\\sum_{\\nu = 0}^\\infty \\nu P(\\nu \\mid p)}_{\\lambda p}.\n",
    "$$\n",
    "As shown in the underbrace we notice that this is the mean photon emission by $p$ proteins. This then results in\n",
    "$$\n",
    "\\ee{\\nu} = \\lambda \\sum_{p = 0}^\\infty p P(p)\n",
    "= \\lambda \\ee{p}\n",
    "$$\n",
    "This result makes sense. The mean number of photons emitted is equal to the mean number of protein $\\ee{p}$ times the mean photon count per protein $\\lambda$."
   ]
  },
  {
   "cell_type": "markdown",
   "metadata": {},
   "source": [
    "To compute the variance in photon emission we first need to compute the second moment $\\ee{\\nu^2}$. This is computed as\n",
    "$$\n",
    "\\ee{\\nu^2} = \\sum_{p = 0}^\\infty P(p)\n",
    "\\underbrace{\\sum_{\\nu = 0}^\\infty \\nu^2 P(\\nu \\mid p)}_{\\lambda p + (\\lambda p)^2}.\n",
    "$$\n",
    "Again we noticed that the term with the underbrace is nothing but the second moment of a Poisson distribution. Substituting this results in\n",
    "$$\n",
    "\\ee{\\nu^2} = \\sum_{p = 0}^\\infty P(p)\\left( \\lambda p + (\\lambda p)^2 \\right)\n",
    "= \\lambda \\ee{p} + \\lambda^2 \\ee{p^2}.\n",
    "$$"
   ]
  },
  {
   "cell_type": "markdown",
   "metadata": {},
   "source": [
    "With these two results we can compute the variance in photon count $\\Var(\\nu)$ as\n",
    "$$\n",
    "\\Var(\\nu) = \\ee{\\left( \\nu - \\ee{\\nu} \\right)^2} =\n",
    "\\ee{\\nu^2} - \\ee{\\nu}^2.\n",
    "$$\n",
    "Substituting the two moments we obtained result in\n",
    "$$\n",
    "\\Var(\\nu) = \\lambda \\ee{p} + \\lambda^2 \\ee{p^2} - \n",
    "\\left( \\lambda \\ee{p} \\right)^2.\n",
    "$$\n",
    "Rearranging terms we obtain\n",
    "$$\n",
    "\\Var(\\nu) = \\lambda \\ee{p} + \\lambda^2 \\left( \\ee{p^2} - \\ee{p}^2 \\right)\n",
    "= \\lambda \\ee{p} + \\lambda^2 \\Var(p).\n",
    "$$"
   ]
  },
  {
   "cell_type": "markdown",
   "metadata": {},
   "source": [
    "This is an interesting result. What this shows is that the variance of the number of photons is proportional to the variance on the number of proteins plus an extra linear term that depends on the mean. So there is a larger variance given the Poisson nature of the photon emission that we are assuming.\n",
    "\n",
    "If we now compute the noise (STD / mean) we obtain\n",
    "$$\n",
    "\\text{noise} = {\\std(\\nu) \\over \\ee{\\nu}} =\n",
    "{\\sqrt{\\lambda \\ee{p} + \\lambda^2 \\Var(p)} \\over \\lambda \\ee{p}}\n",
    "$$"
   ]
  },
  {
   "cell_type": "code",
   "execution_count": null,
   "metadata": {},
   "outputs": [],
   "source": []
  }
 ],
 "metadata": {
  "kernelspec": {
   "display_name": "Python 3",
   "language": "python",
   "name": "python3"
  },
  "language_info": {
   "codemirror_mode": {
    "name": "ipython",
    "version": 3
   },
   "file_extension": ".py",
   "mimetype": "text/x-python",
   "name": "python",
   "nbconvert_exporter": "python",
   "pygments_lexer": "ipython3",
   "version": "3.6.8"
  }
 },
 "nbformat": 4,
 "nbformat_minor": 2
}
