{
 "cells": [
  {
   "cell_type": "markdown",
   "metadata": {},
   "source": [
    "# Poission-Gaussian noise"
   ]
  },
  {
   "cell_type": "markdown",
   "metadata": {},
   "source": [
    "(c) 2019 Manuel Razo. This work is licensed under a [Creative Commons Attribution License CC-BY 4.0](https://creativecommons.org/licenses/by/4.0/). All code contained herein is licensed under an [MIT license](https://opensource.org/licenses/MIT). \n",
    "\n",
    "---"
   ]
  },
  {
   "cell_type": "code",
   "execution_count": 1,
   "metadata": {},
   "outputs": [],
   "source": [
    "import os\n",
    "import pickle\n",
    "import glob\n",
    "import cloudpickle\n",
    "import git\n",
    "import numpy as np\n",
    "import pandas as pd\n",
    "\n",
    "# To compute symbolic expressions\n",
    "import sympy\n",
    "sympy.init_printing(use_unicode=True, use_latex=True) # print outputs in LaTeX\n",
    "\n",
    "# Import matplotlib stuff for plotting\n",
    "import matplotlib.pyplot as plt\n",
    "import matplotlib.cm as cm\n",
    "import matplotlib as mpl\n",
    "# Seaborn, useful for graphics\n",
    "import seaborn as sns\n",
    "\n",
    "# Import the project utils\n",
    "import ccutils\n",
    "\n",
    "# This enables high resolution graphics inline\n",
    "%config InlineBackend.figure_format = 'retina'\n",
    "\n",
    "# Find home directory for repo\n",
    "repo = git.Repo(\"./\", search_parent_directories=True)\n",
    "homedir = repo.working_dir\n",
    "\n",
    "tmpdir = f'{homedir}/tmp/'\n",
    "figdir = f'{homedir}/fig/moment_dynamics_numeric/'\n",
    "datadir = f'{homedir}/data/csv_maxEnt_dist/'"
   ]
  },
  {
   "cell_type": "code",
   "execution_count": 2,
   "metadata": {},
   "outputs": [],
   "source": [
    "# Set PBoC plotting format\n",
    "ccutils.viz.set_plotting_style()\n",
    "# Increase dpi\n",
    "mpl.rcParams['figure.dpi'] = 110"
   ]
  },
  {
   "cell_type": "markdown",
   "metadata": {},
   "source": [
    "### $\\LaTeX$ macros\n",
    "$\\newcommand{kpon}{k^{(p)}_{\\text{on}}}$\n",
    "$\\newcommand{kpoff}{k^{(p)}_{\\text{off}}}$\n",
    "$\\newcommand{kron}{k^{(r)}_{\\text{on}}}$\n",
    "$\\newcommand{kroff}{k^{(r)}_{\\text{off}}}$\n",
    "$\\newcommand{rm}{r _m}$\n",
    "$\\newcommand{gm}{\\gamma _m}$\n",
    "$\\newcommand{ee}[1]{\\left\\langle #1 \\right\\rangle}$\n",
    "$\\newcommand{bb}[1]{\\mathbf{#1}}$\n",
    "$\\newcommand{th}[1]{{#1}^{\\text{th}}}$\n",
    "$\\newcommand{dt}[1]{{\\partial{#1} \\over \\partial t}}$\n",
    "$\\newcommand{Km}{\\bb{K}}$\n",
    "$\\newcommand{Rm}{\\bb{R}_m}$\n",
    "$\\newcommand{Re}{\\bb{R}_m'}$\n",
    "$\\newcommand{Gm}{\\bb{\\Gamma}_m}$\n",
    "$\\newcommand{Rp}{\\bb{R}_p}$\n",
    "$\\newcommand{Gp}{\\bb{\\Gamma}_p}$"
   ]
  },
  {
   "cell_type": "markdown",
   "metadata": {},
   "source": [
    "## Poisson-Gaussian noise for microscopy"
   ]
  },
  {
   "cell_type": "markdown",
   "metadata": {},
   "source": [
    "In this notebook we will explore a probabilistic model to account for the experimental noise in the images we obtained with fluorescent microscopy. Specifically we will explore a mixture model known as the Poission-Gaussian model. This is a common model in the literature used to account for three types of noise:\n",
    "1. Dark noise: Electronic noise in the reader due to thermal noise.\n",
    "2. Shot noise: Randomness in the number of detected photons sensed at a given exposure level.\n",
    "3. Readout noise: Noise generated during the conversion of charges into voltages.\n",
    "In this model a readout $\\nu$ is given by\n",
    "$$\n",
    "\\nu = \\alpha x + n,\n",
    "$$\n",
    "where $x \\sim \\text{Poisson}(\\lambda)$ is a Poisson random variable, $\\alpha$ is a gain constant that sets how much the shot noise affects the measurements, and $n \\sim \\mathcal{N}(0, \\sigma^2)$ is a normally distributed random variable that accounts for the readout noise. In this sense a given readout $\\nu$ has a probability\n",
    "$$\n",
    "P(\\nu) = \\sum_{x=0}^\\infty P(\\nu \\mid x) P(x),\n",
    "$$\n",
    "where $P(x)$ is the Poisson probability mass function, i.e.\n",
    "$$\n",
    "P(x) = {\\lambda^x e^{-\\lambda} \\over x!},\n",
    "$$\n",
    "and $P(\\nu \\mid x)$ is the Gaussian probability density function, i.e.\n",
    "$$\n",
    "P(\\nu \\mid x) = {1 \\over \\sqrt{2 \\pi \\sigma^2}} \n",
    "                e^{-{(\\nu - \\alpha x)^2 \\over 2 \\sigma^2}}.\n",
    "$$\n",
    "\n",
    "Putting this together then results in\n",
    "$$\n",
    "P(\\nu) = \\sum_{x=0}^\\infty \n",
    "    {\\lambda^x e^{-\\lambda} \\over x!}\n",
    "    {1 \\over \\sqrt{2 \\pi \\sigma^2}} \n",
    "                e^{-{(\\nu - \\alpha x)^2 \\over 2 \\sigma^2}}.\n",
    "$$"
   ]
  },
  {
   "cell_type": "markdown",
   "metadata": {},
   "source": [
    "### Applying this noise model to single-cell reads."
   ]
  },
  {
   "cell_type": "markdown",
   "metadata": {},
   "source": [
    "For our particular case in which we determine the intensity of a single-cell we will assume that the intensity we measure $\\nu$ depends on the number of proteins in the cell, such that for a given readout we have\n",
    "$$\n",
    "P(\\nu) = \\sum_{p = 0}^\\infty P(\\nu \\mid p)P(p),\n",
    "$$\n",
    "where we take the sum over all possible protein copy numbers. If we include the Poisson-Gaussian noise we just covered, then this becomes\n",
    "$$\n",
    "P(\\nu) = \\sum_{p = 0}^\\infty \\sum_{x=0}^\\infty \n",
    "         P(\\nu \\mid x, p) P(x \\mid p) P(p),\n",
    "$$\n",
    "where we now condition the shot noise on the number of proteins $P(x \\mid p)$."
   ]
  },
  {
   "cell_type": "markdown",
   "metadata": {},
   "source": [
    "## Computing the moments of the Poission-Gaussian distribution"
   ]
  },
  {
   "cell_type": "markdown",
   "metadata": {},
   "source": [
    "The objective of this notebook is to systematically compute the moment sof the distribution using `sympy`'s engine in order to handle the messy algebra. At the end of the day we want to explore if this model can explain the discrepancy that we see at the level of the noise (std/mean) and skewness of gene expression.\n",
    "\n",
    "We will not ask `sympy` to compute the sums and obtain the moments themselves since that would take a lot of effort. We will simply use our knowledge of the distribution moments and just use sympy to simplify things.\n",
    "\n",
    "Let's define the necessary variables"
   ]
  },
  {
   "cell_type": "code",
   "execution_count": 3,
   "metadata": {},
   "outputs": [
    {
     "data": {
      "image/png": "[encoded data removed]",
      "text/latex": [
       "$\\displaystyle \\left( \\nu, \\  x, \\  \\alpha, \\  \\sigma^2, \\  \\lambda, \\  \\left\\langle p \\right\\rangle, \\  \\left\\langle p^2 \\right\\rangle, \\  \\left\\langle p^3 \\right\\rangle, \\  \\left\\langle \\nu \\right\\rangle, \\  \\left\\langle \\nu^2 \\right\\rangle, \\  \\left\\langle \\nu^3 \\right\\rangle\\right)$"
      ],
      "text/plain": [
       "(\\nu, x, \\alpha, \\sigma², \\lambda, \\left\\langle p \\right\\rangle, \\left\\langle \n",
       "p__2 \\right\\rangle, \\left\\langle p__3 \\right\\rangle, \\left\\langle \\nu \\right\\r\n",
       "angle, \\left\\langle \\nu__2 \\right\\rangle, \\left\\langle \\nu__3 \\right\\rangle)"
      ]
     },
     "execution_count": 3,
     "metadata": {},
     "output_type": "execute_result"
    }
   ],
   "source": [
    "# Define variables\n",
    "nu, x, = sympy.symbols('\\\\nu x')\n",
    "# Define parameters\n",
    "alpha, sigma_2, lam = sympy.symbols('\\\\alpha \\\\sigma^2 \\\\lambda')\n",
    "# Define protein moments\n",
    "p1 = sympy.Symbol('\\\\left\\\\langle p \\\\right\\\\rangle')\n",
    "p2 = sympy.Symbol('\\\\left\\\\langle p^2 \\\\right\\\\rangle')\n",
    "p3 = sympy.Symbol('\\\\left\\\\langle p^3 \\\\right\\\\rangle')\n",
    "\n",
    "n1 = sympy.Symbol('\\\\left\\\\langle \\\\nu \\\\right\\\\rangle')\n",
    "n2 = sympy.Symbol('\\\\left\\\\langle \\\\nu^2 \\\\right\\\\rangle')\n",
    "n3 = sympy.Symbol('\\\\left\\\\langle \\\\nu^3 \\\\right\\\\rangle')\n",
    "\n",
    "\n",
    "nu, x, alpha, sigma_2, lam, p1, p2, p3, n1, n2, n3"
   ]
  },
  {
   "cell_type": "markdown",
   "metadata": {},
   "source": [
    "#### Mean $\\ee{\\nu}$"
   ]
  },
  {
   "cell_type": "markdown",
   "metadata": {},
   "source": [
    "To compute the first moment we have\n",
    "$$\n",
    "\\ee{\\nu} = \\int_{-\\infty}^{\\infty} d\\nu \\; \\nu P(\\nu).\n",
    "$$\n",
    "Substituting $P(\\nu)$ gives\n",
    "$$\n",
    "\\ee{\\nu} =\n",
    "\\int_{-\\infty}^{\\infty} d\\nu \\; \\nu\n",
    "\\sum_{p = 0}^\\infty \\sum_{x=0}^\\infty \n",
    "P(\\nu \\mid x, p) P(x \\mid p) P(p).\n",
    "$$\n",
    "By rearranging the sums and the integral we can write\n",
    "$$\n",
    "\\ee{\\nu} =\n",
    "\\sum_{p = 0}^\\infty P(p)\n",
    "\\sum_{x = 0}^\\infty P(x \\mid p)\n",
    "\\int_{-\\infty}^{\\infty} d\\nu \\; \\nu P(\\nu \\mid x, p).\n",
    "$$\n",
    "The term inside the integral is the expected value $\\ee{\\nu \\mid x, p}$ which given our definition of this conditional distribution is the mean \n",
    "$$\n",
    "\\int_{-\\infty}^{\\infty} d\\nu \\; \\nu P(\\nu \\mid x, p) = \\alpha x.\n",
    "$$"
   ]
  },
  {
   "cell_type": "markdown",
   "metadata": {},
   "source": [
    "Substituting this result gives\n",
    "$$\n",
    "\\ee{\\nu} =\n",
    "\\sum_{p = 0}^\\infty P(p)\n",
    "\\sum_{x = 0}^\\infty P(x \\mid p)\n",
    "\\; \\alpha x\n",
    "$$\n",
    "The internal sum is again the expected value $\\ee{x \\mid p} = \\lambda p$ given that we have $p$ proteins that emit on average $\\lambda$ photons. Using again this result gives\n",
    "$$\n",
    "\\ee{\\nu} =\n",
    "\\sum_{p = 0}^\\infty P(p)\n",
    "\\; \\alpha \\lambda p.\n",
    "$$\n",
    "Finally this sum is just the expected value of the number of proteins. Therefore we have that the mean intensity $\\ee{\\nu}$ is of the form\n",
    "$$\n",
    "\\ee{\\nu} = \\alpha \\lambda \\ee{p}.\n",
    "$$"
   ]
  },
  {
   "cell_type": "markdown",
   "metadata": {},
   "source": [
    "Let's define this mean in `sympy`."
   ]
  },
  {
   "cell_type": "code",
   "execution_count": 4,
   "metadata": {},
   "outputs": [
    {
     "data": {
      "image/png": "[encoded data removed]",
      "text/latex": [
       "$\\displaystyle \\left\\langle \\nu \\right\\rangle = \\alpha \\lambda \\left\\langle p \\right\\rangle$"
      ],
      "text/plain": [
       "\\left\\langle \\nu \\right\\rangle = \\alpha⋅\\lambda⋅\\left\\langle p \\right\\rangle"
      ]
     },
     "execution_count": 4,
     "metadata": {},
     "output_type": "execute_result"
    }
   ],
   "source": [
    "nu_first = alpha * lam * p1\n",
    "sympy.Eq(n1, nu_first)"
   ]
  },
  {
   "cell_type": "markdown",
   "metadata": {},
   "source": [
    "#### Second moment $\\ee{\\nu^2}$"
   ]
  },
  {
   "cell_type": "markdown",
   "metadata": {},
   "source": [
    "For the second moment we can follow a similar procedure. First we define the integral we need to compute\n",
    "$$\n",
    "\\ee{\\nu^2} = \\int_{-\\infty}^{\\infty} d\\nu \\; \\nu^2 P(\\nu).\n",
    "$$\n",
    "Substituting $P(\\nu)$ gives\n",
    "$$\n",
    "\\ee{\\nu^2} =\n",
    "\\int_{-\\infty}^{\\infty} d\\nu \\; \\nu^2\n",
    "\\sum_{p = 0}^\\infty \\sum_{x=0}^\\infty \n",
    "P(\\nu \\mid x, p) P(x \\mid p) P(p).\n",
    "$$\n",
    "By rearranging the sums and the integral we can write\n",
    "$$\n",
    "\\ee{\\nu^2} =\n",
    "\\sum_{p = 0}^\\infty P(p)\n",
    "\\sum_{x = 0}^\\infty P(x \\mid p)\n",
    "\\int_{-\\infty}^{\\infty} d\\nu \\; \\nu^2 P(\\nu \\mid x, p).\n",
    "$$\n",
    "The term inside the integral is the expected value $\\ee{\\nu^2 \\mid x, p}$ which given our definition of this conditional distribution is the variance + mean squared,\n",
    "$$\n",
    "\\int_{-\\infty}^{\\infty} d\\nu \\; \\nu^2 P(\\nu \\mid x, p) = \n",
    "\\sigma^2 + (\\alpha x)^2.\n",
    "$$"
   ]
  },
  {
   "cell_type": "markdown",
   "metadata": {},
   "source": [
    "Substituting this result gives\n",
    "$$\n",
    "\\ee{\\nu^2} =\n",
    "\\sum_{p = 0}^\\infty P(p)\n",
    "\\sum_{x = 0}^\\infty P(x \\mid p)\n",
    "\\; \\sigma^2 + \\alpha^2 x^2\n",
    "$$\n",
    "Distributing the internal sum results in\n",
    "$$\n",
    "\\ee{\\nu^2} =\n",
    "\\sum_{p = 0}^\\infty P(p)\n",
    "\\left[\n",
    "\\sigma^2 \\sum_{x=0}^\\infty P(x \\mid p) + \n",
    "\\alpha^2 \\sum_{x=0}^\\infty x^2 P(x \\mid p)\n",
    "\\right].\n",
    "$$\n",
    "The first sum inside the brackets is just the normalization, i.e.\n",
    "$$\n",
    "\\sum_{x=0}^\\infty P(x \\mid p) = 1.\n",
    "$$\n",
    "The second sum is the 2nd moment of a Poisson distribution. This can be sown to be equal to $(\\lambda p)^2 + \\lambda p$. So we have\n",
    "$$\n",
    "\\sum_{x=0}^\\infty x^2 P(x \\mid p) = (\\lambda p)^2 + \\lambda p.\n",
    "$$\n",
    "Substituting these results gives\n",
    "$$\n",
    "\\ee{\\nu^2} =\n",
    "\\sum_{p = 0}^\\infty P(p)\n",
    "\\left[\n",
    "\\sigma^2 + \n",
    "\\alpha^2 \\lambda^2 p^2 + \\alpha^2 \\lambda p\n",
    "\\right].\n",
    "$$"
   ]
  },
  {
   "cell_type": "markdown",
   "metadata": {},
   "source": [
    "Taking the sum over all values of $p$ results in\n",
    "$$\n",
    "\\ee{\\nu^2} = \\sigma^2 + \n",
    "\\alpha^2 \\lambda^2 \\ee{p^2} + \n",
    "\\alpha^2 \\lambda \\ee{p}.\n",
    "$$\n",
    "Let's define this in sympy."
   ]
  },
  {
   "cell_type": "code",
   "execution_count": 5,
   "metadata": {},
   "outputs": [
    {
     "data": {
      "image/png": "[encoded data removed]",
      "text/latex": [
       "$\\displaystyle \\left\\langle \\nu^2 \\right\\rangle = \\alpha^{2} \\lambda^{2} \\left\\langle p^2 \\right\\rangle + \\alpha^{2} \\lambda \\left\\langle p \\right\\rangle + \\sigma^2$"
      ],
      "text/plain": [
       "                                          2        2                          \n",
       "\\left\\langle \\nu__2 \\right\\rangle = \\alpha ⋅\\lambda ⋅\\left\\langle p__2 \\right\\\n",
       "\n",
       "               2                                               \n",
       "rangle + \\alpha ⋅\\lambda⋅\\left\\langle p \\right\\rangle + \\sigma²"
      ]
     },
     "execution_count": 5,
     "metadata": {},
     "output_type": "execute_result"
    }
   ],
   "source": [
    "# Define second moment\n",
    "nu_second = sigma_2 + alpha**2 * lam**2 * p2 + alpha**2 * lam * p1\n",
    "sympy.Eq(n2, nu_second)"
   ]
  },
  {
   "cell_type": "markdown",
   "metadata": {},
   "source": [
    "The variance is then given by"
   ]
  },
  {
   "cell_type": "code",
   "execution_count": 6,
   "metadata": {},
   "outputs": [
    {
     "data": {
      "image/png": "[encoded data removed]",
      "text/latex": [
       "$\\displaystyle - \\left\\langle \\nu \\right\\rangle^{2} + \\left\\langle \\nu^2 \\right\\rangle = - \\alpha^{2} \\lambda^{2} \\left\\langle p \\right\\rangle^{2} + \\alpha^{2} \\lambda^{2} \\left\\langle p^2 \\right\\rangle + \\alpha^{2} \\lambda \\left\\langle p \\right\\rangle + \\sigma^2$"
      ],
      "text/plain": [
       "                                2                                             \n",
       "- \\left\\langle \\nu \\right\\rangle  + \\left\\langle \\nu__2 \\right\\rangle = - \\alp\n",
       "\n",
       "  2        2                             2         2        2                 \n",
       "ha ⋅\\lambda ⋅\\left\\langle p \\right\\rangle  + \\alpha ⋅\\lambda ⋅\\left\\langle p__\n",
       "\n",
       "                        2                                               \n",
       "2 \\right\\rangle + \\alpha ⋅\\lambda⋅\\left\\langle p \\right\\rangle + \\sigma²"
      ]
     },
     "execution_count": 6,
     "metadata": {},
     "output_type": "execute_result"
    }
   ],
   "source": [
    "# Compute variance\n",
    "nu_var = nu_second - nu_first**2\n",
    "sympy.Eq(n2 - n1**2, nu_var.simplify())"
   ]
  },
  {
   "cell_type": "markdown",
   "metadata": {},
   "source": [
    "And the noise squared (var / mean$^2$) takes the form"
   ]
  },
  {
   "cell_type": "code",
   "execution_count": 7,
   "metadata": {},
   "outputs": [
    {
     "data": {
      "image/png": "[encoded data removed]",
      "text/latex": [
       "$\\displaystyle \\frac{- \\left\\langle \\nu \\right\\rangle^{2} + \\left\\langle \\nu^2 \\right\\rangle}{\\left\\langle \\nu \\right\\rangle^{2}} = -1 + \\frac{\\left\\langle p^2 \\right\\rangle}{\\left\\langle p \\right\\rangle^{2}} + \\frac{1}{\\lambda \\left\\langle p \\right\\rangle} + \\frac{\\sigma^2}{\\alpha^{2} \\lambda^{2} \\left\\langle p \\right\\rangle^{2}}$"
      ],
      "text/plain": [
       "                                2                                             \n",
       "- \\left\\langle \\nu \\right\\rangle  + \\left\\langle \\nu__2 \\right\\rangle        \\\n",
       "───────────────────────────────────────────────────────────────────── = -1 + ─\n",
       "                                                 2                            \n",
       "                   \\left\\langle \\nu \\right\\rangle                             \n",
       "\n",
       "                                                                              \n",
       "left\\langle p__2 \\right\\rangle                    1                           \n",
       "────────────────────────────── + ──────────────────────────────────── + ──────\n",
       "                            2    \\lambda⋅\\left\\langle p \\right\\rangle         \n",
       "\\left\\langle p \\right\\rangle                                            \\alpha\n",
       "\n",
       "                                        \n",
       "             \\sigma²                    \n",
       "────────────────────────────────────────\n",
       "2        2                             2\n",
       " ⋅\\lambda ⋅\\left\\langle p \\right\\rangle "
      ]
     },
     "execution_count": 7,
     "metadata": {},
     "output_type": "execute_result"
    }
   ],
   "source": [
    "nu_noise_2 = nu_var / nu_first**2\n",
    "sympy.Eq((n2 - n1**2) / n1**2, nu_noise_2.simplify())"
   ]
  },
  {
   "cell_type": "markdown",
   "metadata": {},
   "source": [
    "For our expected range of $\\lambda$ and $\\ee{p}$ we can assume that the third term in the sum can be neglected. This then results"
   ]
  },
  {
   "cell_type": "code",
   "execution_count": 8,
   "metadata": {},
   "outputs": [
    {
     "data": {
      "image/png": "[encoded data removed]",
      "text/latex": [
       "$\\displaystyle \\frac{- \\left\\langle \\nu \\right\\rangle^{2} + \\left\\langle \\nu^2 \\right\\rangle}{\\left\\langle \\nu \\right\\rangle^{2}} = -1 + \\frac{\\left\\langle p^2 \\right\\rangle}{\\left\\langle p \\right\\rangle^{2}} + \\frac{\\sigma^2}{\\alpha^{2} \\lambda^{2} \\left\\langle p \\right\\rangle^{2}}$"
      ],
      "text/plain": [
       "                                2                                             \n",
       "- \\left\\langle \\nu \\right\\rangle  + \\left\\langle \\nu__2 \\right\\rangle        \\\n",
       "───────────────────────────────────────────────────────────────────── = -1 + ─\n",
       "                                                 2                            \n",
       "                   \\left\\langle \\nu \\right\\rangle                             \n",
       "\n",
       "                                                                              \n",
       "left\\langle p__2 \\right\\rangle                      \\sigma²                   \n",
       "────────────────────────────── + ─────────────────────────────────────────────\n",
       "                            2          2        2                             \n",
       "\\left\\langle p \\right\\rangle     \\alpha ⋅\\lambda ⋅\\left\\langle p \\right\\rangle\n",
       "\n",
       " \n",
       " \n",
       "─\n",
       "2\n",
       " "
      ]
     },
     "execution_count": 8,
     "metadata": {},
     "output_type": "execute_result"
    }
   ],
   "source": [
    "args = nu_noise_2.simplify().args\n",
    "args = [x for i, x in enumerate(args) if i != 2]\n",
    "nu_noise_approx = sum(args)\n",
    "sympy.Eq((n2 - n1**2) / n1**2, nu_noise_approx)"
   ]
  },
  {
   "cell_type": "markdown",
   "metadata": {},
   "source": [
    "Experimentally we have determined that this noise is 3 times larger than what the theory predicts. Let's solve for the model parameters given this condition. First we set the equation."
   ]
  },
  {
   "cell_type": "code",
   "execution_count": 9,
   "metadata": {},
   "outputs": [
    {
     "data": {
      "image/png": "[encoded data removed]",
      "text/latex": [
       "$\\displaystyle -1 + \\frac{\\left\\langle p^2 \\right\\rangle}{\\left\\langle p \\right\\rangle^{2}} + \\frac{\\sigma^2}{\\alpha^{2} \\lambda^{2} \\left\\langle p \\right\\rangle^{2}} = \\frac{4 \\left(- \\left\\langle p \\right\\rangle^{2} + \\left\\langle p^2 \\right\\rangle\\right)}{\\left\\langle p \\right\\rangle^{2}}$"
      ],
      "text/plain": [
       "                                                                              \n",
       "     \\left\\langle p__2 \\right\\rangle                      \\sigma²             \n",
       "-1 + ─────────────────────────────── + ───────────────────────────────────────\n",
       "                                  2          2        2                       \n",
       "      \\left\\langle p \\right\\rangle     \\alpha ⋅\\lambda ⋅\\left\\langle p \\right\\\n",
       "\n",
       "            ⎛                              2                                  \n",
       "          4⋅⎝- \\left\\langle p \\right\\rangle  + \\left\\langle p__2 \\right\\rangle\n",
       "─────── = ────────────────────────────────────────────────────────────────────\n",
       "      2                                                   2                   \n",
       "rangle                        \\left\\langle p \\right\\rangle                    \n",
       "\n",
       "⎞\n",
       "⎠\n",
       "─\n",
       " \n",
       " "
      ]
     },
     "execution_count": 9,
     "metadata": {},
     "output_type": "execute_result"
    }
   ],
   "source": [
    "# Define theoretical noise\n",
    "p_noise_2 = (p2 - p1**2) / p1**2\n",
    "\n",
    "# Set equation\n",
    "noise_eq = sympy.Eq(nu_noise_approx, 4 * p_noise_2)\n",
    "noise_eq"
   ]
  },
  {
   "cell_type": "markdown",
   "metadata": {},
   "source": [
    "Now let's try to solve for the parameters $\\sigma^2 / \\alpha^2 \\lambda^2$"
   ]
  },
  {
   "cell_type": "code",
   "execution_count": 10,
   "metadata": {},
   "outputs": [
    {
     "data": {
      "image/png": "[encoded data removed]",
      "text/latex": [
       "$\\displaystyle \\frac{\\sigma^2}{\\alpha^{2} \\lambda^{2}} = - 3 \\left\\langle p \\right\\rangle^{2} + 3 \\left\\langle p^2 \\right\\rangle$"
      ],
      "text/plain": [
       "    \\sigma²                                        2                          \n",
       "──────────────── = - 3⋅\\left\\langle p \\right\\rangle  + 3⋅\\left\\langle p__2 \\ri\n",
       "      2        2                                                              \n",
       "\\alpha ⋅\\lambda                                                               \n",
       "\n",
       "          \n",
       "ght\\rangle\n",
       "          \n",
       "          "
      ]
     },
     "execution_count": 10,
     "metadata": {},
     "output_type": "execute_result"
    }
   ],
   "source": [
    "# Solve equation for parameters\n",
    "noise_sol = sympy.solve(noise_eq, sigma_2 / alpha**2 / lam**2)\n",
    "sympy.Eq(sigma_2 / (alpha**2 * lam**2), noise_sol[0])"
   ]
  },
  {
   "cell_type": "markdown",
   "metadata": {},
   "source": [
    "#### Third moment $\\ee{\\nu^3}$"
   ]
  },
  {
   "cell_type": "markdown",
   "metadata": {},
   "source": [
    "The third moment is the really tricky one algebraically. first just as with the previous moments we begin defining the integral to be computed.\n",
    "$$\n",
    "\\ee{\\nu^3} = \\int_{-\\infty}^{\\infty} d\\nu \\; \\nu^3 P(\\nu).\n",
    "$$\n",
    "Substituting $P(\\nu)$ gives\n",
    "$$\n",
    "\\ee{\\nu^3} =\n",
    "\\int_{-\\infty}^{\\infty} d\\nu \\; \\nu^3\n",
    "\\sum_{p = 0}^\\infty \\sum_{x=0}^\\infty \n",
    "P(\\nu \\mid x, p) P(x \\mid p) P(p).\n",
    "$$\n",
    "By rearranging the sums and the integral we can write\n",
    "$$\n",
    "\\ee{\\nu^3} =\n",
    "\\sum_{p = 0}^\\infty P(p)\n",
    "\\sum_{x = 0}^\\infty P(x \\mid p)\n",
    "\\int_{-\\infty}^{\\infty} d\\nu \\; \\nu^3 P(\\nu \\mid x, p).\n",
    "$$\n",
    "The term inside the integral is the expected value $\\ee{\\nu^3 \\mid x, p}$ which given our definition of this conditional distribution is of the form\n",
    "$$\n",
    "\\int_{-\\infty}^{\\infty} d\\nu \\; \\nu^3 P(\\nu \\mid x, p) = \n",
    "(\\alpha x)^3 + 3 (\\alpha x) \\sigma^2,\n",
    "$$\n",
    "i.e. the third moment of a Gaussian distribution."
   ]
  },
  {
   "cell_type": "markdown",
   "metadata": {},
   "source": [
    "Substituting this result gives\n",
    "$$\n",
    "\\ee{\\nu^3} =\n",
    "\\sum_{p = 0}^\\infty P(p)\n",
    "\\sum_{x = 0}^\\infty P(x \\mid p)\n",
    "\\left[\n",
    "\\; (\\alpha x)^3 + 3 (\\alpha x) \\sigma^2\n",
    "\\right]\n",
    "$$\n",
    "Distributing the internal sum results in\n",
    "$$\n",
    "\\ee{\\nu^3} =\n",
    "\\sum_{p = 0}^\\infty P(p)\n",
    "\\left[\n",
    "\\alpha^3 \\sum_{x=0}^\\infty x^3 P(x \\mid p) + \n",
    "3 \\alpha \\sigma^2 \\sum_{x=0}^\\infty x P(x \\mid p)\n",
    "\\right].\n",
    "$$\n",
    "The first sum inside the brackets is the third moment of a Poisson distribution given by\n",
    "$$\n",
    "\\sum_{x=0}^\\infty x^3 P(x \\mid p) = \n",
    "(\\lambda p)^3 + 3(\\lambda p)^2 + (\\lambda p).\n",
    "$$\n",
    "The second sum is the mean of a Poisson distribution. So we have\n",
    "$$\n",
    "\\sum_{x=0}^\\infty x P(x \\mid p) = \\lambda p.\n",
    "$$\n",
    "Substituting these results gives\n",
    "$$\n",
    "\\ee{\\nu^3} =\n",
    "\\sum_{p = 0}^\\infty P(p)\n",
    "\\left[\n",
    "\\alpha^3 \\left( (\\lambda p)^3 + 3(\\lambda p)^2 + (\\lambda p) \\right) +\n",
    "3 \\alpha \\sigma^2 \\left( \\lambda p \\right)\n",
    "\\right].\n",
    "$$\n",
    "Finally we take the sum over all values of $p$, obtaining\n",
    "$$\n",
    "\\ee{\\nu^3} =\n",
    "\\alpha^3 \n",
    "\\left( \n",
    "\\lambda^3 \\ee{p^3} + \n",
    "3 \\lambda^2 \\ee{p}^2 + \\lambda \\ee{p}\n",
    "\\right) +\n",
    "3 \\alpha \\sigma^2 \\lambda \\ee{p}.\n",
    "$$\n",
    "Let's define this in sympy."
   ]
  },
  {
   "cell_type": "code",
   "execution_count": 11,
   "metadata": {},
   "outputs": [
    {
     "data": {
      "image/png": "[encoded data removed]",
      "text/latex": [
       "$\\displaystyle \\left\\langle \\nu^3 \\right\\rangle = \\alpha^{3} \\left(\\lambda^{3} \\left\\langle p^3 \\right\\rangle + 3 \\lambda^{2} \\left\\langle p^2 \\right\\rangle + \\lambda \\left\\langle p \\right\\rangle\\right) + 3 \\alpha \\lambda \\left\\langle p \\right\\rangle \\sigma^2$"
      ],
      "text/plain": [
       "                                          3 ⎛       3                         \n",
       "\\left\\langle \\nu__3 \\right\\rangle = \\alpha ⋅⎝\\lambda ⋅\\left\\langle p__3 \\right\n",
       "\n",
       "                   2                                                          \n",
       "\\rangle + 3⋅\\lambda ⋅\\left\\langle p__2 \\right\\rangle + \\lambda⋅\\left\\langle p \n",
       "\n",
       "             ⎞                                                        \n",
       "\\right\\rangle⎠ + 3⋅\\alpha⋅\\lambda⋅\\left\\langle p \\right\\rangle⋅\\sigma²"
      ]
     },
     "execution_count": 11,
     "metadata": {},
     "output_type": "execute_result"
    }
   ],
   "source": [
    "nu_third = alpha**3 * (lam**3 * p3 + 3 * lam**2 * p2 + lam * p1) +\\\n",
    "           3 * alpha * sigma_2 * lam * p1\n",
    "sympy.Eq(n3, nu_third)"
   ]
  },
  {
   "cell_type": "markdown",
   "metadata": {},
   "source": [
    "With this in hand we can now compute the skewness of the distribution. The skewness $S(\\nu)$ defined in terms of other moments is given by\n",
    "$$\n",
    "S(\\nu) = {\\ee{\\nu ^3} - 3 \\ee{\\nu} \\text{Var}(\\nu) - \\ee{\\nu}^3 \\over\n",
    "          \\text{Var}(\\nu)^{3/2}}.\n",
    "$$\n",
    "Let's now compute this with `sympy`. This is the real reason we used this notebook because the algebra can get really messy."
   ]
  },
  {
   "cell_type": "code",
   "execution_count": 12,
   "metadata": {},
   "outputs": [
    {
     "data": {
      "image/png": "[encoded data removed]",
      "text/latex": [
       "$\\displaystyle \\frac{- \\alpha^{3} \\lambda^{3} \\left\\langle p \\right\\rangle^{3} + \\alpha^{3} \\left(\\lambda^{3} \\left\\langle p^3 \\right\\rangle + 3 \\lambda^{2} \\left\\langle p^2 \\right\\rangle + \\lambda \\left\\langle p \\right\\rangle\\right) + 3 \\alpha \\lambda \\left\\langle p \\right\\rangle \\sigma^2 - 3 \\alpha \\lambda \\left\\langle p \\right\\rangle \\left(- \\alpha^{2} \\lambda^{2} \\left\\langle p \\right\\rangle^{2} + \\alpha^{2} \\lambda^{2} \\left\\langle p^2 \\right\\rangle + \\alpha^{2} \\lambda \\left\\langle p \\right\\rangle + \\sigma^2\\right)}{\\left(- \\alpha^{2} \\lambda^{2} \\left\\langle p \\right\\rangle^{2} + \\alpha^{2} \\lambda^{2} \\left\\langle p^2 \\right\\rangle + \\alpha^{2} \\lambda \\left\\langle p \\right\\rangle + \\sigma^2\\right)^{\\frac{3}{2}}}$"
      ],
      "text/plain": [
       "        3        3                             3         3 ⎛       3          \n",
       "- \\alpha ⋅\\lambda ⋅\\left\\langle p \\right\\rangle  + \\alpha ⋅⎝\\lambda ⋅\\left\\lan\n",
       "──────────────────────────────────────────────────────────────────────────────\n",
       "                                                                              \n",
       "                                                                              \n",
       "                                                                              \n",
       "\n",
       "                                  2                                           \n",
       "gle p__3 \\right\\rangle + 3⋅\\lambda ⋅\\left\\langle p__2 \\right\\rangle + \\lambda⋅\n",
       "──────────────────────────────────────────────────────────────────────────────\n",
       "                                                                              \n",
       "                                                                 ⎛        2   \n",
       "                                                                 ⎝- \\alpha ⋅\\l\n",
       "\n",
       "                            ⎞                                                 \n",
       "\\left\\langle p \\right\\rangle⎠ + 3⋅\\alpha⋅\\lambda⋅\\left\\langle p \\right\\rangle⋅\n",
       "──────────────────────────────────────────────────────────────────────────────\n",
       "                                                                              \n",
       "     2                             2         2        2                       \n",
       "ambda ⋅\\left\\langle p \\right\\rangle  + \\alpha ⋅\\lambda ⋅\\left\\langle p__2 \\rig\n",
       "\n",
       "                                                        ⎛        2        2   \n",
       "\\sigma² - 3⋅\\alpha⋅\\lambda⋅\\left\\langle p \\right\\rangle⋅⎝- \\alpha ⋅\\lambda ⋅\\l\n",
       "──────────────────────────────────────────────────────────────────────────────\n",
       "                                                                   3/2        \n",
       "                  2                                               ⎞           \n",
       "ht\\rangle + \\alpha ⋅\\lambda⋅\\left\\langle p \\right\\rangle + \\sigma²⎠           \n",
       "\n",
       "                          2         2        2                                \n",
       "eft\\langle p \\right\\rangle  + \\alpha ⋅\\lambda ⋅\\left\\langle p__2 \\right\\rangle\n",
       "──────────────────────────────────────────────────────────────────────────────\n",
       "                                                                              \n",
       "                                                                              \n",
       "                                                                              \n",
       "\n",
       "         2                                               ⎞\n",
       " + \\alpha ⋅\\lambda⋅\\left\\langle p \\right\\rangle + \\sigma²⎠\n",
       "──────────────────────────────────────────────────────────\n",
       "                                                          \n",
       "                                                          \n",
       "                                                          "
      ]
     },
     "execution_count": 12,
     "metadata": {},
     "output_type": "execute_result"
    }
   ],
   "source": [
    "# Define skewness\n",
    "nu_skew = (nu_third - 3 * nu_first * nu_var - nu_first**3) / \\\n",
    "          nu_var**(sympy.Rational(3, 2))\n",
    "nu_skew"
   ]
  },
  {
   "cell_type": "markdown",
   "metadata": {},
   "source": [
    "Again by experimental evidence we know that this skewness is twice as large as the theoretical prediction. Let's see if we can infer anything from this."
   ]
  },
  {
   "cell_type": "code",
   "execution_count": 13,
   "metadata": {},
   "outputs": [
    {
     "data": {
      "image/png": "[encoded data removed]",
      "text/latex": [
       "$\\displaystyle \\frac{2 \\left(- \\left\\langle p \\right\\rangle^{3} + 3 \\left\\langle p \\right\\rangle \\left(\\left\\langle p \\right\\rangle^{2} - \\left\\langle p^2 \\right\\rangle\\right) + \\left\\langle p^3 \\right\\rangle\\right)}{\\left(- \\left\\langle p \\right\\rangle^{2} + \\left\\langle p^2 \\right\\rangle\\right)^{\\frac{3}{2}}} = \\frac{\\alpha \\lambda \\left(- \\alpha^{2} \\lambda^{2} \\left\\langle p \\right\\rangle^{3} + \\alpha^{2} \\left(\\lambda^{2} \\left\\langle p^3 \\right\\rangle + 3 \\lambda \\left\\langle p^2 \\right\\rangle + \\left\\langle p \\right\\rangle\\right) + 3 \\left\\langle p \\right\\rangle \\sigma^2 - 3 \\left\\langle p \\right\\rangle \\left(- \\alpha^{2} \\lambda^{2} \\left\\langle p \\right\\rangle^{2} + \\alpha^{2} \\lambda^{2} \\left\\langle p^2 \\right\\rangle + \\alpha^{2} \\lambda \\left\\langle p \\right\\rangle + \\sigma^2\\right)\\right)}{\\left(- \\alpha^{2} \\lambda^{2} \\left\\langle p \\right\\rangle^{2} + \\alpha^{2} \\lambda^{2} \\left\\langle p^2 \\right\\rangle + \\alpha^{2} \\lambda \\left\\langle p \\right\\rangle + \\sigma^2\\right)^{\\frac{3}{2}}}$"
      ],
      "text/plain": [
       "  ⎛                              3                                  ⎛         \n",
       "2⋅⎝- \\left\\langle p \\right\\rangle  + 3⋅\\left\\langle p \\right\\rangle⋅⎝\\left\\lan\n",
       "──────────────────────────────────────────────────────────────────────────────\n",
       "                                                                              \n",
       "                                                 ⎛                            \n",
       "                                                 ⎝- \\left\\langle p \\right\\rang\n",
       "\n",
       "                   2                                  ⎞                       \n",
       "gle p \\right\\rangle  - \\left\\langle p__2 \\right\\rangle⎠ + \\left\\langle p__3 \\r\n",
       "──────────────────────────────────────────────────────────────────────────────\n",
       "                                      3/2                                     \n",
       "  2                                  ⎞                                        \n",
       "le  + \\left\\langle p__2 \\right\\rangle⎠                                        \n",
       "\n",
       "           ⎞                  ⎛        2        2                             \n",
       "ight\\rangle⎠   \\alpha⋅\\lambda⋅⎝- \\alpha ⋅\\lambda ⋅\\left\\langle p \\right\\rangle\n",
       "──────────── = ───────────────────────────────────────────────────────────────\n",
       "                                                                              \n",
       "                                                                              \n",
       "                                                                              \n",
       "\n",
       "3         2 ⎛       2                                                         \n",
       "  + \\alpha ⋅⎝\\lambda ⋅\\left\\langle p__3 \\right\\rangle + 3⋅\\lambda⋅\\left\\langle\n",
       "──────────────────────────────────────────────────────────────────────────────\n",
       "                                                                              \n",
       "                                                                     ⎛        \n",
       "                                                                     ⎝- \\alpha\n",
       "\n",
       "                                                  ⎞                           \n",
       " p__2 \\right\\rangle + \\left\\langle p \\right\\rangle⎠ + 3⋅\\left\\langle p \\right\\\n",
       "──────────────────────────────────────────────────────────────────────────────\n",
       "                                                                              \n",
       "2        2                             2         2        2                   \n",
       " ⋅\\lambda ⋅\\left\\langle p \\right\\rangle  + \\alpha ⋅\\lambda ⋅\\left\\langle p__2 \n",
       "\n",
       "                                                ⎛        2        2           \n",
       "rangle⋅\\sigma² - 3⋅\\left\\langle p \\right\\rangle⋅⎝- \\alpha ⋅\\lambda ⋅\\left\\lang\n",
       "──────────────────────────────────────────────────────────────────────────────\n",
       "                                                                       3/2    \n",
       "                      2                                               ⎞       \n",
       "\\right\\rangle + \\alpha ⋅\\lambda⋅\\left\\langle p \\right\\rangle + \\sigma²⎠       \n",
       "\n",
       "                  2         2        2                                        \n",
       "le p \\right\\rangle  + \\alpha ⋅\\lambda ⋅\\left\\langle p__2 \\right\\rangle + \\alph\n",
       "──────────────────────────────────────────────────────────────────────────────\n",
       "                                                                              \n",
       "                                                                              \n",
       "                                                                              \n",
       "\n",
       " 2                                               ⎞⎞\n",
       "a ⋅\\lambda⋅\\left\\langle p \\right\\rangle + \\sigma²⎠⎠\n",
       "───────────────────────────────────────────────────\n",
       "                                                   \n",
       "                                                   \n",
       "                                                   "
      ]
     },
     "execution_count": 13,
     "metadata": {},
     "output_type": "execute_result"
    }
   ],
   "source": [
    "# Define protein skewness\n",
    "p_skew = (p3 - 3 * p1 * (p2 - p1**2) - p1**3) /\\\n",
    "         (p2 - p1**2)**(sympy.Rational(3, 2))\n",
    "          \n",
    "skew_eq = sympy.Eq(nu_skew, 2 * p_skew)\n",
    "skew_eq.simplify()"
   ]
  },
  {
   "cell_type": "markdown",
   "metadata": {},
   "source": [
    "There is nothing crystal clear here. Let's try a different approach"
   ]
  },
  {
   "cell_type": "markdown",
   "metadata": {},
   "source": [
    "## \"Experimental mathematics\" with moments"
   ]
  },
  {
   "cell_type": "markdown",
   "metadata": {},
   "source": [
    "From the realm of what we would call experimental mathematics we can see that our numerical integrations of the moment equations have an interesting relationship between the moments of the protein distribution. Specifically we can express both the second moment $\\ee{p^2}$ and the third moment $\\ee{p^3}$ as simple functions of the first moment. Specifically we can show that to a very good approximation\n",
    "$$\n",
    "\\ee{p^2} \\approx \\ee{p}^2 + m_{21},\n",
    "$$\n",
    "where $m_{21}$ is an intercept done when performing a linear regression between $\\ee{p}^2$ and $\\ee{p^2}$. The slope of this regression is really close to 1, that's why we approximate it to be 1. The same is true when performing a linear regression between $\\ee{p}^3$ and $\\ee{p^3}$, so we approximate this moment as\n",
    "$$\n",
    "\\ee{p^3} \\approx \\ee{p}^3 + m_{31},\n",
    "$$\n",
    "\n",
    "Using these substitutions let's see if we find something interesting. First let's look at the noise. For this we will substitute our previous results with these approximations for the moments."
   ]
  },
  {
   "cell_type": "code",
   "execution_count": 58,
   "metadata": {},
   "outputs": [
    {
     "data": {
      "image/png": "[encoded data removed]",
      "text/latex": [
       "$\\displaystyle \\frac{4 m_{21}}{\\left\\langle p \\right\\rangle^{2}} = \\frac{m_{21}}{\\left\\langle p \\right\\rangle^{2}} + \\frac{\\sigma^2}{\\alpha^{2} \\lambda^{2} \\left\\langle p \\right\\rangle^{2}}$"
      ],
      "text/plain": [
       "           4⋅m_{21}                         m_{21}                            \n",
       "───────────────────────────── = ───────────────────────────── + ──────────────\n",
       "                            2                               2         2       \n",
       "\\left\\langle p \\right\\rangle    \\left\\langle p \\right\\rangle    \\alpha ⋅\\lambd\n",
       "\n",
       "     \\sigma²                    \n",
       "────────────────────────────────\n",
       " 2                             2\n",
       "a ⋅\\left\\langle p \\right\\rangle "
      ]
     },
     "execution_count": 58,
     "metadata": {},
     "output_type": "execute_result"
    }
   ],
   "source": [
    "# Define linear regression variables\n",
    "m21, m31 = sympy.symbols('m_{21} m_{31}')\n",
    "\n",
    "nu_noise_subs = nu_noise_approx.subs(\n",
    "    {p2: p1**2 + m21, p3: p1**3 + m31}\n",
    ")\n",
    "p_noise_subs = p_noise_2.subs(\n",
    "    {p2: p1**2 + m21, p3: p1**3 + m31}\n",
    ")\n",
    "\n",
    "noise_eq = sympy.Eq(nu_noise_subs, 4 * p_noise_subs)\n",
    "noise_eq.simplify()"
   ]
  },
  {
   "cell_type": "markdown",
   "metadata": {},
   "source": [
    "Now we can solve for the parameters of our Poisson-Gaussian model"
   ]
  },
  {
   "cell_type": "code",
   "execution_count": 59,
   "metadata": {},
   "outputs": [
    {
     "data": {
      "image/png": "[encoded data removed]",
      "text/latex": [
       "$\\displaystyle \\frac{\\sigma^2}{\\alpha^{2} \\lambda^{2}} = 3 m_{21}$"
      ],
      "text/plain": [
       "    \\sigma²                \n",
       "──────────────── = 3⋅m_{21}\n",
       "      2        2           \n",
       "\\alpha ⋅\\lambda            "
      ]
     },
     "execution_count": 59,
     "metadata": {},
     "output_type": "execute_result"
    }
   ],
   "source": [
    "sympy.Eq(\n",
    "    sigma_2 / alpha**2 / lam**2,\n",
    "    sympy.solve(noise_eq, sigma_2 / alpha**2 / lam**2)[0]\n",
    "        )"
   ]
  },
  {
   "cell_type": "markdown",
   "metadata": {},
   "source": [
    "This is quite interesting. What this says is that in order to account for the factor of 4 difference in our noise squared (var / mean$^2$), a constant set of parameters equivalent to 3 times the intercept that relates $\\ee{p^2}$ and $\\ee{p}$ would solve the issue."
   ]
  },
  {
   "cell_type": "markdown",
   "metadata": {},
   "source": [
    "Let's repeat this with the skewness."
   ]
  },
  {
   "cell_type": "code",
   "execution_count": 61,
   "metadata": {},
   "outputs": [
    {
     "data": {
      "image/png": "[encoded data removed]",
      "text/latex": [
       "$\\displaystyle \\frac{- \\alpha^{3} \\lambda^{3} \\left\\langle p \\right\\rangle^{3} + \\alpha^{3} \\left(\\lambda^{3} \\left(\\left\\langle p \\right\\rangle^{3} + m_{31}\\right) + 3 \\lambda^{2} \\left(\\left\\langle p \\right\\rangle^{2} + m_{21}\\right) + \\lambda \\left\\langle p \\right\\rangle\\right) + 3 \\alpha \\lambda \\left\\langle p \\right\\rangle \\sigma^2 - 3 \\alpha \\lambda \\left\\langle p \\right\\rangle \\left(- \\alpha^{2} \\lambda^{2} \\left\\langle p \\right\\rangle^{2} + \\alpha^{2} \\lambda^{2} \\left(\\left\\langle p \\right\\rangle^{2} + m_{21}\\right) + \\alpha^{2} \\lambda \\left\\langle p \\right\\rangle + \\sigma^2\\right)}{\\left(- \\alpha^{2} \\lambda^{2} \\left\\langle p \\right\\rangle^{2} + \\alpha^{2} \\lambda^{2} \\left(\\left\\langle p \\right\\rangle^{2} + m_{21}\\right) + \\alpha^{2} \\lambda \\left\\langle p \\right\\rangle + \\sigma^2\\right)^{\\frac{3}{2}}} = \\frac{n \\left(- 3 \\left\\langle p \\right\\rangle m_{21} + m_{31}\\right)}{m_{21}^{\\frac{3}{2}}}$"
      ],
      "text/plain": [
       "        3        3                             3         3 ⎛       3 ⎛        \n",
       "- \\alpha ⋅\\lambda ⋅\\left\\langle p \\right\\rangle  + \\alpha ⋅⎝\\lambda ⋅⎝\\left\\la\n",
       "──────────────────────────────────────────────────────────────────────────────\n",
       "                                                                              \n",
       "                                                                              \n",
       "                                                                              \n",
       "\n",
       "                    3         ⎞            2 ⎛                            2   \n",
       "ngle p \\right\\rangle  + m_{31}⎠ + 3⋅\\lambda ⋅⎝\\left\\langle p \\right\\rangle  + \n",
       "──────────────────────────────────────────────────────────────────────────────\n",
       "                                                                              \n",
       "                                                                           ⎛  \n",
       "                                                                           ⎝- \n",
       "\n",
       "      ⎞                                       ⎞                               \n",
       "m_{21}⎠ + \\lambda⋅\\left\\langle p \\right\\rangle⎠ + 3⋅\\alpha⋅\\lambda⋅\\left\\langl\n",
       "──────────────────────────────────────────────────────────────────────────────\n",
       "                                                                              \n",
       "      2        2                             2         2        2 ⎛           \n",
       "\\alpha ⋅\\lambda ⋅\\left\\langle p \\right\\rangle  + \\alpha ⋅\\lambda ⋅⎝\\left\\langl\n",
       "\n",
       "                                                                          ⎛   \n",
       "e p \\right\\rangle⋅\\sigma² - 3⋅\\alpha⋅\\lambda⋅\\left\\langle p \\right\\rangle⋅⎝- \\\n",
       "──────────────────────────────────────────────────────────────────────────────\n",
       "                                                                              \n",
       "                 2         ⎞         2                                        \n",
       "e p \\right\\rangle  + m_{21}⎠ + \\alpha ⋅\\lambda⋅\\left\\langle p \\right\\rangle + \n",
       "\n",
       "     2        2                             2         2        2 ⎛            \n",
       "alpha ⋅\\lambda ⋅\\left\\langle p \\right\\rangle  + \\alpha ⋅\\lambda ⋅⎝\\left\\langle\n",
       "──────────────────────────────────────────────────────────────────────────────\n",
       "        3/2                                                                   \n",
       "       ⎞                                                                      \n",
       "\\sigma²⎠                                                                      \n",
       "\n",
       "                2         ⎞         2                                         \n",
       " p \\right\\rangle  + m_{21}⎠ + \\alpha ⋅\\lambda⋅\\left\\langle p \\right\\rangle + \\\n",
       "──────────────────────────────────────────────────────────────────────────────\n",
       "                                                                              \n",
       "                                                                              \n",
       "                                                                              \n",
       "\n",
       "      ⎞                                                      \n",
       "sigma²⎠   n⋅(-3⋅\\left\\langle p \\right\\rangle⋅m_{21} + m_{31})\n",
       "─────── = ───────────────────────────────────────────────────\n",
       "                                     3/2                     \n",
       "                               m_{21}                        \n",
       "                                                             "
      ]
     },
     "execution_count": 61,
     "metadata": {},
     "output_type": "execute_result"
    }
   ],
   "source": [
    "# Define factor between experimental and theoretical skewness as variable\n",
    "n = sympy.Symbol('n')\n",
    "# Substitute approximation of moments\n",
    "nu_skew_subs =  nu_skew.subs({p2: p1**2 + m21, p3: p1**3 + m31})\n",
    "p_skew_subs = p_skew.subs({p2: p1**2 + m21, p3: p1**3 + m31})\n",
    "\n",
    "skew_eq = sympy.Eq(nu_skew_subs, n * p_skew_subs)\n",
    "\n",
    "skew_eq"
   ]
  },
  {
   "cell_type": "markdown",
   "metadata": {},
   "source": [
    "Now let's substitute $\\sigma^2$ as a function of the other parameters."
   ]
  },
  {
   "cell_type": "code",
   "execution_count": 67,
   "metadata": {},
   "outputs": [
    {
     "data": {
      "image/png": "[encoded data removed]",
      "text/latex": [
       "$\\displaystyle \\frac{n \\left(3 \\left\\langle p \\right\\rangle m_{21} - m_{31}\\right)}{m_{21}^{\\frac{3}{2}}} = - \\frac{\\alpha \\left(- 3 \\lambda^{2} \\left\\langle p \\right\\rangle m_{21} + \\lambda^{2} m_{31} + 3 \\lambda m_{21} + \\left\\langle p \\right\\rangle\\right)}{\\sqrt{\\alpha^{2} \\lambda \\left(4 \\lambda m_{21} + \\left\\langle p \\right\\rangle\\right)} \\left(4 \\lambda m_{21} + \\left\\langle p \\right\\rangle\\right)}$"
      ],
      "text/plain": [
       "                                                             ⎛           2    \n",
       "n⋅(3⋅\\left\\langle p \\right\\rangle⋅m_{21} - m_{31})   -\\alpha⋅⎝- 3⋅\\lambda ⋅\\le\n",
       "────────────────────────────────────────────────── = ─────────────────────────\n",
       "                          3/2                               __________________\n",
       "                    m_{21}                                 ╱       2          \n",
       "                                                         ╲╱  \\alpha ⋅\\lambda⋅(\n",
       "\n",
       "                                          2                                   \n",
       "ft\\langle p \\right\\rangle⋅m_{21} + \\lambda ⋅m_{31} + 3⋅\\lambda⋅m_{21} + \\left\\\n",
       "──────────────────────────────────────────────────────────────────────────────\n",
       "_________________________________________________                             \n",
       "                                                                              \n",
       "4⋅\\lambda⋅m_{21} + \\left\\langle p \\right\\rangle) ⋅(4⋅\\lambda⋅m_{21} + \\left\\la\n",
       "\n",
       "                      ⎞ \n",
       "langle p \\right\\rangle⎠ \n",
       "────────────────────────\n",
       "                        \n",
       "                        \n",
       "ngle p \\right\\rangle)   "
      ]
     },
     "execution_count": 67,
     "metadata": {},
     "output_type": "execute_result"
    }
   ],
   "source": [
    "skew_eq_subs = skew_eq.subs(\n",
    "    {sigma_2 : 3 * m21 * alpha**2 * lam**2}\n",
    ").simplify()\n",
    "skew_eq_subs"
   ]
  },
  {
   "cell_type": "markdown",
   "metadata": {},
   "source": [
    "Now let's see if we can solve for $n$ and obtain what we would expect."
   ]
  },
  {
   "cell_type": "code",
   "execution_count": 71,
   "metadata": {},
   "outputs": [
    {
     "data": {
      "image/png": "[encoded data removed]",
      "text/latex": [
       "$\\displaystyle n = \\frac{\\alpha m_{21}^{\\frac{3}{2}} \\left(3 \\lambda^{2} \\left\\langle p \\right\\rangle m_{21} - \\lambda^{2} m_{31} - 3 \\lambda m_{21} - \\left\\langle p \\right\\rangle\\right)}{\\sqrt{\\alpha^{2} \\lambda \\left(4 \\lambda m_{21} + \\left\\langle p \\right\\rangle\\right)} \\left(12 \\lambda \\left\\langle p \\right\\rangle m_{21}^{2} - 4 \\lambda m_{21} m_{31} + 3 \\left\\langle p \\right\\rangle^{2} m_{21} - \\left\\langle p \\right\\rangle m_{31}\\right)}$"
      ],
      "text/plain": [
       "                                                               3/2 ⎛         2\n",
       "                                                  \\alpha⋅m_{21}   ⋅⎝3⋅\\lambda \n",
       "n = ──────────────────────────────────────────────────────────────────────────\n",
       "       ___________________________________________________________________    \n",
       "      ╱       2                                                            ⎛  \n",
       "    ╲╱  \\alpha ⋅\\lambda⋅(4⋅\\lambda⋅m_{21} + \\left\\langle p \\right\\rangle) ⋅⎝12\n",
       "\n",
       "                                              2                               \n",
       "⋅\\left\\langle p \\right\\rangle⋅m_{21} - \\lambda ⋅m_{31} - 3⋅\\lambda⋅m_{21} - \\l\n",
       "──────────────────────────────────────────────────────────────────────────────\n",
       "                                                                              \n",
       "                                            2                                 \n",
       "⋅\\lambda⋅\\left\\langle p \\right\\rangle⋅m_{21}  - 4⋅\\lambda⋅m_{21}⋅m_{31} + 3⋅\\l\n",
       "\n",
       "                          ⎞                                              \n",
       "eft\\langle p \\right\\rangle⎠                                              \n",
       "─────────────────────────────────────────────────────────────────────────\n",
       "                                                                         \n",
       "                          2                                             ⎞\n",
       "eft\\langle p \\right\\rangle ⋅m_{21} - \\left\\langle p \\right\\rangle⋅m_{31}⎠"
      ]
     },
     "execution_count": 71,
     "metadata": {},
     "output_type": "execute_result"
    }
   ],
   "source": [
    "sympy.Eq(n, sympy.solve(skew_eq_subs, n)[0])"
   ]
  },
  {
   "cell_type": "markdown",
   "metadata": {},
   "source": [
    "Not really. This is a function of $\\ee{p}$"
   ]
  }
 ],
 "metadata": {
  "kernelspec": {
   "display_name": "Python 3",
   "language": "python",
   "name": "python3"
  },
  "language_info": {
   "codemirror_mode": {
    "name": "ipython",
    "version": 3
   },
   "file_extension": ".py",
   "mimetype": "text/x-python",
   "name": "python",
   "nbconvert_exporter": "python",
   "pygments_lexer": "ipython3",
   "version": "3.7.4"
  }
 },
 "nbformat": 4,
 "nbformat_minor": 4
}
