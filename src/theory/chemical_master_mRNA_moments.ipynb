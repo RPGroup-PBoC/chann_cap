{
 "cells": [
  {
   "cell_type": "markdown",
   "metadata": {},
   "source": [
    "# The moments of the distribution for mRNA and protein in a two- and three-state promoter."
   ]
  },
  {
   "cell_type": "markdown",
   "metadata": {},
   "source": [
    "(c) 2017 Manuel Razo. This work is licensed under a [Creative Commons Attribution License CC-BY 4.0](https://creativecommons.org/licenses/by/4.0/). All code contained herein is licensed under an [MIT license](https://opensource.org/licenses/MIT)"
   ]
  },
  {
   "cell_type": "code",
   "execution_count": 1,
   "metadata": {},
   "outputs": [],
   "source": [
    "import glob\n",
    "# Our numerical workhorses\n",
    "import numpy as np\n",
    "import scipy.optimize\n",
    "import scipy.special\n",
    "import scipy.integrate\n",
    "import mpmath\n",
    "# To compute symbolic expressions\n",
    "import sympy\n",
    "sympy.init_printing(use_unicode=True, fontsize=4) # print outputs in LaTeX\n",
    "\n",
    "import pandas as pd\n",
    "# Import libraries to parallelize processes\n",
    "from joblib import Parallel, delayed\n",
    "\n",
    "# Import matplotlib stuff for plotting\n",
    "import matplotlib.pyplot as plt\n",
    "import matplotlib.cm as cm\n",
    "import matplotlib as mpl\n",
    "\n",
    "# Seaborn, useful for graphics\n",
    "import seaborn as sns\n",
    "\n",
    "# Import the utils for this project\n",
    "import chann_cap_utils as chann_cap\n",
    "\n",
    "# Set PBoC plotting style\n",
    "chann_cap.set_plotting_style()\n",
    "\n",
    "# Magic function to make matplotlib inline; other style specs must come AFTER\n",
    "%matplotlib inline\n",
    "\n",
    "# This enables SVG graphics inline (only use with static plots (non-Bokeh))\n",
    "%config InlineBackend.figure_format = 'svg'\n",
    "\n",
    "# figdir = '../../fig/chemical_master_analytic_mRNA/'\n",
    "# tmpdir = '../../tmp/'"
   ]
  },
  {
   "cell_type": "markdown",
   "metadata": {},
   "source": [
    "### $\\LaTeX$ macros\n",
    "$\\newcommand{kpon}{k^p_{\\text{on}}}$\n",
    "$\\newcommand{kpoff}{k^p_{\\text{off}}}$\n",
    "$\\newcommand{kron}{k^r_{\\text{on}}}$\n",
    "$\\newcommand{kroff}{k^r_{\\text{off}}}$\n",
    "$\\newcommand{rm}{r _m}$\n",
    "$\\newcommand{gm}{\\gamma _m}$\n",
    "$\\newcommand{mm}{\\left\\langle m \\right\\rangle}$"
   ]
  },
  {
   "cell_type": "markdown",
   "metadata": {},
   "source": [
    "# Two-state promoter (mRNA)\n",
    "\n",
    "In this section we will perform the linear algebra to solve for the steady-state moments of the mRNA distribution.\n",
    "\n",
    "Up to this stage we wrote the chemical master equation in matrix notation and did some tricks when it came to compute the $n^{\\text{th}}$ moment. Now we will use the equations we obtained for the time derivative of the mRNA distribution moments and set that to steady-state to solve for the moments themselves.\n",
    "\n",
    "Let's first define the `sympy` variables that we will need for the two- and three-state promoter."
   ]
  },
  {
   "cell_type": "code",
   "execution_count": 2,
   "metadata": {},
   "outputs": [
    {
     "data": {
      "image/png": "[encoded data removed]",
      "text/latex": [
       "$$\\left ( k_{off}^p, \\quad k_{on}^p, \\quad k_{off}^r, \\quad k_{on}^r, \\quad r_{m}, \\quad \\gamma_{m}\\right )$$"
      ],
      "text/plain": [
       "(k_{off}__p, k_{on}__p, k_{off}__r, k_{on}__r, rₘ, γₘ)"
      ]
     },
     "execution_count": 2,
     "metadata": {},
     "output_type": "execute_result"
    }
   ],
   "source": [
    "# Define rate constant variables\n",
    "kp_off, kp_on = sympy.symbols('k_{off}^p k_{on}^p')\n",
    "kr_off, kr_on = sympy.symbols('k_{off}^r k_{on}^r')\n",
    "\n",
    "# Define degradation rate and production rate\n",
    "rm, gm = sympy.symbols('r_m gamma_m')\n",
    "\n",
    "kp_off, kp_on, kr_off, kr_on, rm, gm"
   ]
  },
  {
   "cell_type": "markdown",
   "metadata": {},
   "source": [
    "Let's now define a function that generates a `sympy` variable of the form $\\left\\langle x^n \\right\\rangle$ to easily define the variables to save the moments."
   ]
  },
  {
   "cell_type": "code",
   "execution_count": 3,
   "metadata": {},
   "outputs": [],
   "source": [
    "def moment_sympy(var, moment):\n",
    "    '''\n",
    "    Shortcut to generate variables of the form <var**n> in sympy to facilitate the\n",
    "    definition of the moment variables\n",
    "    Parameters\n",
    "    ----------\n",
    "    var : string.\n",
    "        variable name string that should be put inside the <> parenthesis.\n",
    "    moment : int.\n",
    "        exponent of the moment to be defined.\n",
    "    '''\n",
    "    return sympy.Symbol('{\\\\langle ' + var + '^{:d}'.format(moment) + '\\\\rangle}')"
   ]
  },
  {
   "cell_type": "markdown",
   "metadata": {},
   "source": [
    "Now let's define the moment variables for the unregulated promoter."
   ]
  },
  {
   "cell_type": "code",
   "execution_count": 4,
   "metadata": {},
   "outputs": [
    {
     "data": {
      "image/png": "[encoded data removed]",
      "text/latex": [
       "$$\\left ( \\left [ {\\langle m_{P_{unreg}}^0\\rangle}, \\quad {\\langle m_{E_{unreg}}^0\\rangle}\\right ], \\quad \\left [ {\\langle m_{P_{unreg}}^1\\rangle}, \\quad {\\langle m_{E_{unreg}}^1\\rangle}\\right ], \\quad \\left [ {\\langle m_{P_{unreg}}^2\\rangle}, \\quad {\\langle m_{E_{unreg}}^2\\rangle}\\right ]\\right )$$"
      ],
      "text/plain": [
       "([{\\langle m_{P_{unreg}}__0\\rangle}, {\\langle m_{E_{unreg}}__0\\rangle}], [{\\la\n",
       "ngle m_{P_{unreg}}__1\\rangle}, {\\langle m_{E_{unreg}}__1\\rangle}], [{\\langle m\n",
       "_{P_{unreg}}__2\\rangle}, {\\langle m_{E_{unreg}}__2\\rangle}])"
      ]
     },
     "execution_count": 4,
     "metadata": {},
     "output_type": "execute_result"
    }
   ],
   "source": [
    "# Define the string for the states\n",
    "m_unreg = ['m_{P_{unreg}}', 'm_{E_{unreg}}']\n",
    "\n",
    "# Define the zeroth moments\n",
    "m0_unreg = [moment_sympy(x, 0) for x in m_unreg]\n",
    "# Define the first moments\n",
    "m1_unreg = [moment_sympy(x, 1) for x in m_unreg]\n",
    "# Define the second moments\n",
    "m2_unreg = [moment_sympy(x, 2) for x in m_unreg]\n",
    "\n",
    "m0_unreg, m1_unreg, m2_unreg"
   ]
  },
  {
   "cell_type": "markdown",
   "metadata": {},
   "source": [
    "Now we will define the state transition matrix $\\mathbf{K}^u$, the mRNA production matrix $\\mathbf{R}^u_m$ and the mRNA degradation matrix $\\mathbf{\\Gamma}^u_m$."
   ]
  },
  {
   "cell_type": "code",
   "execution_count": 5,
   "metadata": {},
   "outputs": [
    {
     "data": {
      "image/png": "[encoded data removed]",
      "text/latex": [
       "$$\\left ( \\left[\\begin{matrix}- k_{off}^p & k_{on}^p\\\\k_{off}^p & - k_{on}^p\\end{matrix}\\right], \\quad \\left[\\begin{matrix}r_{m} & 0\\\\0 & 0\\end{matrix}\\right], \\quad \\left[\\begin{matrix}\\gamma_{m} & 0\\\\0 & \\gamma_{m}\\end{matrix}\\right]\\right )$$"
      ],
      "text/plain": [
       "⎛⎡-k_{off}__p  k_{on}__p ⎤  ⎡rₘ  0⎤  ⎡γₘ  0 ⎤⎞\n",
       "⎜⎢                       ⎥, ⎢     ⎥, ⎢      ⎥⎟\n",
       "⎝⎣k_{off}__p   -k_{on}__p⎦  ⎣0   0⎦  ⎣0   γₘ⎦⎠"
      ]
     },
     "execution_count": 5,
     "metadata": {},
     "output_type": "execute_result"
    }
   ],
   "source": [
    "# Define the rate constant matrix\n",
    "Kmat_unreg = sympy.Matrix([[-kp_off, kp_on], \n",
    "                           [kp_off, -kp_on]])\n",
    "# Define the production matrix\n",
    "Rmat_unreg = sympy.Matrix([[rm, 0], \n",
    "                           [0, 0]])\n",
    "# Define the degradation matrix\n",
    "Gmat_unreg = sympy.Matrix([[gm, 0],\n",
    "                           [0, gm]])\n",
    "\n",
    "Kmat_unreg, Rmat_unreg, Gmat_unreg"
   ]
  },
  {
   "cell_type": "markdown",
   "metadata": {},
   "source": [
    "### Zeroth moment two-state promoter\n",
    "In order to solve for the two-state promoter we have two equations to use\n",
    "$$\n",
    "1 = \\mathbf{u} \\cdot \\left\\langle \\mathbf{m}^0 \\right\\rangle,\n",
    "$$\n",
    "where $u = (1, 1)$ and $\\left\\langle \\mathbf{m}^0 \\right\\rangle$ is the vector containing all the states, and\n",
    "$$\n",
    "\\mathbf{0} = \\mathbf{K}^u_m \\left\\langle \\mathbf{m}^0 \\right\\rangle.\n",
    "$$\n",
    "\n",
    "We will use the linear algebra solver where we write an extended matrix with the last column being the right hand side of these equations.\n",
    "\n",
    "Let's now define this extended matrix."
   ]
  },
  {
   "cell_type": "code",
   "execution_count": 6,
   "metadata": {},
   "outputs": [
    {
     "data": {
      "image/png": "[encoded data removed]",
      "text/latex": [
       "$$\\left[\\begin{matrix}1 & 1 & 1\\\\- k_{off}^p & k_{on}^p & 0\\\\k_{off}^p & - k_{on}^p & 0\\end{matrix}\\right]$$"
      ],
      "text/plain": [
       "⎡     1           1       1⎤\n",
       "⎢                          ⎥\n",
       "⎢-k_{off}__p  k_{on}__p   0⎥\n",
       "⎢                          ⎥\n",
       "⎣k_{off}__p   -k_{on}__p  0⎦"
      ]
     },
     "execution_count": 6,
     "metadata": {},
     "output_type": "execute_result"
    }
   ],
   "source": [
    "# Add the extra row for the normalization constraint\n",
    "K_sys_unreg = Kmat_unreg.row_insert(0, sympy.Matrix([1, 1]).transpose())\n",
    "\n",
    "# Define right-side array\n",
    "b = sympy.Matrix([1, 0, 0])\n",
    "\n",
    "# Define augmented matrix\n",
    "zero_aug_unreg = K_sys_unreg.col_insert(2, b)\n",
    "zero_aug_unreg"
   ]
  },
  {
   "cell_type": "markdown",
   "metadata": {},
   "source": [
    "Now we solve the equation for the two state moments."
   ]
  },
  {
   "cell_type": "code",
   "execution_count": 7,
   "metadata": {},
   "outputs": [
    {
     "data": {
      "image/png": "[encoded data removed]",
      "text/latex": [
       "$$\\left \\{ {\\langle m_{E_{unreg}}^0\\rangle} : \\frac{k_{off}^p}{k_{off}^p + k_{on}^p}, \\quad {\\langle m_{P_{unreg}}^0\\rangle} : \\frac{k_{on}^p}{k_{off}^p + k_{on}^p}\\right \\}$$"
      ],
      "text/plain": [
       "⎧                                         k_{off}__p                          \n",
       "⎨{\\langle m_{E_{unreg}}__0\\rangle}: ──────────────────────, {\\langle m_{P_{unr\n",
       "⎩                                   k_{off}__p + k_{on}__p                    \n",
       "\n",
       "                       k_{on}__p       ⎫\n",
       "eg}}__0\\rangle}: ──────────────────────⎬\n",
       "                 k_{off}__p + k_{on}__p⎭"
      ]
     },
     "execution_count": 7,
     "metadata": {},
     "output_type": "execute_result"
    }
   ],
   "source": [
    "# Solve linear system for the three zeroth moments\n",
    "zero_sol_unreg = sympy.solve_linear_system(zero_aug_unreg, *m0_unreg)\n",
    "zero_sol_unreg"
   ]
  },
  {
   "cell_type": "markdown",
   "metadata": {},
   "source": [
    "### First moment two-state promoter\n",
    "\n",
    "Now that we have the zeroth moment that indicates the probability of being on either state let's now compute the first moment. For this we have the matrix equation\n",
    "$$\n",
    "\\mathbf{0} = \\left( \\mathbf{K}^u_m - \\mathbf{\\Gamma}^u_m  \\right)\n",
    "             + \\mathbf{R}^u_m \\left\\langle \\mathbf{m}^0 \\right\\rangle.\n",
    "$$\n",
    "\n",
    "Let's write this system in the form of the augmented matrix."
   ]
  },
  {
   "cell_type": "code",
   "execution_count": 8,
   "metadata": {},
   "outputs": [
    {
     "data": {
      "image/png": "[encoded data removed]",
      "text/latex": [
       "$$\\left[\\begin{matrix}- \\gamma_{m} - k_{off}^p & k_{on}^p & - r_{m} {\\langle m_{P_{unreg}}^0\\rangle}\\\\k_{off}^p & - \\gamma_{m} - k_{on}^p & 0\\end{matrix}\\right]$$"
      ],
      "text/plain": [
       "⎡-γₘ - k_{off}__p     k_{on}__p     -rₘ⋅{\\langle m_{P_{unreg}}__0\\rangle}⎤\n",
       "⎢                                                                        ⎥\n",
       "⎣   k_{off}__p     -γₘ - k_{on}__p                    0                  ⎦"
      ]
     },
     "execution_count": 8,
     "metadata": {},
     "output_type": "execute_result"
    }
   ],
   "source": [
    "# Define augmented matrix for first moment\n",
    "first_aug_unreg = (Kmat_unreg - Gmat_unreg).col_insert(2, \n",
    "                                            -Rmat_unreg * sympy.Matrix(m0_unreg))\n",
    "first_aug_unreg"
   ]
  },
  {
   "cell_type": "markdown",
   "metadata": {},
   "source": [
    "And again we use the `sympy` solver to solve for the first moments"
   ]
  },
  {
   "cell_type": "code",
   "execution_count": 9,
   "metadata": {},
   "outputs": [
    {
     "data": {
      "image/png": "[encoded data removed]",
      "text/latex": [
       "$$\\left \\{ {\\langle m_{E_{unreg}}^1\\rangle} : \\frac{k_{off}^p r_{m} {\\langle m_{P_{unreg}}^0\\rangle}}{\\gamma_{m} \\left(\\gamma_{m} + k_{off}^p + k_{on}^p\\right)}, \\quad {\\langle m_{P_{unreg}}^1\\rangle} : \\frac{r_{m} {\\langle m_{P_{unreg}}^0\\rangle} \\left(\\gamma_{m} + k_{on}^p\\right)}{\\gamma_{m} \\left(\\gamma_{m} + k_{off}^p + k_{on}^p\\right)}\\right \\}$$"
      ],
      "text/plain": [
       "⎧                                   k_{off}__p⋅rₘ⋅{\\langle m_{P_{unreg}}__0\\ra\n",
       "⎨{\\langle m_{E_{unreg}}__1\\rangle}: ──────────────────────────────────────────\n",
       "⎩                                           γₘ⋅(γₘ + k_{off}__p + k_{on}__p)  \n",
       "\n",
       "ngle}                                     rₘ⋅{\\langle m_{P_{unreg}}__0\\rangle}\n",
       "─────, {\\langle m_{P_{unreg}}__1\\rangle}: ────────────────────────────────────\n",
       "                                                     γₘ⋅(γₘ + k_{off}__p + k_{\n",
       "\n",
       "⋅(γₘ + k_{on}__p)⎫\n",
       "─────────────────⎬\n",
       "on}__p)          ⎭"
      ]
     },
     "execution_count": 9,
     "metadata": {},
     "output_type": "execute_result"
    }
   ],
   "source": [
    "# Solve linear system for the three moments\n",
    "first_sol_unreg = sympy.solve_linear_system(first_aug_unreg, *m1_unreg)\n",
    "first_sol_unreg"
   ]
  },
  {
   "cell_type": "markdown",
   "metadata": {},
   "source": [
    "We now sum both elements and substitute the solution for the zeroth moments"
   ]
  },
  {
   "cell_type": "code",
   "execution_count": 10,
   "metadata": {},
   "outputs": [
    {
     "data": {
      "image/png": "[encoded data removed]",
      "text/latex": [
       "$$\\frac{k_{on}^p r_{m}}{\\gamma_{m} \\left(k_{off}^p + k_{on}^p\\right)}$$"
      ],
      "text/plain": [
       "        k_{on}__p⋅rₘ       \n",
       "───────────────────────────\n",
       "γₘ⋅(k_{off}__p + k_{on}__p)"
      ]
     },
     "execution_count": 10,
     "metadata": {},
     "output_type": "execute_result"
    }
   ],
   "source": [
    "first_unreg = sympy.simplify(sum(first_sol_unreg.values()).subs(zero_sol_unreg))\n",
    "first_unreg"
   ]
  },
  {
   "cell_type": "markdown",
   "metadata": {},
   "source": [
    "### Second moment two-state promoter\n",
    "\n",
    "Finally for the second moment we have an equation of the form\n",
    "$$\n",
    "\\mathbf{0} = \\left( \\mathbf{K}^u_m - 2 \\mathbf{\\Gamma}^u_n \\right) \n",
    "             \\left\\langle \\mathbf{m}^2 \\right\\rangle\n",
    "             + \\left( 2 \\mathbf{R}^u_m + \\mathbf{\\Gamma}^u_m \\right)\n",
    "             \\left\\langle \\mathbf{m}^1 \\right\\rangle\n",
    "             + \\mathbf{R}^u_m\n",
    "             \\left\\langle \\mathbf{m}^0 \\right\\rangle\n",
    "$$\n",
    "\n",
    "Let's again define this augmented matrix."
   ]
  },
  {
   "cell_type": "code",
   "execution_count": 11,
   "metadata": {},
   "outputs": [
    {
     "data": {
      "image/png": "[encoded data removed]",
      "text/latex": [
       "$$\\left[\\begin{matrix}2 \\gamma_{m} + k_{off}^p & - k_{on}^p & r_{m} {\\langle m_{P_{unreg}}^0\\rangle} + {\\langle m_{P_{unreg}}^1\\rangle} \\left(\\gamma_{m} + 2 r_{m}\\right)\\\\- k_{off}^p & 2 \\gamma_{m} + k_{on}^p & \\gamma_{m} {\\langle m_{E_{unreg}}^1\\rangle}\\end{matrix}\\right]$$"
      ],
      "text/plain": [
       "⎡2⋅γₘ + k_{off}__p     -k_{on}__p     rₘ⋅{\\langle m_{P_{unreg}}__0\\rangle} + {\n",
       "⎢                                                                             \n",
       "⎣   -k_{off}__p     2⋅γₘ + k_{on}__p                          γₘ⋅{\\langle m_{E\n",
       "\n",
       "\\langle m_{P_{unreg}}__1\\rangle}⋅(γₘ + 2⋅rₘ)⎤\n",
       "                                            ⎥\n",
       "_{unreg}}__1\\rangle}                        ⎦"
      ]
     },
     "execution_count": 11,
     "metadata": {},
     "output_type": "execute_result"
    }
   ],
   "source": [
    "# Define augmented matrix for second moment\n",
    "second_aug_unreg = (2 * Gmat_unreg - Kmat_unreg).col_insert(2, \n",
    "                   (2 * Rmat_unreg + Gmat_unreg) * sympy.Matrix(m1_unreg)\\\n",
    "                   + Rmat_unreg * sympy.Matrix(m0_unreg))\n",
    "second_aug_unreg"
   ]
  },
  {
   "cell_type": "code",
   "execution_count": 12,
   "metadata": {},
   "outputs": [
    {
     "data": {
      "image/png": "[encoded data removed]",
      "text/latex": [
       "$$\\left \\{ {\\langle m_{E_{unreg}}^2\\rangle} : - \\frac{\\gamma_{m} {\\langle m_{E_{unreg}}^1\\rangle} \\left(2 \\gamma_{m} + k_{off}^p\\right) + k_{off}^p \\left(r_{m} {\\langle m_{P_{unreg}}^0\\rangle} + {\\langle m_{P_{unreg}}^1\\rangle} \\left(\\gamma_{m} + 2 r_{m}\\right)\\right)}{k_{off}^p k_{on}^p - \\left(2 \\gamma_{m} + k_{off}^p\\right) \\left(2 \\gamma_{m} + k_{on}^p\\right)}, \\quad {\\langle m_{P_{unreg}}^2\\rangle} : - \\frac{\\gamma_{m} k_{on}^p {\\langle m_{E_{unreg}}^1\\rangle} + \\left(2 \\gamma_{m} + k_{on}^p\\right) \\left(r_{m} {\\langle m_{P_{unreg}}^0\\rangle} + {\\langle m_{P_{unreg}}^1\\rangle} \\left(\\gamma_{m} + 2 r_{m}\\right)\\right)}{k_{off}^p k_{on}^p - \\left(2 \\gamma_{m} + k_{off}^p\\right) \\left(2 \\gamma_{m} + k_{on}^p\\right)}\\right \\}$$"
      ],
      "text/plain": [
       "⎧                                   -(γₘ⋅{\\langle m_{E_{unreg}}__1\\rangle}⋅(2⋅\n",
       "⎨{\\langle m_{E_{unreg}}__2\\rangle}: ──────────────────────────────────────────\n",
       "⎩                                                                             \n",
       "\n",
       "γₘ + k_{off}__p) + k_{off}__p⋅(rₘ⋅{\\langle m_{P_{unreg}}__0\\rangle} + {\\langle\n",
       "──────────────────────────────────────────────────────────────────────────────\n",
       "       k_{off}__p⋅k_{on}__p - (2⋅γₘ + k_{off}__p)⋅(2⋅γₘ + k_{on}__p)          \n",
       "\n",
       " m_{P_{unreg}}__1\\rangle}⋅(γₘ + 2⋅rₘ)))                                      -\n",
       "────────────────────────────────────────, {\\langle m_{P_{unreg}}__2\\rangle}: ─\n",
       "                                                                              \n",
       "\n",
       "(γₘ⋅k_{on}__p⋅{\\langle m_{E_{unreg}}__1\\rangle} + (2⋅γₘ + k_{on}__p)⋅(rₘ⋅{\\lan\n",
       "──────────────────────────────────────────────────────────────────────────────\n",
       "                                               k_{off}__p⋅k_{on}__p - (2⋅γₘ + \n",
       "\n",
       "gle m_{P_{unreg}}__0\\rangle} + {\\langle m_{P_{unreg}}__1\\rangle}⋅(γₘ + 2⋅rₘ)))\n",
       "──────────────────────────────────────────────────────────────────────────────\n",
       "k_{off}__p)⋅(2⋅γₘ + k_{on}__p)                                                \n",
       "\n",
       " ⎫\n",
       "─⎬\n",
       " ⎭"
      ]
     },
     "execution_count": 12,
     "metadata": {},
     "output_type": "execute_result"
    }
   ],
   "source": [
    "# Solve linear system for the three moments\n",
    "second_sol_unreg = sympy.solve_linear_system(second_aug_unreg, *m2_unreg)\n",
    "second_sol_unreg"
   ]
  },
  {
   "cell_type": "markdown",
   "metadata": {},
   "source": [
    "Again let's add both of these moments to obtain the global second moment."
   ]
  },
  {
   "cell_type": "code",
   "execution_count": 13,
   "metadata": {},
   "outputs": [
    {
     "data": {
      "image/png": "[encoded data removed]",
      "text/latex": [
       "$$\\frac{1}{2 \\gamma_{m}} \\left(\\gamma_{m} {\\langle m_{E_{unreg}}^1\\rangle} + \\gamma_{m} {\\langle m_{P_{unreg}}^1\\rangle} + r_{m} {\\langle m_{P_{unreg}}^0\\rangle} + 2 r_{m} {\\langle m_{P_{unreg}}^1\\rangle}\\right)$$"
      ],
      "text/plain": [
       "γₘ⋅{\\langle m_{E_{unreg}}__1\\rangle} + γₘ⋅{\\langle m_{P_{unreg}}__1\\rangle} + \n",
       "──────────────────────────────────────────────────────────────────────────────\n",
       "                                                                            2⋅\n",
       "\n",
       "rₘ⋅{\\langle m_{P_{unreg}}__0\\rangle} + 2⋅rₘ⋅{\\langle m_{P_{unreg}}__1\\rangle}\n",
       "─────────────────────────────────────────────────────────────────────────────\n",
       "γₘ                                                                           "
      ]
     },
     "execution_count": 13,
     "metadata": {},
     "output_type": "execute_result"
    }
   ],
   "source": [
    "second_unreg = sympy.simplify(sum(second_sol_unreg.values()))\n",
    "second_unreg"
   ]
  },
  {
   "cell_type": "markdown",
   "metadata": {},
   "source": [
    "Let's now substitute the solution for the sum of the first moments."
   ]
  },
  {
   "cell_type": "code",
   "execution_count": 14,
   "metadata": {},
   "outputs": [
    {
     "data": {
      "image/png": "[encoded data removed]",
      "text/latex": [
       "$$\\frac{r_{m}}{\\gamma_{m}} \\left({\\langle m_{P_{unreg}}^0\\rangle} + {\\langle m_{P_{unreg}}^1\\rangle}\\right)$$"
      ],
      "text/plain": [
       "rₘ⋅({\\langle m_{P_{unreg}}__0\\rangle} + {\\langle m_{P_{unreg}}__1\\rangle})\n",
       "──────────────────────────────────────────────────────────────────────────\n",
       "                                    γₘ                                    "
      ]
     },
     "execution_count": 14,
     "metadata": {},
     "output_type": "execute_result"
    }
   ],
   "source": [
    "second_unreg_s = second_unreg.subs(gm * m1_unreg[0] + gm * m1_unreg[1], \n",
    "                  gm * sympy.simplify(sum(first_sol_unreg.values())))\n",
    "sympy.simplify(second_unreg_s)"
   ]
  },
  {
   "cell_type": "markdown",
   "metadata": {},
   "source": [
    "This is the answer shown in PBoC. Now is a matter of substituting the other solutions to obtain the second moment."
   ]
  },
  {
   "cell_type": "code",
   "execution_count": 15,
   "metadata": {},
   "outputs": [
    {
     "data": {
      "image/png": "[encoded data removed]",
      "text/latex": [
       "$$\\frac{1}{2 \\gamma_{m}} \\left(\\frac{2 k_{on}^p r_{m}}{k_{off}^p + k_{on}^p} + \\frac{2 k_{on}^p r_{m}^{2} \\left(\\gamma_{m} + k_{on}^p\\right)}{\\gamma_{m} \\left(k_{off}^p + k_{on}^p\\right) \\left(\\gamma_{m} + k_{off}^p + k_{on}^p\\right)}\\right)$$"
      ],
      "text/plain": [
       "                                                    2                         \n",
       "    2⋅k_{on}__p⋅rₘ                    2⋅k_{on}__p⋅rₘ ⋅(γₘ + k_{on}__p)        \n",
       "────────────────────── + ─────────────────────────────────────────────────────\n",
       "k_{off}__p + k_{on}__p   γₘ⋅(k_{off}__p + k_{on}__p)⋅(γₘ + k_{off}__p + k_{on}\n",
       "──────────────────────────────────────────────────────────────────────────────\n",
       "                                       2⋅γₘ                                   \n",
       "\n",
       "    \n",
       "    \n",
       "────\n",
       "__p)\n",
       "────\n",
       "    "
      ]
     },
     "execution_count": 15,
     "metadata": {},
     "output_type": "execute_result"
    }
   ],
   "source": [
    "second_unreg_s.subs(first_sol_unreg).subs(zero_sol_unreg)"
   ]
  },
  {
   "cell_type": "markdown",
   "metadata": {},
   "source": [
    "Let's now compute the variance and the fano-factor to confirm that we obtain the exact same results as derived in PBoC."
   ]
  },
  {
   "cell_type": "code",
   "execution_count": 16,
   "metadata": {},
   "outputs": [
    {
     "data": {
      "text/latex": [
       "$$\\frac{1}{2 \\gamma_{m}} \\left(\\gamma_{m} {\\langle m_{E_{unreg}}^1\\rangle} + \\gamma_{m} {\\langle m_{P_{unreg}}^1\\rangle} + r_{m} {\\langle m_{P_{unreg}}^0\\rangle} + 2 r_{m} {\\langle m_{P_{unreg}}^1\\rangle}\\right) - \\frac{k_{on}^p^{2} r_{m}^{2}}{\\gamma_{m}^{2} \\left(k_{off}^p + k_{on}^p\\right)^{2}}$$"
      ],
      "text/plain": [
       "                                                                              \n",
       "γₘ⋅{\\langle m_{E_{unreg}}__1\\rangle} + γₘ⋅{\\langle m_{P_{unreg}}__1\\rangle} + \n",
       "──────────────────────────────────────────────────────────────────────────────\n",
       "                                                                            2⋅\n",
       "                                                                              \n",
       "\n",
       "                                                                              \n",
       "rₘ⋅{\\langle m_{P_{unreg}}__0\\rangle} + 2⋅rₘ⋅{\\langle m_{P_{unreg}}__1\\rangle} \n",
       "───────────────────────────────────────────────────────────────────────────── \n",
       "γₘ                                                                            \n",
       "                                                                              \n",
       "\n",
       "                   2   2       \n",
       "          k_{on}__p ⋅rₘ        \n",
       "- ─────────────────────────────\n",
       "    2                         2\n",
       "  γₘ ⋅(k_{off}__p + k_{on}__p) "
      ]
     },
     "execution_count": 16,
     "metadata": {},
     "output_type": "execute_result"
    }
   ],
   "source": [
    "# Compute the variance of the unregulated promoter\n",
    "var_unreg = second_unreg - first_unreg**2\n",
    "var_unreg\n",
    "# Compute the fano factor of the unregulated promoter\n",
    "# fano_unreg = sympy.simplify(var_unreg / first_unreg)\n",
    "\n",
    "# fano_unreg"
   ]
  },
  {
   "cell_type": "code",
   "execution_count": 141,
   "metadata": {},
   "outputs": [
    {
     "data": {
      "text/latex": [
       "$$- \\frac{r_{m} \\left(k_{off}^p - k_{on}^p\\right)}{\\gamma_{m} k_{off}^p + \\gamma_{m} k_{on}^p + k_{off}^p^{2} + 2 k_{off}^p k_{on}^p + k_{on}^p^{2}}$$"
      ],
      "text/plain": [
       "                         -rₘ⋅(k_{off}__p - k_{on}__p)                         \n",
       "──────────────────────────────────────────────────────────────────────────────\n",
       "                                         2                                    \n",
       "γₘ⋅k_{off}__p + γₘ⋅k_{on}__p + k_{off}__p  + 2⋅k_{off}__p⋅k_{on}__p + k_{on}__\n",
       "\n",
       "  \n",
       "──\n",
       " 2\n",
       "p "
      ]
     },
     "execution_count": 141,
     "metadata": {},
     "output_type": "execute_result"
    }
   ],
   "source": [
    "fano_pboc = 1 + kp_on / (kp_off + kp_on) * rm / (kp_off + kp_on + gm)\n",
    "# sympy.simplify(fano_pboc - fano_unreg)"
   ]
  },
  {
   "cell_type": "markdown",
   "metadata": {},
   "source": [
    "# Three-state promoter (mRNA)"
   ]
  },
  {
   "cell_type": "code",
   "execution_count": 83,
   "metadata": {},
   "outputs": [
    {
     "data": {
      "image/png": "[encoded data removed]",
      "text/latex": [
       "$$\\left ( {\\langle m_P^0 \\rangle}, \\quad {\\langle m_E^0 \\rangle}, \\quad {\\langle m_R^0 \\rangle}, \\quad {\\langle m_P^1 \\rangle}, \\quad {\\langle m_E^1 \\rangle}, \\quad {\\langle m_R^1 \\rangle}, \\quad {\\langle m_P^2 \\rangle}, \\quad {\\langle m_E^2 \\rangle}, \\quad {\\langle m_R^2 \\rangle}\\right )$$"
      ],
      "text/plain": [
       "({\\langle m_P__0 \\rangle}, {\\langle m_E__0 \\rangle}, {\\langle m_R__0 \\rangle},\n",
       " {\\langle m_P__1 \\rangle}, {\\langle m_E__1 \\rangle}, {\\langle m_R__1 \\rangle},\n",
       " {\\langle m_P__2 \\rangle}, {\\langle m_E__2 \\rangle}, {\\langle m_R__2 \\rangle})"
      ]
     },
     "execution_count": 83,
     "metadata": {},
     "output_type": "execute_result"
    }
   ],
   "source": [
    "# Define zeroth moment variables\n",
    "mp_0 = sympy.Symbol('{\\\\langle m_P^0 \\\\rangle}')\n",
    "me_0 = sympy.Symbol('{\\\\langle m_E^0 \\\\rangle}')\n",
    "mr_0 = sympy.Symbol('{\\\\langle m_R^0 \\\\rangle}')\n",
    "\n",
    "# Define first moment variables\n",
    "mp_1 = sympy.Symbol('{\\\\langle m_P^1 \\\\rangle}')\n",
    "me_1 = sympy.Symbol('{\\\\langle m_E^1 \\\\rangle}')\n",
    "mr_1 = sympy.Symbol('{\\\\langle m_R^1 \\\\rangle}')\n",
    "\n",
    "# Define second moment variables\n",
    "mp_2 = sympy.Symbol('{\\\\langle m_P^2 \\\\rangle}')\n",
    "me_2 = sympy.Symbol('{\\\\langle m_E^2 \\\\rangle}')\n",
    "mr_2 = sympy.Symbol('{\\\\langle m_R^2 \\\\rangle}')\n",
    "\n",
    "\n",
    "mp_0, me_0, mr_0, mp_1, me_1, mr_1, mp_2, me_2, mr_2"
   ]
  },
  {
   "cell_type": "code",
   "execution_count": 46,
   "metadata": {},
   "outputs": [
    {
     "data": {
      "image/png": "[encoded data removed]",
      "text/latex": [
       "$$\\left[\\begin{matrix}- k_{off}^p & k_{on}^p & 0\\\\k_{off}^p & - k_{on}^p - k_{on}^r & k_{off}^r\\\\0 & k_{on}^r & - k_{off}^r\\end{matrix}\\right]$$"
      ],
      "text/plain": [
       "⎡-k_{off}__p        k_{on}__p              0     ⎤\n",
       "⎢                                                ⎥\n",
       "⎢k_{off}__p   -k_{on}__p - k_{on}__r  k_{off}__r ⎥\n",
       "⎢                                                ⎥\n",
       "⎣     0             k_{on}__r         -k_{off}__r⎦"
      ]
     },
     "execution_count": 46,
     "metadata": {},
     "output_type": "execute_result"
    }
   ],
   "source": [
    "# Define the rate constant matrix\n",
    "Kmat = sympy.Matrix([[-kp_off, kp_on, 0], \n",
    "                  [kp_off, -(kp_on + kr_on), kr_off],\n",
    "                  [0, kr_on, -kr_off]])\n",
    "Kmat"
   ]
  },
  {
   "cell_type": "code",
   "execution_count": 55,
   "metadata": {},
   "outputs": [
    {
     "data": {
      "image/png": "[encoded data removed]",
      "text/latex": [
       "$$\\left[\\begin{matrix}1 & 1 & 1 & 1\\\\- k_{off}^p & k_{on}^p & 0 & 0\\\\k_{off}^p & - k_{on}^p - k_{on}^r & k_{off}^r & 0\\\\0 & k_{on}^r & - k_{off}^r & 0\\end{matrix}\\right]$$"
      ],
      "text/plain": [
       "⎡     1                 1                  1       1⎤\n",
       "⎢                                                   ⎥\n",
       "⎢-k_{off}__p        k_{on}__p              0       0⎥\n",
       "⎢                                                   ⎥\n",
       "⎢k_{off}__p   -k_{on}__p - k_{on}__r  k_{off}__r   0⎥\n",
       "⎢                                                   ⎥\n",
       "⎣     0             k_{on}__r         -k_{off}__r  0⎦"
      ]
     },
     "execution_count": 55,
     "metadata": {},
     "output_type": "execute_result"
    }
   ],
   "source": [
    "# Add the extra row for the normalization constraint\n",
    "K_sys = Kmat.row_insert(0, sympy.Matrix([1, 1, 1]).transpose())\n",
    "\n",
    "# Define right-side array\n",
    "b = sympy.Matrix([1, 0, 0, 0])\n",
    "\n",
    "# Define augmented matrix\n",
    "zero_aug = K_sys.col_insert(3, b)\n",
    "zero_aug"
   ]
  },
  {
   "cell_type": "code",
   "execution_count": 62,
   "metadata": {},
   "outputs": [
    {
     "data": {
      "image/png": "[encoded data removed]",
      "text/latex": [
       "$$\\left \\{ {\\langle m_E^0 \\rangle} : \\frac{k_{off}^p k_{off}^r}{k_{off}^p k_{off}^r + k_{off}^p k_{on}^r + k_{off}^r k_{on}^p}, \\quad {\\langle m_P^0 \\rangle} : \\frac{k_{off}^r k_{on}^p}{k_{off}^p k_{off}^r + k_{off}^p k_{on}^r + k_{off}^r k_{on}^p}, \\quad {\\langle m_R^0 \\rangle} : \\frac{k_{off}^p k_{on}^r}{k_{off}^p k_{off}^r + k_{off}^p k_{on}^r + k_{off}^r k_{on}^p}\\right \\}$$"
      ],
      "text/plain": [
       "⎧                                                 k_{off}__p⋅k_{off}__r       \n",
       "⎨{\\langle m_E__0 \\rangle}: ───────────────────────────────────────────────────\n",
       "⎩                          k_{off}__p⋅k_{off}__r + k_{off}__p⋅k_{on}__r + k_{o\n",
       "\n",
       "                                                                    k_{off}__r\n",
       "────────────────, {\\langle m_P__0 \\rangle}: ──────────────────────────────────\n",
       "ff}__r⋅k_{on}__p                            k_{off}__p⋅k_{off}__r + k_{off}__p\n",
       "\n",
       "⋅k_{on}__p                                                                    \n",
       "─────────────────────────────────, {\\langle m_R__0 \\rangle}: ─────────────────\n",
       "⋅k_{on}__r + k_{off}__r⋅k_{on}__p                            k_{off}__p⋅k_{off\n",
       "\n",
       "       k_{off}__p⋅k_{on}__r                       ⎫\n",
       "──────────────────────────────────────────────────⎬\n",
       "}__r + k_{off}__p⋅k_{on}__r + k_{off}__r⋅k_{on}__p⎭"
      ]
     },
     "execution_count": 62,
     "metadata": {},
     "output_type": "execute_result"
    }
   ],
   "source": [
    "# Solve linear system for the three zeroth moments\n",
    "zero_sol = sympy.solve_linear_system(zero_aug, mp_0, me_0, mr_0)\n",
    "zero_sol"
   ]
  },
  {
   "cell_type": "code",
   "execution_count": 72,
   "metadata": {},
   "outputs": [
    {
     "data": {
      "image/png": "[encoded data removed]",
      "text/latex": [
       "$$1$$"
      ],
      "text/plain": [
       "1"
      ]
     },
     "execution_count": 72,
     "metadata": {},
     "output_type": "execute_result"
    }
   ],
   "source": [
    "# Sum all elements to confirm it adds up to one\n",
    "sympy.simplify(sum(zero_sol.values()))"
   ]
  },
  {
   "cell_type": "code",
   "execution_count": 51,
   "metadata": {},
   "outputs": [
    {
     "data": {
      "image/png": "[encoded data removed]",
      "text/latex": [
       "$$\\left ( \\left[\\begin{matrix}r_{m} & 0 & 0\\\\0 & 0 & 0\\\\0 & 0 & 0\\end{matrix}\\right], \\quad \\left[\\begin{matrix}\\gamma_{m} & 0 & 0\\\\0 & \\gamma_{m} & 0\\\\0 & 0 & \\gamma_{m}\\end{matrix}\\right]\\right )$$"
      ],
      "text/plain": [
       "⎛⎡rₘ  0  0⎤  ⎡γₘ  0   0 ⎤⎞\n",
       "⎜⎢        ⎥  ⎢          ⎥⎟\n",
       "⎜⎢0   0  0⎥, ⎢0   γₘ  0 ⎥⎟\n",
       "⎜⎢        ⎥  ⎢          ⎥⎟\n",
       "⎝⎣0   0  0⎦  ⎣0   0   γₘ⎦⎠"
      ]
     },
     "execution_count": 51,
     "metadata": {},
     "output_type": "execute_result"
    }
   ],
   "source": [
    "# Define R and Gamma matrices\n",
    "Rmat = sympy.Matrix([[rm, 0, 0], [0, 0, 0], [0, 0, 0]])\n",
    "Gmat = sympy.Matrix([[gm, 0, 0], [0, gm, 0], [0, 0, gm]])\n",
    "Rmat, Gmat"
   ]
  },
  {
   "cell_type": "code",
   "execution_count": 74,
   "metadata": {},
   "outputs": [
    {
     "data": {
      "image/png": "[encoded data removed]",
      "text/latex": [
       "$$\\left[\\begin{matrix}- \\gamma_{m} - k_{off}^p & k_{on}^p & 0 & - r_{m} {\\langle m_P^0 \\rangle}\\\\k_{off}^p & - \\gamma_{m} - k_{on}^p - k_{on}^r & k_{off}^r & 0\\\\0 & k_{on}^r & - \\gamma_{m} - k_{off}^r & 0\\end{matrix}\\right]$$"
      ],
      "text/plain": [
       "⎡-γₘ - k_{off}__p           k_{on}__p                  0          -rₘ⋅{\\langle\n",
       "⎢                                                                             \n",
       "⎢   k_{off}__p     -γₘ - k_{on}__p - k_{on}__r     k_{off}__r                 \n",
       "⎢                                                                             \n",
       "⎣       0                   k_{on}__r           -γₘ - k_{off}__r              \n",
       "\n",
       " m_P__0 \\rangle}⎤\n",
       "                ⎥\n",
       " 0              ⎥\n",
       "                ⎥\n",
       " 0              ⎦"
      ]
     },
     "execution_count": 74,
     "metadata": {},
     "output_type": "execute_result"
    }
   ],
   "source": [
    "# Define array with zeroth moments\n",
    "m0_array = sympy.Matrix([mp_0, me_0, mr_0])\n",
    "\n",
    "# Define augmented matrix for first moment\n",
    "first_aug = (Kmat - Gmat).col_insert(3, -Rmat * m0_array)\n",
    "first_aug"
   ]
  },
  {
   "cell_type": "code",
   "execution_count": 95,
   "metadata": {},
   "outputs": [
    {
     "data": {
      "image/png": "[encoded data removed]",
      "text/latex": [
       "$$\\left \\{ {\\langle m_E^1 \\rangle} : - \\frac{k_{off}^p r_{m} {\\langle m_P^0 \\rangle} \\left(\\gamma_{m} + k_{off}^r\\right)}{k_{off}^p k_{on}^p \\left(\\gamma_{m} + k_{off}^r\\right) + k_{off}^r k_{on}^r \\left(\\gamma_{m} + k_{off}^p\\right) - \\left(\\gamma_{m} + k_{off}^p\\right) \\left(\\gamma_{m} + k_{off}^r\\right) \\left(\\gamma_{m} + k_{on}^p + k_{on}^r\\right)}, \\quad {\\langle m_P^1 \\rangle} : \\frac{r_{m} {\\langle m_P^0 \\rangle} \\left(k_{off}^r k_{on}^r - \\left(\\gamma_{m} + k_{off}^r\\right) \\left(\\gamma_{m} + k_{on}^p + k_{on}^r\\right)\\right)}{k_{off}^p k_{on}^p \\left(\\gamma_{m} + k_{off}^r\\right) + k_{off}^r k_{on}^r \\left(\\gamma_{m} + k_{off}^p\\right) - \\left(\\gamma_{m} + k_{off}^p\\right) \\left(\\gamma_{m} + k_{off}^r\\right) \\left(\\gamma_{m} + k_{on}^p + k_{on}^r\\right)}, \\quad {\\langle m_R^1 \\rangle} : - \\frac{k_{off}^p k_{on}^r r_{m} {\\langle m_P^0 \\rangle}}{k_{off}^p k_{on}^p \\left(\\gamma_{m} + k_{off}^r\\right) + k_{off}^r k_{on}^r \\left(\\gamma_{m} + k_{off}^p\\right) - \\left(\\gamma_{m} + k_{off}^p\\right) \\left(\\gamma_{m} + k_{off}^r\\right) \\left(\\gamma_{m} + k_{on}^p + k_{on}^r\\right)}\\right \\}$$"
      ],
      "text/plain": [
       "⎧                                                                      -k_{off\n",
       "⎨{\\langle m_E__1 \\rangle}: ───────────────────────────────────────────────────\n",
       "⎩                          k_{off}__p⋅k_{on}__p⋅(γₘ + k_{off}__r) + k_{off}__r\n",
       "\n",
       "}__p⋅rₘ⋅{\\langle m_P__0 \\rangle}⋅(γₘ + k_{off}__r)                            \n",
       "──────────────────────────────────────────────────────────────────────────────\n",
       "⋅k_{on}__r⋅(γₘ + k_{off}__p) - (γₘ + k_{off}__p)⋅(γₘ + k_{off}__r)⋅(γₘ + k_{on\n",
       "\n",
       "                                                                    rₘ⋅{\\langl\n",
       "─────────────────, {\\langle m_P__1 \\rangle}: ─────────────────────────────────\n",
       "}__p + k_{on}__r)                            k_{off}__p⋅k_{on}__p⋅(γₘ + k_{off\n",
       "\n",
       "e m_P__0 \\rangle}⋅(k_{off}__r⋅k_{on}__r - (γₘ + k_{off}__r)⋅(γₘ + k_{on}__p + \n",
       "──────────────────────────────────────────────────────────────────────────────\n",
       "}__r) + k_{off}__r⋅k_{on}__r⋅(γₘ + k_{off}__p) - (γₘ + k_{off}__p)⋅(γₘ + k_{of\n",
       "\n",
       "k_{on}__r))                                                                   \n",
       "───────────────────────────────────, {\\langle m_R__1 \\rangle}: ───────────────\n",
       "f}__r)⋅(γₘ + k_{on}__p + k_{on}__r)                            k_{off}__p⋅k_{o\n",
       "\n",
       "                                 -k_{off}__p⋅k_{on}__r⋅rₘ⋅{\\langle m_P__0 \\ran\n",
       "──────────────────────────────────────────────────────────────────────────────\n",
       "n}__p⋅(γₘ + k_{off}__r) + k_{off}__r⋅k_{on}__r⋅(γₘ + k_{off}__p) - (γₘ + k_{of\n",
       "\n",
       "gle}                                                 ⎫\n",
       "─────────────────────────────────────────────────────⎬\n",
       "f}__p)⋅(γₘ + k_{off}__r)⋅(γₘ + k_{on}__p + k_{on}__r)⎭"
      ]
     },
     "execution_count": 95,
     "metadata": {},
     "output_type": "execute_result"
    }
   ],
   "source": [
    "# Solve linear system for the three moments\n",
    "first_sol = sympy.solve_linear_system(first_aug, mp_1, me_1, mr_1)\n",
    "first_sol"
   ]
  },
  {
   "cell_type": "code",
   "execution_count": 78,
   "metadata": {},
   "outputs": [
    {
     "data": {
      "image/png": "[encoded data removed]",
      "text/latex": [
       "$$\\frac{r_{m}}{\\gamma_{m}} {\\langle m_P^0 \\rangle}$$"
      ],
      "text/plain": [
       "rₘ⋅{\\langle m_P__0 \\rangle}\n",
       "───────────────────────────\n",
       "             γₘ            "
      ]
     },
     "execution_count": 78,
     "metadata": {},
     "output_type": "execute_result"
    }
   ],
   "source": [
    "# Compute the first moment\n",
    "sympy.simplify(sum(first_sol.values()))"
   ]
  },
  {
   "cell_type": "code",
   "execution_count": 80,
   "metadata": {},
   "outputs": [
    {
     "data": {
      "image/png": "[encoded data removed]",
      "text/latex": [
       "$$\\frac{k_{off}^r k_{on}^p r_{m}}{\\gamma_{m} \\left(k_{off}^p k_{off}^r + k_{off}^p k_{on}^r + k_{off}^r k_{on}^p\\right)}$$"
      ],
      "text/plain": [
       "                        k_{off}__r⋅k_{on}__p⋅rₘ                         \n",
       "────────────────────────────────────────────────────────────────────────\n",
       "γₘ⋅(k_{off}__p⋅k_{off}__r + k_{off}__p⋅k_{on}__r + k_{off}__r⋅k_{on}__p)"
      ]
     },
     "execution_count": 80,
     "metadata": {},
     "output_type": "execute_result"
    }
   ],
   "source": [
    "# Substitute the value of the mp_0 solution\n",
    "sympy.simplify(sum(first_sol.values()).subs(mp_0, zero_sol[mp_0]))"
   ]
  },
  {
   "cell_type": "code",
   "execution_count": 82,
   "metadata": {},
   "outputs": [
    {
     "data": {
      "image/png": "[encoded data removed]",
      "text/latex": [
       "$$\\frac{k_{off}^r \\left(k_{off}^p + k_{on}^p\\right)}{k_{off}^p k_{off}^r + k_{off}^p k_{on}^r + k_{off}^r k_{on}^p}$$"
      ],
      "text/plain": [
       "                k_{off}__r⋅(k_{off}__p + k_{on}__p)                \n",
       "───────────────────────────────────────────────────────────────────\n",
       "k_{off}__p⋅k_{off}__r + k_{off}__p⋅k_{on}__r + k_{off}__r⋅k_{on}__p"
      ]
     },
     "execution_count": 82,
     "metadata": {},
     "output_type": "execute_result"
    }
   ],
   "source": [
    "# Define the first moment of the two-state unregulated promoter\n",
    "first_unreg = rm / gm * kp_on / (kp_off + kp_on)\n",
    "\n",
    "# Compute the fold-change with this three state promoter\n",
    "sympy.simplify(sum(first_sol.values()).subs(mp_0, zero_sol[mp_0]) / first_unreg)"
   ]
  },
  {
   "cell_type": "code",
   "execution_count": 84,
   "metadata": {},
   "outputs": [
    {
     "data": {
      "image/png": "[encoded data removed]",
      "text/latex": [
       "$$\\left[\\begin{matrix}2 \\gamma_{m} + k_{off}^p & - k_{on}^p & 0 & r_{m} {\\langle m_P^0 \\rangle} + {\\langle m_P^1 \\rangle} \\left(\\gamma_{m} + 2 r_{m}\\right)\\\\- k_{off}^p & 2 \\gamma_{m} + k_{on}^p + k_{on}^r & - k_{off}^r & \\gamma_{m} {\\langle m_E^1 \\rangle}\\\\0 & - k_{on}^r & 2 \\gamma_{m} + k_{off}^r & \\gamma_{m} {\\langle m_R^1 \\rangle}\\end{matrix}\\right]$$"
      ],
      "text/plain": [
       "⎡2⋅γₘ + k_{off}__p           -k_{on}__p                   0          rₘ⋅{\\lang\n",
       "⎢                                                                             \n",
       "⎢   -k_{off}__p     2⋅γₘ + k_{on}__p + k_{on}__r     -k_{off}__r              \n",
       "⎢                                                                             \n",
       "⎣        0                   -k_{on}__r           2⋅γₘ + k_{off}__r           \n",
       "\n",
       "le m_P__0 \\rangle} + {\\langle m_P__1 \\rangle}⋅(γₘ + 2⋅rₘ)⎤\n",
       "                                                         ⎥\n",
       "          γₘ⋅{\\langle m_E__1 \\rangle}                    ⎥\n",
       "                                                         ⎥\n",
       "          γₘ⋅{\\langle m_R__1 \\rangle}                    ⎦"
      ]
     },
     "execution_count": 84,
     "metadata": {},
     "output_type": "execute_result"
    }
   ],
   "source": [
    "# Define array with zeroth moments\n",
    "m1_array = sympy.Matrix([mp_1, me_1, mr_1])\n",
    "\n",
    "# Define augmented matrix for first moment\n",
    "second_aug = (2 * Gmat - Kmat).col_insert(3, \n",
    "                               (2 * Rmat + Gmat) * m1_array + Rmat * m0_array)\n",
    "second_aug"
   ]
  },
  {
   "cell_type": "code",
   "execution_count": 85,
   "metadata": {},
   "outputs": [
    {
     "data": {
      "image/png": "[encoded data removed]",
      "text/latex": [
       "$$\\left \\{ {\\langle m_E^2 \\rangle} : - \\frac{\\gamma_{m} k_{off}^r {\\langle m_R^1 \\rangle} \\left(2 \\gamma_{m} + k_{off}^p\\right) + \\gamma_{m} {\\langle m_E^1 \\rangle} \\left(2 \\gamma_{m} + k_{off}^p\\right) \\left(2 \\gamma_{m} + k_{off}^r\\right) + k_{off}^p \\left(2 \\gamma_{m} + k_{off}^r\\right) \\left(r_{m} {\\langle m_P^0 \\rangle} + {\\langle m_P^1 \\rangle} \\left(\\gamma_{m} + 2 r_{m}\\right)\\right)}{k_{off}^p k_{on}^p \\left(2 \\gamma_{m} + k_{off}^r\\right) + k_{off}^r k_{on}^r \\left(2 \\gamma_{m} + k_{off}^p\\right) - \\left(2 \\gamma_{m} + k_{off}^p\\right) \\left(2 \\gamma_{m} + k_{off}^r\\right) \\left(2 \\gamma_{m} + k_{on}^p + k_{on}^r\\right)}, \\quad {\\langle m_P^2 \\rangle} : \\frac{- \\gamma_{m} k_{off}^r k_{on}^p {\\langle m_R^1 \\rangle} - \\gamma_{m} k_{on}^p {\\langle m_E^1 \\rangle} \\left(2 \\gamma_{m} + k_{off}^r\\right) + \\left(k_{off}^r k_{on}^r - \\left(2 \\gamma_{m} + k_{off}^r\\right) \\left(2 \\gamma_{m} + k_{on}^p + k_{on}^r\\right)\\right) \\left(r_{m} {\\langle m_P^0 \\rangle} + {\\langle m_P^1 \\rangle} \\left(\\gamma_{m} + 2 r_{m}\\right)\\right)}{k_{off}^p k_{on}^p \\left(2 \\gamma_{m} + k_{off}^r\\right) + k_{off}^r k_{on}^r \\left(2 \\gamma_{m} + k_{off}^p\\right) - \\left(2 \\gamma_{m} + k_{off}^p\\right) \\left(2 \\gamma_{m} + k_{off}^r\\right) \\left(2 \\gamma_{m} + k_{on}^p + k_{on}^r\\right)}, \\quad {\\langle m_R^2 \\rangle} : \\frac{- \\gamma_{m} k_{on}^r {\\langle m_E^1 \\rangle} \\left(2 \\gamma_{m} + k_{off}^p\\right) + \\gamma_{m} {\\langle m_R^1 \\rangle} \\left(k_{off}^p k_{on}^p - \\left(2 \\gamma_{m} + k_{off}^p\\right) \\left(2 \\gamma_{m} + k_{on}^p + k_{on}^r\\right)\\right) - k_{off}^p k_{on}^r \\left(r_{m} {\\langle m_P^0 \\rangle} + {\\langle m_P^1 \\rangle} \\left(\\gamma_{m} + 2 r_{m}\\right)\\right)}{k_{off}^p k_{on}^p \\left(2 \\gamma_{m} + k_{off}^r\\right) + k_{off}^r k_{on}^r \\left(2 \\gamma_{m} + k_{off}^p\\right) - \\left(2 \\gamma_{m} + k_{off}^p\\right) \\left(2 \\gamma_{m} + k_{off}^r\\right) \\left(2 \\gamma_{m} + k_{on}^p + k_{on}^r\\right)}\\right \\}$$"
      ],
      "text/plain": [
       "⎧                          -(γₘ⋅k_{off}__r⋅{\\langle m_R__1 \\rangle}⋅(2⋅γₘ + k_\n",
       "⎨{\\langle m_E__2 \\rangle}: ───────────────────────────────────────────────────\n",
       "⎩                                                                 k_{off}__p⋅k\n",
       "\n",
       "{off}__p) + γₘ⋅{\\langle m_E__1 \\rangle}⋅(2⋅γₘ + k_{off}__p)⋅(2⋅γₘ + k_{off}__r\n",
       "──────────────────────────────────────────────────────────────────────────────\n",
       "_{on}__p⋅(2⋅γₘ + k_{off}__r) + k_{off}__r⋅k_{on}__r⋅(2⋅γₘ + k_{off}__p) - (2⋅γ\n",
       "\n",
       ") + k_{off}__p⋅(2⋅γₘ + k_{off}__r)⋅(rₘ⋅{\\langle m_P__0 \\rangle} + {\\langle m_P\n",
       "──────────────────────────────────────────────────────────────────────────────\n",
       "ₘ + k_{off}__p)⋅(2⋅γₘ + k_{off}__r)⋅(2⋅γₘ + k_{on}__p + k_{on}__r)            \n",
       "\n",
       "__1 \\rangle}⋅(γₘ + 2⋅rₘ)))                             -γₘ⋅k_{off}__r⋅k_{on}__\n",
       "───────────────────────────, {\\langle m_P__2 \\rangle}: ───────────────────────\n",
       "                                                                              \n",
       "\n",
       "p⋅{\\langle m_R__1 \\rangle} - γₘ⋅k_{on}__p⋅{\\langle m_E__1 \\rangle}⋅(2⋅γₘ + k_{\n",
       "──────────────────────────────────────────────────────────────────────────────\n",
       "                           k_{off}__p⋅k_{on}__p⋅(2⋅γₘ + k_{off}__r) + k_{off}_\n",
       "\n",
       "off}__r) + (k_{off}__r⋅k_{on}__r - (2⋅γₘ + k_{off}__r)⋅(2⋅γₘ + k_{on}__p + k_{\n",
       "──────────────────────────────────────────────────────────────────────────────\n",
       "_r⋅k_{on}__r⋅(2⋅γₘ + k_{off}__p) - (2⋅γₘ + k_{off}__p)⋅(2⋅γₘ + k_{off}__r)⋅(2⋅\n",
       "\n",
       "on}__r))⋅(rₘ⋅{\\langle m_P__0 \\rangle} + {\\langle m_P__1 \\rangle}⋅(γₘ + 2⋅rₘ)) \n",
       "─────────────────────────────────────────────────────────────────────────────,\n",
       "γₘ + k_{on}__p + k_{on}__r)                                                   \n",
       "\n",
       "                           -γₘ⋅k_{on}__r⋅{\\langle m_E__1 \\rangle}⋅(2⋅γₘ + k_{o\n",
       " {\\langle m_R__2 \\rangle}: ───────────────────────────────────────────────────\n",
       "                                                                             k\n",
       "\n",
       "ff}__p) + γₘ⋅{\\langle m_R__1 \\rangle}⋅(k_{off}__p⋅k_{on}__p - (2⋅γₘ + k_{off}_\n",
       "──────────────────────────────────────────────────────────────────────────────\n",
       "_{off}__p⋅k_{on}__p⋅(2⋅γₘ + k_{off}__r) + k_{off}__r⋅k_{on}__r⋅(2⋅γₘ + k_{off}\n",
       "\n",
       "_p)⋅(2⋅γₘ + k_{on}__p + k_{on}__r)) - k_{off}__p⋅k_{on}__r⋅(rₘ⋅{\\langle m_P__0\n",
       "──────────────────────────────────────────────────────────────────────────────\n",
       "__p) - (2⋅γₘ + k_{off}__p)⋅(2⋅γₘ + k_{off}__r)⋅(2⋅γₘ + k_{on}__p + k_{on}__r) \n",
       "\n",
       " \\rangle} + {\\langle m_P__1 \\rangle}⋅(γₘ + 2⋅rₘ))⎫\n",
       "─────────────────────────────────────────────────⎬\n",
       "                                                 ⎭"
      ]
     },
     "execution_count": 85,
     "metadata": {},
     "output_type": "execute_result"
    }
   ],
   "source": [
    "# Solve linear system for the three moments\n",
    "second_sol = sympy.solve_linear_system(second_aug, mp_2, me_2, mr_2)\n",
    "second_sol"
   ]
  },
  {
   "cell_type": "code",
   "execution_count": 90,
   "metadata": {
    "scrolled": false
   },
   "outputs": [
    {
     "data": {
      "text/latex": [
       "$$\\frac{r_{m}}{\\left(k_{off}^p k_{off}^r + k_{off}^p k_{on}^r + k_{off}^r k_{on}^p\\right) \\left(k_{off}^p k_{on}^p \\left(\\gamma_{m} + k_{off}^r\\right) + k_{off}^r k_{on}^r \\left(\\gamma_{m} + k_{off}^p\\right) - \\left(\\gamma_{m} + k_{off}^p\\right) \\left(\\gamma_{m} + k_{off}^r\\right) \\left(\\gamma_{m} + k_{on}^p + k_{on}^r\\right)\\right) \\left(k_{off}^p k_{on}^p \\left(2 \\gamma_{m} + k_{off}^r\\right) + k_{off}^r k_{on}^r \\left(2 \\gamma_{m} + k_{off}^p\\right) - \\left(2 \\gamma_{m} + k_{off}^p\\right) \\left(2 \\gamma_{m} + k_{off}^r\\right) \\left(2 \\gamma_{m} + k_{on}^p + k_{on}^r\\right)\\right)} \\left(\\gamma_{m} k_{off}^p k_{off}^r k_{on}^p^{2} \\left(\\gamma_{m} + k_{off}^r\\right) \\left(2 \\gamma_{m} + k_{off}^r\\right) + \\gamma_{m} k_{off}^p k_{off}^r k_{on}^p k_{on}^r {\\langle m_P^0 \\rangle} \\left(k_{off}^p k_{off}^r + k_{off}^p k_{on}^r + k_{off}^r k_{on}^p\\right) + \\gamma_{m} k_{off}^p k_{off}^r k_{on}^r {\\langle m_P^0 \\rangle} \\left(2 \\gamma_{m} + k_{off}^p\\right) \\left(k_{off}^p k_{off}^r + k_{off}^p k_{on}^r + k_{off}^r k_{on}^p\\right) - \\gamma_{m} k_{off}^p k_{on}^r {\\langle m_P^0 \\rangle} \\left(k_{off}^p k_{on}^p - \\left(2 \\gamma_{m} + k_{off}^p\\right) \\left(2 \\gamma_{m} + k_{on}^p + k_{on}^r\\right)\\right) \\left(k_{off}^p k_{off}^r + k_{off}^p k_{on}^r + k_{off}^r k_{on}^p\\right) - k_{off}^p k_{on}^r \\left(- \\gamma_{m} k_{off}^r k_{on}^p \\left(\\gamma_{m} + k_{off}^r\\right) \\left(2 \\gamma_{m} + k_{off}^p\\right) + k_{off}^r k_{on}^p \\left(k_{off}^p k_{on}^p \\left(\\gamma_{m} + k_{off}^r\\right) + k_{off}^r k_{on}^r \\left(\\gamma_{m} + k_{off}^p\\right) - \\left(\\gamma_{m} + k_{off}^p\\right) \\left(\\gamma_{m} + k_{off}^r\\right) \\left(\\gamma_{m} + k_{on}^p + k_{on}^r\\right)\\right) + {\\langle m_P^0 \\rangle} \\left(\\gamma_{m} + 2 r_{m}\\right) \\left(k_{off}^r k_{on}^r - \\left(\\gamma_{m} + k_{off}^r\\right) \\left(\\gamma_{m} + k_{on}^p + k_{on}^r\\right)\\right) \\left(k_{off}^p k_{off}^r + k_{off}^p k_{on}^r + k_{off}^r k_{on}^p\\right)\\right) + k_{off}^p \\left(2 \\gamma_{m} + k_{off}^r\\right) \\left(\\gamma_{m} k_{off}^r k_{on}^p \\left(\\gamma_{m} + k_{off}^r\\right) \\left(2 \\gamma_{m} + k_{off}^p\\right) - k_{off}^r k_{on}^p \\left(k_{off}^p k_{on}^p \\left(\\gamma_{m} + k_{off}^r\\right) + k_{off}^r k_{on}^r \\left(\\gamma_{m} + k_{off}^p\\right) - \\left(\\gamma_{m} + k_{off}^p\\right) \\left(\\gamma_{m} + k_{off}^r\\right) \\left(\\gamma_{m} + k_{on}^p + k_{on}^r\\right)\\right) - {\\langle m_P^0 \\rangle} \\left(\\gamma_{m} + 2 r_{m}\\right) \\left(k_{off}^r k_{on}^r - \\left(\\gamma_{m} + k_{off}^r\\right) \\left(\\gamma_{m} + k_{on}^p + k_{on}^r\\right)\\right) \\left(k_{off}^p k_{off}^r + k_{off}^p k_{on}^r + k_{off}^r k_{on}^p\\right)\\right) + \\left(k_{off}^r k_{on}^r - \\left(2 \\gamma_{m} + k_{off}^r\\right) \\left(2 \\gamma_{m} + k_{on}^p + k_{on}^r\\right)\\right) \\left(k_{off}^r k_{on}^p \\left(k_{off}^p k_{on}^p \\left(\\gamma_{m} + k_{off}^r\\right) + k_{off}^r k_{on}^r \\left(\\gamma_{m} + k_{off}^p\\right) - \\left(\\gamma_{m} + k_{off}^p\\right) \\left(\\gamma_{m} + k_{off}^r\\right) \\left(\\gamma_{m} + k_{on}^p + k_{on}^r\\right)\\right) + {\\langle m_P^0 \\rangle} \\left(\\gamma_{m} + 2 r_{m}\\right) \\left(k_{off}^r k_{on}^r - \\left(\\gamma_{m} + k_{off}^r\\right) \\left(\\gamma_{m} + k_{on}^p + k_{on}^r\\right)\\right) \\left(k_{off}^p k_{off}^r + k_{off}^p k_{on}^r + k_{off}^r k_{on}^p\\right)\\right)\\right)$$"
      ],
      "text/plain": [
       "   ⎛                                  2                                       \n",
       "rₘ⋅⎝γₘ⋅k_{off}__p⋅k_{off}__r⋅k_{on}__p ⋅(γₘ + k_{off}__r)⋅(2⋅γₘ + k_{off}__r) \n",
       "──────────────────────────────────────────────────────────────────────────────\n",
       "                                                                              \n",
       "\n",
       "                                                                              \n",
       "+ γₘ⋅k_{off}__p⋅k_{off}__r⋅k_{on}__p⋅k_{on}__r⋅{\\langle m_P__0 \\rangle}⋅(k_{of\n",
       "──────────────────────────────────────────────────────────────────────────────\n",
       "                                                                              \n",
       "\n",
       "                                                                              \n",
       "f}__p⋅k_{off}__r + k_{off}__p⋅k_{on}__r + k_{off}__r⋅k_{on}__p) + γₘ⋅k_{off}__\n",
       "──────────────────────────────────────────────────────────────────────────────\n",
       "                                                                              \n",
       "\n",
       "                                                                              \n",
       "p⋅k_{off}__r⋅k_{on}__r⋅{\\langle m_P__0 \\rangle}⋅(2⋅γₘ + k_{off}__p)⋅(k_{off}__\n",
       "──────────────────────────────────────────────────────────────────────────────\n",
       "                                                                              \n",
       "\n",
       "                                                                              \n",
       "p⋅k_{off}__r + k_{off}__p⋅k_{on}__r + k_{off}__r⋅k_{on}__p) - γₘ⋅k_{off}__p⋅k_\n",
       "──────────────────────────────────────────────────────────────────────────────\n",
       "                                                                              \n",
       "\n",
       "                                                                              \n",
       "{on}__r⋅{\\langle m_P__0 \\rangle}⋅(k_{off}__p⋅k_{on}__p - (2⋅γₘ + k_{off}__p)⋅(\n",
       "──────────────────────────────────────────────────────────────────────────────\n",
       "                                                                              \n",
       "\n",
       "                                                                              \n",
       "2⋅γₘ + k_{on}__p + k_{on}__r))⋅(k_{off}__p⋅k_{off}__r + k_{off}__p⋅k_{on}__r +\n",
       "──────────────────────────────────────────────────────────────────────────────\n",
       "                                                                              \n",
       "\n",
       "                                                                              \n",
       " k_{off}__r⋅k_{on}__p) - k_{off}__p⋅k_{on}__r⋅(-γₘ⋅k_{off}__r⋅k_{on}__p⋅(γₘ + \n",
       "──────────────────────────────────────────────────────────────────────────────\n",
       "                                                                              \n",
       "\n",
       "                                                                              \n",
       "k_{off}__r)⋅(2⋅γₘ + k_{off}__p) + k_{off}__r⋅k_{on}__p⋅(k_{off}__p⋅k_{on}__p⋅(\n",
       "──────────────────────────────────────────────────────────────────────────────\n",
       "                                                                              \n",
       "\n",
       "                                                                              \n",
       "γₘ + k_{off}__r) + k_{off}__r⋅k_{on}__r⋅(γₘ + k_{off}__p) - (γₘ + k_{off}__p)⋅\n",
       "──────────────────────────────────────────────────────────────────────────────\n",
       "                                                       (k_{off}__p⋅k_{off}__r \n",
       "\n",
       "                                                                              \n",
       "(γₘ + k_{off}__r)⋅(γₘ + k_{on}__p + k_{on}__r)) + {\\langle m_P__0 \\rangle}⋅(γₘ\n",
       "──────────────────────────────────────────────────────────────────────────────\n",
       "+ k_{off}__p⋅k_{on}__r + k_{off}__r⋅k_{on}__p)⋅(k_{off}__p⋅k_{on}__p⋅(γₘ + k_{\n",
       "\n",
       "                                                                              \n",
       " + 2⋅rₘ)⋅(k_{off}__r⋅k_{on}__r - (γₘ + k_{off}__r)⋅(γₘ + k_{on}__p + k_{on}__r\n",
       "──────────────────────────────────────────────────────────────────────────────\n",
       "off}__r) + k_{off}__r⋅k_{on}__r⋅(γₘ + k_{off}__p) - (γₘ + k_{off}__p)⋅(γₘ + k_\n",
       "\n",
       "                                                                              \n",
       "))⋅(k_{off}__p⋅k_{off}__r + k_{off}__p⋅k_{on}__r + k_{off}__r⋅k_{on}__p)) + k_\n",
       "──────────────────────────────────────────────────────────────────────────────\n",
       "{off}__r)⋅(γₘ + k_{on}__p + k_{on}__r))⋅(k_{off}__p⋅k_{on}__p⋅(2⋅γₘ + k_{off}_\n",
       "\n",
       "                                                                              \n",
       "{off}__p⋅(2⋅γₘ + k_{off}__r)⋅(γₘ⋅k_{off}__r⋅k_{on}__p⋅(γₘ + k_{off}__r)⋅(2⋅γₘ \n",
       "──────────────────────────────────────────────────────────────────────────────\n",
       "_r) + k_{off}__r⋅k_{on}__r⋅(2⋅γₘ + k_{off}__p) - (2⋅γₘ + k_{off}__p)⋅(2⋅γₘ + k\n",
       "\n",
       "                                                                              \n",
       "+ k_{off}__p) - k_{off}__r⋅k_{on}__p⋅(k_{off}__p⋅k_{on}__p⋅(γₘ + k_{off}__r) +\n",
       "──────────────────────────────────────────────────────────────────────────────\n",
       "_{off}__r)⋅(2⋅γₘ + k_{on}__p + k_{on}__r))                                    \n",
       "\n",
       "                                                                              \n",
       " k_{off}__r⋅k_{on}__r⋅(γₘ + k_{off}__p) - (γₘ + k_{off}__p)⋅(γₘ + k_{off}__r)⋅\n",
       "──────────────────────────────────────────────────────────────────────────────\n",
       "                                                                              \n",
       "\n",
       "                                                                              \n",
       "(γₘ + k_{on}__p + k_{on}__r)) - {\\langle m_P__0 \\rangle}⋅(γₘ + 2⋅rₘ)⋅(k_{off}_\n",
       "──────────────────────────────────────────────────────────────────────────────\n",
       "                                                                              \n",
       "\n",
       "                                                                              \n",
       "_r⋅k_{on}__r - (γₘ + k_{off}__r)⋅(γₘ + k_{on}__p + k_{on}__r))⋅(k_{off}__p⋅k_{\n",
       "──────────────────────────────────────────────────────────────────────────────\n",
       "                                                                              \n",
       "\n",
       "                                                                              \n",
       "off}__r + k_{off}__p⋅k_{on}__r + k_{off}__r⋅k_{on}__p)) + (k_{off}__r⋅k_{on}__\n",
       "──────────────────────────────────────────────────────────────────────────────\n",
       "                                                                              \n",
       "\n",
       "                                                                              \n",
       "r - (2⋅γₘ + k_{off}__r)⋅(2⋅γₘ + k_{on}__p + k_{on}__r))⋅(k_{off}__r⋅k_{on}__p⋅\n",
       "──────────────────────────────────────────────────────────────────────────────\n",
       "                                                                              \n",
       "\n",
       "                                                                              \n",
       "(k_{off}__p⋅k_{on}__p⋅(γₘ + k_{off}__r) + k_{off}__r⋅k_{on}__r⋅(γₘ + k_{off}__\n",
       "──────────────────────────────────────────────────────────────────────────────\n",
       "                                                                              \n",
       "\n",
       "                                                                              \n",
       "p) - (γₘ + k_{off}__p)⋅(γₘ + k_{off}__r)⋅(γₘ + k_{on}__p + k_{on}__r)) + {\\lan\n",
       "──────────────────────────────────────────────────────────────────────────────\n",
       "                                                                              \n",
       "\n",
       "                                                                              \n",
       "gle m_P__0 \\rangle}⋅(γₘ + 2⋅rₘ)⋅(k_{off}__r⋅k_{on}__r - (γₘ + k_{off}__r)⋅(γₘ \n",
       "──────────────────────────────────────────────────────────────────────────────\n",
       "                                                                              \n",
       "\n",
       "                                                                              \n",
       "+ k_{on}__p + k_{on}__r))⋅(k_{off}__p⋅k_{off}__r + k_{off}__p⋅k_{on}__r + k_{o\n",
       "──────────────────────────────────────────────────────────────────────────────\n",
       "                                                                              \n",
       "\n",
       "                  ⎞\n",
       "ff}__r⋅k_{on}__p))⎠\n",
       "───────────────────\n",
       "                   "
      ]
     },
     "execution_count": 90,
     "metadata": {},
     "output_type": "execute_result"
    }
   ],
   "source": [
    "sympy.simplify(sum(second_sol.values()).subs({**first_sol, **zero_sol}))"
   ]
  },
  {
   "cell_type": "code",
   "execution_count": null,
   "metadata": {
    "collapsed": true
   },
   "outputs": [],
   "source": []
  }
 ],
 "metadata": {
  "anaconda-cloud": {},
  "kernelspec": {
   "display_name": "Python 3",
   "language": "python",
   "name": "python3"
  },
  "language_info": {
   "codemirror_mode": {
    "name": "ipython",
    "version": 3
   },
   "file_extension": ".py",
   "mimetype": "text/x-python",
   "name": "python",
   "nbconvert_exporter": "python",
   "pygments_lexer": "ipython3",
   "version": "3.6.3"
  }
 },
 "nbformat": 4,
 "nbformat_minor": 1
}
