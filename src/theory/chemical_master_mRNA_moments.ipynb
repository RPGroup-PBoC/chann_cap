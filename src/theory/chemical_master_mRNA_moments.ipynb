{
 "cells": [
  {
   "cell_type": "markdown",
   "metadata": {},
   "source": [
    "# The moments of the distribution for mRNA and protein in a two- and three-state promoter."
   ]
  },
  {
   "cell_type": "markdown",
   "metadata": {},
   "source": [
    "(c) 2017 Manuel Razo. This work is licensed under a [Creative Commons Attribution License CC-BY 4.0](https://creativecommons.org/licenses/by/4.0/). All code contained herein is licensed under an [MIT license](https://opensource.org/licenses/MIT)"
   ]
  },
  {
   "cell_type": "code",
   "execution_count": 1,
   "metadata": {
    "collapsed": true
   },
   "outputs": [],
   "source": [
    "import glob\n",
    "# Our numerical workhorses\n",
    "import numpy as np\n",
    "import scipy.optimize\n",
    "import scipy.special\n",
    "import scipy.integrate\n",
    "import mpmath\n",
    "# To compute symbolic expressions\n",
    "import sympy\n",
    "# sympy.init_printing(use_unicode=True) # print outputs in LaTeX\n",
    "sympy.init_printing(use_latex=True) # print outputs in LaTeX\n",
    "\n",
    "import pandas as pd\n",
    "# Import libraries to parallelize processes\n",
    "from joblib import Parallel, delayed\n",
    "\n",
    "# Import matplotlib stuff for plotting\n",
    "import matplotlib.pyplot as plt\n",
    "import matplotlib.cm as cm\n",
    "import matplotlib as mpl\n",
    "\n",
    "# Seaborn, useful for graphics\n",
    "import seaborn as sns\n",
    "\n",
    "# Import the utils for this project\n",
    "import chann_cap_utils as chann_cap\n",
    "\n",
    "# Set PBoC plotting style\n",
    "chann_cap.set_plotting_style()\n",
    "\n",
    "# Magic function to make matplotlib inline; other style specs must come AFTER\n",
    "%matplotlib inline\n",
    "\n",
    "# This enables SVG graphics inline (only use with static plots (non-Bokeh))\n",
    "%config InlineBackend.figure_format = 'svg'\n",
    "\n",
    "# figdir = '../../fig/chemical_master_analytic_mRNA/'\n",
    "# tmpdir = '../../tmp/'"
   ]
  },
  {
   "cell_type": "markdown",
   "metadata": {},
   "source": [
    "### $\\LaTeX$ macros\n",
    "$\\newcommand{kpon}{k^p_{\\text{on}}}$\n",
    "$\\newcommand{kpoff}{k^p_{\\text{off}}}$\n",
    "$\\newcommand{kron}{k^r_{\\text{on}}}$\n",
    "$\\newcommand{kroff}{k^r_{\\text{off}}}$\n",
    "$\\newcommand{rm}{r _m}$\n",
    "$\\newcommand{gm}{\\gamma _m}$\n",
    "$\\newcommand{mm}{\\left\\langle m \\right\\rangle}$"
   ]
  },
  {
   "cell_type": "markdown",
   "metadata": {},
   "source": [
    "# Two-state promoter (mRNA)\n",
    "\n",
    "In this section we will perform the linear algebra to solve for the steady-state moments of the mRNA distribution.\n",
    "\n",
    "Up to this stage we wrote the chemical master equation in matrix notation and did some tricks when it came to compute the $n^{\\text{th}}$ moment. Now we will use the equations we obtained for the time derivative of the mRNA distribution moments and set that to steady-state to solve for the moments themselves.\n",
    "\n",
    "Let's first define the `sympy` variables that we will need for the two- and three-state promoter."
   ]
  },
  {
   "cell_type": "code",
   "execution_count": 2,
   "metadata": {},
   "outputs": [
    {
     "data": {
      "image/png": "[encoded data removed]",
      "text/latex": [
       "$$\\left ( {k_{off}^p}, \\quad {k_{on}^p}, \\quad {k_{off}^r}, \\quad {k_{on}^r}, \\quad r_{m}, \\quad \\gamma_{m}\\right )$$"
      ],
      "text/plain": [
       "({k_{off}__p}, {k_{on}__p}, {k_{off}__r}, {k_{on}__r}, rₘ, γₘ)"
      ]
     },
     "execution_count": 2,
     "metadata": {},
     "output_type": "execute_result"
    }
   ],
   "source": [
    "# Define rate constant variables\n",
    "kp_off, kp_on = sympy.symbols('{k_{off}^p} {k_{on}^p}')\n",
    "kr_off, kr_on = sympy.symbols('{k_{off}^r} {k_{on}^r}')\n",
    "\n",
    "# Define degradation rate and production rate\n",
    "rm, gm = sympy.symbols('r_m gamma_m')\n",
    "\n",
    "kp_off, kp_on, kr_off, kr_on, rm, gm"
   ]
  },
  {
   "cell_type": "markdown",
   "metadata": {},
   "source": [
    "Let's now define a function that generates a `sympy` variable of the form $\\left\\langle x^n \\right\\rangle$ to easily define the variables to save the moments."
   ]
  },
  {
   "cell_type": "code",
   "execution_count": 3,
   "metadata": {
    "collapsed": true
   },
   "outputs": [],
   "source": [
    "def moment_sympy(var, moment):\n",
    "    '''\n",
    "    Shortcut to generate variables of the form <var**n> in sympy to facilitate the\n",
    "    definition of the moment variables\n",
    "    Parameters\n",
    "    ----------\n",
    "    var : string.\n",
    "        variable name string that should be put inside the <> parenthesis.\n",
    "    moment : int.\n",
    "        exponent of the moment to be defined.\n",
    "    '''\n",
    "    return sympy.Symbol('{\\\\langle ' + var + '^{:d}'.format(moment) + '\\\\rangle}')"
   ]
  },
  {
   "cell_type": "markdown",
   "metadata": {},
   "source": [
    "Now let's define the moment variables for the unregulated promoter."
   ]
  },
  {
   "cell_type": "code",
   "execution_count": 35,
   "metadata": {},
   "outputs": [
    {
     "data": {
      "image/png": "[encoded data removed]",
      "text/latex": [
       "$$\\left ( \\left [ {\\langle m_{P_{unreg}}^0\\rangle}, \\quad {\\langle m_{E_{unreg}}^0\\rangle}\\right ], \\quad \\left [ {\\langle m_{P_{unreg}}^1\\rangle}, \\quad {\\langle m_{E_{unreg}}^1\\rangle}\\right ], \\quad \\left [ {\\langle m_{P_{unreg}}^2\\rangle}, \\quad {\\langle m_{E_{unreg}}^2\\rangle}\\right ], \\quad \\left [ {\\langle m_{P_{unreg}}^3\\rangle}, \\quad {\\langle m_{E_{unreg}}^3\\rangle}\\right ]\\right )$$"
      ],
      "text/plain": [
       "([{\\langle m_{P_{unreg}}__0\\rangle}, {\\langle m_{E_{unreg}}__0\\rangle}], [{\\la\n",
       "ngle m_{P_{unreg}}__1\\rangle}, {\\langle m_{E_{unreg}}__1\\rangle}], [{\\langle m\n",
       "_{P_{unreg}}__2\\rangle}, {\\langle m_{E_{unreg}}__2\\rangle}], [{\\langle m_{P_{u\n",
       "nreg}}__3\\rangle}, {\\langle m_{E_{unreg}}__3\\rangle}])"
      ]
     },
     "execution_count": 35,
     "metadata": {},
     "output_type": "execute_result"
    }
   ],
   "source": [
    "# Define the string for the states\n",
    "m_unreg = ['m_{P_{unreg}}', 'm_{E_{unreg}}']\n",
    "\n",
    "# Define the zeroth moments\n",
    "m0_unreg = [moment_sympy(x, 0) for x in m_unreg]\n",
    "# Define the first moments\n",
    "m1_unreg = [moment_sympy(x, 1) for x in m_unreg]\n",
    "# Define the second moments\n",
    "m2_unreg = [moment_sympy(x, 2) for x in m_unreg]\n",
    "# Define the second moments\n",
    "m3_unreg = [moment_sympy(x, 3) for x in m_unreg]\n",
    "\n",
    "m0_unreg, m1_unreg, m2_unreg, m3_unreg"
   ]
  },
  {
   "cell_type": "markdown",
   "metadata": {},
   "source": [
    "Now we will define the state transition matrix $\\mathbf{K}^u$, the mRNA production matrix $\\mathbf{R}^u_m$ and the mRNA degradation matrix $\\mathbf{\\Gamma}^u_m$."
   ]
  },
  {
   "cell_type": "code",
   "execution_count": 5,
   "metadata": {},
   "outputs": [
    {
     "data": {
      "image/png": "[encoded data removed]",
      "text/latex": [
       "$$\\left ( \\left[\\begin{matrix}- {k_{off}^p} & {k_{on}^p}\\\\{k_{off}^p} & - {k_{on}^p}\\end{matrix}\\right], \\quad \\left[\\begin{matrix}r_{m} & 0\\\\0 & 0\\end{matrix}\\right], \\quad \\left[\\begin{matrix}\\gamma_{m} & 0\\\\0 & \\gamma_{m}\\end{matrix}\\right]\\right )$$"
      ],
      "text/plain": [
       "⎛⎡-{k_{off}__p}  {k_{on}__p} ⎤  ⎡rₘ  0⎤  ⎡γₘ  0 ⎤⎞\n",
       "⎜⎢                           ⎥, ⎢     ⎥, ⎢      ⎥⎟\n",
       "⎝⎣{k_{off}__p}   -{k_{on}__p}⎦  ⎣0   0⎦  ⎣0   γₘ⎦⎠"
      ]
     },
     "execution_count": 5,
     "metadata": {},
     "output_type": "execute_result"
    }
   ],
   "source": [
    "# Define the rate constant matrix\n",
    "Kmat_unreg = sympy.Matrix([[-kp_off, kp_on], \n",
    "                           [kp_off, -kp_on]])\n",
    "# Define the production matrix\n",
    "Rmat_unreg = sympy.Matrix([[rm, 0], \n",
    "                           [0, 0]])\n",
    "# Define the degradation matrix\n",
    "Gmat_unreg = sympy.Matrix([[gm, 0],\n",
    "                           [0, gm]])\n",
    "\n",
    "Kmat_unreg, Rmat_unreg, Gmat_unreg"
   ]
  },
  {
   "cell_type": "markdown",
   "metadata": {},
   "source": [
    "### Zeroth moment two-state promoter\n",
    "In order to solve for the two-state promoter we have two equations to use\n",
    "$$\n",
    "1 = \\mathbf{u} \\cdot \\left\\langle \\mathbf{m}^0 \\right\\rangle,\n",
    "$$\n",
    "where $u = (1, 1)$ and $\\left\\langle \\mathbf{m}^0 \\right\\rangle$ is the vector containing all the states, and\n",
    "$$\n",
    "\\mathbf{0} = \\mathbf{K}^u_m \\left\\langle \\mathbf{m}^0 \\right\\rangle.\n",
    "$$\n",
    "\n",
    "We will use the linear algebra solver where we write an extended matrix with the last column being the right hand side of these equations.\n",
    "\n",
    "Let's now define this extended matrix."
   ]
  },
  {
   "cell_type": "code",
   "execution_count": 6,
   "metadata": {},
   "outputs": [
    {
     "data": {
      "image/png": "[encoded data removed]",
      "text/latex": [
       "$$\\left[\\begin{matrix}1 & 1 & 1\\\\- {k_{off}^p} & {k_{on}^p} & 0\\\\{k_{off}^p} & - {k_{on}^p} & 0\\end{matrix}\\right]$$"
      ],
      "text/plain": [
       "⎡      1             1        1⎤\n",
       "⎢                              ⎥\n",
       "⎢-{k_{off}__p}  {k_{on}__p}   0⎥\n",
       "⎢                              ⎥\n",
       "⎣{k_{off}__p}   -{k_{on}__p}  0⎦"
      ]
     },
     "execution_count": 6,
     "metadata": {},
     "output_type": "execute_result"
    }
   ],
   "source": [
    "# Add the extra row for the normalization constraint\n",
    "K_sys_unreg = Kmat_unreg.row_insert(0, sympy.Matrix([1, 1]).transpose())\n",
    "\n",
    "# Define right-side array\n",
    "b = sympy.Matrix([1, 0, 0])\n",
    "\n",
    "# Define augmented matrix\n",
    "zero_aug_unreg = K_sys_unreg.col_insert(2, b)\n",
    "zero_aug_unreg"
   ]
  },
  {
   "cell_type": "markdown",
   "metadata": {},
   "source": [
    "Now we solve the equation for the two state moments."
   ]
  },
  {
   "cell_type": "code",
   "execution_count": 7,
   "metadata": {},
   "outputs": [
    {
     "data": {
      "image/png": "[encoded data removed]",
      "text/latex": [
       "$$\\left \\{ {\\langle m_{E_{unreg}}^0\\rangle} : \\frac{{k_{off}^p}}{{k_{off}^p} + {k_{on}^p}}, \\quad {\\langle m_{P_{unreg}}^0\\rangle} : \\frac{{k_{on}^p}}{{k_{off}^p} + {k_{on}^p}}\\right \\}$$"
      ],
      "text/plain": [
       "⎧                                          {k_{off}__p}                       \n",
       "⎨{\\langle m_{E_{unreg}}__0\\rangle}: ──────────────────────────, {\\langle m_{P_\n",
       "⎩                                   {k_{off}__p} + {k_{on}__p}                \n",
       "\n",
       "                            {k_{on}__p}        ⎫\n",
       "{unreg}}__0\\rangle}: ──────────────────────────⎬\n",
       "                     {k_{off}__p} + {k_{on}__p}⎭"
      ]
     },
     "execution_count": 7,
     "metadata": {},
     "output_type": "execute_result"
    }
   ],
   "source": [
    "# Solve linear system for the three zeroth moments\n",
    "zero_sol_unreg = sympy.solve_linear_system(zero_aug_unreg, *m0_unreg)\n",
    "zero_sol_unreg"
   ]
  },
  {
   "cell_type": "markdown",
   "metadata": {},
   "source": [
    "### First moment two-state promoter\n",
    "\n",
    "Now that we have the zeroth moment that indicates the probability of being on either state let's now compute the first moment. For this we have the matrix equation\n",
    "$$\n",
    "\\mathbf{0} = \\left( \\mathbf{K}^u_m - \\mathbf{\\Gamma}^u_m  \\right)\n",
    "             + \\mathbf{R}^u_m \\left\\langle \\mathbf{m}^0 \\right\\rangle.\n",
    "$$\n",
    "\n",
    "Let's write this system in the form of the augmented matrix."
   ]
  },
  {
   "cell_type": "code",
   "execution_count": 8,
   "metadata": {},
   "outputs": [
    {
     "data": {
      "image/png": "[encoded data removed]",
      "text/latex": [
       "$$\\left[\\begin{matrix}- \\gamma_{m} - {k_{off}^p} & {k_{on}^p} & - r_{m} {\\langle m_{P_{unreg}}^0\\rangle}\\\\{k_{off}^p} & - \\gamma_{m} - {k_{on}^p} & 0\\end{matrix}\\right]$$"
      ],
      "text/plain": [
       "⎡-γₘ - {k_{off}__p}     {k_{on}__p}     -rₘ⋅{\\langle m_{P_{unreg}}__0\\rangle}⎤\n",
       "⎢                                                                            ⎥\n",
       "⎣   {k_{off}__p}     -γₘ - {k_{on}__p}                    0                  ⎦"
      ]
     },
     "execution_count": 8,
     "metadata": {},
     "output_type": "execute_result"
    }
   ],
   "source": [
    "# Define augmented matrix for first moment\n",
    "first_aug_unreg = (Kmat_unreg - Gmat_unreg).col_insert(2, \n",
    "                                            -Rmat_unreg * sympy.Matrix(m0_unreg))\n",
    "first_aug_unreg"
   ]
  },
  {
   "cell_type": "markdown",
   "metadata": {},
   "source": [
    "And again we use the `sympy` solver to solve for the first moments"
   ]
  },
  {
   "cell_type": "code",
   "execution_count": 9,
   "metadata": {},
   "outputs": [
    {
     "data": {
      "image/png": "[encoded data removed]",
      "text/latex": [
       "$$\\left \\{ {\\langle m_{E_{unreg}}^1\\rangle} : \\frac{r_{m} {\\langle m_{P_{unreg}}^0\\rangle} {k_{off}^p}}{\\gamma_{m} \\left(\\gamma_{m} + {k_{off}^p} + {k_{on}^p}\\right)}, \\quad {\\langle m_{P_{unreg}}^1\\rangle} : \\frac{r_{m} {\\langle m_{P_{unreg}}^0\\rangle} \\left(\\gamma_{m} + {k_{on}^p}\\right)}{\\gamma_{m} \\left(\\gamma_{m} + {k_{off}^p} + {k_{on}^p}\\right)}\\right \\}$$"
      ],
      "text/plain": [
       "⎧                                   rₘ⋅{\\langle m_{P_{unreg}}__0\\rangle}⋅{k_{o\n",
       "⎨{\\langle m_{E_{unreg}}__1\\rangle}: ──────────────────────────────────────────\n",
       "⎩                                          γₘ⋅(γₘ + {k_{off}__p} + {k_{on}__p}\n",
       "\n",
       "ff}__p}                                     rₘ⋅{\\langle m_{P_{unreg}}__0\\rangl\n",
       "───────, {\\langle m_{P_{unreg}}__1\\rangle}: ──────────────────────────────────\n",
       ")                                                     γₘ⋅(γₘ + {k_{off}__p} + \n",
       "\n",
       "e}⋅(γₘ + {k_{on}__p})⎫\n",
       "─────────────────────⎬\n",
       "{k_{on}__p})         ⎭"
      ]
     },
     "execution_count": 9,
     "metadata": {},
     "output_type": "execute_result"
    }
   ],
   "source": [
    "# Solve linear system for the three moments\n",
    "first_sol_unreg = sympy.solve_linear_system(first_aug_unreg, *m1_unreg)\n",
    "first_sol_unreg"
   ]
  },
  {
   "cell_type": "markdown",
   "metadata": {},
   "source": [
    "We now sum both elements and substitute the solution for the zeroth moments"
   ]
  },
  {
   "cell_type": "code",
   "execution_count": 10,
   "metadata": {},
   "outputs": [
    {
     "data": {
      "image/png": "[encoded data removed]",
      "text/latex": [
       "$$\\frac{r_{m} {k_{on}^p}}{\\gamma_{m} \\left({k_{off}^p} + {k_{on}^p}\\right)}$$"
      ],
      "text/plain": [
       "         rₘ⋅{k_{on}__p}        \n",
       "───────────────────────────────\n",
       "γₘ⋅({k_{off}__p} + {k_{on}__p})"
      ]
     },
     "execution_count": 10,
     "metadata": {},
     "output_type": "execute_result"
    }
   ],
   "source": [
    "first_unreg = sympy.simplify(sum(first_sol_unreg.values()).subs(zero_sol_unreg))\n",
    "first_unreg"
   ]
  },
  {
   "cell_type": "markdown",
   "metadata": {},
   "source": [
    "### Second moment two-state promoter\n",
    "\n",
    "Finally for the second moment we have an equation of the form\n",
    "$$\n",
    "\\mathbf{0} = \\left( \\mathbf{K}^u_m - 2 \\mathbf{\\Gamma}^u_n \\right) \n",
    "             \\left\\langle \\mathbf{m}^2 \\right\\rangle\n",
    "             + \\left( 2 \\mathbf{R}^u_m + \\mathbf{\\Gamma}^u_m \\right)\n",
    "             \\left\\langle \\mathbf{m}^1 \\right\\rangle\n",
    "             + \\mathbf{R}^u_m\n",
    "             \\left\\langle \\mathbf{m}^0 \\right\\rangle\n",
    "$$\n",
    "\n",
    "Let's again define this augmented matrix."
   ]
  },
  {
   "cell_type": "code",
   "execution_count": 11,
   "metadata": {},
   "outputs": [
    {
     "data": {
      "image/png": "[encoded data removed]",
      "text/latex": [
       "$$\\left[\\begin{matrix}2 \\gamma_{m} + {k_{off}^p} & - {k_{on}^p} & r_{m} {\\langle m_{P_{unreg}}^0\\rangle} + {\\langle m_{P_{unreg}}^1\\rangle} \\left(\\gamma_{m} + 2 r_{m}\\right)\\\\- {k_{off}^p} & 2 \\gamma_{m} + {k_{on}^p} & \\gamma_{m} {\\langle m_{E_{unreg}}^1\\rangle}\\end{matrix}\\right]$$"
      ],
      "text/plain": [
       "⎡2⋅γₘ + {k_{off}__p}     -{k_{on}__p}     rₘ⋅{\\langle m_{P_{unreg}}__0\\rangle}\n",
       "⎢                                                                             \n",
       "⎣   -{k_{off}__p}     2⋅γₘ + {k_{on}__p}                          γₘ⋅{\\langle \n",
       "\n",
       " + {\\langle m_{P_{unreg}}__1\\rangle}⋅(γₘ + 2⋅rₘ)⎤\n",
       "                                                ⎥\n",
       "m_{E_{unreg}}__1\\rangle}                        ⎦"
      ]
     },
     "execution_count": 11,
     "metadata": {},
     "output_type": "execute_result"
    }
   ],
   "source": [
    "# Define augmented matrix for second moment\n",
    "second_aug_unreg = (2 * Gmat_unreg - Kmat_unreg).col_insert(2, \n",
    "                   (2 * Rmat_unreg + Gmat_unreg) * sympy.Matrix(m1_unreg)\\\n",
    "                   + Rmat_unreg * sympy.Matrix(m0_unreg))\n",
    "second_aug_unreg"
   ]
  },
  {
   "cell_type": "code",
   "execution_count": 12,
   "metadata": {},
   "outputs": [
    {
     "data": {
      "image/png": "[encoded data removed]",
      "text/latex": [
       "$$\\left \\{ {\\langle m_{E_{unreg}}^2\\rangle} : - \\frac{\\gamma_{m} {\\langle m_{E_{unreg}}^1\\rangle} \\left(2 \\gamma_{m} + {k_{off}^p}\\right) + {k_{off}^p} \\left(r_{m} {\\langle m_{P_{unreg}}^0\\rangle} + {\\langle m_{P_{unreg}}^1\\rangle} \\left(\\gamma_{m} + 2 r_{m}\\right)\\right)}{{k_{off}^p} {k_{on}^p} - \\left(2 \\gamma_{m} + {k_{off}^p}\\right) \\left(2 \\gamma_{m} + {k_{on}^p}\\right)}, \\quad {\\langle m_{P_{unreg}}^2\\rangle} : - \\frac{\\gamma_{m} {\\langle m_{E_{unreg}}^1\\rangle} {k_{on}^p} + \\left(2 \\gamma_{m} + {k_{on}^p}\\right) \\left(r_{m} {\\langle m_{P_{unreg}}^0\\rangle} + {\\langle m_{P_{unreg}}^1\\rangle} \\left(\\gamma_{m} + 2 r_{m}\\right)\\right)}{{k_{off}^p} {k_{on}^p} - \\left(2 \\gamma_{m} + {k_{off}^p}\\right) \\left(2 \\gamma_{m} + {k_{on}^p}\\right)}\\right \\}$$"
      ],
      "text/plain": [
       "⎧                                   -(γₘ⋅{\\langle m_{E_{unreg}}__1\\rangle}⋅(2⋅\n",
       "⎨{\\langle m_{E_{unreg}}__2\\rangle}: ──────────────────────────────────────────\n",
       "⎩                                                                             \n",
       "\n",
       "γₘ + {k_{off}__p}) + {k_{off}__p}⋅(rₘ⋅{\\langle m_{P_{unreg}}__0\\rangle} + {\\la\n",
       "──────────────────────────────────────────────────────────────────────────────\n",
       "     {k_{off}__p}⋅{k_{on}__p} - (2⋅γₘ + {k_{off}__p})⋅(2⋅γₘ + {k_{on}__p})    \n",
       "\n",
       "ngle m_{P_{unreg}}__1\\rangle}⋅(γₘ + 2⋅rₘ)))                                   \n",
       "────────────────────────────────────────────, {\\langle m_{P_{unreg}}__2\\rangle\n",
       "                                                                              \n",
       "\n",
       "   -(γₘ⋅{\\langle m_{E_{unreg}}__1\\rangle}⋅{k_{on}__p} + (2⋅γₘ + {k_{on}__p})⋅(\n",
       "}: ───────────────────────────────────────────────────────────────────────────\n",
       "                                                 {k_{off}__p}⋅{k_{on}__p} - (2\n",
       "\n",
       "rₘ⋅{\\langle m_{P_{unreg}}__0\\rangle} + {\\langle m_{P_{unreg}}__1\\rangle}⋅(γₘ +\n",
       "──────────────────────────────────────────────────────────────────────────────\n",
       "⋅γₘ + {k_{off}__p})⋅(2⋅γₘ + {k_{on}__p})                                      \n",
       "\n",
       " 2⋅rₘ))) ⎫\n",
       "─────────⎬\n",
       "         ⎭"
      ]
     },
     "execution_count": 12,
     "metadata": {},
     "output_type": "execute_result"
    }
   ],
   "source": [
    "# Solve linear system for the three moments\n",
    "second_sol_unreg = sympy.solve_linear_system(second_aug_unreg, *m2_unreg)\n",
    "second_sol_unreg"
   ]
  },
  {
   "cell_type": "markdown",
   "metadata": {},
   "source": [
    "Again let's add both of these moments to obtain the global second moment."
   ]
  },
  {
   "cell_type": "code",
   "execution_count": 13,
   "metadata": {},
   "outputs": [
    {
     "data": {
      "image/png": "[encoded data removed]",
      "text/latex": [
       "$$\\frac{1}{2 \\gamma_{m}} \\left(\\gamma_{m} {\\langle m_{E_{unreg}}^1\\rangle} + \\gamma_{m} {\\langle m_{P_{unreg}}^1\\rangle} + r_{m} {\\langle m_{P_{unreg}}^0\\rangle} + 2 r_{m} {\\langle m_{P_{unreg}}^1\\rangle}\\right)$$"
      ],
      "text/plain": [
       "γₘ⋅{\\langle m_{E_{unreg}}__1\\rangle} + γₘ⋅{\\langle m_{P_{unreg}}__1\\rangle} + \n",
       "──────────────────────────────────────────────────────────────────────────────\n",
       "                                                                            2⋅\n",
       "\n",
       "rₘ⋅{\\langle m_{P_{unreg}}__0\\rangle} + 2⋅rₘ⋅{\\langle m_{P_{unreg}}__1\\rangle}\n",
       "─────────────────────────────────────────────────────────────────────────────\n",
       "γₘ                                                                           "
      ]
     },
     "execution_count": 13,
     "metadata": {},
     "output_type": "execute_result"
    }
   ],
   "source": [
    "second_unreg = sympy.simplify(sum(second_sol_unreg.values()))\n",
    "second_unreg"
   ]
  },
  {
   "cell_type": "markdown",
   "metadata": {},
   "source": [
    "Let's now substitute the solution for the sum of the first moments."
   ]
  },
  {
   "cell_type": "code",
   "execution_count": 14,
   "metadata": {},
   "outputs": [
    {
     "data": {
      "image/png": "[encoded data removed]",
      "text/latex": [
       "$$\\frac{r_{m}}{\\gamma_{m}} \\left({\\langle m_{P_{unreg}}^0\\rangle} + {\\langle m_{P_{unreg}}^1\\rangle}\\right)$$"
      ],
      "text/plain": [
       "rₘ⋅({\\langle m_{P_{unreg}}__0\\rangle} + {\\langle m_{P_{unreg}}__1\\rangle})\n",
       "──────────────────────────────────────────────────────────────────────────\n",
       "                                    γₘ                                    "
      ]
     },
     "execution_count": 14,
     "metadata": {},
     "output_type": "execute_result"
    }
   ],
   "source": [
    "second_unreg_s = second_unreg.subs(gm * m1_unreg[0] + gm * m1_unreg[1], \n",
    "                  gm * sympy.simplify(sum(first_sol_unreg.values())))\n",
    "sympy.simplify(second_unreg_s)"
   ]
  },
  {
   "cell_type": "markdown",
   "metadata": {},
   "source": [
    "This is the answer shown in PBoC. Now is a matter of substituting the other solutions to obtain the second moment."
   ]
  },
  {
   "cell_type": "code",
   "execution_count": 15,
   "metadata": {},
   "outputs": [
    {
     "data": {
      "image/png": "[encoded data removed]",
      "text/latex": [
       "$$\\frac{r_{m} {k_{on}^p}}{\\gamma_{m} \\left({k_{off}^p} + {k_{on}^p}\\right)} \\left(1 + \\frac{r_{m} \\left(\\gamma_{m} + {k_{on}^p}\\right)}{\\gamma_{m} \\left(\\gamma_{m} + {k_{off}^p} + {k_{on}^p}\\right)}\\right)$$"
      ],
      "text/plain": [
       "               ⎛           rₘ⋅(γₘ + {k_{on}__p})        ⎞\n",
       "rₘ⋅{k_{on}__p}⋅⎜1 + ────────────────────────────────────⎟\n",
       "               ⎝    γₘ⋅(γₘ + {k_{off}__p} + {k_{on}__p})⎠\n",
       "─────────────────────────────────────────────────────────\n",
       "             γₘ⋅({k_{off}__p} + {k_{on}__p})             "
      ]
     },
     "execution_count": 15,
     "metadata": {},
     "output_type": "execute_result"
    }
   ],
   "source": [
    "second_unreg_ss = sympy.simplify(second_unreg_s).\\\n",
    "                  subs(first_sol_unreg).subs(zero_sol_unreg).\\\n",
    "                  collect(kp_on / (kp_on + kp_off))\n",
    "second_unreg_ss"
   ]
  },
  {
   "cell_type": "markdown",
   "metadata": {},
   "source": [
    "Let's now compute the variance and the fano-factor to confirm that we obtain the exact same results as derived in PBoC."
   ]
  },
  {
   "cell_type": "code",
   "execution_count": 16,
   "metadata": {},
   "outputs": [
    {
     "data": {
      "image/png": "[encoded data removed]",
      "text/latex": [
       "$$\\frac{r_{m} {k_{on}^p}}{\\gamma_{m} \\left({k_{off}^p} + {k_{on}^p}\\right)} \\left(1 + \\frac{r_{m} \\left(\\gamma_{m} + {k_{on}^p}\\right)}{\\gamma_{m} \\left(\\gamma_{m} + {k_{off}^p} + {k_{on}^p}\\right)}\\right) - \\frac{r_{m}^{2} {k_{on}^p}^{2}}{\\gamma_{m}^{2} \\left({k_{off}^p} + {k_{on}^p}\\right)^{2}}$$"
      ],
      "text/plain": [
       "               ⎛           rₘ⋅(γₘ + {k_{on}__p})        ⎞                     \n",
       "rₘ⋅{k_{on}__p}⋅⎜1 + ────────────────────────────────────⎟              2      \n",
       "               ⎝    γₘ⋅(γₘ + {k_{off}__p} + {k_{on}__p})⎠            rₘ ⋅{k_{o\n",
       "───────────────────────────────────────────────────────── - ──────────────────\n",
       "             γₘ⋅({k_{off}__p} + {k_{on}__p})                  2               \n",
       "                                                            γₘ ⋅({k_{off}__p} \n",
       "\n",
       "               \n",
       "      2        \n",
       "n}__p}         \n",
       "───────────────\n",
       "              2\n",
       "+ {k_{on}__p}) "
      ]
     },
     "execution_count": 16,
     "metadata": {},
     "output_type": "execute_result"
    }
   ],
   "source": [
    "# Compute the variance of the unregulated promoter\n",
    "var_unreg = second_unreg_ss - first_unreg**2\n",
    "var_unreg"
   ]
  },
  {
   "cell_type": "code",
   "execution_count": 17,
   "metadata": {},
   "outputs": [
    {
     "data": {
      "image/png": "[encoded data removed]",
      "text/latex": [
       "$$\\frac{\\gamma_{m}}{r_{m} {k_{on}^p}} \\left({k_{off}^p} + {k_{on}^p}\\right) \\left(\\frac{r_{m} {k_{on}^p}}{\\gamma_{m} \\left({k_{off}^p} + {k_{on}^p}\\right)} \\left(1 + \\frac{r_{m} \\left(\\gamma_{m} + {k_{on}^p}\\right)}{\\gamma_{m} \\left(\\gamma_{m} + {k_{off}^p} + {k_{on}^p}\\right)}\\right) - \\frac{r_{m}^{2} {k_{on}^p}^{2}}{\\gamma_{m}^{2} \\left({k_{off}^p} + {k_{on}^p}\\right)^{2}}\\right)$$"
      ],
      "text/plain": [
       "                                ⎛               ⎛           rₘ⋅(γₘ + {k_{on}__\n",
       "                                ⎜rₘ⋅{k_{on}__p}⋅⎜1 + ─────────────────────────\n",
       "                                ⎜               ⎝    γₘ⋅(γₘ + {k_{off}__p} + {\n",
       "γₘ⋅({k_{off}__p} + {k_{on}__p})⋅⎜─────────────────────────────────────────────\n",
       "                                ⎜             γₘ⋅({k_{off}__p} + {k_{on}__p}) \n",
       "                                ⎝                                             \n",
       "──────────────────────────────────────────────────────────────────────────────\n",
       "                                                         rₘ⋅{k_{on}__p}       \n",
       "\n",
       "p})        ⎞                                    ⎞\n",
       "───────────⎟              2            2        ⎟\n",
       "k_{on}__p})⎠            rₘ ⋅{k_{on}__p}         ⎟\n",
       "──────────── - ─────────────────────────────────⎟\n",
       "                 2                             2⎟\n",
       "               γₘ ⋅({k_{off}__p} + {k_{on}__p}) ⎠\n",
       "─────────────────────────────────────────────────\n",
       "                                                 "
      ]
     },
     "execution_count": 17,
     "metadata": {},
     "output_type": "execute_result"
    }
   ],
   "source": [
    "# Compute the fano factor of the unregulated promoter\n",
    "fano_unreg = var_unreg / first_unreg\n",
    "fano_unreg"
   ]
  },
  {
   "cell_type": "markdown",
   "metadata": {},
   "source": [
    "Let's manually define the fano-factor as reported in PBoC and compare both expressions."
   ]
  },
  {
   "cell_type": "code",
   "execution_count": 18,
   "metadata": {},
   "outputs": [
    {
     "data": {
      "image/png": "[encoded data removed]",
      "text/latex": [
       "$$\\frac{r_{m} {k_{off}^p}}{\\left({k_{off}^p} + {k_{on}^p}\\right) \\left(\\gamma_{m} + {k_{off}^p} + {k_{on}^p}\\right)} + 1$$"
      ],
      "text/plain": [
       "                       rₘ⋅{k_{off}__p}                            \n",
       "────────────────────────────────────────────────────────────── + 1\n",
       "({k_{off}__p} + {k_{on}__p})⋅(γₘ + {k_{off}__p} + {k_{on}__p})    "
      ]
     },
     "execution_count": 18,
     "metadata": {},
     "output_type": "execute_result"
    }
   ],
   "source": [
    "fano_pboc = 1 + kp_off / (kp_off + kp_on) * rm / (kp_off + kp_on + gm)\n",
    "fano_pboc"
   ]
  },
  {
   "cell_type": "code",
   "execution_count": 19,
   "metadata": {},
   "outputs": [
    {
     "data": {
      "text/plain": [
       "True"
      ]
     },
     "execution_count": 19,
     "metadata": {},
     "output_type": "execute_result"
    }
   ],
   "source": [
    "fano_pboc.ratsimp() == fano_unreg.ratsimp()"
   ]
  },
  {
   "cell_type": "markdown",
   "metadata": {},
   "source": [
    "### Third moment two-state promoter\n",
    "\n",
    "As an extra derivation we will include the 3rd moment in our calculation. This will be useful to define the equations to compute the parameters. The matrix equation for the 3rd moment is given by\n",
    "$$\n",
    "\\mathbf{0} = \\left( \\mathbf{K}^u_m - 3 \\mathbf{\\Gamma}^u_n \\right) \n",
    "             \\left\\langle \\mathbf{m}^2 \\right\\rangle\n",
    "             + \\left( 3 \\mathbf{R}^u_m + 3 \\mathbf{\\Gamma}^u_m \\right)\n",
    "             \\left\\langle \\mathbf{m}^2 \\right\\rangle\n",
    "             + \\left( 3 \\mathbf{R}^u_m - \\mathbf{\\Gamma}^u_m \\right)\n",
    "             \\left\\langle \\mathbf{m}^1 \\right\\rangle\n",
    "             + \\mathbf{R}^u_m\n",
    "             \\left\\langle \\mathbf{m}^0 \\right\\rangle\n",
    "$$\n",
    "\n",
    "Let's again define this augmented matrix."
   ]
  },
  {
   "cell_type": "code",
   "execution_count": 36,
   "metadata": {},
   "outputs": [
    {
     "data": {
      "image/png": "[encoded data removed]",
      "text/latex": [
       "$$\\left[\\begin{matrix}3 \\gamma_{m} + {k_{off}^p} & - {k_{on}^p} & r_{m} {\\langle m_{P_{unreg}}^0\\rangle} + {\\langle m_{P_{unreg}}^1\\rangle} \\left(- \\gamma_{m} + 3 r_{m}\\right) + {\\langle m_{P_{unreg}}^2\\rangle} \\left(3 \\gamma_{m} + 3 r_{m}\\right)\\\\- {k_{off}^p} & 3 \\gamma_{m} + {k_{on}^p} & - \\gamma_{m} {\\langle m_{E_{unreg}}^1\\rangle} + 3 \\gamma_{m} {\\langle m_{E_{unreg}}^2\\rangle}\\end{matrix}\\right]$$"
      ],
      "text/plain": [
       "⎡3⋅γₘ + {k_{off}__p}     -{k_{on}__p}     rₘ⋅{\\langle m_{P_{unreg}}__0\\rangle}\n",
       "⎢                                                                             \n",
       "⎣   -{k_{off}__p}     3⋅γₘ + {k_{on}__p}                              -γₘ⋅{\\la\n",
       "\n",
       " + {\\langle m_{P_{unreg}}__1\\rangle}⋅(-γₘ + 3⋅rₘ) + {\\langle m_{P_{unreg}}__2\\\n",
       "                                                                              \n",
       "ngle m_{E_{unreg}}__1\\rangle} + 3⋅γₘ⋅{\\langle m_{E_{unreg}}__2\\rangle}        \n",
       "\n",
       "rangle}⋅(3⋅γₘ + 3⋅rₘ)⎤\n",
       "                     ⎥\n",
       "                     ⎦"
      ]
     },
     "execution_count": 36,
     "metadata": {},
     "output_type": "execute_result"
    }
   ],
   "source": [
    "# Define augmented matrix for third moment\n",
    "third_aug_unreg = (3 * Gmat_unreg - Kmat_unreg).col_insert(2, \n",
    "                  (3 * Rmat_unreg + 3 * Gmat_unreg) * sympy.Matrix(m2_unreg)\\\n",
    "                  + (3 * Rmat_unreg - Gmat_unreg) * sympy.Matrix(m1_unreg)\n",
    "                  + Rmat_unreg * sympy.Matrix(m0_unreg))\n",
    "third_aug_unreg"
   ]
  },
  {
   "cell_type": "code",
   "execution_count": 37,
   "metadata": {},
   "outputs": [
    {
     "data": {
      "image/png": "[encoded data removed]",
      "text/latex": [
       "$$\\left \\{ {\\langle m_{E_{unreg}}^3\\rangle} : \\frac{1}{{k_{off}^p} {k_{on}^p} - \\left(3 \\gamma_{m} + {k_{off}^p}\\right) \\left(3 \\gamma_{m} + {k_{on}^p}\\right)} \\left(\\gamma_{m} \\left(3 \\gamma_{m} + {k_{off}^p}\\right) \\left({\\langle m_{E_{unreg}}^1\\rangle} - 3 {\\langle m_{E_{unreg}}^2\\rangle}\\right) - {k_{off}^p} \\left(r_{m} {\\langle m_{P_{unreg}}^0\\rangle} - {\\langle m_{P_{unreg}}^1\\rangle} \\left(\\gamma_{m} - 3 r_{m}\\right) + 3 {\\langle m_{P_{unreg}}^2\\rangle} \\left(\\gamma_{m} + r_{m}\\right)\\right)\\right), \\quad {\\langle m_{P_{unreg}}^3\\rangle} : \\frac{1}{{k_{off}^p} {k_{on}^p} - \\left(3 \\gamma_{m} + {k_{off}^p}\\right) \\left(3 \\gamma_{m} + {k_{on}^p}\\right)} \\left(\\gamma_{m} {k_{on}^p} \\left({\\langle m_{E_{unreg}}^1\\rangle} - 3 {\\langle m_{E_{unreg}}^2\\rangle}\\right) - \\left(3 \\gamma_{m} + {k_{on}^p}\\right) \\left(r_{m} {\\langle m_{P_{unreg}}^0\\rangle} - {\\langle m_{P_{unreg}}^1\\rangle} \\left(\\gamma_{m} - 3 r_{m}\\right) + 3 {\\langle m_{P_{unreg}}^2\\rangle} \\left(\\gamma_{m} + r_{m}\\right)\\right)\\right)\\right \\}$$"
      ],
      "text/plain": [
       "⎧                                   γₘ⋅(3⋅γₘ + {k_{off}__p})⋅({\\langle m_{E_{u\n",
       "⎨{\\langle m_{E_{unreg}}__3\\rangle}: ──────────────────────────────────────────\n",
       "⎩                                                                             \n",
       "\n",
       "nreg}}__1\\rangle} - 3⋅{\\langle m_{E_{unreg}}__2\\rangle}) - {k_{off}__p}⋅(rₘ⋅{\\\n",
       "──────────────────────────────────────────────────────────────────────────────\n",
       "                                               {k_{off}__p}⋅{k_{on}__p} - (3⋅γ\n",
       "\n",
       "langle m_{P_{unreg}}__0\\rangle} - {\\langle m_{P_{unreg}}__1\\rangle}⋅(γₘ - 3⋅rₘ\n",
       "──────────────────────────────────────────────────────────────────────────────\n",
       "ₘ + {k_{off}__p})⋅(3⋅γₘ + {k_{on}__p})                                        \n",
       "\n",
       ") + 3⋅{\\langle m_{P_{unreg}}__2\\rangle}⋅(γₘ + rₘ))                            \n",
       "──────────────────────────────────────────────────, {\\langle m_{P_{unreg}}__3\\\n",
       "                                                                              \n",
       "\n",
       "         γₘ⋅{k_{on}__p}⋅({\\langle m_{E_{unreg}}__1\\rangle} - 3⋅{\\langle m_{E_{\n",
       "rangle}: ─────────────────────────────────────────────────────────────────────\n",
       "                                                                              \n",
       "\n",
       "unreg}}__2\\rangle}) - (3⋅γₘ + {k_{on}__p})⋅(rₘ⋅{\\langle m_{P_{unreg}}__0\\rangl\n",
       "──────────────────────────────────────────────────────────────────────────────\n",
       "                   {k_{off}__p}⋅{k_{on}__p} - (3⋅γₘ + {k_{off}__p})⋅(3⋅γₘ + {k\n",
       "\n",
       "e} - {\\langle m_{P_{unreg}}__1\\rangle}⋅(γₘ - 3⋅rₘ) + 3⋅{\\langle m_{P_{unreg}}_\n",
       "──────────────────────────────────────────────────────────────────────────────\n",
       "_{on}__p})                                                                    \n",
       "\n",
       "_2\\rangle}⋅(γₘ + rₘ))⎫\n",
       "─────────────────────⎬\n",
       "                     ⎭"
      ]
     },
     "execution_count": 37,
     "metadata": {},
     "output_type": "execute_result"
    }
   ],
   "source": [
    "# Solve linear system for the three moments\n",
    "third_sol_unreg = sympy.solve_linear_system(third_aug_unreg, *m3_unreg)\n",
    "third_sol_unreg"
   ]
  },
  {
   "cell_type": "markdown",
   "metadata": {},
   "source": [
    "As usual let's add these moments"
   ]
  },
  {
   "cell_type": "code",
   "execution_count": 39,
   "metadata": {},
   "outputs": [
    {
     "data": {
      "image/png": "[encoded data removed]",
      "text/latex": [
       "$$- \\frac{{\\langle m_{E_{unreg}}^1\\rangle}}{3} + {\\langle m_{E_{unreg}}^2\\rangle} - \\frac{{\\langle m_{P_{unreg}}^1\\rangle}}{3} + {\\langle m_{P_{unreg}}^2\\rangle} + \\frac{r_{m} {\\langle m_{P_{unreg}}^0\\rangle}}{3 \\gamma_{m}} + \\frac{r_{m}}{\\gamma_{m}} {\\langle m_{P_{unreg}}^1\\rangle} + \\frac{r_{m}}{\\gamma_{m}} {\\langle m_{P_{unreg}}^2\\rangle}$$"
      ],
      "text/plain": [
       "  {\\langle m_{E_{unreg}}__1\\rangle}                                       {\\la\n",
       "- ───────────────────────────────── + {\\langle m_{E_{unreg}}__2\\rangle} - ────\n",
       "                  3                                                           \n",
       "\n",
       "ngle m_{P_{unreg}}__1\\rangle}                                       rₘ⋅{\\langl\n",
       "───────────────────────────── + {\\langle m_{P_{unreg}}__2\\rangle} + ──────────\n",
       "            3                                                                 \n",
       "\n",
       "e m_{P_{unreg}}__0\\rangle}   rₘ⋅{\\langle m_{P_{unreg}}__1\\rangle}   rₘ⋅{\\langl\n",
       "────────────────────────── + ──────────────────────────────────── + ──────────\n",
       "      3⋅γₘ                                    γₘ                              \n",
       "\n",
       "e m_{P_{unreg}}__2\\rangle}\n",
       "──────────────────────────\n",
       "       γₘ                 "
      ]
     },
     "execution_count": 39,
     "metadata": {},
     "output_type": "execute_result"
    }
   ],
   "source": [
    "third_unreg = sum(third_sol_unreg.values()).simplify()\n",
    "third_unreg"
   ]
  },
  {
   "cell_type": "code",
   "execution_count": 76,
   "metadata": {},
   "outputs": [
    {
     "data": {
      "image/png": "[encoded data removed]",
      "text/latex": [
       "$$\\frac{r_{m} {k_{on}^p} \\left(2 \\gamma_{m}^{4} + 6 \\gamma_{m}^{3} r_{m} + 3 \\gamma_{m}^{3} {k_{off}^p} + 3 \\gamma_{m}^{3} {k_{on}^p} + 2 \\gamma_{m}^{2} r_{m}^{2} + 3 \\gamma_{m}^{2} r_{m} {k_{off}^p} + 9 \\gamma_{m}^{2} r_{m} {k_{on}^p} + \\gamma_{m}^{2} {k_{off}^p}^{2} + 2 \\gamma_{m}^{2} {k_{off}^p} {k_{on}^p} + \\gamma_{m}^{2} {k_{on}^p}^{2} + 3 \\gamma_{m} r_{m}^{2} {k_{on}^p} + 3 \\gamma_{m} r_{m} {k_{off}^p} {k_{on}^p} + 3 \\gamma_{m} r_{m} {k_{on}^p}^{2} + r_{m}^{2} {k_{on}^p}^{2}\\right)}{\\gamma_{m}^{3} \\left(2 \\gamma_{m}^{2} {k_{off}^p} + 2 \\gamma_{m}^{2} {k_{on}^p} + 3 \\gamma_{m} {k_{off}^p}^{2} + 6 \\gamma_{m} {k_{off}^p} {k_{on}^p} + 3 \\gamma_{m} {k_{on}^p}^{2} + {k_{off}^p}^{3} + 3 {k_{off}^p}^{2} {k_{on}^p} + 3 {k_{off}^p} {k_{on}^p}^{2} + {k_{on}^p}^{3}\\right)}$$"
      ],
      "text/plain": [
       "               ⎛    4       3          3                    3                 \n",
       "rₘ⋅{k_{on}__p}⋅⎝2⋅γₘ  + 6⋅γₘ ⋅rₘ + 3⋅γₘ ⋅{k_{off}__p} + 3⋅γₘ ⋅{k_{on}__p} + 2⋅\n",
       "──────────────────────────────────────────────────────────────────────────────\n",
       "                                                   3 ⎛    2                   \n",
       "                                                 γₘ ⋅⎝2⋅γₘ ⋅{k_{off}__p} + 2⋅γ\n",
       "\n",
       "  2   2       2                       2                    2             2    \n",
       "γₘ ⋅rₘ  + 3⋅γₘ ⋅rₘ⋅{k_{off}__p} + 9⋅γₘ ⋅rₘ⋅{k_{on}__p} + γₘ ⋅{k_{off}__p}  + 2\n",
       "──────────────────────────────────────────────────────────────────────────────\n",
       " 2                                2                                           \n",
       "ₘ ⋅{k_{on}__p} + 3⋅γₘ⋅{k_{off}__p}  + 6⋅γₘ⋅{k_{off}__p}⋅{k_{on}__p} + 3⋅γₘ⋅{k_\n",
       "\n",
       "   2                              2            2          2                   \n",
       "⋅γₘ ⋅{k_{off}__p}⋅{k_{on}__p} + γₘ ⋅{k_{on}__p}  + 3⋅γₘ⋅rₘ ⋅{k_{on}__p} + 3⋅γₘ\n",
       "──────────────────────────────────────────────────────────────────────────────\n",
       "        2               3                 2                                   \n",
       "{on}__p}  + {k_{off}__p}  + 3⋅{k_{off}__p} ⋅{k_{on}__p} + 3⋅{k_{off}__p}⋅{k_{o\n",
       "\n",
       "                                                  2     2            2⎞\n",
       "⋅rₘ⋅{k_{off}__p}⋅{k_{on}__p} + 3⋅γₘ⋅rₘ⋅{k_{on}__p}  + rₘ ⋅{k_{on}__p} ⎠\n",
       "───────────────────────────────────────────────────────────────────────\n",
       "      2              3⎞                                                \n",
       "n}__p}  + {k_{on}__p} ⎠                                                "
      ]
     },
     "execution_count": 76,
     "metadata": {},
     "output_type": "execute_result"
    }
   ],
   "source": [
    "third_unreg_ss = third_unreg.subs(second_sol_unreg).\\\n",
    "                 subs(first_sol_unreg).subs(zero_sol_unreg)\n",
    "third_unreg_ss.simplify()"
   ]
  },
  {
   "cell_type": "markdown",
   "metadata": {},
   "source": [
    "## Deriving expressions for the parameters.\n",
    "\n",
    "Just as Peccoud & Ycart did we will find equations that solve for the parameters in the equation."
   ]
  },
  {
   "cell_type": "code",
   "execution_count": 93,
   "metadata": {},
   "outputs": [
    {
     "data": {
      "image/png": "[encoded data removed]",
      "text/latex": [
       "$$\\frac{r_{m} {k_{on}^p}}{{k_{off}^p} + {k_{on}^p}}$$"
      ],
      "text/plain": [
       "      rₘ⋅{k_{on}__p}      \n",
       "──────────────────────────\n",
       "{k_{off}__p} + {k_{on}__p}"
      ]
     },
     "execution_count": 93,
     "metadata": {},
     "output_type": "execute_result"
    }
   ],
   "source": [
    "r1 = first_unreg.subs(gm, 1)\n",
    "r1"
   ]
  },
  {
   "cell_type": "code",
   "execution_count": 94,
   "metadata": {},
   "outputs": [
    {
     "data": {
      "image/png": "[encoded data removed]",
      "text/latex": [
       "$$\\frac{r_{m} \\left({k_{on}^p} + 1\\right)}{{k_{off}^p} + {k_{on}^p} + 1}$$"
      ],
      "text/plain": [
       "     rₘ⋅({k_{on}__p} + 1)     \n",
       "──────────────────────────────\n",
       "{k_{off}__p} + {k_{on}__p} + 1"
      ]
     },
     "execution_count": 94,
     "metadata": {},
     "output_type": "execute_result"
    }
   ],
   "source": [
    "r2 = ((second_unreg_ss - first_unreg) / first_unreg).subs(gm, 1).simplify()\n",
    "r2"
   ]
  },
  {
   "cell_type": "code",
   "execution_count": 95,
   "metadata": {},
   "outputs": [
    {
     "data": {
      "image/png": "[encoded data removed]",
      "text/latex": [
       "$$\\frac{r_{m} \\left({k_{on}^p} + 2\\right)}{{k_{off}^p} + {k_{on}^p} + 2}$$"
      ],
      "text/plain": [
       "     rₘ⋅({k_{on}__p} + 2)     \n",
       "──────────────────────────────\n",
       "{k_{off}__p} + {k_{on}__p} + 2"
      ]
     },
     "execution_count": 95,
     "metadata": {},
     "output_type": "execute_result"
    }
   ],
   "source": [
    "r3 = ((third_unreg_ss - 3 * second_unreg_ss + 2 * first_unreg) / \\\n",
    "     (second_unreg_ss - first_unreg)).subs(gm, 1).simplify()\n",
    "r3"
   ]
  },
  {
   "cell_type": "code",
   "execution_count": 96,
   "metadata": {},
   "outputs": [
    {
     "data": {
      "image/png": "[encoded data removed]",
      "text/latex": [
       "$$\\left [ \\left ( \\frac{2 \\left(r_{1} - r_{2}\\right) \\left(r_{1} - r_{3}\\right) \\left(r_{2} - r_{3}\\right)}{\\left(r_{1} - 2 r_{2} + r_{3}\\right) \\left(r_{1} r_{2} - 2 r_{1} r_{3} + r_{2} r_{3}\\right)}, \\quad - \\frac{2 r_{1} \\left(r_{2} - r_{3}\\right)}{r_{1} r_{2} - 2 r_{1} r_{3} + r_{2} r_{3}}, \\quad \\frac{- r_{1} r_{2} + 2 r_{1} r_{3} - r_{2} r_{3}}{r_{1} - 2 r_{2} + r_{3}}\\right )\\right ]$$"
      ],
      "text/plain": [
       "⎡⎛     2⋅(r₁ - r₂)⋅(r₁ - r₃)⋅(r₂ - r₃)            -2⋅r₁⋅(r₂ - r₃)      -r₁⋅r₂ \n",
       "⎢⎜──────────────────────────────────────────, ───────────────────────, ───────\n",
       "⎣⎝(r₁ - 2⋅r₂ + r₃)⋅(r₁⋅r₂ - 2⋅r₁⋅r₃ + r₂⋅r₃)  r₁⋅r₂ - 2⋅r₁⋅r₃ + r₂⋅r₃       r₁\n",
       "\n",
       "+ 2⋅r₁⋅r₃ - r₂⋅r₃⎞⎤\n",
       "─────────────────⎟⎥\n",
       " - 2⋅r₂ + r₃     ⎠⎦"
      ]
     },
     "execution_count": 96,
     "metadata": {},
     "output_type": "execute_result"
    }
   ],
   "source": [
    "x1, x2, x3 = sympy.symbols('r_1 r_2 r_3')\n",
    "sympy.solve([r1 - x1, r2 - x2, r3 - x3], kp_off, kp_on, rm)"
   ]
  },
  {
   "cell_type": "markdown",
   "metadata": {},
   "source": [
    "# Three-state promoter (mRNA)\n",
    "\n",
    "Let's now derive the moments for the three-state promoter. The matrix equations remain the same between the two- and the three-state promoter. The only difference is the definition of the state transition, production and degradation matrix.\n",
    "\n",
    "Let's first define the moment variables"
   ]
  },
  {
   "cell_type": "code",
   "execution_count": 99,
   "metadata": {},
   "outputs": [
    {
     "data": {
      "image/png": "[encoded data removed]",
      "text/latex": [
       "$$\\left ( \\left [ {\\langle m_{P_{reg}}^0\\rangle}, \\quad {\\langle m_{E_{reg}}^0\\rangle}, \\quad {\\langle m_{R_{reg}}^0\\rangle}\\right ], \\quad \\left [ {\\langle m_{P_{reg}}^1\\rangle}, \\quad {\\langle m_{E_{reg}}^1\\rangle}, \\quad {\\langle m_{R_{reg}}^1\\rangle}\\right ], \\quad \\left [ {\\langle m_{P_{reg}}^2\\rangle}, \\quad {\\langle m_{E_{reg}}^2\\rangle}, \\quad {\\langle m_{R_{reg}}^2\\rangle}\\right ], \\quad \\left [ {\\langle m_{P_{reg}}^3\\rangle}, \\quad {\\langle m_{E_{reg}}^3\\rangle}, \\quad {\\langle m_{R_{reg}}^3\\rangle}\\right ]\\right )$$"
      ],
      "text/plain": [
       "([{\\langle m_{P_{reg}}__0\\rangle}, {\\langle m_{E_{reg}}__0\\rangle}, {\\langle m\n",
       "_{R_{reg}}__0\\rangle}], [{\\langle m_{P_{reg}}__1\\rangle}, {\\langle m_{E_{reg}}\n",
       "__1\\rangle}, {\\langle m_{R_{reg}}__1\\rangle}], [{\\langle m_{P_{reg}}__2\\rangle\n",
       "}, {\\langle m_{E_{reg}}__2\\rangle}, {\\langle m_{R_{reg}}__2\\rangle}], [{\\langl\n",
       "e m_{P_{reg}}__3\\rangle}, {\\langle m_{E_{reg}}__3\\rangle}, {\\langle m_{R_{reg}\n",
       "}__3\\rangle}])"
      ]
     },
     "execution_count": 99,
     "metadata": {},
     "output_type": "execute_result"
    }
   ],
   "source": [
    "# Define the string for the states\n",
    "m_reg = ['m_{P_{reg}}', 'm_{E_{reg}}', 'm_{R_{reg}}']\n",
    "\n",
    "# Define the zeroth moments\n",
    "m0_reg = [moment_sympy(x, 0) for x in m_reg]\n",
    "# Define the first moments\n",
    "m1_reg = [moment_sympy(x, 1) for x in m_reg]\n",
    "# Define the second moments\n",
    "m2_reg = [moment_sympy(x, 2) for x in m_reg]\n",
    "# Define the second moments\n",
    "m3_reg = [moment_sympy(x, 3) for x in m_reg]\n",
    "\n",
    "m0_reg, m1_reg, m2_reg, m3_reg"
   ]
  },
  {
   "cell_type": "markdown",
   "metadata": {},
   "source": [
    "Now we will define the state transition matrix $\\mathbf{K}^r$, the mRNA production matrix $\\mathbf{R}^r_m$ and the mRNA degradation matrix $\\mathbf{\\Gamma}^r_m$."
   ]
  },
  {
   "cell_type": "code",
   "execution_count": 21,
   "metadata": {},
   "outputs": [
    {
     "data": {
      "image/png": "[encoded data removed]",
      "text/latex": [
       "$$\\left ( \\left[\\begin{matrix}- {k_{off}^p} & {k_{on}^p} & 0\\\\{k_{off}^p} & - {k_{on}^p} - {k_{on}^r} & {k_{off}^r}\\\\0 & {k_{on}^r} & - {k_{off}^r}\\end{matrix}\\right], \\quad \\left[\\begin{matrix}r_{m} & 0 & 0\\\\0 & 0 & 0\\\\0 & 0 & 0\\end{matrix}\\right], \\quad \\left[\\begin{matrix}\\gamma_{m} & 0 & 0\\\\0 & \\gamma_{m} & 0\\\\0 & 0 & \\gamma_{m}\\end{matrix}\\right]\\right )$$"
      ],
      "text/plain": [
       "⎛⎡-{k_{off}__p}         {k_{on}__p}                0      ⎤  ⎡rₘ  0  0⎤  ⎡γₘ  \n",
       "⎜⎢                                                        ⎥  ⎢        ⎥  ⎢    \n",
       "⎜⎢{k_{off}__p}   -{k_{on}__p} - {k_{on}__r}  {k_{off}__r} ⎥, ⎢0   0  0⎥, ⎢0   \n",
       "⎜⎢                                                        ⎥  ⎢        ⎥  ⎢    \n",
       "⎝⎣      0               {k_{on}__r}          -{k_{off}__r}⎦  ⎣0   0  0⎦  ⎣0   \n",
       "\n",
       "0   0 ⎤⎞\n",
       "      ⎥⎟\n",
       "γₘ  0 ⎥⎟\n",
       "      ⎥⎟\n",
       "0   γₘ⎦⎠"
      ]
     },
     "execution_count": 21,
     "metadata": {},
     "output_type": "execute_result"
    }
   ],
   "source": [
    "# Define the rate constant matrix\n",
    "Kmat_reg = sympy.Matrix([[-kp_off, kp_on, 0], \n",
    "                         [kp_off, -(kp_on + kr_on), kr_off],\n",
    "                         [0, kr_on, -kr_off]])\n",
    "# Define the production matrix\n",
    "Rmat_reg = sympy.Matrix([[rm, 0, 0], \n",
    "                         [0, 0, 0],\n",
    "                         [0, 0, 0]])\n",
    "# Define the degradation matrix\n",
    "Gmat_reg = sympy.Matrix([[gm, 0, 0],\n",
    "                         [0, gm, 0],\n",
    "                         [0, 0, gm]])\n",
    "\n",
    "Kmat_reg, Rmat_reg, Gmat_reg"
   ]
  },
  {
   "cell_type": "markdown",
   "metadata": {},
   "source": [
    "### Zeroth moment three-state promoter\n",
    "To solve the zeroth moment for the three-state promoter we use the same set of equations as for the two-state promoter, this is\n",
    "$$\n",
    "1 = \\mathbf{u} \\cdot \\left\\langle \\mathbf{m}^0 \\right\\rangle,\n",
    "$$\n",
    "where this time $u = (1, 1, 1)$ and $\\left\\langle \\mathbf{m}^0 \\right\\rangle$ is the vector containing all *three* states. We use as well\n",
    "$$\n",
    "\\mathbf{0} = \\mathbf{K}^r_m \\left\\langle \\mathbf{m}^0 \\right\\rangle.\n",
    "$$\n",
    "\n",
    "We will again use the linear algebra solver where we write an extended matrix with the last column being the right hand side of these equations.\n",
    "\n",
    "Let's now define this extended matrix."
   ]
  },
  {
   "cell_type": "code",
   "execution_count": 22,
   "metadata": {},
   "outputs": [
    {
     "data": {
      "image/png": "[encoded data removed]",
      "text/latex": [
       "$$\\left[\\begin{matrix}1 & 1 & 1 & 1\\\\- {k_{off}^p} & {k_{on}^p} & 0 & 0\\\\{k_{off}^p} & - {k_{on}^p} - {k_{on}^r} & {k_{off}^r} & 0\\\\0 & {k_{on}^r} & - {k_{off}^r} & 0\\end{matrix}\\right]$$"
      ],
      "text/plain": [
       "⎡      1                    1                     1        1⎤\n",
       "⎢                                                           ⎥\n",
       "⎢-{k_{off}__p}         {k_{on}__p}                0        0⎥\n",
       "⎢                                                           ⎥\n",
       "⎢{k_{off}__p}   -{k_{on}__p} - {k_{on}__r}  {k_{off}__r}   0⎥\n",
       "⎢                                                           ⎥\n",
       "⎣      0               {k_{on}__r}          -{k_{off}__r}  0⎦"
      ]
     },
     "execution_count": 22,
     "metadata": {},
     "output_type": "execute_result"
    }
   ],
   "source": [
    "# Add the extra row for the normalization constraint\n",
    "K_sys_reg = Kmat_reg.row_insert(0, sympy.Matrix([1, 1, 1]).transpose())\n",
    "\n",
    "# Define right-side array\n",
    "b = sympy.Matrix([1, 0, 0, 0])\n",
    "\n",
    "# Define augmented matrix\n",
    "zero_aug_reg = K_sys_reg.col_insert(3, b)\n",
    "zero_aug_reg"
   ]
  },
  {
   "cell_type": "markdown",
   "metadata": {},
   "source": [
    "Let's solve the system for our three zeroth moments."
   ]
  },
  {
   "cell_type": "code",
   "execution_count": 23,
   "metadata": {},
   "outputs": [
    {
     "data": {
      "image/png": "[encoded data removed]",
      "text/latex": [
       "$$\\left \\{ {\\langle m_{E_{reg}}^0\\rangle} : \\frac{{k_{off}^p} {k_{off}^r}}{{k_{off}^p} {k_{off}^r} + {k_{off}^p} {k_{on}^r} + {k_{off}^r} {k_{on}^p}}, \\quad {\\langle m_{P_{reg}}^0\\rangle} : \\frac{{k_{off}^r} {k_{on}^p}}{{k_{off}^p} {k_{off}^r} + {k_{off}^p} {k_{on}^r} + {k_{off}^r} {k_{on}^p}}, \\quad {\\langle m_{R_{reg}}^0\\rangle} : \\frac{{k_{off}^p} {k_{on}^r}}{{k_{off}^p} {k_{off}^r} + {k_{off}^p} {k_{on}^r} + {k_{off}^r} {k_{on}^p}}\\right \\}$$"
      ],
      "text/plain": [
       "⎧                                                            {k_{off}__p}⋅{k_{\n",
       "⎨{\\langle m_{E_{reg}}__0\\rangle}: ────────────────────────────────────────────\n",
       "⎩                                 {k_{off}__p}⋅{k_{off}__r} + {k_{off}__p}⋅{k_\n",
       "\n",
       "off}__r}                                                                      \n",
       "───────────────────────────────────, {\\langle m_{P_{reg}}__0\\rangle}: ────────\n",
       "{on}__r} + {k_{off}__r}⋅{k_{on}__p}                                   {k_{off}\n",
       "\n",
       "                    {k_{off}__r}⋅{k_{on}__p}                                  \n",
       "───────────────────────────────────────────────────────────────────────, {\\lan\n",
       "__p}⋅{k_{off}__r} + {k_{off}__p}⋅{k_{on}__r} + {k_{off}__r}⋅{k_{on}__p}       \n",
       "\n",
       "                                                        {k_{off}__p}⋅{k_{on}__\n",
       "gle m_{R_{reg}}__0\\rangle}: ──────────────────────────────────────────────────\n",
       "                            {k_{off}__p}⋅{k_{off}__r} + {k_{off}__p}⋅{k_{on}__\n",
       "\n",
       "r}                           ⎫\n",
       "─────────────────────────────⎬\n",
       "r} + {k_{off}__r}⋅{k_{on}__p}⎭"
      ]
     },
     "execution_count": 23,
     "metadata": {},
     "output_type": "execute_result"
    }
   ],
   "source": [
    "# Solve linear system for the three zeroth moments\n",
    "zero_sol_reg = sympy.solve_linear_system(zero_aug_reg, *m0_reg)\n",
    "zero_sol_reg"
   ]
  },
  {
   "cell_type": "markdown",
   "metadata": {},
   "source": [
    "Let's quickly confirm that these moments add up to one since each represents the probability of being on each of the promoter states."
   ]
  },
  {
   "cell_type": "code",
   "execution_count": 24,
   "metadata": {},
   "outputs": [
    {
     "data": {
      "image/png": "[encoded data removed]",
      "text/latex": [
       "$$1$$"
      ],
      "text/plain": [
       "1"
      ]
     },
     "execution_count": 24,
     "metadata": {},
     "output_type": "execute_result"
    }
   ],
   "source": [
    "sum(zero_sol_reg.values()).simplify()"
   ]
  },
  {
   "cell_type": "markdown",
   "metadata": {},
   "source": [
    "### First moment three-state promoter\n",
    "\n",
    "Now that we have the zeroth moment that indicates the probability of being on eeach state let's now compute the first moment. We use the same matrix equation as before, this is\n",
    "$$\n",
    "\\mathbf{0} = \\left( \\mathbf{K}^r_m - \\mathbf{\\Gamma}^r_m  \\right)\n",
    "             + \\mathbf{R}^r_m \\left\\langle \\mathbf{m}^0 \\right\\rangle.\n",
    "$$\n",
    "\n",
    "Let's write this system in the form of the augmented matrix."
   ]
  },
  {
   "cell_type": "code",
   "execution_count": 25,
   "metadata": {},
   "outputs": [
    {
     "data": {
      "image/png": "[encoded data removed]",
      "text/latex": [
       "$$\\left[\\begin{matrix}- \\gamma_{m} - {k_{off}^p} & {k_{on}^p} & 0 & - r_{m} {\\langle m_{P_{reg}}^0\\rangle}\\\\{k_{off}^p} & - \\gamma_{m} - {k_{on}^p} - {k_{on}^r} & {k_{off}^r} & 0\\\\0 & {k_{on}^r} & - \\gamma_{m} - {k_{off}^r} & 0\\end{matrix}\\right]$$"
      ],
      "text/plain": [
       "⎡-γₘ - {k_{off}__p}            {k_{on}__p}                    0           -rₘ⋅\n",
       "⎢                                                                             \n",
       "⎢   {k_{off}__p}     -γₘ - {k_{on}__p} - {k_{on}__r}     {k_{off}__r}         \n",
       "⎢                                                                             \n",
       "⎣        0                     {k_{on}__r}            -γₘ - {k_{off}__r}      \n",
       "\n",
       "{\\langle m_{P_{reg}}__0\\rangle}⎤\n",
       "                               ⎥\n",
       "             0                 ⎥\n",
       "                               ⎥\n",
       "             0                 ⎦"
      ]
     },
     "execution_count": 25,
     "metadata": {},
     "output_type": "execute_result"
    }
   ],
   "source": [
    "# Define augmented matrix for first moment\n",
    "first_aug_reg = (Kmat_reg - Gmat_reg).col_insert(3, \n",
    "                                            -Rmat_reg * sympy.Matrix(m0_reg))\n",
    "first_aug_reg"
   ]
  },
  {
   "cell_type": "markdown",
   "metadata": {},
   "source": [
    "Now let's solve the system."
   ]
  },
  {
   "cell_type": "code",
   "execution_count": 26,
   "metadata": {},
   "outputs": [
    {
     "data": {
      "image/png": "[encoded data removed]",
      "text/latex": [
       "$$\\left \\{ {\\langle m_{E_{reg}}^1\\rangle} : - \\frac{r_{m} {\\langle m_{P_{reg}}^0\\rangle} {k_{off}^p} \\left(\\gamma_{m} + {k_{off}^r}\\right)}{{k_{off}^p} {k_{on}^p} \\left(\\gamma_{m} + {k_{off}^r}\\right) + {k_{off}^r} {k_{on}^r} \\left(\\gamma_{m} + {k_{off}^p}\\right) - \\left(\\gamma_{m} + {k_{off}^p}\\right) \\left(\\gamma_{m} + {k_{off}^r}\\right) \\left(\\gamma_{m} + {k_{on}^p} + {k_{on}^r}\\right)}, \\quad {\\langle m_{P_{reg}}^1\\rangle} : \\frac{r_{m} {\\langle m_{P_{reg}}^0\\rangle} \\left({k_{off}^r} {k_{on}^r} - \\left(\\gamma_{m} + {k_{off}^r}\\right) \\left(\\gamma_{m} + {k_{on}^p} + {k_{on}^r}\\right)\\right)}{{k_{off}^p} {k_{on}^p} \\left(\\gamma_{m} + {k_{off}^r}\\right) + {k_{off}^r} {k_{on}^r} \\left(\\gamma_{m} + {k_{off}^p}\\right) - \\left(\\gamma_{m} + {k_{off}^p}\\right) \\left(\\gamma_{m} + {k_{off}^r}\\right) \\left(\\gamma_{m} + {k_{on}^p} + {k_{on}^r}\\right)}, \\quad {\\langle m_{R_{reg}}^1\\rangle} : - \\frac{r_{m} {\\langle m_{P_{reg}}^0\\rangle} {k_{off}^p} {k_{on}^r}}{{k_{off}^p} {k_{on}^p} \\left(\\gamma_{m} + {k_{off}^r}\\right) + {k_{off}^r} {k_{on}^r} \\left(\\gamma_{m} + {k_{off}^p}\\right) - \\left(\\gamma_{m} + {k_{off}^p}\\right) \\left(\\gamma_{m} + {k_{off}^r}\\right) \\left(\\gamma_{m} + {k_{on}^p} + {k_{on}^r}\\right)}\\right \\}$$"
      ],
      "text/plain": [
       "⎧                                                                             \n",
       "⎨{\\langle m_{E_{reg}}__1\\rangle}: ────────────────────────────────────────────\n",
       "⎩                                 {k_{off}__p}⋅{k_{on}__p}⋅(γₘ + {k_{off}__r})\n",
       "\n",
       "    -rₘ⋅{\\langle m_{P_{reg}}__0\\rangle}⋅{k_{off}__p}⋅(γₘ + {k_{off}__r})      \n",
       "──────────────────────────────────────────────────────────────────────────────\n",
       " + {k_{off}__r}⋅{k_{on}__r}⋅(γₘ + {k_{off}__p}) - (γₘ + {k_{off}__p})⋅(γₘ + {k\n",
       "\n",
       "                                                                              \n",
       "────────────────────────────────────────────, {\\langle m_{P_{reg}}__1\\rangle}:\n",
       "_{off}__r})⋅(γₘ + {k_{on}__p} + {k_{on}__r})                                  \n",
       "\n",
       "                          rₘ⋅{\\langle m_{P_{reg}}__0\\rangle}⋅({k_{off}__r}⋅{k_\n",
       " ─────────────────────────────────────────────────────────────────────────────\n",
       " {k_{off}__p}⋅{k_{on}__p}⋅(γₘ + {k_{off}__r}) + {k_{off}__r}⋅{k_{on}__r}⋅(γₘ +\n",
       "\n",
       "{on}__r} - (γₘ + {k_{off}__r})⋅(γₘ + {k_{on}__p} + {k_{on}__r}))              \n",
       "──────────────────────────────────────────────────────────────────────────────\n",
       " {k_{off}__p}) - (γₘ + {k_{off}__p})⋅(γₘ + {k_{off}__r})⋅(γₘ + {k_{on}__p} + {\n",
       "\n",
       "                                                                              \n",
       "───────────, {\\langle m_{R_{reg}}__1\\rangle}: ────────────────────────────────\n",
       "k_{on}__r})                                   {k_{off}__p}⋅{k_{on}__p}⋅(γₘ + {\n",
       "\n",
       "                    -rₘ⋅{\\langle m_{P_{reg}}__0\\rangle}⋅{k_{off}__p}⋅{k_{on}__\n",
       "──────────────────────────────────────────────────────────────────────────────\n",
       "k_{off}__r}) + {k_{off}__r}⋅{k_{on}__r}⋅(γₘ + {k_{off}__p}) - (γₘ + {k_{off}__\n",
       "\n",
       "r}                                                      ⎫\n",
       "────────────────────────────────────────────────────────⎬\n",
       "p})⋅(γₘ + {k_{off}__r})⋅(γₘ + {k_{on}__p} + {k_{on}__r})⎭"
      ]
     },
     "execution_count": 26,
     "metadata": {},
     "output_type": "execute_result"
    }
   ],
   "source": [
    "# Solve linear system for the three moments\n",
    "first_sol_reg = sympy.solve_linear_system(first_aug_reg, *m1_reg)\n",
    "first_sol_reg"
   ]
  },
  {
   "cell_type": "markdown",
   "metadata": {},
   "source": [
    "Let's add all these first moments to obtain the complete distribution first moment."
   ]
  },
  {
   "cell_type": "code",
   "execution_count": 27,
   "metadata": {},
   "outputs": [
    {
     "data": {
      "image/png": "[encoded data removed]",
      "text/latex": [
       "$$\\frac{r_{m}}{\\gamma_{m}} {\\langle m_{P_{reg}}^0\\rangle}$$"
      ],
      "text/plain": [
       "rₘ⋅{\\langle m_{P_{reg}}__0\\rangle}\n",
       "──────────────────────────────────\n",
       "                γₘ                "
      ]
     },
     "execution_count": 27,
     "metadata": {},
     "output_type": "execute_result"
    }
   ],
   "source": [
    "first_reg = sum(first_sol_reg.values()).simplify()\n",
    "first_reg"
   ]
  },
  {
   "cell_type": "markdown",
   "metadata": {},
   "source": [
    "Now we substitute the solution for the zeroth moment."
   ]
  },
  {
   "cell_type": "code",
   "execution_count": 28,
   "metadata": {},
   "outputs": [
    {
     "data": {
      "image/png": "[encoded data removed]",
      "text/latex": [
       "$$\\frac{r_{m} {k_{off}^r} {k_{on}^p}}{\\gamma_{m} \\left({k_{off}^p} {k_{off}^r} + {k_{off}^p} {k_{on}^r} + {k_{off}^r} {k_{on}^p}\\right)}$$"
      ],
      "text/plain": [
       "                            rₘ⋅{k_{off}__r}⋅{k_{on}__p}                       \n",
       "──────────────────────────────────────────────────────────────────────────────\n",
       "γₘ⋅({k_{off}__p}⋅{k_{off}__r} + {k_{off}__p}⋅{k_{on}__r} + {k_{off}__r}⋅{k_{on\n",
       "\n",
       "      \n",
       "──────\n",
       "}__p})"
      ]
     },
     "execution_count": 28,
     "metadata": {},
     "output_type": "execute_result"
    }
   ],
   "source": [
    "first_reg.subs(zero_sol_reg)"
   ]
  },
  {
   "cell_type": "markdown",
   "metadata": {},
   "source": [
    "#### fold-change.\n",
    "\n",
    "A very relevant quantity to compute is the fold-change in gene expression. Since this quantity must be consistent between the thermodynamic framework and the master equation framework this quantity will constraint the value of the parameters that we obtain at the end of the day."
   ]
  },
  {
   "cell_type": "code",
   "execution_count": 29,
   "metadata": {},
   "outputs": [
    {
     "data": {
      "image/png": "[encoded data removed]",
      "text/latex": [
       "$$\\frac{{k_{off}^r} \\left({k_{off}^p} + {k_{on}^p}\\right)}{{k_{off}^p} {k_{on}^r} + {k_{off}^r} \\left({k_{off}^p} + {k_{on}^p}\\right)}$$"
      ],
      "text/plain": [
       "             {k_{off}__r}⋅({k_{off}__p} + {k_{on}__p})              \n",
       "────────────────────────────────────────────────────────────────────\n",
       "{k_{off}__p}⋅{k_{on}__r} + {k_{off}__r}⋅({k_{off}__p} + {k_{on}__p})"
      ]
     },
     "execution_count": 29,
     "metadata": {},
     "output_type": "execute_result"
    }
   ],
   "source": [
    "# Compute fold-change\n",
    "fold_change = first_reg.subs(zero_sol_reg) / first_unreg\n",
    "fold_change.factor(kr_off)"
   ]
  },
  {
   "cell_type": "code",
   "execution_count": 30,
   "metadata": {},
   "outputs": [
    {
     "data": {
      "image/png": "[encoded data removed]",
      "text/latex": [
       "$$\\frac{r_{m} {k_{on}^p}}{\\gamma_{m} \\left({k_{off}^p} + {k_{on}^p}\\right)}$$"
      ],
      "text/plain": [
       "         rₘ⋅{k_{on}__p}        \n",
       "───────────────────────────────\n",
       "γₘ⋅({k_{off}__p} + {k_{on}__p})"
      ]
     },
     "execution_count": 30,
     "metadata": {},
     "output_type": "execute_result"
    }
   ],
   "source": [
    "first_unreg"
   ]
  },
  {
   "cell_type": "markdown",
   "metadata": {},
   "source": [
    "### Second moment three-state promoter\n",
    "\n",
    "Finally for the second moment we have again an equation of the form\n",
    "$$\n",
    "\\mathbf{0} = \\left( \\mathbf{K}^r_m - 2 \\mathbf{\\Gamma}^r_n \\right) \n",
    "             \\left\\langle \\mathbf{m}^2 \\right\\rangle\n",
    "             + \\left( 2 \\mathbf{R}^r_m + \\mathbf{\\Gamma}^r_m \\right)\n",
    "             \\left\\langle \\mathbf{m}^1 \\right\\rangle\n",
    "             + \\mathbf{R}^r_m\n",
    "             \\left\\langle \\mathbf{m}^0 \\right\\rangle\n",
    "$$\n",
    "\n",
    "Let's again define this augmented matrix."
   ]
  },
  {
   "cell_type": "code",
   "execution_count": 31,
   "metadata": {},
   "outputs": [
    {
     "data": {
      "image/png": "[encoded data removed]",
      "text/latex": [
       "$$\\left[\\begin{matrix}2 \\gamma_{m} + {k_{off}^p} & - {k_{on}^p} & 0 & r_{m} {\\langle m_{P_{reg}}^0\\rangle} + {\\langle m_{P_{reg}}^1\\rangle} \\left(\\gamma_{m} + 2 r_{m}\\right)\\\\- {k_{off}^p} & 2 \\gamma_{m} + {k_{on}^p} + {k_{on}^r} & - {k_{off}^r} & \\gamma_{m} {\\langle m_{E_{reg}}^1\\rangle}\\\\0 & - {k_{on}^r} & 2 \\gamma_{m} + {k_{off}^r} & \\gamma_{m} {\\langle m_{R_{reg}}^1\\rangle}\\end{matrix}\\right]$$"
      ],
      "text/plain": [
       "⎡2⋅γₘ + {k_{off}__p}            -{k_{on}__p}                     0           r\n",
       "⎢                                                                             \n",
       "⎢   -{k_{off}__p}     2⋅γₘ + {k_{on}__p} + {k_{on}__r}     -{k_{off}__r}      \n",
       "⎢                                                                             \n",
       "⎣         0                     -{k_{on}__r}            2⋅γₘ + {k_{off}__r}   \n",
       "\n",
       "ₘ⋅{\\langle m_{P_{reg}}__0\\rangle} + {\\langle m_{P_{reg}}__1\\rangle}⋅(γₘ + 2⋅rₘ\n",
       "                                                                              \n",
       "                      γₘ⋅{\\langle m_{E_{reg}}__1\\rangle}                      \n",
       "                                                                              \n",
       "                      γₘ⋅{\\langle m_{R_{reg}}__1\\rangle}                      \n",
       "\n",
       ")⎤\n",
       " ⎥\n",
       " ⎥\n",
       " ⎥\n",
       " ⎦"
      ]
     },
     "execution_count": 31,
     "metadata": {},
     "output_type": "execute_result"
    }
   ],
   "source": [
    "# Define augmented matrix for second moment\n",
    "second_aug_reg = (2 * Gmat_reg - Kmat_reg).col_insert(3, \n",
    "                   (2 * Rmat_reg + Gmat_reg) * sympy.Matrix(m1_reg)\\\n",
    "                   + Rmat_reg * sympy.Matrix(m0_reg))\n",
    "second_aug_reg"
   ]
  },
  {
   "cell_type": "markdown",
   "metadata": {},
   "source": [
    "And now we solve the second moment."
   ]
  },
  {
   "cell_type": "code",
   "execution_count": 32,
   "metadata": {},
   "outputs": [
    {
     "data": {
      "image/png": "[encoded data removed]",
      "text/latex": [
       "$$\\left \\{ {\\langle m_{E_{reg}}^2\\rangle} : - \\frac{\\gamma_{m} {\\langle m_{E_{reg}}^1\\rangle} \\left(2 \\gamma_{m} + {k_{off}^p}\\right) \\left(2 \\gamma_{m} + {k_{off}^r}\\right) + \\gamma_{m} {\\langle m_{R_{reg}}^1\\rangle} {k_{off}^r} \\left(2 \\gamma_{m} + {k_{off}^p}\\right) + {k_{off}^p} \\left(2 \\gamma_{m} + {k_{off}^r}\\right) \\left(r_{m} {\\langle m_{P_{reg}}^0\\rangle} + {\\langle m_{P_{reg}}^1\\rangle} \\left(\\gamma_{m} + 2 r_{m}\\right)\\right)}{{k_{off}^p} {k_{on}^p} \\left(2 \\gamma_{m} + {k_{off}^r}\\right) + {k_{off}^r} {k_{on}^r} \\left(2 \\gamma_{m} + {k_{off}^p}\\right) - \\left(2 \\gamma_{m} + {k_{off}^p}\\right) \\left(2 \\gamma_{m} + {k_{off}^r}\\right) \\left(2 \\gamma_{m} + {k_{on}^p} + {k_{on}^r}\\right)}, \\quad {\\langle m_{P_{reg}}^2\\rangle} : \\frac{- \\gamma_{m} {\\langle m_{E_{reg}}^1\\rangle} {k_{on}^p} \\left(2 \\gamma_{m} + {k_{off}^r}\\right) - \\gamma_{m} {\\langle m_{R_{reg}}^1\\rangle} {k_{off}^r} {k_{on}^p} + \\left(r_{m} {\\langle m_{P_{reg}}^0\\rangle} + {\\langle m_{P_{reg}}^1\\rangle} \\left(\\gamma_{m} + 2 r_{m}\\right)\\right) \\left({k_{off}^r} {k_{on}^r} - \\left(2 \\gamma_{m} + {k_{off}^r}\\right) \\left(2 \\gamma_{m} + {k_{on}^p} + {k_{on}^r}\\right)\\right)}{{k_{off}^p} {k_{on}^p} \\left(2 \\gamma_{m} + {k_{off}^r}\\right) + {k_{off}^r} {k_{on}^r} \\left(2 \\gamma_{m} + {k_{off}^p}\\right) - \\left(2 \\gamma_{m} + {k_{off}^p}\\right) \\left(2 \\gamma_{m} + {k_{off}^r}\\right) \\left(2 \\gamma_{m} + {k_{on}^p} + {k_{on}^r}\\right)}, \\quad {\\langle m_{R_{reg}}^2\\rangle} : \\frac{- \\gamma_{m} {\\langle m_{E_{reg}}^1\\rangle} {k_{on}^r} \\left(2 \\gamma_{m} + {k_{off}^p}\\right) + \\gamma_{m} {\\langle m_{R_{reg}}^1\\rangle} \\left({k_{off}^p} {k_{on}^p} - \\left(2 \\gamma_{m} + {k_{off}^p}\\right) \\left(2 \\gamma_{m} + {k_{on}^p} + {k_{on}^r}\\right)\\right) - {k_{off}^p} {k_{on}^r} \\left(r_{m} {\\langle m_{P_{reg}}^0\\rangle} + {\\langle m_{P_{reg}}^1\\rangle} \\left(\\gamma_{m} + 2 r_{m}\\right)\\right)}{{k_{off}^p} {k_{on}^p} \\left(2 \\gamma_{m} + {k_{off}^r}\\right) + {k_{off}^r} {k_{on}^r} \\left(2 \\gamma_{m} + {k_{off}^p}\\right) - \\left(2 \\gamma_{m} + {k_{off}^p}\\right) \\left(2 \\gamma_{m} + {k_{off}^r}\\right) \\left(2 \\gamma_{m} + {k_{on}^p} + {k_{on}^r}\\right)}\\right \\}$$"
      ],
      "text/plain": [
       "⎧                                 -(γₘ⋅{\\langle m_{E_{reg}}__1\\rangle}⋅(2⋅γₘ +\n",
       "⎨{\\langle m_{E_{reg}}__2\\rangle}: ────────────────────────────────────────────\n",
       "⎩                                                                             \n",
       "\n",
       " {k_{off}__p})⋅(2⋅γₘ + {k_{off}__r}) + γₘ⋅{\\langle m_{R_{reg}}__1\\rangle}⋅{k_{\n",
       "──────────────────────────────────────────────────────────────────────────────\n",
       "     {k_{off}__p}⋅{k_{on}__p}⋅(2⋅γₘ + {k_{off}__r}) + {k_{off}__r}⋅{k_{on}__r}\n",
       "\n",
       "off}__r}⋅(2⋅γₘ + {k_{off}__p}) + {k_{off}__p}⋅(2⋅γₘ + {k_{off}__r})⋅(rₘ⋅{\\lang\n",
       "──────────────────────────────────────────────────────────────────────────────\n",
       "⋅(2⋅γₘ + {k_{off}__p}) - (2⋅γₘ + {k_{off}__p})⋅(2⋅γₘ + {k_{off}__r})⋅(2⋅γₘ + {\n",
       "\n",
       "le m_{P_{reg}}__0\\rangle} + {\\langle m_{P_{reg}}__1\\rangle}⋅(γₘ + 2⋅rₘ)))     \n",
       "──────────────────────────────────────────────────────────────────────────, {\\\n",
       "k_{on}__p} + {k_{on}__r})                                                     \n",
       "\n",
       "                               -γₘ⋅{\\langle m_{E_{reg}}__1\\rangle}⋅{k_{on}__p}\n",
       "langle m_{P_{reg}}__2\\rangle}: ───────────────────────────────────────────────\n",
       "                                                                              \n",
       "\n",
       "⋅(2⋅γₘ + {k_{off}__r}) - γₘ⋅{\\langle m_{R_{reg}}__1\\rangle}⋅{k_{off}__r}⋅{k_{o\n",
       "──────────────────────────────────────────────────────────────────────────────\n",
       "                {k_{off}__p}⋅{k_{on}__p}⋅(2⋅γₘ + {k_{off}__r}) + {k_{off}__r}⋅\n",
       "\n",
       "n}__p} + (rₘ⋅{\\langle m_{P_{reg}}__0\\rangle} + {\\langle m_{P_{reg}}__1\\rangle}\n",
       "──────────────────────────────────────────────────────────────────────────────\n",
       "{k_{on}__r}⋅(2⋅γₘ + {k_{off}__p}) - (2⋅γₘ + {k_{off}__p})⋅(2⋅γₘ + {k_{off}__r}\n",
       "\n",
       "⋅(γₘ + 2⋅rₘ))⋅({k_{off}__r}⋅{k_{on}__r} - (2⋅γₘ + {k_{off}__r})⋅(2⋅γₘ + {k_{on\n",
       "──────────────────────────────────────────────────────────────────────────────\n",
       ")⋅(2⋅γₘ + {k_{on}__p} + {k_{on}__r})                                          \n",
       "\n",
       "}__p} + {k_{on}__r}))                                   -γₘ⋅{\\langle m_{E_{reg\n",
       "─────────────────────, {\\langle m_{R_{reg}}__2\\rangle}: ──────────────────────\n",
       "                                                                              \n",
       "\n",
       "}}__1\\rangle}⋅{k_{on}__r}⋅(2⋅γₘ + {k_{off}__p}) + γₘ⋅{\\langle m_{R_{reg}}__1\\r\n",
       "──────────────────────────────────────────────────────────────────────────────\n",
       "                                         {k_{off}__p}⋅{k_{on}__p}⋅(2⋅γₘ + {k_{\n",
       "\n",
       "angle}⋅({k_{off}__p}⋅{k_{on}__p} - (2⋅γₘ + {k_{off}__p})⋅(2⋅γₘ + {k_{on}__p} +\n",
       "──────────────────────────────────────────────────────────────────────────────\n",
       "off}__r}) + {k_{off}__r}⋅{k_{on}__r}⋅(2⋅γₘ + {k_{off}__p}) - (2⋅γₘ + {k_{off}_\n",
       "\n",
       " {k_{on}__r})) - {k_{off}__p}⋅{k_{on}__r}⋅(rₘ⋅{\\langle m_{P_{reg}}__0\\rangle} \n",
       "──────────────────────────────────────────────────────────────────────────────\n",
       "_p})⋅(2⋅γₘ + {k_{off}__r})⋅(2⋅γₘ + {k_{on}__p} + {k_{on}__r})                 \n",
       "\n",
       "+ {\\langle m_{P_{reg}}__1\\rangle}⋅(γₘ + 2⋅rₘ))⎫\n",
       "──────────────────────────────────────────────⎬\n",
       "                                              ⎭"
      ]
     },
     "execution_count": 32,
     "metadata": {},
     "output_type": "execute_result"
    }
   ],
   "source": [
    "# Solve linear system for the three moments\n",
    "second_sol_reg = sympy.solve_linear_system(second_aug_reg, *m2_reg)\n",
    "second_sol_reg"
   ]
  },
  {
   "cell_type": "markdown",
   "metadata": {},
   "source": [
    "Let's compute the global second moment adding all these second moments."
   ]
  },
  {
   "cell_type": "code",
   "execution_count": 33,
   "metadata": {},
   "outputs": [
    {
     "data": {
      "image/png": "[encoded data removed]",
      "text/latex": [
       "$$\\frac{1}{2 \\gamma_{m}} \\left(\\gamma_{m} {\\langle m_{E_{reg}}^1\\rangle} + \\gamma_{m} {\\langle m_{P_{reg}}^1\\rangle} + \\gamma_{m} {\\langle m_{R_{reg}}^1\\rangle} + r_{m} {\\langle m_{P_{reg}}^0\\rangle} + 2 r_{m} {\\langle m_{P_{reg}}^1\\rangle}\\right)$$"
      ],
      "text/plain": [
       "γₘ⋅{\\langle m_{E_{reg}}__1\\rangle} + γₘ⋅{\\langle m_{P_{reg}}__1\\rangle} + γₘ⋅{\n",
       "──────────────────────────────────────────────────────────────────────────────\n",
       "                                                                              \n",
       "\n",
       "\\langle m_{R_{reg}}__1\\rangle} + rₘ⋅{\\langle m_{P_{reg}}__0\\rangle} + 2⋅rₘ⋅{\\l\n",
       "──────────────────────────────────────────────────────────────────────────────\n",
       "            2⋅γₘ                                                              \n",
       "\n",
       "angle m_{P_{reg}}__1\\rangle}\n",
       "────────────────────────────\n",
       "                            "
      ]
     },
     "execution_count": 33,
     "metadata": {},
     "output_type": "execute_result"
    }
   ],
   "source": [
    "second_reg = sum(second_sol_reg.values()).simplify()\n",
    "second_reg"
   ]
  },
  {
   "cell_type": "code",
   "execution_count": 34,
   "metadata": {},
   "outputs": [
    {
     "data": {
      "image/png": "[encoded data removed]",
      "text/latex": [
       "$$\\frac{r_{m} {k_{off}^r} {k_{on}^p} \\left(\\gamma_{m}^{3} + \\gamma_{m}^{2} r_{m} + \\gamma_{m}^{2} {k_{off}^p} + \\gamma_{m}^{2} {k_{off}^r} + \\gamma_{m}^{2} {k_{on}^p} + \\gamma_{m}^{2} {k_{on}^r} + \\gamma_{m} r_{m} {k_{off}^r} + \\gamma_{m} r_{m} {k_{on}^p} + \\gamma_{m} r_{m} {k_{on}^r} + \\gamma_{m} {k_{off}^p} {k_{off}^r} + \\gamma_{m} {k_{off}^p} {k_{on}^r} + \\gamma_{m} {k_{off}^r} {k_{on}^p} + r_{m} {k_{off}^r} {k_{on}^p}\\right)}{\\gamma_{m}^{2} \\left({k_{off}^p} {k_{off}^r} + {k_{off}^p} {k_{on}^r} + {k_{off}^r} {k_{on}^p}\\right) \\left(\\gamma_{m}^{2} + \\gamma_{m} {k_{off}^p} + \\gamma_{m} {k_{off}^r} + \\gamma_{m} {k_{on}^p} + \\gamma_{m} {k_{on}^r} + {k_{off}^p} {k_{off}^r} + {k_{off}^p} {k_{on}^r} + {k_{off}^r} {k_{on}^p}\\right)}$$"
      ],
      "text/plain": [
       "                            ⎛  3     2        2                  2            \n",
       "rₘ⋅{k_{off}__r}⋅{k_{on}__p}⋅⎝γₘ  + γₘ ⋅rₘ + γₘ ⋅{k_{off}__p} + γₘ ⋅{k_{off}__r\n",
       "──────────────────────────────────────────────────────────────────────────────\n",
       "                             2                                                \n",
       "                           γₘ ⋅({k_{off}__p}⋅{k_{off}__r} + {k_{off}__p}⋅{k_{o\n",
       "\n",
       "      2                 2                                                     \n",
       "} + γₘ ⋅{k_{on}__p} + γₘ ⋅{k_{on}__r} + γₘ⋅rₘ⋅{k_{off}__r} + γₘ⋅rₘ⋅{k_{on}__p}\n",
       "──────────────────────────────────────────────────────────────────────────────\n",
       "                                   ⎛  2                                       \n",
       "n}__r} + {k_{off}__r}⋅{k_{on}__p})⋅⎝γₘ  + γₘ⋅{k_{off}__p} + γₘ⋅{k_{off}__r} + \n",
       "\n",
       "                                                                              \n",
       " + γₘ⋅rₘ⋅{k_{on}__r} + γₘ⋅{k_{off}__p}⋅{k_{off}__r} + γₘ⋅{k_{off}__p}⋅{k_{on}_\n",
       "──────────────────────────────────────────────────────────────────────────────\n",
       "                                                                              \n",
       "γₘ⋅{k_{on}__p} + γₘ⋅{k_{on}__r} + {k_{off}__p}⋅{k_{off}__r} + {k_{off}__p}⋅{k_\n",
       "\n",
       "                                                               ⎞\n",
       "_r} + γₘ⋅{k_{off}__r}⋅{k_{on}__p} + rₘ⋅{k_{off}__r}⋅{k_{on}__p}⎠\n",
       "────────────────────────────────────────────────────────────────\n",
       "                                   ⎞                            \n",
       "{on}__r} + {k_{off}__r}⋅{k_{on}__p}⎠                            "
      ]
     },
     "execution_count": 34,
     "metadata": {},
     "output_type": "execute_result"
    }
   ],
   "source": [
    "sympy.separatevars(second_reg.subs(first_sol_reg).subs(zero_sol_reg).simplify(),\n",
    "                  force=True)"
   ]
  },
  {
   "cell_type": "markdown",
   "metadata": {},
   "source": [
    "### Third moment three-state promoter\n",
    "\n",
    "As an extra derivation we will include the 3rd moment in our calculation. This will be useful to define the equations to compute the parameters. The matrix equation for the 3rd moment is given by\n",
    "$$\n",
    "\\mathbf{0} = \\left( \\mathbf{K}^r_m - 3 \\mathbf{\\Gamma}^r_n \\right) \n",
    "             \\left\\langle \\mathbf{m}^2 \\right\\rangle\n",
    "             + \\left( 3 \\mathbf{R}^r_m + 3 \\mathbf{\\Gamma}^r_m \\right)\n",
    "             \\left\\langle \\mathbf{m}^2 \\right\\rangle\n",
    "             + \\left( 3 \\mathbf{R}^r_m - \\mathbf{\\Gamma}^r_m \\right)\n",
    "             \\left\\langle \\mathbf{m}^1 \\right\\rangle\n",
    "             + \\mathbf{R}^r_m\n",
    "             \\left\\langle \\mathbf{m}^0 \\right\\rangle\n",
    "$$\n",
    "\n",
    "Let's again define this augmented matrix."
   ]
  },
  {
   "cell_type": "code",
   "execution_count": 97,
   "metadata": {},
   "outputs": [
    {
     "data": {
      "image/png": "[encoded data removed]",
      "text/latex": [
       "$$\\left[\\begin{matrix}3 \\gamma_{m} + {k_{off}^p} & - {k_{on}^p} & r_{m} {\\langle m_{P_{reg}}^0\\rangle} + {\\langle m_{P_{reg}}^1\\rangle} \\left(- \\gamma_{m} + 3 r_{m}\\right) + {\\langle m_{P_{reg}}^2\\rangle} \\left(3 \\gamma_{m} + 3 r_{m}\\right) & 3 \\gamma_{m} + {k_{off}^p}\\\\- {k_{off}^p} & 3 \\gamma_{m} + {k_{on}^p} + {k_{on}^r} & - \\gamma_{m} {\\langle m_{E_{reg}}^1\\rangle} + 3 \\gamma_{m} {\\langle m_{E_{reg}}^2\\rangle} & - {k_{off}^p}\\\\0 & - {k_{on}^r} & - \\gamma_{m} {\\langle m_{R_{reg}}^1\\rangle} + 3 \\gamma_{m} {\\langle m_{R_{reg}}^2\\rangle} & 0\\end{matrix}\\right]$$"
      ],
      "text/plain": [
       "⎡3⋅γₘ + {k_{off}__p}            -{k_{on}__p}            rₘ⋅{\\langle m_{P_{reg}\n",
       "⎢                                                                             \n",
       "⎢   -{k_{off}__p}     3⋅γₘ + {k_{on}__p} + {k_{on}__r}                        \n",
       "⎢                                                                             \n",
       "⎣         0                     -{k_{on}__r}                                  \n",
       "\n",
       "}__0\\rangle} + {\\langle m_{P_{reg}}__1\\rangle}⋅(-γₘ + 3⋅rₘ) + {\\langle m_{P_{r\n",
       "                                                                              \n",
       "     -γₘ⋅{\\langle m_{E_{reg}}__1\\rangle} + 3⋅γₘ⋅{\\langle m_{E_{reg}}__2\\rangle\n",
       "                                                                              \n",
       "     -γₘ⋅{\\langle m_{R_{reg}}__1\\rangle} + 3⋅γₘ⋅{\\langle m_{R_{reg}}__2\\rangle\n",
       "\n",
       "eg}}__2\\rangle}⋅(3⋅γₘ + 3⋅rₘ)  3⋅γₘ + {k_{off}__p}⎤\n",
       "                                                  ⎥\n",
       "}                                 -{k_{off}__p}   ⎥\n",
       "                                                  ⎥\n",
       "}                                       0         ⎦"
      ]
     },
     "execution_count": 97,
     "metadata": {},
     "output_type": "execute_result"
    }
   ],
   "source": [
    "# Define augmented matrix for third moment\n",
    "third_aug_reg = (3 * Gmat_reg - Kmat_reg).col_insert(2, \n",
    "                  (3 * Rmat_reg + 3 * Gmat_reg) * sympy.Matrix(m2_reg)\\\n",
    "                  + (3 * Rmat_reg - Gmat_reg) * sympy.Matrix(m1_reg)\n",
    "                  + Rmat_reg * sympy.Matrix(m0_reg))\n",
    "third_aug_reg"
   ]
  },
  {
   "cell_type": "code",
   "execution_count": 101,
   "metadata": {},
   "outputs": [
    {
     "data": {
      "image/png": "[encoded data removed]",
      "text/latex": [
       "$$\\left \\{ {\\langle m_{E_{reg}}^3\\rangle} : 0, \\quad {\\langle m_{P_{reg}}^3\\rangle} : 1, \\quad {\\langle m_{R_{reg}}^3\\rangle} : 0\\right \\}$$"
      ],
      "text/plain": [
       "{{\\langle m_{E_{reg}}__3\\rangle}: 0, {\\langle m_{P_{reg}}__3\\rangle}: 1, {\\lan\n",
       "gle m_{R_{reg}}__3\\rangle}: 0}"
      ]
     },
     "execution_count": 101,
     "metadata": {},
     "output_type": "execute_result"
    }
   ],
   "source": [
    "# Solve linear system for the three moments\n",
    "third_sol_reg = sympy.solve_linear_system(third_aug_reg, *m3_reg)\n",
    "third_sol_reg"
   ]
  },
  {
   "cell_type": "code",
   "execution_count": 102,
   "metadata": {},
   "outputs": [
    {
     "data": {
      "image/png": "[encoded data removed]",
      "text/latex": [
       "$$1$$"
      ],
      "text/plain": [
       "1"
      ]
     },
     "execution_count": 102,
     "metadata": {},
     "output_type": "execute_result"
    }
   ],
   "source": [
    "third_reg = sum(third_sol_reg.values()).simplify()\n",
    "third_reg"
   ]
  },
  {
   "cell_type": "code",
   "execution_count": 109,
   "metadata": {},
   "outputs": [
    {
     "data": {
      "image/png": "[encoded data removed]",
      "text/latex": [
       "$$\\frac{r_{m} {k_{off}^r} {k_{on}^p}}{{k_{off}^p} {k_{off}^r} + {k_{off}^p} {k_{on}^r} + {k_{off}^r} {k_{on}^p}}$$"
      ],
      "text/plain": [
       "                          rₘ⋅{k_{off}__r}⋅{k_{on}__p}                         \n",
       "──────────────────────────────────────────────────────────────────────────────\n",
       "{k_{off}__p}⋅{k_{off}__r} + {k_{off}__p}⋅{k_{on}__r} + {k_{off}__r}⋅{k_{on}__p\n",
       "\n",
       " \n",
       "─\n",
       "}"
      ]
     },
     "execution_count": 109,
     "metadata": {},
     "output_type": "execute_result"
    }
   ],
   "source": [
    "r1 = first_reg.subs(gm, 1).subs(zero_sol_reg).subs(gm, 1)\n",
    "r1"
   ]
  },
  {
   "cell_type": "code",
   "execution_count": 108,
   "metadata": {},
   "outputs": [
    {
     "data": {
      "image/png": "[encoded data removed]",
      "text/latex": [
       "$$\\frac{r_{m} \\left({k_{off}^r} {k_{on}^p} + {k_{off}^r} + {k_{on}^p} + {k_{on}^r} + 1\\right)}{{k_{off}^p} {k_{off}^r} + {k_{off}^p} {k_{on}^r} + {k_{off}^p} + {k_{off}^r} {k_{on}^p} + {k_{off}^r} + {k_{on}^p} + {k_{on}^r} + 1}$$"
      ],
      "text/plain": [
       "                                 rₘ⋅({k_{off}__r}⋅{k_{on}__p} + {k_{off}__r} +\n",
       "──────────────────────────────────────────────────────────────────────────────\n",
       "{k_{off}__p}⋅{k_{off}__r} + {k_{off}__p}⋅{k_{on}__r} + {k_{off}__p} + {k_{off}\n",
       "\n",
       " {k_{on}__p} + {k_{on}__r} + 1)                                \n",
       "───────────────────────────────────────────────────────────────\n",
       "__r}⋅{k_{on}__p} + {k_{off}__r} + {k_{on}__p} + {k_{on}__r} + 1"
      ]
     },
     "execution_count": 108,
     "metadata": {},
     "output_type": "execute_result"
    }
   ],
   "source": [
    "r2 = ((second_reg - first_reg) / first_reg).subs(gm, 1).\\\n",
    "     subs(first_sol_reg).subs(zero_sol_reg).subs(gm, 1).simplify()\n",
    "r2"
   ]
  },
  {
   "cell_type": "code",
   "execution_count": 111,
   "metadata": {},
   "outputs": [
    {
     "data": {
      "image/png": "[encoded data removed]",
      "text/latex": [
       "$$- \\frac{r_{m} {k_{off}^r} {k_{on}^p} \\left({k_{off}^p} {k_{on}^p} \\left({k_{off}^r} + 1\\right) + {k_{off}^r} {k_{on}^r} \\left({k_{off}^p} + 1\\right) - \\left({k_{off}^p} + 1\\right) \\left({k_{off}^r} + 1\\right) \\left({k_{on}^p} + {k_{on}^r} + 1\\right)\\right) + 3 r_{m} {k_{off}^r} {k_{on}^p} \\left(- 2 r_{m} \\left({k_{off}^r} {k_{on}^r} - \\left({k_{off}^r} + 1\\right) \\left({k_{on}^p} + {k_{on}^r} + 1\\right)\\right) + {k_{off}^p} {k_{on}^r} + {k_{off}^p} \\left({k_{off}^r} + 1\\right) - {k_{off}^r} {k_{on}^r} + \\left({k_{off}^r} + 1\\right) \\left({k_{on}^p} + {k_{on}^r} + 1\\right)\\right) + 2 \\left({k_{off}^p} {k_{off}^r} + {k_{off}^p} {k_{on}^r} + {k_{off}^r} {k_{on}^p}\\right) \\left({k_{off}^p} {k_{on}^p} \\left({k_{off}^r} + 1\\right) + {k_{off}^r} {k_{on}^r} \\left({k_{off}^p} + 1\\right) - \\left({k_{off}^p} + 1\\right) \\left({k_{off}^r} + 1\\right) \\left({k_{on}^p} + {k_{on}^r} + 1\\right)\\right)}{r_{m} {k_{off}^r} {k_{on}^p} \\left(- 2 r_{m} \\left({k_{off}^r} {k_{on}^r} - \\left({k_{off}^r} + 1\\right) \\left({k_{on}^p} + {k_{on}^r} + 1\\right)\\right) + {k_{off}^p} {k_{on}^p} \\left({k_{off}^r} + 1\\right) + {k_{off}^p} {k_{on}^r} + {k_{off}^p} \\left({k_{off}^r} + 1\\right) + {k_{off}^r} {k_{on}^r} \\left({k_{off}^p} + 1\\right) - {k_{off}^r} {k_{on}^r} - \\left({k_{off}^p} + 1\\right) \\left({k_{off}^r} + 1\\right) \\left({k_{on}^p} + {k_{on}^r} + 1\\right) + \\left({k_{off}^r} + 1\\right) \\left({k_{on}^p} + {k_{on}^r} + 1\\right)\\right)}$$"
      ],
      "text/plain": [
       "-(rₘ⋅{k_{off}__r}⋅{k_{on}__p}⋅({k_{off}__p}⋅{k_{on}__p}⋅({k_{off}__r} + 1) + {\n",
       "──────────────────────────────────────────────────────────────────────────────\n",
       "                                                                              \n",
       "\n",
       "k_{off}__r}⋅{k_{on}__r}⋅({k_{off}__p} + 1) - ({k_{off}__p} + 1)⋅({k_{off}__r} \n",
       "──────────────────────────────────────────────────────────────────────────────\n",
       "                                                                 rₘ⋅{k_{off}__\n",
       "\n",
       "+ 1)⋅({k_{on}__p} + {k_{on}__r} + 1)) + 3⋅rₘ⋅{k_{off}__r}⋅{k_{on}__p}⋅(-2⋅rₘ⋅(\n",
       "──────────────────────────────────────────────────────────────────────────────\n",
       "r}⋅{k_{on}__p}⋅(-2⋅rₘ⋅({k_{off}__r}⋅{k_{on}__r} - ({k_{off}__r} + 1)⋅({k_{on}_\n",
       "\n",
       "{k_{off}__r}⋅{k_{on}__r} - ({k_{off}__r} + 1)⋅({k_{on}__p} + {k_{on}__r} + 1))\n",
       "──────────────────────────────────────────────────────────────────────────────\n",
       "_p} + {k_{on}__r} + 1)) + {k_{off}__p}⋅{k_{on}__p}⋅({k_{off}__r} + 1) + {k_{of\n",
       "\n",
       " + {k_{off}__p}⋅{k_{on}__r} + {k_{off}__p}⋅({k_{off}__r} + 1) - {k_{off}__r}⋅{\n",
       "──────────────────────────────────────────────────────────────────────────────\n",
       "f}__p}⋅{k_{on}__r} + {k_{off}__p}⋅({k_{off}__r} + 1) + {k_{off}__r}⋅{k_{on}__r\n",
       "\n",
       "k_{on}__r} + ({k_{off}__r} + 1)⋅({k_{on}__p} + {k_{on}__r} + 1)) + 2⋅({k_{off}\n",
       "──────────────────────────────────────────────────────────────────────────────\n",
       "}⋅({k_{off}__p} + 1) - {k_{off}__r}⋅{k_{on}__r} - ({k_{off}__p} + 1)⋅({k_{off}\n",
       "\n",
       "__p}⋅{k_{off}__r} + {k_{off}__p}⋅{k_{on}__r} + {k_{off}__r}⋅{k_{on}__p})⋅({k_{\n",
       "──────────────────────────────────────────────────────────────────────────────\n",
       "__r} + 1)⋅({k_{on}__p} + {k_{on}__r} + 1) + ({k_{off}__r} + 1)⋅({k_{on}__p} + \n",
       "\n",
       "off}__p}⋅{k_{on}__p}⋅({k_{off}__r} + 1) + {k_{off}__r}⋅{k_{on}__r}⋅({k_{off}__\n",
       "──────────────────────────────────────────────────────────────────────────────\n",
       "{k_{on}__r} + 1))                                                             \n",
       "\n",
       "p} + 1) - ({k_{off}__p} + 1)⋅({k_{off}__r} + 1)⋅({k_{on}__p} + {k_{on}__r} + 1\n",
       "──────────────────────────────────────────────────────────────────────────────\n",
       "                                                                              \n",
       "\n",
       "))) \n",
       "────\n",
       "    "
      ]
     },
     "execution_count": 111,
     "metadata": {},
     "output_type": "execute_result"
    }
   ],
   "source": [
    "r3 = ((third_reg - 3 * second_reg + 2 * first_reg) / \\\n",
    "     (second_reg - first_reg)).subs(second_sol_reg).subs(first_sol_reg).\\\n",
    "     subs(zero_sol_reg).subs(gm, 1).simplify()\n",
    "r3"
   ]
  },
  {
   "cell_type": "code",
   "execution_count": 113,
   "metadata": {},
   "outputs": [
    {
     "data": {
      "image/png": "[encoded data removed]",
      "text/latex": [
       "$$\\left [ \\right ]$$"
      ],
      "text/plain": [
       "[]"
      ]
     },
     "execution_count": 113,
     "metadata": {},
     "output_type": "execute_result"
    }
   ],
   "source": [
    "x1, x2, x3 = sympy.symbols('r_1 r_2 r_3')\n",
    "sympy.solve([r1 - x1, r2 - x2, r3 - x3], kr_off, kr_on)"
   ]
  },
  {
   "cell_type": "code",
   "execution_count": 119,
   "metadata": {},
   "outputs": [
    {
     "data": {
      "image/png": "[encoded data removed]",
      "text/latex": [
       "$$\\left \\{ {k_{off}^r} : \\frac{r_{1} {k_{off}^p} \\left(r_{2} {k_{off}^p} + r_{2} {k_{on}^p} + r_{2} - r_{m} {k_{on}^p} - r_{m}\\right)}{{k_{on}^p} \\left(r_{1} r_{2} + r_{1} r_{m} {k_{off}^p} - r_{1} r_{m} - r_{2} r_{m} {k_{off}^p} - r_{2} r_{m} + r_{m}^{2}\\right)}, \\quad {k_{on}^r} : \\frac{\\left(r_{1} {k_{off}^p} + r_{1} {k_{on}^p} - r_{m} {k_{on}^p}\\right) \\left(r_{2} {k_{off}^p} + r_{2} {k_{on}^p} + r_{2} - r_{m} {k_{on}^p} - r_{m}\\right)}{r_{1} {k_{off}^p} \\left(r_{2} {k_{off}^p} + r_{2} {k_{on}^p} + r_{2} - r_{m} {k_{on}^p} - r_{m}\\right) - \\left(r_{1} {k_{off}^p} + r_{1} {k_{on}^p} - r_{m} {k_{on}^p}\\right) \\left(r_{2} {k_{off}^p} + r_{2} - r_{m}\\right)}\\right \\}$$"
      ],
      "text/plain": [
       "⎧                 r₁⋅{k_{off}__p}⋅(r₂⋅{k_{off}__p} + r₂⋅{k_{on}__p} + r₂ - rₘ⋅\n",
       "⎪{k_{off}__r}: ───────────────────────────────────────────────────────────────\n",
       "⎨                          ⎛                                                  \n",
       "⎪              {k_{on}__p}⋅⎝r₁⋅r₂ + r₁⋅rₘ⋅{k_{off}__p} - r₁⋅rₘ - r₂⋅rₘ⋅{k_{off\n",
       "⎩                                                                             \n",
       "\n",
       "{k_{on}__p} - rₘ)                                         (r₁⋅{k_{off}__p} + r\n",
       "────────────────────, {k_{on}__r}: ───────────────────────────────────────────\n",
       "                  2⎞               r₁⋅{k_{off}__p}⋅(r₂⋅{k_{off}__p} + r₂⋅{k_{o\n",
       "}__p} - r₂⋅rₘ + rₘ ⎠                                                          \n",
       "                                                                              \n",
       "\n",
       "₁⋅{k_{on}__p} - rₘ⋅{k_{on}__p})⋅(r₂⋅{k_{off}__p} + r₂⋅{k_{on}__p} + r₂ - rₘ⋅{k\n",
       "──────────────────────────────────────────────────────────────────────────────\n",
       "n}__p} + r₂ - rₘ⋅{k_{on}__p} - rₘ) - (r₁⋅{k_{off}__p} + r₁⋅{k_{on}__p} - rₘ⋅{k\n",
       "                                                                              \n",
       "                                                                              \n",
       "\n",
       "_{on}__p} - rₘ)                       ⎫\n",
       "──────────────────────────────────────⎪\n",
       "_{on}__p})⋅(r₂⋅{k_{off}__p} + r₂ - rₘ)⎬\n",
       "                                      ⎪\n",
       "                                      ⎭"
      ]
     },
     "execution_count": 119,
     "metadata": {},
     "output_type": "execute_result"
    }
   ],
   "source": [
    "sympy.solve([r1 - x1, r2 - x2], kr_off, kr_on)"
   ]
  }
 ],
 "metadata": {
  "anaconda-cloud": {},
  "kernelspec": {
   "display_name": "Python 3",
   "language": "python",
   "name": "python3"
  },
  "language_info": {
   "codemirror_mode": {
    "name": "ipython",
    "version": 3
   },
   "file_extension": ".py",
   "mimetype": "text/x-python",
   "name": "python",
   "nbconvert_exporter": "python",
   "pygments_lexer": "ipython3",
   "version": "3.6.3"
  }
 },
 "nbformat": 4,
 "nbformat_minor": 1
}
