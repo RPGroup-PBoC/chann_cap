{
 "cells": [
  {
   "cell_type": "markdown",
   "metadata": {},
   "source": [
    "# Integrating the moment equations - mRNA"
   ]
  },
  {
   "cell_type": "markdown",
   "metadata": {},
   "source": [
    "(c) 2017 Manuel Razo. This work is licensed under a [Creative Commons Attribution License CC-BY 4.0](https://creativecommons.org/licenses/by/4.0/). All code contained herein is licensed under an [MIT license](https://opensource.org/licenses/MIT)\n",
    "\n",
    "---"
   ]
  },
  {
   "cell_type": "code",
   "execution_count": 1,
   "metadata": {},
   "outputs": [],
   "source": [
    "import pickle\n",
    "import dill # Library that we will use to export lambdify functions\n",
    "# Our numerical workhorses\n",
    "import numpy as np\n",
    "# To compute symbolic expressions\n",
    "import sympy\n",
    "sympy.init_printing(use_unicode=True, use_latex=True) # print outputs in LaTeX\n",
    "\n",
    "# Import matplotlib stuff for plotting\n",
    "import matplotlib.pyplot as plt\n",
    "import matplotlib.cm as cm\n",
    "import matplotlib as mpl\n",
    "\n",
    "# Seaborn, useful for graphics\n",
    "import seaborn as sns\n",
    "\n",
    "# Import the utils for this project\n",
    "import chann_cap_utils as chann_cap\n",
    "\n",
    "# Set PBoC plotting style\n",
    "chann_cap.set_plotting_style()\n",
    "\n",
    "# Magic function to make matplotlib inline; other style specs must come AFTER\n",
    "%matplotlib inline\n",
    "\n",
    "# This enables SVG graphics inline (only use with static plots (non-Bokeh))\n",
    "%config InlineBackend.figure_format = 'svg'\n",
    "\n",
    "tmpdir = '../../tmp/'"
   ]
  },
  {
   "cell_type": "markdown",
   "metadata": {},
   "source": [
    "### $\\LaTeX$ macros\n",
    "$\\newcommand{kpon}{k^{(p)}_{\\text{on}}}$\n",
    "$\\newcommand{kpoff}{k^{(p)}_{\\text{off}}}$\n",
    "$\\newcommand{kron}{k^{(r)}_{\\text{on}}}$\n",
    "$\\newcommand{kroff}{k^{(r)}_{\\text{off}}}$\n",
    "$\\newcommand{rm}{r _m}$\n",
    "$\\newcommand{gm}{\\gamma _m}$\n",
    "$\\newcommand{mm}{\\left\\langle m \\right\\rangle}$\n",
    "$\\newcommand{ee}[1]{\\left\\langle #1 \\right\\rangle}$\n",
    "$\\newcommand{bb}[1]{\\mathbf{#1}}$"
   ]
  },
  {
   "cell_type": "markdown",
   "metadata": {},
   "source": [
    "# Two-state promoter (mRNA)\n",
    "\n",
    "In this section we will try to solve the differential equations for the mRNA distribution moments for the two-state unregulated promoter.\n",
    "\n",
    "Up to this stage we wrote the chemical master equation in matrix notation and did some tricks when it came to compute the $n^{\\text{th}}$ moment. Now we will use the equations we obtained for the time derivative of the mRNA distribution moments and try to solve them.\n",
    "\n",
    "Let's first define the `sympy` variables that we will need for the two- and three-state promoter.\n",
    "\n",
    "Note: It is important to specify the variables we are defining are real positive nubers. Otherwise `sympy` would be unable to solve the system."
   ]
  },
  {
   "cell_type": "code",
   "execution_count": 2,
   "metadata": {},
   "outputs": [
    {
     "data": {
      "image/png": "[encoded data removed]",
      "text/latex": [
       "$$\\left ( {k_{off}^{(p)}}, \\quad {k_{on}^{(p)}}, \\quad {k_{off}^{(r)}}, \\quad {k_{on}^{(r)}}, \\quad r_{m}, \\quad \\gamma_{m}, \\quad t\\right )$$"
      ],
      "text/plain": [
       "({k_{off}__{(p)}}, {k_{on}__{(p)}}, {k_{off}__{(r)}}, {k_{on}__{(r)}}, rₘ, γₘ,\n",
       " t)"
      ]
     },
     "execution_count": 2,
     "metadata": {},
     "output_type": "execute_result"
    }
   ],
   "source": [
    "# Define rate constant variables\n",
    "kp_off, kp_on = sympy.symbols('{k_{off}^{(p)}} {k_{on}^{(p)}}', \n",
    "                              real=True, positive=True)\n",
    "kr_off, kr_on = sympy.symbols('{k_{off}^{(r)}} {k_{on}^{(r)}}', \n",
    "                              real=True, positive=True)\n",
    "\n",
    "# Define degradation rate and production rate\n",
    "rm, gm = sympy.symbols('r_m gamma_m', real=True, positive=True)\n",
    "\n",
    "# Define the time variable\n",
    "t = sympy.symbols('t', real=True, positive=True)\n",
    "\n",
    "kp_off, kp_on, kr_off, kr_on, rm, gm, t"
   ]
  },
  {
   "cell_type": "markdown",
   "metadata": {},
   "source": [
    "Let's now define a function that generates a `sympy` variable of the form $\\left\\langle x^n \\right\\rangle$ to easily define the variables to save the moments."
   ]
  },
  {
   "cell_type": "code",
   "execution_count": 3,
   "metadata": {},
   "outputs": [],
   "source": [
    "def moment_sympy(var, moment, function=None):\n",
    "    '''\n",
    "    Shortcut to generate variables of the form <var**n> in sympy to facilitate the\n",
    "    definition of the moment variables\n",
    "    Parameters\n",
    "    ----------\n",
    "    var : string.\n",
    "        variable name string that should be put inside the <> parenthesis.\n",
    "    moment : int.\n",
    "        exponent of the moment to be defined.\n",
    "    function : variable\n",
    "        if given the returned variables are functions rather than symbols\n",
    "    '''\n",
    "    if function == None:\n",
    "        if moment == None:\n",
    "            return sympy.Symbol('{\\\\langle ' + var + '\\\\rangle}',\n",
    "                               real=True, positive=True)\n",
    "        else:\n",
    "            return sympy.Symbol('{\\\\langle ' + var + '^{:d}'.format(moment) +\\\n",
    "                                '\\\\rangle}', real=True, positive=True)\n",
    "    \n",
    "    else:\n",
    "        if moment == None:\n",
    "            return sympy.Function('\\\\langle ' + var + '\\\\rangle',\n",
    "                                 real=True, positive=True)(function)\n",
    "        else:\n",
    "            return sympy.Function('\\\\langle ' + var + '^{:d}'.format(moment) +\\\n",
    "                                '\\\\rangle', real=True, positive=True)(function)"
   ]
  },
  {
   "cell_type": "markdown",
   "metadata": {},
   "source": [
    "Now let's define the moment variables for the unregulated promoter."
   ]
  },
  {
   "cell_type": "code",
   "execution_count": 4,
   "metadata": {},
   "outputs": [
    {
     "data": {
      "image/png": "[encoded data removed]",
      "text/latex": [
       "$$\\left ( \\left [ \\langle m_{P_{unreg}}^0\\rangle{\\left (t \\right )}, \\quad \\langle m_{E_{unreg}}^0\\rangle{\\left (t \\right )}\\right ], \\quad \\left [ \\langle m_{P_{unreg}}^1\\rangle{\\left (t \\right )}, \\quad \\langle m_{E_{unreg}}^1\\rangle{\\left (t \\right )}\\right ], \\quad \\left [ \\langle m_{P_{unreg}}^2\\rangle{\\left (t \\right )}, \\quad \\langle m_{E_{unreg}}^2\\rangle{\\left (t \\right )}\\right ], \\quad \\left [ \\langle m_{P_{unreg}}^3\\rangle{\\left (t \\right )}, \\quad \\langle m_{E_{unreg}}^3\\rangle{\\left (t \\right )}\\right ]\\right )$$"
      ],
      "text/plain": [
       "([\\langle m_{P_{unreg}}__0\\rangle(t), \\langle m_{E_{unreg}}__0\\rangle(t)], [\\l\n",
       "angle m_{P_{unreg}}__1\\rangle(t), \\langle m_{E_{unreg}}__1\\rangle(t)], [\\langl\n",
       "e m_{P_{unreg}}__2\\rangle(t), \\langle m_{E_{unreg}}__2\\rangle(t)], [\\langle m_\n",
       "{P_{unreg}}__3\\rangle(t), \\langle m_{E_{unreg}}__3\\rangle(t)])"
      ]
     },
     "execution_count": 4,
     "metadata": {},
     "output_type": "execute_result"
    }
   ],
   "source": [
    "# Define the string for the states\n",
    "m_unreg = ['m_{P_{unreg}}', 'm_{E_{unreg}}']\n",
    "\n",
    "# Define the zeroth moments\n",
    "m0_unreg = [moment_sympy(x, 0, t) for x in m_unreg]\n",
    "# Define the first moments\n",
    "m1_unreg = [moment_sympy(x, 1, t) for x in m_unreg]\n",
    "# Define the second moments\n",
    "m2_unreg = [moment_sympy(x, 2, t) for x in m_unreg]\n",
    "# Define the second moments\n",
    "m3_unreg = [moment_sympy(x, 3, t) for x in m_unreg]\n",
    "\n",
    "m0_unreg, m1_unreg, m2_unreg, m3_unreg"
   ]
  },
  {
   "cell_type": "markdown",
   "metadata": {},
   "source": [
    "Let's now define the global moments."
   ]
  },
  {
   "cell_type": "code",
   "execution_count": 6,
   "metadata": {},
   "outputs": [
    {
     "data": {
      "image/png": "[encoded data removed]",
      "text/latex": [
       "$$\\left ( \\langle \\mathbf{m}_u^0\\rangle{\\left (t \\right )}, \\quad \\langle \\mathbf{m}_u\\rangle{\\left (t \\right )}, \\quad \\langle \\mathbf{m}_u^2\\rangle{\\left (t \\right )}, \\quad \\langle \\mathbf{m}_u^3\\rangle{\\left (t \\right )}\\right )$$"
      ],
      "text/plain": [
       "(\\langle \\mathbf{m}_u__0\\rangle(t), \\langle \\mathbf{m}_u\\rangle(t), \\langle \\m\n",
       "athbf{m}_u__2\\rangle(t), \\langle \\mathbf{m}_u__3\\rangle(t))"
      ]
     },
     "execution_count": 6,
     "metadata": {},
     "output_type": "execute_result"
    }
   ],
   "source": [
    "# define \"global\" moments\n",
    "mm0_unreg = moment_sympy('\\mathbf{m}_u', 0, t)\n",
    "mm1_unreg = moment_sympy('\\mathbf{m}_u', None, t)\n",
    "mm2_unreg = moment_sympy('\\mathbf{m}_u', 2, t)\n",
    "mm3_unreg = moment_sympy('\\mathbf{m}_u', 3, t)\n",
    "\n",
    "mm0_unreg, mm1_unreg, mm2_unreg, mm3_unreg"
   ]
  },
  {
   "cell_type": "markdown",
   "metadata": {},
   "source": [
    "Now we will define the state transition matrix $\\mathbf{K}^u$, the mRNA production matrix $\\mathbf{R}^u_m$ and the mRNA degradation matrix $\\mathbf{\\Gamma}^u_m$."
   ]
  },
  {
   "cell_type": "code",
   "execution_count": 7,
   "metadata": {},
   "outputs": [
    {
     "data": {
      "image/png": "[encoded data removed]",
      "text/latex": [
       "$$\\left ( \\left[\\begin{matrix}- {k_{off}^{(p)}} & {k_{on}^{(p)}}\\\\{k_{off}^{(p)}} & - {k_{on}^{(p)}}\\end{matrix}\\right], \\quad \\left[\\begin{matrix}r_{m} & 0\\\\0 & 0\\end{matrix}\\right], \\quad \\left[\\begin{matrix}\\gamma_{m} & 0\\\\0 & \\gamma_{m}\\end{matrix}\\right]\\right )$$"
      ],
      "text/plain": [
       "⎛⎡-{k_{off}__{(p)}}  {k_{on}__{(p)}} ⎤  ⎡rₘ  0⎤  ⎡γₘ  0 ⎤⎞\n",
       "⎜⎢                                   ⎥, ⎢     ⎥, ⎢      ⎥⎟\n",
       "⎝⎣{k_{off}__{(p)}}   -{k_{on}__{(p)}}⎦  ⎣0   0⎦  ⎣0   γₘ⎦⎠"
      ]
     },
     "execution_count": 7,
     "metadata": {},
     "output_type": "execute_result"
    }
   ],
   "source": [
    "# Define the rate constant matrix\n",
    "Kmat_unreg = sympy.Matrix([[-kp_off, kp_on], \n",
    "                           [kp_off, -kp_on]])\n",
    "# Define the production matrix\n",
    "Rmat_unreg = sympy.Matrix([[rm, 0], \n",
    "                           [0, 0]])\n",
    "# Define the degradation matrix\n",
    "Gmat_unreg = sympy.Matrix([[gm, 0],\n",
    "                           [0, gm]])\n",
    "\n",
    "Kmat_unreg, Rmat_unreg, Gmat_unreg"
   ]
  },
  {
   "cell_type": "markdown",
   "metadata": {},
   "source": [
    "### Zeroth moment two-state promoter\n",
    "In order to solve for the two-state promoter we have two equations to use\n",
    "$$\n",
    "\\bb{1} = \\mathbf{u} \\cdot \\left\\langle \\mathbf{m}^0 \\right\\rangle,\n",
    "$$\n",
    "where $u = (1, 1)$ and $\\left\\langle \\mathbf{m}^0 \\right\\rangle$ is the vector containing all the states, and\n",
    "$$\n",
    "{d \\over dt} \\ee{\\bb{m}^0} = \\mathbf{K}^u_m \\left\\langle \\mathbf{m}^0 \\right\\rangle.\n",
    "$$\n",
    "\n",
    "We will use the linear algebra solver where we write an extended matrix with the last column being the right hand side of these equations.\n",
    "\n",
    "Let's now define this system."
   ]
  },
  {
   "cell_type": "code",
   "execution_count": 8,
   "metadata": {},
   "outputs": [
    {
     "data": {
      "image/png": "[encoded data removed]",
      "text/latex": [
       "$$\\left [ \\frac{d}{d t} \\langle m_{P_{unreg}}^0\\rangle{\\left (t \\right )} = - {k_{off}^{(p)}} \\langle m_{P_{unreg}}^0\\rangle{\\left (t \\right )} + {k_{on}^{(p)}} \\langle m_{E_{unreg}}^0\\rangle{\\left (t \\right )}, \\quad \\frac{d}{d t} \\langle m_{E_{unreg}}^0\\rangle{\\left (t \\right )} = {k_{off}^{(p)}} \\langle m_{P_{unreg}}^0\\rangle{\\left (t \\right )} - {k_{on}^{(p)}} \\langle m_{E_{unreg}}^0\\rangle{\\left (t \\right )}\\right ]$$"
      ],
      "text/plain": [
       "⎡d                                                                            \n",
       "⎢──(\\langle m_{P_{unreg}}__0\\rangle(t)) = -{k_{off}__{(p)}}⋅\\langle m_{P_{unre\n",
       "⎣dt                                                                           \n",
       "\n",
       "                                                                       d      \n",
       "g}}__0\\rangle(t) + {k_{on}__{(p)}}⋅\\langle m_{E_{unreg}}__0\\rangle(t), ──(\\lan\n",
       "                                                                       dt     \n",
       "\n",
       "                                                                              \n",
       "gle m_{E_{unreg}}__0\\rangle(t)) = {k_{off}__{(p)}}⋅\\langle m_{P_{unreg}}__0\\ra\n",
       "                                                                              \n",
       "\n",
       "                                                            ⎤\n",
       "ngle(t) - {k_{on}__{(p)}}⋅\\langle m_{E_{unreg}}__0\\rangle(t)⎥\n",
       "                                                            ⎦"
      ]
     },
     "execution_count": 8,
     "metadata": {},
     "output_type": "execute_result"
    }
   ],
   "source": [
    "dm0dt_unreg = sympy.Matrix([m.diff() for m in m0_unreg])\n",
    "dm0dt_rhs = Kmat_unreg * sympy.Matrix(m0_unreg)\n",
    "\n",
    "sys = [sympy.Eq(dm0dt_unreg[i], dm0dt_rhs[i]) for i in range(2)]\n",
    "sys"
   ]
  },
  {
   "cell_type": "markdown",
   "metadata": {},
   "source": [
    "Let's now solve the system."
   ]
  },
  {
   "cell_type": "code",
   "execution_count": 9,
   "metadata": {},
   "outputs": [
    {
     "data": {
      "image/png": "[encoded data removed]",
      "text/latex": [
       "$$\\left [ \\langle m_{P_{unreg}}^0\\rangle{\\left (t \\right )} = C_{1} {k_{on}^{(p)}} + C_{2} e^{t \\left(- {k_{off}^{(p)}} - {k_{on}^{(p)}}\\right)}, \\quad \\langle m_{E_{unreg}}^0\\rangle{\\left (t \\right )} = C_{1} {k_{off}^{(p)}} - C_{2} e^{t \\left(- {k_{off}^{(p)}} - {k_{on}^{(p)}}\\right)}\\right ]$$"
      ],
      "text/plain": [
       "⎡                                                              t⋅(-{k_{off}__{\n",
       "⎣\\langle m_{P_{unreg}}__0\\rangle(t) = C₁⋅{k_{on}__{(p)}} + C₂⋅ℯ               \n",
       "\n",
       "(p)}} - {k_{on}__{(p)}})                                                      \n",
       "                        , \\langle m_{E_{unreg}}__0\\rangle(t) = C₁⋅{k_{off}__{(\n",
       "\n",
       "           t⋅(-{k_{off}__{(p)}} - {k_{on}__{(p)}})⎤\n",
       "p)}} - C₂⋅ℯ                                       ⎦"
      ]
     },
     "execution_count": 9,
     "metadata": {},
     "output_type": "execute_result"
    }
   ],
   "source": [
    "# Solving the system using dsolve\n",
    "dm0dt_sol = sympy.dsolve(sys)\n",
    "\n",
    "# Split left hand side and right hand side\n",
    "dm0dt_rhs = [x.rhs for x in dm0dt_sol]\n",
    "dm0dt_lhs = [x.lhs for x in dm0dt_sol]\n",
    "\n",
    "dm0dt_sol"
   ]
  },
  {
   "cell_type": "markdown",
   "metadata": {},
   "source": [
    "Now let's use the initial conditions to find the value of the constants. For the initial conditions we will simply call $\\ee{m_{X_{unreg}}}(0) = \\ee{m_{X_{0}}}$"
   ]
  },
  {
   "cell_type": "code",
   "execution_count": 10,
   "metadata": {},
   "outputs": [
    {
     "data": {
      "image/png": "[encoded data removed]",
      "text/latex": [
       "$$\\left [ {\\langle m_{P_{0}}^0\\rangle}, \\quad {\\langle m_{E_{0}}^0\\rangle}\\right ]$$"
      ],
      "text/plain": [
       "[{\\langle m_{P_{0}}__0\\rangle}, {\\langle m_{E_{0}}__0\\rangle}]"
      ]
     },
     "execution_count": 10,
     "metadata": {},
     "output_type": "execute_result"
    }
   ],
   "source": [
    "# Define the string for the states\n",
    "m_unreg = ['m_{P_{0}}', 'm_{E_{0}}']\n",
    "m0_unreg_init = [moment_sympy(x, 0) for x in m_unreg] \n",
    "m0_unreg_init"
   ]
  },
  {
   "cell_type": "markdown",
   "metadata": {},
   "source": [
    "Let's substitute these initial conditions and equate them to the right hand side of the solution evaluated at $t=0$"
   ]
  },
  {
   "cell_type": "code",
   "execution_count": 11,
   "metadata": {},
   "outputs": [
    {
     "data": {
      "image/png": "[encoded data removed]",
      "text/latex": [
       "$$\\left [ {\\langle m_{P_{0}}^0\\rangle} = C_{1} {k_{on}^{(p)}} + C_{2}, \\quad {\\langle m_{E_{0}}^0\\rangle} = C_{1} {k_{off}^{(p)}} - C_{2}\\right ]$$"
      ],
      "text/plain": [
       "[{\\langle m_{P_{0}}__0\\rangle} = C₁⋅{k_{on}__{(p)}} + C₂, {\\langle m_{E_{0}}__\n",
       "0\\rangle} = C₁⋅{k_{off}__{(p)}} - C₂]"
      ]
     },
     "execution_count": 11,
     "metadata": {},
     "output_type": "execute_result"
    }
   ],
   "source": [
    "# Building system evaluated at the inital condition\n",
    "dm0dt_zero = [sympy.Eq(m0_unreg_init[x], \n",
    "                        dm0dt_rhs[x].subs(t, 0)) for x in range(2)]\n",
    "dm0dt_zero"
   ]
  },
  {
   "cell_type": "markdown",
   "metadata": {},
   "source": [
    "Finally, let's solve for the constants."
   ]
  },
  {
   "cell_type": "code",
   "execution_count": 12,
   "metadata": {},
   "outputs": [
    {
     "data": {
      "image/png": "[encoded data removed]",
      "text/latex": [
       "$$\\left \\{ C_{1} : \\frac{{\\langle m_{E_{0}}^0\\rangle} + {\\langle m_{P_{0}}^0\\rangle}}{{k_{off}^{(p)}} + {k_{on}^{(p)}}}, \\quad C_{2} : \\frac{1}{{k_{off}^{(p)}} + {k_{on}^{(p)}}} \\left(- {\\langle m_{E_{0}}^0\\rangle} {k_{on}^{(p)}} + {\\langle m_{P_{0}}^0\\rangle} {k_{off}^{(p)}}\\right)\\right \\}$$"
      ],
      "text/plain": [
       "⎧    {\\langle m_{E_{0}}__0\\rangle} + {\\langle m_{P_{0}}__0\\rangle}      -{\\lan\n",
       "⎨C₁: ─────────────────────────────────────────────────────────────, C₂: ──────\n",
       "⎩                  {k_{off}__{(p)}} + {k_{on}__{(p)}}                         \n",
       "\n",
       "gle m_{E_{0}}__0\\rangle}⋅{k_{on}__{(p)}} + {\\langle m_{P_{0}}__0\\rangle}⋅{k_{o\n",
       "──────────────────────────────────────────────────────────────────────────────\n",
       "                         {k_{off}__{(p)}} + {k_{on}__{(p)}}                   \n",
       "\n",
       "ff}__{(p)}}⎫\n",
       "───────────⎬\n",
       "           ⎭"
      ]
     },
     "execution_count": 12,
     "metadata": {},
     "output_type": "execute_result"
    }
   ],
   "source": [
    "constants = sympy.solve(dm0dt_zero, sympy.symbols('C1 C2'))\n",
    "constants"
   ]
  },
  {
   "cell_type": "markdown",
   "metadata": {},
   "source": [
    "We can use the fact that the sum of initial conditions should add up to one."
   ]
  },
  {
   "cell_type": "code",
   "execution_count": 13,
   "metadata": {},
   "outputs": [
    {
     "data": {
      "image/png": "[encoded data removed]",
      "text/latex": [
       "$$\\left \\{ C_{1} : \\frac{1}{{k_{off}^{(p)}} + {k_{on}^{(p)}}}, \\quad C_{2} : \\frac{1}{{k_{off}^{(p)}} + {k_{on}^{(p)}}} \\left(- {\\langle m_{E_{0}}^0\\rangle} {k_{on}^{(p)}} + {\\langle m_{P_{0}}^0\\rangle} {k_{off}^{(p)}}\\right)\\right \\}$$"
      ],
      "text/plain": [
       "⎧                    1                       -{\\langle m_{E_{0}}__0\\rangle}⋅{k\n",
       "⎨C₁: ──────────────────────────────────, C₂: ─────────────────────────────────\n",
       "⎩    {k_{off}__{(p)}} + {k_{on}__{(p)}}                                     {k\n",
       "\n",
       "_{on}__{(p)}} + {\\langle m_{P_{0}}__0\\rangle}⋅{k_{off}__{(p)}}⎫\n",
       "──────────────────────────────────────────────────────────────⎬\n",
       "_{off}__{(p)}} + {k_{on}__{(p)}}                              ⎭"
      ]
     },
     "execution_count": 13,
     "metadata": {},
     "output_type": "execute_result"
    }
   ],
   "source": [
    "# Substitute the sum of the initial conditions\n",
    "constants[sympy.Symbol('C1')] = constants[sympy.Symbol('C1')].\\\n",
    "                                subs(sum(m0_unreg_init), 1)\n",
    "constants"
   ]
  },
  {
   "cell_type": "markdown",
   "metadata": {},
   "source": [
    "And finally substitute these constants into the solution."
   ]
  },
  {
   "cell_type": "code",
   "execution_count": 14,
   "metadata": {},
   "outputs": [
    {
     "data": {
      "image/png": "[encoded data removed]",
      "text/latex": [
       "$$\\left [ \\langle m_{P_{unreg}}^0\\rangle{\\left (t \\right )} = \\frac{{k_{on}^{(p)}}}{{k_{off}^{(p)}} + {k_{on}^{(p)}}} + \\frac{e^{t \\left(- {k_{off}^{(p)}} - {k_{on}^{(p)}}\\right)}}{{k_{off}^{(p)}} + {k_{on}^{(p)}}} \\left(- {\\langle m_{E_{0}}^0\\rangle} {k_{on}^{(p)}} + {\\langle m_{P_{0}}^0\\rangle} {k_{off}^{(p)}}\\right), \\quad \\langle m_{E_{unreg}}^0\\rangle{\\left (t \\right )} = \\frac{{k_{off}^{(p)}}}{{k_{off}^{(p)}} + {k_{on}^{(p)}}} - \\frac{e^{t \\left(- {k_{off}^{(p)}} - {k_{on}^{(p)}}\\right)}}{{k_{off}^{(p)}} + {k_{on}^{(p)}}} \\left(- {\\langle m_{E_{0}}^0\\rangle} {k_{on}^{(p)}} + {\\langle m_{P_{0}}^0\\rangle} {k_{off}^{(p)}}\\right)\\right ]$$"
      ],
      "text/plain": [
       "⎡                                                                             \n",
       "⎢                                              {k_{on}__{(p)}}             (-{\n",
       "⎢\\langle m_{P_{unreg}}__0\\rangle(t) = ────────────────────────────────── + ───\n",
       "⎣                                     {k_{off}__{(p)}} + {k_{on}__{(p)}}      \n",
       "\n",
       "                                                                              \n",
       "\\langle m_{E_{0}}__0\\rangle}⋅{k_{on}__{(p)}} + {\\langle m_{P_{0}}__0\\rangle}⋅{\n",
       "──────────────────────────────────────────────────────────────────────────────\n",
       "                                                 {k_{off}__{(p)}} + {k_{on}__{\n",
       "\n",
       "                  t⋅(-{k_{off}__{(p)}} - {k_{on}__{(p)}})                     \n",
       "k_{off}__{(p)}})⋅ℯ                                                            \n",
       "─────────────────────────────────────────────────────────, \\langle m_{E_{unreg\n",
       "(p)}}                                                                         \n",
       "\n",
       "                                                                              \n",
       "                           {k_{off}__{(p)}}            (-{\\langle m_{E_{0}}__0\n",
       "}}__0\\rangle(t) = ────────────────────────────────── - ───────────────────────\n",
       "                  {k_{off}__{(p)}} + {k_{on}__{(p)}}                          \n",
       "\n",
       "                                                                            t⋅\n",
       "\\rangle}⋅{k_{on}__{(p)}} + {\\langle m_{P_{0}}__0\\rangle}⋅{k_{off}__{(p)}})⋅ℯ  \n",
       "──────────────────────────────────────────────────────────────────────────────\n",
       "                             {k_{off}__{(p)}} + {k_{on}__{(p)}}               \n",
       "\n",
       "(-{k_{off}__{(p)}} - {k_{on}__{(p)}})⎤\n",
       "                                     ⎥\n",
       "─────────────────────────────────────⎥\n",
       "                                     ⎦"
      ]
     },
     "execution_count": 14,
     "metadata": {},
     "output_type": "execute_result"
    }
   ],
   "source": [
    "# substitute constants\n",
    "dm0dt_sol = [x.subs(constants) for x in dm0dt_sol]\n",
    "\n",
    "# Split left hand side and right hand side\n",
    "dm0dt_rhs = [x.rhs for x in dm0dt_sol]\n",
    "dm0dt_lhs = [x.lhs for x in dm0dt_sol]\n",
    "# save solution as dictionary (useful for later one substitutions)\n",
    "dm0dt_dict = dict(zip(dm0dt_lhs, dm0dt_rhs))\n",
    "\n",
    "dm0dt_sol"
   ]
  },
  {
   "cell_type": "markdown",
   "metadata": {},
   "source": [
    "To check that this solution makes sense let's take the limit then $t \\rightarrow \\infty$ to see if we recover the steady state solution we derived before."
   ]
  },
  {
   "cell_type": "code",
   "execution_count": 118,
   "metadata": {},
   "outputs": [
    {
     "data": {
      "image/png": "[encoded data removed]",
      "text/latex": [
       "$$\\left [ \\frac{{k_{on}^{(p)}}}{{k_{off}^{(p)}} + {k_{on}^{(p)}}}, \\quad \\frac{{k_{off}^{(p)}}}{{k_{off}^{(p)}} + {k_{on}^{(p)}}}\\right ]$$"
      ],
      "text/plain": [
       "⎡         {k_{on}__{(p)}}                     {k_{off}__{(p)}}         ⎤\n",
       "⎢──────────────────────────────────, ──────────────────────────────────⎥\n",
       "⎣{k_{off}__{(p)}} + {k_{on}__{(p)}}  {k_{off}__{(p)}} + {k_{on}__{(p)}}⎦"
      ]
     },
     "execution_count": 118,
     "metadata": {},
     "output_type": "execute_result"
    }
   ],
   "source": [
    "# Taking the limit when time goes to infinity\n",
    "[sympy.limit(x.rhs, t, 'oo') for x in dm0dt_sol]"
   ]
  },
  {
   "cell_type": "markdown",
   "metadata": {},
   "source": [
    "---"
   ]
  },
  {
   "cell_type": "markdown",
   "metadata": {},
   "source": [
    "### First moment two-state promoter\n",
    "\n",
    "Now that we have the zeroth moment that indicates the probability of being on either state let's now compute the first moment. For this we have the matrix equation\n",
    "$$\n",
    "{d \\over dt}\\ee{\\bb{m}^1} = \n",
    "\\left( \\mathbf{K}^u_m - \\mathbf{\\Gamma}^u_m  \\right)\\ee{\\bb{m}^1}\n",
    "             + \\mathbf{R}^u_m \\left\\langle \\mathbf{m}^0 \\right\\rangle.\n",
    "$$\n",
    "\n",
    "Let's define this system."
   ]
  },
  {
   "cell_type": "code",
   "execution_count": 97,
   "metadata": {},
   "outputs": [
    {
     "data": {
      "image/png": "[encoded data removed]",
      "text/latex": [
       "$$\\left [ \\frac{d}{d t} \\langle m_{P_{unreg}}^1\\rangle{\\left (t \\right )} = r_{m} \\langle m_{P_{unreg}}^0\\rangle{\\left (t \\right )} + {k_{on}^{(p)}} \\langle m_{E_{unreg}}^1\\rangle{\\left (t \\right )} + \\left(- \\gamma_{m} - {k_{off}^{(p)}}\\right) \\langle m_{P_{unreg}}^1\\rangle{\\left (t \\right )}, \\quad \\frac{d}{d t} \\langle m_{E_{unreg}}^1\\rangle{\\left (t \\right )} = {k_{off}^{(p)}} \\langle m_{P_{unreg}}^1\\rangle{\\left (t \\right )} + \\left(- \\gamma_{m} - {k_{on}^{(p)}}\\right) \\langle m_{E_{unreg}}^1\\rangle{\\left (t \\right )}\\right ]$$"
      ],
      "text/plain": [
       "⎡d                                                                            \n",
       "⎢──(\\langle m_{P_{unreg}}__1\\rangle(t)) = rₘ⋅\\langle m_{P_{unreg}}__0\\rangle(t\n",
       "⎣dt                                                                           \n",
       "\n",
       "                                                                              \n",
       ") + {k_{on}__{(p)}}⋅\\langle m_{E_{unreg}}__1\\rangle(t) + (-γₘ - {k_{off}__{(p)\n",
       "                                                                              \n",
       "\n",
       "                                        d                                     \n",
       "}})⋅\\langle m_{P_{unreg}}__1\\rangle(t), ──(\\langle m_{E_{unreg}}__1\\rangle(t))\n",
       "                                        dt                                    \n",
       "\n",
       "                                                                              \n",
       " = {k_{off}__{(p)}}⋅\\langle m_{P_{unreg}}__1\\rangle(t) + (-γₘ - {k_{on}__{(p)}\n",
       "                                                                              \n",
       "\n",
       "                                     ⎤\n",
       "})⋅\\langle m_{E_{unreg}}__1\\rangle(t)⎥\n",
       "                                     ⎦"
      ]
     },
     "execution_count": 97,
     "metadata": {},
     "output_type": "execute_result"
    }
   ],
   "source": [
    "dm1dt_unreg = sympy.Matrix([m.diff() for m in m1_unreg])\n",
    "dm1dt_rhs = (Kmat_unreg - Gmat_unreg)* sympy.Matrix(m1_unreg) +\\\n",
    "            Rmat_unreg * sympy.Matrix(m0_unreg)\n",
    "\n",
    "sys = [sympy.Eq(dm1dt_unreg[i], dm1dt_rhs[i]) for i in range(2)]\n",
    "sys"
   ]
  },
  {
   "cell_type": "markdown",
   "metadata": {},
   "source": [
    "Let's now substitute the solution for the zeroth moment.\n",
    "\n",
    "Note: This could have been done in a single step, but it is good to see every step when troubleshooting."
   ]
  },
  {
   "cell_type": "code",
   "execution_count": 98,
   "metadata": {},
   "outputs": [
    {
     "data": {
      "image/png": "[encoded data removed]",
      "text/latex": [
       "$$\\left [ \\frac{d}{d t} \\langle m_{P_{unreg}}^1\\rangle{\\left (t \\right )} = r_{m} \\left(\\frac{{k_{on}^{(p)}}}{{k_{off}^{(p)}} + {k_{on}^{(p)}}} + \\frac{e^{t \\left(- {k_{off}^{(p)}} - {k_{on}^{(p)}}\\right)}}{{k_{off}^{(p)}} + {k_{on}^{(p)}}} \\left(- {\\langle m_{E_{0}}^0\\rangle} {k_{on}^{(p)}} + {\\langle m_{P_{0}}^0\\rangle} {k_{off}^{(p)}}\\right)\\right) + {k_{on}^{(p)}} \\langle m_{E_{unreg}}^1\\rangle{\\left (t \\right )} + \\left(- \\gamma_{m} - {k_{off}^{(p)}}\\right) \\langle m_{P_{unreg}}^1\\rangle{\\left (t \\right )}, \\quad \\frac{d}{d t} \\langle m_{E_{unreg}}^1\\rangle{\\left (t \\right )} = {k_{off}^{(p)}} \\langle m_{P_{unreg}}^1\\rangle{\\left (t \\right )} + \\left(- \\gamma_{m} - {k_{on}^{(p)}}\\right) \\langle m_{E_{unreg}}^1\\rangle{\\left (t \\right )}\\right ]$$"
      ],
      "text/plain": [
       "⎡                                            ⎛                                \n",
       "⎢d                                           ⎜         {k_{on}__{(p)}}        \n",
       "⎢──(\\langle m_{P_{unreg}}__1\\rangle(t)) = rₘ⋅⎜────────────────────────────────\n",
       "⎣dt                                          ⎝{k_{off}__{(p)}} + {k_{on}__{(p)\n",
       "\n",
       "                                                                              \n",
       "     (-{\\langle m_{E_{0}}__0\\rangle}⋅{k_{on}__{(p)}} + {\\langle m_{P_{0}}__0\\r\n",
       "── + ─────────────────────────────────────────────────────────────────────────\n",
       "}}                                                       {k_{off}__{(p)}} + {k\n",
       "\n",
       "                          t⋅(-{k_{off}__{(p)}} - {k_{on}__{(p)}})⎞            \n",
       "angle}⋅{k_{off}__{(p)}})⋅ℯ                                       ⎟            \n",
       "─────────────────────────────────────────────────────────────────⎟ + {k_{on}__\n",
       "_{on}__{(p)}}                                                    ⎠            \n",
       "\n",
       "                                                                              \n",
       "                                                                              \n",
       "{(p)}}⋅\\langle m_{E_{unreg}}__1\\rangle(t) + (-γₘ - {k_{off}__{(p)}})⋅\\langle m\n",
       "                                                                              \n",
       "\n",
       "                                                                              \n",
       "                           d                                                  \n",
       "_{P_{unreg}}__1\\rangle(t), ──(\\langle m_{E_{unreg}}__1\\rangle(t)) = {k_{off}__\n",
       "                           dt                                                 \n",
       "\n",
       "                                                                              \n",
       "                                                                              \n",
       "{(p)}}⋅\\langle m_{P_{unreg}}__1\\rangle(t) + (-γₘ - {k_{on}__{(p)}})⋅\\langle m_\n",
       "                                                                              \n",
       "\n",
       "                        ⎤\n",
       "                        ⎥\n",
       "{E_{unreg}}__1\\rangle(t)⎥\n",
       "                        ⎦"
      ]
     },
     "execution_count": 98,
     "metadata": {},
     "output_type": "execute_result"
    }
   ],
   "source": [
    "sys = [x.subs(dm0dt_dict) for x in sys]\n",
    "sys"
   ]
  },
  {
   "cell_type": "markdown",
   "metadata": {},
   "source": [
    "Now let's try to solve the system"
   ]
  },
  {
   "cell_type": "code",
   "execution_count": 17,
   "metadata": {},
   "outputs": [
    {
     "ename": "NotImplementedError",
     "evalue": "",
     "output_type": "error",
     "traceback": [
      "\u001b[0;31m----------------------------------------------------------------\u001b[0m",
      "\u001b[0;31mNotImplementedError\u001b[0m            Traceback (most recent call last)",
      "\u001b[0;32m<ipython-input-17-485b5aa1639a>\u001b[0m in \u001b[0;36m<module>\u001b[0;34m()\u001b[0m\n\u001b[1;32m      1\u001b[0m \u001b[0;31m# Solving the system using dsolve\u001b[0m\u001b[0;34m\u001b[0m\u001b[0;34m\u001b[0m\u001b[0m\n\u001b[0;32m----> 2\u001b[0;31m \u001b[0mdm1dt_sol\u001b[0m \u001b[0;34m=\u001b[0m \u001b[0msympy\u001b[0m\u001b[0;34m.\u001b[0m\u001b[0mdsolve\u001b[0m\u001b[0;34m(\u001b[0m\u001b[0msys\u001b[0m\u001b[0;34m)\u001b[0m\u001b[0;34m\u001b[0m\u001b[0m\n\u001b[0m\u001b[1;32m      3\u001b[0m \u001b[0;34m\u001b[0m\u001b[0m\n\u001b[1;32m      4\u001b[0m \u001b[0;31m# Split left hand side and right hand side\u001b[0m\u001b[0;34m\u001b[0m\u001b[0;34m\u001b[0m\u001b[0m\n\u001b[1;32m      5\u001b[0m \u001b[0mdm1dt_rhs\u001b[0m \u001b[0;34m=\u001b[0m \u001b[0;34m[\u001b[0m\u001b[0mx\u001b[0m\u001b[0;34m.\u001b[0m\u001b[0mrhs\u001b[0m \u001b[0;32mfor\u001b[0m \u001b[0mx\u001b[0m \u001b[0;32min\u001b[0m \u001b[0mdm1dt_sol\u001b[0m\u001b[0;34m]\u001b[0m\u001b[0;34m\u001b[0m\u001b[0m\n",
      "\u001b[0;32m~/anaconda3/lib/python3.6/site-packages/sympy/solvers/ode.py\u001b[0m in \u001b[0;36mdsolve\u001b[0;34m(eq, func, hint, simplify, ics, xi, eta, x0, n, **kwargs)\u001b[0m\n\u001b[1;32m    606\u001b[0m             \"number of functions being equal to number of equations\")\n\u001b[1;32m    607\u001b[0m         \u001b[0;32mif\u001b[0m \u001b[0mmatch\u001b[0m\u001b[0;34m[\u001b[0m\u001b[0;34m'type_of_equation'\u001b[0m\u001b[0;34m]\u001b[0m \u001b[0;32mis\u001b[0m \u001b[0;32mNone\u001b[0m\u001b[0;34m:\u001b[0m\u001b[0;34m\u001b[0m\u001b[0m\n\u001b[0;32m--> 608\u001b[0;31m             \u001b[0;32mraise\u001b[0m \u001b[0mNotImplementedError\u001b[0m\u001b[0;34m\u001b[0m\u001b[0m\n\u001b[0m\u001b[1;32m    609\u001b[0m         \u001b[0;32melse\u001b[0m\u001b[0;34m:\u001b[0m\u001b[0;34m\u001b[0m\u001b[0m\n\u001b[1;32m    610\u001b[0m             \u001b[0;32mif\u001b[0m \u001b[0mmatch\u001b[0m\u001b[0;34m[\u001b[0m\u001b[0;34m'is_linear'\u001b[0m\u001b[0;34m]\u001b[0m \u001b[0;34m==\u001b[0m \u001b[0;32mTrue\u001b[0m\u001b[0;34m:\u001b[0m\u001b[0;34m\u001b[0m\u001b[0m\n",
      "\u001b[0;31mNotImplementedError\u001b[0m: "
     ]
    }
   ],
   "source": [
    "# Solving the system using dsolve\n",
    "dm1dt_sol = sympy.dsolve(sys)\n",
    "\n",
    "# Split left hand side and right hand side\n",
    "dm1dt_rhs = [x.rhs for x in dm1dt_sol]\n",
    "dm1dt_lhs = [x.lhs for x in dm1dt_sol]\n",
    "\n",
    "dm1dt_sol"
   ]
  },
  {
   "cell_type": "markdown",
   "metadata": {},
   "source": [
    "Sympy cannot apparently solve this system. But we can try to define a differential equation for the \"global\" moment $\\ee{\\bb{m}^1}$ defined as the sum of the first moments for all promoter states."
   ]
  },
  {
   "cell_type": "code",
   "execution_count": 99,
   "metadata": {},
   "outputs": [
    {
     "data": {
      "image/png": "[encoded data removed]",
      "text/latex": [
       "$$\\frac{d}{d t} \\langle \\mathbf{m}_u\\rangle{\\left (t \\right )} = - \\gamma_{m} \\langle \\mathbf{m}_u\\rangle{\\left (t \\right )} + r_{m} \\langle m_{P_{unreg}}^0\\rangle{\\left (t \\right )}$$"
      ],
      "text/plain": [
       "d                                                                             \n",
       "──(\\langle \\mathbf{m}_u\\rangle(t)) = -γₘ⋅\\langle \\mathbf{m}_u\\rangle(t) + rₘ⋅\\\n",
       "dt                                                                            \n",
       "\n",
       "                                 \n",
       "langle m_{P_{unreg}}__0\\rangle(t)\n",
       "                                 "
      ]
     },
     "execution_count": 99,
     "metadata": {},
     "output_type": "execute_result"
    }
   ],
   "source": [
    "# Sum both differential equations and ractor terms\n",
    "dmm1dt_rhs = sum(dm1dt_rhs).collect(m1_unreg[0]).\\\n",
    "                            collect(m1_unreg[1]).\\\n",
    "                            collect(gm).\\\n",
    "                            subs(sum(m1_unreg), mm1_unreg)\n",
    "\n",
    "# Print differential equation for global moment\n",
    "sympy.Eq(mm1_unreg.diff(), dmm1dt_rhs)"
   ]
  },
  {
   "cell_type": "markdown",
   "metadata": {},
   "source": [
    "Let's now attempt to solve the system."
   ]
  },
  {
   "cell_type": "code",
   "execution_count": 100,
   "metadata": {},
   "outputs": [
    {
     "data": {
      "image/png": "[encoded data removed]",
      "text/latex": [
       "$$\\langle \\mathbf{m}_u\\rangle{\\left (t \\right )} = \\left(C_{1} + r_{m} \\int \\langle m_{P_{unreg}}^0\\rangle{\\left (t \\right )} e^{\\gamma_{m} t}\\, dt\\right) e^{- \\gamma_{m} t}$$"
      ],
      "text/plain": [
       "                                 ⎛        ⌠                                   \n",
       "                                 ⎜        ⎮                                   \n",
       "\\langle \\mathbf{m}_u\\rangle(t) = ⎜C₁ + rₘ⋅⎮ \\langle m_{P_{unreg}}__0\\rangle(t)\n",
       "                                 ⎝        ⌡                                   \n",
       "\n",
       "         ⎞       \n",
       "  γₘ⋅t   ⎟  -γₘ⋅t\n",
       "⋅ℯ     dt⎟⋅ℯ     \n",
       "         ⎠       "
      ]
     },
     "execution_count": 100,
     "metadata": {},
     "output_type": "execute_result"
    }
   ],
   "source": [
    "# Solve equation for global first moment\n",
    "dmm1dt_sol = sympy.dsolve(sympy.Eq(mm1_unreg.diff(), dmm1dt_rhs))\n",
    "dmm1dt_sol"
   ]
  },
  {
   "cell_type": "markdown",
   "metadata": {},
   "source": [
    "Since we know the solution for the zeroth moment, let's try to substitute it."
   ]
  },
  {
   "cell_type": "code",
   "execution_count": 101,
   "metadata": {},
   "outputs": [
    {
     "data": {
      "image/png": "[encoded data removed]",
      "text/latex": [
       "$$\\langle \\mathbf{m}_u\\rangle{\\left (t \\right )} = \\left(C_{1} + r_{m} \\int \\left(\\frac{{k_{on}^{(p)}}}{{k_{off}^{(p)}} + {k_{on}^{(p)}}} + \\frac{e^{t \\left(- {k_{off}^{(p)}} - {k_{on}^{(p)}}\\right)}}{{k_{off}^{(p)}} + {k_{on}^{(p)}}} \\left(- {\\langle m_{E_{0}}^0\\rangle} {k_{on}^{(p)}} + {\\langle m_{P_{0}}^0\\rangle} {k_{off}^{(p)}}\\right)\\right) e^{\\gamma_{m} t}\\, dt\\right) e^{- \\gamma_{m} t}$$"
      ],
      "text/plain": [
       "                                 ⎛        ⌠                                   \n",
       "                                 ⎜        ⎮ ⎛                                 \n",
       "                                 ⎜        ⎮ ⎜         {k_{on}__{(p)}}         \n",
       "\\langle \\mathbf{m}_u\\rangle(t) = ⎜C₁ + rₘ⋅⎮ ⎜─────────────────────────────────\n",
       "                                 ⎜        ⎮ ⎝{k_{off}__{(p)}} + {k_{on}__{(p)}\n",
       "                                 ⎝        ⌡                                   \n",
       "\n",
       "                                                                              \n",
       "                                                                              \n",
       "    (-{\\langle m_{E_{0}}__0\\rangle}⋅{k_{on}__{(p)}} + {\\langle m_{P_{0}}__0\\ra\n",
       "─ + ──────────────────────────────────────────────────────────────────────────\n",
       "}                                                       {k_{off}__{(p)}} + {k_\n",
       "                                                                              \n",
       "\n",
       "                                                                          ⎞   \n",
       "                         t⋅(-{k_{off}__{(p)}} - {k_{on}__{(p)}})⎞         ⎟   \n",
       "ngle}⋅{k_{off}__{(p)}})⋅ℯ                                       ⎟  γₘ⋅t   ⎟  -\n",
       "────────────────────────────────────────────────────────────────⎟⋅ℯ     dt⎟⋅ℯ \n",
       "{on}__{(p)}}                                                    ⎠         ⎟   \n",
       "                                                                          ⎠   \n",
       "\n",
       "    \n",
       "    \n",
       "γₘ⋅t\n",
       "    \n",
       "    \n",
       "    "
      ]
     },
     "execution_count": 101,
     "metadata": {},
     "output_type": "execute_result"
    }
   ],
   "source": [
    "dmm1dt_sol = dmm1dt_sol.subs(dm0dt_dict)\n",
    "dmm1dt_sol"
   ]
  },
  {
   "cell_type": "markdown",
   "metadata": {},
   "source": [
    "The symbolic integral must be solvable. Let's try to expand the terms to see each of the individual terms inside the integral."
   ]
  },
  {
   "cell_type": "code",
   "execution_count": 102,
   "metadata": {},
   "outputs": [
    {
     "data": {
      "image/png": "[encoded data removed]",
      "text/latex": [
       "$$\\langle \\mathbf{m}_u\\rangle{\\left (t \\right )} = C_{1} e^{- \\gamma_{m} t} + r_{m} e^{- \\gamma_{m} t} \\int \\frac{{k_{on}^{(p)}} e^{\\gamma_{m} t}}{{k_{off}^{(p)}} + {k_{on}^{(p)}}}\\, dt + r_{m} e^{- \\gamma_{m} t} \\int \\left(- \\frac{{\\langle m_{E_{0}}^0\\rangle} {k_{on}^{(p)}} e^{\\gamma_{m} t}}{{k_{off}^{(p)}} e^{t {k_{off}^{(p)}}} e^{t {k_{on}^{(p)}}} + {k_{on}^{(p)}} e^{t {k_{off}^{(p)}}} e^{t {k_{on}^{(p)}}}}\\right)\\, dt + r_{m} e^{- \\gamma_{m} t} \\int \\frac{{\\langle m_{P_{0}}^0\\rangle} {k_{off}^{(p)}} e^{\\gamma_{m} t}}{{k_{off}^{(p)}} e^{t {k_{off}^{(p)}}} e^{t {k_{on}^{(p)}}} + {k_{on}^{(p)}} e^{t {k_{off}^{(p)}}} e^{t {k_{on}^{(p)}}}}\\, dt$$"
      ],
      "text/plain": [
       "                                                       ⌠                      \n",
       "                                                       ⎮                      \n",
       "                                     -γₘ⋅t       -γₘ⋅t ⎮       {k_{on}__{(p)}}\n",
       "\\langle \\mathbf{m}_u\\rangle(t) = C₁⋅ℯ      + rₘ⋅ℯ     ⋅⎮ ─────────────────────\n",
       "                                                       ⎮ {k_{off}__{(p)}} + {k\n",
       "                                                       ⌡                      \n",
       "                                                                              \n",
       "\n",
       "                             ⌠                                                \n",
       "  γₘ⋅t                       ⎮                                                \n",
       "⋅ℯ                     -γₘ⋅t ⎮                              -{\\langle m_{E_{0}\n",
       "───────────── dt + rₘ⋅ℯ     ⋅⎮ ───────────────────────────────────────────────\n",
       "_{on}__{(p)}}                ⎮                   t⋅{k_{off}__{(p)}}  t⋅{k_{on}\n",
       "                             ⎮ {k_{off}__{(p)}}⋅ℯ                  ⋅ℯ         \n",
       "                             ⌡                                                \n",
       "\n",
       "                                                                              \n",
       "                              γₘ⋅t                                            \n",
       "}__0\\rangle}⋅{k_{on}__{(p)}}⋅ℯ                                             -γₘ\n",
       "───────────────────────────────────────────────────────────────── dt + rₘ⋅ℯ   \n",
       "__{(p)}}                    t⋅{k_{off}__{(p)}}  t⋅{k_{on}__{(p)}}             \n",
       "         + {k_{on}__{(p)}}⋅ℯ                  ⋅ℯ                              \n",
       "                                                                              \n",
       "\n",
       "   ⌠                                                                          \n",
       "   ⎮                                                                          \n",
       "⋅t ⎮                               {\\langle m_{P_{0}}__0\\rangle}⋅{k_{off}__{(p\n",
       "  ⋅⎮ ─────────────────────────────────────────────────────────────────────────\n",
       "   ⎮                   t⋅{k_{off}__{(p)}}  t⋅{k_{on}__{(p)}}                  \n",
       "   ⎮ {k_{off}__{(p)}}⋅ℯ                  ⋅ℯ                  + {k_{on}__{(p)}}\n",
       "   ⌡                                                                          \n",
       "\n",
       "                                          \n",
       "     γₘ⋅t                                 \n",
       ")}}⋅ℯ                                     \n",
       "─────────────────────────────────────── dt\n",
       "  t⋅{k_{off}__{(p)}}  t⋅{k_{on}__{(p)}}   \n",
       "⋅ℯ                  ⋅ℯ                    \n",
       "                                          "
      ]
     },
     "execution_count": 102,
     "metadata": {},
     "output_type": "execute_result"
    }
   ],
   "source": [
    "dmm1dt_sol = dmm1dt_sol.expand()\n",
    "dmm1dt_sol"
   ]
  },
  {
   "cell_type": "markdown",
   "metadata": {},
   "source": [
    "To perform each of these integrals we will split the left hand side of the equation into the individual components and solve each of them individually."
   ]
  },
  {
   "cell_type": "code",
   "execution_count": 103,
   "metadata": {},
   "outputs": [
    {
     "data": {
      "image/png": "[encoded data removed]",
      "text/latex": [
       "$$\\left [ C_{1} e^{- \\gamma_{m} t}, \\quad r_{m} e^{- \\gamma_{m} t} \\int \\frac{{k_{on}^{(p)}} e^{\\gamma_{m} t}}{{k_{off}^{(p)}} + {k_{on}^{(p)}}}\\, dt, \\quad r_{m} e^{- \\gamma_{m} t} \\int \\frac{{\\langle m_{P_{0}}^0\\rangle} {k_{off}^{(p)}} e^{\\gamma_{m} t}}{{k_{off}^{(p)}} e^{t {k_{off}^{(p)}}} e^{t {k_{on}^{(p)}}} + {k_{on}^{(p)}} e^{t {k_{off}^{(p)}}} e^{t {k_{on}^{(p)}}}}\\, dt, \\quad r_{m} e^{- \\gamma_{m} t} \\int \\left(- \\frac{{\\langle m_{E_{0}}^0\\rangle} {k_{on}^{(p)}} e^{\\gamma_{m} t}}{{k_{off}^{(p)}} e^{t {k_{off}^{(p)}}} e^{t {k_{on}^{(p)}}} + {k_{on}^{(p)}} e^{t {k_{off}^{(p)}}} e^{t {k_{on}^{(p)}}}}\\right)\\, dt\\right ]$$"
      ],
      "text/plain": [
       "⎡                     ⌠                                                  ⌠    \n",
       "⎢                     ⎮                        γₘ⋅t                      ⎮    \n",
       "⎢    -γₘ⋅t      -γₘ⋅t ⎮       {k_{on}__{(p)}}⋅ℯ                    -γₘ⋅t ⎮    \n",
       "⎢C₁⋅ℯ     , rₘ⋅ℯ     ⋅⎮ ────────────────────────────────── dt, rₘ⋅ℯ     ⋅⎮ ───\n",
       "⎢                     ⎮ {k_{off}__{(p)}} + {k_{on}__{(p)}}               ⎮    \n",
       "⎢                     ⌡                                                  ⎮ {k_\n",
       "⎣                                                                        ⌡    \n",
       "\n",
       "                                                                              \n",
       "                                                                           γₘ⋅\n",
       "                           {\\langle m_{P_{0}}__0\\rangle}⋅{k_{off}__{(p)}}⋅ℯ   \n",
       "──────────────────────────────────────────────────────────────────────────────\n",
       "               t⋅{k_{off}__{(p)}}  t⋅{k_{on}__{(p)}}                    t⋅{k_{\n",
       "{off}__{(p)}}⋅ℯ                  ⋅ℯ                  + {k_{on}__{(p)}}⋅ℯ      \n",
       "                                                                              \n",
       "\n",
       "                                              ⌠                               \n",
       "t                                             ⎮                               \n",
       "                                        -γₘ⋅t ⎮                              -\n",
       "─────────────────────────────── dt, rₘ⋅ℯ     ⋅⎮ ──────────────────────────────\n",
       "off}__{(p)}}  t⋅{k_{on}__{(p)}}               ⎮                   t⋅{k_{off}__\n",
       "            ⋅ℯ                                ⎮ {k_{off}__{(p)}}⋅ℯ            \n",
       "                                              ⌡                               \n",
       "\n",
       "                                                                              \n",
       "                                               γₘ⋅t                           \n",
       "{\\langle m_{E_{0}}__0\\rangle}⋅{k_{on}__{(p)}}⋅ℯ                               \n",
       "──────────────────────────────────────────────────────────────────────────────\n",
       "{(p)}}  t⋅{k_{on}__{(p)}}                    t⋅{k_{off}__{(p)}}  t⋅{k_{on}__{(\n",
       "      ⋅ℯ                  + {k_{on}__{(p)}}⋅ℯ                  ⋅ℯ             \n",
       "                                                                              \n",
       "\n",
       "       ⎤\n",
       "       ⎥\n",
       "       ⎥\n",
       "──── dt⎥\n",
       "p)}}   ⎥\n",
       "       ⎥\n",
       "       ⎦"
      ]
     },
     "execution_count": 103,
     "metadata": {},
     "output_type": "execute_result"
    }
   ],
   "source": [
    "# Split terms and convert them to list in order to modify them.\n",
    "dmm1dt_sol_rhs = list(dmm1dt_sol.rhs.args)\n",
    "dmm1dt_sol_rhs"
   ]
  },
  {
   "cell_type": "markdown",
   "metadata": {},
   "source": [
    "The first integral term is easily solved since the integral is pretty simple."
   ]
  },
  {
   "cell_type": "code",
   "execution_count": 104,
   "metadata": {},
   "outputs": [
    {
     "data": {
      "image/png": "[encoded data removed]",
      "text/latex": [
       "$$\\frac{r_{m} {k_{on}^{(p)}}}{\\gamma_{m} {k_{off}^{(p)}} + \\gamma_{m} {k_{on}^{(p)}}}$$"
      ],
      "text/plain": [
       "           rₘ⋅{k_{on}__{(p)}}           \n",
       "────────────────────────────────────────\n",
       "γₘ⋅{k_{off}__{(p)}} + γₘ⋅{k_{on}__{(p)}}"
      ]
     },
     "execution_count": 104,
     "metadata": {},
     "output_type": "execute_result"
    }
   ],
   "source": [
    "dmm1dt_sol_rhs[1] = dmm1dt_sol_rhs[1].doit()\n",
    "dmm1dt_sol_rhs[1]"
   ]
  },
  {
   "cell_type": "markdown",
   "metadata": {},
   "source": [
    "For the second integral we have a case in which `sympy` presents two possible solutions."
   ]
  },
  {
   "cell_type": "code",
   "execution_count": 106,
   "metadata": {},
   "outputs": [
    {
     "data": {
      "image/png": "[encoded data removed]",
      "text/latex": [
       "$$r_{m} {\\langle m_{P_{0}}^0\\rangle} {k_{off}^{(p)}} \\left(\\begin{cases} \\frac{t {k_{off}^{(p)}}}{{k_{off}^{(p)}}^{2} + 2 {k_{off}^{(p)}} {k_{on}^{(p)}} + {k_{on}^{(p)}}^{2}} + \\frac{t {k_{on}^{(p)}}}{{k_{off}^{(p)}}^{2} + 2 {k_{off}^{(p)}} {k_{on}^{(p)}} + {k_{on}^{(p)}}^{2}} & \\text{for}\\: \\gamma_{m} = {k_{off}^{(p)}} + {k_{on}^{(p)}} \\\\\\frac{e^{\\gamma_{m} t}}{\\gamma_{m} {k_{off}^{(p)}} e^{t {k_{off}^{(p)}}} e^{t {k_{on}^{(p)}}} + \\gamma_{m} {k_{on}^{(p)}} e^{t {k_{off}^{(p)}}} e^{t {k_{on}^{(p)}}} - {k_{off}^{(p)}}^{2} e^{t {k_{off}^{(p)}}} e^{t {k_{on}^{(p)}}} - 2 {k_{off}^{(p)}} {k_{on}^{(p)}} e^{t {k_{off}^{(p)}}} e^{t {k_{on}^{(p)}}} - {k_{on}^{(p)}}^{2} e^{t {k_{off}^{(p)}}} e^{t {k_{on}^{(p)}}}} & \\text{otherwise} \\end{cases}\\right) e^{- \\gamma_{m} t}$$"
      ],
      "text/plain": [
       "                                                  ⎛⎧                          \n",
       "                                                  ⎜⎪                          \n",
       "                                                  ⎜⎪                          \n",
       "                                                  ⎜⎪                          \n",
       "                                                  ⎜⎪                          \n",
       "rₘ⋅{\\langle m_{P_{0}}__0\\rangle}⋅{k_{off}__{(p)}}⋅⎜⎨                          \n",
       "                                                  ⎜⎪                          \n",
       "                                                  ⎜⎪──────────────────────────\n",
       "                                                  ⎜⎪                     t⋅{k_\n",
       "                                                  ⎜⎪γₘ⋅{k_{off}__{(p)}}⋅ℯ     \n",
       "                                                  ⎝⎩                          \n",
       "\n",
       "                                                                              \n",
       "                                                       ───────────────────────\n",
       "                                                                       2      \n",
       "                                                       {k_{off}__{(p)}}  + 2⋅{\n",
       "                                                                              \n",
       "                                                                              \n",
       "                                                                              \n",
       "──────────────────────────────────────────────────────────────────────────────\n",
       "{off}__{(p)}}  t⋅{k_{on}__{(p)}}                       t⋅{k_{off}__{(p)}}  t⋅{\n",
       "             ⋅ℯ                  + γₘ⋅{k_{on}__{(p)}}⋅ℯ                  ⋅ℯ   \n",
       "                                                                              \n",
       "\n",
       "     t⋅{k_{off}__{(p)}}                                                       \n",
       "────────────────────────────────────────────────── + ─────────────────────────\n",
       "                                                 2                   2        \n",
       "k_{off}__{(p)}}⋅{k_{on}__{(p)}} + {k_{on}__{(p)}}    {k_{off}__{(p)}}  + 2⋅{k_\n",
       "                                                                              \n",
       "                                                  γₘ⋅t                        \n",
       "                                                 ℯ                            \n",
       "──────────────────────────────────────────────────────────────────────────────\n",
       "k_{on}__{(p)}}                   2  t⋅{k_{off}__{(p)}}  t⋅{k_{on}__{(p)}}     \n",
       "               - {k_{off}__{(p)}} ⋅ℯ                  ⋅ℯ                  - 2⋅\n",
       "                                                                              \n",
       "\n",
       "   t⋅{k_{on}__{(p)}}                                                          \n",
       "────────────────────────────────────────────────                              \n",
       "                                               2                              \n",
       "{off}__{(p)}}⋅{k_{on}__{(p)}} + {k_{on}__{(p)}}                               \n",
       "                                                                              \n",
       "                                                                              \n",
       "                                                                              \n",
       "──────────────────────────────────────────────────────────────────────────────\n",
       "                                  t⋅{k_{off}__{(p)}}  t⋅{k_{on}__{(p)}}       \n",
       "{k_{off}__{(p)}}⋅{k_{on}__{(p)}}⋅ℯ                  ⋅ℯ                  - {k_{\n",
       "                                                                              \n",
       "\n",
       "                                                                              \n",
       "                                                     for γₘ = {k_{off}__{(p)}}\n",
       "                                                                              \n",
       "                                                                              \n",
       "                                                                              \n",
       "                                                                              \n",
       "                                                                              \n",
       "───────────────────────────────────────────────────                   otherwis\n",
       "           2  t⋅{k_{off}__{(p)}}  t⋅{k_{on}__{(p)}}                           \n",
       "on}__{(p)}} ⋅ℯ                  ⋅ℯ                                            \n",
       "                                                                              \n",
       "\n",
       "                  ⎞       \n",
       " + {k_{on}__{(p)}}⎟       \n",
       "                  ⎟       \n",
       "                  ⎟       \n",
       "                  ⎟  -γₘ⋅t\n",
       "                  ⎟⋅ℯ     \n",
       "                  ⎟       \n",
       "e                 ⎟       \n",
       "                  ⎟       \n",
       "                  ⎟       \n",
       "                  ⎠       "
      ]
     },
     "execution_count": 106,
     "metadata": {},
     "output_type": "execute_result"
    }
   ],
   "source": [
    "integral = dmm1dt_sol_rhs[2].doit()\n",
    "integral"
   ]
  },
  {
   "cell_type": "markdown",
   "metadata": {},
   "source": [
    "`Sympy` gives one solution for the case when $\\gm = \\kpon + \\kpoff$ and other cases. Since this is a condition that we definitely do not want to impose in our solution we need to choose the general solution.\n",
    "\n",
    "Given that I do not find a way to tell `sympy` that the equality is not satisfied we will have to \n",
    "1. Split the terms in the expression.\n",
    "2. Choose the general solution.\n",
    "3. Substitute back and compile again."
   ]
  },
  {
   "cell_type": "code",
   "execution_count": 107,
   "metadata": {},
   "outputs": [
    {
     "data": {
      "image/png": "[encoded data removed]",
      "text/latex": [
       "$$\\frac{r_{m} {\\langle m_{P_{0}}^0\\rangle} {k_{off}^{(p)}} e^{- t \\left({k_{off}^{(p)}} + {k_{on}^{(p)}}\\right)}}{\\gamma_{m} {k_{off}^{(p)}} + \\gamma_{m} {k_{on}^{(p)}} - {k_{off}^{(p)}}^{2} - 2 {k_{off}^{(p)}} {k_{on}^{(p)}} - {k_{on}^{(p)}}^{2}}$$"
      ],
      "text/plain": [
       "                                                                -t⋅({k_{off}__\n",
       "             rₘ⋅{\\langle m_{P_{0}}__0\\rangle}⋅{k_{off}__{(p)}}⋅ℯ              \n",
       "──────────────────────────────────────────────────────────────────────────────\n",
       "                                                           2                  \n",
       "γₘ⋅{k_{off}__{(p)}} + γₘ⋅{k_{on}__{(p)}} - {k_{off}__{(p)}}  - 2⋅{k_{off}__{(p\n",
       "\n",
       "{(p)}} + {k_{on}__{(p)}})             \n",
       "                                      \n",
       "──────────────────────────────────────\n",
       "                                     2\n",
       ")}}⋅{k_{on}__{(p)}} - {k_{on}__{(p)}} "
      ]
     },
     "execution_count": 107,
     "metadata": {},
     "output_type": "execute_result"
    }
   ],
   "source": [
    "# split integral into its components.\n",
    "integral_args = list(integral.args)\n",
    "\n",
    "# Let's now select the integral part and split it into its components\n",
    "piecewise_args = integral_args[-2].args\n",
    "\n",
    "# Now let's select the general solution and substitute it back into the\n",
    "# split integral terms\n",
    "integral_args[-2] = piecewise_args[1][0]\n",
    "\n",
    "# Let's collect the terms and compute the integral\n",
    "dmm1dt_sol_rhs[2] = np.prod(integral_args).simplify()\n",
    "dmm1dt_sol_rhs[2]"
   ]
  },
  {
   "cell_type": "markdown",
   "metadata": {},
   "source": [
    "Let's follow the same procedure for the last integral in the solution."
   ]
  },
  {
   "cell_type": "code",
   "execution_count": 108,
   "metadata": {},
   "outputs": [
    {
     "data": {
      "image/png": "[encoded data removed]",
      "text/latex": [
       "$$- r_{m} {\\langle m_{E_{0}}^0\\rangle} {k_{on}^{(p)}} \\left(\\begin{cases} \\frac{t {k_{off}^{(p)}}}{{k_{off}^{(p)}}^{2} + 2 {k_{off}^{(p)}} {k_{on}^{(p)}} + {k_{on}^{(p)}}^{2}} + \\frac{t {k_{on}^{(p)}}}{{k_{off}^{(p)}}^{2} + 2 {k_{off}^{(p)}} {k_{on}^{(p)}} + {k_{on}^{(p)}}^{2}} & \\text{for}\\: \\gamma_{m} = {k_{off}^{(p)}} + {k_{on}^{(p)}} \\\\\\frac{e^{\\gamma_{m} t}}{\\gamma_{m} {k_{off}^{(p)}} e^{t {k_{off}^{(p)}}} e^{t {k_{on}^{(p)}}} + \\gamma_{m} {k_{on}^{(p)}} e^{t {k_{off}^{(p)}}} e^{t {k_{on}^{(p)}}} - {k_{off}^{(p)}}^{2} e^{t {k_{off}^{(p)}}} e^{t {k_{on}^{(p)}}} - 2 {k_{off}^{(p)}} {k_{on}^{(p)}} e^{t {k_{off}^{(p)}}} e^{t {k_{on}^{(p)}}} - {k_{on}^{(p)}}^{2} e^{t {k_{off}^{(p)}}} e^{t {k_{on}^{(p)}}}} & \\text{otherwise} \\end{cases}\\right) e^{- \\gamma_{m} t}$$"
      ],
      "text/plain": [
       "                                                  ⎛⎧                          \n",
       "                                                  ⎜⎪                          \n",
       "                                                  ⎜⎪                          \n",
       "                                                  ⎜⎪                          \n",
       "                                                  ⎜⎪                          \n",
       "-rₘ⋅{\\langle m_{E_{0}}__0\\rangle}⋅{k_{on}__{(p)}}⋅⎜⎨                          \n",
       "                                                  ⎜⎪                          \n",
       "                                                  ⎜⎪──────────────────────────\n",
       "                                                  ⎜⎪                     t⋅{k_\n",
       "                                                  ⎜⎪γₘ⋅{k_{off}__{(p)}}⋅ℯ     \n",
       "                                                  ⎝⎩                          \n",
       "\n",
       "                                                                              \n",
       "                                                       ───────────────────────\n",
       "                                                                       2      \n",
       "                                                       {k_{off}__{(p)}}  + 2⋅{\n",
       "                                                                              \n",
       "                                                                              \n",
       "                                                                              \n",
       "──────────────────────────────────────────────────────────────────────────────\n",
       "{off}__{(p)}}  t⋅{k_{on}__{(p)}}                       t⋅{k_{off}__{(p)}}  t⋅{\n",
       "             ⋅ℯ                  + γₘ⋅{k_{on}__{(p)}}⋅ℯ                  ⋅ℯ   \n",
       "                                                                              \n",
       "\n",
       "     t⋅{k_{off}__{(p)}}                                                       \n",
       "────────────────────────────────────────────────── + ─────────────────────────\n",
       "                                                 2                   2        \n",
       "k_{off}__{(p)}}⋅{k_{on}__{(p)}} + {k_{on}__{(p)}}    {k_{off}__{(p)}}  + 2⋅{k_\n",
       "                                                                              \n",
       "                                                  γₘ⋅t                        \n",
       "                                                 ℯ                            \n",
       "──────────────────────────────────────────────────────────────────────────────\n",
       "k_{on}__{(p)}}                   2  t⋅{k_{off}__{(p)}}  t⋅{k_{on}__{(p)}}     \n",
       "               - {k_{off}__{(p)}} ⋅ℯ                  ⋅ℯ                  - 2⋅\n",
       "                                                                              \n",
       "\n",
       "   t⋅{k_{on}__{(p)}}                                                          \n",
       "────────────────────────────────────────────────                              \n",
       "                                               2                              \n",
       "{off}__{(p)}}⋅{k_{on}__{(p)}} + {k_{on}__{(p)}}                               \n",
       "                                                                              \n",
       "                                                                              \n",
       "                                                                              \n",
       "──────────────────────────────────────────────────────────────────────────────\n",
       "                                  t⋅{k_{off}__{(p)}}  t⋅{k_{on}__{(p)}}       \n",
       "{k_{off}__{(p)}}⋅{k_{on}__{(p)}}⋅ℯ                  ⋅ℯ                  - {k_{\n",
       "                                                                              \n",
       "\n",
       "                                                                              \n",
       "                                                     for γₘ = {k_{off}__{(p)}}\n",
       "                                                                              \n",
       "                                                                              \n",
       "                                                                              \n",
       "                                                                              \n",
       "                                                                              \n",
       "───────────────────────────────────────────────────                   otherwis\n",
       "           2  t⋅{k_{off}__{(p)}}  t⋅{k_{on}__{(p)}}                           \n",
       "on}__{(p)}} ⋅ℯ                  ⋅ℯ                                            \n",
       "                                                                              \n",
       "\n",
       "                  ⎞       \n",
       " + {k_{on}__{(p)}}⎟       \n",
       "                  ⎟       \n",
       "                  ⎟       \n",
       "                  ⎟  -γₘ⋅t\n",
       "                  ⎟⋅ℯ     \n",
       "                  ⎟       \n",
       "e                 ⎟       \n",
       "                  ⎟       \n",
       "                  ⎟       \n",
       "                  ⎠       "
      ]
     },
     "execution_count": 108,
     "metadata": {},
     "output_type": "execute_result"
    }
   ],
   "source": [
    "integral = dmm1dt_sol_rhs[3].doit()\n",
    "integral"
   ]
  },
  {
   "cell_type": "code",
   "execution_count": 109,
   "metadata": {},
   "outputs": [
    {
     "data": {
      "image/png": "[encoded data removed]",
      "text/latex": [
       "$$\\frac{r_{m} {\\langle m_{E_{0}}^0\\rangle} {k_{on}^{(p)}} e^{- t \\left({k_{off}^{(p)}} + {k_{on}^{(p)}}\\right)}}{- \\gamma_{m} {k_{off}^{(p)}} - \\gamma_{m} {k_{on}^{(p)}} + {k_{off}^{(p)}}^{2} + 2 {k_{off}^{(p)}} {k_{on}^{(p)}} + {k_{on}^{(p)}}^{2}}$$"
      ],
      "text/plain": [
       "                                                                -t⋅({k_{off}__\n",
       "              rₘ⋅{\\langle m_{E_{0}}__0\\rangle}⋅{k_{on}__{(p)}}⋅ℯ              \n",
       "──────────────────────────────────────────────────────────────────────────────\n",
       "                                                            2                 \n",
       "-γₘ⋅{k_{off}__{(p)}} - γₘ⋅{k_{on}__{(p)}} + {k_{off}__{(p)}}  + 2⋅{k_{off}__{(\n",
       "\n",
       "{(p)}} + {k_{on}__{(p)}})              \n",
       "                                       \n",
       "───────────────────────────────────────\n",
       "                                      2\n",
       "p)}}⋅{k_{on}__{(p)}} + {k_{on}__{(p)}} "
      ]
     },
     "execution_count": 109,
     "metadata": {},
     "output_type": "execute_result"
    }
   ],
   "source": [
    "# split integral into its components.\n",
    "integral_args = list(integral.args)\n",
    "\n",
    "# Let's now select the integral part and split it into its components\n",
    "piecewise_args = integral_args[-2].args\n",
    "\n",
    "# Now let's select the general solution and substitute it back into the\n",
    "# split integral terms\n",
    "integral_args[-2] = piecewise_args[1][0]\n",
    "\n",
    "# Let's collect the terms and compute the integral\n",
    "dmm1dt_sol_rhs[3] = np.prod(integral_args).simplify()\n",
    "dmm1dt_sol_rhs[3]"
   ]
  },
  {
   "cell_type": "markdown",
   "metadata": {},
   "source": [
    "Having done this we can put the solution for ${d \\over dt}\\ee{\\bb{m}^1}$ together."
   ]
  },
  {
   "cell_type": "code",
   "execution_count": 110,
   "metadata": {},
   "outputs": [
    {
     "data": {
      "image/png": "[encoded data removed]",
      "text/latex": [
       "$$\\langle \\mathbf{m}_u\\rangle{\\left (t \\right )} = C_{1} e^{- \\gamma_{m} t} + \\frac{r_{m} {\\langle m_{E_{0}}^0\\rangle} {k_{on}^{(p)}} e^{- t \\left({k_{off}^{(p)}} + {k_{on}^{(p)}}\\right)}}{- \\gamma_{m} {k_{off}^{(p)}} - \\gamma_{m} {k_{on}^{(p)}} + {k_{off}^{(p)}}^{2} + 2 {k_{off}^{(p)}} {k_{on}^{(p)}} + {k_{on}^{(p)}}^{2}} + \\frac{r_{m} {\\langle m_{P_{0}}^0\\rangle} {k_{off}^{(p)}} e^{- t \\left({k_{off}^{(p)}} + {k_{on}^{(p)}}\\right)}}{\\gamma_{m} {k_{off}^{(p)}} + \\gamma_{m} {k_{on}^{(p)}} - {k_{off}^{(p)}}^{2} - 2 {k_{off}^{(p)}} {k_{on}^{(p)}} - {k_{on}^{(p)}}^{2}} + \\frac{r_{m} {k_{on}^{(p)}}}{\\gamma_{m} {k_{off}^{(p)}} + \\gamma_{m} {k_{on}^{(p)}}}$$"
      ],
      "text/plain": [
       "                                                                              \n",
       "                                     -γₘ⋅t                 rₘ⋅{\\langle m_{E_{0\n",
       "\\langle \\mathbf{m}_u\\rangle(t) = C₁⋅ℯ      + ─────────────────────────────────\n",
       "                                                                              \n",
       "                                             -γₘ⋅{k_{off}__{(p)}} - γₘ⋅{k_{on}\n",
       "\n",
       "                               -t⋅({k_{off}__{(p)}} + {k_{on}__{(p)}})        \n",
       "}}__0\\rangle}⋅{k_{on}__{(p)}}⋅ℯ                                               \n",
       "──────────────────────────────────────────────────────────────────────────────\n",
       "                           2                                                  \n",
       "__{(p)}} + {k_{off}__{(p)}}  + 2⋅{k_{off}__{(p)}}⋅{k_{on}__{(p)}} + {k_{on}__{\n",
       "\n",
       "                                                                         -t⋅({\n",
       "                      rₘ⋅{\\langle m_{P_{0}}__0\\rangle}⋅{k_{off}__{(p)}}⋅ℯ     \n",
       "────── + ─────────────────────────────────────────────────────────────────────\n",
       "     2                                                              2         \n",
       "(p)}}    γₘ⋅{k_{off}__{(p)}} + γₘ⋅{k_{on}__{(p)}} - {k_{off}__{(p)}}  - 2⋅{k_{\n",
       "\n",
       "k_{off}__{(p)}} + {k_{on}__{(p)}})                                            \n",
       "                                                             rₘ⋅{k_{on}__{(p)}\n",
       "─────────────────────────────────────────────── + ────────────────────────────\n",
       "                                              2   γₘ⋅{k_{off}__{(p)}} + γₘ⋅{k_\n",
       "off}__{(p)}}⋅{k_{on}__{(p)}} - {k_{on}__{(p)}}                                \n",
       "\n",
       "            \n",
       "}           \n",
       "────────────\n",
       "{on}__{(p)}}\n",
       "            "
      ]
     },
     "execution_count": 110,
     "metadata": {},
     "output_type": "execute_result"
    }
   ],
   "source": [
    "dmm1dt_sol = sympy.Eq(dmm1dt_sol.lhs, sum(dmm1dt_sol_rhs))\n",
    "dmm1dt_sol"
   ]
  },
  {
   "cell_type": "markdown",
   "metadata": {},
   "source": [
    "And just as with the zeroth moment solution we will use initial conditions of the form $\\ee{\\bb{m}}(0) = \\ee{\\bb{m}_0}$"
   ]
  },
  {
   "cell_type": "code",
   "execution_count": 111,
   "metadata": {},
   "outputs": [
    {
     "data": {
      "image/png": "[encoded data removed]",
      "text/latex": [
       "$${\\langle \\mathbf{m}_0^1\\rangle}$$"
      ],
      "text/plain": [
       "{\\langle \\mathbf{m}_0__1\\rangle}"
      ]
     },
     "execution_count": 111,
     "metadata": {},
     "output_type": "execute_result"
    }
   ],
   "source": [
    "# Define the string for the states\n",
    "m1_unreg_init = moment_sympy('\\mathbf{m}_0', 1)\n",
    "m1_unreg_init"
   ]
  },
  {
   "cell_type": "markdown",
   "metadata": {},
   "source": [
    "Let's substitute $t=0$ in the solution."
   ]
  },
  {
   "cell_type": "code",
   "execution_count": 112,
   "metadata": {},
   "outputs": [
    {
     "data": {
      "image/png": "[encoded data removed]",
      "text/latex": [
       "$${\\langle \\mathbf{m}_0^1\\rangle} = C_{1} + \\frac{r_{m} {\\langle m_{E_{0}}^0\\rangle} {k_{on}^{(p)}}}{- \\gamma_{m} {k_{off}^{(p)}} - \\gamma_{m} {k_{on}^{(p)}} + {k_{off}^{(p)}}^{2} + 2 {k_{off}^{(p)}} {k_{on}^{(p)}} + {k_{on}^{(p)}}^{2}} + \\frac{r_{m} {\\langle m_{P_{0}}^0\\rangle} {k_{off}^{(p)}}}{\\gamma_{m} {k_{off}^{(p)}} + \\gamma_{m} {k_{on}^{(p)}} - {k_{off}^{(p)}}^{2} - 2 {k_{off}^{(p)}} {k_{on}^{(p)}} - {k_{on}^{(p)}}^{2}} + \\frac{r_{m} {k_{on}^{(p)}}}{\\gamma_{m} {k_{off}^{(p)}} + \\gamma_{m} {k_{on}^{(p)}}}$$"
      ],
      "text/plain": [
       "                                                                           rₘ⋅\n",
       "{\\langle \\mathbf{m}_0__1\\rangle} = C₁ + ──────────────────────────────────────\n",
       "                                                                              \n",
       "                                        -γₘ⋅{k_{off}__{(p)}} - γₘ⋅{k_{on}__{(p\n",
       "\n",
       "{\\langle m_{E_{0}}__0\\rangle}⋅{k_{on}__{(p)}}                                 \n",
       "──────────────────────────────────────────────────────────────────────────────\n",
       "                      2                                                       \n",
       ")}} + {k_{off}__{(p)}}  + 2⋅{k_{off}__{(p)}}⋅{k_{on}__{(p)}} + {k_{on}__{(p)}}\n",
       "\n",
       "                                     rₘ⋅{\\langle m_{P_{0}}__0\\rangle}⋅{k_{off}\n",
       "─ + ──────────────────────────────────────────────────────────────────────────\n",
       "2                                                              2              \n",
       "    γₘ⋅{k_{off}__{(p)}} + γₘ⋅{k_{on}__{(p)}} - {k_{off}__{(p)}}  - 2⋅{k_{off}_\n",
       "\n",
       "__{(p)}}                                                rₘ⋅{k_{on}__{(p)}}    \n",
       "────────────────────────────────────────── + ─────────────────────────────────\n",
       "                                         2   γₘ⋅{k_{off}__{(p)}} + γₘ⋅{k_{on}_\n",
       "_{(p)}}⋅{k_{on}__{(p)}} - {k_{on}__{(p)}}                                     \n",
       "\n",
       "       \n",
       "───────\n",
       "_{(p)}}\n",
       "       "
      ]
     },
     "execution_count": 112,
     "metadata": {},
     "output_type": "execute_result"
    }
   ],
   "source": [
    "dmm1dt_zero = sympy.Eq(m1_unreg_init, dmm1dt_sol.rhs.subs(t, 0))\n",
    "dmm1dt_zero"
   ]
  },
  {
   "cell_type": "markdown",
   "metadata": {},
   "source": [
    "And solve for the constant."
   ]
  },
  {
   "cell_type": "code",
   "execution_count": 113,
   "metadata": {},
   "outputs": [
    {
     "data": {
      "image/png": "[encoded data removed]",
      "text/latex": [
       "$$\\left \\{ C_{1} : \\frac{1}{\\gamma_{m} \\left(\\gamma_{m} {k_{off}^{(p)}} + \\gamma_{m} {k_{on}^{(p)}} - {k_{off}^{(p)}}^{2} - 2 {k_{off}^{(p)}} {k_{on}^{(p)}} - {k_{on}^{(p)}}^{2}\\right)} \\left(\\gamma_{m}^{2} {\\langle \\mathbf{m}_0^1\\rangle} {k_{off}^{(p)}} + \\gamma_{m}^{2} {\\langle \\mathbf{m}_0^1\\rangle} {k_{on}^{(p)}} + \\gamma_{m} r_{m} {\\langle m_{E_{0}}^0\\rangle} {k_{on}^{(p)}} - \\gamma_{m} r_{m} {\\langle m_{P_{0}}^0\\rangle} {k_{off}^{(p)}} - \\gamma_{m} r_{m} {k_{on}^{(p)}} - \\gamma_{m} {\\langle \\mathbf{m}_0^1\\rangle} {k_{off}^{(p)}}^{2} - 2 \\gamma_{m} {\\langle \\mathbf{m}_0^1\\rangle} {k_{off}^{(p)}} {k_{on}^{(p)}} - \\gamma_{m} {\\langle \\mathbf{m}_0^1\\rangle} {k_{on}^{(p)}}^{2} + r_{m} {k_{off}^{(p)}} {k_{on}^{(p)}} + r_{m} {k_{on}^{(p)}}^{2}\\right)\\right \\}$$"
      ],
      "text/plain": [
       "⎧      2                                                       2              \n",
       "⎪    γₘ ⋅{\\langle \\mathbf{m}_0__1\\rangle}⋅{k_{off}__{(p)}} + γₘ ⋅{\\langle \\mat\n",
       "⎨C₁: ─────────────────────────────────────────────────────────────────────────\n",
       "⎪                                                                             \n",
       "⎩                                                                             \n",
       "\n",
       "                                                                              \n",
       "hbf{m}_0__1\\rangle}⋅{k_{on}__{(p)}} + γₘ⋅rₘ⋅{\\langle m_{E_{0}}__0\\rangle}⋅{k_{\n",
       "──────────────────────────────────────────────────────────────────────────────\n",
       "                                                                              \n",
       "                                                                              \n",
       "\n",
       "                                                                              \n",
       "on}__{(p)}} - γₘ⋅rₘ⋅{\\langle m_{P_{0}}__0\\rangle}⋅{k_{off}__{(p)}} - γₘ⋅rₘ⋅{k_\n",
       "──────────────────────────────────────────────────────────────────────────────\n",
       "                                  ⎛                                           \n",
       "                               γₘ⋅⎝γₘ⋅{k_{off}__{(p)}} + γₘ⋅{k_{on}__{(p)}} - \n",
       "\n",
       "                                                                   2          \n",
       "{on}__{(p)}} - γₘ⋅{\\langle \\mathbf{m}_0__1\\rangle}⋅{k_{off}__{(p)}}  - 2⋅γₘ⋅{\\\n",
       "──────────────────────────────────────────────────────────────────────────────\n",
       "                2                                                       2⎞    \n",
       "{k_{off}__{(p)}}  - 2⋅{k_{off}__{(p)}}⋅{k_{on}__{(p)}} - {k_{on}__{(p)}} ⎠    \n",
       "\n",
       "                                                                              \n",
       "langle \\mathbf{m}_0__1\\rangle}⋅{k_{off}__{(p)}}⋅{k_{on}__{(p)}} - γₘ⋅{\\langle \n",
       "──────────────────────────────────────────────────────────────────────────────\n",
       "                                                                              \n",
       "                                                                              \n",
       "\n",
       "                                       2                                      \n",
       "\\mathbf{m}_0__1\\rangle}⋅{k_{on}__{(p)}}  + rₘ⋅{k_{off}__{(p)}}⋅{k_{on}__{(p)}}\n",
       "──────────────────────────────────────────────────────────────────────────────\n",
       "                                                                              \n",
       "                                                                              \n",
       "\n",
       "                     2⎫\n",
       " + rₘ⋅{k_{on}__{(p)}} ⎪\n",
       "──────────────────────⎬\n",
       "                      ⎪\n",
       "                      ⎭"
      ]
     },
     "execution_count": 113,
     "metadata": {},
     "output_type": "execute_result"
    }
   ],
   "source": [
    "constant = sympy.solve(dmm1dt_zero, sympy.Symbol('C1'), dict=True)[0]\n",
    "constant"
   ]
  },
  {
   "cell_type": "markdown",
   "metadata": {},
   "source": [
    "Now we can substitute this result into the solution."
   ]
  },
  {
   "cell_type": "code",
   "execution_count": 114,
   "metadata": {},
   "outputs": [
    {
     "data": {
      "image/png": "[encoded data removed]",
      "text/latex": [
       "$$\\langle \\mathbf{m}_u\\rangle{\\left (t \\right )} = \\frac{r_{m} {\\langle m_{E_{0}}^0\\rangle} {k_{on}^{(p)}} e^{- t \\left({k_{off}^{(p)}} + {k_{on}^{(p)}}\\right)}}{- \\gamma_{m} {k_{off}^{(p)}} - \\gamma_{m} {k_{on}^{(p)}} + {k_{off}^{(p)}}^{2} + 2 {k_{off}^{(p)}} {k_{on}^{(p)}} + {k_{on}^{(p)}}^{2}} + \\frac{r_{m} {\\langle m_{P_{0}}^0\\rangle} {k_{off}^{(p)}} e^{- t \\left({k_{off}^{(p)}} + {k_{on}^{(p)}}\\right)}}{\\gamma_{m} {k_{off}^{(p)}} + \\gamma_{m} {k_{on}^{(p)}} - {k_{off}^{(p)}}^{2} - 2 {k_{off}^{(p)}} {k_{on}^{(p)}} - {k_{on}^{(p)}}^{2}} + \\frac{r_{m} {k_{on}^{(p)}}}{\\gamma_{m} {k_{off}^{(p)}} + \\gamma_{m} {k_{on}^{(p)}}} + \\frac{e^{- \\gamma_{m} t}}{\\gamma_{m} \\left(\\gamma_{m} {k_{off}^{(p)}} + \\gamma_{m} {k_{on}^{(p)}} - {k_{off}^{(p)}}^{2} - 2 {k_{off}^{(p)}} {k_{on}^{(p)}} - {k_{on}^{(p)}}^{2}\\right)} \\left(\\gamma_{m}^{2} {\\langle \\mathbf{m}_0^1\\rangle} {k_{off}^{(p)}} + \\gamma_{m}^{2} {\\langle \\mathbf{m}_0^1\\rangle} {k_{on}^{(p)}} + \\gamma_{m} r_{m} {\\langle m_{E_{0}}^0\\rangle} {k_{on}^{(p)}} - \\gamma_{m} r_{m} {\\langle m_{P_{0}}^0\\rangle} {k_{off}^{(p)}} - \\gamma_{m} r_{m} {k_{on}^{(p)}} - \\gamma_{m} {\\langle \\mathbf{m}_0^1\\rangle} {k_{off}^{(p)}}^{2} - 2 \\gamma_{m} {\\langle \\mathbf{m}_0^1\\rangle} {k_{off}^{(p)}} {k_{on}^{(p)}} - \\gamma_{m} {\\langle \\mathbf{m}_0^1\\rangle} {k_{on}^{(p)}}^{2} + r_{m} {k_{off}^{(p)}} {k_{on}^{(p)}} + r_{m} {k_{on}^{(p)}}^{2}\\right)$$"
      ],
      "text/plain": [
       "                                                                              \n",
       "                                               rₘ⋅{\\langle m_{E_{0}}__0\\rangle\n",
       "\\langle \\mathbf{m}_u\\rangle(t) = ─────────────────────────────────────────────\n",
       "                                                                              \n",
       "                                 -γₘ⋅{k_{off}__{(p)}} - γₘ⋅{k_{on}__{(p)}} + {\n",
       "\n",
       "                   -t⋅({k_{off}__{(p)}} + {k_{on}__{(p)}})                    \n",
       "}⋅{k_{on}__{(p)}}⋅ℯ                                                           \n",
       "──────────────────────────────────────────────────────────────────────── + ───\n",
       "               2                                                       2      \n",
       "k_{off}__{(p)}}  + 2⋅{k_{off}__{(p)}}⋅{k_{on}__{(p)}} + {k_{on}__{(p)}}    γₘ⋅\n",
       "\n",
       "                                                             -t⋅({k_{off}__{(p\n",
       "          rₘ⋅{\\langle m_{P_{0}}__0\\rangle}⋅{k_{off}__{(p)}}⋅ℯ                 \n",
       "──────────────────────────────────────────────────────────────────────────────\n",
       "                                                        2                     \n",
       "{k_{off}__{(p)}} + γₘ⋅{k_{on}__{(p)}} - {k_{off}__{(p)}}  - 2⋅{k_{off}__{(p)}}\n",
       "\n",
       ")}} + {k_{on}__{(p)}})                                                        \n",
       "                                                 rₘ⋅{k_{on}__{(p)}}           \n",
       "─────────────────────────────────── + ────────────────────────────────────────\n",
       "                                  2   γₘ⋅{k_{off}__{(p)}} + γₘ⋅{k_{on}__{(p)}}\n",
       "⋅{k_{on}__{(p)}} - {k_{on}__{(p)}}                                            \n",
       "\n",
       "   ⎛  2                                                       2               \n",
       "   ⎝γₘ ⋅{\\langle \\mathbf{m}_0__1\\rangle}⋅{k_{off}__{(p)}} + γₘ ⋅{\\langle \\math\n",
       " + ───────────────────────────────────────────────────────────────────────────\n",
       "                                                                              \n",
       "                                                                              \n",
       "\n",
       "                                                                              \n",
       "bf{m}_0__1\\rangle}⋅{k_{on}__{(p)}} + γₘ⋅rₘ⋅{\\langle m_{E_{0}}__0\\rangle}⋅{k_{o\n",
       "──────────────────────────────────────────────────────────────────────────────\n",
       "                                                                              \n",
       "                                                                              \n",
       "\n",
       "                                                                              \n",
       "n}__{(p)}} - γₘ⋅rₘ⋅{\\langle m_{P_{0}}__0\\rangle}⋅{k_{off}__{(p)}} - γₘ⋅rₘ⋅{k_{\n",
       "──────────────────────────────────────────────────────────────────────────────\n",
       "                                    ⎛                                         \n",
       "                                 γₘ⋅⎝γₘ⋅{k_{off}__{(p)}} + γₘ⋅{k_{on}__{(p)}} \n",
       "\n",
       "                                                                  2           \n",
       "on}__{(p)}} - γₘ⋅{\\langle \\mathbf{m}_0__1\\rangle}⋅{k_{off}__{(p)}}  - 2⋅γₘ⋅{\\l\n",
       "──────────────────────────────────────────────────────────────────────────────\n",
       "                  2                                                       2⎞  \n",
       "- {k_{off}__{(p)}}  - 2⋅{k_{off}__{(p)}}⋅{k_{on}__{(p)}} - {k_{on}__{(p)}} ⎠  \n",
       "\n",
       "                                                                              \n",
       "angle \\mathbf{m}_0__1\\rangle}⋅{k_{off}__{(p)}}⋅{k_{on}__{(p)}} - γₘ⋅{\\langle \\\n",
       "──────────────────────────────────────────────────────────────────────────────\n",
       "                                                                              \n",
       "                                                                              \n",
       "\n",
       "                                      2                                       \n",
       "mathbf{m}_0__1\\rangle}⋅{k_{on}__{(p)}}  + rₘ⋅{k_{off}__{(p)}}⋅{k_{on}__{(p)}} \n",
       "──────────────────────────────────────────────────────────────────────────────\n",
       "                                                                              \n",
       "                                                                              \n",
       "\n",
       "                    2⎞  -γₘ⋅t\n",
       "+ rₘ⋅{k_{on}__{(p)}} ⎠⋅ℯ     \n",
       "─────────────────────────────\n",
       "                             \n",
       "                             "
      ]
     },
     "execution_count": 114,
     "metadata": {},
     "output_type": "execute_result"
    }
   ],
   "source": [
    "# substitute constants\n",
    "dmm1dt_sol = dmm1dt_sol.subs(constant)\n",
    "\n",
    "# Split left hand side and right hand side\n",
    "dmm1dt_rhs = dmm1dt_sol.rhs \n",
    "dmm1dt_lhs = dmm1dt_sol.lhs\n",
    "\n",
    "# save solution as dictionary (useful for later one substitutions)\n",
    "dmm1dt_dict = {dmm1dt_rhs, dmm1dt_lhs}\n",
    "\n",
    "dmm1dt_sol"
   ]
  },
  {
   "cell_type": "markdown",
   "metadata": {},
   "source": [
    "To check that this solution makes sense let's take the limit then $t \\rightarrow \\infty$ to see if we recover the steady state solution we derived before."
   ]
  },
  {
   "cell_type": "code",
   "execution_count": 119,
   "metadata": {},
   "outputs": [
    {
     "data": {
      "image/png": "[encoded data removed]",
      "text/latex": [
       "$$\\frac{r_{m} {k_{on}^{(p)}}}{\\gamma_{m} \\left({k_{off}^{(p)}} + {k_{on}^{(p)}}\\right)}$$"
      ],
      "text/plain": [
       "           rₘ⋅{k_{on}__{(p)}}          \n",
       "───────────────────────────────────────\n",
       "γₘ⋅({k_{off}__{(p)}} + {k_{on}__{(p)}})"
      ]
     },
     "execution_count": 119,
     "metadata": {},
     "output_type": "execute_result"
    }
   ],
   "source": [
    "# Taking the limit when time goes to infinity\n",
    "sympy.limit(dmm1dt_sol.rhs, t, 'oo').collect(gm)"
   ]
  },
  {
   "cell_type": "code",
   "execution_count": null,
   "metadata": {},
   "outputs": [],
   "source": []
  }
 ],
 "metadata": {
  "kernelspec": {
   "display_name": "Python 3",
   "language": "python",
   "name": "python3"
  },
  "language_info": {
   "codemirror_mode": {
    "name": "ipython",
    "version": 3
   },
   "file_extension": ".py",
   "mimetype": "text/x-python",
   "name": "python",
   "nbconvert_exporter": "python",
   "pygments_lexer": "ipython3",
   "version": "3.6.4"
  }
 },
 "nbformat": 4,
 "nbformat_minor": 2
}
