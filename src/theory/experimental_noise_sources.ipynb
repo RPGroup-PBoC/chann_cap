{
 "cells": [
  {
   "cell_type": "markdown",
   "metadata": {},
   "source": [
    "# Noise sources from experimental measurement"
   ]
  },
  {
   "cell_type": "markdown",
   "metadata": {},
   "source": [
    "(c) 2018 Manuel Razo. This work is licensed under a [Creative Commons Attribution License CC-BY 4.0](https://creativecommons.org/licenses/by/4.0/). All code contained herein is licensed under an [MIT license](https://opensource.org/licenses/MIT). \n",
    "\n",
    "---"
   ]
  },
  {
   "cell_type": "code",
   "execution_count": 2,
   "metadata": {},
   "outputs": [],
   "source": [
    "import os\n",
    "import cloudpickle\n",
    "import glob\n",
    "\n",
    "# Our numerical workhorses\n",
    "import numpy as np\n",
    "import pandas as pd\n",
    "import scipy as sp\n",
    "\n",
    "# Interesting package to compute distributions using the power of Numba and\n",
    "# Rmath. This should speed up the calculations required for this package\n",
    "# http://quantecon.github.io/rvlib/\n",
    "# import rvlib\n",
    "\n",
    "# Import matplotlib stuff for plotting\n",
    "import matplotlib.pyplot as plt\n",
    "import matplotlib.cm as cm\n",
    "import matplotlib as mpl\n",
    "\n",
    "# Seaborn, useful for graphics\n",
    "import seaborn as sns\n",
    "\n",
    "# Import the utils for this project\n",
    "import chann_cap_utils as chann_cap\n",
    "\n",
    "# Set PBoC plotting style\n",
    "chann_cap.set_plotting_style()\n",
    "\n",
    "# Magic function to make matplotlib inline; other style specs must come AFTER\n",
    "%matplotlib inline\n",
    "\n",
    "# This enables SVG graphics inline (only use with static plots (non-Bokeh))\n",
    "%config InlineBackend.figure_format = 'svg'\n",
    "\n",
    "tmpdir = '../../tmp/'\n",
    "figdir = '../../fig/experimental_noise_sources/'\n",
    "datadir = '../../data/csv_maxEnt_dist/'"
   ]
  },
  {
   "cell_type": "markdown",
   "metadata": {},
   "source": [
    "# $\\LaTeX$ macros\n",
    "\n",
    "$\\newcommand{kpon}{k^p_{\\text{on}}}$\n",
    "$\\newcommand{kpoff}{k^p_{\\text{off}}}$\n",
    "$\\newcommand{kron}{k^r_{\\text{on}}}$\n",
    "$\\newcommand{kroff}{k^r_{\\text{off}}}$\n",
    "$\\newcommand{rm}{r _m}$\n",
    "$\\newcommand{rp}{r _p}$\n",
    "$\\newcommand{gm}{\\gamma _m}$\n",
    "$\\newcommand{gp}{\\gamma _p}$\n",
    "$\\newcommand{mm}{\\left\\langle m \\right\\rangle}$\n",
    "$\\newcommand{foldchange}{\\text{fold-change}}$\n",
    "$\\newcommand{ee}[1]{\\left\\langle #1 \\right\\rangle}$\n",
    "$\\newcommand{bb}[1]{\\mathbf{#1}}$"
   ]
  },
  {
   "cell_type": "markdown",
   "metadata": {},
   "source": [
    "## Added noise from experimental measurements.\n",
    "\n",
    "When we experimentally \"measure\" the protein expression level distribution of our reporter what we actually measure is a noisy representation of this distribution via our measurement instrument. This constraints the information we can infer from our indirect measurement with respect to the real distribution. In particular in information theory the **data processing inequality** tells us that given a Markov chain of the form\n",
    "$$\n",
    "X \\rightarrow Y \\rightarrow Z,\n",
    "$$\n",
    "where $X, Y$ and $Z$ are random variables, the mutual information between variables should satisfy\n",
    "$$\n",
    "I(X; Z) \\leq I(X; Y).\n",
    "\\label{eq:dpi}\n",
    "$$\n",
    "In other words, the information cannot be created. If we measure an indirect representation $Z$ of our quantity of interest $Y$, at best we can obtain the exact amount of information about $X$ if there is a deterministic mapping between $Y$ and $Z$. \n",
    "\n",
    "What this means is that if we define the chain to be\n",
    "$$\n",
    "[\\text{inducer}] \\rightarrow \\text{protein} \\rightarrow \\text{fluorescence},\n",
    "$$\n",
    "our experimental signal can only have at best the same information about the inducer input as the protein itself has. For Eq \\ref{eq:dpi} to become an equality we would need a deterministic relationship between protein copy number $p$ and fluorescence intensity $F$. For example linear relationship of the form\n",
    "$$\n",
    "F(p) = \\alpha p,\n",
    "$$\n",
    "where $\\alpha$ is the conversion factor between arbitrary units (a.u.) of fluroescence and absolute protein count.\n",
    "\n",
    "In reality this relationship must be probabilistic, i.e.\n",
    "$$\n",
    "P(F \\mid p) \\sim f(p, \\alpha).\n",
    "$$\n",
    "\n",
    "The sources of added noise could be\n",
    "- Emission of photons per fluorescent molecule.\n",
    "- Quantum efficiency of camera detector.\n",
    "- Variability in laser light intensity.\n",
    "\n",
    "As a first approximation let's ignore all the instrument related sources of noise and let's focus on the random emission of photons $\\nu$ by a single fluorescent molecule. This quantity depends on the nature of the fluorophore, the light source and the exposure time."
   ]
  },
  {
   "cell_type": "markdown",
   "metadata": {},
   "source": [
    "### Poission Emission of Photons\n",
    "\n",
    "A simple model to account for this added noise is to assume that every time that a fluorophore is excited it emits a photon count $\\nu$ such that $\\nu \\sim \\text{Poiss}(\\lambda)$, i.e.\n",
    "$$\n",
    "P(\\nu) = {\\lambda^\\nu e^{-\\lambda} \\over \\nu!},\n",
    "$$\n",
    "where $\\lambda = \\ee{\\nu}$ is the mean number of photons that the protein produces when excited.\n",
    "\n",
    "If a measured cell has $p$ proteins that emit photons independently of each other, then the total photon count of a cell $N$ is given by\n",
    "$$\n",
    "N = \\sum_{i=0}^p \\nu_i \\sim \\text{Poiss}(p\\lambda).\n",
    "$$\n",
    "What this says is that the sum of $p$ iid Poisson random variables with mean $\\lambda$ have a Poission distribution with mean $p \\lambda$. This statement can be easily proved using MGFs.\n",
    "\n",
    "This implies that the distribution of fluorescent values per cell we observe $P(N \\mid c)$, where $c$ is the inducer concentration are of the form\n",
    "$$\n",
    "P(N \\mid c) = \\sum_{p=0}^\\infty P(N \\mid p, c) P(p \\mid c).\n",
    "\\label{eq:photon_dist}\n",
    "$$\n",
    "\n",
    "Since $N$ does not depend directly on $c$ but through the dependence of $p$ on $c$ we have that the first term on the right hand side is our Poisson\n",
    "$$\n",
    "P(N \\mid p, c) = P(N \\mid p) =\n",
    "{(p \\lambda)^N e^{-p\\lambda} \\over N!}.\n",
    "$$"
   ]
  },
  {
   "cell_type": "markdown",
   "metadata": {},
   "source": [
    "#### Coding Poission noise. \n",
    "\n",
    "Let's now define a function such that given a value for $\\lambda$ it takes our MaxEnt protein distribution and maps it into Eq. \\ref{eq:photon_dist}."
   ]
  },
  {
   "cell_type": "markdown",
   "metadata": {},
   "source": [
    "Let's first compare why will we use the `rvlib` instead of `scipy`."
   ]
  },
  {
   "cell_type": "code",
   "execution_count": 17,
   "metadata": {},
   "outputs": [
    {
     "name": "stdout",
     "output_type": "stream",
     "text": [
      "rvlib:\n",
      "895 µs ± 1.7 µs per loop (mean ± std. dev. of 7 runs, 1000 loops each)\n",
      "scipy:\n",
      "1.27 ms ± 7.53 µs per loop (mean ± std. dev. of 7 runs, 1000 loops each)\n"
     ]
    }
   ],
   "source": [
    "x = np.arange(0, 20000)\n",
    "print('rvlib:')\n",
    "%timeit rvlib.pois_pdf(x, 100)\n",
    "\n",
    "print('scipy:')\n",
    "%timeit sp.stats.poisson.pmf(x, 100)"
   ]
  },
  {
   "cell_type": "code",
   "execution_count": 4,
   "metadata": {},
   "outputs": [],
   "source": [
    "def photons_poisson(lam, mRNA, protein, lagrange,\n",
    "                     exponents=[(1, 0), (2, 0), (3, 0),\n",
    "                                (0, 1), (0, 2), (1, 1)], log=False):\n",
    "    '''\n",
    "    Computes the photon count distribution P(N) given a poission emission of\n",
    "    photons per fluorophore with mean photon count per protein performing a\n",
    "    convolution between the Poisson emission of photons with the MaxEnt protein\n",
    "    distribution.\n",
    "    \n",
    "    Parameters\n",
    "    ----------\n",
    "    lam : float.\n",
    "        Mean number of photon counts per protein.\n",
    "    mRNA, protein : array-like.\n",
    "        Sample space for both the mRNA and the protein.\n",
    "    lagrange : array-like.\n",
    "        Array containing the value of the Lagrange multipliers associated\n",
    "        with each of the constraints.\n",
    "    exponents : list. leng(exponents) == len(lagrange)\n",
    "        List containing the exponents associated with each constraint.\n",
    "        For example a constraint of the form <m**3> has an entry (3, 0)\n",
    "        while a constraint of the form <m * p> has an entry (1, 1).\n",
    "    log : bool. Default = False\n",
    "        Boolean indicating if the log probability should be returned.\n",
    "        \n",
    "    Returns\n",
    "    -------\n",
    "    Pmp : array-like.\n",
    "        Photon count per cell distribution.\n",
    "    '''\n",
    "    \n",
    "    # Compute the MaxEnt mRNA-protein joint distribution\n",
    "    Pmp = chann_cap.maxEnt_from_lagrange(mRNA, protein, lagrange, exponents, log)\n",
    "    \n",
    "    # Marginalize out the mRNA to obtain the protein distribution\n",
    "    Pp = np.sum(Pmp, axis=1)\n",
    "    \n",
    "    # Generate array of photon counts\n",
    "    photons = np.arange(0, int(lam * max(protein) * 1.5))\n",
    "    \n",
    "    # Initialize matrix to save the joint distribution P(N, p)\n",
    "    PNp = np.zeros([len(protein), len(photons)])\n",
    "       \n",
    "    # Compute the distribution P(N | p) * P(p) for each protein count\n",
    "    for i, p in enumerate(protein):\n",
    "        PNp[i, :] = sp.stats.poisson.pmf(photons, p) * Pp[i]\n",
    "#         PNp[i, :] = rvlib.pois_pdf(photons, p) * Pp[i]\n",
    "        \n",
    "    # Marginalize out the protein counts and return photon distribution\n",
    "    return photons, np.sum(PNp, axis=0)"
   ]
  },
  {
   "cell_type": "markdown",
   "metadata": {},
   "source": [
    "Now that we coded up this distribution let's look at the distribution using the MaxEnt inferences made for the experimentally available strains."
   ]
  },
  {
   "cell_type": "code",
   "execution_count": 5,
   "metadata": {},
   "outputs": [
    {
     "data": {
      "text/html": [
       "<div>\n",
       "<style scoped>\n",
       "    .dataframe tbody tr th:only-of-type {\n",
       "        vertical-align: middle;\n",
       "    }\n",
       "\n",
       "    .dataframe tbody tr th {\n",
       "        vertical-align: top;\n",
       "    }\n",
       "\n",
       "    .dataframe thead th {\n",
       "        text-align: right;\n",
       "    }\n",
       "</style>\n",
       "<table border=\"1\" class=\"dataframe\">\n",
       "  <thead>\n",
       "    <tr style=\"text-align: right;\">\n",
       "      <th></th>\n",
       "      <th>operator</th>\n",
       "      <th>binding_energy</th>\n",
       "      <th>repressor</th>\n",
       "      <th>inducer_uM</th>\n",
       "      <th>lambda_m1p0</th>\n",
       "      <th>lambda_m2p0</th>\n",
       "      <th>lambda_m3p0</th>\n",
       "      <th>lambda_m0p1</th>\n",
       "      <th>lambda_m0p2</th>\n",
       "      <th>lambda_m0p3</th>\n",
       "      <th>lambda_m1p1</th>\n",
       "      <th>lambda_m2p1</th>\n",
       "      <th>lambda_m1p2</th>\n",
       "    </tr>\n",
       "  </thead>\n",
       "  <tbody>\n",
       "    <tr>\n",
       "      <th>0</th>\n",
       "      <td>O1</td>\n",
       "      <td>-15.3</td>\n",
       "      <td>0.0</td>\n",
       "      <td>0.0</td>\n",
       "      <td>-0.033557</td>\n",
       "      <td>-0.024963</td>\n",
       "      <td>0.000406</td>\n",
       "      <td>0.006585</td>\n",
       "      <td>-3.672393e-07</td>\n",
       "      <td>5.400445e-12</td>\n",
       "      <td>0.000049</td>\n",
       "      <td>-4.798241e-07</td>\n",
       "      <td>-2.835945e-10</td>\n",
       "    </tr>\n",
       "    <tr>\n",
       "      <th>1</th>\n",
       "      <td>O1</td>\n",
       "      <td>-15.3</td>\n",
       "      <td>0.0</td>\n",
       "      <td>0.1</td>\n",
       "      <td>-0.033557</td>\n",
       "      <td>-0.024963</td>\n",
       "      <td>0.000406</td>\n",
       "      <td>0.006585</td>\n",
       "      <td>-3.672393e-07</td>\n",
       "      <td>5.400445e-12</td>\n",
       "      <td>0.000049</td>\n",
       "      <td>-4.798241e-07</td>\n",
       "      <td>-2.835945e-10</td>\n",
       "    </tr>\n",
       "    <tr>\n",
       "      <th>2</th>\n",
       "      <td>O1</td>\n",
       "      <td>-15.3</td>\n",
       "      <td>0.0</td>\n",
       "      <td>1.0</td>\n",
       "      <td>-0.033557</td>\n",
       "      <td>-0.024963</td>\n",
       "      <td>0.000406</td>\n",
       "      <td>0.006585</td>\n",
       "      <td>-3.672393e-07</td>\n",
       "      <td>5.400445e-12</td>\n",
       "      <td>0.000049</td>\n",
       "      <td>-4.798241e-07</td>\n",
       "      <td>-2.835945e-10</td>\n",
       "    </tr>\n",
       "    <tr>\n",
       "      <th>3</th>\n",
       "      <td>O1</td>\n",
       "      <td>-15.3</td>\n",
       "      <td>0.0</td>\n",
       "      <td>5.0</td>\n",
       "      <td>-0.033557</td>\n",
       "      <td>-0.024963</td>\n",
       "      <td>0.000406</td>\n",
       "      <td>0.006585</td>\n",
       "      <td>-3.672393e-07</td>\n",
       "      <td>5.400445e-12</td>\n",
       "      <td>0.000049</td>\n",
       "      <td>-4.798241e-07</td>\n",
       "      <td>-2.835945e-10</td>\n",
       "    </tr>\n",
       "    <tr>\n",
       "      <th>4</th>\n",
       "      <td>O1</td>\n",
       "      <td>-15.3</td>\n",
       "      <td>0.0</td>\n",
       "      <td>7.5</td>\n",
       "      <td>-0.033557</td>\n",
       "      <td>-0.024963</td>\n",
       "      <td>0.000406</td>\n",
       "      <td>0.006585</td>\n",
       "      <td>-3.672393e-07</td>\n",
       "      <td>5.400445e-12</td>\n",
       "      <td>0.000049</td>\n",
       "      <td>-4.798241e-07</td>\n",
       "      <td>-2.835945e-10</td>\n",
       "    </tr>\n",
       "  </tbody>\n",
       "</table>\n",
       "</div>"
      ],
      "text/plain": [
       "  operator  binding_energy  repressor  inducer_uM  lambda_m1p0  lambda_m2p0  \\\n",
       "0       O1           -15.3        0.0         0.0    -0.033557    -0.024963   \n",
       "1       O1           -15.3        0.0         0.1    -0.033557    -0.024963   \n",
       "2       O1           -15.3        0.0         1.0    -0.033557    -0.024963   \n",
       "3       O1           -15.3        0.0         5.0    -0.033557    -0.024963   \n",
       "4       O1           -15.3        0.0         7.5    -0.033557    -0.024963   \n",
       "\n",
       "   lambda_m3p0  lambda_m0p1   lambda_m0p2   lambda_m0p3  lambda_m1p1  \\\n",
       "0     0.000406     0.006585 -3.672393e-07  5.400445e-12     0.000049   \n",
       "1     0.000406     0.006585 -3.672393e-07  5.400445e-12     0.000049   \n",
       "2     0.000406     0.006585 -3.672393e-07  5.400445e-12     0.000049   \n",
       "3     0.000406     0.006585 -3.672393e-07  5.400445e-12     0.000049   \n",
       "4     0.000406     0.006585 -3.672393e-07  5.400445e-12     0.000049   \n",
       "\n",
       "    lambda_m2p1   lambda_m1p2  \n",
       "0 -4.798241e-07 -2.835945e-10  \n",
       "1 -4.798241e-07 -2.835945e-10  \n",
       "2 -4.798241e-07 -2.835945e-10  \n",
       "3 -4.798241e-07 -2.835945e-10  \n",
       "4 -4.798241e-07 -2.835945e-10  "
      ]
     },
     "execution_count": 5,
     "metadata": {},
     "output_type": "execute_result"
    }
   ],
   "source": [
    "# Read MaxEnt infered Lagrange multipliers\n",
    "df_maxEnt = pd.read_csv(datadir + 'MaxEnt_ss_Lagrange_multipliers_HGRP_2011.csv',\n",
    "                        index_col=0)\n",
    "\n",
    "df_maxEnt.head()"
   ]
  },
  {
   "cell_type": "code",
   "execution_count": 12,
   "metadata": {},
   "outputs": [
    {
     "ename": "KeyboardInterrupt",
     "evalue": "",
     "output_type": "error",
     "traceback": [
      "\u001b[0;31m---------------------------------------------------------------------------\u001b[0m",
      "\u001b[0;31mKeyboardInterrupt\u001b[0m                         Traceback (most recent call last)",
      "\u001b[0;32m<ipython-input-12-c0d0d80dfcf8>\u001b[0m in \u001b[0;36m<module>\u001b[0;34m()\u001b[0m\n\u001b[1;32m     18\u001b[0m                               exponents=[(1, 0), (2, 0), (3, 0), \n\u001b[1;32m     19\u001b[0m                                          \u001b[0;34m(\u001b[0m\u001b[0;36m0\u001b[0m\u001b[0;34m,\u001b[0m \u001b[0;36m1\u001b[0m\u001b[0;34m)\u001b[0m\u001b[0;34m,\u001b[0m \u001b[0;34m(\u001b[0m\u001b[0;36m0\u001b[0m\u001b[0;34m,\u001b[0m \u001b[0;36m2\u001b[0m\u001b[0;34m)\u001b[0m\u001b[0;34m,\u001b[0m \u001b[0;34m(\u001b[0m\u001b[0;36m0\u001b[0m\u001b[0;34m,\u001b[0m \u001b[0;36m3\u001b[0m\u001b[0;34m)\u001b[0m\u001b[0;34m,\u001b[0m\u001b[0;34m\u001b[0m\u001b[0m\n\u001b[0;32m---> 20\u001b[0;31m                                          (1, 1), (2, 1), (1, 2)])\n\u001b[0m\u001b[1;32m     21\u001b[0m \u001b[0;34m\u001b[0m\u001b[0m\n\u001b[1;32m     22\u001b[0m \u001b[0mplt\u001b[0m\u001b[0;34m.\u001b[0m\u001b[0mplot\u001b[0m\u001b[0;34m(\u001b[0m\u001b[0mphotons\u001b[0m\u001b[0;34m,\u001b[0m \u001b[0mPN\u001b[0m\u001b[0;34m)\u001b[0m\u001b[0;34m\u001b[0m\u001b[0m\n",
      "\u001b[0;32m<ipython-input-10-9396c6a238b5>\u001b[0m in \u001b[0;36mphotons_poisson\u001b[0;34m(lam, mRNA, protein, lagrange, exponents, log)\u001b[0m\n\u001b[1;32m     45\u001b[0m     \u001b[0;32mfor\u001b[0m \u001b[0mi\u001b[0m\u001b[0;34m,\u001b[0m \u001b[0mp\u001b[0m \u001b[0;32min\u001b[0m \u001b[0menumerate\u001b[0m\u001b[0;34m(\u001b[0m\u001b[0mprotein\u001b[0m\u001b[0;34m)\u001b[0m\u001b[0;34m:\u001b[0m\u001b[0;34m\u001b[0m\u001b[0m\n\u001b[1;32m     46\u001b[0m         \u001b[0;31m# PNp[i, :] = sp.stats.poisson.pmf(photons, p) * Pp[i]\u001b[0m\u001b[0;34m\u001b[0m\u001b[0;34m\u001b[0m\u001b[0m\n\u001b[0;32m---> 47\u001b[0;31m         \u001b[0mPNp\u001b[0m\u001b[0;34m[\u001b[0m\u001b[0mi\u001b[0m\u001b[0;34m,\u001b[0m \u001b[0;34m:\u001b[0m\u001b[0;34m]\u001b[0m \u001b[0;34m=\u001b[0m \u001b[0mrvlib\u001b[0m\u001b[0;34m.\u001b[0m\u001b[0mpois_pdf\u001b[0m\u001b[0;34m(\u001b[0m\u001b[0mphotons\u001b[0m\u001b[0;34m,\u001b[0m \u001b[0mp\u001b[0m\u001b[0;34m)\u001b[0m \u001b[0;34m*\u001b[0m \u001b[0mPp\u001b[0m\u001b[0;34m[\u001b[0m\u001b[0mi\u001b[0m\u001b[0;34m]\u001b[0m\u001b[0;34m\u001b[0m\u001b[0m\n\u001b[0m\u001b[1;32m     48\u001b[0m \u001b[0;34m\u001b[0m\u001b[0m\n\u001b[1;32m     49\u001b[0m     \u001b[0;31m# Marginalize out the protein counts and return photon distribution\u001b[0m\u001b[0;34m\u001b[0m\u001b[0;34m\u001b[0m\u001b[0m\n",
      "\u001b[0;31mKeyboardInterrupt\u001b[0m: "
     ]
    }
   ],
   "source": [
    "# Define sample space\n",
    "mRNA_space = np.arange(0, 40)\n",
    "protein_space = np.arange(0, 2.3E4)\n",
    "\n",
    "# Extract inference from data frame\n",
    "df_sample = df_maxEnt[(df_maxEnt.operator == 'O2') &\n",
    "                      (df_maxEnt.repressor == 260) &\n",
    "                      (df_maxEnt.inducer_uM == 75)]\n",
    "\n",
    "# Select the Lagrange multipliers\n",
    "lagrange_sample =  df_sample.loc[:, [col for col in df_sample.columns \n",
    "                                     if 'lambda' in col]].values[0]\n",
    "\n",
    "lam = 1000\n",
    "\n",
    "# Compute distribution from Lagrange multipliers values\n",
    "photons, PN = photons_poisson(lam, mRNA_space, protein_space, lagrange_sample,\n",
    "                              exponents=[(1, 0), (2, 0), (3, 0), \n",
    "                                         (0, 1), (0, 2), (0, 3),\n",
    "                                         (1, 1), (2, 1), (1, 2)])\n",
    "\n",
    "plt.plot(photons, PN)\n",
    "plt.xlabel(r'photon count $\\nu$')\n",
    "plt.ylabel('probability')"
   ]
  },
  {
   "cell_type": "markdown",
   "metadata": {},
   "source": [
    "### Estimating $\\lambda$ from experimental data.\n",
    "\n",
    "In order to have an idea of what would we expect $\\lambda$, the mean photon count per protein let's first read all microscopy data."
   ]
  },
  {
   "cell_type": "code",
   "execution_count": 6,
   "metadata": {},
   "outputs": [
    {
     "data": {
      "text/html": [
       "<div>\n",
       "<style scoped>\n",
       "    .dataframe tbody tr th:only-of-type {\n",
       "        vertical-align: middle;\n",
       "    }\n",
       "\n",
       "    .dataframe tbody tr th {\n",
       "        vertical-align: top;\n",
       "    }\n",
       "\n",
       "    .dataframe thead th {\n",
       "        text-align: right;\n",
       "    }\n",
       "</style>\n",
       "<table border=\"1\" class=\"dataframe\">\n",
       "  <thead>\n",
       "    <tr style=\"text-align: right;\">\n",
       "      <th></th>\n",
       "      <th>date</th>\n",
       "      <th>operator</th>\n",
       "      <th>rbs</th>\n",
       "      <th>mean_intensity</th>\n",
       "      <th>area</th>\n",
       "    </tr>\n",
       "  </thead>\n",
       "  <tbody>\n",
       "    <tr>\n",
       "      <th>0</th>\n",
       "      <td>20161204</td>\n",
       "      <td>O3</td>\n",
       "      <td>auto</td>\n",
       "      <td>52.562979</td>\n",
       "      <td>2.6112</td>\n",
       "    </tr>\n",
       "    <tr>\n",
       "      <th>1</th>\n",
       "      <td>20161204</td>\n",
       "      <td>O3</td>\n",
       "      <td>auto</td>\n",
       "      <td>53.070565</td>\n",
       "      <td>2.6880</td>\n",
       "    </tr>\n",
       "    <tr>\n",
       "      <th>2</th>\n",
       "      <td>20161204</td>\n",
       "      <td>O3</td>\n",
       "      <td>auto</td>\n",
       "      <td>52.323744</td>\n",
       "      <td>4.2240</td>\n",
       "    </tr>\n",
       "    <tr>\n",
       "      <th>3</th>\n",
       "      <td>20161204</td>\n",
       "      <td>O3</td>\n",
       "      <td>auto</td>\n",
       "      <td>51.013142</td>\n",
       "      <td>3.4304</td>\n",
       "    </tr>\n",
       "    <tr>\n",
       "      <th>4</th>\n",
       "      <td>20161204</td>\n",
       "      <td>O3</td>\n",
       "      <td>auto</td>\n",
       "      <td>44.325267</td>\n",
       "      <td>3.7632</td>\n",
       "    </tr>\n",
       "  </tbody>\n",
       "</table>\n",
       "</div>"
      ],
      "text/plain": [
       "       date operator   rbs  mean_intensity    area\n",
       "0  20161204       O3  auto       52.562979  2.6112\n",
       "1  20161204       O3  auto       53.070565  2.6880\n",
       "2  20161204       O3  auto       52.323744  4.2240\n",
       "3  20161204       O3  auto       51.013142  3.4304\n",
       "4  20161204       O3  auto       44.325267  3.7632"
      ]
     },
     "execution_count": 6,
     "metadata": {},
     "output_type": "execute_result"
    }
   ],
   "source": [
    "# Read the tidy-data frame\n",
    "files = glob.glob('../../data/csv_microscopy/*csv')# + mwc_files\n",
    "df_micro = pd.concat(pd.read_csv(f, comment='#') for f in files)\n",
    "df_micro[['date', 'operator', 'rbs', 'mean_intensity', 'area']].head()"
   ]
  },
  {
   "cell_type": "markdown",
   "metadata": {},
   "source": [
    "Now let's take the $\\Delta$*lacI* data and compute the mean photon count per cell."
   ]
  },
  {
   "cell_type": "code",
   "execution_count": 30,
   "metadata": {},
   "outputs": [
    {
     "data": {
      "text/plain": [
       "operator  date    \n",
       "O1        20180411    12018.091496\n",
       "          20180412    14051.403902\n",
       "O2        20161118     9759.794760\n",
       "          20161129     9022.526790\n",
       "          20161203    18241.731456\n",
       "          20161207     8871.952338\n",
       "          20180320    10187.308107\n",
       "          20180321    11151.439807\n",
       "          20180323    10652.229151\n",
       "          20180326    10105.066019\n",
       "          20180402     9764.891310\n",
       "          20180403    12432.253368\n",
       "O3        20161204    20091.431082\n",
       "          20161205    12465.142437\n",
       "          20180327    11269.756729\n",
       "          20180328     7723.765778\n",
       "          20180329    12342.509494\n",
       "          20180330     7242.295866\n",
       "dtype: float64"
      ]
     },
     "execution_count": 30,
     "metadata": {},
     "output_type": "execute_result"
    }
   ],
   "source": [
    "# Extract ∆lacI strain data\n",
    "df_delta = df_micro[df_micro['rbs'] == 'delta']\n",
    "\n",
    "# Group datasets by operator and date, then take the mean_intensity column,\n",
    "# and multiply it by the area column, computing the mean for each group.\n",
    "df_group = (df_delta['mean_intensity'] * df_delta['area']).\\\n",
    "            groupby([df_delta['operator'], df_delta['date']]).mean()\n",
    "df_group"
   ]
  },
  {
   "cell_type": "code",
   "execution_count": 36,
   "metadata": {},
   "outputs": [],
   "source": [
    "pd.pivot?"
   ]
  },
  {
   "cell_type": "code",
   "execution_count": null,
   "metadata": {},
   "outputs": [],
   "source": [
    "# Extract operators\n",
    "# op = df_delta.operator.unique()\n",
    "\n",
    "# # Define color for each operator\n",
    "# colors = dict(zip(op, sns.color_palette('colorblind', n_colors=len(op))))\n",
    "\n",
    "\n",
    "\n",
    "# # Loop through each of the datasets and compute the mean intensity\n",
    "# for group, data in df_group:"
   ]
  },
  {
   "cell_type": "code",
   "execution_count": 10,
   "metadata": {},
   "outputs": [
    {
     "data": {
      "text/plain": [
       "array(['O3', 'O2', 'O1'], dtype=object)"
      ]
     },
     "execution_count": 10,
     "metadata": {},
     "output_type": "execute_result"
    }
   ],
   "source": [
    "df_delta.operator.unique()"
   ]
  },
  {
   "cell_type": "code",
   "execution_count": null,
   "metadata": {},
   "outputs": [],
   "source": []
  }
 ],
 "metadata": {
  "kernelspec": {
   "display_name": "Python 3",
   "language": "python",
   "name": "python3"
  },
  "language_info": {
   "codemirror_mode": {
    "name": "ipython",
    "version": 3
   },
   "file_extension": ".py",
   "mimetype": "text/x-python",
   "name": "python",
   "nbconvert_exporter": "python",
   "pygments_lexer": "ipython3",
   "version": "3.6.4"
  },
  "latex_envs": {
   "LaTeX_envs_menu_present": false,
   "autoclose": false,
   "autocomplete": false,
   "bibliofile": "biblio.bib",
   "cite_by": "apalike",
   "current_citInitial": 1,
   "eqLabelWithNumbers": true,
   "eqNumInitial": 1,
   "hotkeys": {
    "equation": "Ctrl-E",
    "itemize": "Ctrl-I"
   },
   "labels_anchors": false,
   "latex_user_defs": false,
   "report_style_numbering": false,
   "user_envs_cfg": false
  },
  "toc": {
   "nav_menu": {},
   "number_sections": false,
   "sideBar": false,
   "skip_h1_title": true,
   "title_cell": "Table of Contents",
   "title_sidebar": "Contents",
   "toc_cell": false,
   "toc_position": {},
   "toc_section_display": true,
   "toc_window_display": false
  }
 },
 "nbformat": 4,
 "nbformat_minor": 2
}
