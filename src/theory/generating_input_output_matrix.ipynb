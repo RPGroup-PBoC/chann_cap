{
 "cells": [
  {
   "cell_type": "markdown",
   "metadata": {},
   "source": [
    "# Generating the input-output function $P(g\\mid R, c)$ for varying repressor copy number $R$."
   ]
  },
  {
   "cell_type": "code",
   "execution_count": 1,
   "metadata": {
    "collapsed": false
   },
   "outputs": [],
   "source": [
    "import pickle\n",
    "import os\n",
    "import glob\n",
    "import datetime\n",
    "\n",
    "# Our numerical workhorses\n",
    "import numpy as np\n",
    "from sympy import mpmath\n",
    "import scipy.optimize\n",
    "import scipy.special\n",
    "import scipy.integrate\n",
    "import pandas as pd\n",
    "import itertools\n",
    "\n",
    "# Import libraries to parallelize processes\n",
    "from joblib import Parallel, delayed\n",
    "\n",
    "# Import the utils for this project\n",
    "import chann_cap_utils as chann_cap"
   ]
  },
  {
   "cell_type": "markdown",
   "metadata": {},
   "source": [
    "# Pre-computing analytical distributions of gene expession.\n",
    "\n",
    "Since the computation of the mRNA and protein steady-state probability distributions are computationally expensive, we can pre-compute the distribution for different repressor copy number and save the results as a lookup table to compute any desired quantity out of these distributions including the channel capacity and the variability in gene expression due to the stochasticity of the allosteric molecules.\n",
    "\n",
    "This notebook achieves the simple task of computing the mRNA and protein distribution for different repressor copy numbers saving the result into csv files that we can read with `numpy`.\n",
    "\n",
    "The matrices are arranged such that each row's index is given by the number of repressors and each column index indicates either the mRNA or protein count."
   ]
  },
  {
   "cell_type": "markdown",
   "metadata": {},
   "source": [
    "## Pre-computing the mRNA distribution\n",
    "\n",
    "Let's start by saving the distribution for mRNA molecules."
   ]
  },
  {
   "cell_type": "code",
   "execution_count": null,
   "metadata": {
    "collapsed": false
   },
   "outputs": [],
   "source": [
    "# Define the parameters\n",
    "k0 = 2.7E-3 # Used by Jones and Brewster\n",
    "\n",
    "# The MWC parameters come from the global fit to the O2 data\n",
    "mRNA_params = dict(ka=0.199, ki=0.00064, omega=np.exp(-4.5), \n",
    "                   k0=k0, gamma=0.00284, r_gamma=15.7)"
   ]
  },
  {
   "cell_type": "code",
   "execution_count": null,
   "metadata": {
    "collapsed": false,
    "scrolled": true
   },
   "outputs": [],
   "source": [
    "# Define the mRNA copy numbers to evaluate\n",
    "# It is break up in blocks to run the process in parallel\n",
    "mRNA_grid = np.reshape(np.arange(0, 50), [-1, 10])\n",
    "\n",
    "# define the array of repressor copy numbers to evaluate the function in\n",
    "R_array = np.arange(0, 1001)\n",
    "\n",
    "kon_array = [chann_cap.kon_fn(-17, mRNA_params['k0']),\n",
    "             chann_cap.kon_fn(-15.3, mRNA_params['k0']),\n",
    "             chann_cap.kon_fn(-13.9, mRNA_params['k0']),\n",
    "             chann_cap.kon_fn(-9.7, mRNA_params['k0'])]\n",
    "kon_operators = ['Oid', 'O1', 'O2', 'O3']\n",
    "\n",
    "compute_matrix = True\n",
    "if compute_matrix:\n",
    "    for j, kon in enumerate(kon_array):\n",
    "        print('operator : ' + kon_operators[j])\n",
    "        # Set the value for the kon\n",
    "        mRNA_params['kon'] = kon\n",
    "        # Initialize transition matrix\n",
    "        QmR = np.zeros([mRNA_grid.size, len(R_array)])\n",
    "        for i, r in enumerate(R_array):\n",
    "            if r%100==0:\n",
    "                print('repressors : {:d}'.format(r))\n",
    "            mRNA_params['rep'] = r * 1.66\n",
    "            # -- Parallel computation of distribution -- #\n",
    "            lnm_list = list()\n",
    "            # loop through the concentrations\n",
    "            # define a function to run in parallel the computation\n",
    "            def lnm_parallel(m):\n",
    "                lnm = chann_cap.log_p_m_mid_C(C=0, mRNA=m, **mRNA_params)\n",
    "                return lnm\n",
    "            lnm_list.append(Parallel(n_jobs=7)(delayed(lnm_parallel)(m) \\\n",
    "                                               for m in mRNA_grid))\n",
    "            # -- Building and cleaning the transition matrix -- #\n",
    "            for k, lnm in enumerate(lnm_list):\n",
    "                # Initialize the matrix of zeros where the normalized\n",
    "                # distribution will live\n",
    "                p_norm = np.zeros_like(lnm)\n",
    "                p = np.exp(lnm)\n",
    "                # Compute the cumulative sum of the protein copy number\n",
    "                p_sum = np.cumsum(np.sum(p, axis=1))\n",
    "                # Find the first block that is already normalized given \n",
    "                # the tolerance value\n",
    "                norm_idx = np.where((p_sum <= 1 + 1E-5) & \\\n",
    "                                    (p_sum >= 1 - 1E-5))[0][-1]\n",
    "                # add all the probability values of these blocks to our matrix\n",
    "                p_norm[0:norm_idx, :] = p[0:norm_idx, :]\n",
    "            QmR[:, i] = p_norm.ravel()\n",
    "            # Check that all distributions for each concentration are normalized\n",
    "        np.savetxt('../../tmp/QmR_' + kon_operators[j] +\\\n",
    "                   '_0_1000_literature_param.csv', QmR, delimiter=\",\")"
   ]
  },
  {
   "cell_type": "markdown",
   "metadata": {},
   "source": [
    "### Pre-computing the protien distribution"
   ]
  },
  {
   "cell_type": "code",
   "execution_count": 2,
   "metadata": {
    "collapsed": true
   },
   "outputs": [],
   "source": [
    "# Protein parameters\n",
    "k0 = 2.7E-3 # From Jones & Brewster\n",
    "prot_params = dict(ka=141.52, ki=0.56061, epsilon=4.5,\n",
    "                   kon=chann_cap.kon_fn(-9.7, k0),\n",
    "                   k0=k0,\n",
    "                   gamma_m=0.00284, r_gamma_m=15.7,\n",
    "                   gamma_p=0.000277, r_gamma_p=100)"
   ]
  },
  {
   "cell_type": "code",
   "execution_count": null,
   "metadata": {
    "collapsed": false
   },
   "outputs": [
    {
     "name": "stdout",
     "output_type": "stream",
     "text": [
      "operator : O2\n",
      "repressors : 0\n"
     ]
    }
   ],
   "source": [
    "# Define the protein blocks to evaluate in parallel\n",
    "# Break into blocks to compute the distributions in parallel\n",
    "prot_grid = np.reshape(np.arange(0, 4000), [-1, 50])\n",
    "\n",
    "# define the array of repressor copy numbers to evaluate the function in\n",
    "R_array = np.arange(0, 1050)\n",
    "\n",
    "# Setting the kon parameter based on k0 and the binding energies form stat. mech.\n",
    "kon_array = [chann_cap.kon_fn(-13.9, prot_params['k0']),\n",
    "             chann_cap.kon_fn(-15.3, prot_params['k0']),\n",
    "             chann_cap.kon_fn(-9.7, prot_params['k0']),\n",
    "             chann_cap.kon_fn(-17, prot_params['k0'])]\n",
    "kon_operators = ['O2', 'O1', 'O3', 'Oid']\n",
    "kon_dict = dict(zip(kon_operators, kon_array))\n",
    "\n",
    "compute_matrix = True\n",
    "if compute_matrix:\n",
    "    for kon, op in enumerate(kon_operators):\n",
    "        print('operator : ' + op)\n",
    "        # Set the value for the kon\n",
    "        prot_params['kon'] = kon_dict[op]\n",
    "        # Define filename\n",
    "        file = '../../data/csv_protein_dist/lnp_' + op + '_DJ_RB.csv'\n",
    "        # Loop through repressor copy numbers\n",
    "        for i, r in enumerate(R_array):\n",
    "            if r%50==0:\n",
    "                print('repressors : {:d}'.format(r))\n",
    "            prot_params['rep'] = r * 1.66\n",
    "            # -- Parallel computation of distribution -- #\n",
    "            # define a function to run in parallel the computation\n",
    "            def lnp_parallel(p):\n",
    "                lnp = chann_cap.log_p_p_mid_C(C=0, protein=p, **prot_params)\n",
    "                df = pd.DataFrame([r] * len(p), index=p, columns=['repressor'])\n",
    "                df.loc[:, 'protein'] = pd.Series(p, index=df.index)\n",
    "                df.loc[:, 'lnp'] = lnp\n",
    "                \n",
    "                # if file does not exist write header \n",
    "                if not os.path.isfile(file): \n",
    "                    df.to_csv(file) \n",
    "                else: # else it exists so append without writing the header\n",
    "                    df.to_csv(file, mode='a', header=False)\n",
    "            Parallel(n_jobs=40)(delayed(lnp_parallel)(p) for p in prot_grid)"
   ]
  }
 ],
 "metadata": {
  "anaconda-cloud": {},
  "kernelspec": {
   "display_name": "Python [default]",
   "language": "python",
   "name": "python3"
  },
  "language_info": {
   "codemirror_mode": {
    "name": "ipython",
    "version": 3
   },
   "file_extension": ".py",
   "mimetype": "text/x-python",
   "name": "python",
   "nbconvert_exporter": "python",
   "pygments_lexer": "ipython3",
   "version": "3.5.2"
  }
 },
 "nbformat": 4,
 "nbformat_minor": 0
}
