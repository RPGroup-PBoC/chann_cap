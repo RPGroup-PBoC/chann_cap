{
 "cells": [
  {
   "cell_type": "markdown",
   "metadata": {},
   "source": [
    "# Generating the input-output function $P(m\\mid R, C)$ for varying repressor copy number $R$."
   ]
  },
  {
   "cell_type": "code",
   "execution_count": 1,
   "metadata": {
    "collapsed": false
   },
   "outputs": [],
   "source": [
    "# Our numerical workhorses\n",
    "import numpy as np\n",
    "from sympy import mpmath\n",
    "import scipy.optimize\n",
    "import scipy.special\n",
    "import scipy.integrate\n",
    "import pandas as pd\n",
    "import itertools\n",
    "# Import libraries to parallelize processes\n",
    "from joblib import Parallel, delayed\n",
    "\n",
    "# Import matplotlib stuff for plotting\n",
    "import matplotlib.pyplot as plt\n",
    "import matplotlib.cm as cm\n",
    "import matplotlib\n",
    "\n",
    "# Seaborn, useful for graphics\n",
    "import seaborn as sns\n",
    "\n",
    "# Pickle is useful for saving outputs that are computationally expensive\n",
    "# to obtain every time\n",
    "import pickle\n",
    "\n",
    "import os\n",
    "import glob\n",
    "\n",
    "# Import the utils for this project\n",
    "# Import the project utils\n",
    "import sys\n",
    "sys.path.insert(0, '../continuous_game/')\n",
    "import evolution_bits_utils as evo_utils\n",
    "\n",
    "# favorite Seaborn settings for notebooks\n",
    "rc={'lines.linewidth': 2, \n",
    "    'axes.labelsize' : 16, \n",
    "    'axes.titlesize' : 18,\n",
    "    'axes.facecolor' : 'F4F3F6',\n",
    "    'axes.edgecolor' : '000000',\n",
    "    'axes.linewidth' : 1.2,\n",
    "    'xtick.labelsize' : 13,\n",
    "    'ytick.labelsize' : 13,\n",
    "    'grid.linestyle' : ':',\n",
    "    'grid.color' : 'a6a6a6'}\n",
    "sns.set_context('notebook', rc=rc)\n",
    "sns.set_style('darkgrid', rc=rc)\n",
    "sns.set_palette(\"deep\", color_codes=True)\n",
    "\n",
    "# Magic function to make matplotlib inline; other style specs must come AFTER\n",
    "%matplotlib inline\n",
    "\n",
    "# This enables SVG graphics inline (only use with static plots (non-Bokeh))\n",
    "%config InlineBackend.figure_format = 'svg'"
   ]
  },
  {
   "cell_type": "markdown",
   "metadata": {},
   "source": [
    "# Pre-computing analytical distributions of gene expession.\n",
    "\n",
    "Since the computation of the mRNA and protein steady-state probability distributions are computationally expensive, we can pre-compute the distribution for different repressor copy number and save the results as a lookup table to compute any desired quantity out of these distributions including the channel capacity and the variability in gene expression due to the stochasticity of the allosteric molecules.\n",
    "\n",
    "This notebook achieves the simple task of computing the mRNA and protein distribution for different repressor copy numbers saving the result into csv files that we can read with `numpy`.\n",
    "\n",
    "The matrices are arranged such that each row's index is given by the number of repressors and each column index indicates either the mRNA or protein count."
   ]
  },
  {
   "cell_type": "markdown",
   "metadata": {},
   "source": [
    "## Pre-computing the mRNA distribution\n",
    "\n",
    "Let's start by saving the distribution for mRNA molecules."
   ]
  },
  {
   "cell_type": "code",
   "execution_count": 3,
   "metadata": {
    "collapsed": false
   },
   "outputs": [],
   "source": [
    "# Define the parameters\n",
    "# k0 = 0.000123 # Fit to the O2 - RBS1027 data using the noise\n",
    "k0 = 2.7E-3 # Used by Jones and Brewster\n",
    "\n",
    "# The MWC parameters come from the global fit to the O2 data\n",
    "mRNA_params = dict(ka=0.199, ki=0.00064, omega=np.exp(-4.5), \n",
    "                   k0=k0, gamma=0.00284, r_gamma=15.7)"
   ]
  },
  {
   "cell_type": "code",
   "execution_count": 5,
   "metadata": {
    "collapsed": false,
    "scrolled": true
   },
   "outputs": [
    {
     "name": "stdout",
     "output_type": "stream",
     "text": [
      "operator : Oid\n",
      "repressors : 0\n",
      "repressors : 100\n",
      "repressors : 200\n",
      "repressors : 300\n",
      "repressors : 400\n",
      "repressors : 500\n",
      "repressors : 600\n",
      "repressors : 700\n",
      "repressors : 800\n",
      "repressors : 900\n",
      "repressors : 1000\n",
      "operator : O1\n",
      "repressors : 0\n",
      "repressors : 100\n",
      "repressors : 200\n",
      "repressors : 300\n",
      "repressors : 400\n",
      "repressors : 500\n",
      "repressors : 600\n",
      "repressors : 700\n",
      "repressors : 800\n",
      "repressors : 900\n",
      "repressors : 1000\n",
      "operator : O2\n",
      "repressors : 0\n",
      "repressors : 100\n",
      "repressors : 200\n",
      "repressors : 300\n",
      "repressors : 400\n",
      "repressors : 500\n",
      "repressors : 600\n",
      "repressors : 700\n",
      "repressors : 800\n",
      "repressors : 900\n",
      "repressors : 1000\n",
      "operator : O3\n",
      "repressors : 0\n",
      "repressors : 100\n",
      "repressors : 200\n",
      "repressors : 300\n",
      "repressors : 400\n",
      "repressors : 500\n",
      "repressors : 600\n",
      "repressors : 700\n",
      "repressors : 800\n",
      "repressors : 900\n",
      "repressors : 1000\n"
     ]
    }
   ],
   "source": [
    "# Define the mRNA copy numbers to evaluate\n",
    "# It is break up in blocks to run the process in parallel\n",
    "mRNA_grid = np.reshape(np.arange(0, 50), [-1, 10])\n",
    "\n",
    "# define the array of repressor copy numbers to evaluate the function in\n",
    "R_array = np.arange(0, 1001)\n",
    "\n",
    "kon_array = [evo_utils.kon_fn(-17, mRNA_params['k0']),\n",
    "             evo_utils.kon_fn(-15.3, mRNA_params['k0']),\n",
    "             evo_utils.kon_fn(-13.9, mRNA_params['k0']),\n",
    "             evo_utils.kon_fn(-9.7, mRNA_params['k0'])]\n",
    "kon_operators = ['Oid', 'O1', 'O2', 'O3']\n",
    "\n",
    "compute_matrix = True\n",
    "if compute_matrix:\n",
    "    for j, kon in enumerate(kon_array):\n",
    "        print('operator : ' + kon_operators[j])\n",
    "        # Set the value for the kon\n",
    "        mRNA_params['kon'] = kon\n",
    "        # Initialize transition matrix\n",
    "        QmR = np.zeros([mRNA_grid.size, len(R_array)])\n",
    "        for i, r in enumerate(R_array):\n",
    "            if r%100==0:\n",
    "                print('repressors : {:d}'.format(r))\n",
    "            mRNA_params['rep'] = r * 1.66\n",
    "            # -- Parallel computation of distribution -- #\n",
    "            lnm_list = list()\n",
    "            # loop through the concentrations\n",
    "            # define a function to run in parallel the computation\n",
    "            def lnm_parallel(m):\n",
    "                lnm = evo_utils.log_p_m_mid_C(C=0, mRNA=m, **mRNA_params)\n",
    "                return lnm\n",
    "            lnm_list.append(Parallel(n_jobs=7)(delayed(lnm_parallel)(m) \\\n",
    "                                               for m in mRNA_grid))\n",
    "            # -- Building and cleaning the transition matrix -- #\n",
    "            for k, lnm in enumerate(lnm_list):\n",
    "                # Initialize the matrix of zeros where the normalized\n",
    "                # distribution will live\n",
    "                p_norm = np.zeros_like(lnm)\n",
    "                p = np.exp(lnm)\n",
    "                # Compute the cumulative sum of the protein copy number\n",
    "                p_sum = np.cumsum(np.sum(p, axis=1))\n",
    "                # Find the first block that is already normalized given \n",
    "                # the tolerance value\n",
    "                norm_idx = np.where((p_sum <= 1 + 1E-5) & \\\n",
    "                                    (p_sum >= 1 - 1E-5))[0][-1]\n",
    "                # add all the probability values of these blocks to our matrix\n",
    "                p_norm[0:norm_idx, :] = p[0:norm_idx, :]\n",
    "            QmR[:, i] = p_norm.ravel()\n",
    "            # Check that all distributions for each concentration are normalized\n",
    "        np.savetxt('../../tmp/QmR_' + kon_operators[j] +\\\n",
    "                   '_0_1000_literature_param.csv', QmR, delimiter=\",\")"
   ]
  },
  {
   "cell_type": "markdown",
   "metadata": {},
   "source": [
    "### Pre-computing the protien distribution"
   ]
  },
  {
   "cell_type": "code",
   "execution_count": 15,
   "metadata": {
    "collapsed": true
   },
   "outputs": [],
   "source": [
    "# Protein parameters\n",
    "k0=.000123 # Fit to the noise measurement of the O2 - RBS1027 data\n",
    "prot_params = dict(ka=0.199, ki=0.00064, omega=np.exp(-4.5),\n",
    "                   k0=k0,\n",
    "                   gamma_m=0.00284, r_gamma_m=15.7,\n",
    "                   gamma_p=0.000277, r_gamma_p=100)"
   ]
  },
  {
   "cell_type": "code",
   "execution_count": 22,
   "metadata": {
    "collapsed": false
   },
   "outputs": [
    {
     "name": "stdout",
     "output_type": "stream",
     "text": [
      "operator : O3\n",
      "repressors : 0\n"
     ]
    },
    {
     "ename": "KeyboardInterrupt",
     "evalue": "",
     "output_type": "error",
     "traceback": [
      "\u001b[0;31m---------------------------------------------------------------------------\u001b[0m",
      "\u001b[0;31mKeyboardInterrupt\u001b[0m                         Traceback (most recent call last)",
      "\u001b[0;32m<ipython-input-22-5419e7a0a1bd>\u001b[0m in \u001b[0;36m<module>\u001b[0;34m()\u001b[0m\n\u001b[1;32m     28\u001b[0m                 \u001b[0mlnp\u001b[0m \u001b[0;34m=\u001b[0m \u001b[0mevo_utils\u001b[0m\u001b[0;34m.\u001b[0m\u001b[0mlog_p_p_mid_C\u001b[0m\u001b[0;34m(\u001b[0m\u001b[0mC\u001b[0m\u001b[0;34m=\u001b[0m\u001b[0;36m0\u001b[0m\u001b[0;34m,\u001b[0m \u001b[0mprotein\u001b[0m\u001b[0;34m=\u001b[0m\u001b[0mp\u001b[0m\u001b[0;34m,\u001b[0m \u001b[0;34m**\u001b[0m\u001b[0mprot_params\u001b[0m\u001b[0;34m)\u001b[0m\u001b[0;34m\u001b[0m\u001b[0m\n\u001b[1;32m     29\u001b[0m                 \u001b[0;32mreturn\u001b[0m \u001b[0mlnp\u001b[0m\u001b[0;34m\u001b[0m\u001b[0m\n\u001b[0;32m---> 30\u001b[0;31m             \u001b[0mlnp_list\u001b[0m\u001b[0;34m.\u001b[0m\u001b[0mappend\u001b[0m\u001b[0;34m(\u001b[0m\u001b[0mParallel\u001b[0m\u001b[0;34m(\u001b[0m\u001b[0mn_jobs\u001b[0m\u001b[0;34m=\u001b[0m\u001b[0;36m7\u001b[0m\u001b[0;34m)\u001b[0m\u001b[0;34m(\u001b[0m\u001b[0mdelayed\u001b[0m\u001b[0;34m(\u001b[0m\u001b[0mlnp_parallel\u001b[0m\u001b[0;34m)\u001b[0m\u001b[0;34m(\u001b[0m\u001b[0mp\u001b[0m\u001b[0;34m)\u001b[0m                                                \u001b[0;32mfor\u001b[0m \u001b[0mp\u001b[0m \u001b[0;32min\u001b[0m \u001b[0mprot_grid\u001b[0m\u001b[0;34m)\u001b[0m\u001b[0;34m)\u001b[0m\u001b[0;34m\u001b[0m\u001b[0m\n\u001b[0m\u001b[1;32m     31\u001b[0m             \u001b[0;31m# -- Building and cleaning the transition matrix -- #\u001b[0m\u001b[0;34m\u001b[0m\u001b[0;34m\u001b[0m\u001b[0m\n\u001b[1;32m     32\u001b[0m             \u001b[0;32mfor\u001b[0m \u001b[0mk\u001b[0m\u001b[0;34m,\u001b[0m \u001b[0mlnp\u001b[0m \u001b[0;32min\u001b[0m \u001b[0menumerate\u001b[0m\u001b[0;34m(\u001b[0m\u001b[0mlnp_list\u001b[0m\u001b[0;34m)\u001b[0m\u001b[0;34m:\u001b[0m\u001b[0;34m\u001b[0m\u001b[0m\n",
      "\u001b[0;32m/Users/razo/anaconda/lib/python3.5/site-packages/joblib/parallel.py\u001b[0m in \u001b[0;36m__call__\u001b[0;34m(self, iterable)\u001b[0m\n\u001b[1;32m    808\u001b[0m                 \u001b[0;31m# consumption.\u001b[0m\u001b[0;34m\u001b[0m\u001b[0;34m\u001b[0m\u001b[0m\n\u001b[1;32m    809\u001b[0m                 \u001b[0mself\u001b[0m\u001b[0;34m.\u001b[0m\u001b[0m_iterating\u001b[0m \u001b[0;34m=\u001b[0m \u001b[0;32mFalse\u001b[0m\u001b[0;34m\u001b[0m\u001b[0m\n\u001b[0;32m--> 810\u001b[0;31m             \u001b[0mself\u001b[0m\u001b[0;34m.\u001b[0m\u001b[0mretrieve\u001b[0m\u001b[0;34m(\u001b[0m\u001b[0;34m)\u001b[0m\u001b[0;34m\u001b[0m\u001b[0m\n\u001b[0m\u001b[1;32m    811\u001b[0m             \u001b[0;31m# Make sure that we get a last message telling us we are done\u001b[0m\u001b[0;34m\u001b[0m\u001b[0;34m\u001b[0m\u001b[0m\n\u001b[1;32m    812\u001b[0m             \u001b[0melapsed_time\u001b[0m \u001b[0;34m=\u001b[0m \u001b[0mtime\u001b[0m\u001b[0;34m.\u001b[0m\u001b[0mtime\u001b[0m\u001b[0;34m(\u001b[0m\u001b[0;34m)\u001b[0m \u001b[0;34m-\u001b[0m \u001b[0mself\u001b[0m\u001b[0;34m.\u001b[0m\u001b[0m_start_time\u001b[0m\u001b[0;34m\u001b[0m\u001b[0m\n",
      "\u001b[0;32m/Users/razo/anaconda/lib/python3.5/site-packages/joblib/parallel.py\u001b[0m in \u001b[0;36mretrieve\u001b[0;34m(self)\u001b[0m\n\u001b[1;32m    755\u001b[0m                     \u001b[0;31m# a working pool as they expect.\u001b[0m\u001b[0;34m\u001b[0m\u001b[0;34m\u001b[0m\u001b[0m\n\u001b[1;32m    756\u001b[0m                     \u001b[0mself\u001b[0m\u001b[0;34m.\u001b[0m\u001b[0m_initialize_pool\u001b[0m\u001b[0;34m(\u001b[0m\u001b[0;34m)\u001b[0m\u001b[0;34m\u001b[0m\u001b[0m\n\u001b[0;32m--> 757\u001b[0;31m                 \u001b[0;32mraise\u001b[0m \u001b[0mexception\u001b[0m\u001b[0;34m\u001b[0m\u001b[0m\n\u001b[0m\u001b[1;32m    758\u001b[0m \u001b[0;34m\u001b[0m\u001b[0m\n\u001b[1;32m    759\u001b[0m     \u001b[0;32mdef\u001b[0m \u001b[0m__call__\u001b[0m\u001b[0;34m(\u001b[0m\u001b[0mself\u001b[0m\u001b[0;34m,\u001b[0m \u001b[0miterable\u001b[0m\u001b[0;34m)\u001b[0m\u001b[0;34m:\u001b[0m\u001b[0;34m\u001b[0m\u001b[0m\n",
      "\u001b[0;32m/Users/razo/anaconda/lib/python3.5/site-packages/joblib/parallel.py\u001b[0m in \u001b[0;36mretrieve\u001b[0;34m(self)\u001b[0m\n\u001b[1;32m    725\u001b[0m                 \u001b[0mjob\u001b[0m \u001b[0;34m=\u001b[0m \u001b[0mself\u001b[0m\u001b[0;34m.\u001b[0m\u001b[0m_jobs\u001b[0m\u001b[0;34m.\u001b[0m\u001b[0mpop\u001b[0m\u001b[0;34m(\u001b[0m\u001b[0;36m0\u001b[0m\u001b[0;34m)\u001b[0m\u001b[0;34m\u001b[0m\u001b[0m\n\u001b[1;32m    726\u001b[0m             \u001b[0;32mtry\u001b[0m\u001b[0;34m:\u001b[0m\u001b[0;34m\u001b[0m\u001b[0m\n\u001b[0;32m--> 727\u001b[0;31m                 \u001b[0mself\u001b[0m\u001b[0;34m.\u001b[0m\u001b[0m_output\u001b[0m\u001b[0;34m.\u001b[0m\u001b[0mextend\u001b[0m\u001b[0;34m(\u001b[0m\u001b[0mjob\u001b[0m\u001b[0;34m.\u001b[0m\u001b[0mget\u001b[0m\u001b[0;34m(\u001b[0m\u001b[0;34m)\u001b[0m\u001b[0;34m)\u001b[0m\u001b[0;34m\u001b[0m\u001b[0m\n\u001b[0m\u001b[1;32m    728\u001b[0m             \u001b[0;32mexcept\u001b[0m \u001b[0mtuple\u001b[0m\u001b[0;34m(\u001b[0m\u001b[0mself\u001b[0m\u001b[0;34m.\u001b[0m\u001b[0mexceptions\u001b[0m\u001b[0;34m)\u001b[0m \u001b[0;32mas\u001b[0m \u001b[0mexception\u001b[0m\u001b[0;34m:\u001b[0m\u001b[0;34m\u001b[0m\u001b[0m\n\u001b[1;32m    729\u001b[0m                 \u001b[0;31m# Stop dispatching any new job in the async callback thread\u001b[0m\u001b[0;34m\u001b[0m\u001b[0;34m\u001b[0m\u001b[0m\n",
      "\u001b[0;32m/Users/razo/anaconda/lib/python3.5/multiprocessing/pool.py\u001b[0m in \u001b[0;36mget\u001b[0;34m(self, timeout)\u001b[0m\n\u001b[1;32m    600\u001b[0m \u001b[0;34m\u001b[0m\u001b[0m\n\u001b[1;32m    601\u001b[0m     \u001b[0;32mdef\u001b[0m \u001b[0mget\u001b[0m\u001b[0;34m(\u001b[0m\u001b[0mself\u001b[0m\u001b[0;34m,\u001b[0m \u001b[0mtimeout\u001b[0m\u001b[0;34m=\u001b[0m\u001b[0;32mNone\u001b[0m\u001b[0;34m)\u001b[0m\u001b[0;34m:\u001b[0m\u001b[0;34m\u001b[0m\u001b[0m\n\u001b[0;32m--> 602\u001b[0;31m         \u001b[0mself\u001b[0m\u001b[0;34m.\u001b[0m\u001b[0mwait\u001b[0m\u001b[0;34m(\u001b[0m\u001b[0mtimeout\u001b[0m\u001b[0;34m)\u001b[0m\u001b[0;34m\u001b[0m\u001b[0m\n\u001b[0m\u001b[1;32m    603\u001b[0m         \u001b[0;32mif\u001b[0m \u001b[0;32mnot\u001b[0m \u001b[0mself\u001b[0m\u001b[0;34m.\u001b[0m\u001b[0mready\u001b[0m\u001b[0;34m(\u001b[0m\u001b[0;34m)\u001b[0m\u001b[0;34m:\u001b[0m\u001b[0;34m\u001b[0m\u001b[0m\n\u001b[1;32m    604\u001b[0m             \u001b[0;32mraise\u001b[0m \u001b[0mTimeoutError\u001b[0m\u001b[0;34m\u001b[0m\u001b[0m\n",
      "\u001b[0;32m/Users/razo/anaconda/lib/python3.5/multiprocessing/pool.py\u001b[0m in \u001b[0;36mwait\u001b[0;34m(self, timeout)\u001b[0m\n\u001b[1;32m    597\u001b[0m \u001b[0;34m\u001b[0m\u001b[0m\n\u001b[1;32m    598\u001b[0m     \u001b[0;32mdef\u001b[0m \u001b[0mwait\u001b[0m\u001b[0;34m(\u001b[0m\u001b[0mself\u001b[0m\u001b[0;34m,\u001b[0m \u001b[0mtimeout\u001b[0m\u001b[0;34m=\u001b[0m\u001b[0;32mNone\u001b[0m\u001b[0;34m)\u001b[0m\u001b[0;34m:\u001b[0m\u001b[0;34m\u001b[0m\u001b[0m\n\u001b[0;32m--> 599\u001b[0;31m         \u001b[0mself\u001b[0m\u001b[0;34m.\u001b[0m\u001b[0m_event\u001b[0m\u001b[0;34m.\u001b[0m\u001b[0mwait\u001b[0m\u001b[0;34m(\u001b[0m\u001b[0mtimeout\u001b[0m\u001b[0;34m)\u001b[0m\u001b[0;34m\u001b[0m\u001b[0m\n\u001b[0m\u001b[1;32m    600\u001b[0m \u001b[0;34m\u001b[0m\u001b[0m\n\u001b[1;32m    601\u001b[0m     \u001b[0;32mdef\u001b[0m \u001b[0mget\u001b[0m\u001b[0;34m(\u001b[0m\u001b[0mself\u001b[0m\u001b[0;34m,\u001b[0m \u001b[0mtimeout\u001b[0m\u001b[0;34m=\u001b[0m\u001b[0;32mNone\u001b[0m\u001b[0;34m)\u001b[0m\u001b[0;34m:\u001b[0m\u001b[0;34m\u001b[0m\u001b[0m\n",
      "\u001b[0;32m/Users/razo/anaconda/lib/python3.5/threading.py\u001b[0m in \u001b[0;36mwait\u001b[0;34m(self, timeout)\u001b[0m\n\u001b[1;32m    547\u001b[0m             \u001b[0msignaled\u001b[0m \u001b[0;34m=\u001b[0m \u001b[0mself\u001b[0m\u001b[0;34m.\u001b[0m\u001b[0m_flag\u001b[0m\u001b[0;34m\u001b[0m\u001b[0m\n\u001b[1;32m    548\u001b[0m             \u001b[0;32mif\u001b[0m \u001b[0;32mnot\u001b[0m \u001b[0msignaled\u001b[0m\u001b[0;34m:\u001b[0m\u001b[0;34m\u001b[0m\u001b[0m\n\u001b[0;32m--> 549\u001b[0;31m                 \u001b[0msignaled\u001b[0m \u001b[0;34m=\u001b[0m \u001b[0mself\u001b[0m\u001b[0;34m.\u001b[0m\u001b[0m_cond\u001b[0m\u001b[0;34m.\u001b[0m\u001b[0mwait\u001b[0m\u001b[0;34m(\u001b[0m\u001b[0mtimeout\u001b[0m\u001b[0;34m)\u001b[0m\u001b[0;34m\u001b[0m\u001b[0m\n\u001b[0m\u001b[1;32m    550\u001b[0m             \u001b[0;32mreturn\u001b[0m \u001b[0msignaled\u001b[0m\u001b[0;34m\u001b[0m\u001b[0m\n\u001b[1;32m    551\u001b[0m \u001b[0;34m\u001b[0m\u001b[0m\n",
      "\u001b[0;32m/Users/razo/anaconda/lib/python3.5/threading.py\u001b[0m in \u001b[0;36mwait\u001b[0;34m(self, timeout)\u001b[0m\n\u001b[1;32m    291\u001b[0m         \u001b[0;32mtry\u001b[0m\u001b[0;34m:\u001b[0m    \u001b[0;31m# restore state no matter what (e.g., KeyboardInterrupt)\u001b[0m\u001b[0;34m\u001b[0m\u001b[0m\n\u001b[1;32m    292\u001b[0m             \u001b[0;32mif\u001b[0m \u001b[0mtimeout\u001b[0m \u001b[0;32mis\u001b[0m \u001b[0;32mNone\u001b[0m\u001b[0;34m:\u001b[0m\u001b[0;34m\u001b[0m\u001b[0m\n\u001b[0;32m--> 293\u001b[0;31m                 \u001b[0mwaiter\u001b[0m\u001b[0;34m.\u001b[0m\u001b[0macquire\u001b[0m\u001b[0;34m(\u001b[0m\u001b[0;34m)\u001b[0m\u001b[0;34m\u001b[0m\u001b[0m\n\u001b[0m\u001b[1;32m    294\u001b[0m                 \u001b[0mgotit\u001b[0m \u001b[0;34m=\u001b[0m \u001b[0;32mTrue\u001b[0m\u001b[0;34m\u001b[0m\u001b[0m\n\u001b[1;32m    295\u001b[0m             \u001b[0;32melse\u001b[0m\u001b[0;34m:\u001b[0m\u001b[0;34m\u001b[0m\u001b[0m\n",
      "\u001b[0;31mKeyboardInterrupt\u001b[0m: "
     ]
    }
   ],
   "source": [
    "# Define the protein blocks to evaluate in parallel\n",
    "# Break into blocks to compute the distributions in parallel\n",
    "prot_grid = np.reshape(np.arange(0, 4000), [-1, 250])\n",
    "\n",
    "# define the array of repressor copy numbers to evaluate the function in\n",
    "R_array = np.arange(0, 1050)\n",
    "\n",
    "kon_array = [evo_utils.kon_fn(-9.7, prot_params['k0']),\n",
    "             evo_utils.kon_fn(-17, prot_params['k0'])]\n",
    "kon_operators = ['O3', 'Oid']\n",
    "\n",
    "compute_matrix = True\n",
    "if compute_matrix:\n",
    "    for j, kon in enumerate(kon_array):\n",
    "        print('operator : ' + kon_operators[j])\n",
    "        # Set the value for the kon\n",
    "        prot_params['kon'] = kon\n",
    "        # Initialize transition matrix\n",
    "        QpR = np.zeros([prot_grid.size, len(R_array)])\n",
    "        for i, r in enumerate(R_array):\n",
    "            if r%10==0:\n",
    "                print('repressors : {:d}'.format(r))\n",
    "            prot_params['rep'] = r * 1.66\n",
    "            # -- Parallel computation of distribution -- #\n",
    "            lnp_list = list()\n",
    "            # define a function to run in parallel the computation\n",
    "            def lnp_parallel(p):\n",
    "                lnp = evo_utils.log_p_p_mid_C(C=0, protein=p, **prot_params)\n",
    "                return lnp\n",
    "            lnp_list.append(Parallel(n_jobs=7)(delayed(lnp_parallel)(p) \\\n",
    "                                               for p in prot_grid))\n",
    "            # -- Building and cleaning the transition matrix -- #\n",
    "            for k, lnp in enumerate(lnp_list):\n",
    "                # Initialize the matrix of zeros where the normalized\n",
    "                # distribution will live\n",
    "                p_norm = np.zeros_like(lnp)\n",
    "                p = np.exp(lnp)\n",
    "#                 # Compute the cumulative sum of the protein copy number\n",
    "#                 p_sum = np.cumsum(np.sum(p, axis=1))\n",
    "#                 # Find the first block that is already normalized given \n",
    "#                 # the tolerance value\n",
    "#                 print(p_sum)\n",
    "#                 norm_idx = np.where((p_sum <= 1 + 1E-2) & \\\n",
    "#                                     (p_sum >= 1 - 1E-2))[0][-1]\n",
    "#                 # add all the probability values of these blocks to our matrix\n",
    "#                 p_norm[0:norm_idx, :] = p[0:norm_idx, :]\n",
    "#             QpR[:, i] = p_norm.ravel()\n",
    "            QpR[:, i] = p.ravel()\n",
    "        np.savetxt('../../tmp/QpR_' + kon_operators[j] +\\\n",
    "                   '_0_1050_noise_fit.csv', QmR, delimiter=\",\")"
   ]
  },
  {
   "cell_type": "code",
   "execution_count": 21,
   "metadata": {
    "collapsed": false
   },
   "outputs": [
    {
     "data": {
      "text/plain": [
       "array([[  1.27749753e-88,   8.43422984e-87,   2.82437709e-85, ...,\n",
       "          1.19728587e-23,   1.45085433e-23,   1.75657728e-23],\n",
       "       [  2.12486285e-23,   2.56813232e-23,   3.10119712e-23, ...,\n",
       "          1.74528728e-10,   1.87945162e-10,   2.02341395e-10],\n",
       "       [  2.17785062e-10,   2.34348181e-10,   2.52107420e-10, ...,\n",
       "          3.97214337e-05,   4.09207721e-05,   4.21510966e-05],\n",
       "       ..., \n",
       "       [  1.52747135e-37,   1.44397431e-37,   1.36502693e-37, ...,\n",
       "          1.04359012e-43,   9.84099295e-44,   9.27991047e-44],\n",
       "       [  8.75073547e-44,   8.25165821e-44,   7.78097131e-44, ...,\n",
       "          3.33527488e-50,   3.13815684e-50,   2.95266392e-50],\n",
       "       [  2.77811200e-50,   2.61385712e-50,   2.45929316e-50, ...,\n",
       "          6.30475840e-57,   5.92038942e-57,   5.55941176e-57]])"
      ]
     },
     "execution_count": 21,
     "metadata": {},
     "output_type": "execute_result"
    }
   ],
   "source": [
    "p"
   ]
  },
  {
   "cell_type": "code",
   "execution_count": null,
   "metadata": {
    "collapsed": true
   },
   "outputs": [],
   "source": []
  }
 ],
 "metadata": {
  "anaconda-cloud": {},
  "kernelspec": {
   "display_name": "Python [default]",
   "language": "python",
   "name": "python3"
  },
  "language_info": {
   "codemirror_mode": {
    "name": "ipython",
    "version": 3
   },
   "file_extension": ".py",
   "mimetype": "text/x-python",
   "name": "python",
   "nbconvert_exporter": "python",
   "pygments_lexer": "ipython3",
   "version": "3.5.2"
  }
 },
 "nbformat": 4,
 "nbformat_minor": 0
}
