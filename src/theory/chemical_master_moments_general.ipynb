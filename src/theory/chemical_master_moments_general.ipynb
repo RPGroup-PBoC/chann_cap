{
 "cells": [
  {
   "cell_type": "markdown",
   "metadata": {},
   "source": [
    "# General moment calculation for a two- and three-state promoter."
   ]
  },
  {
   "cell_type": "markdown",
   "metadata": {},
   "source": [
    "(c) 2018 Manuel Razo. This work is licensed under a [Creative Commons Attribution License CC-BY 4.0](https://creativecommons.org/licenses/by/4.0/). All code contained herein is licensed under an [MIT license](https://opensource.org/licenses/MIT). \n",
    "\n",
    "---"
   ]
  },
  {
   "cell_type": "code",
   "execution_count": 1,
   "metadata": {},
   "outputs": [],
   "source": [
    "# Library that we will use to export lambdify functions\n",
    "import cloudpickle\n",
    "\n",
    "import itertools # Library we'll use to generate possible pairs of numbers\n",
    "\n",
    "# Numerical workhorse\n",
    "import numpy as np\n",
    "import pandas as pd\n",
    "\n",
    "# To compute symbolic expressions\n",
    "import sympy\n",
    "sympy.init_printing(use_unicode=True, use_latex=True) # print outputs in LaTeX\n",
    "\n",
    "# Import matplotlib stuff for plotting\n",
    "import matplotlib.pyplot as plt\n",
    "import matplotlib.cm as cm\n",
    "import matplotlib as mpl\n",
    "\n",
    "# Seaborn, useful for graphics\n",
    "import seaborn as sns\n",
    "\n",
    "# Import the utils for this project\n",
    "import chann_cap_utils as chann_cap\n",
    "\n",
    "# Set PBoC plotting style\n",
    "chann_cap.set_plotting_style()\n",
    "\n",
    "# Magic function to make matplotlib inline\n",
    "%matplotlib inline\n",
    "\n",
    "# This enables SVG graphics inline. \n",
    "%config InlineBackend.figure_format = 'svg'\n",
    "\n",
    "tmpdir = '../../tmp/'"
   ]
  },
  {
   "cell_type": "markdown",
   "metadata": {},
   "source": [
    "# $\\LaTeX$ macros\n",
    "$\\newcommand{kpon}{k^{(p)}_{\\text{on}}}$\n",
    "$\\newcommand{kpoff}{k^{(p)}_{\\text{off}}}$\n",
    "$\\newcommand{kron}{k^{(r)}_{\\text{on}}}$\n",
    "$\\newcommand{kroff}{k^{(r)}_{\\text{off}}}$\n",
    "$\\newcommand{rm}{r _m}$\n",
    "$\\newcommand{gm}{\\gamma _m}$\n",
    "$\\newcommand{ee}[1]{\\left\\langle #1 \\right\\rangle}$\n",
    "$\\newcommand{bb}[1]{\\mathbf{#1}}$\n",
    "$\\newcommand{th}[1]{{#1}^{\\text{th}}}$\n",
    "$\\newcommand{dt}[1]{{\\partial{#1} \\over \\partial t}}$\n",
    "$\\newcommand{Km}{\\bb{K}}$\n",
    "$\\newcommand{Rm}{\\bb{R}_m}$\n",
    "$\\newcommand{Re}{\\bb{R}_m'}$\n",
    "$\\newcommand{Gm}{\\bb{\\Gamma}_m}$\n",
    "$\\newcommand{Rp}{\\bb{R}_p}$\n",
    "$\\newcommand{Gp}{\\bb{\\Gamma}_p}$"
   ]
  },
  {
   "cell_type": "markdown",
   "metadata": {},
   "source": [
    "## General calculation of the moments of the distribution."
   ]
  },
  {
   "cell_type": "markdown",
   "metadata": {},
   "source": [
    "In order to approximate the entire mRNA and protein distribution $P(m, p)$ we use the maximum entropy approach in which moments $\\ee{m^x p^y}$ with $x, y \\in \\mathbb{Z}$ are used to approximate the distribution as\n",
    "$$\n",
    "\\hat{P}(m, p) = {e^{\\sum_{j} \\beta_j m^{x_j} p^{y_j}} \\over \\mathcal{Z}},\n",
    "$$\n",
    "where $\\beta_j$ is the Lagrange multiplier associated with the $\\th{j}$ constraint of the form $\\ee{m^{x_j} p^{y_j}}$, and $\\mathcal{Z}$ is the partition funciton defined as\n",
    "$$\n",
    "\\mathcal{Z} = \\sum_m \\sum_p e^{\\sum_{j} \\beta_j m^{x_j} p^{y_j}}.\n",
    "$$"
   ]
  },
  {
   "cell_type": "markdown",
   "metadata": {},
   "source": [
    "In particular for our system the master equation that describes the time evolution of the distribution is defined by either two or three differential equations, one for each state of the promoter such that\n",
    "$$\n",
    "P(m, p) = \\sum_{s\\in \\text{states}} P_s(m, p),\n",
    "$$\n",
    "where $s \\in \\{E, P, R\\}$ defines the state $E =$ empty state, $P =$ RNAP bound, and $R =$ repressor bound. The third state is only include in the case where there is transcription factor present. Without loss of generality let's focus here on the three-state promoter. Let $\\bb{P}(m, p) = (P_E(m, p), P_P(m, p), P_R(m, p))$ be the vector containing all distributions. Using this notation the system of PDEs that define the distribution is given by\n",
    "$$\n",
    "\\dt{\\bb{P}(m, p)} = \\overbrace{\n",
    "\\left(\\Km - \\Rm - m\\Gm - m\\Rp -p\\Gp \\right) \\bb{P}(m, p)\n",
    "}^{\\text{exit state }m,p}\\\\\n",
    "\\overbrace{\n",
    "+ \\Rm \\bb{P}(m-1, p) + \\Gm (m + 1) \\bb{P}(m+1, p)\\\\\n",
    "+ \\Rp (m) \\bb{P}(m, p-1) + \\Gm (p + 1) \\bb{P}(m, p+1)\n",
    "}^{\\text{enter state }m,p},\n",
    "\\label{master_matrix}\n",
    "$$\n",
    "where $\\Km$ is the matrix defining transition rates between states, $\\Rm$ and $\\Gm$ are the matrices defining the production and degradation rates of mRNA respectively, and $\\Rp$ and $\\Gp$ are the equivalent matrices for the production and degradation of protein."
   ]
  },
  {
   "cell_type": "markdown",
   "metadata": {},
   "source": [
    "Given this birth-death process with three different states of the promoter if we want to compute a moment $\\ee{m^x p^y}$ we would actually compute\n",
    "$$\n",
    "\\ee{m^x p^y} = \\ee{m^x p^y}_E + \\ee{m^x p^y}_P + \\ee{m^x p^y}_R,\n",
    "$$\n",
    "i.e. the moment at each of the states of the promoter. Let \n",
    "$\\bb{\\ee{m^x p^y}} = \\left(\\ee{m^x p^y}_E, \\ee{m^x p^y}_P, \\ee{m^x p^y}_R\\right)$ be a vector containing all three moments. The moment PDE is then given by\n",
    "$$\n",
    "\\dt{\\bb{\\ee{m^x p^y}}} = \\sum_m \\sum_p \\dt{\\bb{P}(m,p)}.\n",
    "$$"
   ]
  },
  {
   "cell_type": "markdown",
   "metadata": {},
   "source": [
    "This is computed using Eq. \\ref{master_matrix} obtaining\n",
    "$$\n",
    "\\dt{\\bb{\\ee{m^x p^y}}} = \n",
    "\\sum_m \\sum_p \\left(\\Km - \\Rm - m\\Gm - m\\Rp -p\\Gp \\right)m^x p^y \\bb{P}(m, p)\\\\\n",
    "\\overbrace{\n",
    "+ \\Rm \\sum_m \\sum_p m^x p^y \\bb{P}(m-1, p) \n",
    "}^{1}\n",
    "\\overbrace{\n",
    "+ \\Gm \\sum_m \\sum_p (m + 1) m^x p^y \\bb{P}(m+1, p)\n",
    "}^{2}\\\\\n",
    "\\overbrace{\n",
    "+ \\Rp \\sum_m \\sum_p (m) m^x p^y \\bb{P}(m, p-1) \n",
    "}^{3}\n",
    "\\overbrace{\n",
    "+ \\Gm \\sum_m \\sum_p (p + 1) m^x p^y \\bb{P}(m, p+1)\n",
    "}^{4}.\n",
    "\\label{master_moment_sum}\n",
    "$$\n",
    "Each of the numbered terms have stereotypical \"tricks\" to simplify them. Let's list them (derivation left elsewhere):\n",
    "$$\n",
    "1: m' \\equiv m - 1\\\\\n",
    "\\Rightarrow\n",
    "\\sum_m \\sum_p m^x p^y \\bb{P}(m-1, p) = \n",
    "\\sum_{m'} \\sum_p (m' + 1)^x p^y \\bb{P}(m', p) = \\\\\n",
    "\\bb{\\ee{(m+1)^x p^y}},\n",
    "$$\n",
    "$$\n",
    "2: m' \\equiv m + 1\\\\\n",
    "\\Rightarrow\n",
    "\\sum_m \\sum_p (m + 1) m^x p^y \\bb{P}(m + 1, p) = \n",
    "\\sum_{m'} \\sum_p m' (m' - 1)^x p^y \\bb{P}(m', p) = \\\\\n",
    "\\bb{\\ee{m (m - 1)^x p^y}},\n",
    "$$\n",
    "$$\n",
    "3: p' \\equiv p - 1\\\\\n",
    "\\Rightarrow\n",
    "\\sum_m \\sum_p (m) m^x p^y \\bb{P}(m, p-1) =\n",
    "\\sum_m \\sum_{p'} m^{x + 1} (p' + 1)^y \\bb{P}(m, p') = \\\\\n",
    "\\bb{\\ee{m^{x + 1} (p +  1)^{y}}},\n",
    "$$\n",
    "$$\n",
    "4: p' \\equiv p + 1\\\\\n",
    "\\Rightarrow\n",
    "\\sum_m \\sum_p (p + 1) m^x p^y \\bb{P}(m, p+1) =\n",
    "\\sum_m \\sum_{p'} p' m^x (p' - 1)^y \\bb{P}(m, p') = \\\\\n",
    "\\bb{\\ee{m^x p (p - 1)^y}}.\n",
    "$$"
   ]
  },
  {
   "cell_type": "markdown",
   "metadata": {},
   "source": [
    "Given these tricks and Eq. \\ref{master_moment_sum} we can write a **general** form for the moment PDE given by\n",
    "$$\n",
    "\\dt{\\bb{\\ee{m^x p^y}}} =\n",
    "\\Km \\bb{\\ee{m^x p^y}} +\\\\\n",
    "\\Rm \\left[ \\bb{\\ee{(m+1)^x p^y}} - \\bb{\\ee{m^x p^y}} \\right] +\\\\\n",
    "\\Gm \\left[ \\bb{\\ee{m (m - 1)^x p^y}} - \\bb{\\ee{m^{x + 1} p^y}} \\right] +\\\\\n",
    "\\Rp \\left[ \\bb{\\ee{m^{x + 1} (p +  1)^{y}}} - \\bb{\\ee{m^{x+1} p^y}} \\right] +\\\\\n",
    "\\Gp \\left[ \\bb{\\ee{m^x p (p - 1)^y}} - \\bb{\\ee{m^x p^{y+1}}} \\right]\n",
    "\\label{master_moment}\n",
    "$$"
   ]
  },
  {
   "cell_type": "markdown",
   "metadata": {},
   "source": [
    "## Using `sympy` to compute moments"
   ]
  },
  {
   "cell_type": "markdown",
   "metadata": {},
   "source": [
    "The objective of this notebook is to use `sympy` in order to set \\ref{master_moment} to steady state and solve the equation for the desired moment $\\bb{\\ee{m^x p^y}}$. This is going to be a function of all moments $\\bb{\\ee{m^{x'} p^{y'}}}$ with $x' + y' \\leq x + y$. For example for the protein second moment $\\bb{\\ee{p^2}}$ we would need to know\n",
    "$$\n",
    "\\bb{\\ee{p^2}} = f\\left(\\bb{\\ee{m^0 p^0}}, \\bb{\\ee{m^1 p^0}}, \\bb{\\ee{m^2 p^0}},\n",
    "\\bb{\\ee{m^0 p^1}}, \\bb{\\ee{m^1 p^1}}\\right).\n",
    "$$\n",
    "\n",
    "So all we have to do to compute the $\\bb{\\ee{m^x p^y}}$ moment is to solve for all the moments that satisfy the $x' + y' \\leq x + y$ condition before. It is not as good as an MGF, but it is an effective method of getting at these moments."
   ]
  },
  {
   "cell_type": "markdown",
   "metadata": {},
   "source": [
    "### Define general moment equation."
   ]
  },
  {
   "cell_type": "markdown",
   "metadata": {},
   "source": [
    "Let's define the `sympy` variables that we will need for Eq. \\ref{master_moment}."
   ]
  },
  {
   "cell_type": "code",
   "execution_count": 2,
   "metadata": {},
   "outputs": [
    {
     "data": {
      "image/png": "[encoded data removed]",
      "text/latex": [
       "$$\\left ( {\\mathbf{K}}, \\quad {\\mathbf{R}_m}, \\quad {\\mathbf{\\Gamma}_m}, \\quad {\\mathbf{R}_p}, \\quad {\\mathbf{\\Gamma}_p}\\right )$$"
      ],
      "text/plain": [
       "({\\mathbf{K}}, {\\mathbf{R}_m}, {\\mathbf{\\Gamma}_m}, {\\mathbf{R}_p}, {\\mathbf{\\\n",
       "Gamma}_p})"
      ]
     },
     "execution_count": 2,
     "metadata": {},
     "output_type": "execute_result"
    }
   ],
   "source": [
    "# Define the matrices involved in the general moment equation\n",
    "Km = sympy.Symbol('{\\mathbf{K}}')  # State transition matrix\n",
    "Rm, Gm = sympy.symbols('{\\mathbf{R}_m} {\\mathbf{\\Gamma}_m}')  # mRNA matrices\n",
    "Rp, Gp = sympy.symbols('{\\mathbf{R}_p} {\\mathbf{\\Gamma}_p}')  # protein matrices\n",
    "\n",
    "Km, Rm, Gm, Rp, Gp"
   ]
  },
  {
   "cell_type": "code",
   "execution_count": 3,
   "metadata": {},
   "outputs": [
    {
     "data": {
      "image/png": "[encoded data removed]",
      "text/latex": [
       "$$\\left ( {\\mathbf{m}}^{{\\mathbf{x}}}, \\quad {\\mathbf{p}}^{{\\mathbf{y}}}\\right )$$"
      ],
      "text/plain": [
       "⎛            {\\mathbf{x}}              {\\mathbf{y}}⎞\n",
       "⎝{\\mathbf{m}}            , {\\mathbf{p}}            ⎠"
      ]
     },
     "execution_count": 3,
     "metadata": {},
     "output_type": "execute_result"
    }
   ],
   "source": [
    "# Define the mRNA and protein variables\n",
    "m, p, = sympy.symbols('{\\mathbf{m}} {\\mathbf{p}}')\n",
    "x, y = sympy.symbols('{\\mathbf{x}} {\\mathbf{y}}')\n",
    "\n",
    "m**x, p**y"
   ]
  },
  {
   "cell_type": "markdown",
   "metadata": {},
   "source": [
    "Let's now define the right hand side of Eq. \\ref{master_moment}."
   ]
  },
  {
   "cell_type": "code",
   "execution_count": 4,
   "metadata": {},
   "outputs": [
    {
     "data": {
      "image/png": "[encoded data removed]",
      "text/latex": [
       "$$0 = {\\mathbf{K}} {\\mathbf{m}}^{{\\mathbf{x}}} {\\mathbf{p}}^{{\\mathbf{y}}} + {\\mathbf{R}_m} {\\mathbf{p}}^{{\\mathbf{y}}} \\left(- {\\mathbf{m}}^{{\\mathbf{x}}} + \\left({\\mathbf{m}} + 1\\right)^{{\\mathbf{x}}}\\right) + {\\mathbf{R}_p} {\\mathbf{m}}^{{\\mathbf{x}} + 1} \\left(- {\\mathbf{p}}^{{\\mathbf{y}}} + \\left({\\mathbf{p}} + 1\\right)^{{\\mathbf{y}}}\\right) + {\\mathbf{\\Gamma}_m} {\\mathbf{m}} {\\mathbf{p}}^{{\\mathbf{y}}} \\left(- {\\mathbf{m}}^{{\\mathbf{x}}} + \\left({\\mathbf{m}} - 1\\right)^{{\\mathbf{x}}}\\right) + {\\mathbf{\\Gamma}_p} {\\mathbf{m}}^{{\\mathbf{x}}} {\\mathbf{p}} \\left(- {\\mathbf{p}}^{{\\mathbf{y}}} + \\left({\\mathbf{p}} - 1\\right)^{{\\mathbf{y}}}\\right)$$"
      ],
      "text/plain": [
       "                             {\\mathbf{x}}             {\\mathbf{y}}            \n",
       "0 = {\\mathbf{K}}⋅{\\mathbf{m}}            ⋅{\\mathbf{p}}             + {\\mathbf{\n",
       "\n",
       "                  {\\mathbf{y}} ⎛              {\\mathbf{x}}                    \n",
       "R}_m}⋅{\\mathbf{p}}            ⋅⎝- {\\mathbf{m}}             + ({\\mathbf{m}} + 1\n",
       "\n",
       " {\\mathbf{x}}⎞                              {\\mathbf{x}} + 1 ⎛              {\\\n",
       ")            ⎠ + {\\mathbf{R}_p}⋅{\\mathbf{m}}                ⋅⎝- {\\mathbf{p}}  \n",
       "\n",
       "mathbf{y}}                     {\\mathbf{y}}⎞                                  \n",
       "           + ({\\mathbf{p}} + 1)            ⎠ + {\\mathbf{\\Gamma}_m}⋅{\\mathbf{m}\n",
       "\n",
       "              {\\mathbf{y}} ⎛              {\\mathbf{x}}                     {\\m\n",
       "}⋅{\\mathbf{p}}            ⋅⎝- {\\mathbf{m}}             + ({\\mathbf{m}} - 1)   \n",
       "\n",
       "athbf{x}}⎞                                   {\\mathbf{x}}              ⎛      \n",
       "         ⎠ + {\\mathbf{\\Gamma}_p}⋅{\\mathbf{m}}            ⋅{\\mathbf{p}}⋅⎝- {\\ma\n",
       "\n",
       "        {\\mathbf{y}}                     {\\mathbf{y}}⎞\n",
       "thbf{p}}             + ({\\mathbf{p}} - 1)            ⎠"
      ]
     },
     "execution_count": 4,
     "metadata": {},
     "output_type": "execute_result"
    }
   ],
   "source": [
    "# Defining the general master moment equation\n",
    "master_moment = Km * (m**x * p**y) +\\\n",
    "Rm * (p**y) * ((m + 1)**x - m**x) +\\\n",
    "Gm * (m * p**y) * ((m - 1)**x - m**x) +\\\n",
    "Rp * m**(x + 1) * ((p + 1)**y - p**y) +\\\n",
    "Gp * (m**x * p) * ((p - 1)**y - p**y)\n",
    "\n",
    "sympy.Eq(0, master_moment)"
   ]
  },
  {
   "cell_type": "markdown",
   "metadata": {},
   "source": [
    "Having defined this equation now all we need to do to obtain any moment equation is to substitute $\\bb{x}$ and $\\bb{y}$. As a sanity check let's look at some examples that we already know the answer. Let's look at the first mRNA moment."
   ]
  },
  {
   "cell_type": "code",
   "execution_count": 5,
   "metadata": {},
   "outputs": [
    {
     "data": {
      "image/png": "[encoded data removed]",
      "text/latex": [
       "$${\\mathbf{R}_m} + {\\mathbf{m}} \\left({\\mathbf{K}} - {\\mathbf{\\Gamma}_m}\\right)$$"
      ],
      "text/plain": [
       "{\\mathbf{R}_m} + {\\mathbf{m}}⋅({\\mathbf{K}} - {\\mathbf{\\Gamma}_m})"
      ]
     },
     "execution_count": 5,
     "metadata": {},
     "output_type": "execute_result"
    }
   ],
   "source": [
    "# Define the first mRNA moment <m> equation\n",
    "master_moment.subs([[x, 1], [y, 0]]).factor([m, p])"
   ]
  },
  {
   "cell_type": "markdown",
   "metadata": {},
   "source": [
    "The term with $\\Rm$ only is actually $\\Rm \\bb{m}^0$ which is exactly what one obtains when solving for this particular moment.\n",
    "\n",
    "Let's look now at the second protein moment."
   ]
  },
  {
   "cell_type": "code",
   "execution_count": 6,
   "metadata": {},
   "outputs": [
    {
     "data": {
      "image/png": "[encoded data removed]",
      "text/latex": [
       "$$2 {\\mathbf{R}_p} {\\mathbf{m}} {\\mathbf{p}} + {\\mathbf{R}_p} {\\mathbf{m}} + {\\mathbf{\\Gamma}_p} {\\mathbf{p}} + {\\mathbf{p}}^{2} \\left({\\mathbf{K}} - 2 {\\mathbf{\\Gamma}_p}\\right)$$"
      ],
      "text/plain": [
       "                                                                              \n",
       "2⋅{\\mathbf{R}_p}⋅{\\mathbf{m}}⋅{\\mathbf{p}} + {\\mathbf{R}_p}⋅{\\mathbf{m}} + {\\m\n",
       "\n",
       "                                            2                                 \n",
       "athbf{\\Gamma}_p}⋅{\\mathbf{p}} + {\\mathbf{p}} ⋅({\\mathbf{K}} - 2⋅{\\mathbf{\\Gamm\n",
       "\n",
       "      \n",
       "a}_p})"
      ]
     },
     "execution_count": 6,
     "metadata": {},
     "output_type": "execute_result"
    }
   ],
   "source": [
    "master_moment.subs([[x, 0], [y, 2]]).factor([m, p])"
   ]
  },
  {
   "cell_type": "markdown",
   "metadata": {},
   "source": [
    "This is again the answer one gets performing the calculation specifically for this moment."
   ]
  },
  {
   "cell_type": "markdown",
   "metadata": {},
   "source": [
    "### Extract coefficients of moment polynomial equation."
   ]
  },
  {
   "cell_type": "markdown",
   "metadata": {},
   "source": [
    "Let's now define a function that given an expression for a moment it returns a dictionary with all the coefficients of each of the elements in the equation. For example for the previous example of the second protein moment it should return something of the form\n",
    "$$\n",
    "\\{\n",
    "\\bb{p}^2 : (\\Km - 2\\Gm), \\;\\;\n",
    "\\bb{p} : \\Gp, \\;\\;\n",
    "\\bb{mp} : 2\\Rp, \\;\\;\n",
    "\\bb{m} : \\Rp\n",
    "\\}\n",
    "$$\n",
    "\n",
    "This will be useful for when we substitute the matrices and vectors to solve the linear system."
   ]
  },
  {
   "cell_type": "code",
   "execution_count": 18,
   "metadata": {},
   "outputs": [],
   "source": [
    "def coeff_dictionary(eq):\n",
    "    '''\n",
    "    Returns a dictionary with each of the coefficients for a given eqent\n",
    "    equation.\n",
    "\n",
    "    Parameter\n",
    "    ---------\n",
    "    eq : sympy expression.\n",
    "        Sympy expression for the eqent equation\n",
    "\n",
    "    Returns\n",
    "    -------\n",
    "    coeff_dict : dictionary.\n",
    "        Dictionary containing all the coefficients of each of the elements\n",
    "        in the polynomial eqent equation\n",
    "    '''\n",
    "    # Find the degree of the eqent for each of the variables\n",
    "    if eq.has(m):\n",
    "        m_degree = sympy.Poly(eq).degree(m)\n",
    "    else:\n",
    "        m_degree = 0\n",
    "    if eq.has(p):\n",
    "        p_degree = sympy.Poly(eq).degree(p)\n",
    "    else:\n",
    "        p_degree = 0\n",
    "    \n",
    "    return {m**x * p**y: eq.coeff(m**x * p**y).\\\n",
    "            subs([[m, 0], [p, 0]])\n",
    "            for x in range(m_degree + 1)\n",
    "            for y in range(p_degree + 1)}"
   ]
  },
  {
   "cell_type": "markdown",
   "metadata": {},
   "source": [
    "Let's test the function."
   ]
  },
  {
   "cell_type": "code",
   "execution_count": 8,
   "metadata": {},
   "outputs": [
    {
     "data": {
      "image/png": "[encoded data removed]",
      "text/latex": [
       "$$\\left \\{ 1 : 0, \\quad {\\mathbf{m}} : {\\mathbf{R}_p}, \\quad {\\mathbf{p}} : {\\mathbf{\\Gamma}_p}, \\quad {\\mathbf{p}}^{2} : {\\mathbf{K}} - 2 {\\mathbf{\\Gamma}_p}, \\quad {\\mathbf{m}} {\\mathbf{p}} : 2 {\\mathbf{R}_p}, \\quad {\\mathbf{m}} {\\mathbf{p}}^{2} : 0\\right \\}$$"
      ],
      "text/plain": [
       "⎧                                                                             \n",
       "⎨1: 0, {\\mathbf{m}}: {\\mathbf{R}_p}, {\\mathbf{p}}: {\\mathbf{\\Gamma}_p}, {\\math\n",
       "⎩                                                                             \n",
       "\n",
       "      2                                                                       \n",
       "bf{p}} : {\\mathbf{K}} - 2⋅{\\mathbf{\\Gamma}_p}, {\\mathbf{m}}⋅{\\mathbf{p}}: 2⋅{\\\n",
       "                                                                              \n",
       "\n",
       "                                       2   ⎫\n",
       "mathbf{R}_p}, {\\mathbf{m}}⋅{\\mathbf{p}} : 0⎬\n",
       "                                           ⎭"
      ]
     },
     "execution_count": 8,
     "metadata": {},
     "output_type": "execute_result"
    }
   ],
   "source": [
    "p2_dict = coeff_dictionary(master_moment.subs([[x, 0], [y, 2]]).factor([m, p]))\n",
    "p2_dict"
   ]
  },
  {
   "cell_type": "markdown",
   "metadata": {},
   "source": [
    "### Build system of equations"
   ]
  },
  {
   "cell_type": "markdown",
   "metadata": {},
   "source": [
    "From the dictionary of coefficients we can build the augmented matrix that `sympy` uses to solve linear systems. All we need is to define the matrices $\\Km$, $\\Rm$, $\\Gm$, $\\Rp$, and $\\Gp$ in terms of their components and vectors for each of the moments.\n",
    "\n",
    "Let's first define the variables that go into the matrices."
   ]
  },
  {
   "cell_type": "code",
   "execution_count": 9,
   "metadata": {},
   "outputs": [
    {
     "data": {
      "image/png": "[encoded data removed]",
      "text/latex": [
       "$$\\left ( {k_{off}^{(p)}}, \\quad {k_{on}^{(p)}}, \\quad {k_{off}^{(r)}}, \\quad {k_{on}^{(r)}}, \\quad r_{m}, \\quad \\gamma_{m}, \\quad r_{p}, \\quad \\gamma_{p}\\right )$$"
      ],
      "text/plain": [
       "({k_{off}__{(p)}}, {k_{on}__{(p)}}, {k_{off}__{(r)}}, {k_{on}__{(r)}}, rₘ, γₘ,\n",
       " rₚ, γₚ)"
      ]
     },
     "execution_count": 9,
     "metadata": {},
     "output_type": "execute_result"
    }
   ],
   "source": [
    "# Define rate constant variables\n",
    "kp_off, kp_on = sympy.symbols('{k_{off}^{(p)}} {k_{on}^{(p)}}')\n",
    "kr_off, kr_on = sympy.symbols('{k_{off}^{(r)}} {k_{on}^{(r)}}')\n",
    "\n",
    "# Define degradation rate and production rate\n",
    "rm, gm = sympy.symbols('r_m gamma_m')\n",
    "rp, gp = sympy.symbols('r_p gamma_p')\n",
    "\n",
    "kp_off, kp_on, kr_off, kr_on, rm, gm, rp, gp"
   ]
  },
  {
   "cell_type": "markdown",
   "metadata": {},
   "source": [
    "Now let's define a function that given a list of states and a moment of the form $\\bb{m^x p^y}$ (as the keys from the dictionary that contains the equation coefficients) it generates an array with the individual moments. For example if the function receives $\\bb{m^2 p}$ with three states $\\{E, P, R \\}$ it returns sympy variables of the form\n",
    "$$\n",
    "\\ee{m^2 p}_E, \\ee{m^2 p}_P, \\ee{m^2 p}_R\n",
    "$$"
   ]
  },
  {
   "cell_type": "code",
   "execution_count": 15,
   "metadata": {},
   "outputs": [
    {
     "data": {
      "image/png": "[encoded data removed]",
      "text/latex": [
       "$$\\left ( m, \\quad p\\right )$$"
      ],
      "text/plain": [
       "(m, p)"
      ]
     },
     "execution_count": 15,
     "metadata": {},
     "output_type": "execute_result"
    }
   ],
   "source": [
    "# Define non-bold variables for m and p\n",
    "mm, pp = sympy.symbols('m p')\n",
    "mm, pp"
   ]
  },
  {
   "cell_type": "code",
   "execution_count": 19,
   "metadata": {},
   "outputs": [],
   "source": [
    "def moment_dict(moments, states=['E', 'P', 'R']):\n",
    "    '''\n",
    "    Function that generates automatically sympy variables for a given moment\n",
    "    one for each of the specified states.\n",
    "    \n",
    "    Parameters\n",
    "    ----------\n",
    "    moments : list.\n",
    "        List of sympy variables of the form m**x * p**y for which to \n",
    "        generate the moment variables.\n",
    "    states : array-like.\n",
    "        List containing strings that define each of the states for which\n",
    "        to define the moment variables.\n",
    "        \n",
    "    Returns\n",
    "    -------\n",
    "    moments_dict : dictionary.\n",
    "        dictionary containing all new defined variables associated with each\n",
    "        moment.\n",
    "    '''\n",
    "    # Initialize dictionary to save the variables\n",
    "    moments_dict = dict()\n",
    "    \n",
    "    # Loop through each of the moments adding the variables to the dictionary\n",
    "    for mom in moments:\n",
    "        # Process non-zero moments\n",
    "        if mom != 1:\n",
    "            # Find the degree of the moment for each of the variables\n",
    "            if mom.has(m):\n",
    "                m_degree = sympy.Poly(mom).degree(m)\n",
    "            else:\n",
    "                m_degree = 0\n",
    "            if mom.has(p):\n",
    "                p_degree = sympy.Poly(mom).degree(p)\n",
    "            else:\n",
    "                p_degree = 0\n",
    "\n",
    "            # Initialize list to save variables\n",
    "            mom_var = list()\n",
    "\n",
    "            # Loop through states to generate the variables\n",
    "            for s in states:\n",
    "                mom_var.append(sympy.Symbol('{\\\\langle ' +\n",
    "                               sympy.latex(mm**m_degree * pp**p_degree) +\n",
    "                                            '\\\\rangle}_' + s))\n",
    "        else:\n",
    "            # Initialize list to save variables\n",
    "            mom_var = list()\n",
    "            \n",
    "            # Loop through states to generate the variables\n",
    "            for s in states:\n",
    "                mom_var.append(sympy.Symbol('{\\\\langle m^0 p^0' +\n",
    "                                            '\\\\rangle}_' + s))\n",
    "        # Append variables to dictionary\n",
    "        moments_dict[mom] = mom_var\n",
    "        \n",
    "    return moments_dict"
   ]
  },
  {
   "cell_type": "markdown",
   "metadata": {},
   "source": [
    "Let's generate a dictionary for the variables in the protein second moment dictionary we saved earlier."
   ]
  },
  {
   "cell_type": "code",
   "execution_count": 12,
   "metadata": {},
   "outputs": [
    {
     "data": {
      "image/png": "[encoded data removed]",
      "text/latex": [
       "$$\\left \\{ 1 : \\left [ {\\langle m^0 p^0\\rangle}_E, \\quad {\\langle m^0 p^0\\rangle}_P, \\quad {\\langle m^0 p^0\\rangle}_R\\right ], \\quad {\\mathbf{m}} : \\left [ {\\langle m\\rangle}_E, \\quad {\\langle m\\rangle}_P, \\quad {\\langle m\\rangle}_R\\right ], \\quad {\\mathbf{p}} : \\left [ {\\langle p\\rangle}_E, \\quad {\\langle p\\rangle}_P, \\quad {\\langle p\\rangle}_R\\right ], \\quad {\\mathbf{p}}^{2} : \\left [ {\\langle p^{2}\\rangle}_E, \\quad {\\langle p^{2}\\rangle}_P, \\quad {\\langle p^{2}\\rangle}_R\\right ], \\quad {\\mathbf{m}} {\\mathbf{p}} : \\left [ {\\langle m p\\rangle}_E, \\quad {\\langle m p\\rangle}_P, \\quad {\\langle m p\\rangle}_R\\right ], \\quad {\\mathbf{m}} {\\mathbf{p}}^{2} : \\left [ {\\langle m p^{2}\\rangle}_E, \\quad {\\langle m p^{2}\\rangle}_P, \\quad {\\langle m p^{2}\\rangle}_R\\right ]\\right \\}$$"
      ],
      "text/plain": [
       "⎧                                                                             \n",
       "⎨1: [{\\langle m_E__0 p__0\\rangle}, {\\langle m_P__0 p__0\\rangle}, {\\langle m_R_\n",
       "⎩                                                                             \n",
       "\n",
       "                                                                              \n",
       "_0 p__0\\rangle}], {\\mathbf{m}}: [{\\langle m\\rangle}_E, {\\langle m\\rangle}_P, {\n",
       "                                                                              \n",
       "\n",
       "                                                                              \n",
       "\\langle m\\rangle}_R], {\\mathbf{p}}: [{\\langle p\\rangle}_E, {\\langle p\\rangle}_\n",
       "                                                                              \n",
       "\n",
       "                                      2                                       \n",
       "P, {\\langle p\\rangle}_R], {\\mathbf{p}} : [{\\langle p_E__{2}\\rangle}, {\\langle \n",
       "                                                                              \n",
       "\n",
       "                                                                              \n",
       "p_P__{2}\\rangle}, {\\langle p_R__{2}\\rangle}], {\\mathbf{m}}⋅{\\mathbf{p}}: [{\\la\n",
       "                                                                              \n",
       "\n",
       "                                                                              \n",
       "ngle m p\\rangle}_E, {\\langle m p\\rangle}_P, {\\langle m p\\rangle}_R], {\\mathbf{\n",
       "                                                                              \n",
       "\n",
       "                2                                                             \n",
       "m}}⋅{\\mathbf{p}} : [{\\langle m p_E__{2}\\rangle}, {\\langle m p_P__{2}\\rangle}, \n",
       "                                                                              \n",
       "\n",
       "                            ⎫\n",
       "{\\langle m p_R__{2}\\rangle}]⎬\n",
       "                            ⎭"
      ]
     },
     "execution_count": 12,
     "metadata": {},
     "output_type": "execute_result"
    }
   ],
   "source": [
    "# Extract keys from the p2_dict\n",
    "p2_keys = [key for key, val in p2_dict.items()]\n",
    "\n",
    "# Generate dictionary with variables for each variable in dictionary\n",
    "p2_var_dict = moment_dict(p2_keys)\n",
    "\n",
    "p2_var_dict"
   ]
  },
  {
   "cell_type": "markdown",
   "metadata": {},
   "source": [
    "#### Testing system with unregulated promoter."
   ]
  },
  {
   "cell_type": "markdown",
   "metadata": {},
   "source": [
    "We now have everything in place to try to solve for moments. As an example case let's try to find the first mRNA moment for the **unregualted promoter**. For this we need first to define the matrices for this case."
   ]
  },
  {
   "cell_type": "code",
   "execution_count": 18,
   "metadata": {},
   "outputs": [
    {
     "data": {
      "image/png": "[encoded data removed]",
      "text/latex": [
       "$$\\left ( \\left[\\begin{matrix}- {k_{off}^{(p)}} & {k_{on}^{(p)}}\\\\{k_{off}^{(p)}} & - {k_{on}^{(p)}}\\end{matrix}\\right], \\quad \\left[\\begin{matrix}r_{m} & 0\\\\0 & 0\\end{matrix}\\right], \\quad \\left[\\begin{matrix}\\gamma_{m} & 0\\\\0 & \\gamma_{m}\\end{matrix}\\right], \\quad \\left[\\begin{matrix}r_{p} & 0\\\\0 & r_{p}\\end{matrix}\\right], \\quad \\left[\\begin{matrix}\\gamma_{p} & 0\\\\0 & \\gamma_{p}\\end{matrix}\\right]\\right )$$"
      ],
      "text/plain": [
       "⎛⎡-{k_{off}__{(p)}}  {k_{on}__{(p)}} ⎤  ⎡rₘ  0⎤  ⎡γₘ  0 ⎤  ⎡rₚ  0 ⎤  ⎡γₚ  0 ⎤⎞\n",
       "⎜⎢                                   ⎥, ⎢     ⎥, ⎢      ⎥, ⎢      ⎥, ⎢      ⎥⎟\n",
       "⎝⎣{k_{off}__{(p)}}   -{k_{on}__{(p)}}⎦  ⎣0   0⎦  ⎣0   γₘ⎦  ⎣0   rₚ⎦  ⎣0   γₚ⎦⎠"
      ]
     },
     "execution_count": 18,
     "metadata": {},
     "output_type": "execute_result"
    }
   ],
   "source": [
    "# Define the rate constant matrix\n",
    "Km_unreg = sympy.Matrix([[-kp_off, kp_on], \n",
    "                           [kp_off, -kp_on]])\n",
    "# Define the mRNA production matrix\n",
    "Rm_unreg = sympy.Matrix([[rm, 0], \n",
    "                         [0, 0]])\n",
    "# Define the mRNA degradation matrix\n",
    "Gm_unreg = sympy.Matrix([[gm, 0],\n",
    "                         [0, gm]])\n",
    "\n",
    "# Define the protein production matrix\n",
    "Rp_unreg = sympy.Matrix([[rp, 0], \n",
    "                         [0, rp]])\n",
    "# Define the protein degradation matrix\n",
    "Gp_unreg = sympy.Matrix([[gp, 0],\n",
    "                         [0, gp]])\n",
    "\n",
    "\n",
    "Km_unreg, Rm_unreg, Gm_unreg, Rp_unreg, Gp_unreg"
   ]
  },
  {
   "cell_type": "markdown",
   "metadata": {},
   "source": [
    "Now let's find the general equation for this first moment."
   ]
  },
  {
   "cell_type": "code",
   "execution_count": 21,
   "metadata": {},
   "outputs": [
    {
     "data": {
      "image/png": "[encoded data removed]",
      "text/latex": [
       "$$0 = {\\mathbf{R}_m} + {\\mathbf{m}} \\left({\\mathbf{K}} - {\\mathbf{\\Gamma}_m}\\right)$$"
      ],
      "text/plain": [
       "0 = {\\mathbf{R}_m} + {\\mathbf{m}}⋅({\\mathbf{K}} - {\\mathbf{\\Gamma}_m})"
      ]
     },
     "execution_count": 21,
     "metadata": {},
     "output_type": "execute_result"
    }
   ],
   "source": [
    "# Find the equation for the first moment.\n",
    "m1_eq = master_moment.subs([[x, 1], [y, 0]]).factor([m, p])\n",
    "\n",
    "sympy.Eq(0, m1_eq)"
   ]
  },
  {
   "cell_type": "markdown",
   "metadata": {},
   "source": [
    "Next we extract the coefficients of this equation."
   ]
  },
  {
   "cell_type": "code",
   "execution_count": 22,
   "metadata": {},
   "outputs": [
    {
     "data": {
      "image/png": "[encoded data removed]",
      "text/latex": [
       "$$\\left \\{ 1 : {\\mathbf{R}_m}, \\quad {\\mathbf{m}} : {\\mathbf{K}} - {\\mathbf{\\Gamma}_m}\\right \\}$$"
      ],
      "text/plain": [
       "{1: {\\mathbf{R}_m}, {\\mathbf{m}}: {\\mathbf{K}} - {\\mathbf{\\Gamma}_m}}"
      ]
     },
     "execution_count": 22,
     "metadata": {},
     "output_type": "execute_result"
    }
   ],
   "source": [
    "# Extract coefficients from equation\n",
    "m1_coeff_dict = coeff_dictionary(m1_eq)\n",
    "\n",
    "m1_coeff_dict"
   ]
  },
  {
   "cell_type": "markdown",
   "metadata": {},
   "source": [
    "Now we define the moment variables for this system"
   ]
  },
  {
   "cell_type": "code",
   "execution_count": 23,
   "metadata": {},
   "outputs": [
    {
     "data": {
      "image/png": "[encoded data removed]",
      "text/latex": [
       "$$\\left \\{ 1 : \\left [ {\\langle m^0 p^0\\rangle}_P, \\quad {\\langle m^0 p^0\\rangle}_E\\right ], \\quad {\\mathbf{m}} : \\left [ {\\langle m\\rangle}_P, \\quad {\\langle m\\rangle}_E\\right ]\\right \\}$$"
      ],
      "text/plain": [
       "{1: [{\\langle m_P__0 p__0\\rangle}, {\\langle m_E__0 p__0\\rangle}], {\\mathbf{m}}\n",
       ": [{\\langle m\\rangle}_P, {\\langle m\\rangle}_E]}"
      ]
     },
     "execution_count": 23,
     "metadata": {},
     "output_type": "execute_result"
    }
   ],
   "source": [
    "# Extract keys from dictionary\n",
    "m1_keys = [key for key, value in m1_coeff_dict.items()]\n",
    "\n",
    "# Generate variables for each of the moments\n",
    "m1_var_dict = moment_dict(m1_keys, states=['P', 'E'])\n",
    "\n",
    "m1_var_dict"
   ]
  },
  {
   "cell_type": "markdown",
   "metadata": {},
   "source": [
    "We now define the augmented matrix to solve the linear system.\n",
    "\n",
    "**NOTE:** on `sympy` getting to substitute a term like $(\\Km - \\Gm)$ with the corresponding matrices and then actually doing the subtraction is very convoluted. If you want to reproduce this make sure you follow the instructions."
   ]
  },
  {
   "cell_type": "markdown",
   "metadata": {},
   "source": [
    "First to simplify things let's generate a dictionary that instead of having the coefficients as `m1_coeff_dict` it has the substituted matrices."
   ]
  },
  {
   "cell_type": "code",
   "execution_count": 24,
   "metadata": {},
   "outputs": [
    {
     "data": {
      "image/png": "[encoded data removed]",
      "text/latex": [
       "$$\\left \\{ 1 : \\left[\\begin{matrix}r_{m} & 0\\\\0 & 0\\end{matrix}\\right], \\quad {\\mathbf{m}} : \\left[\\begin{matrix}- \\gamma_{m} - {k_{off}^{(p)}} & {k_{on}^{(p)}}\\\\{k_{off}^{(p)}} & - \\gamma_{m} - {k_{on}^{(p)}}\\end{matrix}\\right]\\right \\}$$"
      ],
      "text/plain": [
       "⎧   ⎡rₘ  0⎤                ⎡-γₘ - {k_{off}__{(p)}}     {k_{on}__{(p)}}   ⎤⎫\n",
       "⎨1: ⎢     ⎥, {\\mathbf{m}}: ⎢                                             ⎥⎬\n",
       "⎩   ⎣0   0⎦                ⎣   {k_{off}__{(p)}}     -γₘ - {k_{on}__{(p)}}⎦⎭"
      ]
     },
     "execution_count": 24,
     "metadata": {},
     "output_type": "execute_result"
    }
   ],
   "source": [
    "# Initialize dictionary to save the matrices\n",
    "m1_mat_dict = dict()\n",
    "\n",
    "\n",
    "tmp_list = list()\n",
    "# Loop through each of the coefficients and compute the operation\n",
    "# NOTE: It is quite tricky to get it to work on sympy\n",
    "for key, value in m1_coeff_dict.items():\n",
    "    # Extract arguments for the item\n",
    "    args = value.args\n",
    "    # Find if any of the arguments is a number\n",
    "    \n",
    "    # Check each of the possible cases\n",
    "    # 1. args is empty and value is zero : \n",
    "    # That is a term of the form {key : 0}\n",
    "    # Generate a matrix of zeros\n",
    "    if (len(args) == 0) & (value == 0):\n",
    "        m1_mat_dict[key] = sympy.zeros(*Km_unreg.shape)\n",
    "   \n",
    "    # 2. args is empty and value is not zero :\n",
    "    # That is the case where the term is a single matrix\n",
    "    # Substitute that value with the actual definition of the matrix\n",
    "    elif (len(args) == 0) & (value != 0):\n",
    "        m1_mat_dict[key] = value.subs([[Km, Km_unreg],\n",
    "                                       [Rm, Rm_unreg],\n",
    "                                       [Gm, Gm_unreg],\n",
    "                                       [Rp, Rp_unreg],\n",
    "                                       [Gp, Gp_unreg]])\n",
    "\n",
    "    # 3. args is not empty but one of the terms is an integer :\n",
    "    # That is the case where we have Number * Matrix.\n",
    "    # substitute the matrix and multiply it by the number\n",
    "    elif (len(args) != 0) & (any([x.is_Number for x in args])):\n",
    "        # Substitute value\n",
    "        term_list = [x.subs([[Km, Km_unreg],\n",
    "                             [Rm, Rm_unreg],\n",
    "                             [Gm, Gm_unreg],\n",
    "                             [Rp, Rp_unreg],\n",
    "                             [Gp, Gp_unreg]]) for x in value.args]\n",
    "        # Multiply matrix by constant and register case\n",
    "        m1_mat_dict[key] = np.prod(term_list)\n",
    "    \n",
    "    # 4. args is not empty and non of the elements is an integer :\n",
    "    # Substitute matrices and reduce to single matrix.\n",
    "    else:\n",
    "        term_list = [x.subs([[Km, Km_unreg],\n",
    "                             [Rm, Rm_unreg],\n",
    "                             [Gm, Gm_unreg],\n",
    "                             [Rp, Rp_unreg],\n",
    "                             [Gp, Gp_unreg]]) for x in value.args]\n",
    "\n",
    "        # Perform a second round of checking. Elements that have for example\n",
    "        # Number * Matrix are not explicitly multiplied. For this we will use\n",
    "        # np.prod by splitting the terms again into its arguments and\n",
    "        # multiplying the the arguments\n",
    "        for i, term in enumerate(term_list):\n",
    "            if len(term.args) == 2:\n",
    "                term_list[i] = np.prod(term.args)\n",
    "\n",
    "        # Add the matrices. In order to do so:\n",
    "        # the sum function has an optional \"start\" argument so you can \n",
    "        # initialize it with a \"zero object\" of the kind you are adding. \n",
    "        # In this case, with a zero matrix.\n",
    "        m1_mat_dict[key] = sum(term_list, sympy.zeros(*Km_unreg.shape))\n",
    "\n",
    "m1_mat_dict"
   ]
  },
  {
   "cell_type": "markdown",
   "metadata": {},
   "source": [
    "After that convoluted substitution we have everything that we need for building the augmented matrix."
   ]
  },
  {
   "cell_type": "code",
   "execution_count": 25,
   "metadata": {},
   "outputs": [
    {
     "data": {
      "image/png": "[encoded data removed]",
      "text/latex": [
       "$$\\left[\\begin{matrix}- \\gamma_{m} - {k_{off}^{(p)}} & {k_{on}^{(p)}} & - r_{m} {\\langle m^0 p^0\\rangle}_P\\\\{k_{off}^{(p)}} & - \\gamma_{m} - {k_{on}^{(p)}} & 0\\end{matrix}\\right]$$"
      ],
      "text/plain": [
       "⎡-γₘ - {k_{off}__{(p)}}     {k_{on}__{(p)}}     -rₘ⋅{\\langle m_P__0 p__0\\rangl\n",
       "⎢                                                                             \n",
       "⎣   {k_{off}__{(p)}}     -γₘ - {k_{on}__{(p)}}                 0              \n",
       "\n",
       "e}⎤\n",
       "  ⎥\n",
       "  ⎦"
      ]
     },
     "execution_count": 25,
     "metadata": {},
     "output_type": "execute_result"
    }
   ],
   "source": [
    "moment = m\n",
    "# Find the keys for the elements that are not the element we are computing\n",
    "m1_right_keys = [key for key, value in m1_mat_dict.items() if key != moment]\n",
    "\n",
    "# Initialize matrix that will be added to the right hand side\n",
    "m1_right_hand = sympy.zeros(2, 1)\n",
    "\n",
    "# Loop through each of the keys and add to this matrix\n",
    "for key in m1_right_keys:\n",
    "    m1_right_hand = m1_right_hand + m1_mat_dict[key] *\\\n",
    "                                    sympy.Matrix(m1_var_dict[key])\n",
    "\n",
    "# add columns on the right hand side of minus the rest of the elements\n",
    "m1_aug_mat = m1_mat_dict[moment].col_insert(2, - m1_right_hand)\n",
    "m1_aug_mat"
   ]
  },
  {
   "cell_type": "markdown",
   "metadata": {},
   "source": [
    "Solve the linear system to obtain the first moment!"
   ]
  },
  {
   "cell_type": "code",
   "execution_count": 26,
   "metadata": {},
   "outputs": [
    {
     "data": {
      "image/png": "[encoded data removed]",
      "text/latex": [
       "$$\\left \\{ {\\langle m\\rangle}_E : \\frac{r_{m} {\\langle m^0 p^0\\rangle}_P {k_{off}^{(p)}}}{\\gamma_{m} \\left(\\gamma_{m} + {k_{off}^{(p)}} + {k_{on}^{(p)}}\\right)}, \\quad {\\langle m\\rangle}_P : \\frac{r_{m} {\\langle m^0 p^0\\rangle}_P \\left(\\gamma_{m} + {k_{on}^{(p)}}\\right)}{\\gamma_{m} \\left(\\gamma_{m} + {k_{off}^{(p)}} + {k_{on}^{(p)}}\\right)}\\right \\}$$"
      ],
      "text/plain": [
       "⎧                      rₘ⋅{\\langle m_P__0 p__0\\rangle}⋅{k_{off}__{(p)}}       \n",
       "⎨{\\langle m\\rangle}_E: ────────────────────────────────────────────────, {\\lan\n",
       "⎩                        γₘ⋅(γₘ + {k_{off}__{(p)}} + {k_{on}__{(p)}})         \n",
       "\n",
       "                 rₘ⋅{\\langle m_P__0 p__0\\rangle}⋅(γₘ + {k_{on}__{(p)}})⎫\n",
       "gle m\\rangle}_P: ──────────────────────────────────────────────────────⎬\n",
       "                      γₘ⋅(γₘ + {k_{off}__{(p)}} + {k_{on}__{(p)}})     ⎭"
      ]
     },
     "execution_count": 26,
     "metadata": {},
     "output_type": "execute_result"
    }
   ],
   "source": [
    "# Solve linear system for the three moments\n",
    "m1_unreg_dict = sympy.solve_linear_system(m1_aug_mat, *m1_var_dict[m])\n",
    "m1_unreg_dict"
   ]
  },
  {
   "cell_type": "markdown",
   "metadata": {},
   "source": [
    "Now we compute the sum of each of the elements to get the global first moment $\\ee{m}$"
   ]
  },
  {
   "cell_type": "code",
   "execution_count": 27,
   "metadata": {},
   "outputs": [
    {
     "data": {
      "image/png": "[encoded data removed]",
      "text/latex": [
       "$$\\frac{r_{m}}{\\gamma_{m}} {\\langle m^0 p^0\\rangle}_P$$"
      ],
      "text/plain": [
       "rₘ⋅{\\langle m_P__0 p__0\\rangle}\n",
       "───────────────────────────────\n",
       "               γₘ              "
      ]
     },
     "execution_count": 27,
     "metadata": {},
     "output_type": "execute_result"
    }
   ],
   "source": [
    "m1_unreg = sum(m1_unreg_dict.values()).simplify()\n",
    "m1_unreg"
   ]
  },
  {
   "cell_type": "markdown",
   "metadata": {},
   "source": [
    "This is exactly the expected solution! It seems that the method is working."
   ]
  },
  {
   "cell_type": "markdown",
   "metadata": {},
   "source": [
    "#### Defining a function for this computation."
   ]
  },
  {
   "cell_type": "markdown",
   "metadata": {},
   "source": [
    "Given the long list of steps in this process let's define a function that given a moment $\\ee{m^x p^y}$ goes through the entire process of solving the linear system."
   ]
  },
  {
   "cell_type": "markdown",
   "metadata": {},
   "source": [
    "First we define a function that given a dictionary containing all the coefficients for each of the moments it performs the appropriate substitutions and returns a dictionary containing the evaluated matrices. This is a little tricky to do with `sympy` and the function has to go through each of the possible scenarios of the form:\n",
    "1. {moment : $0$}\n",
    "2. {moment : $\\bb{A}$} with $\\bb{A}$ one of the matrices from the CME\n",
    "3. {moment : $N \\bb{A}$} with $N \\in \\mathbb{Z}$\n",
    "4. {moment : $(N \\bb{A} \\pm N' \\bb{B})$ with $\\bb{A}$ and $\\bb{B}$ being matrices and $N, N' \\in \\mathbb{Z}$"
   ]
  },
  {
   "cell_type": "code",
   "execution_count": 28,
   "metadata": {},
   "outputs": [],
   "source": [
    "def coeff_subs(coeff_dict, Km_mat, Rm_mat, Gm_mat, Rp_mat, Gp_mat):\n",
    "    '''\n",
    "\n",
    "    Parameters\n",
    "    ----------\n",
    "    coeff_dict : dictionary.\n",
    "        Dictionary containing all the coefficients associated with each of the\n",
    "        moments in the moment equation.\n",
    "    Km_mat, Rm_mat, Gm_mat, Rp_mat, Gp_mat: 2D sympy matrices.\n",
    "        Sympy matrices that define the master equation.\n",
    "        Km_mat : transition between states\n",
    "        Rm_mat : mRNA produciton\n",
    "        Gm_mat : mRNA degradation\n",
    "        Rp_mat : protein production\n",
    "        Gp_mat : protein degradation\n",
    "\n",
    "    Returns\n",
    "    -------\n",
    "    mom_mat_dict : dictionary.\n",
    "        Dictionary containing each of the substitutted coefficients into matrices\n",
    "    '''\n",
    "    # Initialize dictionary to save the matrices\n",
    "    mom_mat_dict = dict()\n",
    "\n",
    "    # Loop through each of the coefficients and compute the operation\n",
    "    # NOTE: It is quite tricky to get it to work on sympy\n",
    "    for key, value in coeff_dict.items():\n",
    "        # Extract arguments for the item\n",
    "        args = value.args\n",
    "\n",
    "        # Check each of the possible cases\n",
    "\n",
    "        # 1. args is empty and value is zero :\n",
    "        # That is a term of the form {key : 0}\n",
    "        # Generate a matrix of zeros\n",
    "        if (len(args) == 0) & (value == 0):\n",
    "            mom_mat_dict[key] = sympy.zeros(*Km_mat.shape)\n",
    "\n",
    "        # 2. args is empty and value is not zero :\n",
    "        # That is the case where the term is a single matrix\n",
    "        # Substitute that value with the actual definition of the matrix\n",
    "        elif (len(args) == 0) & (value != 0):\n",
    "            mom_mat_dict[key] = value.subs([[Km, Km_mat],\n",
    "                                            [Rm, Rm_mat],\n",
    "                                            [Gm, Gm_mat],\n",
    "                                            [Rp, Rp_mat],\n",
    "                                            [Gp, Gp_mat]])\n",
    "\n",
    "        # 3. args is not empty but one of the terms is an integer :\n",
    "        # That is the case where we have Number * Matrix.\n",
    "        # substitute the matrix and multiply it by the number\n",
    "        elif (len(args) != 0) & (any([x.is_Number for x in args])):\n",
    "            # Substitute value\n",
    "            term_list = [x.subs([[Km, Km_mat],\n",
    "                                 [Rm, Rm_mat],\n",
    "                                 [Gm, Gm_mat],\n",
    "                                 [Rp, Rp_mat],\n",
    "                                 [Gp, Gp_mat]]) for x in value.args]\n",
    "            # Multiply matrix by constant and register case\n",
    "            mom_mat_dict[key] = np.prod(term_list)\n",
    "\n",
    "        # 4. args is not empty and non of the elements is an integer :\n",
    "        # Substitute matrices and reduce to single matrix.\n",
    "        else:\n",
    "            term_list = [x.subs([[Km, Km_mat],\n",
    "                                 [Rm, Rm_mat],\n",
    "                                 [Gm, Gm_mat],\n",
    "                                 [Rp, Rp_mat],\n",
    "                                 [Gp, Gp_mat]]) for x in value.args]\n",
    "\n",
    "            # Perform a second round of checking. Elements that have for example\n",
    "            # Number * Matrix are not explicitly multiplied. For this we will use\n",
    "            # np.prod by splitting the terms again into its arguments and\n",
    "            # multiplying the the arguments\n",
    "            for i, term in enumerate(term_list):\n",
    "                if len(term.args) == 2:\n",
    "                    term_list[i] = np.prod(term.args)\n",
    "\n",
    "            # Add the matrices. In order to do so:\n",
    "            # the sum function has an optional \"start\" argument so you can\n",
    "            # initialize it with a \"zero object\" of the kind you are adding.\n",
    "            # In this case, with a zero matrix.\n",
    "            mom_mat_dict[key] = sum(term_list, sympy.zeros(*Km_mat.shape))\n",
    "            \n",
    "    return mom_mat_dict"
   ]
  },
  {
   "cell_type": "markdown",
   "metadata": {},
   "source": [
    "Let's test the function generating the dictionary associated with the protein second moment."
   ]
  },
  {
   "cell_type": "code",
   "execution_count": 29,
   "metadata": {},
   "outputs": [
    {
     "data": {
      "image/png": "[encoded data removed]",
      "text/latex": [
       "$$\\left \\{ 1 : \\left[\\begin{matrix}0 & 0\\\\0 & 0\\end{matrix}\\right], \\quad {\\mathbf{m}} : \\left[\\begin{matrix}r_{p} & 0\\\\0 & r_{p}\\end{matrix}\\right], \\quad {\\mathbf{p}} : \\left[\\begin{matrix}\\gamma_{p} & 0\\\\0 & \\gamma_{p}\\end{matrix}\\right], \\quad {\\mathbf{p}}^{2} : \\left[\\begin{matrix}- 2 \\gamma_{p} - {k_{off}^{(p)}} & {k_{on}^{(p)}}\\\\{k_{off}^{(p)}} & - 2 \\gamma_{p} - {k_{on}^{(p)}}\\end{matrix}\\right], \\quad {\\mathbf{m}} {\\mathbf{p}} : \\left[\\begin{matrix}2 r_{p} & 0\\\\0 & 2 r_{p}\\end{matrix}\\right], \\quad {\\mathbf{m}} {\\mathbf{p}}^{2} : \\left[\\begin{matrix}0 & 0\\\\0 & 0\\end{matrix}\\right]\\right \\}$$"
      ],
      "text/plain": [
       "⎧   ⎡0  0⎤                ⎡rₚ  0 ⎤                ⎡γₚ  0 ⎤              2  ⎡-2\n",
       "⎨1: ⎢    ⎥, {\\mathbf{m}}: ⎢      ⎥, {\\mathbf{p}}: ⎢      ⎥, {\\mathbf{p}} : ⎢  \n",
       "⎩   ⎣0  0⎦                ⎣0   rₚ⎦                ⎣0   γₚ⎦                 ⎣  \n",
       "\n",
       "⋅γₚ - {k_{off}__{(p)}}      {k_{on}__{(p)}}    ⎤                             ⎡\n",
       "                                               ⎥, {\\mathbf{m}}⋅{\\mathbf{p}}: ⎢\n",
       "  {k_{off}__{(p)}}      -2⋅γₚ - {k_{on}__{(p)}}⎦                             ⎣\n",
       "\n",
       "2⋅rₚ   0  ⎤                           2  ⎡0  0⎤⎫\n",
       "          ⎥, {\\mathbf{m}}⋅{\\mathbf{p}} : ⎢    ⎥⎬\n",
       " 0    2⋅rₚ⎦                              ⎣0  0⎦⎭"
      ]
     },
     "execution_count": 29,
     "metadata": {},
     "output_type": "execute_result"
    }
   ],
   "source": [
    "mom_coeff_dict = coeff_dictionary(master_moment.\\\n",
    "                                  subs([[x, 0], [y, 2]]).factor([m, p]))\n",
    "coeff_subs(mom_coeff_dict, Km_unreg, Rm_unreg, Gm_unreg, Rp_unreg, Gp_unreg)"
   ]
  },
  {
   "cell_type": "markdown",
   "metadata": {},
   "source": [
    "Now let's define a function that given a general moment equation, a set of exponents for the desired moments and a lists of matrices and states it solves the system for the desired moment."
   ]
  },
  {
   "cell_type": "code",
   "execution_count": 50,
   "metadata": {},
   "outputs": [],
   "source": [
    "def solve_moment(moment_eq, m_expo, p_expo,\n",
    "                 Km_mat, Rm_mat, Gm_mat, Rp_mat, Gp_mat,\n",
    "                 states=['P', 'E', 'R']):\n",
    "    '''\n",
    "    Function that given a general moment equation and some exponents it solves\n",
    "    the linear system for m**m_expo * p**p_expo at steady state.\n",
    "    \n",
    "    Parameters\n",
    "    ----------\n",
    "    moment_eq : sympy expression.\n",
    "        Sympy equation for the general moment.\n",
    "    m_expo, p_expo : int.\n",
    "        Exponent of the moments that should be computed. These moments indicate\n",
    "        the moment of the form <m**m_expo * p**p_expo> that should be computed.\n",
    "    Km_mat, Rm_mat, Gm_mat, Rp_mat, Gp_mat: 2D sympy matrices.\n",
    "        Sympy matrices that define the master equation.\n",
    "        Km_mat : transition between states\n",
    "        Rm_mat : mRNA produciton\n",
    "        Gm_mat : mRNA degradation\n",
    "        Rp_mat : protein production\n",
    "        Gp_mat : protein degradation\n",
    "    states : array-like.\n",
    "        List of the name of the states that are included in the system.\n",
    "        \n",
    "    Returns\n",
    "    -------\n",
    "    mom_sol_dict : dictionary.\n",
    "        Dictionary containing the solution to the linear system for the desired\n",
    "        moment.\n",
    "    '''\n",
    "    # Define sympy variable for moment\n",
    "    moment = m**m_expo * p**p_expo\n",
    "    \n",
    "    # Find the equation for the moment.\n",
    "    mom_eq = moment_eq.subs([[x, m_expo], [y, p_expo]]).factor([m, p])\n",
    "    \n",
    "    # Extract coefficients from equation and save them as a dictionary\n",
    "    # in which each key is the moment and each value is the coefficient\n",
    "    # associated with that moment\n",
    "    mom_coeff_dict = coeff_dictionary(mom_eq)\n",
    "    \n",
    "    # Extract keys from dictionary\n",
    "    mom_keys = [key for key, value in mom_coeff_dict.items()]\n",
    "\n",
    "    # Generate variables for each of the moments and save them\n",
    "    # as a dictionary in which each key is the moment and each value\n",
    "    # is a list of the variables associated with the moment\n",
    "    mom_var_dict = moment_dict(mom_keys, states=states)\n",
    "    \n",
    "    # If asked for the zeroth moment the extendedm matrix is different\n",
    "    if m_expo + p_expo == 0:\n",
    "        # Build extended matrix adding extra row for normalization constraint\n",
    "        # Add the extra row for the normalization constraint\n",
    "        mom_aug_mat = Km_mat.row_insert(0,\n",
    "                      sympy.ones(1, Km_mat.shape[0]))\n",
    "\n",
    "        # Define right-side array\n",
    "        b = sympy.zeros(mom_aug_mat.shape[0], 1)\n",
    "        b[0] = 1\n",
    "\n",
    "        # Define augmented matrix\n",
    "        mom_aug_mat = mom_aug_mat.col_insert(mom_aug_mat.shape[1], b)\n",
    "    \n",
    "        # Solve linear system for the moments\n",
    "        return sympy.solve_linear_system(mom_aug_mat, *mom_var_dict[moment])\n",
    "        \n",
    "    # Obtain dictionary with subsituted matrices for each of the coefficients\n",
    "    # in the moment equation\n",
    "    mom_mat_dict = coeff_subs(mom_coeff_dict, Km_mat, Rm_mat, Gm_mat, \n",
    "                              Rp_mat, Gp_mat)\n",
    "\n",
    "    # Find the keys for the elements that are not the element we are computing\n",
    "    mom_right_keys = [key for key, value in mom_mat_dict.items() if key != moment]\n",
    "\n",
    "    # Initialize matrix that will be added to the right hand side\n",
    "    mom_right_hand = sympy.zeros(Km_mat.shape[0], 1)\n",
    "\n",
    "    # Loop through each of the keys and add to this matrix\n",
    "    for key in mom_right_keys:\n",
    "        mom_right_hand = mom_right_hand + mom_mat_dict[key] *\\\n",
    "                                        sympy.Matrix(mom_var_dict[key])\n",
    "\n",
    "    # add columns on the right hand side of minus the rest of the elements\n",
    "    mom_aug_mat = mom_mat_dict[moment].col_insert(Km_mat.shape[0], \n",
    "                                                  - mom_right_hand)\n",
    "    \n",
    "    # Solve linear system for the three moments\n",
    "    mom_sol_dict = sympy.solve_linear_system(mom_aug_mat, \n",
    "                                               *mom_var_dict[moment])\n",
    "    \n",
    "    return mom_sol_dict"
   ]
  },
  {
   "cell_type": "markdown",
   "metadata": {},
   "source": [
    "Let's obtain the first protein moment $\\ee{p}$ to check that the function works."
   ]
  },
  {
   "cell_type": "code",
   "execution_count": 31,
   "metadata": {},
   "outputs": [
    {
     "data": {
      "image/png": "[encoded data removed]",
      "text/latex": [
       "$$\\frac{r_{p}}{\\gamma_{p}} \\left({\\langle m\\rangle}_E + {\\langle m\\rangle}_P\\right)$$"
      ],
      "text/plain": [
       "rₚ⋅({\\langle m\\rangle}_E + {\\langle m\\rangle}_P)\n",
       "────────────────────────────────────────────────\n",
       "                       γₚ                       "
      ]
     },
     "execution_count": 31,
     "metadata": {},
     "output_type": "execute_result"
    }
   ],
   "source": [
    "p1_unreg_dict = solve_moment(master_moment, 0, 1,\n",
    "                           Km_unreg, Rm_unreg, Gm_unreg, Rp_unreg, Gp_unreg,\n",
    "                           ['P', 'E'])\n",
    "\n",
    "sum(p1_unreg_dict.values()).simplify()"
   ]
  },
  {
   "cell_type": "markdown",
   "metadata": {},
   "source": [
    "This is the right answer!"
   ]
  },
  {
   "cell_type": "markdown",
   "metadata": {},
   "source": [
    "## Systematically obtain moments as function of rates"
   ]
  },
  {
   "cell_type": "markdown",
   "metadata": {},
   "source": [
    "Now that we have this function working we can compute up to a desired moment $\\ee{m^x p^y}$ by systematically solving the system for all moments $\\ee{m^{x'} p^{y'}}$ such that $x' + y' \\leq x + y$ and then substituting each solution on the other.\n",
    "\n",
    "Let's define a function that performs this systematic calculation. For a given mRNA and protein power $x$ and $y$ it finds all possible pairs of exponents that add up to a number less than the sum."
   ]
  },
  {
   "cell_type": "code",
   "execution_count": 47,
   "metadata": {},
   "outputs": [],
   "source": [
    "# Define exponents\n",
    "m_exp, p_exp = 0, 4\n",
    "\n",
    "# Find possible pairs of exponents\n",
    "expo_pairs = list(itertools.permutations(range(max([m_exp, p_exp]) + 1), 2))\n",
    "\n",
    "# Add the (num, num) pair that are not being included\n",
    "expo_pairs = expo_pairs + [tuple([s, s]) for s in range(max([m_exp, p_exp]))]\n",
    "\n",
    "# Remove the ones that does not satisfy x' + y' <= x + y\n",
    "expo_pairs = [x for x in expo_pairs if sum(x) <= m_exp + p_exp]\n",
    "\n",
    "# Initialize dictionary that will save each of the solutions dictionaries\n",
    "# That's right, this will be a dictionary with dictionaries as values for each key\n",
    "mom_sol_dict = {m**x * p**y : solve_moment(master_moment, x, y,\n",
    "                              Km_unreg, Rm_unreg, Gm_unreg, Rp_unreg, Gp_unreg,\n",
    "                              ['P', 'E']) \n",
    "               for (x, y) in expo_pairs}"
   ]
  },
  {
   "cell_type": "markdown",
   "metadata": {},
   "source": [
    "In order to do the substitutions in the proper order we will define a function that sorts the moments as follows:\n",
    "- Firt all of the mRNA moments $(x, 0)$\n",
    "- Then each protein moment $(0, y)$ preceded by the cross correlations $(x', y')$ such that $x' + y' = y$\n",
    "\n",
    "This will allow us to do the systematic substitutions in the correct order to find all the moments purely as as function of the rates in the master equation."
   ]
  },
  {
   "cell_type": "code",
   "execution_count": 23,
   "metadata": {},
   "outputs": [],
   "source": [
    "def sort_moments(expo_pairs):\n",
    "    '''\n",
    "    Sorts the moments in the right order for the substitutions to be done in the\n",
    "    proper order\n",
    "    \n",
    "    Parameter\n",
    "    ---------\n",
    "    expo_pairs : list.\n",
    "        list of exponents of the moments to be sorted\n",
    "    \n",
    "    Returns\n",
    "    -------\n",
    "    expo_sorted : list.\n",
    "        List of exponentes sorted in the right way\n",
    "    '''\n",
    "    # Initialize list to append sorted moments\n",
    "    expo_sorted = list()\n",
    "    \n",
    "    # Append mRNA moments\n",
    "    mRNA_mom = sorted([s for s in expo_pairs if s[1] == 0])\n",
    "    expo_sorted.append(mRNA_mom)\n",
    "    \n",
    "    # Find each protein moment\n",
    "    protein_mom = sorted([s for s in expo_pairs if (s[0] == 0) & (s[1] != 0)])\n",
    "    \n",
    "    # Loop through each protein moment and find the cross correlations\n",
    "    # associated with it\n",
    "    for p in protein_mom:\n",
    "        cross_corr = sorted([s for s in expo_pairs\n",
    "                             if (s[0] > 0) & (s[1] > 0) & (sum(s) == p[1])],\n",
    "                            reverse=True)\n",
    "        # append it to the list\n",
    "        expo_sorted.append(cross_corr)\n",
    "        expo_sorted.append([p])\n",
    "    \n",
    "    \n",
    "    return list(itertools.chain.from_iterable(expo_sorted))"
   ]
  },
  {
   "cell_type": "markdown",
   "metadata": {},
   "source": [
    "Now we can perform the systematic substitution of the solutions!\n",
    "It is a tricky convoluted system. Not very pretty, but effective."
   ]
  },
  {
   "cell_type": "code",
   "execution_count": 49,
   "metadata": {},
   "outputs": [
    {
     "name": "stdout",
     "output_type": "stream",
     "text": [
      "1 0\n",
      "2 0\n",
      "3 0\n",
      "4 0\n",
      "0 1\n",
      "1 1\n",
      "0 2\n",
      "2 1\n",
      "1 2\n",
      "0 3\n",
      "3 1\n",
      "2 2\n",
      "1 3\n",
      "0 4\n"
     ]
    }
   ],
   "source": [
    "# Extract all variables involved in the solutions\n",
    "keys = [key for key in mom_sol_dict.keys()]\n",
    "mom_vars = [value for key, value  in moment_dict(keys).items()]\n",
    "mom_vars = list(itertools.chain.from_iterable(mom_vars))\n",
    "\n",
    "# Initialize array with substituted solutions. For this we only need to\n",
    "# start with the zeroth moment\n",
    "mom_sol_subs_dict = mom_sol_dict[1].copy()\n",
    "\n",
    "# Sort the exponents to perform the substitutions in the right order\n",
    "expo_sorted = sort_moments(expo_pairs)\n",
    "\n",
    "# Loop through each of the moments substituting the solution of the previous one\n",
    "for m_exp, p_exp in expo_sorted[1:]:\n",
    "    print(m_exp, p_exp)\n",
    "    # Extract moment to be substituted\n",
    "    sub_mom = mom_sol_dict[m**m_exp * p**p_exp].copy()\n",
    "    \n",
    "    # Loop through each of the elements of this moment\n",
    "    for mom_raw, sol_raw in sub_mom.items():\n",
    "        # Find all variables involved in this solution\n",
    "        symbols = list(set(list(sol_raw.free_symbols)))\n",
    "        \n",
    "        # Keep only the moment variables to be substituted\n",
    "        var_subs = [s for s in symbols if s in mom_vars]\n",
    "        \n",
    "        # Initialize dictionary to save all substituted variables\n",
    "        sub_dict = dict()\n",
    "        # Loop through these variables substitutting them\n",
    "        for var in var_subs:\n",
    "            sub_dict[var] = mom_sol_subs_dict[var]\n",
    "            \n",
    "        # Substitute all variables\n",
    "        sub_mom[mom_raw] = sub_mom[mom_raw].subs(sub_dict)\n",
    "    \n",
    "        # Add substituted solution to dictionary\n",
    "        mom_sol_subs_dict[mom_raw] = sub_mom[mom_raw]"
   ]
  },
  {
   "cell_type": "markdown",
   "metadata": {},
   "source": [
    "### Generate `lambdify` functions."
   ]
  },
  {
   "cell_type": "markdown",
   "metadata": {},
   "source": [
    "Having computed the solutions purely as function of the rates we now can generate the `lambdify` functions that will allow us to evaluate these moments numerically.\n",
    "\n",
    "In order to make this effective we will generate a dictionary where the `key` will be a pair of exponents $(x, y)$ and the `value` will be will be the `lambidfy` function for the global moment.\n",
    "\n",
    "First let's collect the global moments by adding the individual promoter state moments."
   ]
  },
  {
   "cell_type": "code",
   "execution_count": 57,
   "metadata": {},
   "outputs": [],
   "source": [
    "# Extract the moments\n",
    "moments = [key for key in mom_sol_dict.keys()]\n",
    "\n",
    "# Generate the dictionary with all the variables\n",
    "mom_var_dict = moment_dict(moments, states=['P', 'E'])\n",
    "\n",
    "# Initialize dictionary to save global moments\n",
    "mom_global = {}\n",
    "\n",
    "# Loop through each of the moments, extract the solution for each of the\n",
    "# moments and add them to obtain the global moment\n",
    "for key, value in mom_var_dict.items():\n",
    "    # Extract the solutions for each individual moment and add them\n",
    "    mom_global[key] = sum([mom_sol_subs_dict[s] for s in value])"
   ]
  },
  {
   "cell_type": "markdown",
   "metadata": {},
   "source": [
    "Let's confirm that all the substitutions were done correctly by checking the `free_symbols` for each of the global moments."
   ]
  },
  {
   "cell_type": "code",
   "execution_count": 70,
   "metadata": {},
   "outputs": [
    {
     "data": {
      "image/png": "[encoded data removed]",
      "text/latex": [
       "$$\\left\\{\\gamma_{m}, \\gamma_{p}, r_{m}, r_{p}, {k_{off}^{(p)}}, {k_{on}^{(p)}}\\right\\}$$"
      ],
      "text/plain": [
       "set([γₘ, γₚ, rₘ, rₚ, {k_{off}__{(p)}}, {k_{on}__{(p)}}])"
      ]
     },
     "execution_count": 70,
     "metadata": {},
     "output_type": "execute_result"
    }
   ],
   "source": [
    "# Initialize list to save variables on each moment\n",
    "mom_global_var = list()\n",
    "\n",
    "# Loop trhough each moment and extract the free symbols\n",
    "for key, value in mom_global.items():\n",
    "    mom_global_var.append(list(value.free_symbols))\n",
    "\n",
    "# Find the unique variables\n",
    "unique_sym = set([item for sublist in mom_global_var for item in sublist])\n",
    "unique_sym"
   ]
  },
  {
   "cell_type": "markdown",
   "metadata": {},
   "source": [
    "Not a single moment variable $\\ee{m^x p^y}$. Therefore the systematic substitution worked as expected.\n",
    "\n",
    "Having the global moments now let's generate the `lambdify` functions and store them in a dictionary where the keys will not be the `sympy` variables for the moment since this dictionary will be saved and imported in other notebooks. Instead the key will be a tuple of the form $(x, y)$."
   ]
  },
  {
   "cell_type": "code",
   "execution_count": 59,
   "metadata": {},
   "outputs": [
    {
     "name": "stdout",
     "output_type": "stream",
     "text": [
      "(0, 1)\n",
      "(0, 2)\n",
      "(0, 3)\n",
      "(0, 4)\n",
      "(1, 0)\n",
      "(1, 2)\n",
      "(1, 3)\n",
      "(2, 0)\n",
      "(2, 1)\n",
      "(3, 0)\n",
      "(3, 1)\n",
      "(4, 0)\n",
      "(0, 0)\n",
      "(1, 1)\n",
      "(2, 2)\n"
     ]
    }
   ],
   "source": [
    "# Define array containing variables\n",
    "var = [kp_on, kp_off, rm, gm, rp, gp]\n",
    "\n",
    "# Initialize dictionary to save lambdify functions\n",
    "mom_global_lambdify = {}\n",
    "\n",
    "# Loop through every global moment\n",
    "for key, value in mom_global.items():\n",
    "    # Find the exponents of the moment\n",
    "    if key.has(m):\n",
    "        m_degree = sympy.Poly(key).degree(m)\n",
    "    else:\n",
    "        m_degree = 0\n",
    "    if key.has(p):\n",
    "        p_degree = sympy.Poly(key).degree(p)\n",
    "    else:\n",
    "        p_degree = 0\n",
    "    print((m_degree, p_degree))\n",
    "    \n",
    "    # Generate and save into the dictionary the lambdify function.\n",
    "    mom_global_lambdify[(m_degree, p_degree)] = sympy.lambdify(var, value, \n",
    "                                                               modules='numexpr')"
   ]
  },
  {
   "cell_type": "code",
   "execution_count": 60,
   "metadata": {},
   "outputs": [],
   "source": [
    "export = True\n",
    "if export:\n",
    "    # Open file to save functions\n",
    "    with open('./two_state_moments_lambdify.dill', 'wb') as file:\n",
    "        cloudpickle.dump(mom_global_lambdify, file)"
   ]
  },
  {
   "cell_type": "markdown",
   "metadata": {},
   "source": [
    "## Repeat calculation for three-state promoter."
   ]
  },
  {
   "cell_type": "markdown",
   "metadata": {},
   "source": [
    "Having obtained up to the fourth protein moment for the unregulated case let's now proceed to the regulated one where we will repeat the same analysis defining the corresponding matrices.\n",
    "\n",
    "Let's first define the corresponding matrices."
   ]
  },
  {
   "cell_type": "code",
   "execution_count": 40,
   "metadata": {},
   "outputs": [
    {
     "data": {
      "image/png": "[encoded data removed]",
      "text/latex": [
       "$$\\left ( \\left[\\begin{matrix}- {k_{off}^{(p)}} & {k_{on}^{(p)}} & 0\\\\{k_{off}^{(p)}} & - {k_{on}^{(p)}} - {k_{on}^{(r)}} & {k_{off}^{(r)}}\\\\0 & {k_{on}^{(r)}} & - {k_{off}^{(r)}}\\end{matrix}\\right], \\quad \\left[\\begin{matrix}r_{m} & 0 & 0\\\\0 & 0 & 0\\\\0 & 0 & 0\\end{matrix}\\right], \\quad \\left[\\begin{matrix}\\gamma_{m} & 0 & 0\\\\0 & \\gamma_{m} & 0\\\\0 & 0 & \\gamma_{m}\\end{matrix}\\right], \\quad \\left[\\begin{matrix}r_{p} & 0 & 0\\\\0 & r_{p} & 0\\\\0 & 0 & r_{p}\\end{matrix}\\right], \\quad \\left[\\begin{matrix}\\gamma_{p} & 0 & 0\\\\0 & \\gamma_{p} & 0\\\\0 & 0 & \\gamma_{p}\\end{matrix}\\right]\\right )$$"
      ],
      "text/plain": [
       "⎛⎡-{k_{off}__{(p)}}           {k_{on}__{(p)}}                    0        ⎤  ⎡\n",
       "⎜⎢                                                                        ⎥  ⎢\n",
       "⎜⎢{k_{off}__{(p)}}   -{k_{on}__{(p)}} - {k_{on}__{(r)}}  {k_{off}__{(r)}} ⎥, ⎢\n",
       "⎜⎢                                                                        ⎥  ⎢\n",
       "⎝⎣        0                   {k_{on}__{(r)}}            -{k_{off}__{(r)}}⎦  ⎣\n",
       "\n",
       "rₘ  0  0⎤  ⎡γₘ  0   0 ⎤  ⎡rₚ  0   0 ⎤  ⎡γₚ  0   0 ⎤⎞\n",
       "        ⎥  ⎢          ⎥  ⎢          ⎥  ⎢          ⎥⎟\n",
       "0   0  0⎥, ⎢0   γₘ  0 ⎥, ⎢0   rₚ  0 ⎥, ⎢0   γₚ  0 ⎥⎟\n",
       "        ⎥  ⎢          ⎥  ⎢          ⎥  ⎢          ⎥⎟\n",
       "0   0  0⎦  ⎣0   0   γₘ⎦  ⎣0   0   rₚ⎦  ⎣0   0   γₚ⎦⎠"
      ]
     },
     "execution_count": 40,
     "metadata": {},
     "output_type": "execute_result"
    }
   ],
   "source": [
    "# Define the rate constant matrix\n",
    "Km_reg = sympy.Matrix([[-kp_off, kp_on, 0], \n",
    "                         [kp_off, -(kp_on + kr_on), kr_off],\n",
    "                         [0, kr_on, -kr_off]])\n",
    "# Define the production matrix\n",
    "Rm_reg = sympy.Matrix([[rm, 0, 0],\n",
    "                       [0, 0, 0],\n",
    "                       [0, 0, 0]])\n",
    "# Define the degradation matrix\n",
    "Gm_reg = sympy.Matrix([[gm, 0, 0],\n",
    "                       [0, gm, 0],\n",
    "                       [0, 0, gm]])\n",
    "\n",
    "# Define the production matrix\n",
    "Rp_reg = sympy.Matrix([[rp, 0, 0],\n",
    "                       [0, rp, 0],\n",
    "                       [0, 0, rp]])\n",
    "\n",
    "# Define the production matrix\n",
    "Gp_reg = sympy.Matrix([[gp, 0, 0],\n",
    "                       [0, gp, 0],\n",
    "                       [0, 0, gp]])\n",
    "\n",
    "\n",
    "Km_reg, Rm_reg, Gm_reg, Rp_reg, Gp_reg"
   ]
  },
  {
   "cell_type": "markdown",
   "metadata": {},
   "source": [
    "Now we compute the moments for this three-state case adding the `R` state."
   ]
  },
  {
   "cell_type": "code",
   "execution_count": 41,
   "metadata": {},
   "outputs": [],
   "source": [
    "# Define exponents\n",
    "m_exp, p_exp = 0, 4\n",
    "\n",
    "# Find possible pairs of exponents\n",
    "expo_pairs = list(itertools.permutations(range(max([m_exp, p_exp]) + 1), 2))\n",
    "\n",
    "# Add the (num, num) pair that are not being included\n",
    "expo_pairs = expo_pairs + [tuple([s, s]) for s in range(max([m_exp, p_exp]))]\n",
    "\n",
    "# Remove the ones that does not satisfy x' + y' <= x + y\n",
    "expo_pairs = [x for x in expo_pairs if sum(x) <= m_exp + p_exp]\n",
    "\n",
    "# Initialize dictionary that will save each of the solutions dictionaries\n",
    "# That's right, this will be a dictionary with dictionaries as values for each key\n",
    "mom_sol_dict = {m**x * p**y : solve_moment(master_moment, x, y,\n",
    "                              Km_reg, Rm_reg, Gm_reg, Rp_reg, Gp_reg,\n",
    "                              ['P', 'E', 'R']) \n",
    "               for (x, y) in expo_pairs}"
   ]
  },
  {
   "cell_type": "markdown",
   "metadata": {},
   "source": [
    "Now the systematic substitutions to generate the moments as function of the rates."
   ]
  },
  {
   "cell_type": "code",
   "execution_count": 42,
   "metadata": {},
   "outputs": [
    {
     "name": "stdout",
     "output_type": "stream",
     "text": [
      "1 0\n",
      "2 0\n",
      "3 0\n",
      "4 0\n",
      "0 1\n",
      "1 1\n",
      "0 2\n",
      "2 1\n",
      "1 2\n",
      "0 3\n",
      "3 1\n",
      "2 2\n",
      "1 3\n",
      "0 4\n"
     ]
    }
   ],
   "source": [
    "# Extract all variables involved in the solutionsk\n",
    "keys = [key for key in mom_sol_dict.keys()]\n",
    "mom_vars = [value for key, value  in moment_dict(keys).items()]\n",
    "mom_vars = list(itertools.chain.from_iterable(mom_vars))\n",
    "\n",
    "# Initialize array with substituted solutions. For this we only need to\n",
    "# start with the zeroth moment\n",
    "mom_sol_subs_dict = mom_sol_dict[1].copy()\n",
    "\n",
    "# Sort the exponents to perform the substitutions in the right order\n",
    "expo_sorted = sort_moments(expo_pairs)\n",
    "\n",
    "# Loop through each of the moments substituting the solution of the previous one\n",
    "for m_exp, p_exp in expo_sorted[1:]:\n",
    "    print(m_exp, p_exp)\n",
    "    # Extract moment to be substituted\n",
    "    sub_mom = mom_sol_dict[m**m_exp * p**p_exp].copy()\n",
    "    \n",
    "    # Loop through each of the elements of this moment\n",
    "    for mom_raw, sol_raw in sub_mom.items():\n",
    "        # Find all variables involved in this solution\n",
    "        symbols = list(set(list(sol_raw.free_symbols)))\n",
    "        \n",
    "        # Keep only the moment variables to be substituted\n",
    "        var_subs = [s for s in symbols if s in mom_vars]\n",
    "        \n",
    "        # Initialize dictionary to save all substituted variables\n",
    "        sub_dict = dict()\n",
    "        # Loop through these variables substitutting them\n",
    "        for var in var_subs:\n",
    "            sub_dict[var] = mom_sol_subs_dict[var]\n",
    "            \n",
    "        # Substitute all variables\n",
    "        sub_mom[mom_raw] = sub_mom[mom_raw].subs(sub_dict)\n",
    "    \n",
    "        # Add substituted solution to dictionary\n",
    "        mom_sol_subs_dict[mom_raw] = sub_mom[mom_raw]"
   ]
  },
  {
   "cell_type": "markdown",
   "metadata": {},
   "source": [
    "Let's generate the global moments by adding the moments from each individual promoter state."
   ]
  },
  {
   "cell_type": "code",
   "execution_count": 43,
   "metadata": {},
   "outputs": [],
   "source": [
    "# Extract the moments\n",
    "moments = [key for key in mom_sol_dict.keys()]\n",
    "\n",
    "# Generate the dictionary with all the variables\n",
    "mom_var_dict = moment_dict(moments, states=['P', 'E', 'R'])\n",
    "\n",
    "# Initialize dictionary to save global moments\n",
    "mom_global = {}\n",
    "\n",
    "# Loop through each of the moments, extract the solution for each of the\n",
    "# moments and add them to obtain the global moment\n",
    "for key, value in mom_var_dict.items():\n",
    "    # Extract the solutions for each individual moment and add them\n",
    "    mom_global[key] = sum([mom_sol_subs_dict[s] for s in value])"
   ]
  },
  {
   "cell_type": "markdown",
   "metadata": {},
   "source": [
    "Again we check that all the moment variables were correctly substituted by listing the unique variables found in the moments."
   ]
  },
  {
   "cell_type": "code",
   "execution_count": 44,
   "metadata": {},
   "outputs": [
    {
     "data": {
      "image/png": "[encoded data removed]",
      "text/latex": [
       "$$\\left\\{\\gamma_{m}, \\gamma_{p}, r_{m}, r_{p}, {k_{off}^{(p)}}, {k_{off}^{(r)}}, {k_{on}^{(p)}}, {k_{on}^{(r)}}\\right\\}$$"
      ],
      "text/plain": [
       "set([γₘ, γₚ, rₘ, rₚ, {k_{off}__{(p)}}, {k_{off}__{(r)}}, {k_{on}__{(p)}}, {k_{\n",
       "on}__{(r)}}])"
      ]
     },
     "execution_count": 44,
     "metadata": {},
     "output_type": "execute_result"
    }
   ],
   "source": [
    "# Initialize list to save variables on each moment\n",
    "mom_global_var = list()\n",
    "\n",
    "# Loop trhough each moment and extract the free symbols\n",
    "for key, value in mom_sol_subs_dict.items():\n",
    "    mom_global_var.append(list(value.free_symbols))\n",
    "\n",
    "# Find the unique variables\n",
    "unique_sym = set([item for sublist in mom_global_var for item in sublist])\n",
    "unique_sym"
   ]
  },
  {
   "cell_type": "markdown",
   "metadata": {},
   "source": [
    "And finally generate the `lambdify` expressions for each of these moments."
   ]
  },
  {
   "cell_type": "code",
   "execution_count": 45,
   "metadata": {},
   "outputs": [
    {
     "name": "stdout",
     "output_type": "stream",
     "text": [
      "(0, 1)\n",
      "(0, 2)\n",
      "(0, 3)\n",
      "(0, 4)\n",
      "(1, 0)\n",
      "(1, 2)\n",
      "(1, 3)\n",
      "(2, 0)\n",
      "(2, 1)\n",
      "(3, 0)\n",
      "(3, 1)\n",
      "(4, 0)\n",
      "(0, 0)\n",
      "(1, 1)\n",
      "(2, 2)\n"
     ]
    }
   ],
   "source": [
    "# Define array containing variables\n",
    "var = [kr_on, kr_off, kp_on, kp_off, rm, gm, rp, gp]\n",
    "\n",
    "# Initialize dictionary to save lambdify functions\n",
    "mom_global_lambdify = {}\n",
    "\n",
    "# Loop through every global moment\n",
    "for key, value in mom_global.items():\n",
    "    # Find the exponents of the moment\n",
    "    if key.has(m):\n",
    "        m_degree = sympy.Poly(key).degree(m)\n",
    "    else:\n",
    "        m_degree = 0\n",
    "    if key.has(p):\n",
    "        p_degree = sympy.Poly(key).degree(p)\n",
    "    else:\n",
    "        p_degree = 0\n",
    "    print((m_degree, p_degree))\n",
    "    \n",
    "    # Generate and save into the dictionary the lambdify function.\n",
    "    mom_global_lambdify[(m_degree, p_degree)] = sympy.lambdify(var, value, \n",
    "                                                               modules='numexpr')"
   ]
  },
  {
   "cell_type": "code",
   "execution_count": 46,
   "metadata": {},
   "outputs": [],
   "source": [
    "export = True\n",
    "if export:\n",
    "    # Open file to save functions\n",
    "    with open('./three_state_moments_lambdify.dill', 'wb') as file:\n",
    "        cloudpickle.dump(mom_global_lambdify, file)"
   ]
  },
  {
   "cell_type": "markdown",
   "metadata": {},
   "source": [
    "## Calculate more mRNA moments"
   ]
  },
  {
   "cell_type": "markdown",
   "metadata": {},
   "source": [
    "Since the mRNA moments are computationally inexpensive it will be useful to calculate more moments."
   ]
  },
  {
   "cell_type": "code",
   "execution_count": 50,
   "metadata": {},
   "outputs": [],
   "source": [
    "# Define exponents\n",
    "m_exp, p_exp = 10, 0\n",
    "\n",
    "# Find possible pairs of exponents\n",
    "expo_pairs = list(itertools.permutations(range(max([m_exp, p_exp]) + 1), 2))\n",
    "expo_pairs = [x for x in expo_pairs if x[1] == 0]\n",
    "expo_pairs.append((0, 0))\n",
    "\n",
    "# Initialize dictionary that will save each of the solutions dictionaries\n",
    "# That's right, this will be a dictionary with dictionaries as values for each key\n",
    "mom_sol_dict = {m**x * p**y : solve_moment(master_moment, x, y,\n",
    "                              Km_unreg, Rm_unreg, Gm_unreg, Rp_unreg, Gp_unreg,\n",
    "                              ['E', 'P']) \n",
    "               for (x, y) in expo_pairs}"
   ]
  },
  {
   "cell_type": "code",
   "execution_count": 51,
   "metadata": {},
   "outputs": [
    {
     "name": "stdout",
     "output_type": "stream",
     "text": [
      "1 0\n",
      "2 0\n",
      "3 0\n",
      "4 0\n",
      "5 0\n",
      "6 0\n",
      "7 0\n",
      "8 0\n",
      "9 0\n",
      "10 0\n"
     ]
    }
   ],
   "source": [
    "# Extract all variables involved in the solutions\n",
    "keys = [key for key in mom_sol_dict.keys()]\n",
    "mom_vars = [value for key, value  in moment_dict(keys).items()]\n",
    "mom_vars = list(itertools.chain.from_iterable(mom_vars))\n",
    "\n",
    "# Initialize array with substituted solutions. For this we only need to\n",
    "# start with the zeroth moment\n",
    "mom_sol_subs_dict = mom_sol_dict[1].copy()\n",
    "\n",
    "# Sort the exponents to perform the substitutions in the right order\n",
    "expo_sorted = sort_moments(expo_pairs)\n",
    "\n",
    "# Loop through each of the moments substituting the solution of the previous one\n",
    "for m_exp, p_exp in expo_sorted[1:]:\n",
    "    print(m_exp, p_exp)\n",
    "    # Extract moment to be substituted\n",
    "    sub_mom = mom_sol_dict[m**m_exp * p**p_exp].copy()\n",
    "    \n",
    "    # Loop through each of the elements of this moment\n",
    "    for mom_raw, sol_raw in sub_mom.items():\n",
    "        # Find all variables involved in this solution\n",
    "        symbols = list(set(list(sol_raw.free_symbols)))\n",
    "        \n",
    "        # Keep only the moment variables to be substituted\n",
    "        var_subs = [s for s in symbols if s in mom_vars]\n",
    "        \n",
    "        # Initialize dictionary to save all substituted variables\n",
    "        sub_dict = dict()\n",
    "        # Loop through these variables substitutting them\n",
    "        for var in var_subs:\n",
    "            sub_dict[var] = mom_sol_subs_dict[var]\n",
    "            \n",
    "        # Substitute all variables\n",
    "        sub_mom[mom_raw] = sub_mom[mom_raw].subs(sub_dict)\n",
    "    \n",
    "        # Add substituted solution to dictionary\n",
    "        mom_sol_subs_dict[mom_raw] = sub_mom[mom_raw]"
   ]
  },
  {
   "cell_type": "markdown",
   "metadata": {},
   "source": [
    "### Generate `lambdify` functions.\n",
    "\n",
    "Having computed the solutions purely as function of the rates we now can generate the `lambdify` functions that will allow us to evaluate these moments numerically.\n",
    "\n",
    "In order to make this effective we will generate a dictionary where the `key` will be a pair of exponents $(x, y)$ and the `value` will be will be the `lambidfy` function for the global moment.\n",
    "\n",
    "First let's collect the global moments by adding the individual promoter state moments."
   ]
  },
  {
   "cell_type": "code",
   "execution_count": 52,
   "metadata": {},
   "outputs": [],
   "source": [
    "# Extract the moments\n",
    "moments = [key for key in mom_sol_dict.keys()]\n",
    "\n",
    "# Generate the dictionary with all the variables\n",
    "mom_var_dict = moment_dict(moments, states=['E', 'P'])\n",
    "\n",
    "# Initialize dictionary to save global moments\n",
    "mom_global = {}\n",
    "\n",
    "# Loop through each of the moments, extract the solution for each of the\n",
    "# moments and add them to obtain the global moment\n",
    "for key, value in mom_var_dict.items():\n",
    "    # Extract the solutions for each individual moment and add them\n",
    "    mom_global[key] = sum([mom_sol_subs_dict[s] for s in value])"
   ]
  },
  {
   "cell_type": "markdown",
   "metadata": {},
   "source": [
    "Let's confirm that all the substitutions were done correctly by checking the `free_symbols` for each of the global moments."
   ]
  },
  {
   "cell_type": "code",
   "execution_count": 53,
   "metadata": {},
   "outputs": [
    {
     "data": {
      "image/png": "[encoded data removed]",
      "text/latex": [
       "$$\\left\\{\\gamma_{m}, r_{m}, {k_{off}^{(p)}}, {k_{on}^{(p)}}\\right\\}$$"
      ],
      "text/plain": [
       "set([γₘ, rₘ, {k_{off}__{(p)}}, {k_{on}__{(p)}}])"
      ]
     },
     "execution_count": 53,
     "metadata": {},
     "output_type": "execute_result"
    }
   ],
   "source": [
    "# Initialize list to save variables on each moment\n",
    "mom_global_var = list()\n",
    "\n",
    "# Loop trhough each moment and extract the free symbols\n",
    "for key, value in mom_global.items():\n",
    "    mom_global_var.append(list(value.free_symbols))\n",
    "\n",
    "# Find the unique variables\n",
    "unique_sym = set([item for sublist in mom_global_var for item in sublist])\n",
    "unique_sym"
   ]
  },
  {
   "cell_type": "markdown",
   "metadata": {},
   "source": [
    "Not a single moment variable $\\ee{m^x p^y}$. Therefore the systematic substitution worked as expected.\n",
    "\n",
    "Having the global moments now let's generate the `lambdify` functions and store them in a dictionary where the keys will not be the `sympy` variables for the moment since this dictionary will be saved and imported in other notebooks. Instead the key will be a tuple of the form $(x, y)$."
   ]
  },
  {
   "cell_type": "code",
   "execution_count": 54,
   "metadata": {},
   "outputs": [
    {
     "name": "stdout",
     "output_type": "stream",
     "text": [
      "(1, 0)\n",
      "(2, 0)\n",
      "(3, 0)\n",
      "(4, 0)\n",
      "(5, 0)\n",
      "(6, 0)\n",
      "(7, 0)\n",
      "(8, 0)\n",
      "(9, 0)\n",
      "(10, 0)\n",
      "(0, 0)\n"
     ]
    }
   ],
   "source": [
    "# Define array containing variables\n",
    "var = [kp_on, kp_off, rm, gm]\n",
    "\n",
    "# Initialize dictionary to save lambdify functions\n",
    "mom_global_lambdify = {}\n",
    "\n",
    "# Loop through every global moment\n",
    "for key, value in mom_global.items():\n",
    "    # Find the exponents of the moment\n",
    "    if key.has(m):\n",
    "        m_degree = sympy.Poly(key).degree(m)\n",
    "    else:\n",
    "        m_degree = 0\n",
    "    if key.has(p):\n",
    "        p_degree = sympy.Poly(key).degree(p)\n",
    "    else:\n",
    "        p_degree = 0\n",
    "    print((m_degree, p_degree))\n",
    "    \n",
    "    # Generate and save into the dictionary the lambdify function.\n",
    "    mom_global_lambdify[(m_degree, p_degree)] = sympy.lambdify(var, value, \n",
    "                                                               modules='numexpr')"
   ]
  },
  {
   "cell_type": "code",
   "execution_count": 55,
   "metadata": {},
   "outputs": [],
   "source": [
    "export = False\n",
    "if export:\n",
    "    # Open file to save functions\n",
    "    with open('./two_state_mRNA_moments_lambdify.dill', 'wb') as file:\n",
    "        cloudpickle.dump(mom_global_lambdify, file)"
   ]
  },
  {
   "cell_type": "markdown",
   "metadata": {},
   "source": [
    "## Master equation with promoter escape."
   ]
  },
  {
   "cell_type": "markdown",
   "metadata": {},
   "source": [
    "The model presented in the previous section has an important physical caveat: The RNAP bound state has no promoter escape after an mRNA is produced. What this means is that the only way in which the promoter switches states is via RNAP unbinding from the promoter with rate $\\kpoff$. Therefore in this model once an RNAP binds the promoter region it can produce more than one mRNA. In order to address this issue we can modify the master equation to include promoter escape, i.e. producing an mRNA returns the promoter to the empty state.\n",
    "\n",
    "The general moment equation for this model is of the form\n",
    "$$\n",
    "\\dt{\\bb{P}(m, p)} = \\overbrace{\n",
    "\\left(\\Km - \\Rm - m\\Gm - m\\Rp -p\\Gp \\right) \\bb{P}(m, p)\n",
    "}^{\\text{exit state }m,p}\\\\\n",
    "\\overbrace{\n",
    "+ \\Re \\bb{P}(m-1, p) + \\Gm (m + 1) \\bb{P}(m+1, p)\\\\\n",
    "+ \\Rp (m) \\bb{P}(m, p-1) + \\Gm (p + 1) \\bb{P}(m, p+1)\n",
    "}^{\\text{enter state }m,p},\n",
    "\\label{master_escape}\n",
    "$$\n",
    "where the only difference with Eq. \\ref{master_matrix} is that $\\Re$ accounts for the transition between RNAP bound state and empty state once an mRNA is produced."
   ]
  },
  {
   "cell_type": "markdown",
   "metadata": {},
   "source": [
    "Using the same re-indexing tricks as before we can write a **general** form for the moment PDE of the form\n",
    "$$\n",
    "\\dt{\\bb{\\ee{m^x p^y}}} =\n",
    "\\Km \\bb{\\ee{m^x p^y}} +\\\\\n",
    "\\Rm \\bb{\\ee{m^x p^y}} - \\bb{\\ee{m^x p^y}}+\\\\\n",
    "\\Re \\bb{\\ee{(m+1)^x p^y}} - \\bb{\\ee{m^x p^y}}+\\\\\n",
    "\\Gm \\left[ \\bb{\\ee{m (m - 1)^x p^y}} - \\bb{\\ee{m^{x + 1} p^y}} \\right] +\\\\\n",
    "\\Rp \\left[ \\bb{\\ee{m^{x + 1} (p +  1)^{y}}} - \\bb{\\ee{m^{x+1} p^y}} \\right] +\\\\\n",
    "\\Gp \\left[ \\bb{\\ee{m^x p (p - 1)^y}} - \\bb{\\ee{m^x p^{y+1}}} \\right],\n",
    "\\label{moment_escape}\n",
    "$$"
   ]
  },
  {
   "cell_type": "markdown",
   "metadata": {},
   "source": [
    "Let's define the `sympy` variables in \\ref{moment_escape}."
   ]
  },
  {
   "cell_type": "code",
   "execution_count": 2,
   "metadata": {},
   "outputs": [
    {
     "data": {
      "image/png": "[encoded data removed]",
      "text/latex": [
       "$$\\left ( {\\mathbf{K}}, \\quad {\\mathbf{R}_m}, \\quad {\\mathbf{R}_m'}, \\quad {\\mathbf{\\Gamma}_m}, \\quad {\\mathbf{R}_p}, \\quad {\\mathbf{\\Gamma}_p}\\right )$$"
      ],
      "text/plain": [
       "({\\mathbf{K}}, {\\mathbf{R}_m}, {\\mathbf{R}_m'}, {\\mathbf{\\Gamma}_m}, {\\mathbf{\n",
       "R}_p}, {\\mathbf{\\Gamma}_p})"
      ]
     },
     "execution_count": 2,
     "metadata": {},
     "output_type": "execute_result"
    }
   ],
   "source": [
    "# Define the matrices involved in the general moment equation\n",
    "Km = sympy.Symbol('{\\mathbf{K}}')  # State transition matrix\n",
    "# mRNA matrices\n",
    "Rm, Re, Gm = sympy.symbols('{\\mathbf{R}_m} {\\mathbf{R}_m\\'} {\\mathbf{\\Gamma}_m}')\n",
    "Rp, Gp = sympy.symbols('{\\mathbf{R}_p} {\\mathbf{\\Gamma}_p}')  # protein matrices\n",
    "\n",
    "Km, Rm, Re, Gm, Rp, Gp"
   ]
  },
  {
   "cell_type": "code",
   "execution_count": 3,
   "metadata": {},
   "outputs": [
    {
     "data": {
      "image/png": "[encoded data removed]",
      "text/latex": [
       "$$\\left ( {\\mathbf{m}}^{{\\mathbf{x}}}, \\quad {\\mathbf{p}}^{{\\mathbf{y}}}\\right )$$"
      ],
      "text/plain": [
       "⎛            {\\mathbf{x}}              {\\mathbf{y}}⎞\n",
       "⎝{\\mathbf{m}}            , {\\mathbf{p}}            ⎠"
      ]
     },
     "execution_count": 3,
     "metadata": {},
     "output_type": "execute_result"
    }
   ],
   "source": [
    "# Define the mRNA and protein variables\n",
    "m, p, = sympy.symbols('{\\mathbf{m}} {\\mathbf{p}}')\n",
    "x, y = sympy.symbols('{\\mathbf{x}} {\\mathbf{y}}')\n",
    "\n",
    "m**x, p**y"
   ]
  },
  {
   "cell_type": "markdown",
   "metadata": {},
   "source": [
    "We now define the right hand side of the equation."
   ]
  },
  {
   "cell_type": "code",
   "execution_count": 4,
   "metadata": {},
   "outputs": [
    {
     "data": {
      "image/png": "[encoded data removed]",
      "text/latex": [
       "$$0 = {\\mathbf{K}} {\\mathbf{m}}^{{\\mathbf{x}}} {\\mathbf{p}}^{{\\mathbf{y}}} + {\\mathbf{R}_m'} {\\mathbf{p}}^{{\\mathbf{y}}} \\left({\\mathbf{m}} + 1\\right)^{{\\mathbf{x}}} - {\\mathbf{R}_m} {\\mathbf{m}}^{{\\mathbf{x}}} {\\mathbf{p}}^{{\\mathbf{y}}} + {\\mathbf{R}_p} {\\mathbf{m}}^{{\\mathbf{x}} + 1} \\left(- {\\mathbf{p}}^{{\\mathbf{y}}} + \\left({\\mathbf{p}} + 1\\right)^{{\\mathbf{y}}}\\right) + {\\mathbf{\\Gamma}_m} {\\mathbf{m}} {\\mathbf{p}}^{{\\mathbf{y}}} \\left(- {\\mathbf{m}}^{{\\mathbf{x}}} + \\left({\\mathbf{m}} - 1\\right)^{{\\mathbf{x}}}\\right) + {\\mathbf{\\Gamma}_p} {\\mathbf{m}}^{{\\mathbf{x}}} {\\mathbf{p}} \\left(- {\\mathbf{p}}^{{\\mathbf{y}}} + \\left({\\mathbf{p}} - 1\\right)^{{\\mathbf{y}}}\\right)$$"
      ],
      "text/plain": [
       "                             {\\mathbf{x}}             {\\mathbf{y}}            \n",
       "0 = {\\mathbf{K}}⋅{\\mathbf{m}}            ⋅{\\mathbf{p}}             + {\\mathbf{\n",
       "\n",
       "                   {\\mathbf{y}}                   {\\mathbf{x}}                \n",
       "R}_m'}⋅{\\mathbf{p}}            ⋅({\\mathbf{m}} + 1)             - {\\mathbf{R}_m\n",
       "\n",
       "              {\\mathbf{x}}             {\\mathbf{y}}                           \n",
       "}⋅{\\mathbf{m}}            ⋅{\\mathbf{p}}             + {\\mathbf{R}_p}⋅{\\mathbf{\n",
       "\n",
       "   {\\mathbf{x}} + 1 ⎛              {\\mathbf{y}}                     {\\mathbf{y\n",
       "m}}                ⋅⎝- {\\mathbf{p}}             + ({\\mathbf{p}} + 1)          \n",
       "\n",
       "}}⎞                                                {\\mathbf{y}} ⎛             \n",
       "  ⎠ + {\\mathbf{\\Gamma}_m}⋅{\\mathbf{m}}⋅{\\mathbf{p}}            ⋅⎝- {\\mathbf{m}\n",
       "\n",
       " {\\mathbf{x}}                     {\\mathbf{x}}⎞                               \n",
       "}             + ({\\mathbf{m}} - 1)            ⎠ + {\\mathbf{\\Gamma}_p}⋅{\\mathbf\n",
       "\n",
       "    {\\mathbf{x}}              ⎛              {\\mathbf{y}}                     \n",
       "{m}}            ⋅{\\mathbf{p}}⋅⎝- {\\mathbf{p}}             + ({\\mathbf{p}} - 1)\n",
       "\n",
       "{\\mathbf{y}}⎞\n",
       "            ⎠"
      ]
     },
     "execution_count": 4,
     "metadata": {},
     "output_type": "execute_result"
    }
   ],
   "source": [
    "# Defining the general master moment equation\n",
    "master_escape = Km * (m**x * p**y) +\\\n",
    "Rm * -(p**y) * m**x +\\\n",
    "Re * (p**y) * (m + 1)**x +\\\n",
    "Gm * (m * p**y) * ((m - 1)**x - m**x) +\\\n",
    "Rp * m**(x + 1) * ((p + 1)**y - p**y) +\\\n",
    "Gp * (m**x * p) * ((p - 1)**y - p**y)\n",
    "\n",
    "sympy.Eq(0, master_escape)"
   ]
  },
  {
   "cell_type": "markdown",
   "metadata": {},
   "source": [
    "Having defined this equation now all we need to do to obtain any moment equation is to substitute $\\bb{x}$ and $\\bb{y}$. As a sanity check let's look at some examples that we already know the answer. Let's look at the zeroth moment."
   ]
  },
  {
   "cell_type": "code",
   "execution_count": 5,
   "metadata": {},
   "outputs": [
    {
     "data": {
      "image/png": "[encoded data removed]",
      "text/latex": [
       "$${\\mathbf{K}} + {\\mathbf{R}_m'} - {\\mathbf{R}_m}$$"
      ],
      "text/plain": [
       "{\\mathbf{K}} + {\\mathbf{R}_m'} - {\\mathbf{R}_m}"
      ]
     },
     "execution_count": 5,
     "metadata": {},
     "output_type": "execute_result"
    }
   ],
   "source": [
    "# Define the first mRNA moment <m> equation\n",
    "master_escape.subs([[x, 0], [y, 0]]).factor([m, p])"
   ]
  },
  {
   "cell_type": "markdown",
   "metadata": {},
   "source": [
    "Let's now define the variables that compose the matrices."
   ]
  },
  {
   "cell_type": "code",
   "execution_count": 6,
   "metadata": {},
   "outputs": [
    {
     "data": {
      "image/png": "[encoded data removed]",
      "text/latex": [
       "$$\\left ( {k_{off}^{(p)}}, \\quad {k_{on}^{(p)}}, \\quad {k_{off}^{(r)}}, \\quad {k_{on}^{(r)}}, \\quad r_{m}, \\quad \\gamma_{m}, \\quad r_{p}, \\quad \\gamma_{p}\\right )$$"
      ],
      "text/plain": [
       "({k_{off}__{(p)}}, {k_{on}__{(p)}}, {k_{off}__{(r)}}, {k_{on}__{(r)}}, rₘ, γₘ,\n",
       " rₚ, γₚ)"
      ]
     },
     "execution_count": 6,
     "metadata": {},
     "output_type": "execute_result"
    }
   ],
   "source": [
    "# Define rate constant variables\n",
    "kp_off, kp_on = sympy.symbols('{k_{off}^{(p)}} {k_{on}^{(p)}}')\n",
    "kr_off, kr_on = sympy.symbols('{k_{off}^{(r)}} {k_{on}^{(r)}}')\n",
    "\n",
    "# Define degradation rate and production rate\n",
    "rm, gm = sympy.symbols('r_m gamma_m')\n",
    "rp, gp = sympy.symbols('r_p gamma_p')\n",
    "\n",
    "kp_off, kp_on, kr_off, kr_on, rm, gm, rp, gp"
   ]
  },
  {
   "cell_type": "markdown",
   "metadata": {},
   "source": [
    "### Two-state promoter with escape step."
   ]
  },
  {
   "cell_type": "markdown",
   "metadata": {},
   "source": [
    "Using these variables let's define the matrices for the two state promoter"
   ]
  },
  {
   "cell_type": "code",
   "execution_count": 7,
   "metadata": {},
   "outputs": [
    {
     "data": {
      "image/png": "[encoded data removed]",
      "text/latex": [
       "$$\\left ( \\left[\\begin{matrix}- {k_{off}^{(p)}} & {k_{on}^{(p)}}\\\\{k_{off}^{(p)}} & - {k_{on}^{(p)}}\\end{matrix}\\right], \\quad \\left[\\begin{matrix}r_{m} & 0\\\\0 & 0\\end{matrix}\\right], \\quad \\left[\\begin{matrix}0 & 0\\\\r_{m} & 0\\end{matrix}\\right], \\quad \\left[\\begin{matrix}\\gamma_{m} & 0\\\\0 & \\gamma_{m}\\end{matrix}\\right], \\quad \\left[\\begin{matrix}r_{p} & 0\\\\0 & r_{p}\\end{matrix}\\right], \\quad \\left[\\begin{matrix}\\gamma_{p} & 0\\\\0 & \\gamma_{p}\\end{matrix}\\right]\\right )$$"
      ],
      "text/plain": [
       "⎛⎡-{k_{off}__{(p)}}  {k_{on}__{(p)}} ⎤  ⎡rₘ  0⎤  ⎡0   0⎤  ⎡γₘ  0 ⎤  ⎡rₚ  0 ⎤  \n",
       "⎜⎢                                   ⎥, ⎢     ⎥, ⎢     ⎥, ⎢      ⎥, ⎢      ⎥, \n",
       "⎝⎣{k_{off}__{(p)}}   -{k_{on}__{(p)}}⎦  ⎣0   0⎦  ⎣rₘ  0⎦  ⎣0   γₘ⎦  ⎣0   rₚ⎦  \n",
       "\n",
       "⎡γₚ  0 ⎤⎞\n",
       "⎢      ⎥⎟\n",
       "⎣0   γₚ⎦⎠"
      ]
     },
     "execution_count": 7,
     "metadata": {},
     "output_type": "execute_result"
    }
   ],
   "source": [
    "# Define the rate constant matrix\n",
    "Km_unreg = sympy.Matrix([[-kp_off, kp_on], \n",
    "                           [kp_off, -kp_on]])\n",
    "\n",
    "# Define the mRNA production matrices\n",
    "Rm_unreg = sympy.Matrix([[rm, 0], \n",
    "                         [0, 0]])\n",
    "Re_unreg = sympy.Matrix([[0, 0], \n",
    "                         [rm, 0]])\n",
    "\n",
    "# Define the mRNA degradation matrix\n",
    "Gm_unreg = sympy.Matrix([[gm, 0],\n",
    "                         [0, gm]])\n",
    "\n",
    "# Define the protein production matrix\n",
    "Rp_unreg = sympy.Matrix([[rp, 0], \n",
    "                         [0, rp]])\n",
    "# Define the protein degradation matrix\n",
    "Gp_unreg = sympy.Matrix([[gp, 0],\n",
    "                         [0, gp]])\n",
    "\n",
    "Km_unreg, Rm_unreg, Re_unreg, Gm_unreg, Rp_unreg, Gp_unreg"
   ]
  },
  {
   "cell_type": "markdown",
   "metadata": {},
   "source": [
    "Just as in the previous case we now define a function to compute all momemnts.\n",
    "**Note:** for an explanation of this function look at the previous sections."
   ]
  },
  {
   "cell_type": "code",
   "execution_count": 8,
   "metadata": {},
   "outputs": [],
   "source": [
    "def coeff_dictionary(eq):\n",
    "    '''\n",
    "    Returns a dictionary with each of the coefficients for a given eqent\n",
    "    equation.\n",
    "\n",
    "    Parameter\n",
    "    ---------\n",
    "    eq : sympy expression.\n",
    "        Sympy expression for the eqent equation\n",
    "\n",
    "    Returns\n",
    "    -------\n",
    "    coeff_dict : dictionary.\n",
    "        Dictionary containing all the coefficients of each of the elements\n",
    "        in the polynomial eqent equation\n",
    "    '''\n",
    "    # Find the degree of the eqent for each of the variables\n",
    "    if eq.has(m):\n",
    "        m_degree = sympy.Poly(eq).degree(m)\n",
    "    else:\n",
    "        m_degree = 0\n",
    "    if eq.has(p):\n",
    "        p_degree = sympy.Poly(eq).degree(p)\n",
    "    else:\n",
    "        p_degree = 0\n",
    "    \n",
    "    return {m**x * p**y: eq.coeff(m**x * p**y).\\\n",
    "            subs([[m, 0], [p, 0]])\\\n",
    "            - eq.coeff(- m**x * p**y).\\\n",
    "            subs([[m, 0], [p, 0]])\n",
    "            for x in range(m_degree + 1)\n",
    "            for y in range(p_degree + 1)}"
   ]
  },
  {
   "cell_type": "code",
   "execution_count": 9,
   "metadata": {},
   "outputs": [],
   "source": [
    "def coeff_subs_escape(coeff_dict, Km_mat, Rm_mat, Re_mat, Gm_mat, Rp_mat, Gp_mat):\n",
    "    '''\n",
    "\n",
    "    Parameters\n",
    "    ----------\n",
    "    coeff_dict : dictionary.\n",
    "        Dictionary containing all the coefficients associated with each of the\n",
    "        moments in the moment equation.\n",
    "    Km_mat, Rm_mat, Gm_mat, Rp_mat, Gp_mat: 2D sympy matrices.\n",
    "        Sympy matrices that define the master equation.\n",
    "        Km_mat : transition between states\n",
    "        Rm_mat, Re_mat : mRNA production with promoter escape\n",
    "        Gm_mat : mRNA degradation\n",
    "        Rp_mat : protein production\n",
    "        Gp_mat : protein degradation\n",
    "\n",
    "    Returns\n",
    "    -------\n",
    "    mom_mat_dict : dictionary.\n",
    "        Dictionary containing each of the substitutted coefficients into matrices\n",
    "    '''\n",
    "    # Initialize dictionary to save the matrices\n",
    "    mom_mat_dict = dict()\n",
    "\n",
    "    # Loop through each of the coefficients and compute the operation\n",
    "    # NOTE: It is quite tricky to get it to work on sympy\n",
    "    for key, value in coeff_dict.items():\n",
    "        # Extract arguments for the item\n",
    "        args = value.args\n",
    "\n",
    "        # Check each of the possible cases\n",
    "\n",
    "        # 1. args is empty and value is zero :\n",
    "        # That is a term of the form {key : 0}\n",
    "        # Generate a matrix of zeros\n",
    "        if (len(args) == 0) & (value == 0):\n",
    "            mom_mat_dict[key] = sympy.zeros(*Km_mat.shape)\n",
    "\n",
    "        # 2. args is empty and value is not zero :\n",
    "        # That is the case where the term is a single matrix\n",
    "        # Substitute that value with the actual definition of the matrix\n",
    "        elif (len(args) == 0) & (value != 0):\n",
    "            mom_mat_dict[key] = value.subs([[Km, Km_mat],\n",
    "                                            [Rm, Rm_mat],\n",
    "                                            [Re, Re_mat],\n",
    "                                            [Gm, Gm_mat],\n",
    "                                            [Rp, Rp_mat],\n",
    "                                            [Gp, Gp_mat]])\n",
    "\n",
    "        # 3. args is not empty but one of the terms is an integer :\n",
    "        # That is the case where we have Number * Matrix.\n",
    "        # substitute the matrix and multiply it by the number\n",
    "        elif (len(args) != 0) & (any([x.is_Number for x in args])):\n",
    "            # Substitute value\n",
    "            term_list = [x.subs([[Km, Km_mat],\n",
    "                                 [Rm, Rm_mat],\n",
    "                                 [Re, Re_mat],\n",
    "                                 [Gm, Gm_mat],\n",
    "                                 [Rp, Rp_mat],\n",
    "                                 [Gp, Gp_mat]]) for x in value.args]\n",
    "            # Multiply matrix by constant and register case\n",
    "            mom_mat_dict[key] = np.prod(term_list)\n",
    "\n",
    "        # 4. args is not empty and non of the elements is an integer :\n",
    "        # Substitute matrices and reduce to single matrix.\n",
    "        else:\n",
    "            term_list = [x.subs([[Km, Km_mat],\n",
    "                                 [Rm, Rm_mat],\n",
    "                                 [Re, Re_mat],\n",
    "                                 [Gm, Gm_mat],\n",
    "                                 [Rp, Rp_mat],\n",
    "                                 [Gp, Gp_mat]]) for x in value.args]\n",
    "\n",
    "            # Perform a second round of checking. Elements that have for example\n",
    "            # Number * Matrix are not explicitly multiplied. For this we will use\n",
    "            # np.prod by splitting the terms again into its arguments and\n",
    "            # multiplying the the arguments\n",
    "            for i, term in enumerate(term_list):\n",
    "                if len(term.args) == 2:\n",
    "                    term_list[i] = np.prod(term.args)\n",
    "\n",
    "            # Add the matrices. In order to do so:\n",
    "            # the sum function has an optional \"start\" argument so you can\n",
    "            # initialize it with a \"zero object\" of the kind you are adding.\n",
    "            # In this case, with a zero matrix.\n",
    "            mom_mat_dict[key] = sum(term_list, sympy.zeros(*Km_mat.shape))\n",
    "            \n",
    "    return mom_mat_dict"
   ]
  },
  {
   "cell_type": "code",
   "execution_count": 12,
   "metadata": {},
   "outputs": [],
   "source": [
    "def moment_dict(moments, states=['E', 'P', 'R']):\n",
    "    '''\n",
    "    Function that generates automatically sympy variables for a given moment\n",
    "    one for each of the specified states.\n",
    "    \n",
    "    Parameters\n",
    "    ----------\n",
    "    moments : list.\n",
    "        List of sympy variables of the form m**x * p**y for which to \n",
    "        generate the moment variables.\n",
    "    states : array-like.\n",
    "        List containing strings that define each of the states for which\n",
    "        to define the moment variables.\n",
    "        \n",
    "    Returns\n",
    "    -------\n",
    "    moments_dict : dictionary.\n",
    "        dictionary containing all new defined variables associated with each\n",
    "        moment.\n",
    "    '''\n",
    "    # Initialize dictionary to save the variables\n",
    "    moments_dict = dict()\n",
    "    \n",
    "    # Loop through each of the moments adding the variables to the dictionary\n",
    "    for mom in moments:\n",
    "        # Process non-zero moments\n",
    "        if mom != 1:\n",
    "            # Find the degree of the moment for each of the variables\n",
    "            if mom.has(m):\n",
    "                m_degree = sympy.Poly(mom).degree(m)\n",
    "            else:\n",
    "                m_degree = 0\n",
    "            if mom.has(p):\n",
    "                p_degree = sympy.Poly(mom).degree(p)\n",
    "            else:\n",
    "                p_degree = 0\n",
    "\n",
    "            # Initialize list to save variables\n",
    "            mom_var = list()\n",
    "\n",
    "            # Loop through states to generate the variables\n",
    "            for s in states:\n",
    "                mom_var.append(sympy.Symbol('{\\\\langle ' +\n",
    "                               sympy.latex(mm**m_degree * pp**p_degree) +\n",
    "                                            '\\\\rangle}_' + s))\n",
    "        else:\n",
    "            # Initialize list to save variables\n",
    "            mom_var = list()\n",
    "            \n",
    "            # Loop through states to generate the variables\n",
    "            for s in states:\n",
    "                mom_var.append(sympy.Symbol('{\\\\langle m^0 p^0' +\n",
    "                                            '\\\\rangle}_' + s))\n",
    "        # Append variables to dictionary\n",
    "        moments_dict[mom] = mom_var\n",
    "        \n",
    "    return moments_dict"
   ]
  },
  {
   "cell_type": "code",
   "execution_count": 13,
   "metadata": {},
   "outputs": [],
   "source": [
    "def solve_moment_escape(moment_eq, m_expo, p_expo,\n",
    "                 Km_mat, Rm_mat, Re_mat, Gm_mat, Rp_mat, Gp_mat,\n",
    "                 states=['P', 'E', 'R']):\n",
    "    '''\n",
    "    Function that given a general moment equation and some exponents it solves\n",
    "    the linear system for m**m_expo * p**p_expo at steady state.\n",
    "    \n",
    "    Parameters\n",
    "    ----------\n",
    "    moment_eq : sympy expression.\n",
    "        Sympy equation for the general moment.\n",
    "    m_expo, p_expo : int.\n",
    "        Exponent of the moments that should be computed. These moments indicate\n",
    "        the moment of the form <m**m_expo * p**p_expo> that should be computed.\n",
    "    Km_mat, Rm_mat, Re_mat, Gm_mat, Rp_mat, Gp_mat: 2D sympy matrices.\n",
    "        Sympy matrices that define the master equation.\n",
    "        Km_mat : transition between states\n",
    "        Rm_mat, Re_mat : mRNA produciton\n",
    "        Gm_mat : mRNA degradation\n",
    "        Rp_mat : protein production\n",
    "        Gp_mat : protein degradation\n",
    "    states : array-like.\n",
    "        List of the name of the states that are included in the system.\n",
    "        \n",
    "    Returns\n",
    "    -------\n",
    "    mom_sol_dict : dictionary.\n",
    "        Dictionary containing the solution to the linear system for the desired\n",
    "        moment.\n",
    "    '''\n",
    "    # Define sympy variable for moment\n",
    "    moment = m**m_expo * p**p_expo\n",
    "    \n",
    "    # Find the equation for the moment.\n",
    "    mom_eq = moment_eq.subs([[x, m_expo], [y, p_expo]]).factor([m, p])\n",
    "    \n",
    "    # Extract coefficients from equation and save them as a dictionary\n",
    "    # in which each key is the moment and each value is the coefficient\n",
    "    # associated with that moment\n",
    "    mom_coeff_dict = coeff_dictionary(mom_eq)\n",
    "    \n",
    "    # Extract keys from dictionary\n",
    "    mom_keys = [key for key, value in mom_coeff_dict.items()]\n",
    "\n",
    "    # Generate variables for each of the moments and save them\n",
    "    # as a dictionary in which each key is the moment and each value\n",
    "    # is a list of the variables associated with the moment\n",
    "    mom_var_dict = moment_dict(mom_keys, states=states)\n",
    "    \n",
    "    # If asked for the zeroth moment the extended matrix is different\n",
    "    if m_expo + p_expo == 0:\n",
    "        # Obtain dictionary with subsituted matrices for each of the coefficients\n",
    "        # in the moment equation\n",
    "        mom_mat_dict = coeff_subs_escape(mom_coeff_dict, Km_mat, Rm_mat, Re_mat,\n",
    "                                     Gm_mat, Rp_mat, Gp_mat)\n",
    "        \n",
    "        # Build extended matrix adding extra row for normalization constraint\n",
    "        # Add the extra row for the normalization constraint\n",
    "        mom_aug_mat = mom_mat_dict[1].row_insert(0,\n",
    "                      sympy.ones(1, Km_mat.shape[0]))\n",
    "\n",
    "        # Define right-side array\n",
    "        b = sympy.zeros(mom_aug_mat.shape[0], 1)\n",
    "        b[0] = 1\n",
    "\n",
    "        # Define augmented matrix\n",
    "        mom_aug_mat = mom_aug_mat.col_insert(mom_aug_mat.shape[1], b)\n",
    "    \n",
    "        # Solve linear system for the moments\n",
    "        return sympy.solve_linear_system(sympy.Matrix(mom_aug_mat),\n",
    "                                         *mom_var_dict[1])\n",
    "        \n",
    "    # Obtain dictionary with subsituted matrices for each of the coefficients\n",
    "    # in the moment equation\n",
    "    mom_mat_dict = coeff_subs_escape(mom_coeff_dict, Km_mat, Rm_mat, Re_mat,\n",
    "                                     Gm_mat, Rp_mat, Gp_mat)\n",
    "\n",
    "    # Find the keys for the elements that are not the element we are computing\n",
    "    mom_right_keys = [key for key, value in mom_mat_dict.items() if key != moment]\n",
    "\n",
    "    # Initialize matrix that will be added to the right hand side\n",
    "    mom_right_hand = sympy.zeros(Km_mat.shape[0], 1)\n",
    "\n",
    "    # Loop through each of the keys and add to this matrix\n",
    "    for key in mom_right_keys:\n",
    "        mom_right_hand = mom_right_hand + mom_mat_dict[key] *\\\n",
    "                                        sympy.Matrix(mom_var_dict[key])\n",
    "\n",
    "    # add columns on the right hand side of minus the rest of the elements\n",
    "    mom_aug_mat = mom_mat_dict[moment].col_insert(Km_mat.shape[0], \n",
    "                                                  - mom_right_hand)\n",
    "    \n",
    "    # Solve linear system for the three moments\n",
    "    mom_sol_dict = sympy.solve_linear_system(mom_aug_mat, \n",
    "                                               *mom_var_dict[moment])\n",
    "    \n",
    "    return mom_sol_dict"
   ]
  },
  {
   "cell_type": "code",
   "execution_count": 18,
   "metadata": {},
   "outputs": [],
   "source": [
    "def sort_moments(expo_pairs):\n",
    "    '''\n",
    "    Sorts the moments in the right order for the substitutions to be done in the\n",
    "    proper order\n",
    "    \n",
    "    Parameter\n",
    "    ---------\n",
    "    expo_pairs : list.\n",
    "        list of exponents of the moments to be sorted\n",
    "    \n",
    "    Returns\n",
    "    -------\n",
    "    expo_sorted : list.\n",
    "        List of exponentes sorted in the right way\n",
    "    '''\n",
    "    # Initialize list to append sorted moments\n",
    "    expo_sorted = list()\n",
    "    \n",
    "    # Append mRNA moments\n",
    "    mRNA_mom = sorted([s for s in expo_pairs if s[1] == 0])\n",
    "    expo_sorted.append(mRNA_mom)\n",
    "    \n",
    "    # Find each protein moment\n",
    "    protein_mom = sorted([s for s in expo_pairs if (s[0] == 0) & (s[1] != 0)])\n",
    "    \n",
    "    # Loop through each protein moment and find the cross correlations\n",
    "    # associated with it\n",
    "    for p in protein_mom:\n",
    "        cross_corr = sorted([s for s in expo_pairs\n",
    "                             if (s[0] > 0) & (s[1] > 0) & (sum(s) == p[1])],\n",
    "                            reverse=True)\n",
    "        # append it to the list\n",
    "        expo_sorted.append(cross_corr)\n",
    "        expo_sorted.append([p])\n",
    "    \n",
    "    \n",
    "    return list(itertools.chain.from_iterable(expo_sorted))"
   ]
  },
  {
   "cell_type": "markdown",
   "metadata": {},
   "source": [
    "Let's define the necessary dictionaries to compute up to the 3rd protein moment."
   ]
  },
  {
   "cell_type": "code",
   "execution_count": 50,
   "metadata": {},
   "outputs": [
    {
     "data": {
      "image/png": "[encoded data removed]",
      "text/latex": [
       "$$\\left ( m, \\quad p\\right )$$"
      ],
      "text/plain": [
       "(m, p)"
      ]
     },
     "execution_count": 50,
     "metadata": {},
     "output_type": "execute_result"
    }
   ],
   "source": [
    "# Define non-bold variables for m and p\n",
    "mm, pp = sympy.symbols('m p')\n",
    "mm, pp"
   ]
  },
  {
   "cell_type": "code",
   "execution_count": 51,
   "metadata": {},
   "outputs": [],
   "source": [
    "# Define exponents\n",
    "m_exp, p_exp = 0, 3\n",
    "\n",
    "# Find possible pairs of exponents\n",
    "expo_pairs = list(itertools.permutations(range(max([m_exp, p_exp]) + 1), 2))\n",
    "\n",
    "# Add the (num, num) pair that are not being included\n",
    "expo_pairs = expo_pairs + [tuple([s, s]) for s in range(max([m_exp, p_exp]))]\n",
    "\n",
    "# Remove the ones that does not satisfy x' + y' <= x + y\n",
    "expo_pairs = [x for x in expo_pairs if sum(x) <= m_exp + p_exp]\n",
    "\n",
    "# Initialize dictionary that will save each of the solutions dictionaries\n",
    "# That's right, this will be a dictionary with dictionaries as values for each key\n",
    "mom_sol_dict = {m**x * p**y : solve_moment_escape(master_escape, x, y,\n",
    "                              Km_unreg, Rm_unreg, Re_unreg,\n",
    "                              Gm_unreg, Rp_unreg, Gp_unreg,\n",
    "                              ['P', 'E']) \n",
    "               for (x, y) in expo_pairs}"
   ]
  },
  {
   "cell_type": "markdown",
   "metadata": {},
   "source": [
    "Now the systematic substitutions to solve for the moments."
   ]
  },
  {
   "cell_type": "code",
   "execution_count": 54,
   "metadata": {},
   "outputs": [
    {
     "name": "stdout",
     "output_type": "stream",
     "text": [
      "1 0\n",
      "2 0\n",
      "3 0\n",
      "0 1\n",
      "1 1\n",
      "0 2\n",
      "2 1\n",
      "1 2\n",
      "0 3\n"
     ]
    }
   ],
   "source": [
    "# Extract all variables involved in the solutionsk\n",
    "keys = [key for key in mom_sol_dict.keys()]\n",
    "mom_vars = [value for key, value  in moment_dict(keys, states=['P', 'E']).items()]\n",
    "mom_vars = list(itertools.chain.from_iterable(mom_vars))\n",
    "\n",
    "# Initialize array with substituted solutions. For this we only need to\n",
    "# start with the zeroth moment\n",
    "mom_sol_subs_dict = mom_sol_dict[1].copy()\n",
    "\n",
    "# Sort the exponents to perform the substitutions in the right order\n",
    "expo_sorted = sort_moments(expo_pairs)\n",
    "\n",
    "# Loop through each of the moments substituting the solution of the previous one\n",
    "for m_exp, p_exp in expo_sorted[1:]:\n",
    "    print(m_exp, p_exp)\n",
    "    # Extract moment to be substituted\n",
    "    sub_mom = mom_sol_dict[m**m_exp * p**p_exp].copy()\n",
    "    \n",
    "    # Loop through each of the elements of this moment\n",
    "    for mom_raw, sol_raw in sub_mom.items():\n",
    "        # Find all variables involved in this solution\n",
    "        symbols = list(set(list(sol_raw.free_symbols)))\n",
    "        \n",
    "        # Keep only the moment variables to be substituted\n",
    "        var_subs = [s for s in symbols if s in mom_vars]\n",
    "        \n",
    "        # Initialize dictionary to save all substituted variables\n",
    "        sub_dict = dict()\n",
    "        # Loop through these variables substitutting them\n",
    "        for var in var_subs:\n",
    "            sub_dict[var] = mom_sol_subs_dict[var]\n",
    "            \n",
    "        # Substitute all variables\n",
    "        sub_mom[mom_raw] = sub_mom[mom_raw].subs(sub_dict)\n",
    "    \n",
    "    \n",
    "        # Add substituted solution to dictionary\n",
    "        mom_sol_subs_dict[mom_raw] = sub_mom[mom_raw]"
   ]
  },
  {
   "cell_type": "markdown",
   "metadata": {},
   "source": [
    "### Generate `lambdify` functions.\n",
    "\n",
    "Having computed the solutions purely as function of the rates we now can generate the `lambdify` functions that will allow us to evaluate these moments numerically.\n",
    "\n",
    "In order to make this effective we will generate a dictionary where the `key` will be a pair of exponents $(x, y)$ and the `value` will be will be the `lambidfy` function for the global moment.\n",
    "\n",
    "First let's collect the global moments by adding the individual promoter state moments."
   ]
  },
  {
   "cell_type": "code",
   "execution_count": 55,
   "metadata": {},
   "outputs": [],
   "source": [
    "# Extract the moments\n",
    "moments = [key for key in mom_sol_dict.keys()]\n",
    "\n",
    "# Generate the dictionary with all the variables\n",
    "mom_var_dict = moment_dict(moments, states=['P', 'E'])\n",
    "\n",
    "# Initialize dictionary to save global moments\n",
    "mom_global = {}\n",
    "\n",
    "# Loop through each of the moments, extract the solution for each of the\n",
    "# moments and add them to obtain the global moment\n",
    "for key, value in mom_var_dict.items():\n",
    "    # Extract the solutions for each individual moment and add them\n",
    "    mom_global[key] = sum([mom_sol_subs_dict[s] for s in value])"
   ]
  },
  {
   "cell_type": "markdown",
   "metadata": {},
   "source": [
    "Let's confirm that the substitutions were performed correctly by checking that no residual moment variables are left in the solutions."
   ]
  },
  {
   "cell_type": "code",
   "execution_count": 56,
   "metadata": {},
   "outputs": [
    {
     "data": {
      "image/png": "[encoded data removed]",
      "text/latex": [
       "$$\\left\\{\\gamma_{m}, \\gamma_{p}, r_{m}, r_{p}, {k_{off}^{(p)}}, {k_{on}^{(p)}}\\right\\}$$"
      ],
      "text/plain": [
       "set([γₘ, γₚ, rₘ, rₚ, {k_{off}__{(p)}}, {k_{on}__{(p)}}])"
      ]
     },
     "execution_count": 56,
     "metadata": {},
     "output_type": "execute_result"
    }
   ],
   "source": [
    "# Initialize list to save variables on each moment\n",
    "mom_global_var = list()\n",
    "\n",
    "# Loop trhough each moment and extract the free symbols\n",
    "for key, value in mom_sol_subs_dict.items():\n",
    "    mom_global_var.append(list(value.free_symbols))\n",
    "\n",
    "# Find the unique variables\n",
    "unique_sym = set([item for sublist in mom_global_var for item in sublist])\n",
    "unique_sym"
   ]
  },
  {
   "cell_type": "markdown",
   "metadata": {},
   "source": [
    "As before let's export the functions to numerically evaluate the solutions into a dictionary that we can import in other scripts."
   ]
  },
  {
   "cell_type": "code",
   "execution_count": 57,
   "metadata": {},
   "outputs": [
    {
     "name": "stdout",
     "output_type": "stream",
     "text": [
      "(0, 1)\n",
      "(0, 2)\n",
      "(0, 3)\n",
      "(1, 0)\n",
      "(1, 2)\n",
      "(2, 0)\n",
      "(2, 1)\n",
      "(3, 0)\n",
      "(0, 0)\n",
      "(1, 1)\n"
     ]
    }
   ],
   "source": [
    "# Define array containing variables\n",
    "var = [kp_on, kp_off, rm, gm, rp, gp]\n",
    "\n",
    "# Initialize dictionary to save lambdify functions\n",
    "mom_global_lambdify = {}\n",
    "\n",
    "# Loop through every global moment\n",
    "for key, value in mom_global.items():\n",
    "    # Find the exponents of the moment\n",
    "    if key.has(m):\n",
    "        m_degree = sympy.Poly(key).degree(m)\n",
    "    else:\n",
    "        m_degree = 0\n",
    "    if key.has(p):\n",
    "        p_degree = sympy.Poly(key).degree(p)\n",
    "    else:\n",
    "        p_degree = 0\n",
    "    print((m_degree, p_degree))\n",
    "    \n",
    "    # Generate and save into the dictionary the lambdify function.\n",
    "    mom_global_lambdify[(m_degree, p_degree)] = sympy.lambdify(var, value, \n",
    "                                                               modules='numexpr')"
   ]
  },
  {
   "cell_type": "code",
   "execution_count": 58,
   "metadata": {},
   "outputs": [],
   "source": [
    "export = False\n",
    "if export:\n",
    "    # Open file to save functions\n",
    "    with open('./two_state_moments_escape_lambdify.dill', 'wb') as file:\n",
    "        cloudpickle.dump(mom_global_lambdify, file)"
   ]
  },
  {
   "cell_type": "markdown",
   "metadata": {},
   "source": [
    "### Three-state promoter moments with escape"
   ]
  },
  {
   "cell_type": "markdown",
   "metadata": {},
   "source": [
    "Let's now repeat the exact same calculation for the three-state promoter case.\n",
    "\n",
    "We will jump straight to define the matrices for the master equation."
   ]
  },
  {
   "cell_type": "code",
   "execution_count": 26,
   "metadata": {},
   "outputs": [
    {
     "data": {
      "image/png": "[encoded data removed]",
      "text/latex": [
       "$$\\left ( \\left[\\begin{matrix}- {k_{off}^{(p)}} & {k_{on}^{(p)}} & 0\\\\{k_{off}^{(p)}} & - {k_{on}^{(p)}} - {k_{on}^{(r)}} & {k_{off}^{(r)}}\\\\0 & {k_{on}^{(r)}} & - {k_{off}^{(r)}}\\end{matrix}\\right], \\quad \\left[\\begin{matrix}r_{m} & 0 & 0\\\\0 & 0 & 0\\\\0 & 0 & 0\\end{matrix}\\right], \\quad \\left[\\begin{matrix}0 & 0 & 0\\\\r_{m} & 0 & 0\\\\0 & 0 & 0\\end{matrix}\\right], \\quad \\left[\\begin{matrix}\\gamma_{m} & 0 & 0\\\\0 & \\gamma_{m} & 0\\\\0 & 0 & \\gamma_{m}\\end{matrix}\\right], \\quad \\left[\\begin{matrix}r_{p} & 0 & 0\\\\0 & r_{p} & 0\\\\0 & 0 & r_{p}\\end{matrix}\\right], \\quad \\left[\\begin{matrix}\\gamma_{p} & 0 & 0\\\\0 & \\gamma_{p} & 0\\\\0 & 0 & \\gamma_{p}\\end{matrix}\\right]\\right )$$"
      ],
      "text/plain": [
       "⎛⎡-{k_{off}__{(p)}}           {k_{on}__{(p)}}                    0        ⎤  ⎡\n",
       "⎜⎢                                                                        ⎥  ⎢\n",
       "⎜⎢{k_{off}__{(p)}}   -{k_{on}__{(p)}} - {k_{on}__{(r)}}  {k_{off}__{(r)}} ⎥, ⎢\n",
       "⎜⎢                                                                        ⎥  ⎢\n",
       "⎝⎣        0                   {k_{on}__{(r)}}            -{k_{off}__{(r)}}⎦  ⎣\n",
       "\n",
       "rₘ  0  0⎤  ⎡0   0  0⎤  ⎡γₘ  0   0 ⎤  ⎡rₚ  0   0 ⎤  ⎡γₚ  0   0 ⎤⎞\n",
       "        ⎥  ⎢        ⎥  ⎢          ⎥  ⎢          ⎥  ⎢          ⎥⎟\n",
       "0   0  0⎥, ⎢rₘ  0  0⎥, ⎢0   γₘ  0 ⎥, ⎢0   rₚ  0 ⎥, ⎢0   γₚ  0 ⎥⎟\n",
       "        ⎥  ⎢        ⎥  ⎢          ⎥  ⎢          ⎥  ⎢          ⎥⎟\n",
       "0   0  0⎦  ⎣0   0  0⎦  ⎣0   0   γₘ⎦  ⎣0   0   rₚ⎦  ⎣0   0   γₚ⎦⎠"
      ]
     },
     "execution_count": 26,
     "metadata": {},
     "output_type": "execute_result"
    }
   ],
   "source": [
    "# Define the rate constant matrix\n",
    "Km_reg = sympy.Matrix([[-kp_off, kp_on, 0], \n",
    "                         [kp_off, -(kp_on + kr_on), kr_off],\n",
    "                         [0, kr_on, -kr_off]])\n",
    "# Define the production matrix\n",
    "Rm_reg = sympy.Matrix([[rm, 0, 0],\n",
    "                       [0, 0, 0],\n",
    "                       [0, 0, 0]])\n",
    "Re_reg = sympy.Matrix([[0, 0, 0],\n",
    "                       [rm, 0, 0],\n",
    "                       [0, 0, 0]])\n",
    "#\n",
    "# Define the degradation matrix\n",
    "Gm_reg = sympy.Matrix([[gm, 0, 0],\n",
    "                       [0, gm, 0],\n",
    "                       [0, 0, gm]])\n",
    "\n",
    "# Define the production matrix\n",
    "Rp_reg = sympy.Matrix([[rp, 0, 0],\n",
    "                       [0, rp, 0],\n",
    "                       [0, 0, rp]])\n",
    "\n",
    "# Define the production matrix\n",
    "Gp_reg = sympy.Matrix([[gp, 0, 0],\n",
    "                       [0, gp, 0],\n",
    "                       [0, 0, gp]])\n",
    "\n",
    "\n",
    "Km_reg, Rm_reg, Re_reg, Gm_reg, Rp_reg, Gp_reg"
   ]
  },
  {
   "cell_type": "markdown",
   "metadata": {},
   "source": [
    "Now let's find the solutions of the linear systems for each moment."
   ]
  },
  {
   "cell_type": "code",
   "execution_count": 27,
   "metadata": {},
   "outputs": [],
   "source": [
    "# Define exponents\n",
    "m_exp, p_exp = 0, 3\n",
    "\n",
    "# Find possible pairs of exponents\n",
    "expo_pairs = list(itertools.permutations(range(max([m_exp, p_exp]) + 1), 2))\n",
    "\n",
    "# Add the (num, num) pair that are not being included\n",
    "expo_pairs = expo_pairs + [tuple([s, s]) for s in range(max([m_exp, p_exp]))]\n",
    "\n",
    "# Remove the ones that does not satisfy x' + y' <= x + y\n",
    "expo_pairs = [x for x in expo_pairs if sum(x) <= m_exp + p_exp]\n",
    "\n",
    "# Initialize dictionary that will save each of the solutions dictionaries\n",
    "# That's right, this will be a dictionary with dictionaries as values for each key\n",
    "mom_sol_dict = {m**x * p**y : solve_moment_escape(master_escape, x, y,\n",
    "                              Km_reg, Rm_reg, Re_reg,\n",
    "                              Gm_reg, Rp_reg, Gp_reg,\n",
    "                              ['P', 'E', 'R']) \n",
    "               for (x, y) in expo_pairs}"
   ]
  },
  {
   "cell_type": "markdown",
   "metadata": {},
   "source": [
    "Let's check if the global first mRNA moment makes sense with what we know from the previous cases."
   ]
  },
  {
   "cell_type": "code",
   "execution_count": 29,
   "metadata": {},
   "outputs": [
    {
     "data": {
      "image/png": "[encoded data removed]",
      "text/latex": [
       "$$\\frac{r_{m}}{\\gamma_{m}} {\\langle m^0 p^0\\rangle}_P$$"
      ],
      "text/plain": [
       "rₘ⋅{\\langle m_P__0 p__0\\rangle}\n",
       "───────────────────────────────\n",
       "               γₘ              "
      ]
     },
     "execution_count": 29,
     "metadata": {},
     "output_type": "execute_result"
    }
   ],
   "source": [
    "sum([val for val in mom_sol_dict[m].values()]).simplify()"
   ]
  },
  {
   "cell_type": "markdown",
   "metadata": {},
   "source": [
    "Having gotten that let's substitute the variables."
   ]
  },
  {
   "cell_type": "code",
   "execution_count": 30,
   "metadata": {},
   "outputs": [
    {
     "name": "stdout",
     "output_type": "stream",
     "text": [
      "1 0\n",
      "2 0\n",
      "3 0\n",
      "0 1\n",
      "1 1\n",
      "0 2\n",
      "2 1\n",
      "1 2\n",
      "0 3\n"
     ]
    }
   ],
   "source": [
    "# Extract all variables involved in the solutionsk\n",
    "keys = [key for key in mom_sol_dict.keys()]\n",
    "mom_vars = [value for key, value  in \n",
    "            moment_dict(keys, states=['P', 'E', 'R']).items()]\n",
    "mom_vars = list(itertools.chain.from_iterable(mom_vars))\n",
    "\n",
    "# Initialize array with substituted solutions. For this we only need to\n",
    "# start with the zeroth moment\n",
    "mom_sol_subs_dict = mom_sol_dict[1].copy()\n",
    "\n",
    "# Sort the exponents to perform the substitutions in the right order\n",
    "expo_sorted = sort_moments(expo_pairs)\n",
    "\n",
    "# Loop through each of the moments substituting the solution of the previous one\n",
    "for m_exp, p_exp in expo_sorted[1:]:\n",
    "    print(m_exp, p_exp)\n",
    "    # Extract moment to be substituted\n",
    "    sub_mom = mom_sol_dict[m**m_exp * p**p_exp].copy()\n",
    "    \n",
    "    # Loop through each of the elements of this moment\n",
    "    for mom_raw, sol_raw in sub_mom.items():\n",
    "        # Find all variables involved in this solution\n",
    "        symbols = list(set(list(sol_raw.free_symbols)))\n",
    "        \n",
    "        # Keep only the moment variables to be substituted\n",
    "        var_subs = [s for s in symbols if s in mom_vars]\n",
    "        \n",
    "        # Initialize dictionary to save all substituted variables\n",
    "        sub_dict = dict()\n",
    "        # Loop through these variables substitutting them\n",
    "        for var in var_subs:\n",
    "            sub_dict[var] = mom_sol_subs_dict[var]\n",
    "            \n",
    "        # Substitute all variables\n",
    "        sub_mom[mom_raw] = sub_mom[mom_raw].subs(sub_dict)\n",
    "    \n",
    "    \n",
    "        # Add substituted solution to dictionary\n",
    "        mom_sol_subs_dict[mom_raw] = sub_mom[mom_raw]"
   ]
  },
  {
   "cell_type": "code",
   "execution_count": 322,
   "metadata": {},
   "outputs": [
    {
     "data": {
      "image/png": "[encoded data removed]",
      "text/latex": [
       "$$\\frac{r_{m}}{\\gamma_{m}} {\\langle m^0 p^0\\rangle}_P$$"
      ],
      "text/plain": [
       "rₘ⋅{\\langle m_P__0 p__0\\rangle}\n",
       "───────────────────────────────\n",
       "               γₘ              "
      ]
     },
     "execution_count": 322,
     "metadata": {},
     "output_type": "execute_result"
    }
   ],
   "source": [
    "sum([val for val in mom_sol_dict[m].values()]).simplify()"
   ]
  },
  {
   "cell_type": "code",
   "execution_count": 31,
   "metadata": {},
   "outputs": [],
   "source": [
    "# Extract the moments\n",
    "moments = [key for key in mom_sol_dict.keys()]\n",
    "\n",
    "# Generate the dictionary with all the variables\n",
    "mom_var_dict = moment_dict(moments, states=['P', 'E', 'R'])\n",
    "\n",
    "# Initialize dictionary to save global moments\n",
    "mom_global_reg = {}\n",
    "\n",
    "# Loop through each of the moments, extract the solution for each of the\n",
    "# moments and add them to obtain the global moment\n",
    "for key, value in mom_var_dict.items():\n",
    "    # Extract the solutions for each individual moment and add them\n",
    "    mom_global_reg[key] = sum([mom_sol_subs_dict[s] for s in value])"
   ]
  },
  {
   "cell_type": "code",
   "execution_count": 32,
   "metadata": {},
   "outputs": [
    {
     "data": {
      "image/png": "[encoded data removed]",
      "text/latex": [
       "$$\\left\\{\\gamma_{m}, \\gamma_{p}, r_{m}, r_{p}, {k_{off}^{(p)}}, {k_{off}^{(r)}}, {k_{on}^{(p)}}, {k_{on}^{(r)}}\\right\\}$$"
      ],
      "text/plain": [
       "set([γₘ, γₚ, rₘ, rₚ, {k_{off}__{(p)}}, {k_{off}__{(r)}}, {k_{on}__{(p)}}, {k_{\n",
       "on}__{(r)}}])"
      ]
     },
     "execution_count": 32,
     "metadata": {},
     "output_type": "execute_result"
    }
   ],
   "source": [
    "# Initialize list to save variables on each moment\n",
    "mom_global_var = list()\n",
    "\n",
    "# Loop trhough each moment and extract the free symbols\n",
    "for key, value in mom_sol_subs_dict.items():\n",
    "    mom_global_var.append(list(value.free_symbols))\n",
    "\n",
    "# Find the unique variables\n",
    "unique_sym = set([item for sublist in mom_global_var for item in sublist])\n",
    "unique_sym"
   ]
  },
  {
   "cell_type": "markdown",
   "metadata": {},
   "source": [
    "#### Export solutions with pickle"
   ]
  },
  {
   "cell_type": "markdown",
   "metadata": {},
   "source": [
    "Having solved the moments for both the two- and three-state promoter let's export the solutions."
   ]
  },
  {
   "cell_type": "code",
   "execution_count": 34,
   "metadata": {},
   "outputs": [],
   "source": [
    "export = False\n",
    "if export:\n",
    "    with open(tmpdir + 'two_three_state_promoter_states_sympy.cpkl', 'wb') as file:\n",
    "        cloudpickle.dump(mom_global, file)\n",
    "        cloudpickle.dump(mom_global_reg, file)"
   ]
  },
  {
   "cell_type": "markdown",
   "metadata": {},
   "source": [
    "#### Export `lambdify` functions."
   ]
  },
  {
   "cell_type": "markdown",
   "metadata": {},
   "source": [
    "Let's generate the `lambdify` functions and export them."
   ]
  },
  {
   "cell_type": "code",
   "execution_count": 35,
   "metadata": {},
   "outputs": [
    {
     "name": "stdout",
     "output_type": "stream",
     "text": [
      "(0, 1)\n",
      "(0, 2)\n",
      "(0, 3)\n",
      "(1, 0)\n",
      "(1, 2)\n",
      "(2, 0)\n",
      "(2, 1)\n",
      "(3, 0)\n",
      "(0, 0)\n",
      "(1, 1)\n"
     ]
    }
   ],
   "source": [
    "# Define array containing variables\n",
    "var = [kp_on, kp_off, rm, gm, rp, gp]\n",
    "\n",
    "# Initialize dictionary to save lambdify functions\n",
    "mom_global_lambdify = {}\n",
    "\n",
    "# Loop through every global moment\n",
    "for key, value in mom_global_reg.items():\n",
    "    # Find the exponents of the moment\n",
    "    if key.has(m):\n",
    "        m_degree = sympy.Poly(key).degree(m)\n",
    "    else:\n",
    "        m_degree = 0\n",
    "    if key.has(p):\n",
    "        p_degree = sympy.Poly(key).degree(p)\n",
    "    else:\n",
    "        p_degree = 0\n",
    "    print((m_degree, p_degree))\n",
    "    \n",
    "    # Generate and save into the dictionary the lambdify function.\n",
    "    mom_global_lambdify[(m_degree, p_degree)] = sympy.lambdify(var, value, \n",
    "                                                               modules='numexpr')"
   ]
  },
  {
   "cell_type": "code",
   "execution_count": 37,
   "metadata": {},
   "outputs": [],
   "source": [
    "export = False\n",
    "if export:\n",
    "    # Open file to save functions\n",
    "    with open('./three_state_moments_escape_lambdify.dill', 'wb') as file:\n",
    "        cloudpickle.dump(mom_global_lambdify, file)"
   ]
  },
  {
   "cell_type": "markdown",
   "metadata": {},
   "source": [
    "## Calculating more mRNA moments with escape"
   ]
  },
  {
   "cell_type": "markdown",
   "metadata": {},
   "source": [
    "In order to get a better handle of the parameters let's compute more moments only for the mRNA distribution of both the two-and three-state promoters with RNAP escape."
   ]
  },
  {
   "cell_type": "code",
   "execution_count": 89,
   "metadata": {},
   "outputs": [],
   "source": [
    "# Define exponents\n",
    "m_exp, p_exp = 3, 0\n",
    "\n",
    "# Find possible pairs of exponents\n",
    "expo_pairs = list(itertools.permutations(range(max([m_exp, p_exp]) + 1), 2))\n",
    "expo_pairs = [x for x in expo_pairs if x[1] == 0]\n",
    "expo_pairs.append((0, 0))\n",
    "\n",
    "# Initialize dictionary that will save each of the solutions dictionaries\n",
    "# That's right, this will be a dictionary with dictionaries as values for each key\n",
    "mom_sol_dict = {m**x * p**y : solve_moment_escape(master_escape, x, y,\n",
    "                              Km_unreg, Rm_unreg, Re_unreg, Gm_unreg, \n",
    "                              Rp_unreg, Gp_unreg,\n",
    "                              ['P', 'E']) \n",
    "               for (x, y) in expo_pairs}"
   ]
  },
  {
   "cell_type": "code",
   "execution_count": 90,
   "metadata": {},
   "outputs": [
    {
     "name": "stdout",
     "output_type": "stream",
     "text": [
      "1 0\n",
      "2 0\n",
      "3 0\n"
     ]
    }
   ],
   "source": [
    "# Extract all variables involved in the solutions\n",
    "keys = [key for key in mom_sol_dict.keys()]\n",
    "mom_vars = [value for key, value  in moment_dict(keys).items()]\n",
    "mom_vars = list(itertools.chain.from_iterable(mom_vars))\n",
    "\n",
    "# Initialize array with substituted solutions. For this we only need to\n",
    "# start with the zeroth moment\n",
    "mom_sol_subs_dict = mom_sol_dict[1].copy()\n",
    "\n",
    "# Sort the exponents to perform the substitutions in the right order\n",
    "expo_sorted = sort_moments(expo_pairs)\n",
    "\n",
    "# Loop through each of the moments substituting the solution of the previous one\n",
    "for m_exp, p_exp in expo_sorted[1:]:\n",
    "    print(m_exp, p_exp)\n",
    "    # Extract moment to be substituted\n",
    "    sub_mom = mom_sol_dict[m**m_exp * p**p_exp].copy()\n",
    "    \n",
    "    # Loop through each of the elements of this moment\n",
    "    for mom_raw, sol_raw in sub_mom.items():\n",
    "        # Find all variables involved in this solution\n",
    "        symbols = list(set(list(sol_raw.free_symbols)))\n",
    "        \n",
    "        # Keep only the moment variables to be substituted\n",
    "        var_subs = [s for s in symbols if s in mom_vars]\n",
    "        \n",
    "        # Initialize dictionary to save all substituted variables\n",
    "        sub_dict = dict()\n",
    "        # Loop through these variables substitutting them\n",
    "        for var in var_subs:\n",
    "            sub_dict[var] = mom_sol_subs_dict[var]\n",
    "            \n",
    "        # Substitute all variables\n",
    "        sub_mom[mom_raw] = sub_mom[mom_raw].subs(sub_dict)\n",
    "    \n",
    "        # Add substituted solution to dictionary\n",
    "        mom_sol_subs_dict[mom_raw] = sub_mom[mom_raw]"
   ]
  },
  {
   "cell_type": "code",
   "execution_count": 91,
   "metadata": {},
   "outputs": [],
   "source": [
    "# Extract the moments\n",
    "moments = [key for key in mom_sol_dict.keys()]\n",
    "\n",
    "# Generate the dictionary with all the variables\n",
    "mom_var_dict = moment_dict(moments, states=['P', 'E'])\n",
    "\n",
    "# Initialize dictionary to save global moments\n",
    "mom_global_mRNA = {}\n",
    "\n",
    "# Loop through each of the moments, extract the solution for each of the\n",
    "# moments and add them to obtain the global moment\n",
    "for key, value in mom_var_dict.items():\n",
    "    # Extract the solutions for each individual moment and add them\n",
    "    mom_global_mRNA[key] = sum([mom_sol_subs_dict[s] for s in value])"
   ]
  },
  {
   "cell_type": "markdown",
   "metadata": {},
   "source": [
    "Now we calculate the global moments adding the individual state moments."
   ]
  },
  {
   "cell_type": "code",
   "execution_count": 92,
   "metadata": {},
   "outputs": [],
   "source": [
    "# Extract the moments\n",
    "moments = [key for key in mom_sol_dict.keys()]\n",
    "\n",
    "# Generate the dictionary with all the variables\n",
    "mom_var_dict = moment_dict(moments, states=['P', 'E'])\n",
    "\n",
    "# Initialize dictionary to save global moments\n",
    "mom_global_mRNA = {}\n",
    "\n",
    "# Loop through each of the moments, extract the solution for each of the\n",
    "# moments and add them to obtain the global moment\n",
    "for key, value in mom_var_dict.items():\n",
    "    # Extract the solutions for each individual moment and add them\n",
    "    mom_global_mRNA[key] = sum([mom_sol_subs_dict[s] for s in value])"
   ]
  },
  {
   "cell_type": "markdown",
   "metadata": {},
   "source": [
    "And finally we export it into `lambdify` functions."
   ]
  },
  {
   "cell_type": "code",
   "execution_count": 93,
   "metadata": {},
   "outputs": [
    {
     "name": "stdout",
     "output_type": "stream",
     "text": [
      "(1, 0)\n",
      "(2, 0)\n",
      "(3, 0)\n",
      "(0, 0)\n"
     ]
    }
   ],
   "source": [
    "# Define array containing variables\n",
    "var = [kp_on, kp_off, rm, gm]\n",
    "\n",
    "# Initialize dictionary to save lambdify functions\n",
    "mom_global_mRNA_lambdify = {}\n",
    "\n",
    "# Loop through every global moment\n",
    "for key, value in mom_global_mRNA.items():\n",
    "    # Find the exponents of the moment\n",
    "    if key.has(m):\n",
    "        m_degree = sympy.Poly(key).degree(m)\n",
    "    else:\n",
    "        m_degree = 0\n",
    "    if key.has(p):\n",
    "        p_degree = sympy.Poly(key).degree(p)\n",
    "    else:\n",
    "        p_degree = 0\n",
    "    print((m_degree, p_degree))\n",
    "    \n",
    "    # Generate and save into the dictionary the lambdify function.\n",
    "    mom_global_mRNA_lambdify[(m_degree, p_degree)] = sympy.lambdify(var, value, \n",
    "                                                               modules='numexpr')"
   ]
  },
  {
   "cell_type": "code",
   "execution_count": 94,
   "metadata": {},
   "outputs": [],
   "source": [
    "export = True\n",
    "if export:\n",
    "    # Open file to save functions\n",
    "    with open('./two_state_escape_mRNA_moments_lambdify.dill', 'wb') as file:\n",
    "        cloudpickle.dump(mom_global_mRNA_lambdify, file)"
   ]
  },
  {
   "cell_type": "markdown",
   "metadata": {},
   "source": [
    "#### Regulated promoter"
   ]
  },
  {
   "cell_type": "markdown",
   "metadata": {},
   "source": [
    "Let's now compute more mRNA moments for the regulated promoter."
   ]
  },
  {
   "cell_type": "code",
   "execution_count": 454,
   "metadata": {},
   "outputs": [],
   "source": [
    "# Define exponents\n",
    "m_exp, p_exp = 6, 0\n",
    "\n",
    "# Find possible pairs of exponents\n",
    "expo_pairs = list(itertools.permutations(range(max([m_exp, p_exp]) + 1), 2))\n",
    "expo_pairs = [x for x in expo_pairs if x[1] == 0]\n",
    "expo_pairs.append((0, 0))\n",
    "\n",
    "# Initialize dictionary that will save each of the solutions dictionaries\n",
    "# That's right, this will be a dictionary with dictionaries as values for each key\n",
    "mom_sol_reg_dict = {m**x * p**y : solve_moment_escape(master_escape, x, y,\n",
    "                              Km_reg, Rm_reg, Re_reg, Gm_reg, \n",
    "                              Rp_reg, Gp_reg,\n",
    "                              ['P', 'E', 'R']) \n",
    "               for (x, y) in expo_pairs}"
   ]
  },
  {
   "cell_type": "code",
   "execution_count": 455,
   "metadata": {},
   "outputs": [
    {
     "name": "stdout",
     "output_type": "stream",
     "text": [
      "1 0\n",
      "2 0\n",
      "3 0\n",
      "4 0\n",
      "5 0\n",
      "6 0\n"
     ]
    }
   ],
   "source": [
    "# Extract all variables involved in the solutions\n",
    "keys = [key for key in mom_sol_reg_dict.keys()]\n",
    "mom_vars = [value for key, value  in moment_dict(keys).items()]\n",
    "mom_vars = list(itertools.chain.from_iterable(mom_vars))\n",
    "\n",
    "# Initialize array with substituted solutions. For this we only need to\n",
    "# start with the zeroth moment\n",
    "mom_sol_subs_dict = mom_sol_reg_dict[1].copy()\n",
    "\n",
    "# Sort the exponents to perform the substitutions in the right order\n",
    "expo_sorted = sort_moments(expo_pairs)\n",
    "\n",
    "# Loop through each of the moments substituting the solution of the previous one\n",
    "for m_exp, p_exp in expo_sorted[1:]:\n",
    "    print(m_exp, p_exp)\n",
    "    # Extract moment to be substituted\n",
    "    sub_mom = mom_sol_reg_dict[m**m_exp * p**p_exp].copy()\n",
    "    \n",
    "    # Loop through each of the elements of this moment\n",
    "    for mom_raw, sol_raw in sub_mom.items():\n",
    "        # Find all variables involved in this solution\n",
    "        symbols = list(set(list(sol_raw.free_symbols)))\n",
    "        \n",
    "        # Keep only the moment variables to be substituted\n",
    "        var_subs = [s for s in symbols if s in mom_vars]\n",
    "        \n",
    "        # Initialize dictionary to save all substituted variables\n",
    "        sub_dict = dict()\n",
    "        # Loop through these variables substitutting them\n",
    "        for var in var_subs:\n",
    "            sub_dict[var] = mom_sol_subs_dict[var]\n",
    "            \n",
    "        # Substitute all variables\n",
    "        sub_mom[mom_raw] = sub_mom[mom_raw].subs(sub_dict)\n",
    "    \n",
    "        # Add substituted solution to dictionary\n",
    "        mom_sol_subs_dict[mom_raw] = sub_mom[mom_raw]"
   ]
  },
  {
   "cell_type": "code",
   "execution_count": 456,
   "metadata": {},
   "outputs": [],
   "source": [
    "# Extract the moments\n",
    "moments = [key for key in mom_sol_dict.keys()]\n",
    "\n",
    "# Generate the dictionary with all the variables\n",
    "mom_var_dict = moment_dict(moments, states=['P', 'E', 'R'])\n",
    "\n",
    "# Initialize dictionary to save global moments\n",
    "mom_global_mRNA_reg = {}\n",
    "\n",
    "# Loop through each of the moments, extract the solution for each of the\n",
    "# moments and add them to obtain the global moment\n",
    "for key, value in mom_var_dict.items():\n",
    "    # Extract the solutions for each individual moment and add them\n",
    "    mom_global_mRNA_reg[key] = sum([mom_sol_subs_dict[s] for s in value])"
   ]
  },
  {
   "cell_type": "code",
   "execution_count": 457,
   "metadata": {},
   "outputs": [
    {
     "name": "stdout",
     "output_type": "stream",
     "text": [
      "(1, 0)\n",
      "(2, 0)\n",
      "(3, 0)\n",
      "(4, 0)\n",
      "(5, 0)\n",
      "(6, 0)\n",
      "(0, 0)\n"
     ]
    }
   ],
   "source": [
    "# Define array containing variables\n",
    "var = [kr_on, kr_off, kp_on, kp_off, rm, gm]\n",
    "\n",
    "# Initialize dictionary to save lambdify functions\n",
    "mom_global_mRNA_lambdify = {}\n",
    "\n",
    "# Loop through every global moment\n",
    "for key, value in mom_global_mRNA.items():\n",
    "    # Find the exponents of the moment\n",
    "    if key.has(m):\n",
    "        m_degree = sympy.Poly(key).degree(m)\n",
    "    else:\n",
    "        m_degree = 0\n",
    "    if key.has(p):\n",
    "        p_degree = sympy.Poly(key).degree(p)\n",
    "    else:\n",
    "        p_degree = 0\n",
    "    print((m_degree, p_degree))\n",
    "    \n",
    "    # Generate and save into the dictionary the lambdify function.\n",
    "    mom_global_mRNA_lambdify[(m_degree, p_degree)] = sympy.lambdify(var, value, \n",
    "                                                               modules='numexpr')"
   ]
  },
  {
   "cell_type": "code",
   "execution_count": 458,
   "metadata": {},
   "outputs": [],
   "source": [
    "export = True\n",
    "if export:\n",
    "    # Open file to save functions\n",
    "    with open('./three_state_escape_mRNA_moments_lambdify.dill', 'wb') as file:\n",
    "        cloudpickle.dump(mom_global_mRNA_lambdify, file)"
   ]
  },
  {
   "cell_type": "markdown",
   "metadata": {},
   "source": [
    "## Exploring the relationship between variables"
   ]
  },
  {
   "cell_type": "markdown",
   "metadata": {},
   "source": [
    "Since for this model we have no close form solution for the moments we will fit the RNAP parameters $\\kpon$, $\\kpoff$ and $r_m$ using the moments. Because of this we will explore the relationship between parameters for the first moments of the two-state promoter. To be more precise we will try to find relationships between these three parameters.\n",
    "\n",
    "For example let's look at the first mRNA moment."
   ]
  },
  {
   "cell_type": "code",
   "execution_count": 48,
   "metadata": {},
   "outputs": [],
   "source": [
    " with open(tmpdir + 'two_three_state_promoter_states_sympy.cpkl', 'rb') as file:\n",
    "    mom_global_unreg = cloudpickle.load(file)\n",
    "    mom_global_reg = cloudpickle.load(file)"
   ]
  },
  {
   "cell_type": "code",
   "execution_count": 59,
   "metadata": {},
   "outputs": [],
   "source": [
    " with open('./two_state_moments_escape_lambdify.dill', 'rb') as file:\n",
    "    mom_global_unreg_lambdify = cloudpickle.load(file)"
   ]
  },
  {
   "cell_type": "code",
   "execution_count": 23,
   "metadata": {},
   "outputs": [
    {
     "data": {
      "image/png": "[encoded data removed]",
      "text/latex": [
       "$$\\left\\{\\gamma_{m}, \\gamma_{p}, r_{m}, r_{p}, {k_{off}^{(p)}}, {k_{on}^{(p)}}\\right\\}$$"
      ],
      "text/plain": [
       "set([γₘ, γₚ, rₘ, rₚ, {k_{off}__{(p)}}, {k_{on}__{(p)}}])"
      ]
     },
     "execution_count": 23,
     "metadata": {},
     "output_type": "execute_result"
    }
   ],
   "source": [
    "# Initialize list to save variables on each moment\n",
    "mom_global_var = list()\n",
    "\n",
    "# Loop trhough each moment and extract the free symbols\n",
    "for key, value in mom_sol_subs_dict.items():\n",
    "    mom_global_var.append(list(value.free_symbols))\n",
    "\n",
    "# Find the unique variables\n",
    "unique_sym = set([item for sublist in mom_global_var for item in sublist])\n",
    "unique_sym"
   ]
  },
  {
   "cell_type": "code",
   "execution_count": 42,
   "metadata": {},
   "outputs": [
    {
     "data": {
      "image/png": "[encoded data removed]",
      "text/latex": [
       "$$m = \\frac{r_{m} {k_{on}^{(p)}}}{\\gamma_{m} \\left(r_{m} + {k_{off}^{(p)}} + {k_{on}^{(p)}}\\right)}$$"
      ],
      "text/plain": [
       "                 rₘ⋅{k_{on}__{(p)}}             \n",
       "m = ────────────────────────────────────────────\n",
       "    γₘ⋅(rₘ + {k_{off}__{(p)}} + {k_{on}__{(p)}})"
      ]
     },
     "execution_count": 42,
     "metadata": {},
     "output_type": "execute_result"
    }
   ],
   "source": [
    "# Define sympy equation for the first moment.\n",
    "m_first = sympy.Eq(mm, mom_global_unreg[m].simplify())\n",
    "\n",
    "m_first"
   ]
  },
  {
   "cell_type": "code",
   "execution_count": 144,
   "metadata": {},
   "outputs": [
    {
     "data": {
      "text/plain": [
       "array(18.181818181818183)"
      ]
     },
     "execution_count": 144,
     "metadata": {},
     "output_type": "execute_result"
    }
   ],
   "source": [
    "mom_global_unreg_lambdify[(1, 0)](1000, 80, 20, 1, 1, 1)"
   ]
  },
  {
   "cell_type": "markdown",
   "metadata": {},
   "source": [
    "Now we solve for $r_m$."
   ]
  },
  {
   "cell_type": "code",
   "execution_count": 146,
   "metadata": {},
   "outputs": [
    {
     "data": {
      "image/png": "[encoded data removed]",
      "text/latex": [
       "$$r_{m} = - \\frac{\\gamma_{m} m \\left({k_{off}^{(p)}} + {k_{on}^{(p)}}\\right)}{\\gamma_{m} m - {k_{on}^{(p)}}}$$"
      ],
      "text/plain": [
       "     -γₘ⋅m⋅({k_{off}__{(p)}} + {k_{on}__{(p)}}) \n",
       "rₘ = ───────────────────────────────────────────\n",
       "                γₘ⋅m - {k_{on}__{(p)}}          "
      ]
     },
     "execution_count": 146,
     "metadata": {},
     "output_type": "execute_result"
    }
   ],
   "source": [
    "# Solve equation for rm\n",
    "rm_first = sympy.Eq(rm, sympy.solve(m_first, rm)[0].simplify())\n",
    "\n",
    "rm_first"
   ]
  },
  {
   "cell_type": "code",
   "execution_count": 148,
   "metadata": {},
   "outputs": [
    {
     "data": {
      "image/png": "[encoded data removed]",
      "text/latex": [
       "$$\\left [ - r_{m} - {k_{on}^{(p)}} + \\frac{r_{m} {k_{on}^{(p)}}}{\\gamma_{m} m}\\right ]$$"
      ],
      "text/plain": [
       "⎡                        rₘ⋅{k_{on}__{(p)}}⎤\n",
       "⎢-rₘ - {k_{on}__{(p)}} + ──────────────────⎥\n",
       "⎣                               γₘ⋅m       ⎦"
      ]
     },
     "execution_count": 148,
     "metadata": {},
     "output_type": "execute_result"
    }
   ],
   "source": [
    "sympy.solve(m_first, kp_off)"
   ]
  },
  {
   "cell_type": "markdown",
   "metadata": {},
   "source": [
    "We now do the same for the second moment."
   ]
  },
  {
   "cell_type": "code",
   "execution_count": 111,
   "metadata": {},
   "outputs": [
    {
     "data": {
      "image/png": "[encoded data removed]",
      "text/latex": [
       "$$\\left [ \\frac{\\gamma_{m}}{2 \\left(- \\gamma_{m}^{2} m^{2} + \\gamma_{m} {k_{on}^{(p)}} + {k_{on}^{(p)}}^{2}\\right)} \\left(\\gamma_{m}^{2} m^{2} + 2 \\gamma_{m} m^{2} {k_{off}^{(p)}} + 2 \\gamma_{m} m^{2} {k_{on}^{(p)}} - \\gamma_{m} {k_{on}^{(p)}} - {k_{off}^{(p)}} {k_{on}^{(p)}} - {k_{on}^{(p)}}^{2} - \\sqrt{\\gamma_{m}^{4} m^{4} - 2 \\gamma_{m}^{3} m^{2} {k_{on}^{(p)}} - 2 \\gamma_{m}^{2} m^{2} {k_{off}^{(p)}} {k_{on}^{(p)}} - 2 \\gamma_{m}^{2} m^{2} {k_{on}^{(p)}}^{2} + \\gamma_{m}^{2} {k_{on}^{(p)}}^{2} + 4 \\gamma_{m} m^{2} {k_{off}^{(p)}} {k_{on}^{(p)}}^{2} + 4 \\gamma_{m} m^{2} {k_{on}^{(p)}}^{3} + 2 \\gamma_{m} {k_{off}^{(p)}} {k_{on}^{(p)}}^{2} + 2 \\gamma_{m} {k_{on}^{(p)}}^{3} + 4 m^{2} {k_{off}^{(p)}}^{2} {k_{on}^{(p)}}^{2} + 8 m^{2} {k_{off}^{(p)}} {k_{on}^{(p)}}^{3} + 4 m^{2} {k_{on}^{(p)}}^{4} + {k_{off}^{(p)}}^{2} {k_{on}^{(p)}}^{2} + 2 {k_{off}^{(p)}} {k_{on}^{(p)}}^{3} + {k_{on}^{(p)}}^{4}}\\right), \\quad \\frac{\\gamma_{m}}{2 \\left(- \\gamma_{m}^{2} m^{2} + \\gamma_{m} {k_{on}^{(p)}} + {k_{on}^{(p)}}^{2}\\right)} \\left(\\gamma_{m}^{2} m^{2} + 2 \\gamma_{m} m^{2} {k_{off}^{(p)}} + 2 \\gamma_{m} m^{2} {k_{on}^{(p)}} - \\gamma_{m} {k_{on}^{(p)}} - {k_{off}^{(p)}} {k_{on}^{(p)}} - {k_{on}^{(p)}}^{2} + \\sqrt{\\gamma_{m}^{4} m^{4} - 2 \\gamma_{m}^{3} m^{2} {k_{on}^{(p)}} - 2 \\gamma_{m}^{2} m^{2} {k_{off}^{(p)}} {k_{on}^{(p)}} - 2 \\gamma_{m}^{2} m^{2} {k_{on}^{(p)}}^{2} + \\gamma_{m}^{2} {k_{on}^{(p)}}^{2} + 4 \\gamma_{m} m^{2} {k_{off}^{(p)}} {k_{on}^{(p)}}^{2} + 4 \\gamma_{m} m^{2} {k_{on}^{(p)}}^{3} + 2 \\gamma_{m} {k_{off}^{(p)}} {k_{on}^{(p)}}^{2} + 2 \\gamma_{m} {k_{on}^{(p)}}^{3} + 4 m^{2} {k_{off}^{(p)}}^{2} {k_{on}^{(p)}}^{2} + 8 m^{2} {k_{off}^{(p)}} {k_{on}^{(p)}}^{3} + 4 m^{2} {k_{on}^{(p)}}^{4} + {k_{off}^{(p)}}^{2} {k_{on}^{(p)}}^{2} + 2 {k_{off}^{(p)}} {k_{on}^{(p)}}^{3} + {k_{on}^{(p)}}^{4}}\\right)\\right ]$$"
      ],
      "text/plain": [
       "⎡   ⎛                                                                         \n",
       "⎢   ⎜  2  2         2                          2                              \n",
       "⎢γₘ⋅⎝γₘ ⋅m  + 2⋅γₘ⋅m ⋅{k_{off}__{(p)}} + 2⋅γₘ⋅m ⋅{k_{on}__{(p)}} - γₘ⋅{k_{on}_\n",
       "⎢─────────────────────────────────────────────────────────────────────────────\n",
       "⎢                                                                             \n",
       "⎣                                                                             \n",
       "\n",
       "                                                                   ___________\n",
       "                                                            2     ╱   4  4    \n",
       "_{(p)}} - {k_{off}__{(p)}}⋅{k_{on}__{(p)}} - {k_{on}__{(p)}}  - ╲╱  γₘ ⋅m  - 2\n",
       "──────────────────────────────────────────────────────────────────────────────\n",
       "                                                                              \n",
       "                                                                              \n",
       "\n",
       "______________________________________________________________________________\n",
       "   3  2                       2  2                                        2  2\n",
       "⋅γₘ ⋅m ⋅{k_{on}__{(p)}} - 2⋅γₘ ⋅m ⋅{k_{off}__{(p)}}⋅{k_{on}__{(p)}} - 2⋅γₘ ⋅m \n",
       "──────────────────────────────────────────────────────────────────────────────\n",
       "                                                                              \n",
       "                                                                              \n",
       "\n",
       "______________________________________________________________________________\n",
       "                2     2                2         2                            \n",
       "⋅{k_{on}__{(p)}}  + γₘ ⋅{k_{on}__{(p)}}  + 4⋅γₘ⋅m ⋅{k_{off}__{(p)}}⋅{k_{on}__{\n",
       "──────────────────────────────────────────────────────────────────────────────\n",
       "                                                 ⎛    2  2                    \n",
       "                                               2⋅⎝- γₘ ⋅m  + γₘ⋅{k_{on}__{(p)}\n",
       "\n",
       "______________________________________________________________________________\n",
       "     2         2                3                                        2    \n",
       "(p)}}  + 4⋅γₘ⋅m ⋅{k_{on}__{(p)}}  + 2⋅γₘ⋅{k_{off}__{(p)}}⋅{k_{on}__{(p)}}  + 2\n",
       "──────────────────────────────────────────────────────────────────────────────\n",
       "                   2⎞                                                         \n",
       "} + {k_{on}__{(p)}} ⎠                                                         \n",
       "\n",
       "______________________________________________________________________________\n",
       "                   3      2                 2                2      2         \n",
       "⋅γₘ⋅{k_{on}__{(p)}}  + 4⋅m ⋅{k_{off}__{(p)}} ⋅{k_{on}__{(p)}}  + 8⋅m ⋅{k_{off}\n",
       "──────────────────────────────────────────────────────────────────────────────\n",
       "                                                                              \n",
       "                                                                              \n",
       "\n",
       "______________________________________________________________________________\n",
       "                        3      2                4                   2         \n",
       "__{(p)}}⋅{k_{on}__{(p)}}  + 4⋅m ⋅{k_{on}__{(p)}}  + {k_{off}__{(p)}} ⋅{k_{on}_\n",
       "──────────────────────────────────────────────────────────────────────────────\n",
       "                                                                              \n",
       "                                                                              \n",
       "\n",
       "__________________________________________________________________⎞     ⎛     \n",
       "       2                                     3                  4 ⎟     ⎜  2  \n",
       "_{(p)}}  + 2⋅{k_{off}__{(p)}}⋅{k_{on}__{(p)}}  + {k_{on}__{(p)}}  ⎠  γₘ⋅⎝γₘ ⋅m\n",
       "───────────────────────────────────────────────────────────────────, ─────────\n",
       "                                                                              \n",
       "                                                                              \n",
       "\n",
       "                                                                              \n",
       "2         2                          2                                        \n",
       "  + 2⋅γₘ⋅m ⋅{k_{off}__{(p)}} + 2⋅γₘ⋅m ⋅{k_{on}__{(p)}} - γₘ⋅{k_{on}__{(p)}} - \n",
       "──────────────────────────────────────────────────────────────────────────────\n",
       "                                                                              \n",
       "                                                                              \n",
       "\n",
       "                                                         _____________________\n",
       "                                                  2     ╱   4  4       3  2   \n",
       "{k_{off}__{(p)}}⋅{k_{on}__{(p)}} - {k_{on}__{(p)}}  + ╲╱  γₘ ⋅m  - 2⋅γₘ ⋅m ⋅{k\n",
       "──────────────────────────────────────────────────────────────────────────────\n",
       "                                                                              \n",
       "                                                                              \n",
       "\n",
       "______________________________________________________________________________\n",
       "                    2  2                                        2  2          \n",
       "_{on}__{(p)}} - 2⋅γₘ ⋅m ⋅{k_{off}__{(p)}}⋅{k_{on}__{(p)}} - 2⋅γₘ ⋅m ⋅{k_{on}__\n",
       "──────────────────────────────────────────────────────────────────────────────\n",
       "                                                                              \n",
       "                                                                              \n",
       "\n",
       "______________________________________________________________________________\n",
       "      2     2                2         2                                 2    \n",
       "{(p)}}  + γₘ ⋅{k_{on}__{(p)}}  + 4⋅γₘ⋅m ⋅{k_{off}__{(p)}}⋅{k_{on}__{(p)}}  + 4\n",
       "──────────────────────────────────────────────────────────────────────────────\n",
       "                                       ⎛    2  2                              \n",
       "                                     2⋅⎝- γₘ ⋅m  + γₘ⋅{k_{on}__{(p)}} + {k_{on\n",
       "\n",
       "______________________________________________________________________________\n",
       "     2                3                                        2              \n",
       "⋅γₘ⋅m ⋅{k_{on}__{(p)}}  + 2⋅γₘ⋅{k_{off}__{(p)}}⋅{k_{on}__{(p)}}  + 2⋅γₘ⋅{k_{on\n",
       "──────────────────────────────────────────────────────────────────────────────\n",
       "         2⎞                                                                   \n",
       "}__{(p)}} ⎠                                                                   \n",
       "\n",
       "______________________________________________________________________________\n",
       "         3      2                 2                2      2                   \n",
       "}__{(p)}}  + 4⋅m ⋅{k_{off}__{(p)}} ⋅{k_{on}__{(p)}}  + 8⋅m ⋅{k_{off}__{(p)}}⋅{\n",
       "──────────────────────────────────────────────────────────────────────────────\n",
       "                                                                              \n",
       "                                                                              \n",
       "\n",
       "______________________________________________________________________________\n",
       "              3      2                4                   2                2  \n",
       "k_{on}__{(p)}}  + 4⋅m ⋅{k_{on}__{(p)}}  + {k_{off}__{(p)}} ⋅{k_{on}__{(p)}}  +\n",
       "──────────────────────────────────────────────────────────────────────────────\n",
       "                                                                              \n",
       "                                                                              \n",
       "\n",
       "________________________________________________________⎞⎤\n",
       "                                   3                  4 ⎟⎥\n",
       " 2⋅{k_{off}__{(p)}}⋅{k_{on}__{(p)}}  + {k_{on}__{(p)}}  ⎠⎥\n",
       "─────────────────────────────────────────────────────────⎥\n",
       "                                                         ⎥\n",
       "                                                         ⎦"
      ]
     },
     "execution_count": 111,
     "metadata": {},
     "output_type": "execute_result"
    }
   ],
   "source": [
    "# Define equation for the second moment\n",
    "m_second = sympy.Eq(mm**2, mom_global_unreg[m**2].simplify())\n",
    "\n",
    "# Solve equation for rm\n",
    "rm_second = sympy.solve(m_second, rm)\n",
    "\n",
    "rm_second"
   ]
  },
  {
   "cell_type": "markdown",
   "metadata": {},
   "source": [
    "Having this relationship we can now relate $\\kpon$ and $\\kpoff$."
   ]
  },
  {
   "cell_type": "code",
   "execution_count": 110,
   "metadata": {},
   "outputs": [
    {
     "data": {
      "image/png": "[encoded data removed]",
      "text/latex": [
       "$$\\frac{1}{{k_{on}^{(p)}}} \\left(- \\gamma_{m}^{2} m^{2} + \\gamma_{m}^{2} m + {k_{on}^{(p)}} \\left(\\gamma_{m} m - \\gamma_{m} - {k_{on}^{(p)}}\\right)\\right)$$"
      ],
      "text/plain": [
       "    2  2     2                                                  \n",
       "- γₘ ⋅m  + γₘ ⋅m + {k_{on}__{(p)}}⋅(γₘ⋅m - γₘ - {k_{on}__{(p)}})\n",
       "────────────────────────────────────────────────────────────────\n",
       "                        {k_{on}__{(p)}}                         "
      ]
     },
     "execution_count": 110,
     "metadata": {},
     "output_type": "execute_result"
    }
   ],
   "source": [
    "# Solve for kpon and substitute gamm_m to be 1\n",
    "kpoff_kpon = sympy.solve(rm_second.subs(rm, rm_first.rhs), kp_off)\n",
    "\n",
    "kpoff_kpon[1].simplify()"
   ]
  },
  {
   "cell_type": "code",
   "execution_count": 563,
   "metadata": {},
   "outputs": [],
   "source": [
    "# Define variable for the second moment\n",
    "mm2 = sympy.Symbol('m^2')\n",
    "\n",
    "# Take solution and substitute the m**2 variable\n",
    "kpoff_kpon = [x.subs(mm**2, mm2) for x in kpoff_kpon]\n",
    "\n",
    "# Define variables in function\n",
    "var = [kp_on, mm, mm2]\n",
    "# Generate lambdify function\n",
    "kpoff_kpon_lambdify = sympy.lambdify(var, kpoff_kpon[-1], 'numpy')"
   ]
  },
  {
   "cell_type": "code",
   "execution_count": 577,
   "metadata": {},
   "outputs": [
    {
     "data": {
      "image/png": "[encoded data removed]",
      "text/latex": [
       "$$- {k_{on}^{(p)}} + 17.7254531722054 - \\frac{413.53247734139}{{k_{on}^{(p)}}}$$"
      ],
      "text/plain": [
       "                                      413.53247734139\n",
       "-{k_{on}__{(p)}} + 17.7254531722054 - ───────────────\n",
       "                                      {k_{on}__{(p)}}"
      ]
     },
     "execution_count": 577,
     "metadata": {},
     "output_type": "execute_result"
    }
   ],
   "source": [
    "kpoff_kpon[-1].subs({mm: mm_num, mm2: mm2_num, gm: 1})#.subs(kp_on, mm2_num)"
   ]
  },
  {
   "cell_type": "code",
   "execution_count": 524,
   "metadata": {},
   "outputs": [],
   "source": [
    "# Read the data\n",
    "df = pd.read_csv('../../data/mRNA_FISH/Jones_Brewster_2014.csv', index_col=0)\n",
    "\n",
    "# Remove the different controls with no mRNA\n",
    "df = df[(df.experiment != 'control') & \n",
    "        (df.experiment != 'Control') &\n",
    "        (df.experiment != 'Ctrl')]\n",
    "\n",
    "# Extract the lacUV5 data\n",
    "dfUV5 = df[df.experiment == 'UV5']\n",
    "\n",
    "# Compute moments from data\n",
    "mm_num = np.mean(dfUV5.mRNA_cell.values)\n",
    "mm2_num = np.mean(dfUV5.mRNA_cell.values**2)"
   ]
  },
  {
   "cell_type": "code",
   "execution_count": 564,
   "metadata": {},
   "outputs": [
    {
     "name": "stderr",
     "output_type": "stream",
     "text": [
      "/Users/razo/anaconda3/lib/python3.6/site-packages/numpy/__init__.py:1: RuntimeWarning: invalid value encountered in sqrt\n",
      "  \"\"\"\n"
     ]
    }
   ],
   "source": [
    "# Define range of kpoff to try\n",
    "kpoff_array = np.logspace(1, 10, 100)\n",
    "\n",
    "# Evaluate kpoff\n",
    "kpon_array = kpon_kpoff_lambdify(kpoff_array, mm_num, mm2_num)"
   ]
  },
  {
   "cell_type": "code",
   "execution_count": 565,
   "metadata": {},
   "outputs": [
    {
     "data": {
      "text/plain": [
       "array([             nan,              nan,              nan,\n",
       "                    nan,              nan,              nan,\n",
       "                    nan,              nan,              nan,\n",
       "        -3.76170628e+01,  -5.64196974e+01,  -7.71809500e+01,\n",
       "        -1.01693398e+02,  -1.31270865e+02,  -1.67306538e+02,\n",
       "        -2.11428121e+02,  -2.65597969e+02,  -3.32210348e+02,\n",
       "        -4.14201551e+02,  -5.15181382e+02,  -6.39593117e+02,\n",
       "        -7.92909572e+02,  -9.81874161e+02,  -1.21479767e+03,\n",
       "        -1.50192388e+03,  -1.85588014e+03,  -2.29223274e+03,\n",
       "        -2.83017151e+03,  -3.49335374e+03,  -4.31094463e+03,\n",
       "        -5.31889987e+03,  -6.56154688e+03,  -8.09353428e+03,\n",
       "        -9.98223516e+03,  -1.23107100e+04,  -1.51813595e+04,\n",
       "        -1.87204278e+04,  -2.30835545e+04,  -2.84626194e+04,\n",
       "        -3.50941807e+04,  -4.32698783e+04,  -5.33492595e+04,\n",
       "        -6.57755910e+04,  -8.10953528e+04,  -9.99822706e+04,\n",
       "        -1.23266945e+05,  -1.51973380e+05,  -1.87364015e+05,\n",
       "        -2.30995243e+05,  -2.84785860e+05,  -3.51101447e+05,\n",
       "        -4.32858402e+05,  -5.33652197e+05,  -6.57915499e+05,\n",
       "        -8.11113105e+05,  -9.99982274e+05,  -1.23282901e+06,\n",
       "        -1.51989336e+06,  -1.87379970e+06,  -2.31011197e+06,\n",
       "        -2.84801814e+06,  -3.51117401e+06,  -4.32874356e+06,\n",
       "        -5.33668151e+06,  -6.57931452e+06,  -8.11129058e+06,\n",
       "        -9.99998227e+06,  -1.23284497e+07,  -1.51990931e+07,\n",
       "        -1.87381565e+07,  -2.31012793e+07,  -2.84803410e+07,\n",
       "        -3.51118996e+07,  -4.32875951e+07,  -5.33669746e+07,\n",
       "        -6.57933047e+07,  -8.11130654e+07,  -9.99999823e+07,\n",
       "        -1.23284656e+08,  -1.51991091e+08,  -1.87381725e+08,\n",
       "        -2.31012952e+08,  -2.84803569e+08,  -3.51119156e+08,\n",
       "        -4.32876110e+08,  -5.33669905e+08,  -6.57933207e+08,\n",
       "        -8.11130813e+08,  -9.99999982e+08,  -1.23284672e+09,\n",
       "        -1.51991107e+09,  -1.87381741e+09,  -2.31012968e+09,\n",
       "        -2.84803585e+09,  -3.51119172e+09,  -4.32876126e+09,\n",
       "        -5.33669921e+09,  -6.57933223e+09,  -8.11130829e+09,\n",
       "        -9.99999998e+09])"
      ]
     },
     "execution_count": 565,
     "metadata": {},
     "output_type": "execute_result"
    }
   ],
   "source": [
    "kpon_array"
   ]
  },
  {
   "cell_type": "code",
   "execution_count": null,
   "metadata": {},
   "outputs": [],
   "source": []
  }
 ],
 "metadata": {
  "kernelspec": {
   "display_name": "Python 3",
   "language": "python",
   "name": "python3"
  },
  "language_info": {
   "codemirror_mode": {
    "name": "ipython",
    "version": 3
   },
   "file_extension": ".py",
   "mimetype": "text/x-python",
   "name": "python",
   "nbconvert_exporter": "python",
   "pygments_lexer": "ipython3",
   "version": "3.6.5"
  },
  "latex_envs": {
   "LaTeX_envs_menu_present": false,
   "autoclose": false,
   "autocomplete": false,
   "bibliofile": "biblio.bib",
   "cite_by": "apalike",
   "current_citInitial": 1,
   "eqLabelWithNumbers": true,
   "eqNumInitial": 1,
   "hotkeys": {
    "equation": "Ctrl-E",
    "itemize": "Ctrl-I"
   },
   "labels_anchors": false,
   "latex_user_defs": false,
   "report_style_numbering": false,
   "user_envs_cfg": false
  },
  "toc": {
   "nav_menu": {},
   "number_sections": false,
   "sideBar": false,
   "skip_h1_title": true,
   "title_cell": "Table of Contents",
   "title_sidebar": "Contents",
   "toc_cell": false,
   "toc_position": {},
   "toc_section_display": true,
   "toc_window_display": true
  }
 },
 "nbformat": 4,
 "nbformat_minor": 2
}
