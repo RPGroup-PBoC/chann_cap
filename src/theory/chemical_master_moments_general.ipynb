{
 "cells": [
  {
   "cell_type": "markdown",
   "metadata": {},
   "source": [
    "# General moment calculation for a two- and three-state promoter."
   ]
  },
  {
   "cell_type": "markdown",
   "metadata": {},
   "source": [
    "(c) 2018 Manuel Razo. This work is licensed under a [Creative Commons Attribution License CC-BY 4.0](https://creativecommons.org/licenses/by/4.0/). All code contained herein is licensed under an [MIT license](https://opensource.org/licenses/MIT). \n",
    "\n",
    "---"
   ]
  },
  {
   "cell_type": "code",
   "execution_count": 240,
   "metadata": {},
   "outputs": [],
   "source": [
    "import dill # Library that we will use to export lambdify functions\n",
    "\n",
    "import numpy as np\n",
    "# To compute symbolic expressions\n",
    "import sympy\n",
    "sympy.init_printing(use_unicode=True, use_latex=True) # print outputs in LaTeX\n",
    "\n",
    "# Import matplotlib stuff for plotting\n",
    "import matplotlib.pyplot as plt\n",
    "import matplotlib.cm as cm\n",
    "import matplotlib as mpl\n",
    "\n",
    "# Seaborn, useful for graphics\n",
    "import seaborn as sns\n",
    "\n",
    "# Import the utils for this project\n",
    "import chann_cap_utils as chann_cap\n",
    "\n",
    "# Set PBoC plotting style\n",
    "chann_cap.set_plotting_style()\n",
    "\n",
    "# Magic function to make matplotlib inline\n",
    "%matplotlib inline\n",
    "\n",
    "# This enables SVG graphics inline. \n",
    "%config InlineBackend.figure_formats = {'png', 'retina'}\n",
    "\n",
    "tmpdir = '../../tmp/'"
   ]
  },
  {
   "cell_type": "markdown",
   "metadata": {},
   "source": [
    "# $\\LaTeX$ macros\n",
    "$\\newcommand{kpon}{k^p_{\\text{on}}}$\n",
    "$\\newcommand{kpoff}{k^p_{\\text{off}}}$\n",
    "$\\newcommand{kron}{k^r_{\\text{on}}}$\n",
    "$\\newcommand{kroff}{k^r_{\\text{off}}}$\n",
    "$\\newcommand{rm}{r _m}$\n",
    "$\\newcommand{gm}{\\gamma _m}$\n",
    "$\\newcommand{ee}[1]{\\left\\langle #1 \\right\\rangle}$\n",
    "$\\newcommand{bb}[1]{\\mathbf{#1}}$\n",
    "$\\newcommand{th}[1]{{#1}^{\\text{th}}}$\n",
    "$\\newcommand{dt}[1]{{\\partial{#1} \\over \\partial t}}$\n",
    "$\\newcommand{Km}{\\bb{K}}$\n",
    "$\\newcommand{Rm}{\\bb{R}_m}$\n",
    "$\\newcommand{Gm}{\\bb{\\Gamma}_m}$\n",
    "$\\newcommand{Rp}{\\bb{R}_p}$\n",
    "$\\newcommand{Gp}{\\bb{\\Gamma}_p}$"
   ]
  },
  {
   "cell_type": "markdown",
   "metadata": {},
   "source": [
    "## General calculation of the moments of the distribution.\n",
    "\n",
    "In order to approximate the entire mRNA and protein distribution $P(m, p)$ we use the maximum entropy approach in which moments $\\ee{m^x p^y}$ with $x, y \\in \\mathbb{Z}$ are used to approximate the distribution as\n",
    "$$\n",
    "\\hat{P}(m, p) = {e^{\\sum_{j} \\beta_j m^{x_j} p^{y_j}} \\over \\mathcal{Z}},\n",
    "$$\n",
    "where $\\beta_j$ is the Lagrange multiplier associated with the $\\th{j}$ constraint of the form $\\ee{m^{x_j} p^{y_j}}$, and $\\mathcal{Z}$ is the partition funciton defined as\n",
    "$$\n",
    "\\mathcal{Z} = \\sum_m \\sum_p e^{\\sum_{j} \\beta_j m^{x_j} p^{y_j}}.\n",
    "$$"
   ]
  },
  {
   "cell_type": "markdown",
   "metadata": {},
   "source": [
    "In particular for our system the master equation that describes the time evolution of the distribution is defined by either two or three differential equations, one for each state of the promoter such that\n",
    "$$\n",
    "P(m, p) = \\sum_{s\\in \\text{states}} P_s(m, p),\n",
    "$$\n",
    "where $s \\in \\{E, P, R\\}$ defines the state $E =$ empty state, $P =$ RNAP bound, and $R =$ repressor bound. The third state is only include in the case where there is transcription factor present. Without loss of generality let's focus here on the three-state promoter. Let $\\bb{P}(m, p) = (P_E(m, p), P_P(m, p), P_R(m, p))$ be the vector containing all distributions. Using this notation the system of PDEs that define the distribution is given by\n",
    "$$\n",
    "\\dt{\\bb{P}(m, p)} = \\overbrace{\n",
    "\\left(\\Km - \\Rm - m\\Gm - m\\Rp -p\\Gp \\right) \\bb{P}(m, p)\n",
    "}^{\\text{exit state }m,p}\\\\\n",
    "\\overbrace{\n",
    "+ \\Rm \\bb{P}(m-1, p) + \\Gm (m + 1) \\bb{P}(m+1, p)\\\\\n",
    "+ \\Rp (m) \\bb{P}(m, p-1) + \\Gm (p + 1) \\bb{P}(m, p+1)\n",
    "}^{\\text{enter state }m,p},\n",
    "\\label{master_matrix}\n",
    "$$\n",
    "where $\\Km$ is the matrix defining transition rates between states, $\\Rm$ and $\\Gm$ are the matrices defining the production and degradation rates of mRNA respectively, and $\\Rp$ and $\\Gp$ are the equivalent matrices for the production and degradation of protein."
   ]
  },
  {
   "cell_type": "markdown",
   "metadata": {},
   "source": [
    "Given this birth-death process with three different states of the promoter if we want to compute a moment $\\ee{m^x p^y}$ we would actually compute\n",
    "$$\n",
    "\\ee{m^x p^y} = \\ee{m^x p^y}_E + \\ee{m^x p^y}_P + \\ee{m^x p^y}_R,\n",
    "$$\n",
    "i.e. the moment at each of the states of the promoter. Let \n",
    "$\\bb{\\ee{m^x p^y}} = \\left(\\ee{m^x p^y}_E, \\ee{m^x p^y}_P, \\ee{m^x p^y}_R\\right)$ be a vector containing all three moments. The moment PDE is then given by\n",
    "$$\n",
    "\\dt{\\bb{\\ee{m^x p^y}}} = \\sum_m \\sum_p \\dt{\\bb{P}(m,p)}.\n",
    "$$"
   ]
  },
  {
   "cell_type": "markdown",
   "metadata": {},
   "source": [
    "This is computed using Eq. \\ref{master_matrix} obtaining\n",
    "$$\n",
    "\\dt{\\bb{\\ee{m^x p^y}}} = \n",
    "\\sum_m \\sum_p \\left(\\Km - \\Rm - m\\Gm - m\\Rp -p\\Gp \\right)m^x p^y \\bb{P}(m, p)\\\\\n",
    "\\overbrace{\n",
    "+ \\Rm \\sum_m \\sum_p m^x p^y \\bb{P}(m-1, p) \n",
    "}^{1}\n",
    "\\overbrace{\n",
    "+ \\Gm \\sum_m \\sum_p (m + 1) m^x p^y \\bb{P}(m+1, p)\n",
    "}^{2}\\\\\n",
    "\\overbrace{\n",
    "+ \\Rp \\sum_m \\sum_p (m) m^x p^y \\bb{P}(m, p-1) \n",
    "}^{3}\n",
    "\\overbrace{\n",
    "+ \\Gm \\sum_m \\sum_p (p + 1) m^x p^y \\bb{P}(m, p+1)\n",
    "}^{4}.\n",
    "\\label{master_moment_sum}\n",
    "$$\n",
    "Each of the numbered terms have stereotypical \"tricks\" to simplify them. Let's list them (derivation left elsewhere):\n",
    "$$\n",
    "1: m' \\equiv m - 1\\\\\n",
    "\\Rightarrow\n",
    "\\sum_m \\sum_p m^x p^y \\bb{P}(m-1, p) = \n",
    "\\sum_{m'} \\sum_p (m' + 1)^x p^y \\bb{P}(m', p) = \\\\\n",
    "\\bb{\\ee{(m+1)^x p^y}},\n",
    "$$\n",
    "$$\n",
    "2: m' \\equiv m + 1\\\\\n",
    "\\Rightarrow\n",
    "\\sum_m \\sum_p (m + 1) m^x p^y \\bb{P}(m + 1, p) = \n",
    "\\sum_{m'} \\sum_p m' (m' - 1)^x p^y \\bb{P}(m', p) = \\\\\n",
    "\\bb{\\ee{m (m - 1)^x p^y}},\n",
    "$$\n",
    "$$\n",
    "3: p' \\equiv p - 1\\\\\n",
    "\\Rightarrow\n",
    "\\sum_m \\sum_p (m) m^x p^y \\bb{P}(m, p-1) =\n",
    "\\sum_m \\sum_{p'} m^{x + 1} (p' + 1)^y \\bb{P}(m, p') = \\\\\n",
    "\\bb{\\ee{m^{x + 1} (p +  1)^{y}}},\n",
    "$$\n",
    "$$\n",
    "4: p' \\equiv p + 1\\\\\n",
    "\\Rightarrow\n",
    "\\sum_m \\sum_p (p + 1) m^x p^y \\bb{P}(m, p+1) =\n",
    "\\sum_m \\sum_{p'} p' m^x (p' - 1)^y \\bb{P}(m, p') = \\\\\n",
    "\\bb{\\ee{m^x p (p - 1)^y}}.\n",
    "$$"
   ]
  },
  {
   "cell_type": "markdown",
   "metadata": {},
   "source": [
    "Given these tricks and Eq. \\ref{master_moment_sum} we can write a **general** form for the moment PDE given by\n",
    "$$\n",
    "\\dt{\\bb{\\ee{m^x p^y}}} =\n",
    "\\Km \\bb{\\ee{m^x p^y}} +\\\\\n",
    "\\Rm \\left[ \\bb{\\ee{(m+1)^x p^y}} - \\bb{\\ee{m^x p^y}} \\right] +\\\\\n",
    "\\Gm \\left[ \\bb{\\ee{m (m - 1)^x p^y}} - \\bb{\\ee{m^{x + 1} p^y}} \\right] +\\\\\n",
    "\\Rp \\left[ \\bb{\\ee{m^{x + 1} (p +  1)^{y}}} - \\bb{\\ee{m^{x+1} p^y}} \\right] +\\\\\n",
    "\\Gp \\left[ \\bb{\\ee{m^x p (p - 1)^y}} - \\bb{\\ee{m^x p^{y+1}}} \\right]\n",
    "\\label{master_moment}\n",
    "$$"
   ]
  },
  {
   "cell_type": "markdown",
   "metadata": {},
   "source": [
    "## Using `sympy` to compute moments"
   ]
  },
  {
   "cell_type": "markdown",
   "metadata": {},
   "source": [
    "The objective of this notebook is to use `sympy` in order to set \\ref{master_moment} to steady state and solve the equation for the desired moment $\\bb{\\ee{m^x p^y}}$. This is going to be a function of all moments $\\bb{\\ee{m^{x'} p^{y'}}}$ with $x' + y' \\leq x + y$. For example for the protein second moment $\\bb{\\ee{p^2}}$ we would need to know\n",
    "$$\n",
    "\\bb{\\ee{p^2}} = f\\left(\\bb{\\ee{m^0 p^0}}, \\bb{\\ee{m^1 p^0}}, \\bb{\\ee{m^2 p^0}},\n",
    "\\bb{\\ee{m^0 p^1}}, \\bb{\\ee{m^1 p^1}}\\right).\n",
    "$$\n",
    "\n",
    "So all we have to do to compute the $\\bb{\\ee{m^x p^y}}$ moment is to solve for all the moments that satisfy the $x' + y' \\leq x + y$ condition before. It is not as good as an MGF, but it is an effective method of getting at these moments."
   ]
  },
  {
   "cell_type": "markdown",
   "metadata": {},
   "source": [
    "### Define general moment equation."
   ]
  },
  {
   "cell_type": "markdown",
   "metadata": {},
   "source": [
    "Let's define the `sympy` variables that we will need for Eq. \\ref{master_moment}."
   ]
  },
  {
   "cell_type": "code",
   "execution_count": 2,
   "metadata": {},
   "outputs": [
    {
     "data": {
      "image/png": "[encoded data removed]",
      "text/latex": [
       "$$\\left ( {\\mathbf{K}}, \\quad {\\mathbf{R}_m}, \\quad {\\mathbf{\\Gamma}_m}, \\quad {\\mathbf{R}_p}, \\quad {\\mathbf{\\Gamma}_p}\\right )$$"
      ],
      "text/plain": [
       "({\\mathbf{K}}, {\\mathbf{R}_m}, {\\mathbf{\\Gamma}_m}, {\\mathbf{R}_p}, {\\mathbf{\\\n",
       "Gamma}_p})"
      ]
     },
     "execution_count": 2,
     "metadata": {},
     "output_type": "execute_result"
    }
   ],
   "source": [
    "# Define the matrices involved in the general moment equation\n",
    "Km = sympy.Symbol('{\\mathbf{K}}')  # State transition matrix\n",
    "Rm, Gm = sympy.symbols('{\\mathbf{R}_m} {\\mathbf{\\Gamma}_m}')  # mRNA matrices\n",
    "Rp, Gp = sympy.symbols('{\\mathbf{R}_p} {\\mathbf{\\Gamma}_p}')  # protein matrices\n",
    "\n",
    "Km, Rm, Gm, Rp, Gp"
   ]
  },
  {
   "cell_type": "code",
   "execution_count": 218,
   "metadata": {},
   "outputs": [
    {
     "data": {
      "image/png": "[encoded data removed]",
      "text/latex": [
       "$$\\left ( {\\mathbf{m}}^{{\\mathbf{x}}}, \\quad {\\mathbf{p}}^{{\\mathbf{y}}}\\right )$$"
      ],
      "text/plain": [
       "⎛            {\\mathbf{x}}              {\\mathbf{y}}⎞\n",
       "⎝{\\mathbf{m}}            , {\\mathbf{p}}            ⎠"
      ]
     },
     "execution_count": 218,
     "metadata": {},
     "output_type": "execute_result"
    }
   ],
   "source": [
    "# Define the mRNA and protein variables\n",
    "m, p, = sympy.symbols('{\\mathbf{m}} {\\mathbf{p}}')\n",
    "x, y = sympy.symbols('{\\mathbf{x}} {\\mathbf{y}}')\n",
    "\n",
    "m**x, p**y"
   ]
  },
  {
   "cell_type": "markdown",
   "metadata": {},
   "source": [
    "Let's now define the right hand side of Eq. \\ref{master_moment}."
   ]
  },
  {
   "cell_type": "code",
   "execution_count": 4,
   "metadata": {},
   "outputs": [
    {
     "data": {
      "image/png": "[encoded data removed]",
      "text/latex": [
       "$$0 = {\\mathbf{K}} {\\mathbf{m}}^{{\\mathbf{x}}} {\\mathbf{p}}^{{\\mathbf{y}}} + {\\mathbf{R}_m} {\\mathbf{p}}^{{\\mathbf{y}}} \\left(- {\\mathbf{m}}^{{\\mathbf{x}}} + \\left({\\mathbf{m}} + 1\\right)^{{\\mathbf{x}}}\\right) + {\\mathbf{R}_p} {\\mathbf{m}}^{{\\mathbf{x}} + 1} \\left(- {\\mathbf{p}}^{{\\mathbf{y}}} + \\left({\\mathbf{p}} + 1\\right)^{{\\mathbf{y}}}\\right) + {\\mathbf{\\Gamma}_m} {\\mathbf{m}} {\\mathbf{p}}^{{\\mathbf{y}}} \\left(- {\\mathbf{m}}^{{\\mathbf{x}}} + \\left({\\mathbf{m}} - 1\\right)^{{\\mathbf{x}}}\\right) + {\\mathbf{\\Gamma}_p} {\\mathbf{m}}^{{\\mathbf{x}}} {\\mathbf{p}} \\left(- {\\mathbf{p}}^{{\\mathbf{y}}} + \\left({\\mathbf{p}} - 1\\right)^{{\\mathbf{y}}}\\right)$$"
      ],
      "text/plain": [
       "                             {\\mathbf{x}}             {\\mathbf{y}}            \n",
       "0 = {\\mathbf{K}}⋅{\\mathbf{m}}            ⋅{\\mathbf{p}}             + {\\mathbf{\n",
       "\n",
       "                  {\\mathbf{y}} ⎛              {\\mathbf{x}}                    \n",
       "R}_m}⋅{\\mathbf{p}}            ⋅⎝- {\\mathbf{m}}             + ({\\mathbf{m}} + 1\n",
       "\n",
       " {\\mathbf{x}}⎞                              {\\mathbf{x}} + 1 ⎛              {\\\n",
       ")            ⎠ + {\\mathbf{R}_p}⋅{\\mathbf{m}}                ⋅⎝- {\\mathbf{p}}  \n",
       "\n",
       "mathbf{y}}                     {\\mathbf{y}}⎞                                  \n",
       "           + ({\\mathbf{p}} + 1)            ⎠ + {\\mathbf{\\Gamma}_m}⋅{\\mathbf{m}\n",
       "\n",
       "              {\\mathbf{y}} ⎛              {\\mathbf{x}}                     {\\m\n",
       "}⋅{\\mathbf{p}}            ⋅⎝- {\\mathbf{m}}             + ({\\mathbf{m}} - 1)   \n",
       "\n",
       "athbf{x}}⎞                                   {\\mathbf{x}}              ⎛      \n",
       "         ⎠ + {\\mathbf{\\Gamma}_p}⋅{\\mathbf{m}}            ⋅{\\mathbf{p}}⋅⎝- {\\ma\n",
       "\n",
       "        {\\mathbf{y}}                     {\\mathbf{y}}⎞\n",
       "thbf{p}}             + ({\\mathbf{p}} - 1)            ⎠"
      ]
     },
     "execution_count": 4,
     "metadata": {},
     "output_type": "execute_result"
    }
   ],
   "source": [
    "# Defining the general master moment equation\n",
    "master_moment = Km * (m**x * p**y) +\\\n",
    "Rm * (p**y) * ((m + 1)**x - m**x) +\\\n",
    "Gm * (m * p**y) * ((m - 1)**x - m**x) +\\\n",
    "Rp * m**(x + 1) * ((p + 1)**y - p**y) +\\\n",
    "Gp * (m**x * p) * ((p - 1)**y - p**y)\n",
    "\n",
    "sympy.Eq(0, master_moment)"
   ]
  },
  {
   "cell_type": "markdown",
   "metadata": {},
   "source": [
    "Having defined this equation now all we need to do to obtain any moment equation is to substitute $\\bb{x}$ and $\\bb{y}$. As a sanity check let's look at some examples that we already know the answer. Let's look at the first mRNA moment."
   ]
  },
  {
   "cell_type": "code",
   "execution_count": 5,
   "metadata": {},
   "outputs": [
    {
     "data": {
      "image/png": "[encoded data removed]",
      "text/latex": [
       "$${\\mathbf{R}_m} + {\\mathbf{m}} \\left({\\mathbf{K}} - {\\mathbf{\\Gamma}_m}\\right)$$"
      ],
      "text/plain": [
       "{\\mathbf{R}_m} + {\\mathbf{m}}⋅({\\mathbf{K}} - {\\mathbf{\\Gamma}_m})"
      ]
     },
     "execution_count": 5,
     "metadata": {},
     "output_type": "execute_result"
    }
   ],
   "source": [
    "# Define the first mRNA moment <m> equation\n",
    "master_moment.subs([[x, 1], [y, 0]]).factor([m, p])"
   ]
  },
  {
   "cell_type": "markdown",
   "metadata": {},
   "source": [
    "The term with $\\Rm$ only is actually $\\Rm \\bb{m}^0$ which is exactly what one obtains when solving for this particular moment.\n",
    "\n",
    "Let's look now at the second protein moment."
   ]
  },
  {
   "cell_type": "code",
   "execution_count": 6,
   "metadata": {},
   "outputs": [
    {
     "data": {
      "image/png": "[encoded data removed]",
      "text/latex": [
       "$$2 {\\mathbf{R}_p} {\\mathbf{m}} {\\mathbf{p}} + {\\mathbf{R}_p} {\\mathbf{m}} + {\\mathbf{\\Gamma}_p} {\\mathbf{p}} + {\\mathbf{p}}^{2} \\left({\\mathbf{K}} - 2 {\\mathbf{\\Gamma}_p}\\right)$$"
      ],
      "text/plain": [
       "                                                                              \n",
       "2⋅{\\mathbf{R}_p}⋅{\\mathbf{m}}⋅{\\mathbf{p}} + {\\mathbf{R}_p}⋅{\\mathbf{m}} + {\\m\n",
       "\n",
       "                                            2                                 \n",
       "athbf{\\Gamma}_p}⋅{\\mathbf{p}} + {\\mathbf{p}} ⋅({\\mathbf{K}} - 2⋅{\\mathbf{\\Gamm\n",
       "\n",
       "      \n",
       "a}_p})"
      ]
     },
     "execution_count": 6,
     "metadata": {},
     "output_type": "execute_result"
    }
   ],
   "source": [
    "master_moment.subs([[x, 0], [y, 2]]).factor([m, p])"
   ]
  },
  {
   "cell_type": "markdown",
   "metadata": {},
   "source": [
    "This is again the answer one gets performing the calculation specifically for this moment."
   ]
  },
  {
   "cell_type": "markdown",
   "metadata": {},
   "source": [
    "### Extract coefficients of moment polynomial equation."
   ]
  },
  {
   "cell_type": "markdown",
   "metadata": {},
   "source": [
    "Let's now define a function that given an expression for a moment it returns a dictionary with all the coefficients of each of the elements in the equation. For example for the previous example of the second protein moment it should return something of the form\n",
    "$$\n",
    "\\{\n",
    "\\bb{p}^2 : (\\Km - 2\\Gm), \\;\\;\n",
    "\\bb{p} : \\Gp, \\;\\;\n",
    "\\bb{mp} : 2\\Rp, \\;\\;\n",
    "\\bb{m} : \\Rp\n",
    "\\}\n",
    "$$\n",
    "\n",
    "This will be useful for when we substitute the matrices and vectors to solve the linear system."
   ]
  },
  {
   "cell_type": "code",
   "execution_count": 93,
   "metadata": {},
   "outputs": [],
   "source": [
    "def coeff_dictionary(eq):\n",
    "    '''\n",
    "    Returns a dictionary with each of the coefficients for a given eqent\n",
    "    equation.\n",
    "\n",
    "    Parameter\n",
    "    ---------\n",
    "    eq : sympy expression.\n",
    "        Sympy expression for the eqent equation\n",
    "\n",
    "    Returns\n",
    "    -------\n",
    "    coeff_dict : dictionary.\n",
    "        Dictionary containing all the coefficients of each of the elements\n",
    "        in the polynomial eqent equation\n",
    "    '''\n",
    "    # Find the degree of the eqent for each of the variables\n",
    "    if eq.has(m):\n",
    "        m_degree = sympy.Poly(eq).degree(m)\n",
    "    else:\n",
    "        m_degree = 0\n",
    "    if eq.has(p):\n",
    "        p_degree = sympy.Poly(eq).degree(p)\n",
    "    else:\n",
    "        p_degree = 0\n",
    "    \n",
    "    return {m**x * p**y: eq.coeff(m**x * p**y).\\\n",
    "            subs([[m, 0], [p, 0]])\n",
    "            for x in range(m_degree + 1)\n",
    "            for y in range(p_degree + 1)}"
   ]
  },
  {
   "cell_type": "markdown",
   "metadata": {},
   "source": [
    "Let's test the function."
   ]
  },
  {
   "cell_type": "code",
   "execution_count": 94,
   "metadata": {},
   "outputs": [
    {
     "data": {
      "image/png": "[encoded data removed]",
      "text/latex": [
       "$$\\left \\{ 1 : 0, \\quad {\\mathbf{m}} : {\\mathbf{R}_p}, \\quad {\\mathbf{p}} : {\\mathbf{\\Gamma}_p}, \\quad {\\mathbf{p}}^{2} : {\\mathbf{K}} - 2 {\\mathbf{\\Gamma}_p}, \\quad {\\mathbf{m}} {\\mathbf{p}} : 2 {\\mathbf{R}_p}, \\quad {\\mathbf{m}} {\\mathbf{p}}^{2} : 0\\right \\}$$"
      ],
      "text/plain": [
       "⎧                                                                             \n",
       "⎨1: 0, {\\mathbf{m}}: {\\mathbf{R}_p}, {\\mathbf{p}}: {\\mathbf{\\Gamma}_p}, {\\math\n",
       "⎩                                                                             \n",
       "\n",
       "      2                                                                       \n",
       "bf{p}} : {\\mathbf{K}} - 2⋅{\\mathbf{\\Gamma}_p}, {\\mathbf{m}}⋅{\\mathbf{p}}: 2⋅{\\\n",
       "                                                                              \n",
       "\n",
       "                                       2   ⎫\n",
       "mathbf{R}_p}, {\\mathbf{m}}⋅{\\mathbf{p}} : 0⎬\n",
       "                                           ⎭"
      ]
     },
     "execution_count": 94,
     "metadata": {},
     "output_type": "execute_result"
    }
   ],
   "source": [
    "p2_dict = coeff_dictionary(master_moment.subs([[x, 0], [y, 2]]).factor([m, p]))\n",
    "p2_dict"
   ]
  },
  {
   "cell_type": "markdown",
   "metadata": {},
   "source": [
    "### Build system of equations\n",
    "\n",
    "From the dictionary of coefficients we can build the augmented matrix that `sympy` uses to solve linear systems. All we need is to define the matrices $\\Km$, $\\Rm$, $\\Gm$, $\\Rp$, and $\\Gp$ in terms of their components and vectors for each of the moments.\n",
    "\n",
    "Let's first define the variables that go into the matrices."
   ]
  },
  {
   "cell_type": "code",
   "execution_count": 87,
   "metadata": {},
   "outputs": [
    {
     "data": {
      "image/png": "[encoded data removed]",
      "text/latex": [
       "$$\\left ( {k_{off}^{(p)}}, \\quad {k_{on}^{(p)}}, \\quad {k_{off}^{(r)}}, \\quad {k_{on}^{(r)}}, \\quad r_{m}, \\quad \\gamma_{m}, \\quad r_{p}, \\quad \\gamma_{p}\\right )$$"
      ],
      "text/plain": [
       "({k_{off}__{(p)}}, {k_{on}__{(p)}}, {k_{off}__{(r)}}, {k_{on}__{(r)}}, rₘ, γₘ,\n",
       " rₚ, γₚ)"
      ]
     },
     "execution_count": 87,
     "metadata": {},
     "output_type": "execute_result"
    }
   ],
   "source": [
    "# Define rate constant variables\n",
    "kp_off, kp_on = sympy.symbols('{k_{off}^{(p)}} {k_{on}^{(p)}}')\n",
    "kr_off, kr_on = sympy.symbols('{k_{off}^{(r)}} {k_{on}^{(r)}}')\n",
    "\n",
    "# Define degradation rate and production rate\n",
    "rm, gm = sympy.symbols('r_m gamma_m')\n",
    "rp, gp = sympy.symbols('r_p gamma_p')\n",
    "\n",
    "kp_off, kp_on, kr_off, kr_on, rm, gm, rp, gp"
   ]
  },
  {
   "cell_type": "markdown",
   "metadata": {},
   "source": [
    "Now let's define a function that given a list of states and a moment of the form $\\bb{m^x p^y}$ (as the keys from the dictionary that contains the equation coefficients) it generates an array with the individual moments. For example if the function receives $\\bb{m^2 p}$ with three states $\\{E, P, R \\}$ it returns sympy variables of the form\n",
    "$$\n",
    "\\ee{m^2 p}_E, \\ee{m^2 p}_P, \\ee{m^2 p}_R\n",
    "$$"
   ]
  },
  {
   "cell_type": "code",
   "execution_count": 23,
   "metadata": {},
   "outputs": [
    {
     "data": {
      "image/png": "[encoded data removed]",
      "text/latex": [
       "$$\\left ( m, \\quad p\\right )$$"
      ],
      "text/plain": [
       "(m, p)"
      ]
     },
     "execution_count": 23,
     "metadata": {},
     "output_type": "execute_result"
    }
   ],
   "source": [
    "# Define non-bold variables for m and p\n",
    "mm, pp = sympy.symbols('m p')\n",
    "mm, pp"
   ]
  },
  {
   "cell_type": "code",
   "execution_count": 96,
   "metadata": {},
   "outputs": [],
   "source": [
    "def moment_dict(moments, states=['E', 'P', 'R']):\n",
    "    '''\n",
    "    Function that generates automatically sympy variables for a given moment\n",
    "    one for each of the specified states.\n",
    "    \n",
    "    Parameters\n",
    "    ----------\n",
    "    moments : list.\n",
    "        List of sympy variables of the form m**x * p**y for which to \n",
    "        generate the moment variables.\n",
    "    states : array-like.\n",
    "        List containing strings that define each of the states for which\n",
    "        to define the moment variables.\n",
    "        \n",
    "    Returns\n",
    "    -------\n",
    "    moments_dict : dictionary.\n",
    "        dictionary containing all new defined variables associated with each\n",
    "        moment.\n",
    "    '''\n",
    "    # Initialize dictionary to save the variables\n",
    "    moments_dict = dict()\n",
    "    \n",
    "    # Loop through each of the moments adding the variables to the dictionary\n",
    "    for mom in moments:\n",
    "        # Process non-zero moments\n",
    "        if mom != 1:\n",
    "            # Find the degree of the moment for each of the variables\n",
    "            if mom.has(m):\n",
    "                m_degree = sympy.Poly(mom).degree(m)\n",
    "            else:\n",
    "                m_degree = 0\n",
    "            if mom.has(p):\n",
    "                p_degree = sympy.Poly(mom).degree(p)\n",
    "            else:\n",
    "                p_degree = 0\n",
    "\n",
    "            # Initialize list to save variables\n",
    "            mom_var = list()\n",
    "\n",
    "            # Loop through states to generate the variables\n",
    "            for s in states:\n",
    "                mom_var.append(sympy.Symbol('{\\\\langle ' +\n",
    "                               sympy.latex(mm**m_degree * pp**p_degree) +\n",
    "                                            '\\\\rangle}_' + s))\n",
    "        else:\n",
    "            # Initialize list to save variables\n",
    "            mom_var = list()\n",
    "            \n",
    "            # Loop through states to generate the variables\n",
    "            for s in states:\n",
    "                mom_var.append(sympy.Symbol('{\\\\langle m^0 p^0' +\n",
    "                                            '\\\\rangle}_' + s))\n",
    "        # Append variables to dictionary\n",
    "        moments_dict[mom] = mom_var\n",
    "        \n",
    "    return moments_dict"
   ]
  },
  {
   "cell_type": "markdown",
   "metadata": {},
   "source": [
    "Let's generate a dictionary for the variables in the protein second moment dictionary we saved earlier."
   ]
  },
  {
   "cell_type": "code",
   "execution_count": 97,
   "metadata": {},
   "outputs": [
    {
     "data": {
      "image/png": "[encoded data removed]",
      "text/latex": [
       "$$\\left \\{ 1 : \\left [ {\\langle m^0 p^0\\rangle}_E, \\quad {\\langle m^0 p^0\\rangle}_P, \\quad {\\langle m^0 p^0\\rangle}_R\\right ], \\quad {\\mathbf{m}} : \\left [ {\\langle m\\rangle}_E, \\quad {\\langle m\\rangle}_P, \\quad {\\langle m\\rangle}_R\\right ], \\quad {\\mathbf{p}} : \\left [ {\\langle p\\rangle}_E, \\quad {\\langle p\\rangle}_P, \\quad {\\langle p\\rangle}_R\\right ], \\quad {\\mathbf{p}}^{2} : \\left [ {\\langle p^{2}\\rangle}_E, \\quad {\\langle p^{2}\\rangle}_P, \\quad {\\langle p^{2}\\rangle}_R\\right ], \\quad {\\mathbf{m}} {\\mathbf{p}} : \\left [ {\\langle m p\\rangle}_E, \\quad {\\langle m p\\rangle}_P, \\quad {\\langle m p\\rangle}_R\\right ], \\quad {\\mathbf{m}} {\\mathbf{p}}^{2} : \\left [ {\\langle m p^{2}\\rangle}_E, \\quad {\\langle m p^{2}\\rangle}_P, \\quad {\\langle m p^{2}\\rangle}_R\\right ]\\right \\}$$"
      ],
      "text/plain": [
       "⎧                                                                             \n",
       "⎨1: [{\\langle m_E__0 p__0\\rangle}, {\\langle m_P__0 p__0\\rangle}, {\\langle m_R_\n",
       "⎩                                                                             \n",
       "\n",
       "                                                                              \n",
       "_0 p__0\\rangle}], {\\mathbf{m}}: [{\\langle m\\rangle}_E, {\\langle m\\rangle}_P, {\n",
       "                                                                              \n",
       "\n",
       "                                                                              \n",
       "\\langle m\\rangle}_R], {\\mathbf{p}}: [{\\langle p\\rangle}_E, {\\langle p\\rangle}_\n",
       "                                                                              \n",
       "\n",
       "                                      2                                       \n",
       "P, {\\langle p\\rangle}_R], {\\mathbf{p}} : [{\\langle p_E__{2}\\rangle}, {\\langle \n",
       "                                                                              \n",
       "\n",
       "                                                                              \n",
       "p_P__{2}\\rangle}, {\\langle p_R__{2}\\rangle}], {\\mathbf{m}}⋅{\\mathbf{p}}: [{\\la\n",
       "                                                                              \n",
       "\n",
       "                                                                              \n",
       "ngle m p\\rangle}_E, {\\langle m p\\rangle}_P, {\\langle m p\\rangle}_R], {\\mathbf{\n",
       "                                                                              \n",
       "\n",
       "                2                                                             \n",
       "m}}⋅{\\mathbf{p}} : [{\\langle m p_E__{2}\\rangle}, {\\langle m p_P__{2}\\rangle}, \n",
       "                                                                              \n",
       "\n",
       "                            ⎫\n",
       "{\\langle m p_R__{2}\\rangle}]⎬\n",
       "                            ⎭"
      ]
     },
     "execution_count": 97,
     "metadata": {},
     "output_type": "execute_result"
    }
   ],
   "source": [
    "# Extract keys from the p2_dict\n",
    "p2_keys = [key for key, val in p2_dict.items()]\n",
    "\n",
    "# Generate dictionary with variables for each variable in dictionary\n",
    "p2_var_dict = moment_dict(p2_keys)\n",
    "\n",
    "p2_var_dict"
   ]
  },
  {
   "cell_type": "markdown",
   "metadata": {},
   "source": [
    "#### Testing system with unregulated promoter."
   ]
  },
  {
   "cell_type": "markdown",
   "metadata": {},
   "source": [
    "We now have everything in place to try to solve for moments. As an example case let's try to find the first mRNA moment for the **unregualted promoter**. For this we need first to define the matrices for this case."
   ]
  },
  {
   "cell_type": "code",
   "execution_count": 88,
   "metadata": {},
   "outputs": [
    {
     "data": {
      "image/png": "[encoded data removed]",
      "text/latex": [
       "$$\\left ( \\left[\\begin{matrix}- {k_{off}^{(p)}} & {k_{on}^{(p)}}\\\\{k_{off}^{(p)}} & - {k_{on}^{(p)}}\\end{matrix}\\right], \\quad \\left[\\begin{matrix}r_{m} & 0\\\\0 & 0\\end{matrix}\\right], \\quad \\left[\\begin{matrix}\\gamma_{m} & 0\\\\0 & \\gamma_{m}\\end{matrix}\\right], \\quad \\left[\\begin{matrix}r_{p} & 0\\\\0 & r_{p}\\end{matrix}\\right], \\quad \\left[\\begin{matrix}\\gamma_{p} & 0\\\\0 & \\gamma_{p}\\end{matrix}\\right]\\right )$$"
      ],
      "text/plain": [
       "⎛⎡-{k_{off}__{(p)}}  {k_{on}__{(p)}} ⎤  ⎡rₘ  0⎤  ⎡γₘ  0 ⎤  ⎡rₚ  0 ⎤  ⎡γₚ  0 ⎤⎞\n",
       "⎜⎢                                   ⎥, ⎢     ⎥, ⎢      ⎥, ⎢      ⎥, ⎢      ⎥⎟\n",
       "⎝⎣{k_{off}__{(p)}}   -{k_{on}__{(p)}}⎦  ⎣0   0⎦  ⎣0   γₘ⎦  ⎣0   rₚ⎦  ⎣0   γₚ⎦⎠"
      ]
     },
     "execution_count": 88,
     "metadata": {},
     "output_type": "execute_result"
    }
   ],
   "source": [
    "# Define the rate constant matrix\n",
    "Km_unreg = sympy.Matrix([[-kp_off, kp_on], \n",
    "                           [kp_off, -kp_on]])\n",
    "# Define the mRNA production matrix\n",
    "Rm_unreg = sympy.Matrix([[rm, 0], \n",
    "                         [0, 0]])\n",
    "# Define the mRNA degradation matrix\n",
    "Gm_unreg = sympy.Matrix([[gm, 0],\n",
    "                         [0, gm]])\n",
    "\n",
    "# Define the protein production matrix\n",
    "Rp_unreg = sympy.Matrix([[rp, 0], \n",
    "                         [0, rp]])\n",
    "# Define the protein degradation matrix\n",
    "Gp_unreg = sympy.Matrix([[gp, 0],\n",
    "                         [0, gp]])\n",
    "\n",
    "\n",
    "Km_unreg, Rm_unreg, Gm_unreg, Rp_unreg, Gp_unreg"
   ]
  },
  {
   "cell_type": "markdown",
   "metadata": {},
   "source": [
    "Now let's find the general equation for this first moment."
   ]
  },
  {
   "cell_type": "code",
   "execution_count": 291,
   "metadata": {},
   "outputs": [
    {
     "data": {
      "image/png": "[encoded data removed]",
      "text/latex": [
       "$$0 = {\\mathbf{R}_m} + {\\mathbf{m}} \\left({\\mathbf{K}} - {\\mathbf{\\Gamma}_m}\\right)$$"
      ],
      "text/plain": [
       "0 = {\\mathbf{R}_m} + {\\mathbf{m}}⋅({\\mathbf{K}} - {\\mathbf{\\Gamma}_m})"
      ]
     },
     "execution_count": 291,
     "metadata": {},
     "output_type": "execute_result"
    }
   ],
   "source": [
    "# Find the equation for the first moment.\n",
    "m1_eq = master_moment.subs([[x, 1], [y, 0]]).factor([m, p])\n",
    "\n",
    "sympy.Eq(0, m1_eq)"
   ]
  },
  {
   "cell_type": "markdown",
   "metadata": {},
   "source": [
    "Next we extract the coefficients of this equation."
   ]
  },
  {
   "cell_type": "code",
   "execution_count": 292,
   "metadata": {},
   "outputs": [
    {
     "data": {
      "image/png": "[encoded data removed]",
      "text/latex": [
       "$$\\left \\{ 1 : {\\mathbf{R}_m}, \\quad {\\mathbf{m}} : {\\mathbf{K}} - {\\mathbf{\\Gamma}_m}\\right \\}$$"
      ],
      "text/plain": [
       "{1: {\\mathbf{R}_m}, {\\mathbf{m}}: {\\mathbf{K}} - {\\mathbf{\\Gamma}_m}}"
      ]
     },
     "execution_count": 292,
     "metadata": {},
     "output_type": "execute_result"
    }
   ],
   "source": [
    "# Extract coefficients from equation\n",
    "m1_coeff_dict = coeff_dictionary(m1_eq)\n",
    "\n",
    "m1_coeff_dict"
   ]
  },
  {
   "cell_type": "markdown",
   "metadata": {},
   "source": [
    "Now we define the moment variables for this system"
   ]
  },
  {
   "cell_type": "code",
   "execution_count": 293,
   "metadata": {},
   "outputs": [
    {
     "data": {
      "image/png": "[encoded data removed]",
      "text/latex": [
       "$$\\left \\{ 1 : \\left [ {\\langle m^0 p^0\\rangle}_E, \\quad {\\langle m^0 p^0\\rangle}_P\\right ], \\quad {\\mathbf{m}} : \\left [ {\\langle m\\rangle}_E, \\quad {\\langle m\\rangle}_P\\right ]\\right \\}$$"
      ],
      "text/plain": [
       "{1: [{\\langle m_E__0 p__0\\rangle}, {\\langle m_P__0 p__0\\rangle}], {\\mathbf{m}}\n",
       ": [{\\langle m\\rangle}_E, {\\langle m\\rangle}_P]}"
      ]
     },
     "execution_count": 293,
     "metadata": {},
     "output_type": "execute_result"
    }
   ],
   "source": [
    "# Extract keys from dictionary\n",
    "m1_keys = [key for key, value in m1_coeff_dict.items()]\n",
    "\n",
    "# Generate variables for each of the moments\n",
    "m1_var_dict = moment_dict(m1_keys, states=['E', 'P'])\n",
    "\n",
    "m1_var_dict"
   ]
  },
  {
   "cell_type": "markdown",
   "metadata": {},
   "source": [
    "We now define the augmented matrix to solve the linear system.\n",
    "\n",
    "**NOTE:** on `sympy` getting to substitute a term like $(\\Km - \\Gm)$ with the corresponding matrices and then actually doing the subtraction is very convoluted. If you want to reproduce this make sure you follow the instructions."
   ]
  },
  {
   "cell_type": "markdown",
   "metadata": {},
   "source": [
    "First to simplify things let's generate a dictionary that instead of having the coefficients as `m1_coeff_dict` it has the substituted matrices."
   ]
  },
  {
   "cell_type": "code",
   "execution_count": 294,
   "metadata": {},
   "outputs": [
    {
     "data": {
      "image/png": "[encoded data removed]",
      "text/latex": [
       "$$\\left \\{ 1 : \\left[\\begin{matrix}r_{m} & 0\\\\0 & 0\\end{matrix}\\right], \\quad {\\mathbf{m}} : \\left[\\begin{matrix}- \\gamma_{m} - {k_{off}^{(p)}} & {k_{on}^{(p)}}\\\\{k_{off}^{(p)}} & - \\gamma_{m} - {k_{on}^{(p)}}\\end{matrix}\\right]\\right \\}$$"
      ],
      "text/plain": [
       "⎧   ⎡rₘ  0⎤                ⎡-γₘ - {k_{off}__{(p)}}     {k_{on}__{(p)}}   ⎤⎫\n",
       "⎨1: ⎢     ⎥, {\\mathbf{m}}: ⎢                                             ⎥⎬\n",
       "⎩   ⎣0   0⎦                ⎣   {k_{off}__{(p)}}     -γₘ - {k_{on}__{(p)}}⎦⎭"
      ]
     },
     "execution_count": 294,
     "metadata": {},
     "output_type": "execute_result"
    }
   ],
   "source": [
    "# Initialize dictionary to save the matrices\n",
    "m1_mat_dict = dict()\n",
    "\n",
    "\n",
    "tmp_list = list()\n",
    "# Loop through each of the coefficients and compute the operation\n",
    "# NOTE: It is quite tricky to get it to work on sympy\n",
    "for key, value in m1_coeff_dict.items():\n",
    "    # Check if the coefficient is a single term. If so, just substitute\n",
    "    # the corresponding matrix\n",
    "    if len(value.args) == 0:\n",
    "        m1_mat_dict[key] = value.subs([[Km, Km_unreg],\n",
    "                                [Rm, Rm_unreg],\n",
    "                                [Gm, Gm_unreg],\n",
    "                                [Rp, Rp_unreg],\n",
    "                                [Gp, Gp_unreg]])\n",
    "    \n",
    "        \n",
    "    # Otherwise make a list of each of the terms in the coefficient \n",
    "    # substituting them with their corresponding matrices. \n",
    "    else:\n",
    "        term_list = [x.subs([[Km, Km_unreg],\n",
    "                             [Rm, Rm_unreg],\n",
    "                             [Gm, Gm_unreg],\n",
    "                             [Rp, Rp_unreg],\n",
    "                             [Gp, Gp_unreg]]) for x in value.args]\n",
    "    \n",
    "        # Perform a second round of checking. Elements that have for example\n",
    "        # Number * Matrix are not explicitly multiplied. For this we will use\n",
    "        # np.prod by splitting the terms again into its arguments and\n",
    "        # multiplying the the arguments\n",
    "        for i, term in enumerate(term_list):\n",
    "            if len(term.args) == 2:\n",
    "                term_list[i] = np.prod(term.args)\n",
    "    \n",
    "        # Add the matrices. In order to do so:\n",
    "        # the sum function has an optional \"start\" argument so you can initialize \n",
    "        # it with a \"zero object\" of the kind you are adding. \n",
    "        # In this case, with a zero matrix.\n",
    "        m1_mat_dict[key] = sum(term_list, sympy.zeros(*Km_unreg.shape))\n",
    "\n",
    "m1_mat_dict"
   ]
  },
  {
   "cell_type": "markdown",
   "metadata": {},
   "source": [
    "After that"
   ]
  }
 ],
 "metadata": {
  "kernelspec": {
   "display_name": "Python 3",
   "language": "python",
   "name": "python3"
  },
  "language_info": {
   "codemirror_mode": {
    "name": "ipython",
    "version": 3
   },
   "file_extension": ".py",
   "mimetype": "text/x-python",
   "name": "python",
   "nbconvert_exporter": "python",
   "pygments_lexer": "ipython3",
   "version": "3.6.4"
  },
  "latex_envs": {
   "LaTeX_envs_menu_present": false,
   "autoclose": false,
   "autocomplete": false,
   "bibliofile": "biblio.bib",
   "cite_by": "apalike",
   "current_citInitial": 1,
   "eqLabelWithNumbers": true,
   "eqNumInitial": 1,
   "hotkeys": {
    "equation": "Ctrl-E",
    "itemize": "Ctrl-I"
   },
   "labels_anchors": false,
   "latex_user_defs": false,
   "report_style_numbering": false,
   "user_envs_cfg": false
  },
  "toc": {
   "nav_menu": {},
   "number_sections": true,
   "sideBar": false,
   "skip_h1_title": true,
   "title_cell": "Table of Contents",
   "title_sidebar": "Contents",
   "toc_cell": false,
   "toc_position": {},
   "toc_section_display": true,
   "toc_window_display": false
  }
 },
 "nbformat": 4,
 "nbformat_minor": 2
}
