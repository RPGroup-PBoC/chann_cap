{
 "cells": [
  {
   "cell_type": "markdown",
   "metadata": {},
   "source": [
    "# MCMC parameter inference from single-molecule mRNA FISH data."
   ]
  },
  {
   "cell_type": "markdown",
   "metadata": {},
   "source": [
    "(c) 2017 Manuel Razo. This work is licensed under a [Creative Commons Attribution License CC-BY 4.0](https://creativecommons.org/licenses/by/4.0/). All code contained herein is licensed under an [MIT license](https://opensource.org/licenses/MIT). "
   ]
  },
  {
   "cell_type": "code",
   "execution_count": null,
   "metadata": {},
   "outputs": [],
   "source": [
    "import glob\n",
    "import pickle\n",
    "# Our numerical workhorses\n",
    "import numpy as np\n",
    "import scipy.optimize\n",
    "import scipy.special\n",
    "import scipy.integrate\n",
    "import mpmath\n",
    "import pandas as pd\n",
    "import emcee\n",
    "\n",
    "# Import matplotlib stuff for plotting\n",
    "import matplotlib.pyplot as plt\n",
    "import matplotlib.cm as cm\n",
    "import matplotlib as mpl\n",
    "from matplotlib.backends.backend_pdf import PdfPages \n",
    "import corner\n",
    "\n",
    "# Seaborn, useful for graphics\n",
    "import seaborn as sns\n",
    "\n",
    "# Import the utils for this project\n",
    "import chann_cap_utils as chann_cap\n",
    "\n",
    "# Set PBoC plotting style\n",
    "chann_cap.set_plotting_style()\n",
    "\n",
    "# Magic function to make matplotlib inline; other style specs must come AFTER\n",
    "%matplotlib inline\n",
    "\n",
    "# This enables SVG graphics inline (only use with static plots (non-Bokeh))\n",
    "%config InlineBackend.figure_format = 'svg'\n",
    "\n",
    "figdir = '../../fig/chemical_master_mRNA_FISH/'\n",
    "tmpdir = '../../tmp/'"
   ]
  },
  {
   "cell_type": "markdown",
   "metadata": {},
   "source": [
    "## $\\LaTeX$ macros\n",
    "$\\newcommand{\\kpon}{k^{(p)}_{\\text{on}}}$\n",
    "$\\newcommand{\\kpoff}{k^{(p)}_{\\text{off}}}$\n",
    "$\\newcommand{\\rm}{r _m}$\n",
    "$\\newcommand{\\gm}{\\gamma _m}$\n",
    "$\\newcommand{\\mm}{\\left\\langle m \\right\\rangle}$"
   ]
  },
  {
   "cell_type": "markdown",
   "metadata": {},
   "source": [
    "\n",
    "## Exploring the single-molecule mRNA FISH data from Jones et al. 2014.\n",
    "\n",
    "In this notebook we will explore the use of the raw data from [Jones et al. 2014](http://science.sciencemag.org/content/346/6216/1533) on single molecule mRNA FISH data to make progress in determining parameters for the model.\n",
    "\n",
    "First of all let's load the data."
   ]
  },
  {
   "cell_type": "code",
   "execution_count": null,
   "metadata": {},
   "outputs": [],
   "source": [
    "df = pd.read_csv('../../data/mRNA_FISH/Jones_Brewster_2014.csv', index_col=0)\n",
    "df = df[df.experiment != 'control']\n",
    "df = df[df.experiment != 'Control']\n",
    "df = df[df.experiment != 'Ctrl']\n",
    "df.head()"
   ]
  },
  {
   "cell_type": "markdown",
   "metadata": {},
   "source": [
    "Now let's plot the raw data for the *lacUV5* promoter used in the project."
   ]
  },
  {
   "cell_type": "code",
   "execution_count": null,
   "metadata": {},
   "outputs": [],
   "source": [
    "# Extract the lacUV5 data\n",
    "dfUV5 = df[df.experiment == 'UV5']\n",
    "# Plot the histogram of the data with bins of width 1\n",
    "_ = plt.hist(dfUV5.spots_totals, bins=np.arange(0, dfUV5.spots_totals.max()),\n",
    "             normed=1, histtype='stepfilled', align='left')\n",
    "\n",
    "# Label the plot\n",
    "plt.xlabel('mRNA / cell')\n",
    "plt.ylabel('probability')"
   ]
  },
  {
   "cell_type": "markdown",
   "metadata": {},
   "source": [
    "# Two-state unregulated promoter model\n",
    "\n",
    "Given the lack of agreement between the theory and the data at the protein level we will explore the possibility of using a two-state model for the unregulated promter where it transitions from an empty promoter to occupied by RNAP.\n",
    "\n",
    "[Peccoud & Ycart](http://www.sciencedirect.com/science/article/pii/S0040580985710271) first derived the mRNA distribution for a two-state promoter from the chemical master equation. This distribution is given by\n",
    "$$\n",
    "\\scriptstyle\n",
    "P(m) = {\\Gamma\\left( {\\kpon \\over \\gm} + m \\right) \\over\n",
    "        \\Gamma (m + 1) \\Gamma\\left( {\\kpon + \\kpoff \\over \\gm} + m \\right)}\n",
    "        {\\Gamma\\left( {\\kpon + \\kpoff \\over \\gm} \\right) \\over\n",
    "         \\Gamma\\left( {\\kpon \\over \\gm} \\right) } \n",
    "         \\left( {\\rm \\over \\gm} \\right)^m\n",
    "         {}_1F_1 \\left( {\\kpon \\over \\gm} + m, {\\kpoff + \\kpon \\over \\gm} + m,\n",
    "                       {-\\rm \\over \\gm} \\right),\n",
    "$$\n",
    "where ${}_1F_1$ is the confluent hypergeometric function.\n",
    "\n",
    "Let's define a function that computes the log probability."
   ]
  },
  {
   "cell_type": "code",
   "execution_count": null,
   "metadata": {},
   "outputs": [],
   "source": [
    "# define a np.frompyfunc that allows us to evaluate the sympy.mp.math.hyp1f1\n",
    "np_log_hyp= np.frompyfunc(lambda x, y, z: \\\n",
    "mpmath.ln(mpmath.hyp1f1(x, y, z, zeroprec=1000)), 3, 1)\n",
    "\n",
    "def log_p_m_unreg(mRNA, kp_on, kp_off, gm, rm):\n",
    "    '''\n",
    "    Computes the log probability lnP(m) for an unregulated promoter, \n",
    "    i.e. the probability of having m mRNA.\n",
    "    \n",
    "    Parameters\n",
    "    ----------\n",
    "    mRNA : float.\n",
    "        mRNA copy number at which evaluate the probability.        \n",
    "    kp_on : float.\n",
    "        rate of activation of the promoter in the chemical master equation\n",
    "    kp_off : float.\n",
    "        rate of deactivation of the promoter in the chemical master equation\n",
    "    gm : float.\n",
    "        1 / half-life time for the mRNA.\n",
    "    rm : float.\n",
    "        production rate of the mRNA\n",
    "    \n",
    "    Returns\n",
    "    -------\n",
    "    log probability lnP(m)\n",
    "    '''\n",
    "    # Convert the mRNA copy number to a  numpy array\n",
    "    mRNA = np.array(mRNA)\n",
    "    \n",
    "    # Compute the probability\n",
    "    lnp = scipy.special.gammaln(kp_on / gm + mRNA) \\\n",
    "    - scipy.special.gammaln(mRNA + 1) \\\n",
    "    - scipy.special.gammaln((kp_off + kp_on) / gm + mRNA) \\\n",
    "    + scipy.special.gammaln((kp_off + kp_on) / gm) \\\n",
    "    - scipy.special.gammaln(kp_on / gm) \\\n",
    "    + mRNA * np.log(rm / gm) \\\n",
    "    + np_log_hyp(kp_on / gm + mRNA,\n",
    "            (kp_off + kp_on) / gm + mRNA, -rm / gm)\n",
    "    \n",
    "    return lnp.astype(float)"
   ]
  },
  {
   "cell_type": "markdown",
   "metadata": {},
   "source": [
    "# Bayesian parameter inference\n",
    "\n",
    "We know that the model is homogeneous in time. What that means is that changing the time scale by a constant is equivalent to dividing all rates by the same constant. Therefore we can only hope to determine the parameter value in units of one of the rate constants. Therefore we will define $\\gm \\equiv 1$ and the rest of the inferred constants will be in units of this degradation rate.\n",
    "\n",
    "Given that we want to infer three parameters, $\\kpon$, $\\kpoff$ and $\\rm$ we can write Bayes theorem as\n",
    "$$\n",
    "P(\\mathbf{p} \\mid D) = {P(D \\mid \\mathbf{p}) P(\\mathbf{p})\n",
    "\\over P(D)},\n",
    "$$\n",
    "where $\\mathbf{p} = (\\kpon, \\kpoff, \\rm)$, and $D$ is the data. \n",
    "\n",
    "For the likelihood $P(D \\mid \\mathbf{p})$ we will assume each datum is independent, i.e.\n",
    "$$\n",
    "P(D \\mid \\mathbf{p}) = \\prod_{m \\in D} P(m \\mid \\mathbf{p}),\n",
    "$$\n",
    "where each probability of obtaining $m$ mRNAs $P(m \\mid \\mathbf{p})$ is given by the solution of the chemical master equation as defined previously. Given our null prior knowledge about the parameters we will assume that all parameters are independent, and assign uniform distributions for strictly positive numbers, i.e.\n",
    "$$\n",
    "P(\\mathbf{p}) = {1 \\over \\kpon {}^\\max - \\kpon {}^\\min} \\cdot\n",
    "                {1 \\over \\kpoff {}^\\max - \\kpoff {}^\\min} \\cdot\n",
    "                {1 \\over \\rm {}^\\max - \\rm {}^\\min}.\n",
    "$$"
   ]
  },
  {
   "cell_type": "markdown",
   "metadata": {},
   "source": [
    "## Constraining parameters with thermodynamic picture.\n",
    "\n",
    "In the case of this two-state promoter we know that the mean number of mRNA is given by\n",
    "$$\n",
    "\\left\\langle m \\right\\rangle = {\\rm \\over \\gm} {\\kpon \\over \\kpon + \\kpoff},\n",
    "$$\n",
    "which is basically $\\rm / \\gm \\times p_{\\text{bound}}^{(p)}$, where $p_{\\text{bound}}^{(p)}$ is the probability of the RNAP being bound at the promoter.\n",
    "\n",
    "In the thermodynamic picture we have an equivalent result where the mean number of mRNA is given by\n",
    "$$\n",
    "\\left\\langle m \\right\\rangle = {\\rm \\over \\gm} \n",
    "{{P \\over N_{NS}} e^{-\\beta\\Delta\\varepsilon_p} \\over\n",
    "1 + {P \\over N_{NS}} e^{-\\beta\\Delta\\varepsilon_p}},\n",
    "$$\n",
    "where $P$ is the number of RNAP per cell, $N_{NS}$ is the number of non-specific binding sites, $\\beta\\equiv {k_BT}^{-1}$ $\\Delta\\varepsilon_p$ is the RNAP binding energy in $k_BT$ units.\n",
    "\n",
    "Using these two equations we can easily see that if these frameworks are to be equivalent, then it must be true that\n",
    "$$\n",
    "{\\kpon \\over \\kpoff} = {P \\over N_{NS}} e^{-\\beta\\Delta\\varepsilon_p}.\n",
    "$$\n",
    "\n",
    "Since we don't exactly know the values of all parameters in the thermodynamic picture for RNAP because we constantly use the so-called \"weak promoter approximation\" where we ignore them we can't have a very strong prior on this ratio. But we know that the RNAP copy number is order $P \\approx 1000-3000$ RNAP/cell for our growth rate, we also know that $N_{NS} = 4.6\\times 10^6$, and $-\\beta\\Delta\\varepsilon_p \\approx 5 - 7 \\; k_BT$. Given these parameters we will define a *Gaussian prior* for the ratio of these two quantities of the form\n",
    "$$\n",
    "P(\\kpon / \\kpoff) \\propto \\exp \n",
    "\\left\\{ - {\\left({\\kpon \\over \\kpoff} - \n",
    "{P \\over N_{NS}} e^{-\\beta\\Delta\\varepsilon_p} \\right)^2 \n",
    "\\over 2 \\sigma^2} \\right\\},\n",
    "$$\n",
    "where $\\sigma$ is the variance that will account for our uncertainty on the parameters for the RNAP.\n",
    "\n",
    "Let's then define a function to compute the log posterior"
   ]
  },
  {
   "cell_type": "code",
   "execution_count": null,
   "metadata": {},
   "outputs": [],
   "source": [
    "def log_likelihood(params, data):\n",
    "    \"\"\"\n",
    "    Log likelihood for the mRNA two-state distribution.\n",
    "    Parameters\n",
    "    ----------\n",
    "    params : array-like. 3 x 1.\n",
    "        kp_on, kp_off, rm parameters for the steady state mRNA distribution\n",
    "    data : array-like. n x 2\n",
    "        data[:, 0] = unique mRNA counts\n",
    "        data[:, 1] = frequency of each mRNA count\n",
    "    \n",
    "    NOTE: The likelihood asks for unique mRNA entries and their corresponding \n",
    "    counts to speed up the process of computing the probability distribution. \n",
    "    Instead of computing the probability of 3 mRNAs n times, it computes it \n",
    "    once and multiplies the value by n.\n",
    "    \"\"\"\n",
    "    # Unpack parameters\n",
    "    kp_on, kp_off, rm = params\n",
    "    # Unpack data\n",
    "    mRNA, counts = data[:, 0], data[:, 1]\n",
    "    return np.sum(counts * log_p_m_unreg(mRNA, kp_on, kp_off, 1, rm))\n",
    "\n",
    "def log_prior(params, pmax, thermo):\n",
    "    \"\"\"\n",
    "    Log prior for kinetic parameters.\n",
    "    Parameters\n",
    "    ----------\n",
    "    params : array-like. 3 x 1.\n",
    "        kp_on, kp_off, rm parameters for the steady state mRNA distribution\n",
    "    pmax : array-like. 3 x 1.\n",
    "        maximum value for the parameters given in the same order as params\n",
    "    thermo : array-like. 2 x 1.\n",
    "        thermo[0] = mean value for the thermodynamic constraint\n",
    "        thermo[1] = variance for the thermodynamic constraint\n",
    "        \n",
    "    \"\"\"\n",
    "    # Unpack parameters\n",
    "    kp_on, kp_off, rm = params\n",
    "    kp_on_max, kp_off_max, rm_max = pmax\n",
    "    \n",
    "    # Define uniform priors for parameters\n",
    "    if np.any(params < 1E-7):\n",
    "        return -np.inf\n",
    "    \n",
    "    if kp_on > kp_on_max or kp_off > kp_off_max or rm > rm_max:\n",
    "        return -np.inf\n",
    "\n",
    "    return - (kp_on / kp_off - thermo[0])**2 / 2 / thermo[1]**2\n",
    "\n",
    "\n",
    "def log_posterior(params, data, pmax, thermo, log_sampling=False):\n",
    "    \"\"\"\n",
    "    Log posterior\n",
    "    \"\"\"\n",
    "    # Boolean logic to sample in linear or in log scale\n",
    "    if log_sampling:\n",
    "        params = 10**params\n",
    "        \n",
    "    # Compute log prior\n",
    "    lp = log_prior(params, pmax, thermo)\n",
    "\n",
    "    # If log prior is -inf, return that\n",
    "    if lp == -np.inf:\n",
    "        return -np.inf\n",
    "\n",
    "    # Compute and return posterior\n",
    "    return lp + log_likelihood(params, data)"
   ]
  },
  {
   "cell_type": "markdown",
   "metadata": {},
   "source": [
    "Now that we define the functions let's sample in linear scale leaving a flexible upper bound for the parameter values."
   ]
  },
  {
   "cell_type": "code",
   "execution_count": null,
   "metadata": {},
   "outputs": [],
   "source": [
    "#Define the parameters for emcee\n",
    "n_dim = 3 # number of parameters to fit\n",
    "\n",
    "n_walkers = 30\n",
    "n_burn = 500\n",
    "n_steps = 2500\n",
    "\n",
    "# generate counts of each of the mRNA values\n",
    "counts = dfUV5.spots_totals.value_counts(sort=True)\n",
    "# append it into a n x 2 numpy arrray\n",
    "data = np.vstack([counts.index.values, counts.values]).T\n",
    "# Define parameter maximum values\n",
    "pmax = [5000, 5000, 5000]\n",
    "# Define thermodynamic constraint\n",
    "p = 2000 / 4.6E6 * np.exp(6)\n",
    "thermo = [p, 0.5 * p]\n",
    "\n",
    "# Initialize walkers\n",
    "p0 = np.zeros([n_walkers, n_dim])\n",
    "# Initialize kpon\n",
    "p0[:, 0] = np.random.uniform(1E-5, 10, n_walkers)\n",
    "# Initialize kpoff close to the ratio\n",
    "p0[:, 1] = p0[:, 0] / p\n",
    "# initialize rm\n",
    "p0[:, 2] = np.random.uniform(10, 100, n_walkers)\n",
    "\n",
    "\n",
    "# Call the sampler. \n",
    "sampler = emcee.EnsembleSampler(n_walkers, n_dim, log_posterior,\\\n",
    "            args=(data, pmax, thermo),\\\n",
    "            threads=6)"
   ]
  },
  {
   "cell_type": "code",
   "execution_count": null,
   "metadata": {},
   "outputs": [],
   "source": [
    "sample = True\n",
    "if sample:\n",
    "    #Do the burn in \n",
    "    print('performing burn-in')\n",
    "    pos, prob, state = sampler.run_mcmc(p0, n_burn, storechain=False)\n",
    "    # Perform the real MCMC\n",
    "    print('performing MCMC')\n",
    "    _ = sampler.run_mcmc(pos, n_steps)\n",
    "    output = open('../../data/mcmc/lacUV5_constitutive_mRNA_prior.pkl', 'wb')\n",
    "    print('done!')\n",
    "    pickle.dump(sampler.flatchain, output)\n",
    "    pickle.dump(sampler.flatlnprobability, output)\n",
    "    output.close() # close it to make sure it's all been written"
   ]
  },
  {
   "cell_type": "code",
   "execution_count": null,
   "metadata": {},
   "outputs": [],
   "source": [
    "# Load the flat-chain\n",
    "with open('../../data/mcmc/lacUV5_constitutive_mRNA_prior.pkl', 'rb') as file:\n",
    "    unpickler = pickle.Unpickler(file)\n",
    "    gauss_flatchain = unpickler.load()\n",
    "    gauss_flatlnprobability = unpickler.load()\n",
    "\n",
    "\n",
    "# Draw the corner plot\n",
    "fig = corner.corner(gauss_flatchain, bins=50, plot_contours=True,\n",
    "                   labels=[r'$k^{(p)}_{on}$', r'$k^{(p)}_{off}$', r'$r_m$'])\n",
    "plt.savefig(figdir + 'lacUV5_mRNA_prior_corner_plot.png', bbox_inches='tight')"
   ]
  },
  {
   "cell_type": "markdown",
   "metadata": {},
   "source": [
    "Seems that there is a very strong correlation between the $\\kpoff$ and the $\\rm$ parameter. But the peak seems to be at values $\\ll$ 1000. Let's re-do the sampling limiting the range."
   ]
  },
  {
   "cell_type": "code",
   "execution_count": null,
   "metadata": {},
   "outputs": [],
   "source": [
    "#Define the parameters for emcee\n",
    "n_dim = 3 # number of parameters to fit\n",
    "\n",
    "n_walkers = 50\n",
    "n_burn = 500\n",
    "n_steps = 5000\n",
    "\n",
    "# Initialize walkers\n",
    "p0 = np.random.uniform(1E-5, 10, (n_walkers, n_dim))"
   ]
  },
  {
   "cell_type": "code",
   "execution_count": null,
   "metadata": {},
   "outputs": [],
   "source": [
    "# generate counts of each of the mRNA values\n",
    "counts = dfUV5.spots_totals.value_counts(sort=True)\n",
    "# append it into a n x 2 numpy arrray\n",
    "data = np.vstack([counts.index.values, counts.values]).T\n",
    "# Define parameter maximum values\n",
    "pmax = [20, 250, 250]\n",
    "# Call the sampler. \n",
    "sampler = emcee.EnsembleSampler(n_walkers, n_dim, log_posterior,\\\n",
    "            args=(data, pmax),\\\n",
    "            threads=6)"
   ]
  },
  {
   "cell_type": "code",
   "execution_count": null,
   "metadata": {},
   "outputs": [],
   "source": [
    "sample = True\n",
    "if sample:\n",
    "    #Do the burn in \n",
    "    print('performing burn-in')\n",
    "    pos, prob, state = sampler.run_mcmc(p0, n_burn, storechain=False)\n",
    "    # Perform the real MCMC\n",
    "    print('performing MCMC')\n",
    "    _ = sampler.run_mcmc(pos, n_steps)\n",
    "    output = open('../../data/mcmc/lacUV5_constitutive_mRNA_smaller.pkl', 'wb')\n",
    "    print('done!')\n",
    "    pickle.dump(sampler.flatchain, output)\n",
    "    pickle.dump(sampler.flatlnprobability, output)\n",
    "    output.close() # close it to make sure it's all been written"
   ]
  },
  {
   "cell_type": "code",
   "execution_count": null,
   "metadata": {},
   "outputs": [],
   "source": [
    "# Load the flat-chain\n",
    "with open('../../data/mcmc/lacUV5_constitutive_mRNA_smaller.pkl', 'rb') as file:\n",
    "    unpickler = pickle.Unpickler(file)\n",
    "    gauss_flatchain = unpickler.load()\n",
    "    gauss_flatlnprobability = unpickler.load()\n",
    "\n",
    "\n",
    "# Draw the corner plot\n",
    "fig = corner.corner(gauss_flatchain, bins=50, plot_contours=True,\n",
    "                   labels=[r'$k^{(p)}_{on}$', r'$k^{(p)}_{off}$', r'$r_m$'])\n",
    "plt.savefig(figdir + 'lacUV5_mRNA_corner_plot_smaller.png', bbox_inches='tight')"
   ]
  },
  {
   "cell_type": "markdown",
   "metadata": {},
   "source": [
    "Let's now sample in log scale"
   ]
  },
  {
   "cell_type": "code",
   "execution_count": null,
   "metadata": {},
   "outputs": [],
   "source": [
    "#Define the parameters for emcee\n",
    "n_dim = 3 # number of parameters to fit\n",
    "\n",
    "n_walkers = 50\n",
    "n_burn = 500\n",
    "n_steps = 5000\n",
    "\n",
    "# Initialize walkers\n",
    "p0 = np.random.uniform(-2, 1, (n_walkers, n_dim))"
   ]
  },
  {
   "cell_type": "code",
   "execution_count": null,
   "metadata": {},
   "outputs": [],
   "source": [
    "# generate counts of each of the mRNA values\n",
    "counts = dfUV5.spots_totals.value_counts(sort=True)\n",
    "# append it into a n x 2 numpy arrray\n",
    "data = np.vstack([counts.index.values, counts.values]).T\n",
    "# Define parameter maximum values\n",
    "pmax = [1000, 1000, 1000]\n",
    "# Call the sampler. \n",
    "sampler = emcee.EnsembleSampler(n_walkers, n_dim, log_posterior,\\\n",
    "            args=(data, pmax, True), threads=6)"
   ]
  },
  {
   "cell_type": "code",
   "execution_count": null,
   "metadata": {},
   "outputs": [],
   "source": [
    "sample = True\n",
    "if sample:\n",
    "    #Do the burn in \n",
    "    print('performing burn-in')\n",
    "    pos, prob, state = sampler.run_mcmc(p0, n_burn, storechain=False)\n",
    "    # Perform the real MCMC\n",
    "    print('performing MCMC')\n",
    "    _ = sampler.run_mcmc(pos, n_steps)\n",
    "    output = open('../../data/mcmc/lacUV5_constitutive_mRNA_log.pkl', 'wb')\n",
    "    print('done!')\n",
    "    pickle.dump(sampler.flatchain, output)\n",
    "    pickle.dump(sampler.flatlnprobability, output)\n",
    "    output.close() # close it to make sure it's all been written"
   ]
  },
  {
   "cell_type": "code",
   "execution_count": null,
   "metadata": {},
   "outputs": [],
   "source": [
    "# Load the flat-chain\n",
    "with open('../../data/mcmc/lacUV5_constitutive_mRNA_log.pkl', 'rb') as file:\n",
    "    unpickler = pickle.Unpickler(file)\n",
    "    gauss_flatchain = unpickler.load()\n",
    "    gauss_flatlnprobability = unpickler.load()\n",
    "\n",
    "\n",
    "# Draw the corner plot\n",
    "fig = corner.corner(gauss_flatchain, bins=50, plot_contours=True,\n",
    "                   labels=[r'$k^{(p)}_{on}$', r'$k^{(p)}_{off}$', r'$r_m$'])\n",
    "plt.savefig(figdir + 'lacUV5_mRNA_corner_plot_log.png', bbox_inches='tight')"
   ]
  },
  {
   "cell_type": "markdown",
   "metadata": {},
   "source": [
    "Having defined this function let's compare the theoretical prediction with the experimental data!"
   ]
  },
  {
   "cell_type": "code",
   "execution_count": null,
   "metadata": {
    "scrolled": false
   },
   "outputs": [],
   "source": [
    "# Define bins\n",
    "bins = np.arange(0, dfUV5.spots_totals.max())\n",
    "\n",
    "logp_mRNA = log_p_m_unreg(bins, kon, koff, gamma_m, rm)\n",
    "\n",
    "# Plot the histogram of the data with bins of width 1\n",
    "_ = plt.hist(dfUV5.spots_totals, bins=bins, normed=1, histtype='stepfilled',\n",
    "             alpha=0.7, label='experimental data', align='left')\n",
    "\n",
    "plt.plot(bins, np.exp(logp_mRNA), color='r', ls='--', lw=3,# drawstyle='steps',\n",
    "         label='two-state promoter')\n",
    "\n",
    "# Label the plot\n",
    "plt.xlabel('mRNA / cell')\n",
    "plt.ylabel('probability')\n",
    "plt.legend()\n",
    "plt.savefig(figdir + 'lacUV5_two_state_PMF_fit.png')"
   ]
  },
  {
   "cell_type": "markdown",
   "metadata": {},
   "source": [
    "Let's now look at the CDF."
   ]
  },
  {
   "cell_type": "code",
   "execution_count": null,
   "metadata": {},
   "outputs": [],
   "source": [
    "# Compute the empirical CDF\n",
    "x, y = chann_cap.ecdf(dfUV5.spots_totals.values)\n",
    "# Compute the theoretical CDF\n",
    "cdf = np.cumsum(np.exp(logp_mRNA))\n",
    "\n",
    "plt.plot(x, y, label='experimental data')\n",
    "plt.plot(bins, cdf, color='r', ls='-', label='two-state promoter fit')\n",
    "#          drawstyle='steps')\n",
    "\n",
    "plt.xlabel('mRNA / cell')\n",
    "plt.ylabel('cumulative distribution')\n",
    "plt.legend()\n",
    "plt.savefig(figdir + 'lacUV5_two_state_CDF_fit.png')"
   ]
  },
  {
   "cell_type": "markdown",
   "metadata": {},
   "source": [
    "The agreement between theory and data seems to be very promising!\n",
    "That means that the parameters inferred could be potentially meaningful."
   ]
  },
  {
   "cell_type": "markdown",
   "metadata": {},
   "source": [
    "# Extending fitting procedure to all promoters.\n",
    "\n",
    "Let's extend this procedure to all of the promoters in the data-set.\n",
    "\n",
    "First let's look at all the promoters that do not contain the string `ngmL` in their name since these are regulated promoters."
   ]
  },
  {
   "cell_type": "code",
   "execution_count": null,
   "metadata": {},
   "outputs": [],
   "source": [
    "# Define data frame without the experiments with induction\n",
    "df_unreg = df[['ngmL' not in x for x in df.experiment]]\n",
    "\n",
    "# Generate list of promoters by increasing mean mRNA copy number\n",
    "promoters = df_unreg.groupby('experiment').mean().spots_totals.sort_values().index\n",
    "\n",
    "# Generate a dictionary with the colors to be used in the plot\n",
    "colors = sns.color_palette('Blues', n_colors=len(promoters))\n",
    "color_dict = dict(zip(promoters, colors))\n",
    "\n",
    "# Loop through different promoters\n",
    "for prom in promoters:\n",
    "    # Extract the promoter data\n",
    "    data = df_unreg[df_unreg.experiment == prom]\n",
    "    # Compute the empirical CDF\n",
    "    x, y = chann_cap.ecdf(data.spots_totals.values)\n",
    "    # Plot the ECDF\n",
    "    plt.plot(x, y, label=prom, color=color_dict[prom])\n",
    "\n",
    "# Label plot\n",
    "plt.xlabel('mRNA / cell')\n",
    "plt.ylabel('cumulative distribution')\n",
    "plt.legend(fontsize=8, ncol=2)"
   ]
  },
  {
   "cell_type": "markdown",
   "metadata": {},
   "source": [
    "Let's now perform the parameter estimate for this data. We will store all of the parameters into a tidy `DataFrame`."
   ]
  },
  {
   "cell_type": "code",
   "execution_count": null,
   "metadata": {},
   "outputs": [],
   "source": [
    "# Group data by experiment\n",
    "df_group = df_unreg.groupby('experiment')\n",
    "\n",
    "# List the variabes to be saved in the DataFrame.\n",
    "var = ['experiment', 'mean_mRNA', 'n_cells',\n",
    "       'kp_on', 'kp_off', 'rm', 'gm']\n",
    "# Initialize Data Frame to save rates\n",
    "df_param = pd.DataFrame(columns=var)\n",
    "\n",
    "# Loop through promotres\n",
    "for group, data in df_group:\n",
    "    # Extract data to compute moments\n",
    "    mRNA = data.spots_totals.values\n",
    "    N = len(mRNA)\n",
    "\n",
    "    # 1. Compute the moments estimators\n",
    "    m_first = 1 / N * np.sum(mRNA)\n",
    "    m_second = 1 / N * np.sum(mRNA * (mRNA - 1))\n",
    "    m_third = 1 / N * np.sum(mRNA * (mRNA - 1) * (mRNA - 2))\n",
    "\n",
    "    # 2. Compute moment ratios\n",
    "    r1 = m_first\n",
    "    r2 = m_second / m_first\n",
    "    r3 = m_third / m_second\n",
    "\n",
    "    # 3. Compute parameters\n",
    "    kon = 2 * r1 * (r3 - r2) / (r1 * r2 - 2 * r1 * r3 + r2 * r3)\n",
    "    koff = 2 * (r2 - r1) * (r1 - r3) * (r3 - r2) / \\\n",
    "               ((r1 * r2 - 2 * r1 * r3 + r2 * r3) * (r1 - 2 * r2 + r3))\n",
    "    rm = (- r1 * r2 + 2 * r1 * r3 - r2 * r3) / \\\n",
    "             (r1 - 2 * r2 + r3)\n",
    "\n",
    "    # 4. Compute the values knowing the gamma_m value\n",
    "    gamma_m = 0.00284\n",
    "    kon = kon * gamma_m\n",
    "    koff = koff * gamma_m\n",
    "    rm = rm * gamma_m\n",
    "\n",
    "    # 5. Append results into data frame\n",
    "    param = pd.Series([group, data.spots_totals.mean(), len(data),\n",
    "                       kon, koff, rm, gamma_m], index=var)\n",
    "    df_param = df_param.append(param, ignore_index=True)"
   ]
  },
  {
   "cell_type": "code",
   "execution_count": null,
   "metadata": {},
   "outputs": [],
   "source": [
    "df_param.sort_values('mean_mRNA')"
   ]
  },
  {
   "cell_type": "markdown",
   "metadata": {},
   "source": [
    "Let's plot the promoters that do not have negative parameter values and save them into a multi-page PDF document"
   ]
  },
  {
   "cell_type": "code",
   "execution_count": null,
   "metadata": {
    "scrolled": false
   },
   "outputs": [],
   "source": [
    "with PdfPages(figdir + 'unreg_promoter_fits_PMF.pdf') as pdf:\n",
    "    for prom in promoters:\n",
    "        # Extract parameters from this specific promoter\n",
    "        par = df_param[df_param.experiment == prom][['kp_on', 'kp_off', \n",
    "                                                         'rm', 'gm']]\n",
    "        # Check if all parameters have positive values\n",
    "        if np.any(par < 0):\n",
    "            continue\n",
    "            \n",
    "        # Convert parameters into dictionary\n",
    "        par = par.to_dict(orient='records')[0]\n",
    "        # Extract data from promoter\n",
    "        df_plot = df[df.experiment == prom]\n",
    "\n",
    "        # Define bins\n",
    "        bins = np.arange(0, df_plot.spots_totals.max())\n",
    "\n",
    "        # Comput theoretical PMF\n",
    "        logp_mRNA = log_p_m_unreg(bins, **par)\n",
    "\n",
    "        # Plot the histogram of the data with bins of width 1\n",
    "        _ = plt.hist(df_plot.spots_totals, bins=bins, normed=1,\n",
    "                     histtype='stepfilled', alpha=0.7,\n",
    "                     label='experimental data', align='left')\n",
    "\n",
    "        # Plot theoretical pdf\n",
    "        plt.plot(bins, np.exp(logp_mRNA), color='r', ls='--', lw=3,\n",
    "                 label='two-state promoter')\n",
    "\n",
    "        # Label the plot\n",
    "        plt.xlabel('mRNA / cell')\n",
    "        plt.ylabel('probability')\n",
    "        title = r'{0:s} $\\left\\langle m \\right\\rangle$: {1:.1f}'.format(prom, \n",
    "                df_param[df_param.experiment == prom].mean_mRNA.values[0])\n",
    "        plt.title(title)\n",
    "        plt.legend()\n",
    "        plt.tight_layout()\n",
    "        pdf.savefig()\n",
    "        plt.close()"
   ]
  },
  {
   "cell_type": "code",
   "execution_count": null,
   "metadata": {
    "scrolled": false
   },
   "outputs": [],
   "source": [
    "with PdfPages(figdir + 'unreg_promoter_fits_CDF.pdf') as pdf:\n",
    "    for prom in promoters:\n",
    "        # Extract parameters from this specific promoter\n",
    "        par = df_param[df_param.experiment == prom][['kp_on', 'kp_off', \n",
    "                                                         'rm', 'gm']]\n",
    "        # Check if all parameters have positive values\n",
    "        if np.any(par < 0):\n",
    "            continue\n",
    "            \n",
    "        # Convert parameters into dictionary\n",
    "        par = par.to_dict(orient='records')[0]\n",
    "        # Extract data from promoter\n",
    "        df_plot = df[df.experiment == prom]\n",
    "\n",
    "        # Define bins\n",
    "        bins = np.arange(0, df_plot.spots_totals.max())\n",
    "\n",
    "        # Comput theoretical PMF\n",
    "        logp_mRNA = log_p_m_unreg(bins, **par)\n",
    "        # Compute the theoretical CDF\n",
    "        cdf = np.cumsum(np.exp(logp_mRNA))\n",
    "        \n",
    "        # Compute the empirical CDF\n",
    "        x, y = chann_cap.ecdf(df_plot.spots_totals.values)\n",
    "        \n",
    "        # Plot both CDFs\n",
    "        plt.plot(x, y, label='experimental data')\n",
    "        plt.plot(bins, cdf, color='r', ls='-', label='two-state promoter fit')\n",
    "\n",
    "        # Label the plot\n",
    "        plt.xlabel('mRNA / cell')\n",
    "        plt.ylabel('probability')\n",
    "        title = r'{0:s} $\\left\\langle m \\right\\rangle$: {1:.1f}'.format(prom, \n",
    "                df_param[df_param.experiment == prom].mean_mRNA.values[0])\n",
    "        plt.title(title)\n",
    "        plt.legend()\n",
    "        plt.tight_layout()\n",
    "        pdf.savefig()\n",
    "        plt.close()"
   ]
  }
 ],
 "metadata": {
  "anaconda-cloud": {},
  "kernelspec": {
   "display_name": "Python 3",
   "language": "python",
   "name": "python3"
  },
  "language_info": {
   "codemirror_mode": {
    "name": "ipython",
    "version": 3
   },
   "file_extension": ".py",
   "mimetype": "text/x-python",
   "name": "python",
   "nbconvert_exporter": "python",
   "pygments_lexer": "ipython3",
   "version": "3.6.3"
  }
 },
 "nbformat": 4,
 "nbformat_minor": 1
}
