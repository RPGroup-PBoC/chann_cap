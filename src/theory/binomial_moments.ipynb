{
 "cells": [
  {
   "cell_type": "markdown",
   "metadata": {},
   "source": [
    "# Computing moments after cell dvision"
   ]
  },
  {
   "cell_type": "markdown",
   "metadata": {},
   "source": [
    "(c) 2019 Manuel Razo. This work is licensed under a [Creative Commons Attribution License CC-BY 4.0](https://creativecommons.org/licenses/by/4.0/). All code contained herein is licensed under an [MIT license](https://opensource.org/licenses/MIT). \n",
    "\n",
    "---"
   ]
  },
  {
   "cell_type": "code",
   "execution_count": 1,
   "metadata": {},
   "outputs": [],
   "source": [
    "import os\n",
    "import pickle\n",
    "import glob\n",
    "# Library that we will use to export lambdify functions\n",
    "import cloudpickle\n",
    "\n",
    "import itertools # Library we'll use to generate possible pairs of numbers\n",
    "\n",
    "# Numerical workhorse\n",
    "import numpy as np\n",
    "import pandas as pd\n",
    "\n",
    "# To compute symbolic expressions\n",
    "import sympy\n",
    "sympy.init_printing(use_unicode=True, use_latex=True) # print outputs in LaTeX\n",
    "\n",
    "# Import matplotlib stuff for plotting\n",
    "import matplotlib.pyplot as plt\n",
    "import matplotlib.cm as cm\n",
    "import matplotlib as mpl\n",
    "\n",
    "# Seaborn, useful for graphics\n",
    "import seaborn as sns\n",
    "\n",
    "# This enables high resolution graphics inline\n",
    "%config InlineBackend.figure_format = 'retina'\n",
    "\n",
    "\n",
    "# Import the project utils\n",
    "import sys\n",
    "sys.path.insert(0, '../../')\n",
    "import ccutils\n",
    "\n",
    "tmpdir = '../../tmp/'\n",
    "figdir = '../../fig/moment_dynamics_numeric/'\n",
    "datadir = '../../data/csv_maxEnt_dist/'"
   ]
  },
  {
   "cell_type": "code",
   "execution_count": 2,
   "metadata": {},
   "outputs": [],
   "source": [
    "# Set PBoC plotting format\n",
    "ccutils.viz.set_plotting_style()\n",
    "# Increase dpi\n",
    "mpl.rcParams['figure.dpi'] = 110"
   ]
  },
  {
   "cell_type": "markdown",
   "metadata": {},
   "source": [
    "### $\\LaTeX$ macros\n",
    "$\\newcommand{kpon}{k^{(p)}_{\\text{on}}}$\n",
    "$\\newcommand{kpoff}{k^{(p)}_{\\text{off}}}$\n",
    "$\\newcommand{kron}{k^{(r)}_{\\text{on}}}$\n",
    "$\\newcommand{kroff}{k^{(r)}_{\\text{off}}}$\n",
    "$\\newcommand{rm}{r _m}$\n",
    "$\\newcommand{gm}{\\gamma _m}$\n",
    "$\\newcommand{ee}[1]{\\left\\langle #1 \\right\\rangle}$\n",
    "$\\newcommand{bb}[1]{\\mathbf{#1}}$\n",
    "$\\newcommand{th}[1]{{#1}^{\\text{th}}}$\n",
    "$\\newcommand{dt}[1]{{\\partial{#1} \\over \\partial t}}$\n",
    "$\\newcommand{Km}{\\bb{K}}$\n",
    "$\\newcommand{Rm}{\\bb{R}_m}$\n",
    "$\\newcommand{Re}{\\bb{R}_m'}$\n",
    "$\\newcommand{Gm}{\\bb{\\Gamma}_m}$\n",
    "$\\newcommand{Rp}{\\bb{R}_p}$\n",
    "$\\newcommand{Gp}{\\bb{\\Gamma}_p}$"
   ]
  },
  {
   "cell_type": "markdown",
   "metadata": {},
   "source": [
    "## Computing the moments of the distribution after cell division."
   ]
  },
  {
   "cell_type": "markdown",
   "metadata": {},
   "source": [
    "We have already solved a general form for the dynamics of the moments of the distribution, i.e. we wrote differential equations for the moments ${d\\ee{m^x p^y}\\over dt}$. Given that we know all parameters for our model we can simply integrate these equations numerically to compute how the moments of the distribution evolve as cells progress through their cell cycle. Once the cell reaches a time $t_d$ when is going to divide the mRNA and proteins that we are interested in undergo a binomial partitioning between the two daughter cells. In other words each molecule flips a coin and decides whether to go to either daughter. The question then becomes given that we have a value for the moment $\\ee{m^x p^y}_{t_d}$ at a time before the cell division, what would the value of this moment be after the cell division takes place $\\ee{m^x p^y}_{t_o}$?\n",
    "\n",
    "We know that the probability distribution of mRNA and protein after the cell division $P_{t_o}(m, p)$ is of the form\n",
    "$$\n",
    "P_{t_o}(m, p) = \\sum_{m', p'} P(m, p \\mid m', p') P_{t_d}(m', p'),\n",
    "$$\n",
    "where we are basically summing over all the possibilities of having $m'$ mRNA and $p'$ proteins before cell division. The conditional probability $P(m, p \\mid m', p')$ is simply given by a product of two binomial distributions, one for the mRNA and one for the protein; this is\n",
    "$$\n",
    "P(m, p \\mid m', p') = {m' \\choose m}\\left( {1 \\over 2} \\right)^{m'}\n",
    "{p' \\choose p}\\left( {1 \\over 2} \\right)^{p'}.\n",
    "$$\n",
    "This is because the partitionining of mRNA and protein between cells is independent of each other.\n",
    "\n",
    "Given this functional form we can then compute the moments after the cell division $\\ee{m^x p^y}_{t_o}$ as\n",
    "$$\n",
    "\\ee{m^x p^y}_{t_o} = \\sum_m \\sum_p m^x p^y P_{t_o}(m, p).\n",
    "$$\n",
    "Substituting the definition of the probability distribution results in\n",
    "$$\n",
    "\\ee{m^x p^y}_{t_o} = \\sum_m \\sum_p m^x p^y\n",
    "\\sum_{m', p'} P(m, p \\mid m', p') P_{t_d}(m', p').\n",
    "$$\n",
    "We can rearange the sums to be \n",
    "$$\n",
    "\\ee{m^x p^y}_{t_o} = \\sum_{m', p'} P_{t_d}(m', p')\n",
    "\\sum_m \\sum_p m^x p^y\n",
    "P(m, p \\mid m', p').\n",
    "$$\n",
    "We mentioned that the partitioning of mRNA and protein between daughter cells are independent events. This can be expressed as\n",
    "$$\n",
    "P(m, p \\mid m', p') = P(m \\mid m') \\cdot P(p \\mid p').\n",
    "$$\n",
    "With this we can then write the moment $\\ee{m^x p^y}_{t_o}$ as\n",
    "$$\n",
    "\\ee{m^x p^y}_{t_o} = \\sum_{m', p'} P_{t_d}(m', p')\n",
    "\\sum_m  m^x  P(m \\mid m')\n",
    "\\sum_p p^y P(p \\mid p').\n",
    "$$\n",
    "Notice that the terms with the conditional distributions are of the form\n",
    "$$\n",
    "\\sum_z  z^x  P(z \\mid z') \\equiv \\ee{z^x \\mid z'}, \\; \n",
    "{\\text{ for } z\\in \\{m, p \\}},\n",
    "$$\n",
    "i.e. conditional expected values. These conditional expected values are the expected values of a binomial random variable $z \\sim \\text{Bin}(z', 1/2)$. We can then rewrite the expected values after the cell division as\n",
    "$$\n",
    "\\ee{m^x p^y}_{t_o} = \\sum_{m', p'} \\ee{m^x \\mid m'} \\ee{p^y \\mid p'} \n",
    "P_{t_d}(m', p').\n",
    "$$"
   ]
  },
  {
   "cell_type": "markdown",
   "metadata": {},
   "source": [
    "To see how this general formula for the moments after the cell division works let's compute the mean protein per cell after the cell division $\\ee{p}_{t_o}$. That is setting $x = 0$, and $y = 1$. This results in\n",
    "$$\n",
    "\\ee{p}_{t_o} = \\sum_{m', p'} \\ee{m^0 \\mid m'} \\ee{p \\mid p'} P_{t_d}(m', p').\n",
    "$$\n",
    "The zeroth moment $\\ee{m^0 \\mid m'}$ by definition must be one since we have\n",
    "$$\n",
    "\\ee{m^0 \\mid m'} = \\sum_m m^0 P(m \\mid m') = \\sum_m P(m \\mid m') = 1,\n",
    "$$\n",
    "since the probability distribution must be normalized. This leaves us then with\n",
    "$$\n",
    "\\ee{p}_{t_o} = \\sum_{m', p'} P_{t_d}(m', p') \\ee{p \\mid p'}.\n",
    "$$\n",
    "If we take the sum over $m'$ we simply compute the marginal probability distribuiton $\\sum_{m'} P_{t_d}(m', p') = P_{t_d}(p')$, then we have\n",
    "$$\n",
    "\\ee{p}_{t_o} = \\sum_{p'} \\ee{p \\mid p'} P_{t_d}(p').\n",
    "$$\n",
    "For the particular case of the first moment of the binomial distribution with parameters $p'$ and $1/2$ we know that\n",
    "$$\n",
    "\\ee{p \\mid p'} = {p' \\over 2}.\n",
    "$$\n",
    "Therefore the moment after division is equal to\n",
    "$$\n",
    "\\ee{p}_{t_o} = \\sum_{p'} {p' \\over 2} P_{t_d}(p') = {\\ee{p'}_{t_d} \\over 2}.\n",
    "$$\n",
    "This result makes perfect sense. What this is saying is that the mean protein copy number right after the cell divides is half of the mean protein copy number just before the cell division. That is exactly we would expect."
   ]
  },
  {
   "cell_type": "markdown",
   "metadata": {},
   "source": [
    "## Moment Generating Function for the binomial distribution"
   ]
  },
  {
   "cell_type": "markdown",
   "metadata": {},
   "source": [
    "The result from last section was dependent on us knowing the functional form of the firt moment of the binomial distribution. For higher moments we need some systematic way to compute such moments. Luckily for us we can do so by using the so-called moment generating function (MGF). The MGF of a random variable $X$ is defined as\n",
    "$$\n",
    "M_X(t) = \\ee{e^{tX}},\n",
    "$$\n",
    "where $t$ is a dummy variable. Once we know the MGF we can obtain any moment of the distribution by simply computing\n",
    "$$\n",
    "\\ee{X^m} = \\left. {d^m \\over dt^m} M_X(t) \\right\\vert_{t=0},\n",
    "$$\n",
    "i.e. taking the n-th derivative. For the particular case of the binomial distribution $X \\sim \\text{Bin}(N, q)$ it can be shown that the MGF is of the form\n",
    "$$\n",
    "M_X(t) = \\left[ (1 - q) + qe^{t} \\right]^N.\n",
    "$$"
   ]
  },
  {
   "cell_type": "markdown",
   "metadata": {},
   "source": [
    "The objective of this notebook will be to use `sympy` to compute such derivatives and therefore generate explicit formulas for the moments of the distribution right after the cell division.\n",
    "\n",
    "We begin by initializing the symbols that we will need."
   ]
  },
  {
   "cell_type": "code",
   "execution_count": 66,
   "metadata": {},
   "outputs": [
    {
     "data": {
      "image/png": "[encoded data removed]",
      "text/latex": [
       "$\\displaystyle \\left( m^{x}, \\  p^{y}, \\  t, \\  N, \\  X, \\  q\\right)$"
      ],
      "text/plain": [
       "⎛ x   y            ⎞\n",
       "⎝m , p , t, N, X, q⎠"
      ]
     },
     "execution_count": 66,
     "metadata": {},
     "output_type": "execute_result"
    }
   ],
   "source": [
    "# Define mRNA and protein variables\n",
    "m, p, = sympy.symbols('m p')\n",
    "# Define the exponents\n",
    "x, y = sympy.symbols('x y')\n",
    "# Define dummy variable for MGF\n",
    "t, N, q = sympy.symbols('t N q')\n",
    "\n",
    "m**x, p**y, t, N, X, q"
   ]
  },
  {
   "cell_type": "markdown",
   "metadata": {},
   "source": [
    "Now let's define the moment generating function."
   ]
  },
  {
   "cell_type": "code",
   "execution_count": 67,
   "metadata": {},
   "outputs": [
    {
     "data": {
      "image/png": "[encoded data removed]",
      "text/latex": [
       "$\\displaystyle \\left(q e^{t} - q + 1\\right)^{N}$"
      ],
      "text/plain": [
       "              N\n",
       "⎛   t        ⎞ \n",
       "⎝q⋅ℯ  - q + 1⎠ "
      ]
     },
     "execution_count": 67,
     "metadata": {},
     "output_type": "execute_result"
    }
   ],
   "source": [
    "# Define MGF for binomial N, p\n",
    "mgf = ((1 - q) + q * sympy.exp(t))**N\n",
    "\n",
    "mgf"
   ]
  },
  {
   "cell_type": "markdown",
   "metadata": {},
   "source": [
    "As an example let's make sure we can reproduce the known first moment by taking the first derivative."
   ]
  },
  {
   "cell_type": "code",
   "execution_count": 59,
   "metadata": {},
   "outputs": [
    {
     "data": {
      "image/png": "[encoded data removed]",
      "text/latex": [
       "$\\displaystyle N q$"
      ],
      "text/plain": [
       "N⋅q"
      ]
     },
     "execution_count": 59,
     "metadata": {},
     "output_type": "execute_result"
    }
   ],
   "source": [
    "# Compute first deriative and substitute t = 0.\n",
    "first_mom = mgf.diff((t,1)).subs({t: 0})\n",
    "\n",
    "# Simplify and print expression.\n",
    "first_mom.simplify()"
   ]
  },
  {
   "cell_type": "markdown",
   "metadata": {},
   "source": [
    "This is indeed the expected value of the binomial distribution.\n",
    "Let's follow up the analysis, compute the second moment and then the variance"
   ]
  },
  {
   "cell_type": "code",
   "execution_count": 60,
   "metadata": {},
   "outputs": [
    {
     "data": {
      "image/png": "[encoded data removed]",
      "text/latex": [
       "$\\displaystyle N q \\left(1 - q\\right)$"
      ],
      "text/plain": [
       "N⋅q⋅(1 - q)"
      ]
     },
     "execution_count": 60,
     "metadata": {},
     "output_type": "execute_result"
    }
   ],
   "source": [
    "# Compute the second moment and substitute t = 0.\n",
    "second_mom = mgf.diff((t, 2)).subs({t: 0})\n",
    "\n",
    "# Compute the variance\n",
    "var = second_mom - first_mom**2\n",
    "\n",
    "# Print variance\n",
    "var.simplify()"
   ]
  },
  {
   "cell_type": "markdown",
   "metadata": {},
   "source": [
    "Again, the expected variance of the binomial distribution. Now we are in position of computing the rest of the moments systematically."
   ]
  },
  {
   "cell_type": "code",
   "execution_count": 68,
   "metadata": {},
   "outputs": [],
   "source": [
    "# Define moments to compute\n",
    "mom = np.arange(1, 7)\n",
    "\n",
    "# Initialize list to store moments\n",
    "mom_list = list()\n",
    "\n",
    "# Loop through moments and compute derivative\n",
    "for i in mom:\n",
    "    # Compute and store derivative\n",
    "    mom_list.append(mgf.diff((t, i)).subs({t: 0,\n",
    "                    q: sympy.Rational(1,2)}).expand())"
   ]
  },
  {
   "cell_type": "markdown",
   "metadata": {},
   "source": [
    "Let's take a look at all the derivatives together."
   ]
  },
  {
   "cell_type": "code",
   "execution_count": 69,
   "metadata": {},
   "outputs": [
    {
     "data": {
      "image/png": "[encoded data removed]",
      "text/latex": [
       "$\\displaystyle \\left[ \\frac{N}{2}, \\  \\frac{N^{2}}{4} + \\frac{N}{4}, \\  \\frac{N^{3}}{8} + \\frac{3 N^{2}}{8}, \\  \\frac{N^{4}}{16} + \\frac{3 N^{3}}{8} + \\frac{3 N^{2}}{16} - \\frac{N}{8}, \\  \\frac{N^{5}}{32} + \\frac{5 N^{4}}{16} + \\frac{15 N^{3}}{32} - \\frac{5 N^{2}}{16}, \\  \\frac{N^{6}}{64} + \\frac{15 N^{5}}{64} + \\frac{45 N^{4}}{64} - \\frac{15 N^{3}}{64} - \\frac{15 N^{2}}{32} + \\frac{N}{4}\\right]$"
      ],
      "text/plain": [
       "⎡    2       3      2   4      3      2       5      4       3      2   6     \n",
       "⎢N  N    N  N    3⋅N   N    3⋅N    3⋅N    N  N    5⋅N    15⋅N    5⋅N   N    15\n",
       "⎢─, ── + ─, ── + ────, ── + ──── + ──── - ─, ── + ──── + ───── - ────, ── + ──\n",
       "⎣2  4    4  8     8    16    8      16    8  32    16      32     16   64     \n",
       "\n",
       "  5       4       3       2    ⎤\n",
       "⋅N    45⋅N    15⋅N    15⋅N    N⎥\n",
       "─── + ───── - ───── - ───── + ─⎥\n",
       "64      64      64      32    4⎦"
      ]
     },
     "execution_count": 69,
     "metadata": {},
     "output_type": "execute_result"
    }
   ],
   "source": [
    "mom_list"
   ]
  },
  {
   "cell_type": "markdown",
   "metadata": {},
   "source": [
    "What we need to create is a function that for a given pair of exponents $x$ and $y$ computes the product of the two binomials"
   ]
  },
  {
   "cell_type": "code",
   "execution_count": 70,
   "metadata": {},
   "outputs": [],
   "source": [
    "def binom_prod(x, y):\n",
    "    '''\n",
    "    Function that computes the the product of the binomials for a given\n",
    "    pair of exponents x, y.\n",
    "    Parameters\n",
    "    ----------\n",
    "    x, y : int.\n",
    "        Exponents of the moment <m**x * p**y>\n",
    "        \n",
    "    Returns\n",
    "    -------\n",
    "    binom_pro : Sympy eq.\n",
    "        Product of the two binomial moments\n",
    "    '''\n",
    "    # Compute mRNA related moment\n",
    "    mRNA_mom = mgf.diff((t, x)).subs({t: 0, N: m,\n",
    "                                      q: sympy.Rational(1,2)})\n",
    "    \n",
    "    # Compute protein related moment\n",
    "    protein_mom = mgf.diff((t, y)).subs({t: 0, N: p,\n",
    "                                         q: sympy.Rational(1,2)})\n",
    "    \n",
    "    # Compute product\n",
    "    binom_p = mRNA_mom * protein_mom\n",
    "    \n",
    "    return binom_p.expand()"
   ]
  },
  {
   "cell_type": "markdown",
   "metadata": {},
   "source": [
    "Let's look at a couple of examples to gain intuition on these results. For example let's first take a look at the moment $\\ee{mp}$."
   ]
  },
  {
   "cell_type": "code",
   "execution_count": 77,
   "metadata": {},
   "outputs": [
    {
     "data": {
      "image/png": "[encoded data removed]",
      "text/latex": [
       "$\\displaystyle \\frac{m p}{4}$"
      ],
      "text/plain": [
       "m⋅p\n",
       "───\n",
       " 4 "
      ]
     },
     "execution_count": 77,
     "metadata": {},
     "output_type": "execute_result"
    }
   ],
   "source": [
    "binom_prod(1, 1)"
   ]
  },
  {
   "cell_type": "markdown",
   "metadata": {},
   "source": [
    "This result indicates is that when computing the moment after cell division $\\ee{mp}_{t_o}$ which is of the form\n",
    "$$\n",
    "\\ee{mp}_{t_o} = \\sum_{m', p'} \\ee{m \\mid m'} \\ee{p \\mid p'} P_{t_d}(m', p'),\n",
    "$$\n",
    "the product $\\ee{m \\mid m'} \\ee{p \\mid p'}$ is then\n",
    "$$\n",
    "\\ee{m \\mid m'} \\ee{p \\mid p'} = {m' p' \\over 4}.\n",
    "$$\n",
    "Substituting this result into the moment would then give\n",
    "$$\n",
    "\\ee{mp}_{t_o} = \\sum_{m', p'} {m' p' \\over 4} P_{t_d}(m', p') = \n",
    "{\\ee{m' p'}_{t_d} \\over 4}.\n",
    "$$\n",
    "Therefore to compute the moment after cell division $\\ee{mp}_{t_o}$ we simply have to divide by 4 the same moment before the cell division."
   ]
  },
  {
   "cell_type": "markdown",
   "metadata": {},
   "source": [
    "This was an easy example. Let's take a look at another moment, for example $\\ee{p^3}$."
   ]
  },
  {
   "cell_type": "code",
   "execution_count": 78,
   "metadata": {},
   "outputs": [
    {
     "data": {
      "image/png": "[encoded data removed]",
      "text/latex": [
       "$\\displaystyle \\frac{p^{3}}{8} + \\frac{3 p^{2}}{8}$"
      ],
      "text/plain": [
       " 3      2\n",
       "p    3⋅p \n",
       "── + ────\n",
       "8     8  "
      ]
     },
     "execution_count": 78,
     "metadata": {},
     "output_type": "execute_result"
    }
   ],
   "source": [
    "binom_prod(0, 3)"
   ]
  },
  {
   "cell_type": "markdown",
   "metadata": {},
   "source": [
    "Following the same logic as before this result indicates that in order to compute the moment before cell division $\\ee{p^3}_{t_o}$ we would compute\n",
    "$$\n",
    "\\ee{p^3}_{t_o} = {\\ee{p^3}_{t_d} \\over 8} + {3 \\ee{p^2}_{t_d} \\over 8}.\n",
    "$$\n",
    "So for this particular case the third moment of the protein distribution depends on the third moment and the second moment before the cell division."
   ]
  },
  {
   "cell_type": "markdown",
   "metadata": {},
   "source": [
    "Let us then define a vector to collect all moments before the cell division up  the $\\ee{m^x p^y}$, i.e.\n",
    "$$\n",
    "\\bb{\\ee{m^x p^y}}_{t_d} = \\left(\n",
    "\\ee{m^0 p^0}_{t_d}, \\ee{m^1}_{t_d}, \\ldots , \\ee{m^x p^y}_{t_d}\n",
    "\\right).\n",
    "$$\n",
    "Then the any moment after cell division $\\ee{m^{x'}, p^{y'}}_{t_o}$ for $x' \\leq x$ and $y' \\leq y$ can be computed as\n",
    "$$\n",
    "\\ee{m^{x'} p^{y'}}_{t_o} = \\bb{z}_{x'y'} \\cdot \\bb{\\ee{m^x p^y}}_{t_d},\n",
    "$$\n",
    "where we define the vector $\\bb{z}_{x'y'}$ as the vector containing all the coefficients that we obtain with the product of the two binomial distributions.\n",
    "For example for the case of the third protein moment $\\ee{p^3}_{t_o}$ the vector $\\bb{z}_{x'y'}$ would have zeros for all entries except for the corresponding entry for $\\ee{p^2}_{t_d}$ and for $\\ee{p^3}_{t_d}$, where it would have $3/8$ and $1/8$ accordingly."
   ]
  },
  {
   "cell_type": "markdown",
   "metadata": {},
   "source": [
    "If we want then to compute all the moments after the cell division up to $\\ee{m^x p^y}_{t_o}$ let us define an equivalent vector\n",
    "$$\n",
    "\\bb{\\ee{m^x p^y}}_{t_o} = \\left(\n",
    "\\ee{m^0 p^0}_{t_o}, \\ee{m^1}_{t_o}, \\ldots , \\ee{m^x p^y}_{t_o}\n",
    "\\right).\n",
    "$$\n",
    "Then we need to build a square matrix $\\bb{Z}$ such that each row of the matrix contains the corresponding vector $\\bb{z}_{x' y'}$ for each of the moments. Having this matrix we would simply compute the moments after the cell division as\n",
    "$$\n",
    "\\bb{\\ee{m^x p^x}}_{t_o} = \\bb{Z} \\cdot \\bb{\\ee{m^x p^x}}_{t_d}.\n",
    "$$\n",
    "In other words, matrix $\\bb{Z}$ will contain all the coefficients that we need to multiply by the moments before the cell division in order to obtain the moments after cell division."
   ]
  },
  {
   "cell_type": "markdown",
   "metadata": {},
   "source": [
    "Let's systematically compute this matrix for all the moments up to the 6th protein moment."
   ]
  },
  {
   "cell_type": "markdown",
   "metadata": {},
   "source": [
    "### Extract coefficients of polynomial equation."
   ]
  },
  {
   "cell_type": "markdown",
   "metadata": {},
   "source": [
    "The first function we need to define is one that takes a result from our `binom_prod` function and extracts all the coefficients into a dictionary. For example if we were to feed the result for the third protein moment $\\ee{p^3}$ this function must return a dictionary of the form\n",
    "$$\n",
    "\\{\n",
    "p^2: {3 \\over 8}, p^3: {1 \\over 8}\n",
    "\\}.\n",
    "$$"
   ]
  },
  {
   "cell_type": "code",
   "execution_count": 80,
   "metadata": {},
   "outputs": [],
   "source": [
    "def coeff_dictionary(eq):\n",
    "    '''\n",
    "    Returns a dictionary with each of the coefficients for a given\n",
    "    equation.\n",
    "\n",
    "    Parameter\n",
    "    ---------\n",
    "    eq : sympy expression.\n",
    "        Sympy expression for the equation\n",
    "\n",
    "    Returns\n",
    "    -------\n",
    "    coeff_dict : dictionary.\n",
    "        Dictionary containing all the coefficients of each of the elements\n",
    "        in the polynomial equation\n",
    "    '''\n",
    "    # Find the degree of the eqent for each of the variables\n",
    "    if eq.has(m):\n",
    "        m_degree = sympy.Poly(eq).degree(m)\n",
    "    else:\n",
    "        m_degree = 0\n",
    "    if eq.has(p):\n",
    "        p_degree = sympy.Poly(eq).degree(p)\n",
    "    else:\n",
    "        p_degree = 0\n",
    "    \n",
    "    return {m**x * p**y: eq.coeff(m**x * p**y).\\\n",
    "            subs([[m, 0], [p, 0]])\n",
    "            for x in range(m_degree + 1)\n",
    "            for y in range(p_degree + 1)}"
   ]
  },
  {
   "cell_type": "markdown",
   "metadata": {},
   "source": [
    "Let's now test the function"
   ]
  },
  {
   "cell_type": "code",
   "execution_count": 81,
   "metadata": {},
   "outputs": [
    {
     "data": {
      "image/png": "[encoded data removed]",
      "text/latex": [
       "$\\displaystyle \\left\\{ 1 : 0, \\  p : 0, \\  p^{2} : \\frac{3}{8}, \\  p^{3} : \\frac{1}{8}\\right\\}$"
      ],
      "text/plain": [
       "⎧             2        3     ⎫\n",
       "⎨1: 0, p: 0, p : 3/8, p : 1/8⎬\n",
       "⎩                            ⎭"
      ]
     },
     "execution_count": 81,
     "metadata": {},
     "output_type": "execute_result"
    }
   ],
   "source": [
    "coeff_dictionary(binom_prod(0, 3))"
   ]
  },
  {
   "cell_type": "markdown",
   "metadata": {},
   "source": [
    "This looks exactly like we expected. Let's look at a slightly more complicated moment such as $\\ee{m^3 p^3}$. First we look at the product from the two binomial distributions."
   ]
  },
  {
   "cell_type": "code",
   "execution_count": 83,
   "metadata": {},
   "outputs": [
    {
     "data": {
      "image/png": "[encoded data removed]",
      "text/latex": [
       "$\\displaystyle \\frac{m^{3} p^{3}}{64} + \\frac{3 m^{3} p^{2}}{64} + \\frac{3 m^{2} p^{3}}{64} + \\frac{9 m^{2} p^{2}}{64}$"
      ],
      "text/plain": [
       " 3  3      3  2      2  3      2  2\n",
       "m ⋅p    3⋅m ⋅p    3⋅m ⋅p    9⋅m ⋅p \n",
       "───── + ─────── + ─────── + ───────\n",
       "  64       64        64        64  "
      ]
     },
     "execution_count": 83,
     "metadata": {},
     "output_type": "execute_result"
    }
   ],
   "source": [
    "binom_prod(3, 3)"
   ]
  },
  {
   "cell_type": "markdown",
   "metadata": {},
   "source": [
    "Now we know what entries our dictionary must contain. Let's see if the function actually returns what we expect."
   ]
  },
  {
   "cell_type": "code",
   "execution_count": 82,
   "metadata": {},
   "outputs": [
    {
     "data": {
      "image/png": "[encoded data removed]",
      "text/latex": [
       "$\\displaystyle \\left\\{ 1 : 0, \\  m : 0, \\  m^{2} : 0, \\  m^{3} : 0, \\  p : 0, \\  p^{2} : 0, \\  p^{3} : 0, \\  m p : 0, \\  m p^{2} : 0, \\  m p^{3} : 0, \\  m^{2} p : 0, \\  m^{2} p^{2} : \\frac{9}{64}, \\  m^{2} p^{3} : \\frac{3}{64}, \\  m^{3} p : 0, \\  m^{3} p^{2} : \\frac{3}{64}, \\  m^{3} p^{3} : \\frac{1}{64}\\right\\}$"
      ],
      "text/plain": [
       "⎧             2      3            2      3                2        3      2   \n",
       "⎨1: 0, m: 0, m : 0, m : 0, p: 0, p : 0, p : 0, m⋅p: 0, m⋅p : 0, m⋅p : 0, m ⋅p:\n",
       "⎩                                                                             \n",
       "\n",
       "     2  2         2  3         3        3  2         3  3      ⎫\n",
       " 0, m ⋅p : 9/64, m ⋅p : 3/64, m ⋅p: 0, m ⋅p : 3/64, m ⋅p : 1/64⎬\n",
       "                                                               ⎭"
      ]
     },
     "execution_count": 82,
     "metadata": {},
     "output_type": "execute_result"
    }
   ],
   "source": [
    "coeff_dictionary(binom_prod(3, 3))"
   ]
  },
  {
   "cell_type": "markdown",
   "metadata": {},
   "source": [
    "This is indeed the expected dictionary, so the function is working."
   ]
  },
  {
   "cell_type": "markdown",
   "metadata": {},
   "source": [
    "### Systematically finding the moments necessary to solve for $\\bb{\\ee{m^x p^y}}$"
   ]
  },
  {
   "cell_type": "markdown",
   "metadata": {},
   "source": [
    "We established that a moment of the form $\\bb{\\ee{m^x p^y}}$ depends on lower moments that satisfy two conditions. We need to define a function that given the largest moment $\\bb{\\ee{m^x p^y}}$ to be included in the matrix it finds all of the moments $\\bb{\\ee{m^{x'} p^{y'}}}$ that satisfy such conditions."
   ]
  },
  {
   "cell_type": "code",
   "execution_count": 84,
   "metadata": {},
   "outputs": [],
   "source": [
    "def expo_pairs(m_expo, p_expo):\n",
    "    '''\n",
    "    Finds all of the pairs of exponents x', y' that are necessary to compute the\n",
    "    moment <m**m_expo * p**p_expo> that satisfy the necessary conditions:\n",
    "    1) y' <= p_expo\n",
    "    2) x' + y' <= m_expo + p_expo\n",
    "    Parameters\n",
    "    ----------\n",
    "    m_expo, p_expo: int.\n",
    "        Exponents of the highest moment to be included in the system.\n",
    "        m_expo corresponds to the mRNA exponent\n",
    "        p_expo corresponds to the protein exponent\n",
    "        \n",
    "    Returns\n",
    "    -------\n",
    "    pairs : list.\n",
    "        List of sorted exponent pairs necessary for the computation\n",
    "    NOTE: The sorting (which is not a necessary feature) given the general\n",
    "    form of the equation only works up to the moment <m**0 * p**p_expo>.\n",
    "    Any moment with x'>0 and y'=p_expo will be out of order appended at\n",
    "    the end of the list.\n",
    "    '''\n",
    "    # Find all possible pair of exponents that satisfy\n",
    "    # x' + y' <= m_expo + p_expo\n",
    "    expo_pairs = list(itertools.permutations(range(m_expo + p_expo + 1), 2))\n",
    "\n",
    "    # Add the (num, num) pair that are not being included\n",
    "    expo_pairs = expo_pairs + [tuple([s, s]) for s in \n",
    "                               range(max([m_expo, p_expo]) + 1)]\n",
    "\n",
    "    # Remove pairs that do not satisfy the condition\n",
    "    # y' <= p_expo\n",
    "    expo_pairs = [s for s in expo_pairs if s[1] <= p_expo]\n",
    "\n",
    "    # Remove pairs that do not satisfy the condition\n",
    "    # x' <= m_expo + 1\n",
    "#     expo_pairs = [x for x in expo_pairs if x[0] <= m_expo + 1]\n",
    "\n",
    "    # # Remove pairs that do not satisfy the condition\n",
    "    # x' + y' <= m_expo + p_expo\n",
    "    expo_pairs = [s for s in expo_pairs if sum(s) <= m_expo + p_expo]\n",
    "\n",
    "    ##  Moment sorting ##\n",
    "    # Initialize list to append sorted moments\n",
    "    expo_sorted = list()\n",
    "\n",
    "    # Append mRNA moments\n",
    "    mRNA_mom = sorted([s for s in expo_pairs if s[1] == 0])\n",
    "    expo_sorted.append(mRNA_mom)\n",
    "\n",
    "    # Find each protein moment\n",
    "    protein_mom = sorted([s for s in expo_pairs if (s[0] == 0) & (s[1] != 0)])\n",
    "\n",
    "    # Loop through each protein moment and find the cross correlations\n",
    "    # associated with it\n",
    "    for pr in protein_mom:\n",
    "        cross_corr = sorted([s for s in expo_pairs\n",
    "                             if (s[0] > 0) & (s[1] > 0) & (sum(s) == pr[1])],\n",
    "                            reverse=True)\n",
    "        # append it to the list\n",
    "        expo_sorted.append(cross_corr)\n",
    "        expo_sorted.append([pr])\n",
    "\n",
    "    expo_sorted = list(itertools.chain.from_iterable(expo_sorted))\n",
    "\n",
    "    # Append the other terms that are missing\n",
    "    missing = [s for s in expo_pairs if s not in expo_sorted]\n",
    "    \n",
    "    return expo_sorted + missing"
   ]
  },
  {
   "cell_type": "markdown",
   "metadata": {},
   "source": [
    "Let's test the function by finding the moments that would be needed to obtain the second moment of the protein distribution."
   ]
  },
  {
   "cell_type": "code",
   "execution_count": 87,
   "metadata": {},
   "outputs": [
    {
     "data": {
      "image/png": "[encoded data removed]",
      "text/latex": [
       "$\\displaystyle \\left[ \\left( 0, \\  0\\right), \\  \\left( 1, \\  0\\right), \\  \\left( 2, \\  0\\right), \\  \\left( 0, \\  1\\right), \\  \\left( 1, \\  1\\right), \\  \\left( 0, \\  2\\right)\\right]$"
      ],
      "text/plain": [
       "[(0, 0), (1, 0), (2, 0), (0, 1), (1, 1), (0, 2)]"
      ]
     },
     "execution_count": 87,
     "metadata": {},
     "output_type": "execute_result"
    }
   ],
   "source": [
    "# Define exponents for highest moment to be inferred\n",
    "m_expo, p_expo = 0, 2\n",
    "\n",
    "# Find the list of moments that need to be computed\n",
    "expo_pairs(m_expo, p_expo)"
   ]
  },
  {
   "cell_type": "markdown",
   "metadata": {},
   "source": [
    "These are indeed the moments needed to compute the second protein moment. Now we are ready to generate the matrix $\\bb{Z}$. What we need to do is indicate the exponents $x$ and $y$ of the largest moment to be included, obtain all of the moments that are needed in order to compute the this moment, and loop through each of them extracting the coefficients at each step. This is better explained in the implementation of the function."
   ]
  },
  {
   "cell_type": "code",
   "execution_count": 101,
   "metadata": {},
   "outputs": [],
   "source": [
    "def Z_matrix_gen(m_expo, p_expo):\n",
    "    '''\n",
    "    Generates the matrix A to compute the moment dynamics of the form\n",
    "    dµ/dt = A * µ\n",
    "    It is basically a collection of the coefficients that go along\n",
    "    each moment.\n",
    "    \n",
    "    Parameters\n",
    "    ----------\n",
    "    m_expo, p_expo: int.\n",
    "        Exponents of the highest moment to be included in the system.\n",
    "        m_expo corresponds to the mRNA exponent\n",
    "        p_expo corresponds to the protein exponent\n",
    "    \n",
    "    Returns\n",
    "    -------\n",
    "    Z_matrix : 2D-array.\n",
    "        Sympy matrix containing all of the coefficients to compute the \n",
    "        moment after cell division.\n",
    "    exponents : list.\n",
    "        List of exponents as they are included in the matrix\n",
    "    '''\n",
    "    # Find exponents of moments needed to be computed\n",
    "    exponents = expo_pairs(m_expo, p_expo)\n",
    "\n",
    "    # Initalize matrix Z\n",
    "    Z_matrix = sympy.Matrix(np.zeros([len(exponents),\n",
    "                                      len(exponents)]))\n",
    "\n",
    "    # Generate dictionary that saves position of each moment\n",
    "    # on the matrix\n",
    "    idx_dict = {e: i for i, e in enumerate(exponents)}\n",
    "\n",
    "    # Loop through moments \n",
    "    for i, (mexp, pexp) in enumerate(exponents):\n",
    "        # Obtain coefficients of equation\n",
    "        mom_coeff = coeff_dictionary(binom_prod(mexp, pexp))\n",
    "        \n",
    "        # Find row index on matrix Z for substitutions\n",
    "        row_idx = idx_dict[(mexp, pexp)]\n",
    "        \n",
    "        # Loop through coefficients to make substitutions\n",
    "        for key, value in mom_coeff.items():\n",
    "            # Find exponents of the moment\n",
    "            if key.has(m):\n",
    "                m_degree = sympy.Poly(key).degree(m)\n",
    "            else:\n",
    "                m_degree = 0\n",
    "            if key.has(p):\n",
    "                p_degree = sympy.Poly(key).degree(p)\n",
    "            else:\n",
    "                p_degree = 0\n",
    "\n",
    "            # Check if moment included in mom_coeff.\n",
    "            # Sometimes extra moments with no values are added\n",
    "            if (m_degree, p_degree) in exponents:\n",
    "                # Find index for columns\n",
    "                col_idx = idx_dict[(m_degree, p_degree)]\n",
    "                # Substitute values in corresponding entries\n",
    "                Z_matrix[row_idx, col_idx] = value\n",
    "                \n",
    "    return Z_matrix, exponents"
   ]
  },
  {
   "cell_type": "markdown",
   "metadata": {},
   "source": [
    "Let's test the function for a simple case. First let's see which moments are needed in order to compute the first protein moment."
   ]
  },
  {
   "cell_type": "code",
   "execution_count": 106,
   "metadata": {},
   "outputs": [
    {
     "data": {
      "image/png": "[encoded data removed]",
      "text/latex": [
       "$\\displaystyle \\left[ \\left( 0, \\  0\\right), \\  \\left( 1, \\  0\\right), \\  \\left( 0, \\  1\\right)\\right]$"
      ],
      "text/plain": [
       "[(0, 0), (1, 0), (0, 1)]"
      ]
     },
     "execution_count": 106,
     "metadata": {},
     "output_type": "execute_result"
    }
   ],
   "source": [
    "# Define exponents for moment\n",
    "m_exp, p_exp = 0, 1\n",
    "\n",
    "# Find which moments are needed\n",
    "pairs = expo_pairs(m_exp, p_exp)\n",
    "pairs"
   ]
  },
  {
   "cell_type": "markdown",
   "metadata": {},
   "source": [
    "So we need the moments $\\ee{m^0 p^0}$, $\\ee{m}$, and $\\ee{p}$ in order to compute the first protein moment. Let's then list the resulting products of the binomial products."
   ]
  },
  {
   "cell_type": "code",
   "execution_count": 107,
   "metadata": {},
   "outputs": [
    {
     "data": {
      "image/png": "[encoded data removed]",
      "text/latex": [
       "$\\displaystyle \\left[ 1, \\  \\frac{m}{2}, \\  \\frac{p}{2}\\right]$"
      ],
      "text/plain": [
       "⎡   m  p⎤\n",
       "⎢1, ─, ─⎥\n",
       "⎣   2  2⎦"
      ]
     },
     "execution_count": 107,
     "metadata": {},
     "output_type": "execute_result"
    }
   ],
   "source": [
    "prods = [binom_prod(*x) for x in pairs]\n",
    "prods"
   ]
  },
  {
   "cell_type": "markdown",
   "metadata": {},
   "source": [
    "Given these results our function should return a matrix $\\bb{Z}$ of the form\n",
    "$$\n",
    "\\begin{bmatrix}\n",
    "1 & 0 & 0\\\\\n",
    "0 & 1/2 & 0\\\\\n",
    "0 & 0 & 1/2\n",
    "\\end{bmatrix}\n",
    "$$\n",
    "Let's see if this is what our function actually returns"
   ]
  },
  {
   "cell_type": "code",
   "execution_count": 108,
   "metadata": {},
   "outputs": [
    {
     "data": {
      "image/png": "[encoded data removed]",
      "text/latex": [
       "$\\displaystyle \\left[\\begin{matrix}1 & 0.0 & 0.0\\\\0 & \\frac{1}{2} & 0.0\\\\0 & 0.0 & \\frac{1}{2}\\end{matrix}\\right]$"
      ],
      "text/plain": [
       "⎡1  0.0  0.0⎤\n",
       "⎢           ⎥\n",
       "⎢0  1/2  0.0⎥\n",
       "⎢           ⎥\n",
       "⎣0  0.0  1/2⎦"
      ]
     },
     "execution_count": 108,
     "metadata": {},
     "output_type": "execute_result"
    }
   ],
   "source": [
    "# Generate Z matrix\n",
    "Z_mat, expo = Z_matrix_gen(0, 1)\n",
    "Z_mat"
   ]
  },
  {
   "cell_type": "markdown",
   "metadata": {},
   "source": [
    "That's exactly the matrix we were expecting!\n",
    "\n",
    "Let's now generate the much larger matrix needed to compute up to the 6th protein moment."
   ]
  },
  {
   "cell_type": "code",
   "execution_count": 112,
   "metadata": {},
   "outputs": [
    {
     "data": {
      "image/png": "[encoded data removed]",
      "text/latex": [
       "$\\displaystyle \\left[\\begin{array}{cccccccccccccccccccccccccccc}1 & 0.0 & 0.0 & 0.0 & 0.0 & 0.0 & 0.0 & 0.0 & 0.0 & 0.0 & 0.0 & 0.0 & 0.0 & 0.0 & 0.0 & 0.0 & 0.0 & 0.0 & 0.0 & 0.0 & 0.0 & 0.0 & 0.0 & 0.0 & 0.0 & 0.0 & 0.0 & 0.0\\\\0 & \\frac{1}{2} & 0.0 & 0.0 & 0.0 & 0.0 & 0.0 & 0.0 & 0.0 & 0.0 & 0.0 & 0.0 & 0.0 & 0.0 & 0.0 & 0.0 & 0.0 & 0.0 & 0.0 & 0.0 & 0.0 & 0.0 & 0.0 & 0.0 & 0.0 & 0.0 & 0.0 & 0.0\\\\0 & \\frac{1}{4} & \\frac{1}{4} & 0.0 & 0.0 & 0.0 & 0.0 & 0.0 & 0.0 & 0.0 & 0.0 & 0.0 & 0.0 & 0.0 & 0.0 & 0.0 & 0.0 & 0.0 & 0.0 & 0.0 & 0.0 & 0.0 & 0.0 & 0.0 & 0.0 & 0.0 & 0.0 & 0.0\\\\0 & 0 & \\frac{3}{8} & \\frac{1}{8} & 0.0 & 0.0 & 0.0 & 0.0 & 0.0 & 0.0 & 0.0 & 0.0 & 0.0 & 0.0 & 0.0 & 0.0 & 0.0 & 0.0 & 0.0 & 0.0 & 0.0 & 0.0 & 0.0 & 0.0 & 0.0 & 0.0 & 0.0 & 0.0\\\\0 & - \\frac{1}{8} & \\frac{3}{16} & \\frac{3}{8} & \\frac{1}{16} & 0.0 & 0.0 & 0.0 & 0.0 & 0.0 & 0.0 & 0.0 & 0.0 & 0.0 & 0.0 & 0.0 & 0.0 & 0.0 & 0.0 & 0.0 & 0.0 & 0.0 & 0.0 & 0.0 & 0.0 & 0.0 & 0.0 & 0.0\\\\0 & 0 & - \\frac{5}{16} & \\frac{15}{32} & \\frac{5}{16} & \\frac{1}{32} & 0.0 & 0.0 & 0.0 & 0.0 & 0.0 & 0.0 & 0.0 & 0.0 & 0.0 & 0.0 & 0.0 & 0.0 & 0.0 & 0.0 & 0.0 & 0.0 & 0.0 & 0.0 & 0.0 & 0.0 & 0.0 & 0.0\\\\0 & \\frac{1}{4} & - \\frac{15}{32} & - \\frac{15}{64} & \\frac{45}{64} & \\frac{15}{64} & \\frac{1}{64} & 0.0 & 0.0 & 0.0 & 0.0 & 0.0 & 0.0 & 0.0 & 0.0 & 0.0 & 0.0 & 0.0 & 0.0 & 0.0 & 0.0 & 0.0 & 0.0 & 0.0 & 0.0 & 0.0 & 0.0 & 0.0\\\\0 & 0.0 & 0.0 & 0.0 & 0.0 & 0.0 & 0.0 & \\frac{1}{2} & 0.0 & 0.0 & 0.0 & 0.0 & 0.0 & 0.0 & 0.0 & 0.0 & 0.0 & 0.0 & 0.0 & 0.0 & 0.0 & 0.0 & 0.0 & 0.0 & 0.0 & 0.0 & 0.0 & 0.0\\\\0 & 0 & 0.0 & 0.0 & 0.0 & 0.0 & 0.0 & 0 & \\frac{1}{4} & 0.0 & 0.0 & 0.0 & 0.0 & 0.0 & 0.0 & 0.0 & 0.0 & 0.0 & 0.0 & 0.0 & 0.0 & 0.0 & 0.0 & 0.0 & 0.0 & 0.0 & 0.0 & 0.0\\\\0 & 0.0 & 0.0 & 0.0 & 0.0 & 0.0 & 0.0 & \\frac{1}{4} & 0.0 & \\frac{1}{4} & 0.0 & 0.0 & 0.0 & 0.0 & 0.0 & 0.0 & 0.0 & 0.0 & 0.0 & 0.0 & 0.0 & 0.0 & 0.0 & 0.0 & 0.0 & 0.0 & 0.0 & 0.0\\\\0 & 0 & 0 & 0.0 & 0.0 & 0.0 & 0.0 & 0 & \\frac{1}{8} & 0.0 & \\frac{1}{8} & 0.0 & 0.0 & 0.0 & 0.0 & 0.0 & 0.0 & 0.0 & 0.0 & 0.0 & 0.0 & 0.0 & 0.0 & 0.0 & 0.0 & 0.0 & 0.0 & 0.0\\\\0 & 0 & 0.0 & 0.0 & 0.0 & 0.0 & 0.0 & 0 & \\frac{1}{8} & 0 & 0.0 & \\frac{1}{8} & 0.0 & 0.0 & 0.0 & 0.0 & 0.0 & 0.0 & 0.0 & 0.0 & 0.0 & 0.0 & 0.0 & 0.0 & 0.0 & 0.0 & 0.0 & 0.0\\\\0 & 0.0 & 0.0 & 0.0 & 0.0 & 0.0 & 0.0 & 0 & 0.0 & \\frac{3}{8} & 0.0 & 0.0 & \\frac{1}{8} & 0.0 & 0.0 & 0.0 & 0.0 & 0.0 & 0.0 & 0.0 & 0.0 & 0.0 & 0.0 & 0.0 & 0.0 & 0.0 & 0.0 & 0.0\\\\0 & 0 & 0 & 0 & 0.0 & 0.0 & 0.0 & 0 & 0 & 0.0 & \\frac{3}{16} & 0.0 & 0.0 & \\frac{1}{16} & 0.0 & 0.0 & 0.0 & 0.0 & 0.0 & 0.0 & 0.0 & 0.0 & 0.0 & 0.0 & 0.0 & 0.0 & 0.0 & 0.0\\\\0 & 0 & 0 & 0.0 & 0.0 & 0.0 & 0.0 & 0 & \\frac{1}{16} & 0 & \\frac{1}{16} & \\frac{1}{16} & 0.0 & 0.0 & \\frac{1}{16} & 0.0 & 0.0 & 0.0 & 0.0 & 0.0 & 0.0 & 0.0 & 0.0 & 0.0 & 0.0 & 0.0 & 0.0 & 0.0\\\\0 & 0 & 0.0 & 0.0 & 0.0 & 0.0 & 0.0 & 0 & 0 & 0 & 0.0 & \\frac{3}{16} & 0 & 0.0 & 0.0 & \\frac{1}{16} & 0.0 & 0.0 & 0.0 & 0.0 & 0.0 & 0.0 & 0.0 & 0.0 & 0.0 & 0.0 & 0.0 & 0.0\\\\0 & 0.0 & 0.0 & 0.0 & 0.0 & 0.0 & 0.0 & - \\frac{1}{8} & 0.0 & \\frac{3}{16} & 0.0 & 0.0 & \\frac{3}{8} & 0.0 & 0.0 & 0.0 & \\frac{1}{16} & 0.0 & 0.0 & 0.0 & 0.0 & 0.0 & 0.0 & 0.0 & 0.0 & 0.0 & 0.0 & 0.0\\\\0 & 0 & 0 & 0 & 0 & 0.0 & 0.0 & 0 & - \\frac{1}{16} & 0.0 & \\frac{3}{32} & 0.0 & 0.0 & \\frac{3}{16} & 0.0 & 0.0 & 0.0 & \\frac{1}{32} & 0.0 & 0.0 & 0.0 & 0.0 & 0.0 & 0.0 & 0.0 & 0.0 & 0.0 & 0.0\\\\0 & 0 & 0 & 0 & 0.0 & 0.0 & 0.0 & 0 & 0 & 0 & \\frac{3}{32} & 0 & 0.0 & \\frac{1}{32} & \\frac{3}{32} & 0.0 & 0.0 & 0.0 & \\frac{1}{32} & 0.0 & 0.0 & 0.0 & 0.0 & 0.0 & 0.0 & 0.0 & 0.0 & 0.0\\\\0 & 0 & 0 & 0.0 & 0.0 & 0.0 & 0.0 & 0 & 0 & 0 & 0 & \\frac{3}{32} & 0 & 0.0 & \\frac{3}{32} & \\frac{1}{32} & 0.0 & 0.0 & 0.0 & \\frac{1}{32} & 0.0 & 0.0 & 0.0 & 0.0 & 0.0 & 0.0 & 0.0 & 0.0\\\\0 & 0 & 0.0 & 0.0 & 0.0 & 0.0 & 0.0 & 0 & - \\frac{1}{16} & 0 & 0.0 & \\frac{3}{32} & 0 & 0.0 & 0.0 & \\frac{3}{16} & 0 & 0.0 & 0.0 & 0.0 & \\frac{1}{32} & 0.0 & 0.0 & 0.0 & 0.0 & 0.0 & 0.0 & 0.0\\\\0 & 0.0 & 0.0 & 0.0 & 0.0 & 0.0 & 0.0 & 0 & 0.0 & - \\frac{5}{16} & 0.0 & 0.0 & \\frac{15}{32} & 0.0 & 0.0 & 0.0 & \\frac{5}{16} & 0.0 & 0.0 & 0.0 & 0.0 & \\frac{1}{32} & 0.0 & 0.0 & 0.0 & 0.0 & 0.0 & 0.0\\\\0 & 0 & 0 & 0 & 0 & 0 & 0.0 & 0 & 0 & 0.0 & - \\frac{5}{32} & 0.0 & 0.0 & \\frac{15}{64} & 0.0 & 0.0 & 0.0 & \\frac{5}{32} & 0.0 & 0.0 & 0.0 & 0.0 & \\frac{1}{64} & 0.0 & 0.0 & 0.0 & 0.0 & 0.0\\\\0 & 0 & 0 & 0 & 0 & 0.0 & 0.0 & 0 & - \\frac{1}{32} & 0 & \\frac{3}{64} & - \\frac{1}{32} & 0.0 & \\frac{3}{32} & \\frac{3}{64} & 0.0 & 0.0 & \\frac{1}{64} & \\frac{3}{32} & 0.0 & 0.0 & 0.0 & 0.0 & \\frac{1}{64} & 0.0 & 0.0 & 0.0 & 0.0\\\\0 & 0 & 0 & 0 & 0.0 & 0.0 & 0.0 & 0 & 0 & 0 & 0 & 0 & 0 & 0 & \\frac{9}{64} & 0 & 0.0 & 0.0 & \\frac{3}{64} & \\frac{3}{64} & 0.0 & 0.0 & 0.0 & 0.0 & \\frac{1}{64} & 0.0 & 0.0 & 0.0\\\\0 & 0 & 0 & 0.0 & 0.0 & 0.0 & 0.0 & 0 & - \\frac{1}{32} & 0 & - \\frac{1}{32} & \\frac{3}{64} & 0 & 0.0 & \\frac{3}{64} & \\frac{3}{32} & 0 & 0.0 & 0.0 & \\frac{3}{32} & \\frac{1}{64} & 0.0 & 0.0 & 0.0 & 0.0 & \\frac{1}{64} & 0.0 & 0.0\\\\0 & 0 & 0.0 & 0.0 & 0.0 & 0.0 & 0.0 & 0 & 0 & 0 & 0.0 & - \\frac{5}{32} & 0 & 0.0 & 0.0 & \\frac{15}{64} & 0 & 0.0 & 0.0 & 0.0 & \\frac{5}{32} & 0 & 0.0 & 0.0 & 0.0 & 0.0 & \\frac{1}{64} & 0.0\\\\0 & 0.0 & 0.0 & 0.0 & 0.0 & 0.0 & 0.0 & \\frac{1}{4} & 0.0 & - \\frac{15}{32} & 0.0 & 0.0 & - \\frac{15}{64} & 0.0 & 0.0 & 0.0 & \\frac{45}{64} & 0.0 & 0.0 & 0.0 & 0.0 & \\frac{15}{64} & 0.0 & 0.0 & 0.0 & 0.0 & 0.0 & \\frac{1}{64}\\end{array}\\right]$"
      ],
      "text/plain": [
       "⎡1  0.0    0.0   0.0   0.0   0.0   0.0   0.0    0.0    0.0    0.0    0.0   0.0\n",
       "⎢                                                                             \n",
       "⎢0  1/2    0.0   0.0   0.0   0.0   0.0   0.0    0.0    0.0    0.0    0.0   0.0\n",
       "⎢                                                                             \n",
       "⎢0  1/4    1/4   0.0   0.0   0.0   0.0   0.0    0.0    0.0    0.0    0.0   0.0\n",
       "⎢                                                                             \n",
       "⎢0   0     3/8   1/8   0.0   0.0   0.0   0.0    0.0    0.0    0.0    0.0   0.0\n",
       "⎢                                                                             \n",
       "⎢0  -1/8  3/16   3/8   1/16  0.0   0.0   0.0    0.0    0.0    0.0    0.0   0.0\n",
       "⎢                                                                             \n",
       "⎢                 15                                                          \n",
       "⎢0   0    -5/16   ──   5/16  1/32  0.0   0.0    0.0    0.0    0.0    0.0   0.0\n",
       "⎢                 32                                                          \n",
       "⎢                                                                             \n",
       "⎢         -15    -15    45    15                                              \n",
       "⎢0  1/4   ────   ────   ──    ──   1/64  0.0    0.0    0.0    0.0    0.0   0.0\n",
       "⎢          32     64    64    64                                              \n",
       "⎢                                                                             \n",
       "⎢0  0.0    0.0   0.0   0.0   0.0   0.0   1/2    0.0    0.0    0.0    0.0   0.0\n",
       "⎢                                                                             \n",
       "⎢0   0     0.0   0.0   0.0   0.0   0.0    0     1/4    0.0    0.0    0.0   0.0\n",
       "⎢                                                                             \n",
       "⎢0  0.0    0.0   0.0   0.0   0.0   0.0   1/4    0.0    1/4    0.0    0.0   0.0\n",
       "⎢                                                                             \n",
       "⎢0   0      0    0.0   0.0   0.0   0.0    0     1/8    0.0    1/8    0.0   0.0\n",
       "⎢                                                                             \n",
       "⎢0   0     0.0   0.0   0.0   0.0   0.0    0     1/8     0     0.0    1/8   0.0\n",
       "⎢                                                                             \n",
       "⎢0  0.0    0.0   0.0   0.0   0.0   0.0    0     0.0    3/8    0.0    0.0   1/8\n",
       "⎢                                                                             \n",
       "⎢0   0      0     0    0.0   0.0   0.0    0      0     0.0   3/16    0.0   0.0\n",
       "⎢                                                                             \n",
       "⎢0   0      0    0.0   0.0   0.0   0.0    0    1/16     0    1/16   1/16   0.0\n",
       "⎢                                                                             \n",
       "⎢0   0     0.0   0.0   0.0   0.0   0.0    0      0      0     0.0   3/16    0 \n",
       "⎢                                                                             \n",
       "⎢0  0.0    0.0   0.0   0.0   0.0   0.0   -1/8   0.0   3/16    0.0    0.0   3/8\n",
       "⎢                                                                             \n",
       "⎢0   0      0     0     0    0.0   0.0    0    -1/16   0.0   3/32    0.0   0.0\n",
       "⎢                                                                             \n",
       "⎢0   0      0     0    0.0   0.0   0.0    0      0      0    3/32     0    0.0\n",
       "⎢                                                                             \n",
       "⎢0   0      0    0.0   0.0   0.0   0.0    0      0      0      0    3/32    0 \n",
       "⎢                                                                             \n",
       "⎢0   0     0.0   0.0   0.0   0.0   0.0    0    -1/16    0     0.0   3/32    0 \n",
       "⎢                                                                             \n",
       "⎢                                                                           15\n",
       "⎢0  0.0    0.0   0.0   0.0   0.0   0.0    0     0.0   -5/16   0.0    0.0    ──\n",
       "⎢                                                                           32\n",
       "⎢                                                                             \n",
       "⎢                                                                             \n",
       "⎢0   0      0     0     0     0    0.0    0      0     0.0   -5/32   0.0   0.0\n",
       "⎢                                                                             \n",
       "⎢                                                                             \n",
       "⎢0   0      0     0     0    0.0   0.0    0    -1/32    0    3/64   -1/32  0.0\n",
       "⎢                                                                             \n",
       "⎢0   0      0     0    0.0   0.0   0.0    0      0      0      0      0     0 \n",
       "⎢                                                                             \n",
       "⎢0   0      0    0.0   0.0   0.0   0.0    0    -1/32    0    -1/32  3/64    0 \n",
       "⎢                                                                             \n",
       "⎢                                                                             \n",
       "⎢0   0     0.0   0.0   0.0   0.0   0.0    0      0      0     0.0   -5/32   0 \n",
       "⎢                                                                             \n",
       "⎢                                                                             \n",
       "⎢                                                     -15                  -15\n",
       "⎢0  0.0    0.0   0.0   0.0   0.0   0.0   1/4    0.0   ────    0.0    0.0   ───\n",
       "⎣                                                      32                   64\n",
       "\n",
       "   0.0   0.0   0.0   0.0   0.0   0.0   0.0   0.0   0.0   0.0   0.0   0.0   0.0\n",
       "                                                                              \n",
       "   0.0   0.0   0.0   0.0   0.0   0.0   0.0   0.0   0.0   0.0   0.0   0.0   0.0\n",
       "                                                                              \n",
       "   0.0   0.0   0.0   0.0   0.0   0.0   0.0   0.0   0.0   0.0   0.0   0.0   0.0\n",
       "                                                                              \n",
       "   0.0   0.0   0.0   0.0   0.0   0.0   0.0   0.0   0.0   0.0   0.0   0.0   0.0\n",
       "                                                                              \n",
       "   0.0   0.0   0.0   0.0   0.0   0.0   0.0   0.0   0.0   0.0   0.0   0.0   0.0\n",
       "                                                                              \n",
       "                                                                              \n",
       "   0.0   0.0   0.0   0.0   0.0   0.0   0.0   0.0   0.0   0.0   0.0   0.0   0.0\n",
       "                                                                              \n",
       "                                                                              \n",
       "                                                                              \n",
       "   0.0   0.0   0.0   0.0   0.0   0.0   0.0   0.0   0.0   0.0   0.0   0.0   0.0\n",
       "                                                                              \n",
       "                                                                              \n",
       "   0.0   0.0   0.0   0.0   0.0   0.0   0.0   0.0   0.0   0.0   0.0   0.0   0.0\n",
       "                                                                              \n",
       "   0.0   0.0   0.0   0.0   0.0   0.0   0.0   0.0   0.0   0.0   0.0   0.0   0.0\n",
       "                                                                              \n",
       "   0.0   0.0   0.0   0.0   0.0   0.0   0.0   0.0   0.0   0.0   0.0   0.0   0.0\n",
       "                                                                              \n",
       "   0.0   0.0   0.0   0.0   0.0   0.0   0.0   0.0   0.0   0.0   0.0   0.0   0.0\n",
       "                                                                              \n",
       "   0.0   0.0   0.0   0.0   0.0   0.0   0.0   0.0   0.0   0.0   0.0   0.0   0.0\n",
       "                                                                              \n",
       "   0.0   0.0   0.0   0.0   0.0   0.0   0.0   0.0   0.0   0.0   0.0   0.0   0.0\n",
       "                                                                              \n",
       "   1/16  0.0   0.0   0.0   0.0   0.0   0.0   0.0   0.0   0.0   0.0   0.0   0.0\n",
       "                                                                              \n",
       "   0.0   1/16  0.0   0.0   0.0   0.0   0.0   0.0   0.0   0.0   0.0   0.0   0.0\n",
       "                                                                              \n",
       "   0.0   0.0   1/16  0.0   0.0   0.0   0.0   0.0   0.0   0.0   0.0   0.0   0.0\n",
       "                                                                              \n",
       "   0.0   0.0   0.0   1/16  0.0   0.0   0.0   0.0   0.0   0.0   0.0   0.0   0.0\n",
       "                                                                              \n",
       "   3/16  0.0   0.0   0.0   1/32  0.0   0.0   0.0   0.0   0.0   0.0   0.0   0.0\n",
       "                                                                              \n",
       "   1/32  3/32  0.0   0.0   0.0   1/32  0.0   0.0   0.0   0.0   0.0   0.0   0.0\n",
       "                                                                              \n",
       "   0.0   3/32  1/32  0.0   0.0   0.0   1/32  0.0   0.0   0.0   0.0   0.0   0.0\n",
       "                                                                              \n",
       "   0.0   0.0   3/16   0    0.0   0.0   0.0   1/32  0.0   0.0   0.0   0.0   0.0\n",
       "                                                                              \n",
       "                                                                              \n",
       "   0.0   0.0   0.0   5/16  0.0   0.0   0.0   0.0   1/32  0.0   0.0   0.0   0.0\n",
       "                                                                              \n",
       "                                                                              \n",
       "    15                                                                        \n",
       "    ──   0.0   0.0   0.0   5/32  0.0   0.0   0.0   0.0   1/64  0.0   0.0   0.0\n",
       "    64                                                                        \n",
       "                                                                              \n",
       "   3/32  3/64  0.0   0.0   1/64  3/32  0.0   0.0   0.0   0.0   1/64  0.0   0.0\n",
       "                                                                              \n",
       "    0    9/64   0    0.0   0.0   3/64  3/64  0.0   0.0   0.0   0.0   1/64  0.0\n",
       "                                                                              \n",
       "   0.0   3/64  3/32   0    0.0   0.0   3/32  1/64  0.0   0.0   0.0   0.0   1/6\n",
       "                                                                              \n",
       "                15                                                            \n",
       "   0.0   0.0    ──    0    0.0   0.0   0.0   5/32   0    0.0   0.0   0.0   0.0\n",
       "                64                                                            \n",
       "                                                                              \n",
       "                      45                            15                        \n",
       "─  0.0   0.0   0.0    ──   0.0   0.0   0.0   0.0    ──   0.0   0.0   0.0   0.0\n",
       "                      64                            64                        \n",
       "\n",
       "   0.0   0.0 ⎤\n",
       "             ⎥\n",
       "   0.0   0.0 ⎥\n",
       "             ⎥\n",
       "   0.0   0.0 ⎥\n",
       "             ⎥\n",
       "   0.0   0.0 ⎥\n",
       "             ⎥\n",
       "   0.0   0.0 ⎥\n",
       "             ⎥\n",
       "             ⎥\n",
       "   0.0   0.0 ⎥\n",
       "             ⎥\n",
       "             ⎥\n",
       "             ⎥\n",
       "   0.0   0.0 ⎥\n",
       "             ⎥\n",
       "             ⎥\n",
       "   0.0   0.0 ⎥\n",
       "             ⎥\n",
       "   0.0   0.0 ⎥\n",
       "             ⎥\n",
       "   0.0   0.0 ⎥\n",
       "             ⎥\n",
       "   0.0   0.0 ⎥\n",
       "             ⎥\n",
       "   0.0   0.0 ⎥\n",
       "             ⎥\n",
       "   0.0   0.0 ⎥\n",
       "             ⎥\n",
       "   0.0   0.0 ⎥\n",
       "             ⎥\n",
       "   0.0   0.0 ⎥\n",
       "             ⎥\n",
       "   0.0   0.0 ⎥\n",
       "             ⎥\n",
       "   0.0   0.0 ⎥\n",
       "             ⎥\n",
       "   0.0   0.0 ⎥\n",
       "             ⎥\n",
       "   0.0   0.0 ⎥\n",
       "             ⎥\n",
       "   0.0   0.0 ⎥\n",
       "             ⎥\n",
       "   0.0   0.0 ⎥\n",
       "             ⎥\n",
       "             ⎥\n",
       "   0.0   0.0 ⎥\n",
       "             ⎥\n",
       "             ⎥\n",
       "             ⎥\n",
       "   0.0   0.0 ⎥\n",
       "             ⎥\n",
       "             ⎥\n",
       "   0.0   0.0 ⎥\n",
       "             ⎥\n",
       "   0.0   0.0 ⎥\n",
       "             ⎥\n",
       "4  0.0   0.0 ⎥\n",
       "             ⎥\n",
       "             ⎥\n",
       "   1/64  0.0 ⎥\n",
       "             ⎥\n",
       "             ⎥\n",
       "             ⎥\n",
       "   0.0   1/64⎥\n",
       "             ⎦"
      ]
     },
     "execution_count": 112,
     "metadata": {},
     "output_type": "execute_result"
    }
   ],
   "source": [
    "# Define exponents for moment\n",
    "m_exp, p_exp = 0, 6\n",
    "\n",
    "# Generate Z matrix\n",
    "Z_mat, expo = Z_matrix_gen(m_exp, p_exp)\n",
    "Z_mat"
   ]
  },
  {
   "cell_type": "markdown",
   "metadata": {},
   "source": [
    "The matrix is what it is, now we just need to save it into a `pickle` object to use it in order to calculate the moments after cell division."
   ]
  },
  {
   "cell_type": "code",
   "execution_count": 113,
   "metadata": {},
   "outputs": [],
   "source": [
    "# Export matrix and exponents to file\n",
    "with open('./pkl_files/binom_coeff_matrix.pkl', 'wb') as file:\n",
    "    pickle.dump(np.array(Z_mat).astype(np.float64), file)\n",
    "    pickle.dump(expo, file)"
   ]
  }
 ],
 "metadata": {
  "kernelspec": {
   "display_name": "Python 3",
   "language": "python",
   "name": "python3"
  },
  "language_info": {
   "codemirror_mode": {
    "name": "ipython",
    "version": 3
   },
   "file_extension": ".py",
   "mimetype": "text/x-python",
   "name": "python",
   "nbconvert_exporter": "python",
   "pygments_lexer": "ipython3",
   "version": "3.7.4"
  }
 },
 "nbformat": 4,
 "nbformat_minor": 4
}
