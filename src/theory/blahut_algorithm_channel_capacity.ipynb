{
 "cells": [
  {
   "cell_type": "markdown",
   "metadata": {},
   "source": [
    "# Blahut-Arimoto algorithm to compute the channel capacity for a given input-output response."
   ]
  },
  {
   "cell_type": "markdown",
   "metadata": {},
   "source": [
    "(c) 2018 Manuel Razo. This work is licensed under a [Creative Commons Attribution License CC-BY 4.0](https://creativecommons.org/licenses/by/4.0/). All code contained herein is licensed under an [MIT license](https://opensource.org/licenses/MIT). \n",
    "\n",
    "---"
   ]
  },
  {
   "cell_type": "code",
   "execution_count": 10,
   "metadata": {},
   "outputs": [],
   "source": [
    "# Our numerical workhorses\n",
    "import numpy as np\n",
    "import pandas as pd\n",
    "\n",
    "import itertools\n",
    "# Import libraries to parallelize processes\n",
    "from joblib import Parallel, delayed\n",
    "\n",
    "# Import matplotlib stuff for plotting\n",
    "import matplotlib.pyplot as plt\n",
    "import matplotlib.cm as cm\n",
    "import matplotlib\n",
    "\n",
    "# Seaborn, useful for graphics\n",
    "import seaborn as sns\n",
    "\n",
    "# Pickle is useful for saving outputs that are computationally expensive\n",
    "# to obtain every time\n",
    "import pickle\n",
    "\n",
    "import os\n",
    "import glob\n",
    "\n",
    "# Import the utils for this project\n",
    "import chann_cap_utils as chann_cap\n",
    "\n",
    "chann_cap.set_plotting_style()\n",
    "\n",
    "# Magic function to make matplotlib inline; other style specs must come AFTER\n",
    "%matplotlib inline\n",
    "\n",
    "# This enables SVG graphics inline (only use with static plots (non-Bokeh))\n",
    "%config InlineBackend.figure_format = 'svg'\n",
    "\n",
    "figdir = '../../fig/blahut_algorithm_channel_capacity/'\n",
    "tmpdir = '../../tmp/'"
   ]
  },
  {
   "cell_type": "markdown",
   "metadata": {},
   "source": [
    "## Input probability that maximizes the information transmited through a channel $P(m \\mid C)$\n",
    "\n",
    "Given the symmetry in the mutual information, i.e. $I(m;C)=I(C;m)$ the problem of transmiting a message can be studied from two perspectives:\n",
    "1. Given a **fix input** $P(C)$ what is the input-output response $P(m \\mid C)$ that would minimize the information subject to some average distortion $D$.\n",
    "2. Given a **fix channel** $P(m \\mid C)$ what is the input distribution that would maximize the mutual information.\n",
    "\n",
    "The first view is treated by rate-distortion theory. The second point is the problem of computing the so-called information capacity of a channel. This information capacity is defined as\n",
    "\\begin{equation}\n",
    "    C \\equiv \\max_{P(C)} I(C;m),\n",
    "\\end{equation}\n",
    "where the maximum is taken over the space of probabilities $P(C)$. This means that a probability distribution $P^*(C)$ achieves capacity if it maximizes the information that can be transmitted through a fix channel.\n",
    "\n",
    "This second view brings interesting points for our theory. On the one hand we are trying to evolve/design a circuit which could respond given a distribution of inputs. For this case rate-distortion theory tells us the minimum amount of information the channel should transmit from the input to maintain an average growth rate. On the other hand we have the full theoretical input-output function response for a given set of parameters. In this case it would be interesting to find which distribution of inputs would maximize the mutual information, and what would that maximum mutual information value be.\n",
    "\n",
    "Luckly for us in his elegant paper Blahut not only developed the rate-distortion algorithm we implemented previously, but he also showed a simple iterataive algorithm that can approximate the distribution of inputs that achieves capacity.\n",
    "\n",
    "In this script we will implement such algorithm and compute the maximum mutual information one can transmit through a simple repression circuit!"
   ]
  },
  {
   "cell_type": "markdown",
   "metadata": {},
   "source": [
    "## Testing the implementation of the algorithm.\n",
    "\n",
    "Before going all in with the implementation of the algorithm is worth testing it with a simple example.\n",
    "\n",
    "We will test the regular Blahut-Arimoto (BA) algorithm as well as the accelerated BA algorithm from Matz and Duhamel 2005.\n",
    "\n",
    "Let's implement the BA first."
   ]
  },
  {
   "cell_type": "code",
   "execution_count": 7,
   "metadata": {},
   "outputs": [],
   "source": [
    "def channel_capacity(QmC, epsilon=1E-3, info=1E4):\n",
    "    '''\n",
    "    Performs the Blahut-Arimoto algorithm to compute the channel capacity\n",
    "    given a channel QmC.\n",
    "\n",
    "    Parameters\n",
    "    ----------\n",
    "    QmC : array-like \n",
    "        definition of the channel with C inputs and m outputs.\n",
    "    epsilon : float.\n",
    "        error tolerance for the algorithm to stop the iterations. The smaller\n",
    "        epsilon is the more precise the rate-distortion function is, but also\n",
    "        the larger the number of iterations the algorithm must perform\n",
    "    info : int.\n",
    "        Number indicating every how many cycles to print the cycle number as\n",
    "        a visual output of the algorithm.\n",
    "    Returns\n",
    "    -------\n",
    "    C : float.\n",
    "        channel capacity, or the maximum information it can be transmitted \n",
    "        given the input-output function.\n",
    "    pc : array-like.\n",
    "        array containing the discrete probability distribution for the input \n",
    "        that maximizes the channel capacity\n",
    "    '''\n",
    "    # initialize the probability for the input.\n",
    "    pC = np.repeat(1 / QmC.shape[0], QmC.shape[0])\n",
    "        \n",
    "    # Initialize variable that will serve as termination criteria\n",
    "    Iu_Il = 1\n",
    "    \n",
    "    loop_count = 0\n",
    "    # Perform a while loop until the stopping criteria is reached\n",
    "    while Iu_Il > epsilon:\n",
    "        if (loop_count % info == 0) & (loop_count != 0):\n",
    "            print('loop : {0:d}, Iu - Il : {1:f}'.format(loop_count, Iu_Il))\n",
    "        loop_count += 1\n",
    "        # compute the relevant quantities. check the notes on the algorithm\n",
    "        # for the interpretation of these quantities\n",
    "        # cC = exp(∑_m Qm|C log(Qm|C / ∑_c pC Qm|C))\n",
    "        sum_C_pC_QmC = np.sum((pC * QmC.T).T, axis=0)\n",
    "        QmC_log_QmC_sum_C_pC_QmC = QmC * np.log(QmC / sum_C_pC_QmC)\n",
    "        # check for values that go to -inf because of 0xlog0\n",
    "        QmC_log_QmC_sum_C_pC_QmC[np.isnan(QmC_log_QmC_sum_C_pC_QmC)] = 0\n",
    "        QmC_log_QmC_sum_C_pC_QmC[np.isneginf(QmC_log_QmC_sum_C_pC_QmC)] = 0\n",
    "        cC = np.exp(np.sum(QmC_log_QmC_sum_C_pC_QmC, axis=1))\n",
    "       \n",
    "        # I_L log(∑_C pC cC)\n",
    "        Il = np.log(np.sum(pC * cC))\n",
    "        \n",
    "        # I_U = log(max_C cC)\n",
    "        Iu = np.log(cC.max())\n",
    "        \n",
    "        # pC = pC * cC / ∑_C pC * cC\n",
    "        pC = pC * cC / np.sum(pC * cC)\n",
    "        \n",
    "        Iu_Il = Iu - Il\n",
    "        \n",
    "    # convert from nats to bits\n",
    "    Il = Il / np.log(2)\n",
    "    return Il, pC, loop_count"
   ]
  },
  {
   "cell_type": "markdown",
   "metadata": {},
   "source": [
    "Let's test the algorithm with the exercise that Matz proposes in his paper."
   ]
  },
  {
   "cell_type": "code",
   "execution_count": 8,
   "metadata": {},
   "outputs": [
    {
     "name": "stdout",
     "output_type": "stream",
     "text": [
      "Regular BA algorithm\n",
      "Mutual info: 0.36514844544\n",
      "Input distribution: [ 0.5  0.5]\n",
      "Iterations: 1\n"
     ]
    }
   ],
   "source": [
    "QmC = np.array([[0.7, 0.1], [0.2, 0.2], [0.1, 0.7]])\n",
    "\n",
    "Il, pC, loop_count = channel_capacity(QmC.T, 1E-10)\n",
    "\n",
    "print('Regular BA algorithm')\n",
    "print('Mutual info:', Il)\n",
    "print('Input distribution:', pC)\n",
    "print('Iterations:', loop_count)"
   ]
  },
  {
   "cell_type": "markdown",
   "metadata": {},
   "source": [
    "Now the channel that Arimoto proposes in his paper"
   ]
  },
  {
   "cell_type": "code",
   "execution_count": 9,
   "metadata": {},
   "outputs": [
    {
     "name": "stdout",
     "output_type": "stream",
     "text": [
      "Regular BA algorithm\n",
      "Mutual info: 0.161631860824\n",
      "Input distribution: [  5.01735450e-01   1.41574430e-09   4.98264548e-01]\n",
      "Iterations: 305\n"
     ]
    }
   ],
   "source": [
    "QmC = np.array([[0.6, 0.7, 0.5], [0.3, 0.1, 0.05], [0.1, 0.2, 0.45]])\n",
    "\n",
    "Il, pC, loop_count = channel_capacity(QmC.T, 1E-10)\n",
    "\n",
    "print('Regular BA algorithm')\n",
    "print('Mutual info:', Il)\n",
    "print('Input distribution:', pC)\n",
    "print('Iterations:', loop_count)"
   ]
  },
  {
   "cell_type": "markdown",
   "metadata": {},
   "source": [
    "The algorithm converges to the value reported on the paper. So we know that this implementation is working.\n"
   ]
  },
  {
   "cell_type": "markdown",
   "metadata": {},
   "source": [
    "## Computing theoretical channel capacity for a simple repression regulatory circuit.\n",
    "\n",
    "Given that the steady state mRNA and protein distributions $P(m, p \\mid C)$ were computed using the maximum entropy approximation we can take the Lagrange multipliers associated with each inducer concentration $C$ and build the input output matrix $\\mathbf{Q}_{g|c}$.\n",
    "\n",
    "Let's read the data frame containing all these Lagrange multipliers."
   ]
  },
  {
   "cell_type": "code",
   "execution_count": 13,
   "metadata": {},
   "outputs": [
    {
     "data": {
      "text/html": [
       "<div>\n",
       "<style scoped>\n",
       "    .dataframe tbody tr th:only-of-type {\n",
       "        vertical-align: middle;\n",
       "    }\n",
       "\n",
       "    .dataframe tbody tr th {\n",
       "        vertical-align: top;\n",
       "    }\n",
       "\n",
       "    .dataframe thead th {\n",
       "        text-align: right;\n",
       "    }\n",
       "</style>\n",
       "<table border=\"1\" class=\"dataframe\">\n",
       "  <thead>\n",
       "    <tr style=\"text-align: right;\">\n",
       "      <th></th>\n",
       "      <th>operator</th>\n",
       "      <th>binding_energy</th>\n",
       "      <th>repressor</th>\n",
       "      <th>inducer_uM</th>\n",
       "      <th>lambda_m1p0</th>\n",
       "      <th>lambda_m2p0</th>\n",
       "      <th>lambda_m3p0</th>\n",
       "      <th>lambda_m0p1</th>\n",
       "      <th>lambda_m0p2</th>\n",
       "      <th>lambda_m0p3</th>\n",
       "      <th>lambda_m1p1</th>\n",
       "      <th>lambda_m2p1</th>\n",
       "      <th>lambda_m1p2</th>\n",
       "    </tr>\n",
       "  </thead>\n",
       "  <tbody>\n",
       "    <tr>\n",
       "      <th>0</th>\n",
       "      <td>O1</td>\n",
       "      <td>-15.3</td>\n",
       "      <td>1.0</td>\n",
       "      <td>0.0</td>\n",
       "      <td>-0.299015</td>\n",
       "      <td>-0.006073</td>\n",
       "      <td>0.000154</td>\n",
       "      <td>0.003058</td>\n",
       "      <td>-2.600041e-07</td>\n",
       "      <td>5.081917e-12</td>\n",
       "      <td>0.000051</td>\n",
       "      <td>-7.334357e-07</td>\n",
       "      <td>-4.339613e-10</td>\n",
       "    </tr>\n",
       "    <tr>\n",
       "      <th>1</th>\n",
       "      <td>O1</td>\n",
       "      <td>-15.3</td>\n",
       "      <td>1.0</td>\n",
       "      <td>0.1</td>\n",
       "      <td>-0.298284</td>\n",
       "      <td>-0.006106</td>\n",
       "      <td>0.000154</td>\n",
       "      <td>0.003059</td>\n",
       "      <td>-2.596131e-07</td>\n",
       "      <td>5.063921e-12</td>\n",
       "      <td>0.000051</td>\n",
       "      <td>-7.320921e-07</td>\n",
       "      <td>-4.315312e-10</td>\n",
       "    </tr>\n",
       "    <tr>\n",
       "      <th>2</th>\n",
       "      <td>O1</td>\n",
       "      <td>-15.3</td>\n",
       "      <td>1.0</td>\n",
       "      <td>1.0</td>\n",
       "      <td>-0.286882</td>\n",
       "      <td>-0.006613</td>\n",
       "      <td>0.000160</td>\n",
       "      <td>0.003074</td>\n",
       "      <td>-2.536017e-07</td>\n",
       "      <td>4.788598e-12</td>\n",
       "      <td>0.000050</td>\n",
       "      <td>-7.118746e-07</td>\n",
       "      <td>-3.943049e-10</td>\n",
       "    </tr>\n",
       "    <tr>\n",
       "      <th>3</th>\n",
       "      <td>O1</td>\n",
       "      <td>-15.3</td>\n",
       "      <td>1.0</td>\n",
       "      <td>5.0</td>\n",
       "      <td>-0.198932</td>\n",
       "      <td>-0.010932</td>\n",
       "      <td>0.000214</td>\n",
       "      <td>0.003300</td>\n",
       "      <td>-2.196924e-07</td>\n",
       "      <td>3.165593e-12</td>\n",
       "      <td>0.000044</td>\n",
       "      <td>-6.076580e-07</td>\n",
       "      <td>-1.596795e-10</td>\n",
       "    </tr>\n",
       "    <tr>\n",
       "      <th>4</th>\n",
       "      <td>O1</td>\n",
       "      <td>-15.3</td>\n",
       "      <td>1.0</td>\n",
       "      <td>7.5</td>\n",
       "      <td>-0.155355</td>\n",
       "      <td>-0.013584</td>\n",
       "      <td>0.000252</td>\n",
       "      <td>0.003574</td>\n",
       "      <td>-2.172610e-07</td>\n",
       "      <td>2.801419e-12</td>\n",
       "      <td>0.000043</td>\n",
       "      <td>-5.806576e-07</td>\n",
       "      <td>-9.309249e-11</td>\n",
       "    </tr>\n",
       "  </tbody>\n",
       "</table>\n",
       "</div>"
      ],
      "text/plain": [
       "  operator  binding_energy  repressor  inducer_uM  lambda_m1p0  lambda_m2p0  \\\n",
       "0       O1           -15.3        1.0         0.0    -0.299015    -0.006073   \n",
       "1       O1           -15.3        1.0         0.1    -0.298284    -0.006106   \n",
       "2       O1           -15.3        1.0         1.0    -0.286882    -0.006613   \n",
       "3       O1           -15.3        1.0         5.0    -0.198932    -0.010932   \n",
       "4       O1           -15.3        1.0         7.5    -0.155355    -0.013584   \n",
       "\n",
       "   lambda_m3p0  lambda_m0p1   lambda_m0p2   lambda_m0p3  lambda_m1p1  \\\n",
       "0     0.000154     0.003058 -2.600041e-07  5.081917e-12     0.000051   \n",
       "1     0.000154     0.003059 -2.596131e-07  5.063921e-12     0.000051   \n",
       "2     0.000160     0.003074 -2.536017e-07  4.788598e-12     0.000050   \n",
       "3     0.000214     0.003300 -2.196924e-07  3.165593e-12     0.000044   \n",
       "4     0.000252     0.003574 -2.172610e-07  2.801419e-12     0.000043   \n",
       "\n",
       "    lambda_m2p1   lambda_m1p2  \n",
       "0 -7.334357e-07 -4.339613e-10  \n",
       "1 -7.320921e-07 -4.315312e-10  \n",
       "2 -7.118746e-07 -3.943049e-10  \n",
       "3 -6.076580e-07 -1.596795e-10  \n",
       "4 -5.806576e-07 -9.309249e-11  "
      ]
     },
     "execution_count": 13,
     "metadata": {},
     "output_type": "execute_result"
    }
   ],
   "source": [
    "df_maxEnt = pd.read_csv('../../data/csv_maxEnt_dist/' +\n",
    "                        'MaxEnt_ss_Lagrange_multipliers.csv', index_col=0)\n",
    "df_maxEnt.head()"
   ]
  },
  {
   "cell_type": "markdown",
   "metadata": {},
   "source": [
    "Let's now define a function that takes a data frame for a particular repressor copy number and operator with all inducer concentrations, and computes each corresponding distribution $P(m, p \\mid C)$ to then marginalize to obtain either $P(m \\mid C) = \\sum_p P(m, p \\mid C)$, or $P(p \\mid C) = \\sum_m P(m, p \\mid C)$.\n",
    "Then it stacks all these marginal distributions to build the input-output matrix $\\mathbf{Q}_{g|c}$."
   ]
  },
  {
   "cell_type": "code",
   "execution_count": 27,
   "metadata": {},
   "outputs": [],
   "source": [
    "def trans_matrix(df_lagrange, mRNA_space, protein_space, m_dist=True):\n",
    "    '''\n",
    "    Function that builds the transition matrix Qg|c for a series of\n",
    "    concentrations c. It builds the matrix by using the tidy data-frames\n",
    "    containing the list of Lagrange multipliers.\n",
    "    \n",
    "    Parameters\n",
    "    ----------\n",
    "    df_lagrange : pandas DataFrame.\n",
    "        Data Frame containing the lagrange multipliers for a single straing,\n",
    "        i.e. single operator and repressor copy number value.\n",
    "    mRNA_space, protein_space : array-like.\n",
    "        Array containing the sample space for the mRNA and the protein\n",
    "        respectively\n",
    "    m_dist : Bool. Default = True.\n",
    "        Boolean indicating if the mRNA input-output matrix should be returned.\n",
    "        If false the protein matrix is returned.\n",
    "    \n",
    "    Returns\n",
    "    -------\n",
    "    Qg|c : input output matrix in which each row represents a concentration\n",
    "    and each column represents the probability of mRNA or protein copy number.\n",
    "    '''\n",
    "    # Extract unique concentrations\n",
    "    c_array = df_lagrange['inducer_uM'].unique()\n",
    "    \n",
    "    # Extract the list of Lagrange multipliers\n",
    "    lagrange_mult = [col for col in df_lagrange.columns if 'lambda' in col]\n",
    "    # Extract the exponents corresponding to each Lagrange multiplier\n",
    "    exponents = []\n",
    "    for s in lagrange_mult:\n",
    "        exponents.append([int(n) for n in list(s) if n.isdigit()])\n",
    "    \n",
    "    # Initialize input-output matrix\n",
    "    if m_dist:\n",
    "        Qgc = np.zeros([len(mRNA_space), len(c_array)])\n",
    "    else:\n",
    "        Qgc = np.zeros([len(protein_space), len(c_array)])\n",
    "    \n",
    "    # Group data frame by inducer concentration\n",
    "    df_group = df_lagrange.groupby('inducer_uM')\n",
    "    \n",
    "    # Loop through each of the concentrations computing the distribution\n",
    "    for i, (group, data) in enumerate(df_group):\n",
    "        # Extract the Lagrange multiplier columns\n",
    "        lagrange = data.loc[:, lagrange_mult].values[0]\n",
    "        \n",
    "        # Compute the distribution\n",
    "        Pmp = chann_cap.maxEnt_from_lagrange(mRNA_space, protein_space, \n",
    "                                             lagrange,\n",
    "                                             exponents=exponents)\n",
    "        \n",
    "        # Marginalize and add marignal distribution to Qg|c\n",
    "        if m_dist:\n",
    "            Qgc[:, i] = Pmp.sum(axis=0)\n",
    "        else:\n",
    "            Qgc[:, i] = Pmp.sum(axis=1)\n",
    "            \n",
    "    return Qgc"
   ]
  },
  {
   "cell_type": "markdown",
   "metadata": {},
   "source": [
    "Having defined the function let's test it."
   ]
  },
  {
   "cell_type": "code",
   "execution_count": 40,
   "metadata": {},
   "outputs": [
    {
     "data": {
      "text/plain": [
       "array([  1.00000000e+00,   2.00000000e+00,   3.00000000e+00,\n",
       "         4.00000000e+00,   5.00000000e+00,   6.00000000e+00,\n",
       "         8.00000000e+00,   9.00000000e+00,   1.00000000e+01,\n",
       "         1.20000000e+01,   1.40000000e+01,   1.60000000e+01,\n",
       "         1.90000000e+01,   2.20000000e+01,   2.60000000e+01,\n",
       "         3.00000000e+01,   3.50000000e+01,   4.10000000e+01,\n",
       "         4.80000000e+01,   5.60000000e+01,   6.60000000e+01,\n",
       "         7.70000000e+01,   9.00000000e+01,   1.05000000e+02,\n",
       "         1.23000000e+02,   1.43000000e+02,   1.67000000e+02,\n",
       "         1.95000000e+02,   2.28000000e+02,   2.66000000e+02,\n",
       "         3.11000000e+02,   3.63000000e+02,   4.24000000e+02,\n",
       "         4.95000000e+02,   5.78000000e+02,   6.75000000e+02,\n",
       "         7.89000000e+02,   9.21000000e+02,   1.07500000e+03,\n",
       "         1.25600000e+03,   1.46700000e+03,   1.71300000e+03,\n",
       "         2.00000000e+03])"
      ]
     },
     "execution_count": 40,
     "metadata": {},
     "output_type": "execute_result"
    }
   ],
   "source": [
    "df_maxEnt.repressor.unique()"
   ]
  },
  {
   "cell_type": "code",
   "execution_count": 42,
   "metadata": {},
   "outputs": [
    {
     "name": "stdout",
     "output_type": "stream",
     "text": [
      "channel capacity: 1.13 bits\n"
     ]
    }
   ],
   "source": [
    "# Extract sample data frame\n",
    "df_lagrange = df_maxEnt[(df_maxEnt.operator == 'O1') &\n",
    "                        (df_maxEnt.repressor == 4)]\n",
    "\n",
    "# Define sample space\n",
    "mRNA_space = np.arange(0, 40)\n",
    "protein_space = np.arange(0, 2.3E4)\n",
    "\n",
    "# Build input-output matrix Qg|c\n",
    "QgC = trans_matrix(df_lagrange, mRNA_space, protein_space, False)\n",
    "\n",
    "Il, pC, loop_count = channel_capacity(QgC.T, 1E-3)\n",
    "\n",
    "print('channel capacity: {:.2f} bits'.format(Il))"
   ]
  },
  {
   "cell_type": "markdown",
   "metadata": {},
   "source": [
    "Having defined this function let's compute the channel capacity all the unique repressor-operator combinations in `df_maxEnt`."
   ]
  },
  {
   "cell_type": "code",
   "execution_count": null,
   "metadata": {},
   "outputs": [],
   "source": [
    "# Group df_maxEnt by operator and repressor copy number\n",
    "df_group = df_maxEnt.groupby(['operator', 'repressor'])\n",
    "\n",
    "# Define column names for data frame\n",
    "names = ['operator', 'binding_enery', 'repressor', \n",
    "         'channcap_mRNA', 'channcap_protein']\n",
    "\n",
    "# Initialize data frame to save channel capacity computations\n",
    "df_channcap = pd.DataFrame(columns=names)\n",
    "\n",
    "compute_channcap = True\n",
    "if compute_channcap:\n",
    "    # Initialize dataFrame to save channel capacity computation\n",
    "    df_channcap_mRNA = pd.DataFrame(columns=names)\n",
    "    \n",
    "    # Define function to compute in parallel the channel capacity\n",
    "    def cc_parallel(df_lagrange):\n",
    "        # Build mRNA transition matrix\n",
    "        Qmc = trans_matrix(df_lagrange, mRNA_space, protein_space, True)\n",
    "\n",
    "        # Build mRNA transition matrix\n",
    "        Qpc = trans_matrix(df_lagrange, mRNA_space, protein_space, False)\n",
    "\n",
    "        # Compute the channel capacity with the Blahut-Arimoto algorithm\n",
    "        cc_m, _, _ = channel_capacity(Qmc.T, epsilon=1E-3)\n",
    "        cc_p, _, _ = channel_capacity(Qpc.T, epsilon=1E-3)\n",
    "        \n",
    "        # Extract operator and repressor copy number\n",
    "        op = df_lagrange.operator.unique()[0]\n",
    "        eRA = df_lagrange.binding_energy.unique()[0]\n",
    "        rep = df_lagrange.repressor.unique()[0]\n",
    "        \n",
    "        return [op, eRA, rep, cc_m, cc_p]\n",
    "    # Run the function in parallel\n",
    "    ccaps = Parallel(n_jobs=6)(delayed(cc_parallel)(df_lagrange)\n",
    "                                for group, df_lagrange in df_group)\n",
    "    \n",
    "    # Convert to tidy data frame\n",
    "    ccaps = pd.DataFrame(ccaps, columns=names)\n",
    "\n",
    "    # Concatenate to data frame\n",
    "    df_channcap = pd.concat([df_channcap, ccaps], axis=0)\n",
    "    \n",
    "    # Save results\n",
    "    df_channcap.to_csv('../../data/csv_maxEnt_dist/MaxEnt_chann_cap.csv',\n",
    "                       index=False)"
   ]
  },
  {
   "cell_type": "markdown",
   "metadata": {},
   "source": [
    "Having computed the channel capacity let's look at the plot!"
   ]
  },
  {
   "cell_type": "code",
   "execution_count": null,
   "metadata": {},
   "outputs": [],
   "source": [
    "df_group = df_channcap.groupby('operator')\n",
    "\n",
    "fig, ax = plt.subplots(1, 1)\n",
    "for group, data in df_group:\n",
    "    ax.plot(data.repressor, data.channcap, label=group)\n",
    "\n",
    "ax.set_xlabel('repressor copy number')\n",
    "ax.set_ylabel('channel capacity (bits)')\n",
    "ax.set_xscale('log')\n",
    "ax.legend(loc=0, title='operator')"
   ]
  }
 ],
 "metadata": {
  "anaconda-cloud": {},
  "kernelspec": {
   "display_name": "Python 3",
   "language": "python",
   "name": "python3"
  },
  "language_info": {
   "codemirror_mode": {
    "name": "ipython",
    "version": 3
   },
   "file_extension": ".py",
   "mimetype": "text/x-python",
   "name": "python",
   "nbconvert_exporter": "python",
   "pygments_lexer": "ipython3",
   "version": "3.6.4"
  },
  "latex_envs": {
   "LaTeX_envs_menu_present": false,
   "autoclose": false,
   "autocomplete": false,
   "bibliofile": "biblio.bib",
   "cite_by": "apalike",
   "current_citInitial": 1,
   "eqLabelWithNumbers": true,
   "eqNumInitial": 1,
   "hotkeys": {
    "equation": "Ctrl-E",
    "itemize": "Ctrl-I"
   },
   "labels_anchors": false,
   "latex_user_defs": false,
   "report_style_numbering": false,
   "user_envs_cfg": false
  },
  "toc": {
   "nav_menu": {},
   "number_sections": false,
   "sideBar": false,
   "skip_h1_title": true,
   "title_cell": "Table of Contents",
   "title_sidebar": "Contents",
   "toc_cell": false,
   "toc_position": {},
   "toc_section_display": true,
   "toc_window_display": false
  }
 },
 "nbformat": 4,
 "nbformat_minor": 1
}
