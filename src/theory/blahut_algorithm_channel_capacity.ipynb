{
 "cells": [
  {
   "cell_type": "markdown",
   "metadata": {},
   "source": [
    "# Blahut-Arimoto algorithm to compute the channel capacity for a given input-output response."
   ]
  },
  {
   "cell_type": "markdown",
   "metadata": {},
   "source": [
    "(c) 2019 Manuel Razo. This work is licensed under a [Creative Commons Attribution License CC-BY 4.0](https://creativecommons.org/licenses/by/4.0/). All code contained herein is licensed under an [MIT license](https://opensource.org/licenses/MIT). \n",
    "\n",
    "---"
   ]
  },
  {
   "cell_type": "code",
   "execution_count": 1,
   "metadata": {},
   "outputs": [],
   "source": [
    "# Our numerical workhorses\n",
    "import numpy as np\n",
    "import pandas as pd\n",
    "\n",
    "import itertools\n",
    "# Import libraries to parallelize processes\n",
    "from joblib import Parallel, delayed\n",
    "\n",
    "# Import matplotlib stuff for plotting\n",
    "import matplotlib.pyplot as plt\n",
    "import matplotlib.cm as cm\n",
    "import matplotlib\n",
    "\n",
    "# Seaborn, useful for graphics\n",
    "import seaborn as sns\n",
    "\n",
    "# Pickle is useful for saving outputs that are computationally expensive\n",
    "# to obtain every time\n",
    "import pickle\n",
    "\n",
    "import os\n",
    "import glob\n",
    "\n",
    "# Import the project utils\n",
    "import sys\n",
    "sys.path.insert(0, '../../')\n",
    "import ccutils\n",
    "\n",
    "# This enables SVG graphics inline (only use with static plots (non-Bokeh))\n",
    "%config InlineBackend.figure_format = 'retina'\n",
    "\n",
    "figdir = '../../fig/blahut_algorithm_channel_capacity/'\n",
    "tmpdir = '../../tmp/'"
   ]
  },
  {
   "cell_type": "code",
   "execution_count": 2,
   "metadata": {},
   "outputs": [],
   "source": [
    "# Set PBoC plotting format\n",
    "ccutils.viz.set_plotting_style()"
   ]
  },
  {
   "cell_type": "markdown",
   "metadata": {},
   "source": [
    "## Input probability that maximizes the information transmited through a channel $P(m \\mid C)$"
   ]
  },
  {
   "cell_type": "markdown",
   "metadata": {},
   "source": [
    "Given the symmetry in the mutual information, i.e. $I(p;c)=I(c;p)$ the problem of transmiting a message can be studied from two perspectives:\n",
    "1. Given a **fix input** $P(c)$ what is the input-output response $P(p \\mid c)$ that would minimize the information subject to some average distortion $D$. In other words, given that we set a maximum error rate $D$ in the communication channel, what is the minimum amount of information that needs to be transmited to achieve such goal.\n",
    "2. Given a **fix channel** $P(p \\mid c)$ what is the input distribution that would maximize the mutual information.\n",
    "\n",
    "The first view is treated by rate-distortion theory. The second point is the problem of computing the so-called information capacity of a channel. This channel capacity is defined as\n",
    "\n",
    "$$\n",
    "    C \\equiv \\max_{P(c)} I(p;c),\n",
    "\\tag{1}\n",
    "$$\n",
    "where the maximum is taken over the space of probabilities $P(c)$. This means that a probability distribution $P^*(c)$ achieves capacity if it maximizes the information that can be transmitted through a fix channel.\n",
    "\n",
    "In this script we will implement the Blahut-Arimoto algorithm that numerically searches through the space of all (discrete) input distributions $P(c)$, converging to the input distribution that achieves channel capacity."
   ]
  },
  {
   "cell_type": "markdown",
   "metadata": {
    "heading_collapsed": true
   },
   "source": [
    "## Testing the implementation of the algorithm."
   ]
  },
  {
   "cell_type": "markdown",
   "metadata": {
    "hidden": true
   },
   "source": [
    "Before going all in with the implementation of the algorithm is worth testing it with a simple example. Let's first implement the algorithm."
   ]
  },
  {
   "cell_type": "code",
   "execution_count": 3,
   "metadata": {
    "hidden": true
   },
   "outputs": [],
   "source": [
    "def channel_capacity(QmC, epsilon=1E-3, info=1E4):\n",
    "    '''\n",
    "    Performs the Blahut-Arimoto algorithm to compute the channel capacity\n",
    "    given a channel QmC.\n",
    "\n",
    "    Parameters\n",
    "    ----------\n",
    "    QmC : array-like \n",
    "        definition of the channel with C inputs and m outputs.\n",
    "    epsilon : float.\n",
    "        error tolerance for the algorithm to stop the iterations. The smaller\n",
    "        epsilon is the more precise the rate-distortion function is, but also\n",
    "        the larger the number of iterations the algorithm must perform\n",
    "    info : int.\n",
    "        Number indicating every how many cycles to print the cycle number as\n",
    "        a visual output of the algorithm.\n",
    "    Returns\n",
    "    -------\n",
    "    C : float.\n",
    "        channel capacity, or the maximum information it can be transmitted \n",
    "        given the input-output function.\n",
    "    pc : array-like.\n",
    "        array containing the discrete probability distribution for the input \n",
    "        that maximizes the channel capacity\n",
    "    '''\n",
    "    # initialize the probability for the input.\n",
    "    pC = np.repeat(1 / QmC.shape[0], QmC.shape[0])\n",
    "        \n",
    "    # Initialize variable that will serve as termination criteria\n",
    "    Iu_Il = 1\n",
    "    \n",
    "    loop_count = 0\n",
    "    # Perform a while loop until the stopping criteria is reached\n",
    "    while Iu_Il > epsilon:\n",
    "        if (loop_count % info == 0) & (loop_count != 0):\n",
    "            print('loop : {0:d}, Iu - Il : {1:f}'.format(loop_count, Iu_Il))\n",
    "        loop_count += 1\n",
    "        # compute the relevant quantities. check the notes on the algorithm\n",
    "        # for the interpretation of these quantities\n",
    "        # cC = exp(∑_m Qm|C log(Qm|C / ∑_c pC Qm|C))\n",
    "        sum_C_pC_QmC = np.sum((pC * QmC.T).T, axis=0)\n",
    "        QmC_log_QmC_sum_C_pC_QmC = QmC * np.log(QmC / sum_C_pC_QmC)\n",
    "        # check for values that go to -inf because of 0xlog0\n",
    "        QmC_log_QmC_sum_C_pC_QmC[np.isnan(QmC_log_QmC_sum_C_pC_QmC)] = 0\n",
    "        QmC_log_QmC_sum_C_pC_QmC[np.isneginf(QmC_log_QmC_sum_C_pC_QmC)] = 0\n",
    "        cC = np.exp(np.sum(QmC_log_QmC_sum_C_pC_QmC, axis=1))\n",
    "       \n",
    "        # I_L log(∑_C pC cC)\n",
    "        Il = np.log(np.sum(pC * cC))\n",
    "        \n",
    "        # I_U = log(max_C cC)\n",
    "        Iu = np.log(cC.max())\n",
    "        \n",
    "        # pC = pC * cC / ∑_C pC * cC\n",
    "        pC = pC * cC / np.sum(pC * cC)\n",
    "        \n",
    "        Iu_Il = Iu - Il\n",
    "        \n",
    "    # convert from nats to bits\n",
    "    Il = Il / np.log(2)\n",
    "    return Il, pC, loop_count"
   ]
  },
  {
   "cell_type": "markdown",
   "metadata": {
    "hidden": true
   },
   "source": [
    "Now the channel that Arimoto proposes in his paper"
   ]
  },
  {
   "cell_type": "code",
   "execution_count": 4,
   "metadata": {
    "hidden": true
   },
   "outputs": [
    {
     "name": "stdout",
     "output_type": "stream",
     "text": [
      "Mutual info: 0.16163186082364497\n",
      "Input distribution: [5.01735450e-01 1.41574430e-09 4.98264548e-01]\n",
      "Iterations: 305\n"
     ]
    }
   ],
   "source": [
    "QmC = np.array([[0.6, 0.7, 0.5], [0.3, 0.1, 0.05], [0.1, 0.2, 0.45]])\n",
    "\n",
    "Il, pC, loop_count = channel_capacity(QmC.T, 1E-10)\n",
    "\n",
    "print('Mutual info:', Il)\n",
    "print('Input distribution:', pC)\n",
    "print('Iterations:', loop_count)"
   ]
  },
  {
   "cell_type": "markdown",
   "metadata": {
    "hidden": true
   },
   "source": [
    "The algorithm converges to the value reported on the paper. So we know that this implementation is working.\n"
   ]
  },
  {
   "cell_type": "markdown",
   "metadata": {},
   "source": [
    "## Computing the channel capacity for a single-promoter at steady state."
   ]
  },
  {
   "cell_type": "markdown",
   "metadata": {},
   "source": [
    "Given that the steady state mRNA and protein distributions $P(m, p \\mid c)$ were computed using the maximum entropy approximation we can take the Lagrange multipliers associated with each inducer concentration $C$ and build the input output matrix $\\mathbf{Q}_{g|c}$, where $g \\in \\{m, p\\}$.\n",
    "\n",
    "As a first approach we will take the distribution inferences made with a single promoter at steady state. What this means is that these inferences do not take into account variability of gene copy number during the cell cycle. Also the protein degradation in these inferences is taken to be a Poission process. This means that $\\gp$ is set to be the inverse of the average protein life time, i.e. $\\gp = (\\text{doubling time})^{-1}$.\n",
    "\n",
    "Let's read into memory the value of the Lagrange multipliers obtained this way."
   ]
  },
  {
   "cell_type": "code",
   "execution_count": null,
   "metadata": {},
   "outputs": [],
   "source": [
    "df_maxEnt = pd.read_csv('../../data/csv_maxEnt_dist/' +\n",
    "                        'MaxEnt_ss_Lagrange_multipliers.csv', index_col=0)"
   ]
  },
  {
   "cell_type": "markdown",
   "metadata": {},
   "source": [
    "Let's now define a function that takes a data frame for a particular repressor copy number and operator with all inducer concentrations, and computes each corresponding distribution $P(m, p \\mid c)$ to then marginalize to obtain either $P(m \\mid c) = \\sum_p P(m, p \\mid c)$, or $P(p \\mid c) = \\sum_m P(m, p \\mid c)$. Then it stacks all these marginal distributions to build the input-output matrix $\\mathbf{Q}_{g|c}$. In other words, given a list of the Lagrange multipliers and a corresponding set of values of mRNA and protein counts this function builds the joint distribution $P(m, p \\mid c)$ and then (if necessary) marginalizes over one of the axis ($\\sum_m$ or $\\sum_p$)."
   ]
  },
  {
   "cell_type": "code",
   "execution_count": null,
   "metadata": {},
   "outputs": [],
   "source": [
    "def trans_matrix(df_lagrange, mRNA_space, protein_space, m_dist=True):\n",
    "    '''\n",
    "    Function that builds the transition matrix Qg|c for a series of\n",
    "    concentrations c. It builds the matrix by using the tidy data-frames\n",
    "    containing the list of Lagrange multipliers.\n",
    "    \n",
    "    Parameters\n",
    "    ----------\n",
    "    df_lagrange : pandas DataFrame.\n",
    "        Data Frame containing the lagrange multipliers for a single straing,\n",
    "        i.e. single operator and repressor copy number value.\n",
    "    mRNA_space, protein_space : array-like.\n",
    "        Array containing the sample space for the mRNA and the protein\n",
    "        respectively\n",
    "    m_dist : Bool. Default = True.\n",
    "        Boolean indicating if the mRNA input-output matrix should be returned.\n",
    "        If false the protein matrix is returned.\n",
    "    \n",
    "    Returns\n",
    "    -------\n",
    "    Qg|c : input output matrix in which each row represents a concentration\n",
    "    and each column represents the probability of mRNA or protein copy number.\n",
    "    '''\n",
    "    # Extract unique concentrations\n",
    "    c_array = df_lagrange['inducer_uM'].unique()\n",
    "    \n",
    "    # Extract the list of Lagrange multipliers\n",
    "    lagrange_mult = [col for col in df_lagrange.columns if 'lambda' in col]\n",
    "    # Extract the exponents corresponding to each Lagrange multiplier\n",
    "    exponents = []\n",
    "    for s in lagrange_mult:\n",
    "        exponents.append([int(n) for n in list(s) if n.isdigit()])\n",
    "    \n",
    "    # Initialize input-output matrix\n",
    "    if m_dist:\n",
    "        Qgc = np.zeros([len(mRNA_space), len(c_array)])\n",
    "    else:\n",
    "        Qgc = np.zeros([len(protein_space), len(c_array)])\n",
    "    \n",
    "    # Group data frame by inducer concentration\n",
    "    df_group = df_lagrange.groupby('inducer_uM')\n",
    "    \n",
    "    # Loop through each of the concentrations computing the distribution\n",
    "    for i, (group, data) in enumerate(df_group):\n",
    "        # Extract the Lagrange multiplier columns\n",
    "        lagrange = data.loc[:, lagrange_mult].values[0]\n",
    "        \n",
    "        # Compute the distribution\n",
    "        Pmp = ccutils.maxent.maxEnt_from_lagrange(mRNA_space, protein_space, \n",
    "                                             lagrange,\n",
    "                                             exponents=exponents)\n",
    "        \n",
    "        # Marginalize and add marignal distribution to Qg|c\n",
    "        if m_dist:\n",
    "            Qgc[:, i] = Pmp.sum(axis=0)\n",
    "        else:\n",
    "            Qgc[:, i] = Pmp.sum(axis=1)\n",
    "            \n",
    "    return Qgc"
   ]
  },
  {
   "cell_type": "markdown",
   "metadata": {},
   "source": [
    "Having defined the function let's test it. We will grab a specific strain with the O2 operator and 260 repressors per cell, build its input-output protein matrix $P(p \\mid c) = \\sum_m P(m, p \\mid c)$, and then compute the channel capacity."
   ]
  },
  {
   "cell_type": "code",
   "execution_count": null,
   "metadata": {},
   "outputs": [],
   "source": [
    "# Extract sample data frame\n",
    "df_lagrange = df_maxEnt[(df_maxEnt.operator == 'O2') &\n",
    "                        (df_maxEnt.repressor == 260)]\n",
    "\n",
    "# Define sample space\n",
    "mRNA_space = np.arange(0, 50)\n",
    "protein_space = np.arange(0, 3E4)\n",
    "\n",
    "# Build input-output matrix Qg|c\n",
    "QgC = trans_matrix(df_lagrange, mRNA_space, protein_space, False)\n",
    "\n",
    "Il, pC, loop_count = channel_capacity(QgC.T, 1E-3)\n",
    "\n",
    "print('channel capacity: {:.2f} bits'.format(Il))"
   ]
  },
  {
   "cell_type": "markdown",
   "metadata": {},
   "source": [
    "According to our theoretical input-output function for this particular strain, the channel capacity is almost 2 bits."
   ]
  },
  {
   "cell_type": "markdown",
   "metadata": {},
   "source": [
    "Having defined this function let's compute the channel capacity all the unique repressor-operator combinations in for which we constructed input-output functions with maximum entropy."
   ]
  },
  {
   "cell_type": "code",
   "execution_count": null,
   "metadata": {},
   "outputs": [],
   "source": [
    "# Boolean indicating if the computation should be done\n",
    "compute_channcap = False\n",
    "\n",
    "if compute_channcap:\n",
    "    # Group df_maxEnt by operator and repressor copy number\n",
    "    df_group = df_maxEnt.groupby(['operator', 'repressor'])\n",
    "\n",
    "    # Define column names for data frame\n",
    "    names = ['operator', 'binding_enery', 'repressor', \n",
    "             'channcap_mRNA', 'channcap_protein']\n",
    "\n",
    "    # Initialize data frame to save channel capacity computations\n",
    "    df_channcap = pd.DataFrame(columns=names)\n",
    "    \n",
    "    # Initialize dataFrame to save channel capacity computation\n",
    "    df_channcap_mRNA = pd.DataFrame(columns=names)\n",
    "    \n",
    "    # Define function to compute in parallel the channel capacity\n",
    "    def cc_parallel(df_lagrange):\n",
    "        # Build mRNA transition matrix\n",
    "        Qmc = trans_matrix(df_lagrange, mRNA_space, protein_space, True)\n",
    "\n",
    "        # Build mRNA transition matrix\n",
    "        Qpc = trans_matrix(df_lagrange, mRNA_space, protein_space, False)\n",
    "\n",
    "        # Compute the channel capacity with the Blahut-Arimoto algorithm\n",
    "        cc_m, _, _ = channel_capacity(Qmc.T, epsilon=1E-3)\n",
    "        cc_p, _, _ = channel_capacity(Qpc.T, epsilon=1E-3)\n",
    "        \n",
    "        # Extract operator and repressor copy number\n",
    "        op = df_lagrange.operator.unique()[0]\n",
    "        eRA = df_lagrange.binding_energy.unique()[0]\n",
    "        rep = df_lagrange.repressor.unique()[0]\n",
    "        \n",
    "        return [op, eRA, rep, cc_m, cc_p]\n",
    "    # Run the function in parallel\n",
    "    ccaps = Parallel(n_jobs=6)(delayed(cc_parallel)(df_lagrange)\n",
    "                                for group, df_lagrange in df_group)\n",
    "    \n",
    "    # Convert to tidy data frame\n",
    "    ccaps = pd.DataFrame(ccaps, columns=names)\n",
    "\n",
    "    # Concatenate to data frame\n",
    "    df_channcap = pd.concat([df_channcap, ccaps], axis=0)\n",
    "    \n",
    "    # Save results\n",
    "    df_channcap.to_csv('../../data/csv_maxEnt_dist/chann_cap_single_prom.csv',\n",
    "                       index=False)"
   ]
  },
  {
   "cell_type": "markdown",
   "metadata": {},
   "source": [
    "Let's now take a look at the channel capacity as a function of transcription factor copy number for different operators. Moreover let's compare the channel capacity at the mRNA and at the protein level."
   ]
  },
  {
   "cell_type": "code",
   "execution_count": null,
   "metadata": {},
   "outputs": [],
   "source": [
    "# Load data\n",
    "df_channcap = pd.read_csv('../../data/csv_maxEnt_dist/chann_cap_single_prom.csv')\n",
    "# Drop Oid data\n",
    "df_channcap = df_channcap[df_channcap.operator != 'Oid']\n",
    "\n",
    "# Group data by operator\n",
    "df_group = df_channcap.groupby('operator')\n",
    "\n",
    "# Initialize figure\n",
    "fig, ax = plt.subplots(1, 2, figsize=(6, 2.5), sharey=True, sharex=True)\n",
    "\n",
    "# Loop through each of the operators\n",
    "for group, data in df_group:\n",
    "    # Plot mRNA channel capacity\n",
    "    ax[0].plot(data.repressor, data.channcap_mRNA, label=group)\n",
    "    \n",
    "    # Plot protein channel capacity\n",
    "    ax[1].plot(data.repressor, data.channcap_protein, label=group)\n",
    "\n",
    "# Label plot\n",
    "ax[0].set_xlabel('repressor copy number')\n",
    "ax[1].set_xlabel('repressor copy number')\n",
    "ax[0].set_ylabel('channel capacity (bits)')\n",
    "\n",
    "# Set title\n",
    "ax[0].set_title('mRNA')\n",
    "ax[1].set_title('protein')\n",
    "\n",
    "\n",
    "ax[0].margins(0.05)\n",
    "ax[0].set_xscale('symlog', linthreshx=1, linscalex=0.5)\n",
    "ax[0].legend(loc=0, title='operator', ncol=2)\n",
    "\n",
    "plt.subplots_adjust(wspace=0.05)\n",
    "\n",
    "plt.savefig(figdir + 'channel_capacity_mRNA_protein_vs_rep.pdf', \n",
    "            bbox_inches='tight')"
   ]
  },
  {
   "cell_type": "markdown",
   "metadata": {},
   "source": [
    "There are two very interesting features in these plots:\n",
    "First the mRNA channel capacity is systematically smaller than the protein channel capacity. This could initially sound like a violation of the data processing inequality, which states that for a Markov chain of the form\n",
    "\n",
    "$$\n",
    "c \\rightarrow m \\rightarrow p,\n",
    "\\tag{2}\n",
    "$$\n",
    "it must be true that\n",
    "\n",
    "$$\n",
    "I(c; m) \\geq I(c; p).\n",
    "\\tag{3}\n",
    "$$\n",
    "Meaning that at each step of the information transmition information can only be lost. So how come the mRNA can carry less information than the protein? The key to solve this apparent paradox is to recall that the data processing inequality talks about instantaneous uses of the communication channel. But here the initial signal $c$ remained constant until reaching steady state, so the protein was able to average out all the high frequency fluctuations of the mRNA, and carry more information about the input. If we were looking at dynamics where we would like to know the instantaneous value of the rapidly changing input $c$, then it would be true that the mRNA would carry more information than the protein. But under the constant input $c$ conditions that the inferences were made this inequality does not apply."
   ]
  },
  {
   "cell_type": "markdown",
   "metadata": {},
   "source": [
    "### Compare with experimental data. "
   ]
  },
  {
   "cell_type": "markdown",
   "metadata": {},
   "source": [
    "Let's compare these predictions with experimental mircorscopy data at the protein level. First let's read the experimental channel capacity estimations."
   ]
  },
  {
   "cell_type": "code",
   "execution_count": null,
   "metadata": {},
   "outputs": [],
   "source": [
    "# Define directory where data is stored\n",
    "expdir = '../../data/csv_channcap_bootstrap/'\n",
    "\n",
    "# Define directory where the bootstrap data was stored\n",
    "bootsdir = '../channcap_exp/'\n",
    "\n",
    "# List files of data taken exclusively for this experiment\n",
    "bootsfiles = [x for x in os.listdir(bootsdir) \n",
    "              if ('channel_capacity_experiment' in x) &\n",
    "              ('ipynb' not in x)]\n",
    "\n",
    "# Extract dates for these experiments\n",
    "project_dates = [x.split('_')[0] for x in bootsfiles]\n",
    "\n",
    "\n",
    "# List files with the bootstrap sampling of the\n",
    "files = glob.glob(expdir + '*channcap_bootstrap.csv')\n",
    "\n",
    "# Extract dates from these files\n",
    "file_dates = [file.split('/')[-1] for file in files]\n",
    "file_dates = [file.split('_')[0] for file in file_dates]\n",
    "\n",
    "##  Remove data sets that are ignored because of problems with the data quality\n",
    "##  NOTE: These data sets are kept in the repository for transparency, but they\n",
    "##  failed at one of our quality criteria (see README.txt file in microscopy folder)\n",
    "ignore_files = [x for x in os.listdir('../image_analysis/ignore_datasets/')\n",
    "                if 'microscopy' in x]\n",
    "# Extract data from these files\n",
    "ignore_dates = [x.split('_')[0] for x in ignore_files]\n",
    "\n",
    "# Filter for files taken exclusively for this experiment.\n",
    "files = [file for i, file in enumerate(files) if (file_dates[i] in project_dates)\n",
    "         & (not file_dates[i] in ignore_dates)]"
   ]
  },
  {
   "cell_type": "markdown",
   "metadata": {},
   "source": [
    "Let's systematically read each of the files, extract the data from the bin number closest to **100** and compute the channel capacity estimate for this bin number.\n",
    "\n",
    "But first let's define a couple of dictionaries to map from RBS name to repressor co py number and from operator to binding energy."
   ]
  },
  {
   "cell_type": "code",
   "execution_count": null,
   "metadata": {},
   "outputs": [],
   "source": [
    "# Define dictionaries to map operator to binding energy and rbs to rep copy \n",
    "op_dict = dict(zip(['O1', 'O2', 'O3', 'Oid'], [-15.3, -13.9, -9.7, -17]))\n",
    "rbs_dict = dict(zip(['HG104', 'RBS1147', 'RBS446', 'RBS1027', 'RBS1', 'RBS1L'],\n",
    "                    [22, 60, 124, 260, 1220, 1740]))"
   ]
  },
  {
   "cell_type": "markdown",
   "metadata": {},
   "source": [
    "Now let's save the data in a tidy `DataFrame`."
   ]
  },
  {
   "cell_type": "code",
   "execution_count": null,
   "metadata": {},
   "outputs": [],
   "source": [
    "# Define index of entries to save\n",
    "index = ['date', 'bins', 'operator', 'rbs', \n",
    "         'binding energy', 'repressors', 'channcap']\n",
    "# Initialize DataFrame to save information\n",
    "df_cc_exp = pd.DataFrame(columns=index)\n",
    "\n",
    "# Define bin number to extract\n",
    "bin_target = 100\n",
    "\n",
    "# Loop through files\n",
    "for f in files:\n",
    "    # Split file name to extract info\n",
    "    str_split = f.replace(expdir, '').split('_')\n",
    "    # Extract date, operator and rbs info\n",
    "    date, op, rbs = str_split[0:3]\n",
    "    # Map the binding energy and repressor copy number\n",
    "    eRA, rep = op_dict[op], rbs_dict[rbs]\n",
    "    \n",
    "    # Read file\n",
    "    df_cc_bs = pd.read_csv(f, header=0)\n",
    "\n",
    "    # Select df_cc_bs closest to desired number of bins\n",
    "    # Find the index of the min df_cc_bs\n",
    "    bin_idx = (np.abs(df_cc_bs['bins'] - bin_target)).idxmin()\n",
    "    # Choose the bind number\n",
    "    bin_num = df_cc_bs.iloc[bin_idx]['bins']\n",
    "\n",
    "    # Keep only df_cc_bs with this bin number\n",
    "    df_cc_bs = df_cc_bs[df_cc_bs['bins'] == bin_num]\n",
    "\n",
    "    # Extrapolate to N -> oo\n",
    "    x = 1 / df_cc_bs.samp_size\n",
    "    y = df_cc_bs.channcap_bs\n",
    "    # Perform linear regression\n",
    "    lin_reg = np.polyfit(x, y, deg=1)\n",
    "    # Extract intercept to find channel capacity estimate\n",
    "    cc = lin_reg[1]\n",
    "\n",
    "    # Compile info into a pandas series to append it to the DataFrame\n",
    "    series = pd.Series([date, bin_num, op, rbs, eRA, rep, cc],\n",
    "                       index=index)\n",
    "    # Append to DataFrame\n",
    "    df_cc_exp = df_cc_exp.append(series, ignore_index=True)\n",
    "\n",
    "df_cc_exp.head()"
   ]
  },
  {
   "cell_type": "markdown",
   "metadata": {},
   "source": [
    "Now we are ready to compare our theoretical predictions with the experimental data."
   ]
  },
  {
   "cell_type": "code",
   "execution_count": null,
   "metadata": {},
   "outputs": [],
   "source": [
    "# Load data\n",
    "df_channcap_single = pd.read_csv('../../data/csv_maxEnt_dist/chann_cap_single_prom.csv')\n",
    "# Drop Oid data\n",
    "df_channcap_single = df_channcap_single[df_channcap_single.operator != 'Oid']\n",
    "\n",
    "# Group data by operator\n",
    "df_group = df_channcap_single.groupby('operator')\n",
    "\n",
    "# Define colors for each operator\n",
    "operators = df_channcap_single['operator'].unique()\n",
    "colors = sns.color_palette('colorblind', n_colors=len(operators))\n",
    "op_col_dict = dict(zip(operators, colors))\n",
    "\n",
    "fig, ax = plt.subplots(1, 1)\n",
    "for group, data in df_group:\n",
    "    ax.plot(data.repressor, data.channcap_protein,\n",
    "            label=group, color=op_col_dict[group])\n",
    "    # Plot data from operator\n",
    "    ax.plot(df_cc_exp[df_cc_exp['operator'] == group]['repressors'], \n",
    "            df_cc_exp[df_cc_exp['operator'] == group]['channcap'], \n",
    "            lw=0, marker='o', color=op_col_dict[group], label='',\n",
    "            alpha=0.8, markeredgecolor='black', markeredgewidth=1)\n",
    "\n",
    "# Label plot\n",
    "ax.set_xlabel('repressor copy number')\n",
    "ax.set_ylabel('channel capacity (bits)')\n",
    "ax.set_xscale('log')\n",
    "ax.set_xlim(left=1)\n",
    "ax.legend(loc=0, title='operator')\n",
    "plt.savefig(figdir + 'theory_vs_data_channcap_protein.pdf', bbox_inches='tight')"
   ]
  },
  {
   "cell_type": "markdown",
   "metadata": {},
   "source": [
    "Interestingly all of our predictions are systematically higher than the experimentally inferred data. What this is telling us is that the way that these input-output functions were built by assuming a steady state with no changes in gene copy number underestimate the noise, and as a consequence overestimate the amount of information that the circuit could process.\n",
    "\n",
    "Let's now explore an alternative option."
   ]
  },
  {
   "cell_type": "markdown",
   "metadata": {},
   "source": [
    "## Computing the channel capacity for a multi-promoter model"
   ]
  },
  {
   "cell_type": "markdown",
   "metadata": {},
   "source": [
    "One of the possible sources of noise is the fact that cells spend part of the cell cycle with multiple promoters. We have accounted for that in our model and parameter inference. Based on that maximum entropy distributions were fit to a model in which cells spend 60% of the cell cycle with one copy of the promoter and 40% with two copies.\n",
    "\n",
    "Let's read the resulting Lagrange multipliers and compute the channel capacity for this case. These Lagrange multipliers were fit independently for the mRNA and the protein distribution. So we will read two independent files."
   ]
  },
  {
   "cell_type": "code",
   "execution_count": null,
   "metadata": {},
   "outputs": [],
   "source": [
    "df_maxEnt_mRNA = pd.read_csv('../../data/csv_maxEnt_dist/' +\n",
    "                  'MaxEnt_Lagrange_mult_mRNA.csv')\n",
    "\n",
    "df_maxEnt_prot = pd.read_csv('../../data/csv_maxEnt_dist/' +\n",
    "                  'MaxEnt_Lagrange_mult_protein.csv')"
   ]
  },
  {
   "cell_type": "markdown",
   "metadata": {},
   "source": [
    "### mRNA level channel capacity"
   ]
  },
  {
   "cell_type": "markdown",
   "metadata": {},
   "source": [
    "Let's first work with the mRNA channel capacity. We need to define the sample space and the parameters for different repressor copy numbers and operator binding energies."
   ]
  },
  {
   "cell_type": "code",
   "execution_count": null,
   "metadata": {},
   "outputs": [],
   "source": [
    "# Define dictionaries to map operator to binding energy and rbs to rep copy \n",
    "op_dict = dict(zip(['O1', 'O2', 'O3'], [-15.3, -13.9, -9.7]))\n",
    "rbs_dict = dict(zip(['HG104', 'RBS1147', 'RBS446', 'RBS1027', 'RBS1', 'RBS1L'],\n",
    "                    [22, 60, 124, 260, 1220, 1740]))\n",
    "\n",
    "# Define sample space\n",
    "mRNA_space = np.arange(0, 100)\n",
    "protein_space = np.array([0])"
   ]
  },
  {
   "cell_type": "markdown",
   "metadata": {},
   "source": [
    "Now let's compute the channel capacity at the mRNA level."
   ]
  },
  {
   "cell_type": "code",
   "execution_count": null,
   "metadata": {},
   "outputs": [],
   "source": [
    "# Boolean indicating if the computation should be performed or not\n",
    "compute_channcap = False\n",
    "\n",
    "if compute_channcap:\n",
    "    # Group df_maxEnt by operator and repressor copy number\n",
    "    df_group = df_maxEnt_mRNA.groupby(['operator', 'repressor'])\n",
    "\n",
    "    # Define column names for data frame\n",
    "    names = ['operator', 'binding_enery', 'repressor', \n",
    "             'channcap']\n",
    "\n",
    "    # Initialize data frame to save channel capacity computations\n",
    "    df_channcap = pd.DataFrame(columns=names)\n",
    "    \n",
    "    # Define function to compute in parallel the channel capacity\n",
    "    def cc_parallel_mRNA(df_lagrange):\n",
    "        # Build mRNA transition matrix\n",
    "        Qmc = trans_matrix(df_lagrange, mRNA_space, protein_space, True)\n",
    "\n",
    "        # Compute the channel capacity with the Blahut-Arimoto algorithm\n",
    "        cc_m, _, _ = channel_capacity(Qmc.T, epsilon=1E-4)\n",
    "        \n",
    "        # Extract operator and repressor copy number\n",
    "        op = df_lagrange.operator.unique()[0]\n",
    "        eRA = df_lagrange.binding_energy.unique()[0]\n",
    "        rep = df_lagrange.repressor.unique()[0]\n",
    "        \n",
    "        return [op, eRA, rep, cc_m]\n",
    "    # Run the function in parallel\n",
    "    ccaps = Parallel(n_jobs=6)(delayed(cc_parallel_mRNA)(df_lagrange)\n",
    "                                for group, df_lagrange in df_group)\n",
    "    \n",
    "    # Convert to tidy data frame\n",
    "    ccaps = pd.DataFrame(ccaps, columns=names)\n",
    "\n",
    "    # Concatenate to data frame\n",
    "    df_channcap = pd.concat([df_channcap, ccaps], axis=0)\n",
    "    \n",
    "    # Save results\n",
    "    df_channcap.to_csv('../../data/csv_maxEnt_dist/' + \n",
    "    'chann_cap_multi_prom_mRNA.csv',\n",
    "                       index=False)\n",
    "\n",
    "df_cc_mRNA = pd.read_csv('../../data/csv_maxEnt_dist/' + \n",
    "                         'chann_cap_multi_prom_mRNA.csv')\n",
    "\n",
    "df_cc_mRNA.head()"
   ]
  },
  {
   "cell_type": "markdown",
   "metadata": {},
   "source": [
    "### Protein level channel capacity"
   ]
  },
  {
   "cell_type": "markdown",
   "metadata": {},
   "source": [
    "Let's now repeat the calculation for the protien level. We need to change the sample space for these computations."
   ]
  },
  {
   "cell_type": "code",
   "execution_count": null,
   "metadata": {},
   "outputs": [],
   "source": [
    "# Define sample space\n",
    "mRNA_space = np.array([0])\n",
    "protein_space = np.arange(0, 4E4)"
   ]
  },
  {
   "cell_type": "markdown",
   "metadata": {},
   "source": [
    "Nowe we apply the Blahut-Arimoto method to the protein distributions."
   ]
  },
  {
   "cell_type": "code",
   "execution_count": null,
   "metadata": {},
   "outputs": [],
   "source": [
    "# Boolean to indicate if the computation should be performed or not\n",
    "compute_channcap = False\n",
    "\n",
    "if compute_channcap:\n",
    "    # Group df_maxEnt by operator and repressor copy number\n",
    "    df_group = df_maxEnt_prot.groupby(['operator', 'repressor'])\n",
    "\n",
    "    # Define column names for data frame\n",
    "    names = ['operator', 'binding_enery', 'repressor', \n",
    "             'channcap', 'pc']\n",
    "\n",
    "    # Initialize data frame to save channel capacity computations\n",
    "    df_channcap = pd.DataFrame(columns=names)\n",
    "    \n",
    "    # Define function to compute in parallel the channel capacity\n",
    "    def cc_parallel_protein(df_lagrange):\n",
    "\n",
    "        # Build mRNA transition matrix\n",
    "        Qpc = trans_matrix(df_lagrange, mRNA_space, protein_space, False)\n",
    "\n",
    "        # Compute the channel capacity with the Blahut-Arimoto algorithm\n",
    "        cc_p, pc, _ = channel_capacity(Qpc.T, epsilon=1E-4)\n",
    "        \n",
    "        # Extract operator and repressor copy number\n",
    "        op = df_lagrange.operator.unique()[0]\n",
    "        eRA = df_lagrange.binding_energy.unique()[0]\n",
    "        rep = df_lagrange.repressor.unique()[0]\n",
    "        \n",
    "        return [op, eRA, rep, cc_p, pc]\n",
    "    # Run the function in parallel\n",
    "    ccaps = Parallel(n_jobs=6)(delayed(cc_parallel_protein)(df_lagrange)\n",
    "                                for group, df_lagrange in df_group)\n",
    "    \n",
    "    # Convert to tidy data frame\n",
    "    ccaps = pd.DataFrame(ccaps, columns=names)\n",
    "\n",
    "    # Concatenate to data frame\n",
    "    df_channcap = pd.concat([df_channcap, ccaps], axis=0)\n",
    "    \n",
    "    # Save results\n",
    "    df_channcap.to_csv('../../data/csv_maxEnt_dist/' + \n",
    "    'chann_cap_multi_prom_protein.csv',\n",
    "                       index=False)\n",
    "\n",
    "df_cc_protein = pd.read_csv('../../data/csv_maxEnt_dist/' + \n",
    "                            'chann_cap_multi_prom_protein.csv')\n",
    "\n",
    "# Drop infinities\n",
    "df_cc_protein = df_cc_protein[df_cc_protein.channcap != np.inf]\n",
    "df_cc_protein.head()"
   ]
  },
  {
   "cell_type": "markdown",
   "metadata": {},
   "source": [
    "Now let's take a look again at the channel capacity inferred values both at the mRNA level and at the protein level."
   ]
  },
  {
   "cell_type": "code",
   "execution_count": null,
   "metadata": {},
   "outputs": [],
   "source": [
    "# Initialize figure\n",
    "fig, ax = plt.subplots(1, 2, figsize=(5, 2.5), sharey=True, sharex=True)\n",
    "\n",
    "# Generate list of colors for each operator\n",
    "col_list = sns.color_palette('colorblind', n_colors=3)\n",
    "col_dict = dict(zip(['O1', 'O2', 'O3'], col_list))\n",
    "\n",
    "# Group data by operator\n",
    "df_group = df_cc_mRNA.groupby('operator')\n",
    "\n",
    "# Define threshold to split linear from logarithmic scale\n",
    "thresh = 1E0\n",
    "\n",
    "# Loop through each of the operators\n",
    "for group, data in df_group:\n",
    "    # Plot mRNA channel capacity\n",
    "    # Log scale\n",
    "    ax[0].plot(data[data.repressor >= thresh].repressor,\n",
    "               data[data.repressor >= thresh].channcap, \n",
    "               label=op_dict[group], color=col_dict[group])\n",
    "    \n",
    "    # Linear scale\n",
    "    ax[0].plot(data[data.repressor <= thresh].repressor,\n",
    "               data[data.repressor <= thresh].channcap, \n",
    "               label='', color=col_dict[group],\n",
    "               linestyle='--')\n",
    "    \n",
    "# Group data by operator\n",
    "df_group = df_cc_protein.groupby('operator')\n",
    "\n",
    "# Loop through each of the operators\n",
    "for group, data in df_group:\n",
    "    # Plot protein channel capacity\n",
    "    # Log scale\n",
    "    ax[1].plot(data[data.repressor >= thresh].repressor,\n",
    "               data[data.repressor >= thresh].channcap, label=group,\n",
    "               color=col_dict[group])\n",
    "    \n",
    "    # Linear scale\n",
    "    ax[1].plot(data[data.repressor <= thresh].repressor,\n",
    "               data[data.repressor <= thresh].channcap, \n",
    "               label='', color=col_dict[group],\n",
    "               linestyle='--')\n",
    "\n",
    "# Label plot\n",
    "ax[0].set_xlabel('repressor copy number')\n",
    "ax[1].set_xlabel('repressor copy number')\n",
    "ax[0].set_ylabel('channel capacity (bits)')\n",
    "\n",
    "# Set title\n",
    "ax[0].set_title('mRNA', bbox=dict(facecolor='#ffedce'))\n",
    "ax[1].set_title('protein', bbox=dict(facecolor='#ffedce'))\n",
    "\n",
    "\n",
    "ax[0].set_xscale('symlog', linthreshx=thresh, linscalex=0.3)\n",
    "ax[0].margins(0.03)\n",
    "ax[0].legend(loc='upper left', title=r'$\\Delta\\epsilon_r \\; (k_BT)$')\n",
    "\n",
    "plt.subplots_adjust(wspace=0.05)\n",
    "plt.savefig(figdir + 'channel_capacity_mRNA_protein_vs_rep_multipromoter.pdf', \n",
    "            bbox_inches='tight')"
   ]
  },
  {
   "cell_type": "markdown",
   "metadata": {},
   "source": [
    "Yuk... these curves don't look smooth as before. But the trend is clearly there. Let's get rid of this."
   ]
  },
  {
   "cell_type": "markdown",
   "metadata": {},
   "source": [
    "### Smoothing data"
   ]
  },
  {
   "cell_type": "markdown",
   "metadata": {},
   "source": [
    "Given some numerical instability the curves have some jaggedness to them. In order to remove this we will smooth the curves using the Nadayara-Watson estimator with a Gaussian Kernel as explained in [this excellent tutorial](http://bebi103.caltech.edu.s3-website-us-east-1.amazonaws.com/2014/tutorials/t5b_data_smoothing.html)."
   ]
  },
  {
   "cell_type": "code",
   "execution_count": null,
   "metadata": {},
   "outputs": [],
   "source": [
    "# Initialize figure\n",
    "fig, ax = plt.subplots(1, 2, figsize=(5, 2.5), sharey=True, sharex=True)\n",
    "\n",
    "# Generate list of colors for each operator\n",
    "col_list = sns.color_palette('colorblind', n_colors=3)\n",
    "col_dict = dict(zip(['O1', 'O2', 'O3'], col_list))\n",
    "\n",
    "# Group data by operator\n",
    "df_group = df_cc_mRNA.groupby('operator')\n",
    "\n",
    "# Define threshold to split linear from logarithmic scale\n",
    "thresh = 1E0\n",
    "\n",
    "# Loop through each of the operators\n",
    "for group, data in df_group:\n",
    "    # Select x and y data for smoothing\n",
    "    x = np.log10(data[data.repressor >= thresh].repressor.values)\n",
    "    y = data[data.repressor >= thresh].channcap.values\n",
    "    # Define lambda parameter for smoothing\n",
    "    lam = 0.13\n",
    "    # Smooth the channel capacity\n",
    "    channcap_gauss = ccutils.stats.nw_kernel_smooth(x, x, y,lam)\n",
    "    # Plot mRNA channel capacity\n",
    "    # Log scale\n",
    "    ax[0].plot(data[data.repressor >= thresh].repressor,\n",
    "               channcap_gauss, \n",
    "               label=op_dict[group], color=col_dict[group])\n",
    "    \n",
    "    # Linear scale\n",
    "    ax[0].plot(data[data.repressor <= thresh].repressor,\n",
    "               data[data.repressor <= thresh].channcap, \n",
    "               label='', color=col_dict[group],\n",
    "               linestyle='--')\n",
    "    \n",
    "# Group data by operator\n",
    "df_group = df_cc_protein.groupby('operator')\n",
    "\n",
    "# Loop through each of the operators\n",
    "for group, data in df_group:\n",
    "    # Select x and y data for smoothing\n",
    "    x = np.log10(data[data.repressor >= thresh].repressor.values)\n",
    "    y = data[data.repressor >= thresh].channcap.values\n",
    "    # Define lambda parameter for smoothing\n",
    "    lam = 0.16\n",
    "    # Smooth the channel capacity\n",
    "    channcap_gauss = ccutils.stats.nw_kernel_smooth(x, x, y,lam)\n",
    "    # Plot protein channel capacity\n",
    "    # Log scale\n",
    "    ax[1].plot(data[data.repressor >= thresh].repressor,\n",
    "               channcap_gauss, \n",
    "               label=op_dict[group], color=col_dict[group])\n",
    "    \n",
    "    # Linear scale\n",
    "    ax[1].plot(data[data.repressor <= thresh].repressor,\n",
    "               data[data.repressor <= thresh].channcap, \n",
    "               label='', color=col_dict[group],\n",
    "               linestyle='--')\n",
    "\n",
    "# Label plot\n",
    "ax[0].set_xlabel('repressor copy number')\n",
    "ax[1].set_xlabel('repressor copy number')\n",
    "ax[0].set_ylabel('channel capacity (bits)')\n",
    "\n",
    "# Set title\n",
    "ax[0].set_title('mRNA', bbox=dict(facecolor='#ffedce'))\n",
    "ax[1].set_title('protein', bbox=dict(facecolor='#ffedce'))\n",
    "\n",
    "\n",
    "ax[0].set_xscale('symlog', linthreshx=thresh, linscalex=0.3)\n",
    "ax[0].margins(0.03)\n",
    "ax[0].legend(loc='upper left', title=r'$\\Delta\\epsilon_r \\; (k_BT)$')\n",
    "\n",
    "plt.subplots_adjust(wspace=0.05)\n",
    "plt.savefig(figdir + 'channel_capacity_mRNA_protein_vs_rep_multipromoter_smooth.pdf',\n",
    "            bbox_inches='tight')"
   ]
  },
  {
   "cell_type": "markdown",
   "metadata": {},
   "source": [
    "Just as with the previous case the protein carries more information about the input compared to the mRNA. But these values are all smaller than before. Let's look at how this compares with the experimental inferences of the channel capacity."
   ]
  },
  {
   "cell_type": "code",
   "execution_count": null,
   "metadata": {},
   "outputs": [],
   "source": [
    "# Group data by operator\n",
    "df_group = df_cc_protein.groupby('operator')\n",
    "\n",
    "# Define colors for each operator\n",
    "operators = df_cc_protein['operator'].unique()\n",
    "colors = sns.color_palette('colorblind', n_colors=len(operators))\n",
    "op_col_dict = dict(zip(operators, colors))\n",
    "\n",
    "# Define threshold for log vs linear section\n",
    "thresh = 1E0\n",
    "\n",
    "fig, ax = plt.subplots(1, 1, figsize=(3.5,2.8))\n",
    "for group, data in df_group:\n",
    "    # Select x and y data for smoothing\n",
    "    x = np.log10(data[data.repressor >= thresh].repressor.values)\n",
    "    y = data[data.repressor >= thresh].channcap.values\n",
    "    # Define lambda parameter for smoothing\n",
    "    lam = 0.13\n",
    "    # Smooth the channel capacity\n",
    "    channcap_gauss = ccutils.stats.nw_kernel_smooth(x, x, y,lam)\n",
    "    # Plot Log scale\n",
    "    ax.plot(data[data.repressor >= thresh].repressor,\n",
    "               channcap_gauss, \n",
    "               label=op_dict[group], color=col_dict[group])\n",
    "    \n",
    "    # Plot linear scale\n",
    "    ax.plot(data[data.repressor <= thresh].repressor, \n",
    "            data[data.repressor <= thresh].channcap,\n",
    "            label='', color=op_col_dict[group], \n",
    "            linestyle='--')\n",
    "    # Plot data from operator\n",
    "    ax.plot(df_cc_exp[df_cc_exp['operator'] == group]['repressors'], \n",
    "            df_cc_exp[df_cc_exp['operator'] == group]['channcap'], \n",
    "            lw=0, marker='o', color=op_col_dict[group], label='',\n",
    "            alpha=0.8, markeredgecolor='black', markeredgewidth=1)\n",
    "\n",
    "# Label plot\n",
    "ax.set_xlabel('repressor copy number')\n",
    "ax.set_ylabel('channel capacity (bits)')\n",
    "ax.set_xscale('symlog', linthreshx=thresh, linscalex=0.3)\n",
    "ax.legend(loc='upper left', title=r'$\\Delta\\epsilon_r \\; (k_BT)$')\n",
    "\n",
    "# Save figure\n",
    "plt.savefig(figdir + \n",
    "'theory_vs_data_channcap_protein_multiprom.pdf', bbox_inches='tight')\n",
    "plt.savefig(figdir + \n",
    "'theory_vs_data_channcap_protein_multiprom.svg', bbox_inches='tight')"
   ]
  },
  {
   "cell_type": "markdown",
   "metadata": {},
   "source": [
    "This looks definitely much better. Again the difference between the previous inference and this one is that these input-output functions were built accounting for the gene copy number variability during the cell cycle and the protein degradation was not set as a Poission process $\\gp = 0$ but rather the binomial partitioning was explicitly taken into account. There were not extra fit parameters, just a refinement of the model.\n",
    "\n",
    "Let's explicitly compare the single promoter inferences with this multi-promoter model."
   ]
  },
  {
   "cell_type": "code",
   "execution_count": null,
   "metadata": {},
   "outputs": [],
   "source": [
    "# Group data by operator\n",
    "df_group = df_cc_protein.groupby('operator')\n",
    "\n",
    "# Define colors for each operator\n",
    "operators = df_cc_protein['operator'].unique()\n",
    "colors = sns.color_palette('colorblind', n_colors=len(operators))\n",
    "op_col_dict = dict(zip(operators, colors))\n",
    "\n",
    "# Define threshold for log vs linear section\n",
    "thresh = 1E0\n",
    "\n",
    "# Initialize plot\n",
    "fig, ax = plt.subplots(1, 1, figsize=(3.5,2.8))\n",
    "\n",
    "# Plot multi-promoter data\n",
    "for group, data in df_group:\n",
    "    # Select x and y data for smoothing\n",
    "    x = np.log10(data[data.repressor >= thresh].repressor.values)\n",
    "    y = data[data.repressor >= thresh].channcap.values\n",
    "    # Define lambda parameter for smoothing\n",
    "    lam = 0.13\n",
    "    # Smooth the channel capacity\n",
    "    channcap_gauss = ccutils.stats.nw_kernel_smooth(x, x, y,lam)\n",
    "    # Plot Log scale\n",
    "    ax.plot(data[data.repressor >= thresh].repressor,\n",
    "               channcap_gauss, \n",
    "               label=op_dict[group], color=col_dict[group])\n",
    "    \n",
    "    # Plot linear scale\n",
    "    ax.plot(data[data.repressor <= thresh].repressor, \n",
    "            data[data.repressor <= thresh].channcap,\n",
    "            label='', color=op_col_dict[group], \n",
    "            linestyle='--')\n",
    "\n",
    " # Group data by operator\n",
    "df_group = df_channcap_single.groupby('operator')\n",
    "\n",
    "# Plot single-promoter\n",
    "for group, data in df_group:\n",
    "    # Plot Log scale\n",
    "    ax.plot(data[data.repressor >= thresh].repressor,\n",
    "            data[data.repressor >= thresh].channcap_protein, \n",
    "            color=col_dict[group],\n",
    "            linestyle='-.', label='')\n",
    "    \n",
    "    # Plot linear scale\n",
    "    ax.plot(data[data.repressor <= thresh].repressor, \n",
    "            data[data.repressor <= thresh].channcap_protein,\n",
    "            label='', color=op_col_dict[group], \n",
    "            linestyle='--')\n",
    "\n",
    "# Add artificial plots to add legend\n",
    "ax.plot([], [], linestyle='-.', color='k', label='single-promoter')\n",
    "ax.plot([], [], linestyle='-', color='k', label='multi-promoter')\n",
    "    \n",
    "# Increase y limit\n",
    "\n",
    "# Label plot\n",
    "ax.set_xlabel('repressor copy number')\n",
    "ax.set_ylabel('channel capacity (bits)')\n",
    "ax.set_xscale('symlog', linthreshx=thresh, linscalex=0.3)\n",
    "ax.legend(loc='upper left', title=r'$\\Delta\\epsilon_r \\; (k_BT)$',\n",
    "          bbox_to_anchor=(1, 0.75))\n",
    "    \n",
    "\n",
    "# Save figure\n",
    "plt.savefig(figdir + \n",
    "'channcap_single_vs_multi.pdf', bbox_inches='tight')"
   ]
  },
  {
   "cell_type": "markdown",
   "metadata": {},
   "source": [
    "We again can see that the extra noise coming from the variability in gene copy number along the cell cycle decreases the channel capacity compared to computing the steady-state distribution."
   ]
  },
  {
   "cell_type": "markdown",
   "metadata": {},
   "source": [
    "### Looking at the input distributions at channel capacity $P^*(c)$"
   ]
  },
  {
   "cell_type": "markdown",
   "metadata": {},
   "source": [
    "In order to compute the channel capacity, the Blahut-Arimoto algorithm systematically found a distribution $P^*(c)$ that maximized the mutual information between inputs $c$ and outputs $p$. Since some of these biophysical parameters give channel capacities higher than 1 bit, it is interesting to look at these distributions. Lets plot some of them."
   ]
  },
  {
   "cell_type": "code",
   "execution_count": null,
   "metadata": {},
   "outputs": [],
   "source": [
    "# Extract concentrations\n",
    "inducer = df_maxEnt_prot.inducer_uM.unique()\n",
    "\n",
    "# Define operators to be included\n",
    "operators = ['O1', 'O2', 'O3']\n",
    "\n",
    "# Define repressors to be included\n",
    "repressors = [22, 260, 1740]\n",
    "\n",
    "# Define color for operators\n",
    "# Generate list of colors\n",
    "col_list = ['Blues_r', 'Oranges_r', 'Greens_r']\n",
    "col_dict = dict(zip(operators, col_list))\n",
    "\n",
    "# Initialize plot\n",
    "fig, ax = plt.subplots(len(repressors), len(operators), figsize=(5, 5),\n",
    "                       sharex=True, sharey=True)\n",
    "\n",
    "# Loop through operators\n",
    "for j, op in enumerate(operators):\n",
    "    # Loop through repressors\n",
    "    for i, rep in enumerate(repressors):\n",
    "        # Extract example dist\n",
    "        dist = df_cc_protein[(df_cc_protein.repressor == rep) &\n",
    "                             (df_cc_protein.operator == op)]['pc'].values[0]\n",
    "        # Clean weird format of distribution\n",
    "        dist = dist.replace('\\n', '')\n",
    "        dist = dist.replace('[', '')\n",
    "        dist = dist.replace(']', '')\n",
    "        dist = [float(x) for x in dist.split(' ')]\n",
    "        # Extract channel capacity\n",
    "        cc = df_cc_protein[(df_cc_protein.repressor == rep) &\n",
    "                           (df_cc_protein.operator == op)]['channcap']\n",
    "\n",
    "        # Define colors for plot\n",
    "        colors = sns.color_palette(col_dict[op], n_colors=1)\n",
    "        \n",
    "        # Define width of bars\n",
    "        w = 0.13\n",
    "        width_fn = lambda p, w: 10**(np.log10(p)+w/2.)-10**(np.log10(p)-w/2.)\n",
    "\n",
    "        # Plot bars\n",
    "        # Log scale\n",
    "        ax[i, j].bar(inducer[1:], dist[1:], width=width_fn(inducer[1:], w), color=colors,\n",
    "                     linewidth=0.5, edgecolor='k')\n",
    "        # Linear scale\n",
    "        ax[i, j].bar(inducer[0], dist[0], width=w / 4.5, color=colors,\n",
    "                     linewidth=0.5, edgecolor='k')\n",
    "\n",
    "        # Add text indicating channel capacity\n",
    "        ax[i, j].text(0.5, .9, '{:.1f} bits'.format(float(cc)), \n",
    "                      horizontalalignment='center', verticalalignment='center', \n",
    "                      transform=ax[i, j].transAxes, fontsize=8)\n",
    "        \n",
    "        # Add x label to lower plots\n",
    "        if i==2:\n",
    "            ax[i, j].set_xlabel(r'IPTG [$\\mu$M]')\n",
    "        # Add y label to left plots\n",
    "        if j==0:\n",
    "            ax[i, j].set_ylabel(r'$P$(IPTG)')\n",
    "            \n",
    "        # Add operator top of colums\n",
    "        if i==0:\n",
    "            label = r'$\\Delta\\epsilon_r$ = {:.1f} $k_BT$'.\\\n",
    "                    format(df_maxEnt_prot.binding_energy.unique()[0])\n",
    "            ax[i, j].set_title(label, bbox=dict(facecolor='#ffedce'))\n",
    "            \n",
    "        # Add repressor copy number to right plots\n",
    "        if j==2:\n",
    "            # Generate twin axis\n",
    "            axtwin = ax[i, j].twinx()\n",
    "            # Remove ticks\n",
    "            axtwin.get_yaxis().set_ticks([])\n",
    "            # Set label\n",
    "            axtwin.set_ylabel(r'rep. / cell = {:d}'.format(rep),\n",
    "                              bbox=dict(facecolor='#ffedce'))\n",
    "            # Remove residual ticks from the original left axis\n",
    "            ax[i, j].tick_params(color='w', width=0)\n",
    "\n",
    "        # Change scale of x axis\n",
    "        ax[i, j].set_xscale('symlog', linthreshx=0.1, linscalex=0.5)\n",
    "        \n",
    "# Change ylim\n",
    "# Adjust spacing between plots\n",
    "plt.subplots_adjust(hspace=0.05, wspace=0.05)\n",
    "\n",
    "# Save figure\n",
    "plt.savefig(figdir + 'channcap_dist_grid.pdf', bbox_inches='tight')"
   ]
  },
  {
   "cell_type": "markdown",
   "metadata": {},
   "source": [
    "We can see that there is a non-negligibe mass in in between the low and high concentrations for systemos with $\\gtrapprox$ 1 bit of information. This is expected exactly for systems that can process more than one bit of information since the choices are not longer binary."
   ]
  },
  {
   "cell_type": "markdown",
   "metadata": {},
   "source": [
    "## Extending the range or repressor copy numbers."
   ]
  },
  {
   "cell_type": "markdown",
   "metadata": {},
   "source": [
    "In order to explore the behavior of the curves we now extend the inference to larger repressor copy number counts. We have computed the constraints and Lagrange multipliers for distributions up to $10^6$ repressors per cell. Let's first read these multipliers."
   ]
  },
  {
   "cell_type": "code",
   "execution_count": null,
   "metadata": {},
   "outputs": [],
   "source": [
    "df_maxEnt_prot = pd.read_csv('../../data/csv_maxEnt_dist/' +\n",
    "                             'MaxEnt_Lagrange_mult_protein_ext_R.csv')"
   ]
  },
  {
   "cell_type": "markdown",
   "metadata": {},
   "source": [
    "Now we define the mRNA and protein space for the inferences."
   ]
  },
  {
   "cell_type": "code",
   "execution_count": null,
   "metadata": {},
   "outputs": [],
   "source": [
    "# Define sample space\n",
    "mRNA_space = np.array([0])\n",
    "protein_space = np.arange(0, 4E4)"
   ]
  },
  {
   "cell_type": "markdown",
   "metadata": {},
   "source": [
    "And we are ready to perform the computation."
   ]
  },
  {
   "cell_type": "code",
   "execution_count": null,
   "metadata": {},
   "outputs": [],
   "source": [
    "# Boolean to indicate if the computation should be performed or not\n",
    "compute_channcap = False\n",
    "\n",
    "if compute_channcap:\n",
    "    # Group df_maxEnt by operator and repressor copy number\n",
    "    df_group = df_maxEnt_prot.groupby(['operator', 'repressor'])\n",
    "\n",
    "    # Define column names for data frame\n",
    "    names = ['operator', 'binding_enery', 'repressor', \n",
    "             'channcap']\n",
    "\n",
    "    # Initialize data frame to save channel capacity computations\n",
    "    df_channcap = pd.DataFrame(columns=names)\n",
    "    \n",
    "    # Define function to compute in parallel the channel capacity\n",
    "    def cc_parallel(df_lagrange):\n",
    "\n",
    "        # Build mRNA transition matrix\n",
    "        Qpc = trans_matrix(df_lagrange, mRNA_space, protein_space, False)\n",
    "\n",
    "        # Compute the channel capacity with the Blahut-Arimoto algorithm\n",
    "        cc_p, _, _ = channel_capacity(Qpc.T)#, epsilon=1E-4)\n",
    "        \n",
    "        # Extract operator and repressor copy number\n",
    "        op = df_lagrange.operator.unique()[0]\n",
    "        eRA = df_lagrange.binding_energy.unique()[0]\n",
    "        rep = df_lagrange.repressor.unique()[0]\n",
    "        \n",
    "        return [op, eRA, rep, cc_p]\n",
    "    # Run the function in parallel\n",
    "    ccaps = Parallel(n_jobs=6)(delayed(cc_parallel)(df_lagrange)\n",
    "                                for group, df_lagrange in df_group)\n",
    "    \n",
    "    # Convert to tidy data frame\n",
    "    ccaps = pd.DataFrame(ccaps, columns=names)\n",
    "\n",
    "    # Concatenate to data frame\n",
    "    df_channcap = pd.concat([df_channcap, ccaps], axis=0)\n",
    "    \n",
    "    # Save results\n",
    "    df_channcap.to_csv('../../data/csv_maxEnt_dist/' + \n",
    "    'chann_cap_multi_prom_protein_ext_R.csv',\n",
    "                       index=False)\n",
    "\n",
    "df_cc_protein = pd.read_csv('../../data/csv_maxEnt_dist/' + \n",
    "                            'chann_cap_multi_prom_protein_ext_R.csv')\n",
    "\n",
    "df_cc_protein = df_cc_protein[df_cc_protein.channcap != np.inf]"
   ]
  },
  {
   "cell_type": "markdown",
   "metadata": {},
   "source": [
    "Let's now plot the results."
   ]
  },
  {
   "cell_type": "code",
   "execution_count": null,
   "metadata": {},
   "outputs": [],
   "source": [
    "# Group data by operator\n",
    "df_group = df_cc_protein.groupby('operator')\n",
    "\n",
    "# Define colors for each operator\n",
    "operators = df_cc_protein['operator'].unique()\n",
    "colors = sns.color_palette('colorblind', n_colors=len(operators))\n",
    "op_col_dict = dict(zip(operators, colors))\n",
    "\n",
    "# Define threshold for log vs linear section\n",
    "thresh = 1E0\n",
    "\n",
    "fig, ax = plt.subplots(1, 1, figsize=(4,3))\n",
    "for group, data in df_group:\n",
    "    # Select x and y data for smoothing\n",
    "    x = np.log10(data[data.repressor >= thresh].repressor.values)\n",
    "    y = data[data.repressor >= thresh].channcap.values\n",
    "    # Define lambda parameter for smoothing\n",
    "    lam = 0.16\n",
    "    # Smooth the channel capacity\n",
    "    channcap_gauss = ccutils.stats.nw_kernel_smooth(x, x, y,lam)\n",
    "    # Plot protein channel capacity\n",
    "    # Log scale\n",
    "    ax.plot(data[data.repressor >= thresh].repressor,\n",
    "               channcap_gauss, \n",
    "               label=op_dict[group], color=op_col_dict[group])\n",
    "    \n",
    "    \n",
    "#     ax.plot(data.repressor, data.channcap,\n",
    "#             label=op_dict[group], color=op_col_dict[group])\n",
    "\n",
    "# Label plot\n",
    "ax.set_xlabel('repressor copy number')\n",
    "ax.set_ylabel('channel capacity (bits)')\n",
    "ax.set_xscale('log')\n",
    "ax.legend(loc='lower right', title=r'$\\Delta\\epsilon_r \\; (k_BT)$')\n",
    "plt.savefig(figdir +  'chann_cap_ext_R.pdf', bbox_inches='tight')"
   ]
  },
  {
   "cell_type": "markdown",
   "metadata": {},
   "source": [
    "## Extending the range of inducer concentrations."
   ]
  },
  {
   "cell_type": "markdown",
   "metadata": {},
   "source": [
    "Let's perform the channel capacity calculations for input-output distirbutiosn inferred with a finer grid of inducer concentrations. First let's read the Lagrange multipliers."
   ]
  },
  {
   "cell_type": "code",
   "execution_count": null,
   "metadata": {},
   "outputs": [],
   "source": [
    "df_maxEnt_prot = pd.read_csv('../../data/csv_maxEnt_dist/' +\n",
    "                             'MaxEnt_Lagrange_mult_protein_IPTG_range.csv')"
   ]
  },
  {
   "cell_type": "markdown",
   "metadata": {},
   "source": [
    "Now we define the mRNA and protein space for the inferences."
   ]
  },
  {
   "cell_type": "code",
   "execution_count": null,
   "metadata": {},
   "outputs": [],
   "source": [
    "# Define sample space\n",
    "mRNA_space = np.array([0])\n",
    "protein_space = np.arange(0, 4E4)"
   ]
  },
  {
   "cell_type": "markdown",
   "metadata": {},
   "source": [
    "And we are ready to perform the computation."
   ]
  },
  {
   "cell_type": "code",
   "execution_count": null,
   "metadata": {},
   "outputs": [],
   "source": [
    "# Boolean to indicate if the computation should be performed or not\n",
    "compute_channcap = False\n",
    "\n",
    "if compute_channcap:\n",
    "    # Group df_maxEnt by operator and repressor copy number\n",
    "    df_group = df_maxEnt_prot.groupby(['operator', 'repressor'])\n",
    "\n",
    "    # Define column names for data frame\n",
    "    names = ['operator', 'binding_enery', 'repressor', \n",
    "             'channcap', 'pc']\n",
    "\n",
    "    # Initialize data frame to save channel capacity computations\n",
    "    df_channcap = pd.DataFrame(columns=names)\n",
    "    \n",
    "    # Define function to compute in parallel the channel capacity\n",
    "    def cc_parallel(df_lagrange):\n",
    "\n",
    "        # Build mRNA transition matrix\n",
    "        Qpc = trans_matrix(df_lagrange, mRNA_space, protein_space, False)\n",
    "\n",
    "        # Compute the channel capacity with the Blahut-Arimoto algorithm\n",
    "        cc_p, pc, _ = channel_capacity(Qpc.T)#, epsilon=1E-4)\n",
    "        \n",
    "        # Extract operator and repressor copy number\n",
    "        op = df_lagrange.operator.unique()[0]\n",
    "        eRA = df_lagrange.binding_energy.unique()[0]\n",
    "        rep = df_lagrange.repressor.unique()[0]\n",
    "        \n",
    "        return [op, eRA, rep, cc_p, pc]\n",
    "    # Run the function in parallel\n",
    "    ccaps = Parallel(n_jobs=6)(delayed(cc_parallel)(df_lagrange)\n",
    "                                for group, df_lagrange in df_group)\n",
    "    \n",
    "    # Convert to tidy data frame\n",
    "    ccaps = pd.DataFrame(ccaps, columns=names)\n",
    "\n",
    "    # Concatenate to data frame\n",
    "    df_channcap = pd.concat([df_channcap, ccaps], axis=0)\n",
    "    \n",
    "    # Save results\n",
    "    df_channcap.to_csv('../../data/csv_maxEnt_dist/' + \n",
    "    'chann_cap_multi_prom_protein_IPTG_range.csv',\n",
    "                       index=False)\n",
    "\n",
    "df_cc_protein = pd.read_csv('../../data/csv_maxEnt_dist/' + \n",
    "                            'chann_cap_multi_prom_protein_IPTG_range.csv')"
   ]
  },
  {
   "cell_type": "markdown",
   "metadata": {},
   "source": [
    "Let's now look at the input distributions at channel capacity with this finer grid of inducer concentrations."
   ]
  },
  {
   "cell_type": "code",
   "execution_count": null,
   "metadata": {},
   "outputs": [],
   "source": [
    "# Extract concentrations\n",
    "inducer = df_maxEnt_prot.inducer_uM.unique()\n",
    "\n",
    "# Define operators to be included\n",
    "operators = ['O1', 'O2', 'O3']\n",
    "\n",
    "# Define repressors to be included\n",
    "repressors = [22, 260, 1740]\n",
    "\n",
    "# Define color for operators\n",
    "# Generate list of colors\n",
    "col_list = ['Blues_r', 'Oranges_r', 'Greens_r']\n",
    "col_dict = dict(zip(operators, col_list))\n",
    "\n",
    "# Initialize plot\n",
    "fig, ax = plt.subplots(len(repressors), len(operators), figsize=(5, 5),\n",
    "                       sharex=True, sharey=True)\n",
    "\n",
    "# Loop through operators\n",
    "for j, op in enumerate(operators):\n",
    "    # Loop through repressors\n",
    "    for i, rep in enumerate(repressors):\n",
    "        # Extract example dist\n",
    "        dist = df_cc_protein[(df_cc_protein.repressor == rep) &\n",
    "                             (df_cc_protein.operator == op)]['pc'].values[0]\n",
    "        # Clean weird format of distribution\n",
    "        dist = dist.replace('\\n', '')\n",
    "        dist = dist.replace('[', '')\n",
    "        dist = dist.replace(']', '')\n",
    "        dist = [float(x) for x in dist.split(' ') if x != '']\n",
    "        # Extract channel capacity\n",
    "        cc = df_cc_protein[(df_cc_protein.repressor == rep) &\n",
    "                           (df_cc_protein.operator == op)]['channcap']\n",
    "\n",
    "        # Define colors for plot\n",
    "        colors = sns.color_palette(col_dict[op], n_colors=1)\n",
    "        \n",
    "        # Define width of bars\n",
    "        w = 0.13\n",
    "        width_fn = lambda p, w: 10**(np.log10(p)+w/2.)-10**(np.log10(p)-w/2.)\n",
    "\n",
    "        # Plot bars\n",
    "        # Log scale\n",
    "        ax[i, j].bar(inducer[1:], dist[1:], width=width_fn(inducer[1:], w), color=colors,\n",
    "                     linewidth=0.5, edgecolor='k')\n",
    "        # Linear scale\n",
    "        ax[i, j].bar(inducer[0], dist[0], width=w / 4.5, color=colors,\n",
    "                     linewidth=0.5, edgecolor='k')\n",
    "\n",
    "        # Add text indicating channel capacity\n",
    "        ax[i, j].text(0.5, .9, '{:.1f} bits'.format(float(cc)), \n",
    "                      horizontalalignment='center', verticalalignment='center', \n",
    "                      transform=ax[i, j].transAxes, fontsize=8)\n",
    "        \n",
    "        # Add x label to lower plots\n",
    "        if i==2:\n",
    "            ax[i, j].set_xlabel(r'IPTG [$\\mu$M]')\n",
    "        # Add y label to left plots\n",
    "        if j==0:\n",
    "            ax[i, j].set_ylabel(r'$P$(IPTG)')\n",
    "            \n",
    "        # Add operator top of colums\n",
    "        if i==0:\n",
    "            label = r'$\\Delta\\epsilon_r$ = {:.1f} $k_BT$'.\\\n",
    "                    format(df_maxEnt_prot.binding_energy.unique()[0])\n",
    "            ax[i, j].set_title(label, bbox=dict(facecolor='#ffedce'))\n",
    "            \n",
    "        # Add repressor copy number to right plots\n",
    "        if j==2:\n",
    "            # Generate twin axis\n",
    "            axtwin = ax[i, j].twinx()\n",
    "            # Remove ticks\n",
    "            axtwin.get_yaxis().set_ticks([])\n",
    "            # Set label\n",
    "            axtwin.set_ylabel(r'rep. / cell = {:d}'.format(rep),\n",
    "                              bbox=dict(facecolor='#ffedce'))\n",
    "            # Remove residual ticks from the original left axis\n",
    "            ax[i, j].tick_params(color='w', width=0)\n",
    "\n",
    "        # Change scale of x axis\n",
    "        ax[i, j].set_xscale('symlog', linthreshx=0.1, linscalex=0.5)\n",
    "        \n",
    "# Change ylim\n",
    "# Adjust spacing between plots\n",
    "plt.subplots_adjust(hspace=0.05, wspace=0.05)\n",
    "\n",
    "# Save figure\n",
    "plt.savefig(figdir + 'channcap_dist_fine_grid.pdf', bbox_inches='tight')"
   ]
  }
 ],
 "metadata": {
  "anaconda-cloud": {},
  "kernelspec": {
   "display_name": "Python 3",
   "language": "python",
   "name": "python3"
  },
  "language_info": {
   "codemirror_mode": {
    "name": "ipython",
    "version": 3
   },
   "file_extension": ".py",
   "mimetype": "text/x-python",
   "name": "python",
   "nbconvert_exporter": "python",
   "pygments_lexer": "ipython3",
   "version": "3.6.8"
  },
  "latex_envs": {
   "LaTeX_envs_menu_present": false,
   "autoclose": false,
   "autocomplete": false,
   "bibliofile": "biblio.bib",
   "cite_by": "apalike",
   "current_citInitial": 1,
   "eqLabelWithNumbers": true,
   "eqNumInitial": 1,
   "hotkeys": {
    "equation": "Ctrl-E",
    "itemize": "Ctrl-I"
   },
   "labels_anchors": false,
   "latex_user_defs": false,
   "report_style_numbering": false,
   "user_envs_cfg": false
  },
  "toc": {
   "nav_menu": {},
   "number_sections": false,
   "sideBar": false,
   "skip_h1_title": true,
   "title_cell": "Table of Contents",
   "title_sidebar": "Contents",
   "toc_cell": false,
   "toc_position": {},
   "toc_section_display": true,
   "toc_window_display": false
  }
 },
 "nbformat": 4,
 "nbformat_minor": 2
}
