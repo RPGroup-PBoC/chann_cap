{
 "cells": [
  {
   "cell_type": "markdown",
   "metadata": {},
   "source": [
    "# Gillespie simulation of the chemical master equation"
   ]
  },
  {
   "cell_type": "markdown",
   "metadata": {},
   "source": [
    "(c) 2019 Manuel Razo. This work is licensed under a [Creative Commons Attribution License CC-BY 4.0](https://creativecommons.org/licenses/by/4.0/). All code contained herein is licensed under an [MIT license](https://opensource.org/licenses/MIT). \n",
    "\n",
    "---"
   ]
  },
  {
   "cell_type": "code",
   "execution_count": 2,
   "metadata": {},
   "outputs": [],
   "source": [
    "import os\n",
    "import itertools\n",
    "import re\n",
    "\n",
    "# Our numerical workhorses\n",
    "import numpy as np\n",
    "import pandas as pd\n",
    "import scipy as sp\n",
    "import numba\n",
    "\n",
    "# Import libraries to parallelize processes\n",
    "from joblib import Parallel, delayed\n",
    "import multiprocessing\n",
    "\n",
    "# Import matplotlib stuff for plotting\n",
    "import matplotlib.pyplot as plt\n",
    "import matplotlib.cm as cm\n",
    "import matplotlib as mpl\n",
    "\n",
    "# Seaborn, useful for graphics\n",
    "import seaborn as sns\n",
    "# Increase DPI of displayed figures\n",
    "%config InlineBackend.figure_format = 'retina'\n",
    "\n",
    "# Import the project utils\n",
    "import sys\n",
    "sys.path.insert(0, '../../')\n",
    "import ccutils\n",
    "\n",
    "tmpdir = '../../tmp/'\n",
    "figdir = '../../fig/gillespie_simulation/'\n",
    "datadir = '../../data/csv_gillespie/'"
   ]
  },
  {
   "cell_type": "code",
   "execution_count": 3,
   "metadata": {},
   "outputs": [],
   "source": [
    "# Set PBoC plotting format\n",
    "ccutils.viz.set_plotting_style()\n",
    "# Increase dpi\n",
    "mpl.rcParams['figure.dpi'] = 110"
   ]
  },
  {
   "cell_type": "markdown",
   "metadata": {},
   "source": [
    "### $\\LaTeX$ macros\n",
    "\n",
    "$\\newcommand{kpon}{k^p_{\\text{on}}}$\n",
    "$\\newcommand{kpoff}{k^p_{\\text{off}}}$\n",
    "$\\newcommand{kron}{k^r_{\\text{on}}}$\n",
    "$\\newcommand{kroff}{k^r_{\\text{off}}}$\n",
    "$\\newcommand{rm}{r _m}$\n",
    "$\\newcommand{rp}{r _p}$\n",
    "$\\newcommand{gm}{\\gamma _m}$\n",
    "$\\newcommand{gp}{\\gamma _p}$\n",
    "$\\newcommand{mm}{\\left\\langle m \\right\\rangle}$\n",
    "$\\newcommand{foldchange}{\\text{fold-change}}$\n",
    "$\\newcommand{ee}[1]{\\left\\langle #1 \\right\\rangle}$\n",
    "$\\newcommand{bb}[1]{\\mathbf{#1}}$\n",
    "$\\newcommand{th}[1]{\\text{th}}$"
   ]
  },
  {
   "cell_type": "markdown",
   "metadata": {},
   "source": [
    "### Credit"
   ]
  },
  {
   "cell_type": "markdown",
   "metadata": {},
   "source": [
    "The implementation of the Gillespie algorithm in this notebook is entirely based on [Justin Bois'](http://bois.caltech.edu) tutorial that can be found [here](http://be150.caltech.edu/2017/handouts/gillespie_simulation.html)."
   ]
  },
  {
   "cell_type": "markdown",
   "metadata": {},
   "source": [
    "## Gillespie simulation of the chemical master equation"
   ]
  },
  {
   "cell_type": "markdown",
   "metadata": {},
   "source": [
    "As an alternative method to sample the joint mRNA protein distribution $P(m, p)$ we can use the Gillespie algorithm. This is a great alternative since the algorithm is widely used in many fields and therefore its intuitive implementation is familiar to a broad audience. Having said that, as we will show in this notebook, the algorithm can be computationally inefficient for large sample spaces since the number of computations that one has to generate to reliably sample the distribution usually grows as $N^2$ where $N$ is the sample space size."
   ]
  },
  {
   "cell_type": "markdown",
   "metadata": {},
   "source": [
    "### Propensities"
   ]
  },
  {
   "cell_type": "markdown",
   "metadata": {},
   "source": [
    "The basis of the algorithm is the computation of the transition probabilities between states, In the context of the algorithm we need to compute the so-called *propensities*. These propensities dictate how likely it is for each of the possible reactions to take place. Some of the propensities have a fix value and others are updated as the chemical species change their numbers. For example, the propensity of producing an mRNA can be considered fix for a single promoter since it is just given by the mRNA production rate $r_m$, while the propensity for an mRNA to be degraded changes as the number of mRNA changes since it is given by the product of the mRNA degradation rate $\\gm$ times the number of mRNAs $m$.\n",
    "\n",
    "In order to stochastically choose which reaction $i$ will take place in the next small time window $\\Delta t$ we then compute\n",
    "$$\n",
    "P_i = {a_i \\over \\sum_j a_j},\n",
    "$$\n",
    "where $a_i$ is the propensity of reaction $i$. In other words, the propensities are normalized by summing over all propensities of each of the possible reactions to assign a probability for each of the reactions of taking place."
   ]
  },
  {
   "cell_type": "markdown",
   "metadata": {},
   "source": [
    "### Reaction time"
   ]
  },
  {
   "cell_type": "markdown",
   "metadata": {},
   "source": [
    "For a particular reaction $i$ we need to determine how long it took for this state change to take place. For a given reaction $i$ the probability that it took place in time $t$ has an exponential distribution of the form\n",
    "$$\n",
    "P(t \\mid a_i) = a_i e^{- a_i t},\n",
    "$$\n",
    "since each of them are assumed to be Poission processes. That means that the probability that reaction $i$ **didn't take place** during the time window $\\Delta t$ as the form\n",
    "$$\n",
    "P(t > \\Delta t \\mid a_i) = \\int_{\\Delta t}^\\infty dt P(t \\mid a_i)\n",
    "= e^{- a_i \\Delta t}.\n",
    "$$\n",
    "\n",
    "If we have a total of $n$ possible reactions each with propensities $a_1, a_2, \\ldots, a_n$, the probability that none of them take place during the time window $\\Delta t$ is given by\n",
    "$$\n",
    "P(t_1 > \\Delta t, t_2 > \\Delta t, \\ldots, t_n > \\Delta t) =\n",
    "P(t_1 > \\Delta t) \\cdot P(t_2 > \\Delta t) \\cdots P(t_n > \\Delta t),\n",
    "$$\n",
    "since each of these reactions are independent. Substituting these probabilities gives\n",
    "$$\n",
    "P(t_1 > \\Delta t, t_2 > \\Delta t, \\ldots, t_n > \\Delta t) =\n",
    "\\prod_i e^{-a_i \\Delta t} = \\exp\\left[ - \\Delta t \\sum_i a_i \\right].\n",
    "$$\n",
    "This is the equivalent to having a single Poisson process with rate $a = \\sum_i a_i$ not arriving before time $\\Delta t$. That means that the probability that any of the reactions **does arrive** during time $\\Delta t$ is given by an exponential distribution with mean $\\ee{t} = \\left( \\sum_i a_i \\right)^{-1}$."
   ]
  },
  {
   "cell_type": "markdown",
   "metadata": {},
   "source": [
    "## The recipe for Gillespie's algorithm"
   ]
  },
  {
   "cell_type": "markdown",
   "metadata": {},
   "source": [
    "This result leaves us with a simple recipe to implement Gillespie's algorithm:\n",
    "1. Choose initial conditions for the value of the chemical species.\n",
    "2. Calculate the propensity of each of the possible state changes.\n",
    "3. Compute the time that it took for a reaction to take place by sampling out of an exponential distribution with mean $\\ee{t} = \\left( \\sum_i a_i \\right){-1}$.\n",
    "4. Choose which reaction takes place by sampling out of the discrete distribution wit probabilities $P_i = a_i / \\sum_j a_j$.\n",
    "5. Update the time step by the chosen $\\Delta t$.\n",
    "6. Update the states according to the reaction chosed in step 4.\n",
    "7. If $t$ is less than predetermined stopping time, go to step 2 and repeat."
   ]
  },
  {
   "cell_type": "markdown",
   "metadata": {},
   "source": [
    "## Test: Two-state promoter mRNA level"
   ]
  },
  {
   "cell_type": "markdown",
   "metadata": {},
   "source": [
    "To test our implementation of the Gillespie algorithm we'll start with a two-state promoter producing mRNA at rate $r_m$, degrading it at rate $\\gm$ and transitioning between states with rates $\\kpon$ and $\\kpoff$. The first thing we do is enconde the updates to the element counts."
   ]
  },
  {
   "cell_type": "code",
   "execution_count": 5,
   "metadata": {},
   "outputs": [],
   "source": [
    "# Column 0 is change in active promoter\n",
    "# Column 1 is change in inactive promoter\n",
    "# Column 2 is change in mRNA counts\n",
    "simple_update = np.array([[1, -1, 0],  # Transition from inactive to active\n",
    "                          [-1, 1, 0],  # Transition from active to inactive\n",
    "                          [0, 0, 1],   # Production of mRNA\n",
    "                          [0, 0, -1]], # Degradation of mRNA\n",
    "                        dtype=np.int)"
   ]
  },
  {
   "cell_type": "markdown",
   "metadata": {},
   "source": [
    "Now we define a function that computes the propensity of each of these reactions. Notice that we will keep the state of the promoter as a chemical species that we track. Also notice that the propensity of the mRNA production is a product of the mRNA transcription rate $r_m$ times the counts of the active promoter state. Since this count can only be either 0 or 1, this indicates that an mRNA can only be produced if the promoter is in the active state."
   ]
  },
  {
   "cell_type": "code",
   "execution_count": 6,
   "metadata": {},
   "outputs": [],
   "source": [
    "def simple_propensity(population, kpon, kpoff, rm, gm):\n",
    "    '''\n",
    "    Returns an array of the propensities given a set of parameters for a \n",
    "    two-sate promoter at the mRNA level\n",
    "    \n",
    "    Parameters\n",
    "    ----------\n",
    "    population : array-like.\n",
    "        State of the molecule count for each of the species involved in the\n",
    "        reaction. [active_promoter, inactive_promoter, mRNA]\n",
    "    kpon, kpoff : float.\n",
    "        Rates of transition between active and inactive promoter.\n",
    "    rm, gm : float.\n",
    "        Rate of mRNA production and degradation respectively.\n",
    "        \n",
    "    Returns\n",
    "    -------\n",
    "    propensities : array-like\n",
    "        Propensities for each of the reactions.\n",
    "    '''\n",
    "    # Unpack population\n",
    "    a_prom, i_prom, m = population\n",
    "    \n",
    "    return np.array([kpon,  # Transition from inactive to active\n",
    "                     kpoff,  # Transition from active to inactive\n",
    "                     a_prom * rm,  # Production of mRNA\n",
    "                     gm * m]  # Degradation m RNA\n",
    "                   )"
   ]
  },
  {
   "cell_type": "markdown",
   "metadata": {},
   "source": [
    "### Making a draw"
   ]
  },
  {
   "cell_type": "markdown",
   "metadata": {},
   "source": [
    "The Gillespie algorithm relies on generating (pseudo-)random numbers in order to decide which reaction takes place and "
   ]
  }
 ],
 "metadata": {
  "kernelspec": {
   "display_name": "Python 3",
   "language": "python",
   "name": "python3"
  },
  "language_info": {
   "codemirror_mode": {
    "name": "ipython",
    "version": 3
   },
   "file_extension": ".py",
   "mimetype": "text/x-python",
   "name": "python",
   "nbconvert_exporter": "python",
   "pygments_lexer": "ipython3",
   "version": "3.6.8"
  }
 },
 "nbformat": 4,
 "nbformat_minor": 2
}
