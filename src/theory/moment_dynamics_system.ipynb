{
 "cells": [
  {
   "cell_type": "markdown",
   "metadata": {},
   "source": [
    "# Moment dynamics generation"
   ]
  },
  {
   "cell_type": "markdown",
   "metadata": {},
   "source": [
    "(c) 2019 Manuel Razo. This work is licensed under a [Creative Commons Attribution License CC-BY 4.0](https://creativecommons.org/licenses/by/4.0/). All code contained herein is licensed under an [MIT license](https://opensource.org/licenses/MIT). \n",
    "\n",
    "---"
   ]
  },
  {
   "cell_type": "code",
   "execution_count": 1,
   "metadata": {},
   "outputs": [],
   "source": [
    "import pickle\n",
    "\n",
    "# Library that we will use to export lambdify functions\n",
    "import cloudpickle\n",
    "\n",
    "# Library we'll use to generate possible pairs of numbers\n",
    "import itertools \n",
    "\n",
    "# Numerical workhorse\n",
    "import numpy as np\n",
    "import pandas as pd\n",
    "import scipy as sp\n",
    "\n",
    "# To compute symbolic expressions\n",
    "import sympy\n",
    "sympy.init_printing(use_unicode=True, use_latex=True) # print outputs in LaTeX\n",
    "\n",
    "# Import matplotlib stuff for plotting\n",
    "import matplotlib.pyplot as plt\n",
    "import matplotlib.cm as cm\n",
    "import matplotlib as mpl\n",
    "\n",
    "# Seaborn, useful for graphics\n",
    "import seaborn as sns\n",
    "\n",
    "# Import the project utils\n",
    "import ccutils\n",
    "\n",
    "# Magic function to make matplotlib inline\n",
    "%matplotlib inline\n",
    "\n",
    "# This enables high resolution graphics inline. \n",
    "%config InlineBackend.figure_format = 'retina'\n",
    "\n",
    "tmpdir = '../../tmp/'"
   ]
  },
  {
   "cell_type": "code",
   "execution_count": 2,
   "metadata": {},
   "outputs": [],
   "source": [
    "# Set PBoC plotting format\n",
    "ccutils.viz.set_plotting_style()\n",
    "# Increase dpi\n",
    "mpl.rcParams['figure.dpi'] = 110"
   ]
  },
  {
   "cell_type": "markdown",
   "metadata": {},
   "source": [
    "### $\\LaTeX$ macros\n",
    "$\\newcommand{kpon}{k^{(p)}_{\\text{on}}}$\n",
    "$\\newcommand{kpoff}{k^{(p)}_{\\text{off}}}$\n",
    "$\\newcommand{kron}{k^{(r)}_{\\text{on}}}$\n",
    "$\\newcommand{kroff}{k^{(r)}_{\\text{off}}}$\n",
    "$\\newcommand{rm}{r _m}$\n",
    "$\\newcommand{gm}{\\gamma _m}$\n",
    "$\\newcommand{ee}[1]{\\left\\langle #1 \\right\\rangle}$\n",
    "$\\newcommand{bb}[1]{\\mathbf{#1}}$\n",
    "$\\newcommand{th}[1]{{#1}^{\\text{th}}}$\n",
    "$\\newcommand{dt}[1]{{\\partial{#1} \\over \\partial t}}$\n",
    "$\\newcommand{Km}{\\bb{K}}$\n",
    "$\\newcommand{Rm}{\\bb{R}_m}$\n",
    "$\\newcommand{Re}{\\bb{R}_m'}$\n",
    "$\\newcommand{Gm}{\\bb{\\Gamma}_m}$\n",
    "$\\newcommand{Rp}{\\bb{R}_p}$\n",
    "$\\newcommand{Gp}{\\bb{\\Gamma}_p}$"
   ]
  },
  {
   "cell_type": "markdown",
   "metadata": {},
   "source": [
    "## General moment equation for simple repression architecture"
   ]
  },
  {
   "cell_type": "markdown",
   "metadata": {},
   "source": [
    "For our system the master equation that describes the time evolution of the distribution is defined by either two or three differential equations, one for each state of the promoter such that\n",
    "\n",
    "$$\n",
    "P(m, p) = \\sum_{s\\in \\text{states}} P_s(m, p),\n",
    "\\tag{1}\n",
    "$$\n",
    "where $s \\in \\{A, I, R\\}$ defines the state $A =$ transcriptionally active, $I =$ transcriptionally inactive state, and $R =$ repressor bound. The third state is only include in the case where there is transcription factor present. Without loss of generality let's focus here on the three-state promoter. The results for the two-state promoter written in matrix notation look the same, only the definition of the matrices change. Let $\\bb{P}(m, p) = (P_A(m, p), P_I(m, p), P_R(m, p))^T$ be the vector containing all distributions. Using this notation the system of PDEs that define the distribution is given by\n",
    "\n",
    "$$\n",
    "\\dt{\\bb{P}(m, p)} = \\overbrace{\n",
    "\\left(\\Km - \\Rm - m\\Gm - m\\Rp -p\\Gp \\right) \\bb{P}(m, p)\n",
    "}^{\\text{exit state }m,p}\\\\\n",
    "\\overbrace{\n",
    "+ \\Rm \\bb{P}(m-1, p) + \\Gm (m + 1) \\bb{P}(m+1, p)\\\\\n",
    "+ \\Rp (m) \\bb{P}(m, p-1) + \\Gm (p + 1) \\bb{P}(m, p+1)\n",
    "}^{\\text{enter state }m,p},\n",
    "\\label{master_matrix}\n",
    "\\tag{2}\n",
    "$$\n",
    "where $\\Km$ is the matrix defining transition rates between states, $\\Rm$ and $\\Gm$ are the matrices defining the production and degradation rates of mRNA respectively, and $\\Rp$ and $\\Gp$ are the equivalent matrices for the production and degradation of protein."
   ]
  },
  {
   "cell_type": "markdown",
   "metadata": {},
   "source": [
    "Given this birth-death process with three different states of the promoter if we compute a moment $\\ee{m^x p^y}$ we need to compute\n",
    "\n",
    "$$\n",
    "\\ee{m^x p^y} = \\ee{m^x p^y}_A + \\ee{m^x p^y}_I + \\ee{m^x p^y}_R,\n",
    "\\tag{3}\n",
    "$$\n",
    "i.e. the moment at each of the states of the promoter. Let \n",
    "$\\bb{\\ee{m^x p^y}} = \\left(\\ee{m^x p^y}_A, \\ee{m^x p^y}_I, \\ee{m^x p^y}_R\\right)^T$ be a vector containing all three moments. The moment PDE is then given by\n",
    "\n",
    "$$\n",
    "\\dt{\\bb{\\ee{m^x p^y}}} = \\dt{} \\left[ \\sum_m \\sum_p m^x p^y \\bb{P}(m,p)\\right].\n",
    "\\tag{4}\n",
    "$$"
   ]
  },
  {
   "cell_type": "markdown",
   "metadata": {},
   "source": [
    "Applying this sum over all mRNA and protein counts we obtain\n",
    "\n",
    "$$\n",
    "\\dt{\\bb{\\ee{m^x p^y}}} = \n",
    "\\sum_m \\sum_p \\left(\\Km - \\Rm - m\\Gm - m\\Rp -p\\Gp \\right)m^x p^y \\bb{P}(m, p)\\\\\n",
    "\\overbrace{\n",
    "+ \\Rm \\sum_m \\sum_p m^x p^y \\bb{P}(m-1, p) \n",
    "}^{1}\n",
    "\\overbrace{\n",
    "+ \\Gm \\sum_m \\sum_p (m + 1) m^x p^y \\bb{P}(m+1, p)\n",
    "}^{2}\\\\\n",
    "\\overbrace{\n",
    "+ \\Rp \\sum_m \\sum_p (m) m^x p^y \\bb{P}(m, p-1) \n",
    "}^{3}\n",
    "\\overbrace{\n",
    "+ \\Gm \\sum_m \\sum_p (p + 1) m^x p^y \\bb{P}(m, p+1)\n",
    "}^{4}.\n",
    "\\tag{5}\n",
    "$$\n",
    "Each of the numbered terms have stereotypical \"tricks\" to simplify them. Let's list them (derivation left elsewhere):\n",
    "\n",
    "$$\n",
    "1: m' \\equiv m - 1\\\\\n",
    "\\Rightarrow\n",
    "\\sum_m \\sum_p m^x p^y \\bb{P}(m-1, p) = \n",
    "\\sum_{m'} \\sum_p (m' + 1)^x p^y \\bb{P}(m', p) = \\\\\n",
    "\\bb{\\ee{(m+1)^x p^y}},\n",
    "\\tag{6}\n",
    "$$\n",
    "\n",
    "$$\n",
    "2: m' \\equiv m + 1\\\\\n",
    "\\Rightarrow\n",
    "\\sum_m \\sum_p (m + 1) m^x p^y \\bb{P}(m + 1, p) = \n",
    "\\sum_{m'} \\sum_p m' (m' - 1)^x p^y \\bb{P}(m', p) = \\\\\n",
    "\\bb{\\ee{m (m - 1)^x p^y}},\n",
    "\\tag{7}\n",
    "$$\n",
    "\n",
    "$$\n",
    "3: p' \\equiv p - 1\\\\\n",
    "\\Rightarrow\n",
    "\\sum_m \\sum_p (m) m^x p^y \\bb{P}(m, p-1) =\n",
    "\\sum_m \\sum_{p'} m^{x + 1} (p' + 1)^y \\bb{P}(m, p') = \\\\\n",
    "\\bb{\\ee{m^{x + 1} (p +  1)^{y}}},\n",
    "\\tag{8}\n",
    "$$\n",
    "\n",
    "$$\n",
    "4: p' \\equiv p + 1\\\\\n",
    "\\Rightarrow\n",
    "\\sum_m \\sum_p (p + 1) m^x p^y \\bb{P}(m, p+1) =\n",
    "\\sum_m \\sum_{p'} p' m^x (p' - 1)^y \\bb{P}(m, p') = \\\\\n",
    "\\bb{\\ee{m^x p (p - 1)^y}}.\n",
    "\\tag{9}\n",
    "$$"
   ]
  },
  {
   "cell_type": "markdown",
   "metadata": {},
   "source": [
    "Given these tricks we can write a **general** form for the moment PDE given by\n",
    "$$\n",
    "\\dt{\\bb{\\ee{m^x p^y}}} =\n",
    "\\Km \\bb{\\ee{m^x p^y}} +\\\\\n",
    "\\Rm \\left[ \\bb{\\ee{(m+1)^x p^y}} - \\bb{\\ee{m^x p^y}} \\right] +\\\\\n",
    "\\Gm \\left[ \\bb{\\ee{m (m - 1)^x p^y}} - \\bb{\\ee{m^{x + 1} p^y}} \\right] +\\\\\n",
    "\\Rp \\left[ \\bb{\\ee{m^{x + 1} (p +  1)^{y}}} - \\bb{\\ee{m^{x+1} p^y}} \\right] +\\\\\n",
    "\\Gp \\left[ \\bb{\\ee{m^x p (p - 1)^y}} - \\bb{\\ee{m^x p^{y+1}}} \\right]\n",
    "\\tag{10}\n",
    "$$"
   ]
  },
  {
   "cell_type": "markdown",
   "metadata": {},
   "source": [
    "It can be shown that all moments $\\bb{\\ee{m^x p^y}}$ depend only on moments $\\bb{\\ee{m'^x p'^y}}$ such that two conditions are satisfied:\n",
    "\n",
    "\\begin{equation}\n",
    "  \\begin{aligned}\n",
    "    &1) y' \\leq y,\\\\\n",
    "  &2) x' + y' \\leq x + y.\n",
    "  \\end{aligned}\n",
    "  \\tag{11}\n",
    "\\end{equation}\n",
    "\n",
    "What this implies is that this system has no moment closure problem since all moments depend only on lower degree moments. We can use this to our advantage to generate a general moment dynamics equation."
   ]
  },
  {
   "cell_type": "markdown",
   "metadata": {},
   "source": [
    "### General moment dynamics"
   ]
  },
  {
   "cell_type": "markdown",
   "metadata": {},
   "source": [
    "Let $\\bb{\\mu^{(x, y)}}$ be a vector containing all moments up to $\\bb{\\ee{m^x p^y}}$ for all promoter states. This is\n",
    "\n",
    "$$\n",
    "\\bb{\\mu^{(x, y)}} = \\left[ \\bb{\\ee{m^0 p^0}}, \\bb{\\ee{m^1 p^0}}, \\ldots \\bb{\\ee{m^x p^y}} \\right]^T.\n",
    "\\tag{12}\n",
    "$$\n",
    "Explicitly for the three-state promoter this vector looks like\n",
    "\n",
    "$$\n",
    "\\bb{\\mu^{(\\bb{x, y})}} = \\left[ \\ee{m^0 p^0}_A, \\ee{m^0 p^0}_I, \\ee{m^0 p^0}_R, \\ldots,\n",
    "                 \\ee{m^x p^y}_A, \\ee{m^x p^y}_I, \\ee{m^x p^y}_R \\right]^T.\n",
    "\\tag{13}\n",
    "$$\n",
    "Given this definition we can define the general moment dynamics in matrix notation as\n",
    "\n",
    "$$\n",
    "\\dt{\\mu^{(\\bb{x, y})}} = \\bb{A \\mu^{(\\bb{x, y})}} + \\bb{\\nu},\n",
    "\\tag{14}\n",
    "$$\n",
    "where $\\bb{A}$ is a square matrix that contains all the connections in the network, i.e. the numeric coefficients that relate each of the moments, and $\\bb{\\nu}$ is a vector of constant terms.\n"
   ]
  },
  {
   "cell_type": "markdown",
   "metadata": {},
   "source": [
    "## Using `sympy` to compute moments"
   ]
  },
  {
   "cell_type": "markdown",
   "metadata": {},
   "source": [
    "The objective of this notebook is to generate the matrix $\\bb{A}$ and the vector $\\bb{\\nu}$ from the general moment equation derived earlier."
   ]
  },
  {
   "cell_type": "markdown",
   "metadata": {},
   "source": [
    "### Define general moment equation."
   ]
  },
  {
   "cell_type": "markdown",
   "metadata": {},
   "source": [
    "Let's define the `sympy` variables that we will need for the moment equation.\n",
    "\n",
    "First we define the variables for the matrices."
   ]
  },
  {
   "cell_type": "code",
   "execution_count": 3,
   "metadata": {},
   "outputs": [
    {
     "data": {
      "image/png": "[encoded data removed]",
      "text/latex": [
       "$$\\left ( {\\mathbf{K}}, \\quad {\\mathbf{R}_m}, \\quad {\\mathbf{\\Gamma}_m}, \\quad {\\mathbf{R}_p}, \\quad {\\mathbf{\\Gamma}_p}\\right )$$"
      ],
      "text/plain": [
       "({\\mathbf{K}}, {\\mathbf{R}_m}, {\\mathbf{\\Gamma}_m}, {\\mathbf{R}_p}, {\\mathbf{\\\n",
       "Gamma}_p})"
      ]
     },
     "execution_count": 3,
     "metadata": {},
     "output_type": "execute_result"
    }
   ],
   "source": [
    "# Define the matrices involved in the general moment equation\n",
    "Km = sympy.Symbol('{\\mathbf{K}}')  # State transition matrix\n",
    "Rm, Gm = sympy.symbols('{\\mathbf{R}_m} {\\mathbf{\\Gamma}_m}')  # mRNA matrices\n",
    "Rp, Gp = sympy.symbols('{\\mathbf{R}_p} {\\mathbf{\\Gamma}_p}')  # protein matrices\n",
    "\n",
    "Km, Rm, Gm, Rp, Gp"
   ]
  },
  {
   "cell_type": "markdown",
   "metadata": {},
   "source": [
    "Let's define the variables that go into the matrices."
   ]
  },
  {
   "cell_type": "code",
   "execution_count": 4,
   "metadata": {},
   "outputs": [
    {
     "data": {
      "image/png": "[encoded data removed]",
      "text/latex": [
       "$$\\left ( {k_{off}^{(p)}}, \\quad {k_{on}^{(p)}}, \\quad {k_{off}^{(r)}}, \\quad {k_{on}^{(r)}}, \\quad r_{m}, \\quad \\gamma_{m}, \\quad r_{p}, \\quad \\gamma_{p}\\right )$$"
      ],
      "text/plain": [
       "({k_{off}__{(p)}}, {k_{on}__{(p)}}, {k_{off}__{(r)}}, {k_{on}__{(r)}}, rₘ, γₘ,\n",
       " rₚ, γₚ)"
      ]
     },
     "execution_count": 4,
     "metadata": {},
     "output_type": "execute_result"
    }
   ],
   "source": [
    "# Define rate constant variables\n",
    "kp_off, kp_on = sympy.symbols('{k_{off}^{(p)}} {k_{on}^{(p)}}')\n",
    "kr_off, kr_on = sympy.symbols('{k_{off}^{(r)}} {k_{on}^{(r)}}')\n",
    "\n",
    "# Define degradation rate and production rate\n",
    "rm, gm = sympy.symbols('r_m gamma_m')\n",
    "rp, gp = sympy.symbols('r_p gamma_p')\n",
    "\n",
    "kp_off, kp_on, kr_off, kr_on, rm, gm, rp, gp"
   ]
  },
  {
   "cell_type": "markdown",
   "metadata": {},
   "source": [
    "Now we define the mRNA and exponent variables"
   ]
  },
  {
   "cell_type": "code",
   "execution_count": 5,
   "metadata": {},
   "outputs": [
    {
     "data": {
      "image/png": "[encoded data removed]",
      "text/latex": [
       "$$\\left ( {\\mathbf{m}}^{{\\mathbf{x}}}, \\quad {\\mathbf{p}}^{{\\mathbf{y}}}, \\quad t, \\quad m, \\quad p\\right )$$"
      ],
      "text/plain": [
       "⎛            {\\mathbf{x}}              {\\mathbf{y}}         ⎞\n",
       "⎝{\\mathbf{m}}            , {\\mathbf{p}}            , t, m, p⎠"
      ]
     },
     "execution_count": 5,
     "metadata": {},
     "output_type": "execute_result"
    }
   ],
   "source": [
    "# Define the mRNA and protein variables\n",
    "m, p, = sympy.symbols('{\\mathbf{m}} {\\mathbf{p}}')\n",
    "x, y = sympy.symbols('{\\mathbf{x}} {\\mathbf{y}}')\n",
    "\n",
    "# As an extra variable let's define the time t\n",
    "t = sympy.symbols('t')\n",
    "\n",
    "# Let's also define the non-vector varirables for\n",
    "# mRNA and protein\n",
    "mm, pp = sympy.symbols('m p')\n",
    "\n",
    "m**x, p**y, t, mm, pp"
   ]
  },
  {
   "cell_type": "markdown",
   "metadata": {},
   "source": [
    "Let's now define the right hand side of the general moment equation."
   ]
  },
  {
   "cell_type": "code",
   "execution_count": 6,
   "metadata": {},
   "outputs": [
    {
     "data": {
      "image/png": "[encoded data removed]",
      "text/latex": [
       "$${\\mathbf{K}} {\\mathbf{m}}^{{\\mathbf{x}}} {\\mathbf{p}}^{{\\mathbf{y}}} + {\\mathbf{R}_m} {\\mathbf{p}}^{{\\mathbf{y}}} \\left(- {\\mathbf{m}}^{{\\mathbf{x}}} + \\left({\\mathbf{m}} + 1\\right)^{{\\mathbf{x}}}\\right) + {\\mathbf{R}_p} {\\mathbf{m}}^{{\\mathbf{x}} + 1} \\left(- {\\mathbf{p}}^{{\\mathbf{y}}} + \\left({\\mathbf{p}} + 1\\right)^{{\\mathbf{y}}}\\right) + {\\mathbf{\\Gamma}_m} {\\mathbf{m}} {\\mathbf{p}}^{{\\mathbf{y}}} \\left(- {\\mathbf{m}}^{{\\mathbf{x}}} + \\left({\\mathbf{m}} - 1\\right)^{{\\mathbf{x}}}\\right) + {\\mathbf{\\Gamma}_p} {\\mathbf{m}}^{{\\mathbf{x}}} {\\mathbf{p}} \\left(- {\\mathbf{p}}^{{\\mathbf{y}}} + \\left({\\mathbf{p}} - 1\\right)^{{\\mathbf{y}}}\\right)$$"
      ],
      "text/plain": [
       "                         {\\mathbf{x}}             {\\mathbf{y}}                \n",
       "{\\mathbf{K}}⋅{\\mathbf{m}}            ⋅{\\mathbf{p}}             + {\\mathbf{R}_m\n",
       "\n",
       "              {\\mathbf{y}} ⎛              {\\mathbf{x}}                     {\\m\n",
       "}⋅{\\mathbf{p}}            ⋅⎝- {\\mathbf{m}}             + ({\\mathbf{m}} + 1)   \n",
       "\n",
       "athbf{x}}⎞                              {\\mathbf{x}} + 1 ⎛              {\\math\n",
       "         ⎠ + {\\mathbf{R}_p}⋅{\\mathbf{m}}                ⋅⎝- {\\mathbf{p}}      \n",
       "\n",
       "bf{y}}                     {\\mathbf{y}}⎞                                      \n",
       "       + ({\\mathbf{p}} + 1)            ⎠ + {\\mathbf{\\Gamma}_m}⋅{\\mathbf{m}}⋅{\\\n",
       "\n",
       "          {\\mathbf{y}} ⎛              {\\mathbf{x}}                     {\\mathb\n",
       "mathbf{p}}            ⋅⎝- {\\mathbf{m}}             + ({\\mathbf{m}} - 1)       \n",
       "\n",
       "f{x}}⎞                                   {\\mathbf{x}}              ⎛          \n",
       "     ⎠ + {\\mathbf{\\Gamma}_p}⋅{\\mathbf{m}}            ⋅{\\mathbf{p}}⋅⎝- {\\mathbf\n",
       "\n",
       "    {\\mathbf{y}}                     {\\mathbf{y}}⎞\n",
       "{p}}             + ({\\mathbf{p}} - 1)            ⎠"
      ]
     },
     "execution_count": 6,
     "metadata": {},
     "output_type": "execute_result"
    }
   ],
   "source": [
    "# Defining the general master moment equation\n",
    "master_moment = Km * (m**x * p**y) +\\\n",
    "Rm * (p**y) * ((m + 1)**x - m**x) +\\\n",
    "Gm * (m * p**y) * ((m - 1)**x - m**x) +\\\n",
    "Rp * m**(x + 1) * ((p + 1)**y - p**y) +\\\n",
    "Gp * (m**x * p) * ((p - 1)**y - p**y)\n",
    "\n",
    "master_moment"
   ]
  },
  {
   "cell_type": "markdown",
   "metadata": {},
   "source": [
    "Having defined this equation now all we need to do to obtain any moment equation is to substitute $\\bb{x}$ and $\\bb{y}$. As a sanity check let's look at some examples that we already know the answer. Let's look at the first mRNA moment."
   ]
  },
  {
   "cell_type": "code",
   "execution_count": 7,
   "metadata": {},
   "outputs": [
    {
     "data": {
      "image/png": "[encoded data removed]",
      "text/latex": [
       "$${\\mathbf{R}_m} + {\\mathbf{m}} \\left({\\mathbf{K}} - {\\mathbf{\\Gamma}_m}\\right)$$"
      ],
      "text/plain": [
       "{\\mathbf{R}_m} + {\\mathbf{m}}⋅({\\mathbf{K}} - {\\mathbf{\\Gamma}_m})"
      ]
     },
     "execution_count": 7,
     "metadata": {},
     "output_type": "execute_result"
    }
   ],
   "source": [
    "# Define the first mRNA moment <m> equation\n",
    "master_moment.subs([[x, 1], [y, 0]]).factor([m, p])"
   ]
  },
  {
   "cell_type": "markdown",
   "metadata": {},
   "source": [
    "The term with $\\Rm$ only is actually $\\Rm \\bb{m}^0$ which is exactly what one obtains when solving for this particular moment.\n",
    "\n",
    "Let's look now at the second protein moment."
   ]
  },
  {
   "cell_type": "code",
   "execution_count": 8,
   "metadata": {},
   "outputs": [
    {
     "data": {
      "image/png": "[encoded data removed]",
      "text/latex": [
       "$$2 {\\mathbf{R}_p} {\\mathbf{m}} {\\mathbf{p}} + {\\mathbf{R}_p} {\\mathbf{m}} + {\\mathbf{\\Gamma}_p} {\\mathbf{p}} + {\\mathbf{p}}^{2} \\left({\\mathbf{K}} - 2 {\\mathbf{\\Gamma}_p}\\right)$$"
      ],
      "text/plain": [
       "                                                                              \n",
       "2⋅{\\mathbf{R}_p}⋅{\\mathbf{m}}⋅{\\mathbf{p}} + {\\mathbf{R}_p}⋅{\\mathbf{m}} + {\\m\n",
       "\n",
       "                                            2                                 \n",
       "athbf{\\Gamma}_p}⋅{\\mathbf{p}} + {\\mathbf{p}} ⋅({\\mathbf{K}} - 2⋅{\\mathbf{\\Gamm\n",
       "\n",
       "      \n",
       "a}_p})"
      ]
     },
     "execution_count": 8,
     "metadata": {},
     "output_type": "execute_result"
    }
   ],
   "source": [
    "master_moment.subs([[x, 0], [y, 2]]).factor([m, p])"
   ]
  },
  {
   "cell_type": "markdown",
   "metadata": {},
   "source": [
    "This is again the answer one gets performing the calculation specifically for this moment."
   ]
  },
  {
   "cell_type": "markdown",
   "metadata": {},
   "source": [
    "### Extract coefficients of moment polynomial equation."
   ]
  },
  {
   "cell_type": "markdown",
   "metadata": {},
   "source": [
    "Let's now define a function that given an expression for a moment it returns a dictionary with all the coefficients of each of the elements in the equation. For example for the previous example of the second protein moment it should return something of the form\n",
    "\n",
    "$$\n",
    "\\{\n",
    "\\bb{p}^2 : (\\Km - 2\\Gm), \\;\\;\n",
    "\\bb{p} : \\Gp, \\;\\;\n",
    "\\bb{mp} : 2\\Rp, \\;\\;\n",
    "\\bb{m} : \\Rp\n",
    "\\}\n",
    "\\tag{15}\n",
    "$$\n",
    "\n",
    "This will be useful for when we substitute the matrices and vectors to solve the linear system."
   ]
  },
  {
   "cell_type": "code",
   "execution_count": 9,
   "metadata": {},
   "outputs": [],
   "source": [
    "def coeff_dictionary(eq):\n",
    "    '''\n",
    "    Returns a dictionary with each of the coefficients for a given eqent\n",
    "    equation.\n",
    "\n",
    "    Parameter\n",
    "    ---------\n",
    "    eq : sympy expression.\n",
    "        Sympy expression for the eqent equation\n",
    "\n",
    "    Returns\n",
    "    -------\n",
    "    coeff_dict : dictionary.\n",
    "        Dictionary containing all the coefficients of each of the elements\n",
    "        in the polynomial eqent equation\n",
    "    '''\n",
    "    # Find the degree of the eqent for each of the variables\n",
    "    if eq.has(m):\n",
    "        m_degree = sympy.Poly(eq).degree(m)\n",
    "    else:\n",
    "        m_degree = 0\n",
    "    if eq.has(p):\n",
    "        p_degree = sympy.Poly(eq).degree(p)\n",
    "    else:\n",
    "        p_degree = 0\n",
    "    \n",
    "    return {m**x * p**y: eq.coeff(m**x * p**y).\\\n",
    "            subs([[m, 0], [p, 0]])\n",
    "            for x in range(m_degree + 1)\n",
    "            for y in range(p_degree + 1)}"
   ]
  },
  {
   "cell_type": "markdown",
   "metadata": {},
   "source": [
    "Let's test the function."
   ]
  },
  {
   "cell_type": "code",
   "execution_count": 10,
   "metadata": {},
   "outputs": [
    {
     "data": {
      "image/png": "[encoded data removed]",
      "text/latex": [
       "$$\\left \\{ 1 : 0, \\quad {\\mathbf{m}} : {\\mathbf{R}_p}, \\quad {\\mathbf{p}} : {\\mathbf{\\Gamma}_p}, \\quad {\\mathbf{p}}^{2} : {\\mathbf{K}} - 2 {\\mathbf{\\Gamma}_p}, \\quad {\\mathbf{m}} {\\mathbf{p}} : 2 {\\mathbf{R}_p}, \\quad {\\mathbf{m}} {\\mathbf{p}}^{2} : 0\\right \\}$$"
      ],
      "text/plain": [
       "⎧                                                                             \n",
       "⎨1: 0, {\\mathbf{m}}: {\\mathbf{R}_p}, {\\mathbf{p}}: {\\mathbf{\\Gamma}_p}, {\\math\n",
       "⎩                                                                             \n",
       "\n",
       "      2                                                                       \n",
       "bf{p}} : {\\mathbf{K}} - 2⋅{\\mathbf{\\Gamma}_p}, {\\mathbf{m}}⋅{\\mathbf{p}}: 2⋅{\\\n",
       "                                                                              \n",
       "\n",
       "                                       2   ⎫\n",
       "mathbf{R}_p}, {\\mathbf{m}}⋅{\\mathbf{p}} : 0⎬\n",
       "                                           ⎭"
      ]
     },
     "execution_count": 10,
     "metadata": {},
     "output_type": "execute_result"
    }
   ],
   "source": [
    "p2_dict = coeff_dictionary(master_moment.subs([[x, 0], [y, 2]]).factor([m, p]))\n",
    "p2_dict"
   ]
  },
  {
   "cell_type": "markdown",
   "metadata": {},
   "source": [
    "### Substituting definition of matrices"
   ]
  },
  {
   "cell_type": "markdown",
   "metadata": {},
   "source": [
    "We now have the functions to use the general moment equation to obtain the coefficients for a specific moment. In order to assemble the matrix $\\bb{A}$ we need to substitute the definition of the matrices $\\Km$, $\\Rm$, $\\Gm$, $\\Rp$, and $\\Gp$ to convert from the matrix notation to the actual matrix."
   ]
  },
  {
   "cell_type": "markdown",
   "metadata": {},
   "source": [
    "**NOTE:** on `sympy` getting to substitute a term like $(\\Km - \\Gm)$ with the corresponding matrices and then actually doing the subtraction is unfortunately very convoluted. If you want to reproduce this make sure you follow the instructions."
   ]
  },
  {
   "cell_type": "code",
   "execution_count": 11,
   "metadata": {},
   "outputs": [],
   "source": [
    "def coeff_subs(coeff_dict, Km_mat, Rm_mat, Gm_mat, Rp_mat, Gp_mat):\n",
    "    '''\n",
    "\n",
    "    Parameters\n",
    "    ----------\n",
    "    coeff_dict : dictionary.\n",
    "        Dictionary containing all the coefficients associated with each of the\n",
    "        moments in the moment equation.\n",
    "    Km_mat, Rm_mat, Gm_mat, Rp_mat, Gp_mat: 2D sympy matrices.\n",
    "        Sympy matrices that define the master equation.\n",
    "        Km_mat : transition between states\n",
    "        Rm_mat : mRNA produciton\n",
    "        Gm_mat : mRNA degradation\n",
    "        Rp_mat : protein production\n",
    "        Gp_mat : protein degradation\n",
    "\n",
    "    Returns\n",
    "    -------\n",
    "    mom_mat_dict : dictionary.\n",
    "        Dictionary containing each of the substitutted coefficients into matrices\n",
    "    '''\n",
    "    # Initialize dictionary to save the matrices\n",
    "    mom_mat_dict = dict()\n",
    "\n",
    "    # Loop through each of the coefficients and compute the operation\n",
    "    # NOTE: It is quite tricky to get it to work on sympy\n",
    "    for key, value in coeff_dict.items():\n",
    "        # Extract arguments for the item\n",
    "        args = value.args\n",
    "\n",
    "        # Check each of the possible cases\n",
    "\n",
    "        # 1. args is empty and value is zero :\n",
    "        # That is a term of the form {key : 0}\n",
    "        # Generate a matrix of zeros\n",
    "        if (len(args) == 0) & (value == 0):\n",
    "            mom_mat_dict[key] = sympy.zeros(*Km_mat.shape)\n",
    "\n",
    "        # 2. args is empty and value is not zero :\n",
    "        # That is the case where the term is a single matrix\n",
    "        # Substitute that value with the actual definition of the matrix\n",
    "        elif (len(args) == 0) & (value != 0):\n",
    "            mom_mat_dict[key] = value.subs([[Km, Km_mat],\n",
    "                                            [Rm, Rm_mat],\n",
    "                                            [Gm, Gm_mat],\n",
    "                                            [Rp, Rp_mat],\n",
    "                                            [Gp, Gp_mat]])\n",
    "\n",
    "        # 3. args is not empty but one of the terms is an integer :\n",
    "        # That is the case where we have Number * Matrix.\n",
    "        # substitute the matrix and multiply it by the number\n",
    "        elif (len(args) != 0) & (any([x.is_Number for x in args])):\n",
    "            # Substitute value\n",
    "            term_list = [x.subs([[Km, Km_mat],\n",
    "                                 [Rm, Rm_mat],\n",
    "                                 [Gm, Gm_mat],\n",
    "                                 [Rp, Rp_mat],\n",
    "                                 [Gp, Gp_mat]]) for x in value.args]\n",
    "            # Multiply matrix by constant and register case\n",
    "            mom_mat_dict[key] = np.prod(term_list)\n",
    "\n",
    "        # 4. args is not empty and non of the elements is an integer :\n",
    "        # Substitute matrices and reduce to single matrix.\n",
    "        else:\n",
    "            term_list = [x.subs([[Km, Km_mat],\n",
    "                                 [Rm, Rm_mat],\n",
    "                                 [Gm, Gm_mat],\n",
    "                                 [Rp, Rp_mat],\n",
    "                                 [Gp, Gp_mat]]) for x in value.args]\n",
    "\n",
    "            # Perform a second round of checking. Elements that have for example\n",
    "            # Number * Matrix are not explicitly multiplied. For this we will use\n",
    "            # np.prod by splitting the terms again into its arguments and\n",
    "            # multiplying the the arguments\n",
    "            for i, term in enumerate(term_list):\n",
    "                if len(term.args) == 2:\n",
    "                    term_list[i] = np.prod(term.args)\n",
    "\n",
    "            # Add the matrices. In order to do so:\n",
    "            # the sum function has an optional \"start\" argument so you can\n",
    "            # initialize it with a \"zero object\" of the kind you are adding.\n",
    "            # In this case, with a zero matrix.\n",
    "            mom_mat_dict[key] = sum(term_list, sympy.zeros(*Km_mat.shape))\n",
    "            \n",
    "    return mom_mat_dict"
   ]
  },
  {
   "cell_type": "markdown",
   "metadata": {},
   "source": [
    "Let's test the matrix by defining the corresponding matrices for the three-state system."
   ]
  },
  {
   "cell_type": "code",
   "execution_count": 12,
   "metadata": {},
   "outputs": [
    {
     "data": {
      "image/png": "[encoded data removed]",
      "text/latex": [
       "$$\\left ( \\left[\\begin{matrix}- {k_{off}^{(p)}} & {k_{on}^{(p)}} & 0\\\\{k_{off}^{(p)}} & - {k_{on}^{(p)}} - {k_{on}^{(r)}} & {k_{off}^{(r)}}\\\\0 & {k_{on}^{(r)}} & - {k_{off}^{(r)}}\\end{matrix}\\right], \\quad \\left[\\begin{matrix}r_{m} & 0 & 0\\\\0 & 0 & 0\\\\0 & 0 & 0\\end{matrix}\\right], \\quad \\left[\\begin{matrix}\\gamma_{m} & 0 & 0\\\\0 & \\gamma_{m} & 0\\\\0 & 0 & \\gamma_{m}\\end{matrix}\\right], \\quad \\left[\\begin{matrix}r_{p} & 0 & 0\\\\0 & r_{p} & 0\\\\0 & 0 & r_{p}\\end{matrix}\\right], \\quad \\left[\\begin{matrix}\\gamma_{p} & 0 & 0\\\\0 & \\gamma_{p} & 0\\\\0 & 0 & \\gamma_{p}\\end{matrix}\\right]\\right )$$"
      ],
      "text/plain": [
       "⎛⎡-{k_{off}__{(p)}}           {k_{on}__{(p)}}                    0        ⎤  ⎡\n",
       "⎜⎢                                                                        ⎥  ⎢\n",
       "⎜⎢{k_{off}__{(p)}}   -{k_{on}__{(p)}} - {k_{on}__{(r)}}  {k_{off}__{(r)}} ⎥, ⎢\n",
       "⎜⎢                                                                        ⎥  ⎢\n",
       "⎝⎣        0                   {k_{on}__{(r)}}            -{k_{off}__{(r)}}⎦  ⎣\n",
       "\n",
       "rₘ  0  0⎤  ⎡γₘ  0   0 ⎤  ⎡rₚ  0   0 ⎤  ⎡γₚ  0   0 ⎤⎞\n",
       "        ⎥  ⎢          ⎥  ⎢          ⎥  ⎢          ⎥⎟\n",
       "0   0  0⎥, ⎢0   γₘ  0 ⎥, ⎢0   rₚ  0 ⎥, ⎢0   γₚ  0 ⎥⎟\n",
       "        ⎥  ⎢          ⎥  ⎢          ⎥  ⎢          ⎥⎟\n",
       "0   0  0⎦  ⎣0   0   γₘ⎦  ⎣0   0   rₚ⎦  ⎣0   0   γₚ⎦⎠"
      ]
     },
     "execution_count": 12,
     "metadata": {},
     "output_type": "execute_result"
    }
   ],
   "source": [
    "# Define the rate constant matrix\n",
    "Km_reg = sympy.Matrix([[-kp_off, kp_on, 0], \n",
    "                         [kp_off, -(kp_on + kr_on), kr_off],\n",
    "                         [0, kr_on, -kr_off]])\n",
    "# Define the production matrix\n",
    "Rm_reg = sympy.Matrix([[rm, 0, 0],\n",
    "                       [0, 0, 0],\n",
    "                       [0, 0, 0]])\n",
    "# Define the degradation matrix\n",
    "Gm_reg = sympy.Matrix([[gm, 0, 0],\n",
    "                       [0, gm, 0],\n",
    "                       [0, 0, gm]])\n",
    "\n",
    "# Define the production matrix\n",
    "Rp_reg = sympy.Matrix([[rp, 0, 0],\n",
    "                       [0, rp, 0],\n",
    "                       [0, 0, rp]])\n",
    "\n",
    "# Define the production matrix\n",
    "Gp_reg = sympy.Matrix([[gp, 0, 0],\n",
    "                       [0, gp, 0],\n",
    "                       [0, 0, gp]])\n",
    "\n",
    "\n",
    "Km_reg, Rm_reg, Gm_reg, Rp_reg, Gp_reg"
   ]
  },
  {
   "cell_type": "markdown",
   "metadata": {},
   "source": [
    "Having defined these matrices, let's substitute it into the second-moment example we have been working with so far."
   ]
  },
  {
   "cell_type": "code",
   "execution_count": 13,
   "metadata": {},
   "outputs": [
    {
     "data": {
      "image/png": "[encoded data removed]",
      "text/latex": [
       "$$\\left \\{ 1 : \\left[\\begin{matrix}0 & 0 & 0\\\\0 & 0 & 0\\\\0 & 0 & 0\\end{matrix}\\right], \\quad {\\mathbf{m}} : \\left[\\begin{matrix}r_{p} & 0 & 0\\\\0 & r_{p} & 0\\\\0 & 0 & r_{p}\\end{matrix}\\right], \\quad {\\mathbf{p}} : \\left[\\begin{matrix}\\gamma_{p} & 0 & 0\\\\0 & \\gamma_{p} & 0\\\\0 & 0 & \\gamma_{p}\\end{matrix}\\right], \\quad {\\mathbf{p}}^{2} : \\left[\\begin{matrix}- 2 \\gamma_{p} - {k_{off}^{(p)}} & {k_{on}^{(p)}} & 0\\\\{k_{off}^{(p)}} & - 2 \\gamma_{p} - {k_{on}^{(p)}} - {k_{on}^{(r)}} & {k_{off}^{(r)}}\\\\0 & {k_{on}^{(r)}} & - 2 \\gamma_{p} - {k_{off}^{(r)}}\\end{matrix}\\right], \\quad {\\mathbf{m}} {\\mathbf{p}} : \\left[\\begin{matrix}2 r_{p} & 0 & 0\\\\0 & 2 r_{p} & 0\\\\0 & 0 & 2 r_{p}\\end{matrix}\\right], \\quad {\\mathbf{m}} {\\mathbf{p}}^{2} : \\left[\\begin{matrix}0 & 0 & 0\\\\0 & 0 & 0\\\\0 & 0 & 0\\end{matrix}\\right]\\right \\}$$"
      ],
      "text/plain": [
       "⎧   ⎡0  0  0⎤                ⎡rₚ  0   0 ⎤                ⎡γₚ  0   0 ⎤         \n",
       "⎪   ⎢       ⎥                ⎢          ⎥                ⎢          ⎥         \n",
       "⎨1: ⎢0  0  0⎥, {\\mathbf{m}}: ⎢0   rₚ  0 ⎥, {\\mathbf{p}}: ⎢0   γₚ  0 ⎥, {\\mathb\n",
       "⎪   ⎢       ⎥                ⎢          ⎥                ⎢          ⎥         \n",
       "⎩   ⎣0  0  0⎦                ⎣0   0   rₚ⎦                ⎣0   0   γₚ⎦         \n",
       "\n",
       "        ⎡-2⋅γₚ - {k_{off}__{(p)}}               {k_{on}__{(p)}}               \n",
       "     2  ⎢                                                                     \n",
       "f{p}} : ⎢    {k_{off}__{(p)}}      -2⋅γₚ - {k_{on}__{(p)}} - {k_{on}__{(r)}}  \n",
       "        ⎢                                                                     \n",
       "        ⎣           0                           {k_{on}__{(r)}}               \n",
       "\n",
       "           0            ⎤                             ⎡2⋅rₚ   0     0  ⎤      \n",
       "                        ⎥                             ⎢                ⎥      \n",
       "    {k_{off}__{(r)}}    ⎥, {\\mathbf{m}}⋅{\\mathbf{p}}: ⎢ 0    2⋅rₚ   0  ⎥, {\\ma\n",
       "                        ⎥                             ⎢                ⎥      \n",
       "-2⋅γₚ - {k_{off}__{(r)}}⎦                             ⎣ 0     0    2⋅rₚ⎦      \n",
       "\n",
       "                        ⎡0  0  0⎤⎫\n",
       "                     2  ⎢       ⎥⎪\n",
       "thbf{m}}⋅{\\mathbf{p}} : ⎢0  0  0⎥⎬\n",
       "                        ⎢       ⎥⎪\n",
       "                        ⎣0  0  0⎦⎭"
      ]
     },
     "execution_count": 13,
     "metadata": {},
     "output_type": "execute_result"
    }
   ],
   "source": [
    "p2_coeff_dict = coeff_subs(p2_dict, Km_reg, Rm_reg, Gm_reg,\n",
    "                           Rp_reg, Gp_reg)\n",
    "\n",
    "p2_coeff_dict"
   ]
  },
  {
   "cell_type": "markdown",
   "metadata": {},
   "source": [
    "### Systematically finding the moments necessary to solve for $\\bb{\\ee{m^x p^y}}$"
   ]
  },
  {
   "cell_type": "markdown",
   "metadata": {},
   "source": [
    "We established that a moment of the form $\\bb{\\ee{m^x p^y}}$ depends on lower moments that satisfy two conditions. We need to define a function that given the largest moment $\\bb{\\ee{m^x p^y}}$ to be included in the matrix it finds all of the moments $\\bb{\\ee{m^{x'} p^{y'}}}$ that satisfy such conditions."
   ]
  },
  {
   "cell_type": "code",
   "execution_count": 14,
   "metadata": {},
   "outputs": [],
   "source": [
    "def expo_pairs(m_expo, p_expo):\n",
    "    '''\n",
    "    Finds all of the pairs of exponents x', y' that are necessary to compute the\n",
    "    moment <m**m_expo * p**p_expo> that satisfy the necessary conditions:\n",
    "    1) y' <= p_expo\n",
    "    2) x' + y' <= m_expo + p_expo\n",
    "    Parameters\n",
    "    ----------\n",
    "    m_expo, p_expo: int.\n",
    "        Exponents of the highest moment to be included in the system.\n",
    "        m_expo corresponds to the mRNA exponent\n",
    "        p_expo corresponds to the protein exponent\n",
    "        \n",
    "    Returns\n",
    "    -------\n",
    "    pairs : list.\n",
    "        List of sorted exponent pairs necessary for the computation\n",
    "    NOTE: The sorting (which is not a necessary feature) given the general\n",
    "    form of the equation only works up to the moment <m**0 * p**p_expo>.\n",
    "    Any moment with x'>0 and y'=p_expo will be out of order appended at\n",
    "    the end of the list.\n",
    "    '''\n",
    "    # Find all possible pair of exponents that satisfy\n",
    "    # x' + y' <= m_expo + p_expo\n",
    "    expo_pairs = list(itertools.permutations(range(m_expo + p_expo + 1), 2))\n",
    "\n",
    "    # Add the (num, num) pair that are not being included\n",
    "    expo_pairs = expo_pairs + [tuple([s, s]) for s in \n",
    "                               range(max([m_expo, p_expo]) + 1)]\n",
    "\n",
    "    # Remove pairs that do not satisfy the condition\n",
    "    # y' <= p_expo\n",
    "    expo_pairs = [s for s in expo_pairs if s[1] <= p_expo]\n",
    "\n",
    "    # Remove pairs that do not satisfy the condition\n",
    "    # x' <= m_expo + 1\n",
    "#     expo_pairs = [x for x in expo_pairs if x[0] <= m_expo + 1]\n",
    "\n",
    "    # # Remove pairs that do not satisfy the condition\n",
    "    # x' + y' <= m_expo + p_expo\n",
    "    expo_pairs = [s for s in expo_pairs if sum(s) <= m_expo + p_expo]\n",
    "\n",
    "    ##  Moment sorting ##\n",
    "    # Initialize list to append sorted moments\n",
    "    expo_sorted = list()\n",
    "\n",
    "    # Append mRNA moments\n",
    "    mRNA_mom = sorted([s for s in expo_pairs if s[1] == 0])\n",
    "    expo_sorted.append(mRNA_mom)\n",
    "\n",
    "    # Find each protein moment\n",
    "    protein_mom = sorted([s for s in expo_pairs if (s[0] == 0) & (s[1] != 0)])\n",
    "\n",
    "    # Loop through each protein moment and find the cross correlations\n",
    "    # associated with it\n",
    "    for pr in protein_mom:\n",
    "        cross_corr = sorted([s for s in expo_pairs\n",
    "                             if (s[0] > 0) & (s[1] > 0) & (sum(s) == pr[1])],\n",
    "                            reverse=True)\n",
    "        # append it to the list\n",
    "        expo_sorted.append(cross_corr)\n",
    "        expo_sorted.append([pr])\n",
    "\n",
    "    expo_sorted = list(itertools.chain.from_iterable(expo_sorted))\n",
    "\n",
    "    # Append the other terms that are missing\n",
    "    missing = [s for s in expo_pairs if s not in expo_sorted]\n",
    "    \n",
    "    return expo_sorted + missing"
   ]
  },
  {
   "cell_type": "markdown",
   "metadata": {},
   "source": [
    "Let's test the function by finding the moments that would be needed to obtain the second moment of the protein distribution."
   ]
  },
  {
   "cell_type": "code",
   "execution_count": 15,
   "metadata": {},
   "outputs": [
    {
     "data": {
      "image/png": "[encoded data removed]",
      "text/latex": [
       "$$\\left [ \\left ( 0, \\quad 0\\right ), \\quad \\left ( 1, \\quad 0\\right ), \\quad \\left ( 2, \\quad 0\\right ), \\quad \\left ( 0, \\quad 1\\right ), \\quad \\left ( 1, \\quad 1\\right ), \\quad \\left ( 0, \\quad 2\\right )\\right ]$$"
      ],
      "text/plain": [
       "[(0, 0), (1, 0), (2, 0), (0, 1), (1, 1), (0, 2)]"
      ]
     },
     "execution_count": 15,
     "metadata": {},
     "output_type": "execute_result"
    }
   ],
   "source": [
    "# Define exponents for highest moment to be inferred\n",
    "m_expo, p_expo = 0, 2\n",
    "\n",
    "# Find the list of moments that need to be computed\n",
    "expo_pairs(m_expo, p_expo)"
   ]
  },
  {
   "cell_type": "markdown",
   "metadata": {},
   "source": [
    "These are indeed the necessary moments to compute the protein second moment. Now that we can generate this list we are able to build our matrix $\\bb{A}$ by iteratively substitute these exponents on the general moment equation and fill the corresponding entries on the matrix."
   ]
  },
  {
   "cell_type": "code",
   "execution_count": 16,
   "metadata": {},
   "outputs": [],
   "source": [
    "def A_matrix_gen(m_expo, p_expo, Km, Rm, Gm, Rp, Gp):\n",
    "    '''\n",
    "    Generates the matrix A to compute the moment dynamics of the form\n",
    "    dµ/dt = A * µ\n",
    "    It is basically a collection of the coefficients that go along\n",
    "    each moment.\n",
    "    \n",
    "    Parameters\n",
    "    ----------\n",
    "    m_expo, p_expo: int.\n",
    "        Exponents of the highest moment to be included in the system.\n",
    "        m_expo corresponds to the mRNA exponent\n",
    "        p_expo corresponds to the protein exponent\n",
    "    Kmat : array-like.\n",
    "        Matrix containing the transition rates between the promoter states.\n",
    "    Rm : array-like.\n",
    "        Matrix containing the mRNA production rate at each of the states.\n",
    "    Gm : array-like.\n",
    "        Matrix containing the mRNA degradation rate at each of the states.   \n",
    "    Rp : array-like.\n",
    "        Matrix containing the protein production rate at each of the states.\n",
    "    Gp : array-like.\n",
    "        Matrix containing the protein degradation rate at each of the states. \n",
    "    \n",
    "    Returns\n",
    "    -------\n",
    "    A_matrix : 2D-array.\n",
    "        Sympy matrix containing all of the coefficients to compute the \n",
    "        moment dynamics.\n",
    "    exponents : list.\n",
    "        List of exponents as they are computed in the dynamics\n",
    "    '''\n",
    "    # Define number of dimensions\n",
    "    n_dim = Km.shape[0]\n",
    "    \n",
    "    # Find exponents of moments needed to be computed\n",
    "    exponents = expo_pairs(m_expo, p_expo)\n",
    "\n",
    "    # Initalize matrix A\n",
    "    A_matrix = sympy.Matrix(np.zeros([len(exponents) * n_dim,\n",
    "                                      len(exponents) * n_dim]))\n",
    "\n",
    "    # Generate dictionary that saves position of each moment\n",
    "    # on the matrix\n",
    "    idx_dict = {e: [i * n_dim, (i * n_dim) + (n_dim)] for\n",
    "                i, e in enumerate(exponents)}\n",
    "\n",
    "    # Loop through moments to subsittute exopnents into\n",
    "    # general moment equation\n",
    "    for i, (mexp, pexp) in enumerate(exponents):\n",
    "        # Substitute exponents into general moment equation\n",
    "        mom_eq = master_moment.subs([[x, mexp], [y, pexp]]).\\\n",
    "                               factor([m, p])\n",
    "        # Obtain coefficients of equation\n",
    "        mom_coeff = coeff_dictionary(mom_eq)\n",
    "        # Substitute coefficients with matrices\n",
    "        mom_subs = coeff_subs(mom_coeff, Km, \n",
    "                              Rm, Gm, Rp, Gp)\n",
    "        # Find row index on matrix A for substitutions\n",
    "        row_idx = idx_dict[(mexp, pexp)]\n",
    "        # Loop through coefficients to make substitutions\n",
    "        for key, value in mom_subs.items():\n",
    "            # Find exponents of the moment\n",
    "            if key.has(m):\n",
    "                m_degree = sympy.Poly(key).degree(m)\n",
    "            else:\n",
    "                m_degree = 0\n",
    "            if key.has(p):\n",
    "                p_degree = sympy.Poly(key).degree(p)\n",
    "            else:\n",
    "                p_degree = 0\n",
    "\n",
    "            # Check if moment included in mom_sub.\n",
    "            # Sometimes extra moments with no values are added\n",
    "            if (m_degree, p_degree) in exponents:\n",
    "                # Find index for columns\n",
    "                col_idx = idx_dict[(m_degree, p_degree)]\n",
    "                # Substitute values in corresponding entries\n",
    "                A_matrix[row_idx[0]:row_idx[1], \n",
    "                         col_idx[0]:col_idx[1]] = value\n",
    "                \n",
    "    return A_matrix, exponents"
   ]
  },
  {
   "cell_type": "markdown",
   "metadata": {},
   "source": [
    "Let's test the function for a small case that we can visualize. Let's build the matrix to compute up to the first protein moment"
   ]
  },
  {
   "cell_type": "code",
   "execution_count": 17,
   "metadata": {},
   "outputs": [
    {
     "data": {
      "image/png": "[encoded data removed]",
      "text/latex": [
       "$$\\left[\\begin{matrix}- {k_{off}^{(p)}} & {k_{on}^{(p)}} & 0 & 0.0 & 0.0 & 0.0 & 0.0 & 0.0 & 0.0\\\\{k_{off}^{(p)}} & - {k_{on}^{(p)}} - {k_{on}^{(r)}} & {k_{off}^{(r)}} & 0.0 & 0.0 & 0.0 & 0.0 & 0.0 & 0.0\\\\0 & {k_{on}^{(r)}} & - {k_{off}^{(r)}} & 0.0 & 0.0 & 0.0 & 0.0 & 0.0 & 0.0\\\\r_{m} & 0 & 0 & - \\gamma_{m} - {k_{off}^{(p)}} & {k_{on}^{(p)}} & 0 & 0.0 & 0.0 & 0.0\\\\0 & 0 & 0 & {k_{off}^{(p)}} & - \\gamma_{m} - {k_{on}^{(p)}} - {k_{on}^{(r)}} & {k_{off}^{(r)}} & 0.0 & 0.0 & 0.0\\\\0 & 0 & 0 & 0 & {k_{on}^{(r)}} & - \\gamma_{m} - {k_{off}^{(r)}} & 0.0 & 0.0 & 0.0\\\\0 & 0 & 0 & r_{p} & 0 & 0 & - \\gamma_{p} - {k_{off}^{(p)}} & {k_{on}^{(p)}} & 0\\\\0 & 0 & 0 & 0 & r_{p} & 0 & {k_{off}^{(p)}} & - \\gamma_{p} - {k_{on}^{(p)}} - {k_{on}^{(r)}} & {k_{off}^{(r)}}\\\\0 & 0 & 0 & 0 & 0 & r_{p} & 0 & {k_{on}^{(r)}} & - \\gamma_{p} - {k_{off}^{(r)}}\\end{matrix}\\right]$$"
      ],
      "text/plain": [
       "⎡-{k_{off}__{(p)}}           {k_{on}__{(p)}}                    0             \n",
       "⎢                                                                             \n",
       "⎢{k_{off}__{(p)}}   -{k_{on}__{(p)}} - {k_{on}__{(r)}}  {k_{off}__{(r)}}      \n",
       "⎢                                                                             \n",
       "⎢        0                   {k_{on}__{(r)}}            -{k_{off}__{(r)}}     \n",
       "⎢                                                                             \n",
       "⎢       rₘ                          0                           0          -γₘ\n",
       "⎢                                                                             \n",
       "⎢        0                          0                           0             \n",
       "⎢                                                                             \n",
       "⎢        0                          0                           0             \n",
       "⎢                                                                             \n",
       "⎢        0                          0                           0             \n",
       "⎢                                                                             \n",
       "⎢        0                          0                           0             \n",
       "⎢                                                                             \n",
       "⎣        0                          0                           0             \n",
       "\n",
       "      0.0                              0.0                             0.0    \n",
       "                                                                              \n",
       "      0.0                              0.0                             0.0    \n",
       "                                                                              \n",
       "      0.0                              0.0                             0.0    \n",
       "                                                                              \n",
       " - {k_{off}__{(p)}}              {k_{on}__{(p)}}                        0     \n",
       "                                                                              \n",
       "{k_{off}__{(p)}}     -γₘ - {k_{on}__{(p)}} - {k_{on}__{(r)}}     {k_{off}__{(r\n",
       "                                                                              \n",
       "       0                         {k_{on}__{(r)}}              -γₘ - {k_{off}__\n",
       "                                                                              \n",
       "       rₚ                               0                               0     \n",
       "                                                                              \n",
       "       0                               rₚ                               0     \n",
       "                                                                              \n",
       "       0                                0                               rₚ    \n",
       "\n",
       "                 0.0                              0.0                         \n",
       "                                                                              \n",
       "                 0.0                              0.0                         \n",
       "                                                                              \n",
       "                 0.0                              0.0                         \n",
       "                                                                              \n",
       "                 0.0                              0.0                         \n",
       "                                                                              \n",
       ")}}              0.0                              0.0                         \n",
       "                                                                              \n",
       "{(r)}}           0.0                              0.0                         \n",
       "                                                                              \n",
       "        -γₚ - {k_{off}__{(p)}}              {k_{on}__{(p)}}                   \n",
       "                                                                              \n",
       "           {k_{off}__{(p)}}     -γₚ - {k_{on}__{(p)}} - {k_{on}__{(r)}}     {k\n",
       "                                                                              \n",
       "                  0                         {k_{on}__{(r)}}              -γₚ -\n",
       "\n",
       "    0.0          ⎤\n",
       "                 ⎥\n",
       "    0.0          ⎥\n",
       "                 ⎥\n",
       "    0.0          ⎥\n",
       "                 ⎥\n",
       "    0.0          ⎥\n",
       "                 ⎥\n",
       "    0.0          ⎥\n",
       "                 ⎥\n",
       "    0.0          ⎥\n",
       "                 ⎥\n",
       "     0           ⎥\n",
       "                 ⎥\n",
       "_{off}__{(r)}}   ⎥\n",
       "                 ⎥\n",
       " {k_{off}__{(r)}}⎦"
      ]
     },
     "execution_count": 17,
     "metadata": {},
     "output_type": "execute_result"
    }
   ],
   "source": [
    "# Generate matrix for the first protein moment\n",
    "A_mat, expo = A_matrix_gen(0, 1, Km_reg, Rm_reg, Gm_reg, Rp_reg, Gp_reg)\n",
    "\n",
    "A_mat"
   ]
  },
  {
   "cell_type": "markdown",
   "metadata": {},
   "source": [
    "Having built this matrix let's now generate $\\bb{A}$ for the following cases:\n",
    "1. unregulated promoter:\n",
    "\n",
    "    A. mRNA up to $\\bb{\\ee{m^6}}$\n",
    "    \n",
    "    B. protein up to $\\bb{\\ee{p^6}}$\n",
    "\n",
    "2. regulated promoter:\n",
    "\n",
    "    A. mRNA up to $\\bb{\\ee{m^6}}$\n",
    "    \n",
    "    B. protein up to $\\bb{\\ee{p^6}}$\n",
    "\n",
    "We will save the results as a `lambdify` function that we can import into other notebooks."
   ]
  },
  {
   "cell_type": "markdown",
   "metadata": {},
   "source": [
    "Let's first define the matrices for the unregulated case"
   ]
  },
  {
   "cell_type": "code",
   "execution_count": 18,
   "metadata": {},
   "outputs": [
    {
     "data": {
      "image/png": "[encoded data removed]",
      "text/latex": [
       "$$\\left ( \\left[\\begin{matrix}- {k_{off}^{(p)}} & {k_{on}^{(p)}}\\\\{k_{off}^{(p)}} & - {k_{on}^{(p)}}\\end{matrix}\\right], \\quad \\left[\\begin{matrix}r_{m} & 0\\\\0 & 0\\end{matrix}\\right], \\quad \\left[\\begin{matrix}\\gamma_{m} & 0\\\\0 & \\gamma_{m}\\end{matrix}\\right], \\quad \\left[\\begin{matrix}r_{p} & 0\\\\0 & r_{p}\\end{matrix}\\right], \\quad \\left[\\begin{matrix}\\gamma_{p} & 0\\\\0 & \\gamma_{p}\\end{matrix}\\right]\\right )$$"
      ],
      "text/plain": [
       "⎛⎡-{k_{off}__{(p)}}  {k_{on}__{(p)}} ⎤  ⎡rₘ  0⎤  ⎡γₘ  0 ⎤  ⎡rₚ  0 ⎤  ⎡γₚ  0 ⎤⎞\n",
       "⎜⎢                                   ⎥, ⎢     ⎥, ⎢      ⎥, ⎢      ⎥, ⎢      ⎥⎟\n",
       "⎝⎣{k_{off}__{(p)}}   -{k_{on}__{(p)}}⎦  ⎣0   0⎦  ⎣0   γₘ⎦  ⎣0   rₚ⎦  ⎣0   γₚ⎦⎠"
      ]
     },
     "execution_count": 18,
     "metadata": {},
     "output_type": "execute_result"
    }
   ],
   "source": [
    "# Define the rate constant matrix\n",
    "Km_unreg = sympy.Matrix([[-kp_off, kp_on], \n",
    "                           [kp_off, -kp_on]])\n",
    "# Define the mRNA production matrix\n",
    "Rm_unreg = sympy.Matrix([[rm, 0], \n",
    "                         [0, 0]])\n",
    "# Define the mRNA degradation matrix\n",
    "Gm_unreg = sympy.Matrix([[gm, 0],\n",
    "                         [0, gm]])\n",
    "\n",
    "# Define the protein production matrix\n",
    "Rp_unreg = sympy.Matrix([[rp, 0], \n",
    "                         [0, rp]])\n",
    "# Define the protein degradation matrix\n",
    "Gp_unreg = sympy.Matrix([[gp, 0],\n",
    "                         [0, gp]])\n",
    "\n",
    "\n",
    "Km_unreg, Rm_unreg, Gm_unreg, Rp_unreg, Gp_unreg"
   ]
  },
  {
   "cell_type": "markdown",
   "metadata": {},
   "source": [
    "Now let's generate the dynamics for the unregulated case."
   ]
  },
  {
   "cell_type": "code",
   "execution_count": 19,
   "metadata": {},
   "outputs": [],
   "source": [
    "# Generate mRNA dynamics\n",
    "# Generate matrix for the first protein moment\n",
    "A_m_unreg, expo_m = A_matrix_gen(6, 0, Km_unreg, \n",
    "                                 Rm_unreg, Gm_unreg, \n",
    "                                 Rp_unreg, Gp_unreg)\n",
    "\n",
    "# Define array containing variables\n",
    "var = [kp_on, kp_off, rm, gm]\n",
    "\n",
    "# Generate labdify function\n",
    "A_m_unreg_lamdify = sympy.lambdify(var, A_m_unreg)\n",
    "\n",
    "# Export function into file\n",
    "with open('./pkl_files/two_state_mRNA_dynamics_matrix.pkl', 'wb') as file:\n",
    "    cloudpickle.dump(A_m_unreg_lamdify, file)\n",
    "    cloudpickle.dump(expo_m, file)\n",
    "\n",
    "# Generate protein dynamics\n",
    "# Generate matrix for the first protein moment\n",
    "A_p_unreg, expo_p = A_matrix_gen(0, 6, Km_unreg, \n",
    "                               Rm_unreg, Gm_unreg, \n",
    "                               Rp_unreg, Gp_unreg)\n",
    "\n",
    "# Define array containing variables\n",
    "var = [kp_on, kp_off, rm, gm, rp, gp]\n",
    "\n",
    "# Generate labdify function\n",
    "A_p_unreg_lamdify = sympy.lambdify(var, A_p_unreg)\n",
    "\n",
    "# Export function into file\n",
    "with open('./pkl_files/two_state_protein_dynamics_matrix.pkl', 'wb') as file:\n",
    "    cloudpickle.dump(A_p_unreg_lamdify, file)\n",
    "    cloudpickle.dump(expo_p, file)"
   ]
  },
  {
   "cell_type": "markdown",
   "metadata": {},
   "source": [
    "Let's repeat these calculations for the regulated case"
   ]
  },
  {
   "cell_type": "code",
   "execution_count": 20,
   "metadata": {},
   "outputs": [],
   "source": [
    "# Generate mRNA dynamics\n",
    "# Generate matrix for the first protein moment\n",
    "A_m_reg, expo_m = A_matrix_gen(6, 0, Km_reg, \n",
    "                               Rm_reg, Gm_reg, \n",
    "                               Rp_reg, Gp_reg)\n",
    "\n",
    "# Define array containing variables\n",
    "var = [kr_on, kr_off, kp_on, kp_off, rm, gm]\n",
    "\n",
    "# Generate labdify function\n",
    "A_m_reg_lamdify = sympy.lambdify(var, A_m_reg)\n",
    "\n",
    "# Export function into file\n",
    "with open('./pkl_files/three_state_mRNA_dynamics_matrix.pkl', 'wb') as file:\n",
    "    cloudpickle.dump(A_m_reg_lamdify, file)\n",
    "    cloudpickle.dump(expo_m, file)\n",
    "\n",
    "# Generate protein dynamics\n",
    "# Generate matrix for the first protein moment\n",
    "A_p_reg, expo_p = A_matrix_gen(0, 6, Km_reg, \n",
    "                               Rm_reg, Gm_reg, \n",
    "                               Rp_reg, Gp_reg)\n",
    "\n",
    "# Define array containing variables\n",
    "var = [kr_on, kr_off, kp_on, kp_off, rm, gm, rp, gp]\n",
    "\n",
    "# Generate labdify function\n",
    "A_p_reg_lamdify = sympy.lambdify(var, A_p_reg)\n",
    "\n",
    "# Export function into file\n",
    "with open('./pkl_files/three_state_protein_dynamics_matrix.pkl', 'wb') as file:\n",
    "    cloudpickle.dump(A_p_reg_lamdify, file)\n",
    "    cloudpickle.dump(expo_p, file)"
   ]
  },
  {
   "cell_type": "markdown",
   "metadata": {},
   "source": [
    "# Numerical integration of moments"
   ]
  },
  {
   "cell_type": "markdown",
   "metadata": {},
   "source": [
    "Having generated the matrix $\\bb{A}$ we can now numerically integrate the moment dynamics \n",
    "$$\n",
    "\\dt{\\bb{\\mu^{(\\bb{x,y})}}} = \\bb{A \\mu^{(\\bb{x, y})}}.\n",
    "\\tag{16}\n",
    "$$\n",
    "\n",
    "First we read the parameter values inferred for the unregulated promoter assuming a single promoter at steady state."
   ]
  },
  {
   "cell_type": "code",
   "execution_count": 22,
   "metadata": {},
   "outputs": [],
   "source": [
    "# Define mRNA rate\n",
    "# http://bionumbers.hms.harvard.edu/bionumber.aspx?id=105717&ver=3&trm=lacZ%20mRNA%20lifetime&org=\n",
    "gm = 1 / (3 * 60)\n",
    "\n",
    "# Load the flat-chain\n",
    "with open('../../data/mcmc/lacUV5_constitutive_mRNA_prior.pkl',\n",
    "          'rb') as file:\n",
    "    unpickler = pickle.Unpickler(file)\n",
    "    gauss_flatchain = unpickler.load()\n",
    "    gauss_flatlnprobability = unpickler.load()\n",
    "\n",
    "# Generate a Pandas Data Frame with the mcmc chain\n",
    "index = ['kp_on', 'kp_off', 'rm']\n",
    "\n",
    "# Generate a data frame out of the MCMC chains\n",
    "df_mcmc = pd.DataFrame(gauss_flatchain, columns=index)\n",
    "\n",
    "# rerbsine the index with the new entries\n",
    "index = df_mcmc.columns\n",
    "\n",
    "# map value of the parameters\n",
    "max_idx = np.argmax(gauss_flatlnprobability, axis=0)\n",
    "kp_on, kp_off, rm = df_mcmc.iloc[max_idx, :] * gm\n",
    "\n",
    "# Define protein production and degradatino rates\n",
    "gp = 1 / (60 * 100) # sec^-1\n",
    "rp = 500 * gp # sec^-1"
   ]
  },
  {
   "cell_type": "markdown",
   "metadata": {},
   "source": [
    "Let's now define the function to feed to the `scipy odeint` function that computes the right-hand side of the moment dynamics."
   ]
  },
  {
   "cell_type": "code",
   "execution_count": 23,
   "metadata": {},
   "outputs": [],
   "source": [
    "# Read mRNA matrix \n",
    "with open('./pkl_files/two_state_mRNA_dynamics_matrix.pkl', 'rb') as file:\n",
    "    A_mat_unreg_lam = cloudpickle.load(file)\n",
    "    expo = cloudpickle.load(file)\n",
    "\n",
    "# Substitute value of parameters on matrix\n",
    "A_mat_unreg = A_mat_unreg_lam(kp_on, kp_off, rm, gm)\n",
    "\n",
    "def dmdt_unreg(mom, t):\n",
    "    '''\n",
    "    Function to integrate \n",
    "    dµ/dt = Aµ\n",
    "    for the unregulated promoter using the scipy.integrate.odeint\n",
    "    routine\n",
    "    \n",
    "    Parameters\n",
    "    ----------\n",
    "    mom : array-like\n",
    "        Array containing all of the moments included in the matrix\n",
    "        dynamics A.\n",
    "    t : array-like\n",
    "        Time array\n",
    "    \n",
    "    Returns\n",
    "    -------\n",
    "    Right hand-side of the moment dynamics\n",
    "    '''\n",
    "    return np.dot(A_mat_unreg, mom)"
   ]
  },
  {
   "cell_type": "markdown",
   "metadata": {},
   "source": [
    "Now we can define the time array to perform the integration along with the initial conditions to integrate the moment dynamics."
   ]
  },
  {
   "cell_type": "code",
   "execution_count": 24,
   "metadata": {},
   "outputs": [
    {
     "data": {
      "text/html": [
       "<div>\n",
       "<style scoped>\n",
       "    .dataframe tbody tr th:only-of-type {\n",
       "        vertical-align: middle;\n",
       "    }\n",
       "\n",
       "    .dataframe tbody tr th {\n",
       "        vertical-align: top;\n",
       "    }\n",
       "\n",
       "    .dataframe thead th {\n",
       "        text-align: right;\n",
       "    }\n",
       "</style>\n",
       "<table border=\"1\" class=\"dataframe\">\n",
       "  <thead>\n",
       "    <tr style=\"text-align: right;\">\n",
       "      <th></th>\n",
       "      <th>m0p0P</th>\n",
       "      <th>m0p0E</th>\n",
       "      <th>m1p0P</th>\n",
       "      <th>m1p0E</th>\n",
       "      <th>m2p0P</th>\n",
       "      <th>m2p0E</th>\n",
       "      <th>m3p0P</th>\n",
       "      <th>m3p0E</th>\n",
       "      <th>m4p0P</th>\n",
       "      <th>m4p0E</th>\n",
       "      <th>m5p0P</th>\n",
       "      <th>m5p0E</th>\n",
       "      <th>m6p0P</th>\n",
       "      <th>m6p0E</th>\n",
       "      <th>t_sec</th>\n",
       "      <th>t_min</th>\n",
       "    </tr>\n",
       "  </thead>\n",
       "  <tbody>\n",
       "    <tr>\n",
       "      <th>0</th>\n",
       "      <td>1.000000</td>\n",
       "      <td>0.000000</td>\n",
       "      <td>0.000000</td>\n",
       "      <td>0.000000</td>\n",
       "      <td>0.000000</td>\n",
       "      <td>0.000000</td>\n",
       "      <td>0.000000</td>\n",
       "      <td>0.000000</td>\n",
       "      <td>0.000000</td>\n",
       "      <td>0.000000</td>\n",
       "      <td>0.000000</td>\n",
       "      <td>0.000000</td>\n",
       "      <td>0.000000</td>\n",
       "      <td>0.000000</td>\n",
       "      <td>0.0</td>\n",
       "      <td>0.000000</td>\n",
       "    </tr>\n",
       "    <tr>\n",
       "      <th>1</th>\n",
       "      <td>0.659941</td>\n",
       "      <td>0.340059</td>\n",
       "      <td>1.493616</td>\n",
       "      <td>0.364540</td>\n",
       "      <td>4.888498</td>\n",
       "      <td>0.901562</td>\n",
       "      <td>19.407399</td>\n",
       "      <td>2.876893</td>\n",
       "      <td>89.243886</td>\n",
       "      <td>11.155311</td>\n",
       "      <td>461.904592</td>\n",
       "      <td>50.250121</td>\n",
       "      <td>2640.832786</td>\n",
       "      <td>255.509555</td>\n",
       "      <td>4.0</td>\n",
       "      <td>0.066667</td>\n",
       "    </tr>\n",
       "    <tr>\n",
       "      <th>2</th>\n",
       "      <td>0.460954</td>\n",
       "      <td>0.539046</td>\n",
       "      <td>2.003875</td>\n",
       "      <td>1.071424</td>\n",
       "      <td>10.887711</td>\n",
       "      <td>4.083923</td>\n",
       "      <td>68.340001</td>\n",
       "      <td>19.887471</td>\n",
       "      <td>480.223792</td>\n",
       "      <td>115.148767</td>\n",
       "      <td>3705.985927</td>\n",
       "      <td>760.370649</td>\n",
       "      <td>31000.202542</td>\n",
       "      <td>5583.922193</td>\n",
       "      <td>8.0</td>\n",
       "      <td>0.133333</td>\n",
       "    </tr>\n",
       "    <tr>\n",
       "      <th>3</th>\n",
       "      <td>0.344516</td>\n",
       "      <td>0.655484</td>\n",
       "      <td>2.103787</td>\n",
       "      <td>1.810708</td>\n",
       "      <td>15.580350</td>\n",
       "      <td>9.076318</td>\n",
       "      <td>130.500223</td>\n",
       "      <td>57.722605</td>\n",
       "      <td>1203.686080</td>\n",
       "      <td>431.883456</td>\n",
       "      <td>12034.052740</td>\n",
       "      <td>3650.750231</td>\n",
       "      <td>129018.530237</td>\n",
       "      <td>34039.854937</td>\n",
       "      <td>12.0</td>\n",
       "      <td>0.200000</td>\n",
       "    </tr>\n",
       "    <tr>\n",
       "      <th>4</th>\n",
       "      <td>0.276382</td>\n",
       "      <td>0.723618</td>\n",
       "      <td>2.057844</td>\n",
       "      <td>2.471903</td>\n",
       "      <td>18.765197</td>\n",
       "      <td>15.023681</td>\n",
       "      <td>192.706414</td>\n",
       "      <td>115.706961</td>\n",
       "      <td>2164.859611</td>\n",
       "      <td>1043.653429</td>\n",
       "      <td>26185.883182</td>\n",
       "      <td>10583.813397</td>\n",
       "      <td>337581.439606</td>\n",
       "      <td>117837.242540</td>\n",
       "      <td>16.0</td>\n",
       "      <td>0.266667</td>\n",
       "    </tr>\n",
       "  </tbody>\n",
       "</table>\n",
       "</div>"
      ],
      "text/plain": [
       "      m0p0P     m0p0E     m1p0P     m1p0E      m2p0P      m2p0E       m3p0P  \\\n",
       "0  1.000000  0.000000  0.000000  0.000000   0.000000   0.000000    0.000000   \n",
       "1  0.659941  0.340059  1.493616  0.364540   4.888498   0.901562   19.407399   \n",
       "2  0.460954  0.539046  2.003875  1.071424  10.887711   4.083923   68.340001   \n",
       "3  0.344516  0.655484  2.103787  1.810708  15.580350   9.076318  130.500223   \n",
       "4  0.276382  0.723618  2.057844  2.471903  18.765197  15.023681  192.706414   \n",
       "\n",
       "        m3p0E        m4p0P        m4p0E         m5p0P         m5p0E  \\\n",
       "0    0.000000     0.000000     0.000000      0.000000      0.000000   \n",
       "1    2.876893    89.243886    11.155311    461.904592     50.250121   \n",
       "2   19.887471   480.223792   115.148767   3705.985927    760.370649   \n",
       "3   57.722605  1203.686080   431.883456  12034.052740   3650.750231   \n",
       "4  115.706961  2164.859611  1043.653429  26185.883182  10583.813397   \n",
       "\n",
       "           m6p0P          m6p0E  t_sec     t_min  \n",
       "0       0.000000       0.000000    0.0  0.000000  \n",
       "1    2640.832786     255.509555    4.0  0.066667  \n",
       "2   31000.202542    5583.922193    8.0  0.133333  \n",
       "3  129018.530237   34039.854937   12.0  0.200000  \n",
       "4  337581.439606  117837.242540   16.0  0.266667  "
      ]
     },
     "execution_count": 24,
     "metadata": {},
     "output_type": "execute_result"
    }
   ],
   "source": [
    "# Define time on which to perform integration\n",
    "t = np.linspace(0, 20 * 60, 301)\n",
    "\n",
    "# Define initial conditions\n",
    "mom_init = np.array([0] * len(expo) * 2)\n",
    "# Set initial condition for zero moment\n",
    "# Since this needs to add up to 1\n",
    "mom_init[0] = 1\n",
    "\n",
    "# Integrate dynamics\n",
    "mom_dynamics = sp.integrate.odeint(dmdt_unreg, mom_init, t)\n",
    "\n",
    "\n",
    "## Save results in tidy dataframe  ##\n",
    "# Define promoter states names\n",
    "states = ['P', 'E']\n",
    "# Define names of columns\n",
    "names = ['m{0:d}p{1:d}'.format(*x) + s for x in expo \n",
    "         for s in states]\n",
    "\n",
    "# Save as data frame\n",
    "df_m_unreg = pd.DataFrame(mom_dynamics, columns=names)\n",
    "# Add time column\n",
    "df_m_unreg = df_m_unreg.assign(t_sec = t, t_min = t / 60)\n",
    "\n",
    "df_m_unreg.head()"
   ]
  },
  {
   "cell_type": "markdown",
   "metadata": {},
   "source": [
    "Let's look at the dynamics of the first moment. We expect this to reach the steady state value given by\n",
    "$$\n",
    "\\ee{m} = {r_m \\over \\gm} \\left( {\\kpon \\over \\kpon + \\kpoff} \\right).\n",
    "\\tag{17}\n",
    "$$"
   ]
  },
  {
   "cell_type": "code",
   "execution_count": 25,
   "metadata": {},
   "outputs": [
    {
     "data": {
      "image/png": "[encoded data removed]",
      "text/plain": [
       "<Figure size 440x330 with 1 Axes>"
      ]
     },
     "metadata": {
      "image/png": {
       "height": 308,
       "width": 420
      }
     },
     "output_type": "display_data"
    }
   ],
   "source": [
    "# Compute steady state value\n",
    "m_ss = rm / gm * (kp_on / (kp_on + kp_off))\n",
    "\n",
    "# Extract index for first and second moment\n",
    "first_mom_names = [x for x in df_m_unreg.columns if 'm1p0' in x]\n",
    "\n",
    "# Compute the mean mRNA copy number\n",
    "m_mean = df_m_unreg.loc[:, first_mom_names].sum(axis=1)\n",
    "\n",
    "# Initialize figure\n",
    "fig = plt.figure(figsize=(4, 3))\n",
    "\n",
    "# Plot mean mRNA\n",
    "plt.plot(df_m_unreg.t_min, m_mean, \n",
    "         label=r'$\\left\\langle m(t) \\right\\rangle$')\n",
    "\n",
    "# Plot steady state\n",
    "plt.hlines(m_ss, df_m_unreg.t_min.min(),\n",
    "           df_m_unreg.t_min.max(),\n",
    "           linestyle='--', \n",
    "           label=r'$\\left\\langle m \\right\\rangle_{ss}$')\n",
    "\n",
    "# Add legend\n",
    "plt.legend(loc='lower right')\n",
    "\n",
    "# Change axis extension\n",
    "plt.xlim([-.5, 20])\n",
    "# label axis\n",
    "plt.xlabel('time (min)')\n",
    "plt.ylabel(r'$\\left\\langle \\right.$mRNA$\\left. \\right\\rangle$ / cell')\n",
    "\n",
    "plt.tight_layout()"
   ]
  },
  {
   "cell_type": "markdown",
   "metadata": {},
   "source": [
    "The dynamics converge to the expected steady state value, showing that at least for $\\ee{m}$ we obtain the expected result.\n",
    "\n",
    "Let's now define a function that takes in general any matrix $\\bb{A}$, a time array, initial conditions, and returns the dynamics in a tidy dataframe."
   ]
  },
  {
   "cell_type": "code",
   "execution_count": 26,
   "metadata": {},
   "outputs": [],
   "source": [
    "def dmomdt(A_mat, expo, t, mom_init, states=['E', 'P', 'R']):\n",
    "    '''\n",
    "    Function to integrate \n",
    "    dµ/dt = Aµ\n",
    "    for any matrix A using the scipy.integrate.odeint\n",
    "    function\n",
    "    \n",
    "    Parameters\n",
    "    ----------\n",
    "    A_mat : 2D-array\n",
    "        Square matrix defining the moment dynamics\n",
    "    expo : array-like\n",
    "        List containing the moments involved in the \n",
    "        dynamics defined by A\n",
    "    t : array-like\n",
    "        Time array in seconds\n",
    "    mom_init : array-like. lenth = A_mat.shape[1]\n",
    "    states : list with strings. Default = ['E', 'P', 'R']\n",
    "        List containing the name of the promoter states\n",
    "    Returns\n",
    "    -------\n",
    "    Tidy dataframe containing the moment dynamics\n",
    "    '''\n",
    "    # Define a lambda function to feed to odeint that returns\n",
    "    # the right-hand side of the moment dynamics\n",
    "    def dt(mom, time):\n",
    "        return np.dot(A_mat, mom)\n",
    "    \n",
    "    # Integrate dynamics\n",
    "    mom_dynamics = sp.integrate.odeint(dt, mom_init, t)\n",
    "\n",
    "    ## Save results in tidy dataframe  ##\n",
    "    # Define names of columns\n",
    "    names = ['m{0:d}p{1:d}'.format(*x) + s for x in expo \n",
    "             for s in states]\n",
    "\n",
    "    # Save as data frame\n",
    "    df = pd.DataFrame(mom_dynamics, columns=names)\n",
    "    # Add time column\n",
    "    df = df.assign(t_sec = t, t_min = t / 60)\n",
    "    \n",
    "    return df"
   ]
  },
  {
   "cell_type": "markdown",
   "metadata": {},
   "source": [
    "Let's test this function by computing the unregulated protein dynamics."
   ]
  },
  {
   "cell_type": "code",
   "execution_count": 27,
   "metadata": {},
   "outputs": [
    {
     "data": {
      "text/html": [
       "<div>\n",
       "<style scoped>\n",
       "    .dataframe tbody tr th:only-of-type {\n",
       "        vertical-align: middle;\n",
       "    }\n",
       "\n",
       "    .dataframe tbody tr th {\n",
       "        vertical-align: top;\n",
       "    }\n",
       "\n",
       "    .dataframe thead th {\n",
       "        text-align: right;\n",
       "    }\n",
       "</style>\n",
       "<table border=\"1\" class=\"dataframe\">\n",
       "  <thead>\n",
       "    <tr style=\"text-align: right;\">\n",
       "      <th></th>\n",
       "      <th>m0p0P</th>\n",
       "      <th>m0p0E</th>\n",
       "      <th>m1p0P</th>\n",
       "      <th>m1p0E</th>\n",
       "      <th>m2p0P</th>\n",
       "      <th>m2p0E</th>\n",
       "      <th>m3p0P</th>\n",
       "      <th>m3p0E</th>\n",
       "      <th>m4p0P</th>\n",
       "      <th>m4p0E</th>\n",
       "      <th>...</th>\n",
       "      <th>m3p3P</th>\n",
       "      <th>m3p3E</th>\n",
       "      <th>m2p4P</th>\n",
       "      <th>m2p4E</th>\n",
       "      <th>m1p5P</th>\n",
       "      <th>m1p5E</th>\n",
       "      <th>m0p6P</th>\n",
       "      <th>m0p6E</th>\n",
       "      <th>t_sec</th>\n",
       "      <th>t_min</th>\n",
       "    </tr>\n",
       "  </thead>\n",
       "  <tbody>\n",
       "    <tr>\n",
       "      <th>0</th>\n",
       "      <td>1.000000</td>\n",
       "      <td>0.000000</td>\n",
       "      <td>0.000000</td>\n",
       "      <td>0.000000</td>\n",
       "      <td>0.000000</td>\n",
       "      <td>0.000000</td>\n",
       "      <td>0.000000</td>\n",
       "      <td>0.000000</td>\n",
       "      <td>0.000000</td>\n",
       "      <td>0.000000</td>\n",
       "      <td>...</td>\n",
       "      <td>0.000000e+00</td>\n",
       "      <td>0.000000e+00</td>\n",
       "      <td>0.000000e+00</td>\n",
       "      <td>0.000000e+00</td>\n",
       "      <td>0.000000e+00</td>\n",
       "      <td>0.000000e+00</td>\n",
       "      <td>0.000000e+00</td>\n",
       "      <td>0.000000e+00</td>\n",
       "      <td>0.000000</td>\n",
       "      <td>0.000000</td>\n",
       "    </tr>\n",
       "    <tr>\n",
       "      <th>1</th>\n",
       "      <td>0.290050</td>\n",
       "      <td>0.709950</td>\n",
       "      <td>2.075003</td>\n",
       "      <td>2.317273</td>\n",
       "      <td>18.096207</td>\n",
       "      <td>13.500064</td>\n",
       "      <td>177.707734</td>\n",
       "      <td>99.653272</td>\n",
       "      <td>1910.823426</td>\n",
       "      <td>862.137474</td>\n",
       "      <td>...</td>\n",
       "      <td>1.019576e+05</td>\n",
       "      <td>5.470264e+04</td>\n",
       "      <td>9.188870e+04</td>\n",
       "      <td>5.913926e+04</td>\n",
       "      <td>9.056480e+04</td>\n",
       "      <td>7.092658e+04</td>\n",
       "      <td>9.701996e+04</td>\n",
       "      <td>9.412560e+04</td>\n",
       "      <td>15.007504</td>\n",
       "      <td>0.250125</td>\n",
       "    </tr>\n",
       "    <tr>\n",
       "      <th>2</th>\n",
       "      <td>0.194978</td>\n",
       "      <td>0.805022</td>\n",
       "      <td>1.862248</td>\n",
       "      <td>4.063813</td>\n",
       "      <td>23.921085</td>\n",
       "      <td>36.057456</td>\n",
       "      <td>359.797968</td>\n",
       "      <td>410.479192</td>\n",
       "      <td>6011.375271</td>\n",
       "      <td>5492.258641</td>\n",
       "      <td>...</td>\n",
       "      <td>5.081123e+06</td>\n",
       "      <td>5.533142e+06</td>\n",
       "      <td>7.661525e+06</td>\n",
       "      <td>1.006979e+07</td>\n",
       "      <td>1.216950e+07</td>\n",
       "      <td>1.950664e+07</td>\n",
       "      <td>2.034663e+07</td>\n",
       "      <td>4.022157e+07</td>\n",
       "      <td>30.015008</td>\n",
       "      <td>0.500250</td>\n",
       "    </tr>\n",
       "    <tr>\n",
       "      <th>3</th>\n",
       "      <td>0.182246</td>\n",
       "      <td>0.817754</td>\n",
       "      <td>1.909144</td>\n",
       "      <td>5.092269</td>\n",
       "      <td>27.802650</td>\n",
       "      <td>54.797810</td>\n",
       "      <td>490.382834</td>\n",
       "      <td>764.432627</td>\n",
       "      <td>9863.377203</td>\n",
       "      <td>12658.041675</td>\n",
       "      <td>...</td>\n",
       "      <td>4.175629e+07</td>\n",
       "      <td>6.644891e+07</td>\n",
       "      <td>9.164106e+07</td>\n",
       "      <td>1.757869e+08</td>\n",
       "      <td>2.102168e+08</td>\n",
       "      <td>4.890169e+08</td>\n",
       "      <td>5.043670e+08</td>\n",
       "      <td>1.430709e+09</td>\n",
       "      <td>45.022511</td>\n",
       "      <td>0.750375</td>\n",
       "    </tr>\n",
       "    <tr>\n",
       "      <th>4</th>\n",
       "      <td>0.180542</td>\n",
       "      <td>0.819458</td>\n",
       "      <td>2.049678</td>\n",
       "      <td>5.896106</td>\n",
       "      <td>32.229689</td>\n",
       "      <td>71.262453</td>\n",
       "      <td>618.572091</td>\n",
       "      <td>1116.776396</td>\n",
       "      <td>13689.090548</td>\n",
       "      <td>20872.732661</td>\n",
       "      <td>...</td>\n",
       "      <td>1.721680e+08</td>\n",
       "      <td>3.382274e+08</td>\n",
       "      <td>5.047451e+08</td>\n",
       "      <td>1.188832e+09</td>\n",
       "      <td>1.547368e+09</td>\n",
       "      <td>4.379814e+09</td>\n",
       "      <td>4.963345e+09</td>\n",
       "      <td>1.690687e+10</td>\n",
       "      <td>60.030015</td>\n",
       "      <td>1.000500</td>\n",
       "    </tr>\n",
       "  </tbody>\n",
       "</table>\n",
       "<p>5 rows × 58 columns</p>\n",
       "</div>"
      ],
      "text/plain": [
       "      m0p0P     m0p0E     m1p0P     m1p0E      m2p0P      m2p0E       m3p0P  \\\n",
       "0  1.000000  0.000000  0.000000  0.000000   0.000000   0.000000    0.000000   \n",
       "1  0.290050  0.709950  2.075003  2.317273  18.096207  13.500064  177.707734   \n",
       "2  0.194978  0.805022  1.862248  4.063813  23.921085  36.057456  359.797968   \n",
       "3  0.182246  0.817754  1.909144  5.092269  27.802650  54.797810  490.382834   \n",
       "4  0.180542  0.819458  2.049678  5.896106  32.229689  71.262453  618.572091   \n",
       "\n",
       "         m3p0E         m4p0P         m4p0E    ...            m3p3P  \\\n",
       "0     0.000000      0.000000      0.000000    ...     0.000000e+00   \n",
       "1    99.653272   1910.823426    862.137474    ...     1.019576e+05   \n",
       "2   410.479192   6011.375271   5492.258641    ...     5.081123e+06   \n",
       "3   764.432627   9863.377203  12658.041675    ...     4.175629e+07   \n",
       "4  1116.776396  13689.090548  20872.732661    ...     1.721680e+08   \n",
       "\n",
       "          m3p3E         m2p4P         m2p4E         m1p5P         m1p5E  \\\n",
       "0  0.000000e+00  0.000000e+00  0.000000e+00  0.000000e+00  0.000000e+00   \n",
       "1  5.470264e+04  9.188870e+04  5.913926e+04  9.056480e+04  7.092658e+04   \n",
       "2  5.533142e+06  7.661525e+06  1.006979e+07  1.216950e+07  1.950664e+07   \n",
       "3  6.644891e+07  9.164106e+07  1.757869e+08  2.102168e+08  4.890169e+08   \n",
       "4  3.382274e+08  5.047451e+08  1.188832e+09  1.547368e+09  4.379814e+09   \n",
       "\n",
       "          m0p6P         m0p6E      t_sec     t_min  \n",
       "0  0.000000e+00  0.000000e+00   0.000000  0.000000  \n",
       "1  9.701996e+04  9.412560e+04  15.007504  0.250125  \n",
       "2  2.034663e+07  4.022157e+07  30.015008  0.500250  \n",
       "3  5.043670e+08  1.430709e+09  45.022511  0.750375  \n",
       "4  4.963345e+09  1.690687e+10  60.030015  1.000500  \n",
       "\n",
       "[5 rows x 58 columns]"
      ]
     },
     "execution_count": 27,
     "metadata": {},
     "output_type": "execute_result"
    }
   ],
   "source": [
    "# Read protein ununregulated matrix \n",
    "with open('./pkl_files/two_state_protein_dynamics_matrix.pkl', 'rb') as file:\n",
    "    A_mat_unreg_lam = cloudpickle.load(file)\n",
    "    expo = cloudpickle.load(file)\n",
    "\n",
    "# Substitute value of parameters on matrix\n",
    "A_mat_unreg = A_mat_unreg_lam(kp_on, kp_off, rm, gm, rp, gp)\n",
    "\n",
    "# Define initial conditions\n",
    "mom_init = np.array([0] * len(expo) * 2)\n",
    "# Set initial condition for zero moment\n",
    "# Since this needs to add up to 1\n",
    "mom_init[0] = 1\n",
    "\n",
    "# Define time on which to perform integration\n",
    "t = np.linspace(0, 500 * 60, 2000)\n",
    "\n",
    "# Define promoter states\n",
    "states = ['P', 'E']\n",
    "\n",
    "# Integrate dynamics\n",
    "df = dmomdt(A_mat_unreg, expo, t, mom_init, states)\n",
    "\n",
    "# Take a look at the resulting dataframe\n",
    "df.head()"
   ]
  },
  {
   "cell_type": "markdown",
   "metadata": {},
   "source": [
    "Let's now take a look at the first moment of both mRNA and protein. Here we will plot the first moment dynamics normalized by the expected steady-state value. This will allow us to 1) compare both dynamics on the same plot, and 2) assess if the integration is converging to the expected value."
   ]
  },
  {
   "cell_type": "code",
   "execution_count": 28,
   "metadata": {},
   "outputs": [
    {
     "data": {
      "image/png": "[encoded data removed]",
      "text/plain": [
       "<Figure size 440x330 with 1 Axes>"
      ]
     },
     "metadata": {
      "image/png": {
       "height": 308,
       "width": 419
      }
     },
     "output_type": "display_data"
    }
   ],
   "source": [
    "# Compute steady state value\n",
    "m_ss = rm / gm * (kp_on / (kp_on + kp_off))\n",
    "p_ss = rp / gp * m_ss\n",
    "\n",
    "# Extract index for first and second moment\n",
    "m1p0_names = [x for x in df.columns if 'm1p0' in x]\n",
    "m0p1_names = [x for x in df.columns if 'm0p1' in x]\n",
    "\n",
    "# Compute the mean mRNA copy number\n",
    "m_mean = df.loc[:, m1p0_names].sum(axis=1)\n",
    "p_mean = df.loc[:, m0p1_names].sum(axis=1)\n",
    "\n",
    "# Initialize figure\n",
    "fig = plt.figure(figsize=(4, 3))\n",
    "\n",
    "# Plot mean mRNA\n",
    "plt.plot(df.t_min, m_mean / m_ss, \n",
    "         label='mRNA')\n",
    "\n",
    "# Plot mean protein\n",
    "plt.plot(df.t_min, p_mean / p_ss, \n",
    "         label=r'protein')\n",
    "\n",
    "# Add legend\n",
    "plt.legend(loc='lower right')\n",
    "\n",
    "# Change axis extension\n",
    "# label axis\n",
    "plt.xlabel('time (min)')\n",
    "plt.ylabel('normalized copy number')\n",
    "\n",
    "plt.tight_layout()"
   ]
  },
  {
   "cell_type": "markdown",
   "metadata": {},
   "source": [
    "We can see that given the difference in degradation rates between the mRNA and the protein, the protein dynamics take much longer to reach the steady state. This right away raises the question of how does the cell cycle affect the dynamics since the content of the cell is effectively halved every time the cell divides. In the next section we will explore this more explicitly."
   ]
  }
 ],
 "metadata": {
  "kernelspec": {
   "display_name": "Python 3",
   "language": "python",
   "name": "python3"
  },
  "language_info": {
   "codemirror_mode": {
    "name": "ipython",
    "version": 3
   },
   "file_extension": ".py",
   "mimetype": "text/x-python",
   "name": "python",
   "nbconvert_exporter": "python",
   "pygments_lexer": "ipython3",
   "version": "3.7.4"
  }
 },
 "nbformat": 4,
 "nbformat_minor": 4
}
