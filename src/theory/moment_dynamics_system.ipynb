{
 "cells": [
  {
   "cell_type": "markdown",
   "metadata": {},
   "source": [
    "# Moment dynamics generation"
   ]
  },
  {
   "cell_type": "markdown",
   "metadata": {},
   "source": [
    "(c) 2018 Manuel Razo. This work is licensed under a [Creative Commons Attribution License CC-BY 4.0](https://creativecommons.org/licenses/by/4.0/). All code contained herein is licensed under an [MIT license](https://opensource.org/licenses/MIT). \n",
    "\n",
    "---"
   ]
  },
  {
   "cell_type": "code",
   "execution_count": 109,
   "metadata": {},
   "outputs": [],
   "source": [
    "# Library that we will use to export lambdify functions\n",
    "import cloudpickle\n",
    "\n",
    "import itertools # Library we'll use to generate possible pairs of numbers\n",
    "\n",
    "# Numerical workhorse\n",
    "import numpy as np\n",
    "import pandas as pd\n",
    "\n",
    "# To compute symbolic expressions\n",
    "import sympy\n",
    "sympy.init_printing(use_unicode=True, use_latex=True) # print outputs in LaTeX\n",
    "\n",
    "# Import matplotlib stuff for plotting\n",
    "import matplotlib.pyplot as plt\n",
    "import matplotlib.cm as cm\n",
    "import matplotlib as mpl\n",
    "\n",
    "# Seaborn, useful for graphics\n",
    "import seaborn as sns\n",
    "\n",
    "# Import the utils for this project\n",
    "import chann_cap_utils as chann_cap\n",
    "\n",
    "# Set PBoC plotting style\n",
    "chann_cap.set_plotting_style()\n",
    "\n",
    "# Magic function to make matplotlib inline\n",
    "%matplotlib inline\n",
    "\n",
    "# This enables SVG graphics inline. \n",
    "%config InlineBackend.figure_format = 'svg'\n",
    "\n",
    "tmpdir = '../../tmp/'"
   ]
  },
  {
   "cell_type": "markdown",
   "metadata": {},
   "source": [
    "# $\\LaTeX$ macros\n",
    "$\\newcommand{kpon}{k^{(p)}_{\\text{on}}}$\n",
    "$\\newcommand{kpoff}{k^{(p)}_{\\text{off}}}$\n",
    "$\\newcommand{kron}{k^{(r)}_{\\text{on}}}$\n",
    "$\\newcommand{kroff}{k^{(r)}_{\\text{off}}}$\n",
    "$\\newcommand{rm}{r _m}$\n",
    "$\\newcommand{gm}{\\gamma _m}$\n",
    "$\\newcommand{ee}[1]{\\left\\langle #1 \\right\\rangle}$\n",
    "$\\newcommand{bb}[1]{\\mathbf{#1}}$\n",
    "$\\newcommand{th}[1]{{#1}^{\\text{th}}}$\n",
    "$\\newcommand{dt}[1]{{\\partial{#1} \\over \\partial t}}$\n",
    "$\\newcommand{Km}{\\bb{K}}$\n",
    "$\\newcommand{Rm}{\\bb{R}_m}$\n",
    "$\\newcommand{Re}{\\bb{R}_m'}$\n",
    "$\\newcommand{Gm}{\\bb{\\Gamma}_m}$\n",
    "$\\newcommand{Rp}{\\bb{R}_p}$\n",
    "$\\newcommand{Gp}{\\bb{\\Gamma}_p}$"
   ]
  },
  {
   "cell_type": "markdown",
   "metadata": {},
   "source": [
    "## General moment equation for simple repression architecture"
   ]
  },
  {
   "cell_type": "markdown",
   "metadata": {},
   "source": [
    "For our system the master equation that describes the time evolution of the distribution is defined by either two or three differential equations, one for each state of the promoter such that\n",
    "$$\n",
    "P(m, p) = \\sum_{s\\in \\text{states}} P_s(m, p),\n",
    "$$\n",
    "where $s \\in \\{E, P, R\\}$ defines the state $E =$ empty state, $P =$ RNAP bound, and $R =$ repressor bound. The third state is only include in the case where there is transcription factor present. Without loss of generality let's focus here on the three-state promoter. The results for the two-state promoter written in matrix notation look the same, only the definition of the matrices change. Let $\\bb{P}(m, p) = (P_E(m, p), P_P(m, p), P_R(m, p))^T$ be the vector containing all distributions. Using this notation the system of PDEs that define the distribution is given by\n",
    "$$\n",
    "\\dt{\\bb{P}(m, p)} = \\overbrace{\n",
    "\\left(\\Km - \\Rm - m\\Gm - m\\Rp -p\\Gp \\right) \\bb{P}(m, p)\n",
    "}^{\\text{exit state }m,p}\\\\\n",
    "\\overbrace{\n",
    "+ \\Rm \\bb{P}(m-1, p) + \\Gm (m + 1) \\bb{P}(m+1, p)\\\\\n",
    "+ \\Rp (m) \\bb{P}(m, p-1) + \\Gm (p + 1) \\bb{P}(m, p+1)\n",
    "}^{\\text{enter state }m,p},\n",
    "\\label{master_matrix}\n",
    "$$\n",
    "where $\\Km$ is the matrix defining transition rates between states, $\\Rm$ and $\\Gm$ are the matrices defining the production and degradation rates of mRNA respectively, and $\\Rp$ and $\\Gp$ are the equivalent matrices for the production and degradation of protein."
   ]
  },
  {
   "cell_type": "markdown",
   "metadata": {},
   "source": [
    "Given this birth-death process with three different states of the promoter if we compute a moment $\\ee{m^x p^y}$ we need to compute\n",
    "$$\n",
    "\\ee{m^x p^y} = \\ee{m^x p^y}_E + \\ee{m^x p^y}_P + \\ee{m^x p^y}_R,\n",
    "$$\n",
    "i.e. the moment at each of the states of the promoter. Let \n",
    "$\\bb{\\ee{m^x p^y}} = \\left(\\ee{m^x p^y}_E, \\ee{m^x p^y}_P, \\ee{m^x p^y}_R\\right)^T$ be a vector containing all three moments. The moment PDE is then given by\n",
    "$$\n",
    "\\dt{\\bb{\\ee{m^x p^y}}} = \\dt{} \\left[ \\sum_m \\sum_p m^x p^y \\bb{P}(m,p)\\right].\n",
    "$$"
   ]
  },
  {
   "cell_type": "markdown",
   "metadata": {},
   "source": [
    "Applying this sum over all mRNA and protein counts we obtain\n",
    "$$\n",
    "\\dt{\\bb{\\ee{m^x p^y}}} = \n",
    "\\sum_m \\sum_p \\left(\\Km - \\Rm - m\\Gm - m\\Rp -p\\Gp \\right)m^x p^y \\bb{P}(m, p)\\\\\n",
    "\\overbrace{\n",
    "+ \\Rm \\sum_m \\sum_p m^x p^y \\bb{P}(m-1, p) \n",
    "}^{1}\n",
    "\\overbrace{\n",
    "+ \\Gm \\sum_m \\sum_p (m + 1) m^x p^y \\bb{P}(m+1, p)\n",
    "}^{2}\\\\\n",
    "\\overbrace{\n",
    "+ \\Rp \\sum_m \\sum_p (m) m^x p^y \\bb{P}(m, p-1) \n",
    "}^{3}\n",
    "\\overbrace{\n",
    "+ \\Gm \\sum_m \\sum_p (p + 1) m^x p^y \\bb{P}(m, p+1)\n",
    "}^{4}.\n",
    "\\label{master_moment_sum}\n",
    "$$\n",
    "Each of the numbered terms have stereotypical \"tricks\" to simplify them. Let's list them (derivation left elsewhere):\n",
    "$$\n",
    "1: m' \\equiv m - 1\\\\\n",
    "\\Rightarrow\n",
    "\\sum_m \\sum_p m^x p^y \\bb{P}(m-1, p) = \n",
    "\\sum_{m'} \\sum_p (m' + 1)^x p^y \\bb{P}(m', p) = \\\\\n",
    "\\bb{\\ee{(m+1)^x p^y}},\n",
    "$$\n",
    "$$\n",
    "2: m' \\equiv m + 1\\\\\n",
    "\\Rightarrow\n",
    "\\sum_m \\sum_p (m + 1) m^x p^y \\bb{P}(m + 1, p) = \n",
    "\\sum_{m'} \\sum_p m' (m' - 1)^x p^y \\bb{P}(m', p) = \\\\\n",
    "\\bb{\\ee{m (m - 1)^x p^y}},\n",
    "$$\n",
    "$$\n",
    "3: p' \\equiv p - 1\\\\\n",
    "\\Rightarrow\n",
    "\\sum_m \\sum_p (m) m^x p^y \\bb{P}(m, p-1) =\n",
    "\\sum_m \\sum_{p'} m^{x + 1} (p' + 1)^y \\bb{P}(m, p') = \\\\\n",
    "\\bb{\\ee{m^{x + 1} (p +  1)^{y}}},\n",
    "$$\n",
    "$$\n",
    "4: p' \\equiv p + 1\\\\\n",
    "\\Rightarrow\n",
    "\\sum_m \\sum_p (p + 1) m^x p^y \\bb{P}(m, p+1) =\n",
    "\\sum_m \\sum_{p'} p' m^x (p' - 1)^y \\bb{P}(m, p') = \\\\\n",
    "\\bb{\\ee{m^x p (p - 1)^y}}.\n",
    "$$"
   ]
  },
  {
   "cell_type": "markdown",
   "metadata": {},
   "source": [
    "Given these tricks we can write a **general** form for the moment PDE given by\n",
    "$$\n",
    "\\dt{\\bb{\\ee{m^x p^y}}} =\n",
    "\\Km \\bb{\\ee{m^x p^y}} +\\\\\n",
    "\\Rm \\left[ \\bb{\\ee{(m+1)^x p^y}} - \\bb{\\ee{m^x p^y}} \\right] +\\\\\n",
    "\\Gm \\left[ \\bb{\\ee{m (m - 1)^x p^y}} - \\bb{\\ee{m^{x + 1} p^y}} \\right] +\\\\\n",
    "\\Rp \\left[ \\bb{\\ee{m^{x + 1} (p +  1)^{y}}} - \\bb{\\ee{m^{x+1} p^y}} \\right] +\\\\\n",
    "\\Gp \\left[ \\bb{\\ee{m^x p (p - 1)^y}} - \\bb{\\ee{m^x p^{y+1}}} \\right]\n",
    "\\label{master_moment}\n",
    "$$"
   ]
  },
  {
   "cell_type": "markdown",
   "metadata": {},
   "source": [
    "It can be shown that all moments $\\bb{\\ee{m^x p^y}}$ depend only on moments $\\bb{\\ee{m'^x p'^y}}$ such that two conditions are satisfied:\n",
    "\\begin{equation}\n",
    "  \\begin{aligned}\n",
    "    &1) y' \\leq y,\\\\\n",
    "  &2) x' + y' \\leq x + y.\n",
    "  \\end{aligned}\n",
    "\\end{equation}\n",
    "\n",
    "What this implies is that this system has no moment closure problem since all moments depend only on lower degree moments. We can use this to our advantage to generate a general moment dynamics equation."
   ]
  },
  {
   "cell_type": "markdown",
   "metadata": {},
   "source": [
    "### General moment dynamics"
   ]
  },
  {
   "cell_type": "markdown",
   "metadata": {},
   "source": [
    "Let $\\bb{\\mu}$ be a vector containing all moments up to $\\bb{\\ee{m^x p^y}}$ for all promoter states. This is\n",
    "$$\n",
    "\\bb{\\mu} = \\left[ \\bb{\\ee{m^0 p^0}}, \\bb{\\ee{m^1 p^0}}, \\ldots \\bb{\\ee{m^x p^y}} \\right]^T.\n",
    "$$\n",
    "Explicitly for the three-state promoter this vector looks like\n",
    "$$\n",
    "\\bb{\\mu} = \\left[ \\ee{m^0 p^0}_E, \\ee{m^0 p^0}_P, \\ee{m^0 p^0}_R, \\ldots\n",
    "                 \\ee{m^x p^y}_E, \\ee{m^x p^y}_P, \\ee{m^x p^y}_R \\right]^T.\n",
    "$$\n",
    "Given this definition we can define the general moment dynamics in matrix notation as\n",
    "$$\n",
    "\\dt{\\mu} = \\bb{A \\mu} + \\bb{\\nu},\n",
    "$$\n",
    "where $\\bb{A}$ is a square matrix that contains all the connections in the network, i.e. the numeric coefficients that relate each of the moments, and $\\bb{\\nu}$ is a vector of constant terms.\n"
   ]
  },
  {
   "cell_type": "markdown",
   "metadata": {},
   "source": [
    "## Using `sympy` to compute moments"
   ]
  },
  {
   "cell_type": "markdown",
   "metadata": {},
   "source": [
    "The objective of this notebook is to generate the matrix $\\bb{A}$ and the vector $\\bb{\\nu}$ from the general moment equation derived earlier."
   ]
  },
  {
   "cell_type": "markdown",
   "metadata": {},
   "source": [
    "### Define general moment equation."
   ]
  },
  {
   "cell_type": "markdown",
   "metadata": {},
   "source": [
    "Let's define the `sympy` variables that we will need for the moment equation.\n",
    "\n",
    "First we define the variables for the matrices."
   ]
  },
  {
   "cell_type": "code",
   "execution_count": 110,
   "metadata": {},
   "outputs": [
    {
     "data": {
      "image/png": "[encoded data removed]",
      "text/latex": [
       "$$\\left ( {\\mathbf{K}}, \\quad {\\mathbf{R}_m}, \\quad {\\mathbf{\\Gamma}_m}, \\quad {\\mathbf{R}_p}, \\quad {\\mathbf{\\Gamma}_p}\\right )$$"
      ],
      "text/plain": [
       "({\\mathbf{K}}, {\\mathbf{R}_m}, {\\mathbf{\\Gamma}_m}, {\\mathbf{R}_p}, {\\mathbf{\\\n",
       "Gamma}_p})"
      ]
     },
     "execution_count": 110,
     "metadata": {},
     "output_type": "execute_result"
    }
   ],
   "source": [
    "# Define the matrices involved in the general moment equation\n",
    "Km = sympy.Symbol('{\\mathbf{K}}')  # State transition matrix\n",
    "Rm, Gm = sympy.symbols('{\\mathbf{R}_m} {\\mathbf{\\Gamma}_m}')  # mRNA matrices\n",
    "Rp, Gp = sympy.symbols('{\\mathbf{R}_p} {\\mathbf{\\Gamma}_p}')  # protein matrices\n",
    "\n",
    "Km, Rm, Gm, Rp, Gp"
   ]
  },
  {
   "cell_type": "markdown",
   "metadata": {},
   "source": [
    "Let's define the variables that go into the matrices."
   ]
  },
  {
   "cell_type": "code",
   "execution_count": 111,
   "metadata": {},
   "outputs": [
    {
     "data": {
      "image/png": "[encoded data removed]",
      "text/latex": [
       "$$\\left ( {k_{off}^{(p)}}, \\quad {k_{on}^{(p)}}, \\quad {k_{off}^{(r)}}, \\quad {k_{on}^{(r)}}, \\quad r_{m}, \\quad \\gamma_{m}, \\quad r_{p}, \\quad \\gamma_{p}\\right )$$"
      ],
      "text/plain": [
       "({k_{off}__{(p)}}, {k_{on}__{(p)}}, {k_{off}__{(r)}}, {k_{on}__{(r)}}, rₘ, γₘ,\n",
       " rₚ, γₚ)"
      ]
     },
     "execution_count": 111,
     "metadata": {},
     "output_type": "execute_result"
    }
   ],
   "source": [
    "# Define rate constant variables\n",
    "kp_off, kp_on = sympy.symbols('{k_{off}^{(p)}} {k_{on}^{(p)}}')\n",
    "kr_off, kr_on = sympy.symbols('{k_{off}^{(r)}} {k_{on}^{(r)}}')\n",
    "\n",
    "# Define degradation rate and production rate\n",
    "rm, gm = sympy.symbols('r_m gamma_m')\n",
    "rp, gp = sympy.symbols('r_p gamma_p')\n",
    "\n",
    "kp_off, kp_on, kr_off, kr_on, rm, gm, rp, gp"
   ]
  },
  {
   "cell_type": "markdown",
   "metadata": {},
   "source": [
    "Now we define the mRNA and exponent variables"
   ]
  },
  {
   "cell_type": "code",
   "execution_count": 112,
   "metadata": {},
   "outputs": [
    {
     "data": {
      "image/png": "[encoded data removed]",
      "text/latex": [
       "$$\\left ( {\\mathbf{m}}^{{\\mathbf{x}}}, \\quad {\\mathbf{p}}^{{\\mathbf{y}}}, \\quad t, \\quad m, \\quad p\\right )$$"
      ],
      "text/plain": [
       "⎛            {\\mathbf{x}}              {\\mathbf{y}}         ⎞\n",
       "⎝{\\mathbf{m}}            , {\\mathbf{p}}            , t, m, p⎠"
      ]
     },
     "execution_count": 112,
     "metadata": {},
     "output_type": "execute_result"
    }
   ],
   "source": [
    "# Define the mRNA and protein variables\n",
    "m, p, = sympy.symbols('{\\mathbf{m}} {\\mathbf{p}}')\n",
    "x, y = sympy.symbols('{\\mathbf{x}} {\\mathbf{y}}')\n",
    "\n",
    "# As an extra variable let's define the time t\n",
    "t = sympy.symbols('t')\n",
    "\n",
    "# Let's also define the non-vector varirables for\n",
    "# mRNA and protein\n",
    "mm, pp = sympy.symbols('m p')\n",
    "\n",
    "m**x, p**y, t, mm, pp"
   ]
  },
  {
   "cell_type": "markdown",
   "metadata": {},
   "source": [
    "Let's now define the right hand side of the general moment equation."
   ]
  },
  {
   "cell_type": "code",
   "execution_count": 113,
   "metadata": {},
   "outputs": [
    {
     "data": {
      "image/png": "[encoded data removed]",
      "text/latex": [
       "$${\\mathbf{K}} {\\mathbf{m}}^{{\\mathbf{x}}} {\\mathbf{p}}^{{\\mathbf{y}}} + {\\mathbf{R}_m} {\\mathbf{p}}^{{\\mathbf{y}}} \\left(- {\\mathbf{m}}^{{\\mathbf{x}}} + \\left({\\mathbf{m}} + 1\\right)^{{\\mathbf{x}}}\\right) + {\\mathbf{R}_p} {\\mathbf{m}}^{{\\mathbf{x}} + 1} \\left(- {\\mathbf{p}}^{{\\mathbf{y}}} + \\left({\\mathbf{p}} + 1\\right)^{{\\mathbf{y}}}\\right) + {\\mathbf{\\Gamma}_m} {\\mathbf{m}} {\\mathbf{p}}^{{\\mathbf{y}}} \\left(- {\\mathbf{m}}^{{\\mathbf{x}}} + \\left({\\mathbf{m}} - 1\\right)^{{\\mathbf{x}}}\\right) + {\\mathbf{\\Gamma}_p} {\\mathbf{m}}^{{\\mathbf{x}}} {\\mathbf{p}} \\left(- {\\mathbf{p}}^{{\\mathbf{y}}} + \\left({\\mathbf{p}} - 1\\right)^{{\\mathbf{y}}}\\right)$$"
      ],
      "text/plain": [
       "                         {\\mathbf{x}}             {\\mathbf{y}}                \n",
       "{\\mathbf{K}}⋅{\\mathbf{m}}            ⋅{\\mathbf{p}}             + {\\mathbf{R}_m\n",
       "\n",
       "              {\\mathbf{y}} ⎛              {\\mathbf{x}}                     {\\m\n",
       "}⋅{\\mathbf{p}}            ⋅⎝- {\\mathbf{m}}             + ({\\mathbf{m}} + 1)   \n",
       "\n",
       "athbf{x}}⎞                              {\\mathbf{x}} + 1 ⎛              {\\math\n",
       "         ⎠ + {\\mathbf{R}_p}⋅{\\mathbf{m}}                ⋅⎝- {\\mathbf{p}}      \n",
       "\n",
       "bf{y}}                     {\\mathbf{y}}⎞                                      \n",
       "       + ({\\mathbf{p}} + 1)            ⎠ + {\\mathbf{\\Gamma}_m}⋅{\\mathbf{m}}⋅{\\\n",
       "\n",
       "          {\\mathbf{y}} ⎛              {\\mathbf{x}}                     {\\mathb\n",
       "mathbf{p}}            ⋅⎝- {\\mathbf{m}}             + ({\\mathbf{m}} - 1)       \n",
       "\n",
       "f{x}}⎞                                   {\\mathbf{x}}              ⎛          \n",
       "     ⎠ + {\\mathbf{\\Gamma}_p}⋅{\\mathbf{m}}            ⋅{\\mathbf{p}}⋅⎝- {\\mathbf\n",
       "\n",
       "    {\\mathbf{y}}                     {\\mathbf{y}}⎞\n",
       "{p}}             + ({\\mathbf{p}} - 1)            ⎠"
      ]
     },
     "execution_count": 113,
     "metadata": {},
     "output_type": "execute_result"
    }
   ],
   "source": [
    "# Defining the general master moment equation\n",
    "master_moment = Km * (m**x * p**y) +\\\n",
    "Rm * (p**y) * ((m + 1)**x - m**x) +\\\n",
    "Gm * (m * p**y) * ((m - 1)**x - m**x) +\\\n",
    "Rp * m**(x + 1) * ((p + 1)**y - p**y) +\\\n",
    "Gp * (m**x * p) * ((p - 1)**y - p**y)\n",
    "\n",
    "master_moment"
   ]
  },
  {
   "cell_type": "markdown",
   "metadata": {},
   "source": [
    "Having defined this equation now all we need to do to obtain any moment equation is to substitute $\\bb{x}$ and $\\bb{y}$. As a sanity check let's look at some examples that we already know the answer. Let's look at the first mRNA moment."
   ]
  },
  {
   "cell_type": "code",
   "execution_count": 114,
   "metadata": {},
   "outputs": [
    {
     "data": {
      "image/png": "[encoded data removed]",
      "text/latex": [
       "$${\\mathbf{R}_m} + {\\mathbf{m}} \\left({\\mathbf{K}} - {\\mathbf{\\Gamma}_m}\\right)$$"
      ],
      "text/plain": [
       "{\\mathbf{R}_m} + {\\mathbf{m}}⋅({\\mathbf{K}} - {\\mathbf{\\Gamma}_m})"
      ]
     },
     "execution_count": 114,
     "metadata": {},
     "output_type": "execute_result"
    }
   ],
   "source": [
    "# Define the first mRNA moment <m> equation\n",
    "master_moment.subs([[x, 1], [y, 0]]).factor([m, p])"
   ]
  },
  {
   "cell_type": "markdown",
   "metadata": {},
   "source": [
    "The term with $\\Rm$ only is actually $\\Rm \\bb{m}^0$ which is exactly what one obtains when solving for this particular moment.\n",
    "\n",
    "Let's look now at the second protein moment."
   ]
  },
  {
   "cell_type": "code",
   "execution_count": 115,
   "metadata": {},
   "outputs": [
    {
     "data": {
      "image/png": "[encoded data removed]",
      "text/latex": [
       "$$2 {\\mathbf{R}_p} {\\mathbf{m}} {\\mathbf{p}} + {\\mathbf{R}_p} {\\mathbf{m}} + {\\mathbf{\\Gamma}_p} {\\mathbf{p}} + {\\mathbf{p}}^{2} \\left({\\mathbf{K}} - 2 {\\mathbf{\\Gamma}_p}\\right)$$"
      ],
      "text/plain": [
       "                                                                              \n",
       "2⋅{\\mathbf{R}_p}⋅{\\mathbf{m}}⋅{\\mathbf{p}} + {\\mathbf{R}_p}⋅{\\mathbf{m}} + {\\m\n",
       "\n",
       "                                            2                                 \n",
       "athbf{\\Gamma}_p}⋅{\\mathbf{p}} + {\\mathbf{p}} ⋅({\\mathbf{K}} - 2⋅{\\mathbf{\\Gamm\n",
       "\n",
       "      \n",
       "a}_p})"
      ]
     },
     "execution_count": 115,
     "metadata": {},
     "output_type": "execute_result"
    }
   ],
   "source": [
    "master_moment.subs([[x, 0], [y, 2]]).factor([m, p])"
   ]
  },
  {
   "cell_type": "markdown",
   "metadata": {},
   "source": [
    "This is again the answer one gets performing the calculation specifically for this moment."
   ]
  },
  {
   "cell_type": "markdown",
   "metadata": {},
   "source": [
    "### Extract coefficients of moment polynomial equation."
   ]
  },
  {
   "cell_type": "markdown",
   "metadata": {},
   "source": [
    "Let's now define a function that given an expression for a moment it returns a dictionary with all the coefficients of each of the elements in the equation. For example for the previous example of the second protein moment it should return something of the form\n",
    "$$\n",
    "\\{\n",
    "\\bb{p}^2 : (\\Km - 2\\Gm), \\;\\;\n",
    "\\bb{p} : \\Gp, \\;\\;\n",
    "\\bb{mp} : 2\\Rp, \\;\\;\n",
    "\\bb{m} : \\Rp\n",
    "\\}\n",
    "$$\n",
    "\n",
    "This will be useful for when we substitute the matrices and vectors to solve the linear system."
   ]
  },
  {
   "cell_type": "code",
   "execution_count": 116,
   "metadata": {},
   "outputs": [],
   "source": [
    "def coeff_dictionary(eq):\n",
    "    '''\n",
    "    Returns a dictionary with each of the coefficients for a given eqent\n",
    "    equation.\n",
    "\n",
    "    Parameter\n",
    "    ---------\n",
    "    eq : sympy expression.\n",
    "        Sympy expression for the eqent equation\n",
    "\n",
    "    Returns\n",
    "    -------\n",
    "    coeff_dict : dictionary.\n",
    "        Dictionary containing all the coefficients of each of the elements\n",
    "        in the polynomial eqent equation\n",
    "    '''\n",
    "    # Find the degree of the eqent for each of the variables\n",
    "    if eq.has(m):\n",
    "        m_degree = sympy.Poly(eq).degree(m)\n",
    "    else:\n",
    "        m_degree = 0\n",
    "    if eq.has(p):\n",
    "        p_degree = sympy.Poly(eq).degree(p)\n",
    "    else:\n",
    "        p_degree = 0\n",
    "    \n",
    "    return {m**x * p**y: eq.coeff(m**x * p**y).\\\n",
    "            subs([[m, 0], [p, 0]])\n",
    "            for x in range(m_degree + 1)\n",
    "            for y in range(p_degree + 1)}"
   ]
  },
  {
   "cell_type": "markdown",
   "metadata": {},
   "source": [
    "Let's test the function."
   ]
  },
  {
   "cell_type": "code",
   "execution_count": 117,
   "metadata": {},
   "outputs": [
    {
     "data": {
      "image/png": "[encoded data removed]",
      "text/latex": [
       "$$\\left \\{ 1 : 0, \\quad {\\mathbf{m}} : {\\mathbf{R}_p}, \\quad {\\mathbf{p}} : {\\mathbf{\\Gamma}_p}, \\quad {\\mathbf{p}}^{2} : {\\mathbf{K}} - 2 {\\mathbf{\\Gamma}_p}, \\quad {\\mathbf{m}} {\\mathbf{p}} : 2 {\\mathbf{R}_p}, \\quad {\\mathbf{m}} {\\mathbf{p}}^{2} : 0\\right \\}$$"
      ],
      "text/plain": [
       "⎧                                                                             \n",
       "⎨1: 0, {\\mathbf{m}}: {\\mathbf{R}_p}, {\\mathbf{p}}: {\\mathbf{\\Gamma}_p}, {\\math\n",
       "⎩                                                                             \n",
       "\n",
       "      2                                                                       \n",
       "bf{p}} : {\\mathbf{K}} - 2⋅{\\mathbf{\\Gamma}_p}, {\\mathbf{m}}⋅{\\mathbf{p}}: 2⋅{\\\n",
       "                                                                              \n",
       "\n",
       "                                       2   ⎫\n",
       "mathbf{R}_p}, {\\mathbf{m}}⋅{\\mathbf{p}} : 0⎬\n",
       "                                           ⎭"
      ]
     },
     "execution_count": 117,
     "metadata": {},
     "output_type": "execute_result"
    }
   ],
   "source": [
    "p2_dict = coeff_dictionary(master_moment.subs([[x, 0], [y, 2]]).factor([m, p]))\n",
    "p2_dict"
   ]
  },
  {
   "cell_type": "markdown",
   "metadata": {},
   "source": [
    "### Substituting definition of matrices"
   ]
  },
  {
   "cell_type": "markdown",
   "metadata": {},
   "source": [
    "We now have the functions to use the general moment equation to obtain the coefficients for a specific moment. In order to assemble the matrix $\\bb{A}$ we need to substitute the definition of the matrices $\\Km$, $\\Rm$, $\\Gm$, $\\Rp$, and $\\Gp$ to convert from the matrix notation to the actual matrix."
   ]
  },
  {
   "cell_type": "markdown",
   "metadata": {},
   "source": [
    "**NOTE:** on `sympy` getting to substitute a term like $(\\Km - \\Gm)$ with the corresponding matrices and then actually doing the subtraction is unfortunately very convoluted. If you want to reproduce this make sure you follow the instructions."
   ]
  },
  {
   "cell_type": "code",
   "execution_count": 118,
   "metadata": {},
   "outputs": [],
   "source": [
    "def coeff_subs(coeff_dict, Km_mat, Rm_mat, Gm_mat, Rp_mat, Gp_mat):\n",
    "    '''\n",
    "\n",
    "    Parameters\n",
    "    ----------\n",
    "    coeff_dict : dictionary.\n",
    "        Dictionary containing all the coefficients associated with each of the\n",
    "        moments in the moment equation.\n",
    "    Km_mat, Rm_mat, Gm_mat, Rp_mat, Gp_mat: 2D sympy matrices.\n",
    "        Sympy matrices that define the master equation.\n",
    "        Km_mat : transition between states\n",
    "        Rm_mat : mRNA produciton\n",
    "        Gm_mat : mRNA degradation\n",
    "        Rp_mat : protein production\n",
    "        Gp_mat : protein degradation\n",
    "\n",
    "    Returns\n",
    "    -------\n",
    "    mom_mat_dict : dictionary.\n",
    "        Dictionary containing each of the substitutted coefficients into matrices\n",
    "    '''\n",
    "    # Initialize dictionary to save the matrices\n",
    "    mom_mat_dict = dict()\n",
    "\n",
    "    # Loop through each of the coefficients and compute the operation\n",
    "    # NOTE: It is quite tricky to get it to work on sympy\n",
    "    for key, value in coeff_dict.items():\n",
    "        # Extract arguments for the item\n",
    "        args = value.args\n",
    "\n",
    "        # Check each of the possible cases\n",
    "\n",
    "        # 1. args is empty and value is zero :\n",
    "        # That is a term of the form {key : 0}\n",
    "        # Generate a matrix of zeros\n",
    "        if (len(args) == 0) & (value == 0):\n",
    "            mom_mat_dict[key] = sympy.zeros(*Km_mat.shape)\n",
    "\n",
    "        # 2. args is empty and value is not zero :\n",
    "        # That is the case where the term is a single matrix\n",
    "        # Substitute that value with the actual definition of the matrix\n",
    "        elif (len(args) == 0) & (value != 0):\n",
    "            mom_mat_dict[key] = value.subs([[Km, Km_mat],\n",
    "                                            [Rm, Rm_mat],\n",
    "                                            [Gm, Gm_mat],\n",
    "                                            [Rp, Rp_mat],\n",
    "                                            [Gp, Gp_mat]])\n",
    "\n",
    "        # 3. args is not empty but one of the terms is an integer :\n",
    "        # That is the case where we have Number * Matrix.\n",
    "        # substitute the matrix and multiply it by the number\n",
    "        elif (len(args) != 0) & (any([x.is_Number for x in args])):\n",
    "            # Substitute value\n",
    "            term_list = [x.subs([[Km, Km_mat],\n",
    "                                 [Rm, Rm_mat],\n",
    "                                 [Gm, Gm_mat],\n",
    "                                 [Rp, Rp_mat],\n",
    "                                 [Gp, Gp_mat]]) for x in value.args]\n",
    "            # Multiply matrix by constant and register case\n",
    "            mom_mat_dict[key] = np.prod(term_list)\n",
    "\n",
    "        # 4. args is not empty and non of the elements is an integer :\n",
    "        # Substitute matrices and reduce to single matrix.\n",
    "        else:\n",
    "            term_list = [x.subs([[Km, Km_mat],\n",
    "                                 [Rm, Rm_mat],\n",
    "                                 [Gm, Gm_mat],\n",
    "                                 [Rp, Rp_mat],\n",
    "                                 [Gp, Gp_mat]]) for x in value.args]\n",
    "\n",
    "            # Perform a second round of checking. Elements that have for example\n",
    "            # Number * Matrix are not explicitly multiplied. For this we will use\n",
    "            # np.prod by splitting the terms again into its arguments and\n",
    "            # multiplying the the arguments\n",
    "            for i, term in enumerate(term_list):\n",
    "                if len(term.args) == 2:\n",
    "                    term_list[i] = np.prod(term.args)\n",
    "\n",
    "            # Add the matrices. In order to do so:\n",
    "            # the sum function has an optional \"start\" argument so you can\n",
    "            # initialize it with a \"zero object\" of the kind you are adding.\n",
    "            # In this case, with a zero matrix.\n",
    "            mom_mat_dict[key] = sum(term_list, sympy.zeros(*Km_mat.shape))\n",
    "            \n",
    "    return mom_mat_dict"
   ]
  },
  {
   "cell_type": "markdown",
   "metadata": {},
   "source": [
    "Let's test the matrix by defining the corresponding matrices for the three-state system."
   ]
  },
  {
   "cell_type": "code",
   "execution_count": 119,
   "metadata": {},
   "outputs": [
    {
     "data": {
      "image/png": "[encoded data removed]",
      "text/latex": [
       "$$\\left ( \\left[\\begin{matrix}- {k_{off}^{(p)}} & {k_{on}^{(p)}} & 0\\\\{k_{off}^{(p)}} & - {k_{on}^{(p)}} - {k_{on}^{(r)}} & {k_{off}^{(r)}}\\\\0 & {k_{on}^{(r)}} & - {k_{off}^{(r)}}\\end{matrix}\\right], \\quad \\left[\\begin{matrix}r_{m} & 0 & 0\\\\0 & 0 & 0\\\\0 & 0 & 0\\end{matrix}\\right], \\quad \\left[\\begin{matrix}\\gamma_{m} & 0 & 0\\\\0 & \\gamma_{m} & 0\\\\0 & 0 & \\gamma_{m}\\end{matrix}\\right], \\quad \\left[\\begin{matrix}r_{p} & 0 & 0\\\\0 & r_{p} & 0\\\\0 & 0 & r_{p}\\end{matrix}\\right], \\quad \\left[\\begin{matrix}\\gamma_{p} & 0 & 0\\\\0 & \\gamma_{p} & 0\\\\0 & 0 & \\gamma_{p}\\end{matrix}\\right]\\right )$$"
      ],
      "text/plain": [
       "⎛⎡-{k_{off}__{(p)}}           {k_{on}__{(p)}}                    0        ⎤  ⎡\n",
       "⎜⎢                                                                        ⎥  ⎢\n",
       "⎜⎢{k_{off}__{(p)}}   -{k_{on}__{(p)}} - {k_{on}__{(r)}}  {k_{off}__{(r)}} ⎥, ⎢\n",
       "⎜⎢                                                                        ⎥  ⎢\n",
       "⎝⎣        0                   {k_{on}__{(r)}}            -{k_{off}__{(r)}}⎦  ⎣\n",
       "\n",
       "rₘ  0  0⎤  ⎡γₘ  0   0 ⎤  ⎡rₚ  0   0 ⎤  ⎡γₚ  0   0 ⎤⎞\n",
       "        ⎥  ⎢          ⎥  ⎢          ⎥  ⎢          ⎥⎟\n",
       "0   0  0⎥, ⎢0   γₘ  0 ⎥, ⎢0   rₚ  0 ⎥, ⎢0   γₚ  0 ⎥⎟\n",
       "        ⎥  ⎢          ⎥  ⎢          ⎥  ⎢          ⎥⎟\n",
       "0   0  0⎦  ⎣0   0   γₘ⎦  ⎣0   0   rₚ⎦  ⎣0   0   γₚ⎦⎠"
      ]
     },
     "execution_count": 119,
     "metadata": {},
     "output_type": "execute_result"
    }
   ],
   "source": [
    "# Define the rate constant matrix\n",
    "Km_reg = sympy.Matrix([[-kp_off, kp_on, 0], \n",
    "                         [kp_off, -(kp_on + kr_on), kr_off],\n",
    "                         [0, kr_on, -kr_off]])\n",
    "# Define the production matrix\n",
    "Rm_reg = sympy.Matrix([[rm, 0, 0],\n",
    "                       [0, 0, 0],\n",
    "                       [0, 0, 0]])\n",
    "# Define the degradation matrix\n",
    "Gm_reg = sympy.Matrix([[gm, 0, 0],\n",
    "                       [0, gm, 0],\n",
    "                       [0, 0, gm]])\n",
    "\n",
    "# Define the production matrix\n",
    "Rp_reg = sympy.Matrix([[rp, 0, 0],\n",
    "                       [0, rp, 0],\n",
    "                       [0, 0, rp]])\n",
    "\n",
    "# Define the production matrix\n",
    "Gp_reg = sympy.Matrix([[gp, 0, 0],\n",
    "                       [0, gp, 0],\n",
    "                       [0, 0, gp]])\n",
    "\n",
    "\n",
    "Km_reg, Rm_reg, Gm_reg, Rp_reg, Gp_reg"
   ]
  },
  {
   "cell_type": "markdown",
   "metadata": {},
   "source": [
    "Having defined these matrices, let's substitute it into the second-moment example we have been working with so far."
   ]
  },
  {
   "cell_type": "code",
   "execution_count": 120,
   "metadata": {},
   "outputs": [
    {
     "data": {
      "image/png": "[encoded data removed]",
      "text/latex": [
       "$$\\left \\{ 1 : \\left[\\begin{matrix}0 & 0 & 0\\\\0 & 0 & 0\\\\0 & 0 & 0\\end{matrix}\\right], \\quad {\\mathbf{m}} : \\left[\\begin{matrix}r_{p} & 0 & 0\\\\0 & r_{p} & 0\\\\0 & 0 & r_{p}\\end{matrix}\\right], \\quad {\\mathbf{p}} : \\left[\\begin{matrix}\\gamma_{p} & 0 & 0\\\\0 & \\gamma_{p} & 0\\\\0 & 0 & \\gamma_{p}\\end{matrix}\\right], \\quad {\\mathbf{p}}^{2} : \\left[\\begin{matrix}- 2 \\gamma_{p} - {k_{off}^{(p)}} & {k_{on}^{(p)}} & 0\\\\{k_{off}^{(p)}} & - 2 \\gamma_{p} - {k_{on}^{(p)}} - {k_{on}^{(r)}} & {k_{off}^{(r)}}\\\\0 & {k_{on}^{(r)}} & - 2 \\gamma_{p} - {k_{off}^{(r)}}\\end{matrix}\\right], \\quad {\\mathbf{m}} {\\mathbf{p}} : \\left[\\begin{matrix}2 r_{p} & 0 & 0\\\\0 & 2 r_{p} & 0\\\\0 & 0 & 2 r_{p}\\end{matrix}\\right], \\quad {\\mathbf{m}} {\\mathbf{p}}^{2} : \\left[\\begin{matrix}0 & 0 & 0\\\\0 & 0 & 0\\\\0 & 0 & 0\\end{matrix}\\right]\\right \\}$$"
      ],
      "text/plain": [
       "⎧   ⎡0  0  0⎤                ⎡rₚ  0   0 ⎤                ⎡γₚ  0   0 ⎤         \n",
       "⎪   ⎢       ⎥                ⎢          ⎥                ⎢          ⎥         \n",
       "⎨1: ⎢0  0  0⎥, {\\mathbf{m}}: ⎢0   rₚ  0 ⎥, {\\mathbf{p}}: ⎢0   γₚ  0 ⎥, {\\mathb\n",
       "⎪   ⎢       ⎥                ⎢          ⎥                ⎢          ⎥         \n",
       "⎩   ⎣0  0  0⎦                ⎣0   0   rₚ⎦                ⎣0   0   γₚ⎦         \n",
       "\n",
       "        ⎡-2⋅γₚ - {k_{off}__{(p)}}               {k_{on}__{(p)}}               \n",
       "     2  ⎢                                                                     \n",
       "f{p}} : ⎢    {k_{off}__{(p)}}      -2⋅γₚ - {k_{on}__{(p)}} - {k_{on}__{(r)}}  \n",
       "        ⎢                                                                     \n",
       "        ⎣           0                           {k_{on}__{(r)}}               \n",
       "\n",
       "           0            ⎤                             ⎡2⋅rₚ   0     0  ⎤      \n",
       "                        ⎥                             ⎢                ⎥      \n",
       "    {k_{off}__{(r)}}    ⎥, {\\mathbf{m}}⋅{\\mathbf{p}}: ⎢ 0    2⋅rₚ   0  ⎥, {\\ma\n",
       "                        ⎥                             ⎢                ⎥      \n",
       "-2⋅γₚ - {k_{off}__{(r)}}⎦                             ⎣ 0     0    2⋅rₚ⎦      \n",
       "\n",
       "                        ⎡0  0  0⎤⎫\n",
       "                     2  ⎢       ⎥⎪\n",
       "thbf{m}}⋅{\\mathbf{p}} : ⎢0  0  0⎥⎬\n",
       "                        ⎢       ⎥⎪\n",
       "                        ⎣0  0  0⎦⎭"
      ]
     },
     "execution_count": 120,
     "metadata": {},
     "output_type": "execute_result"
    }
   ],
   "source": [
    "p2_coeff_dict = coeff_subs(p2_dict, Km_reg, Rm_reg, Gm_reg,\n",
    "                           Rp_reg, Gp_reg)\n",
    "\n",
    "p2_coeff_dict"
   ]
  },
  {
   "cell_type": "markdown",
   "metadata": {},
   "source": [
    "### Systematically finding the moments necessary to solve for $\\bb{\\ee{m^x p^y}}$"
   ]
  },
  {
   "cell_type": "markdown",
   "metadata": {},
   "source": [
    "We established that a moment of the form $\\bb{\\ee{m^x p^y}}$ depends on lower moments that satisfy two conditions. We need to define a function that given the largest moment $\\bb{\\ee{m^x p^y}}$ to be included in the matrix it finds all of the moments $\\bb{\\ee{m^{x'} p^{y'}}}$ that satisfy such conditions."
   ]
  },
  {
   "cell_type": "code",
   "execution_count": 177,
   "metadata": {},
   "outputs": [],
   "source": [
    "def expo_pairs(m_expo, p_expo):\n",
    "    '''\n",
    "    Finds all of the pairs of exponents x', y' that are necessary to compute the\n",
    "    moment <m**m_expo * p**p_expo> that satisfy the necessary conditions:\n",
    "    1) y' <= p_expo\n",
    "    2) x' + y' <= m_expo + p_expo\n",
    "    Parameters\n",
    "    ----------\n",
    "    m_expo, p_expo: int.\n",
    "        Exponents of the highest moment to be included in the system.\n",
    "        m_expo corresponds to the mRNA exponent\n",
    "        p_expo corresponds to the protein exponent\n",
    "        \n",
    "    Returns\n",
    "    -------\n",
    "    pairs : list.\n",
    "        List of sorted exponent pairs necessary for the computation\n",
    "    NOTE: The sorting (which is not a necessary feature) given the general\n",
    "    form of the equation only works up to the moment <m**0 * p**p_expo>.\n",
    "    Any moment with x'>0 and y'=p_expo will be out of order appended at\n",
    "    the end of the list.\n",
    "    '''\n",
    "    # Find all possible pair of exponents that satisfy\n",
    "    # x' + y' <= m_expo + p_expo\n",
    "    expo_pairs = list(itertools.permutations(range(m_expo + p_expo + 1), 2))\n",
    "\n",
    "    # Add the (num, num) pair that are not being included\n",
    "    expo_pairs = expo_pairs + [tuple([s, s]) for s in range(max([m_exp, p_exp]) + 1)]\n",
    "\n",
    "    # Remove pairs that do not satisfy the condition\n",
    "    # y' <= p_expo\n",
    "    expo_pairs = [s for s in expo_pairs if s[1] <= p_expo]\n",
    "\n",
    "    # Remove pairs that do not satisfy the condition\n",
    "    # x' <= m_expo + 1\n",
    "#     expo_pairs = [x for x in expo_pairs if x[0] <= m_expo + 1]\n",
    "\n",
    "    # # Remove pairs that do not satisfy the condition\n",
    "    # x' + y' <= m_expo + p_expo\n",
    "    expo_pairs = [s for s in expo_pairs if sum(s) <= m_expo + p_expo]\n",
    "\n",
    "    ##  Moment sorting ##\n",
    "    # Initialize list to append sorted moments\n",
    "    expo_sorted = list()\n",
    "\n",
    "    # Append mRNA moments\n",
    "    mRNA_mom = sorted([s for s in expo_pairs if s[1] == 0])\n",
    "    expo_sorted.append(mRNA_mom)\n",
    "\n",
    "    # Find each protein moment\n",
    "    protein_mom = sorted([s for s in expo_pairs if (s[0] == 0) & (s[1] != 0)])\n",
    "\n",
    "    # Loop through each protein moment and find the cross correlations\n",
    "    # associated with it\n",
    "    for pr in protein_mom:\n",
    "        cross_corr = sorted([s for s in expo_pairs\n",
    "                             if (s[0] > 0) & (s[1] > 0) & (sum(s) == pr[1])],\n",
    "                            reverse=True)\n",
    "        # append it to the list\n",
    "        expo_sorted.append(cross_corr)\n",
    "        expo_sorted.append([pr])\n",
    "\n",
    "    expo_sorted = list(itertools.chain.from_iterable(expo_sorted))\n",
    "\n",
    "    # Append the other terms that are missing\n",
    "    missing = [s for s in expo_pairs if s not in expo_sorted]\n",
    "    \n",
    "    return expo_sorted + missing"
   ]
  },
  {
   "cell_type": "markdown",
   "metadata": {},
   "source": [
    "Let's test the function by finding the moments that would be needed to obtain the second moment of the protein distribution."
   ]
  },
  {
   "cell_type": "code",
   "execution_count": 180,
   "metadata": {},
   "outputs": [
    {
     "data": {
      "image/png": "[encoded data removed]",
      "text/latex": [
       "$$\\left [ \\left ( 0, \\quad 0\\right ), \\quad \\left ( 1, \\quad 0\\right ), \\quad \\left ( 2, \\quad 0\\right ), \\quad \\left ( 0, \\quad 1\\right ), \\quad \\left ( 1, \\quad 1\\right ), \\quad \\left ( 0, \\quad 2\\right )\\right ]$$"
      ],
      "text/plain": [
       "[(0, 0), (1, 0), (2, 0), (0, 1), (1, 1), (0, 2)]"
      ]
     },
     "execution_count": 180,
     "metadata": {},
     "output_type": "execute_result"
    }
   ],
   "source": [
    "# Define exponents for highest moment to be inferred\n",
    "m_expo, p_expo = 0, 2\n",
    "\n",
    "# Find the list of moments that need to be computed\n",
    "expo_pairs(m_expo, p_expo)"
   ]
  },
  {
   "cell_type": "markdown",
   "metadata": {},
   "source": [
    "These are indeed the necessary moments to compute the protein second moment. Now that we can generate this list we are able to build our matrix $\\bb{A}$ by iteratively substitute these exponents on the general moment equation and fill the corresponding entries on the matrix."
   ]
  },
  {
   "cell_type": "code",
   "execution_count": 207,
   "metadata": {},
   "outputs": [],
   "source": [
    "# Define the number of dimensions\n",
    "n_dim = 3\n",
    "\n",
    "# Define highest moment to be computed\n",
    "m_expo, p_expo = 0, 2\n",
    "\n",
    "# Find exponents of moments needed to be computed\n",
    "exponents = expo_pairs(m_expo, p_expo)\n",
    "\n",
    "# Initalize matrix A\n",
    "A_matrix = sympy.Matrix(np.zeros([len(exponents) * n_dim,\n",
    "                     len(exponents) * n_dim]))\n",
    "\n",
    "# Generate dictionary that saves position of each moment\n",
    "# on the matrix\n",
    "\n",
    "# Initialize dictionary\n",
    "idx_dict = {}\n",
    "# Loop through moments\n",
    "for i, e in enumerate(exponents):\n",
    "    idx_dict[e] = [i * n_dim, (i * n_dim) + (n_dim)]\n",
    "    \n",
    "# Loop through moments to subsittute exopnents into\n",
    "# general moment equation\n",
    "for i, (mexp, pexp) in enumerate(exponents):\n",
    "    # Substitute exponents into general moment equation\n",
    "    mom_eq = master_moment.subs([[x, mexp], [y, pexp]]).\\\n",
    "                           factor([m, p])\n",
    "    # Obtain coefficients of equation\n",
    "    mom_coeff = coeff_dictionary(mom_eq)\n",
    "    # Substitute coefficients with matrices\n",
    "    mom_subs = coeff_subs(mom_coeff, Km_reg, \n",
    "                          Rm_reg, Gm_reg,\n",
    "                          Rp_reg, Gp_reg)\n",
    "    # Find row index on matrix A for substitutions\n",
    "    row_idx = idx_dict[(mexp, pexp)]\n",
    "    # Loop through coefficients to make substitutions\n",
    "    for key, value in mom_subs.items():\n",
    "        # Find exponents of the moment\n",
    "        if key.has(m):\n",
    "            m_degree = sympy.Poly(key).degree(m)\n",
    "        else:\n",
    "            m_degree = 0\n",
    "        if key.has(p):\n",
    "            p_degree = sympy.Poly(key).degree(p)\n",
    "        else:\n",
    "            p_degree = 0\n",
    "            \n",
    "        # Check if moment included in mom_sub.\n",
    "        # Sometimes extra moments with no values are added\n",
    "        if (m_degree, p_degree) in exponents:\n",
    "            # Find index for columns\n",
    "            col_idx = idx_dict[(m_degree, p_degree)]\n",
    "            # Substitute values in corresponding entries\n",
    "            A_matrix[row_idx[0]:row_idx[1], \n",
    "                     col_idx[0]:col_idx[1]] = value"
   ]
  },
  {
   "cell_type": "code",
   "execution_count": 208,
   "metadata": {},
   "outputs": [
    {
     "data": {
      "image/png": "[encoded data removed]",
      "text/latex": [
       "$$\\left[\\begin{array}{cccccccccccccccccc}- {k_{off}^{(p)}} & {k_{on}^{(p)}} & 0 & 0.0 & 0.0 & 0.0 & 0.0 & 0.0 & 0.0 & 0.0 & 0.0 & 0.0 & 0.0 & 0.0 & 0.0 & 0.0 & 0.0 & 0.0\\\\{k_{off}^{(p)}} & - {k_{on}^{(p)}} - {k_{on}^{(r)}} & {k_{off}^{(r)}} & 0.0 & 0.0 & 0.0 & 0.0 & 0.0 & 0.0 & 0.0 & 0.0 & 0.0 & 0.0 & 0.0 & 0.0 & 0.0 & 0.0 & 0.0\\\\0 & {k_{on}^{(r)}} & - {k_{off}^{(r)}} & 0.0 & 0.0 & 0.0 & 0.0 & 0.0 & 0.0 & 0.0 & 0.0 & 0.0 & 0.0 & 0.0 & 0.0 & 0.0 & 0.0 & 0.0\\\\r_{m} & 0 & 0 & - \\gamma_{m} - {k_{off}^{(p)}} & {k_{on}^{(p)}} & 0 & 0.0 & 0.0 & 0.0 & 0.0 & 0.0 & 0.0 & 0.0 & 0.0 & 0.0 & 0.0 & 0.0 & 0.0\\\\0 & 0 & 0 & {k_{off}^{(p)}} & - \\gamma_{m} - {k_{on}^{(p)}} - {k_{on}^{(r)}} & {k_{off}^{(r)}} & 0.0 & 0.0 & 0.0 & 0.0 & 0.0 & 0.0 & 0.0 & 0.0 & 0.0 & 0.0 & 0.0 & 0.0\\\\0 & 0 & 0 & 0 & {k_{on}^{(r)}} & - \\gamma_{m} - {k_{off}^{(r)}} & 0.0 & 0.0 & 0.0 & 0.0 & 0.0 & 0.0 & 0.0 & 0.0 & 0.0 & 0.0 & 0.0 & 0.0\\\\r_{m} & 0 & 0 & \\gamma_{m} + 2 r_{m} & 0 & 0 & - 2 \\gamma_{m} - {k_{off}^{(p)}} & {k_{on}^{(p)}} & 0 & 0.0 & 0.0 & 0.0 & 0.0 & 0.0 & 0.0 & 0.0 & 0.0 & 0.0\\\\0 & 0 & 0 & 0 & \\gamma_{m} & 0 & {k_{off}^{(p)}} & - 2 \\gamma_{m} - {k_{on}^{(p)}} - {k_{on}^{(r)}} & {k_{off}^{(r)}} & 0.0 & 0.0 & 0.0 & 0.0 & 0.0 & 0.0 & 0.0 & 0.0 & 0.0\\\\0 & 0 & 0 & 0 & 0 & \\gamma_{m} & 0 & {k_{on}^{(r)}} & - 2 \\gamma_{m} - {k_{off}^{(r)}} & 0.0 & 0.0 & 0.0 & 0.0 & 0.0 & 0.0 & 0.0 & 0.0 & 0.0\\\\0 & 0 & 0 & r_{p} & 0 & 0 & 0.0 & 0.0 & 0.0 & - \\gamma_{p} - {k_{off}^{(p)}} & {k_{on}^{(p)}} & 0 & 0 & 0 & 0 & 0.0 & 0.0 & 0.0\\\\0 & 0 & 0 & 0 & r_{p} & 0 & 0.0 & 0.0 & 0.0 & {k_{off}^{(p)}} & - \\gamma_{p} - {k_{on}^{(p)}} - {k_{on}^{(r)}} & {k_{off}^{(r)}} & 0 & 0 & 0 & 0.0 & 0.0 & 0.0\\\\0 & 0 & 0 & 0 & 0 & r_{p} & 0.0 & 0.0 & 0.0 & 0 & {k_{on}^{(r)}} & - \\gamma_{p} - {k_{off}^{(r)}} & 0 & 0 & 0 & 0.0 & 0.0 & 0.0\\\\0 & 0 & 0 & 0 & 0 & 0 & r_{p} & 0 & 0 & r_{m} & 0 & 0 & - \\gamma_{m} - \\gamma_{p} - {k_{off}^{(p)}} & {k_{on}^{(p)}} & 0 & 0.0 & 0.0 & 0.0\\\\0 & 0 & 0 & 0 & 0 & 0 & 0 & r_{p} & 0 & 0 & 0 & 0 & {k_{off}^{(p)}} & - \\gamma_{m} - \\gamma_{p} - {k_{on}^{(p)}} - {k_{on}^{(r)}} & {k_{off}^{(r)}} & 0.0 & 0.0 & 0.0\\\\0 & 0 & 0 & 0 & 0 & 0 & 0 & 0 & r_{p} & 0 & 0 & 0 & 0 & {k_{on}^{(r)}} & - \\gamma_{m} - \\gamma_{p} - {k_{off}^{(r)}} & 0.0 & 0.0 & 0.0\\\\0 & 0 & 0 & r_{p} & 0 & 0 & 0.0 & 0.0 & 0.0 & \\gamma_{p} & 0 & 0 & 2 r_{p} & 0 & 0 & - 2 \\gamma_{p} - {k_{off}^{(p)}} & {k_{on}^{(p)}} & 0\\\\0 & 0 & 0 & 0 & r_{p} & 0 & 0.0 & 0.0 & 0.0 & 0 & \\gamma_{p} & 0 & 0 & 2 r_{p} & 0 & {k_{off}^{(p)}} & - 2 \\gamma_{p} - {k_{on}^{(p)}} - {k_{on}^{(r)}} & {k_{off}^{(r)}}\\\\0 & 0 & 0 & 0 & 0 & r_{p} & 0.0 & 0.0 & 0.0 & 0 & 0 & \\gamma_{p} & 0 & 0 & 2 r_{p} & 0 & {k_{on}^{(r)}} & - 2 \\gamma_{p} - {k_{off}^{(r)}}\\end{array}\\right]$$"
      ],
      "text/plain": [
       "⎡-{k_{off}__{(p)}}           {k_{on}__{(p)}}                    0             \n",
       "⎢                                                                             \n",
       "⎢{k_{off}__{(p)}}   -{k_{on}__{(p)}} - {k_{on}__{(r)}}  {k_{off}__{(r)}}      \n",
       "⎢                                                                             \n",
       "⎢        0                   {k_{on}__{(r)}}            -{k_{off}__{(r)}}     \n",
       "⎢                                                                             \n",
       "⎢       rₘ                          0                           0          -γₘ\n",
       "⎢                                                                             \n",
       "⎢        0                          0                           0             \n",
       "⎢                                                                             \n",
       "⎢        0                          0                           0             \n",
       "⎢                                                                             \n",
       "⎢       rₘ                          0                           0             \n",
       "⎢                                                                             \n",
       "⎢        0                          0                           0             \n",
       "⎢                                                                             \n",
       "⎢        0                          0                           0             \n",
       "⎢                                                                             \n",
       "⎢        0                          0                           0             \n",
       "⎢                                                                             \n",
       "⎢        0                          0                           0             \n",
       "⎢                                                                             \n",
       "⎢        0                          0                           0             \n",
       "⎢                                                                             \n",
       "⎢        0                          0                           0             \n",
       "⎢                                                                             \n",
       "⎢        0                          0                           0             \n",
       "⎢                                                                             \n",
       "⎢        0                          0                           0             \n",
       "⎢                                                                             \n",
       "⎢        0                          0                           0             \n",
       "⎢                                                                             \n",
       "⎢        0                          0                           0             \n",
       "⎢                                                                             \n",
       "⎣        0                          0                           0             \n",
       "\n",
       "      0.0                              0.0                             0.0    \n",
       "                                                                              \n",
       "      0.0                              0.0                             0.0    \n",
       "                                                                              \n",
       "      0.0                              0.0                             0.0    \n",
       "                                                                              \n",
       " - {k_{off}__{(p)}}              {k_{on}__{(p)}}                        0     \n",
       "                                                                              \n",
       "{k_{off}__{(p)}}     -γₘ - {k_{on}__{(p)}} - {k_{on}__{(r)}}     {k_{off}__{(r\n",
       "                                                                              \n",
       "       0                         {k_{on}__{(r)}}              -γₘ - {k_{off}__\n",
       "                                                                              \n",
       "   γₘ + 2⋅rₘ                            0                               0     \n",
       "                                                                              \n",
       "       0                               γₘ                               0     \n",
       "                                                                              \n",
       "       0                                0                               γₘ    \n",
       "                                                                              \n",
       "       rₚ                               0                               0     \n",
       "                                                                              \n",
       "       0                               rₚ                               0     \n",
       "                                                                              \n",
       "       0                                0                               rₚ    \n",
       "                                                                              \n",
       "       0                                0                               0     \n",
       "                                                                              \n",
       "       0                                0                               0     \n",
       "                                                                              \n",
       "       0                                0                               0     \n",
       "                                                                              \n",
       "       rₚ                               0                               0     \n",
       "                                                                              \n",
       "       0                               rₚ                               0     \n",
       "                                                                              \n",
       "       0                                0                               rₚ    \n",
       "\n",
       "                  0.0                                0.0                      \n",
       "                                                                              \n",
       "                  0.0                                0.0                      \n",
       "                                                                              \n",
       "                  0.0                                0.0                      \n",
       "                                                                              \n",
       "                  0.0                                0.0                      \n",
       "                                                                              \n",
       ")}}               0.0                                0.0                      \n",
       "                                                                              \n",
       "{(r)}}            0.0                                0.0                      \n",
       "                                                                              \n",
       "        -2⋅γₘ - {k_{off}__{(p)}}               {k_{on}__{(p)}}                \n",
       "                                                                              \n",
       "            {k_{off}__{(p)}}      -2⋅γₘ - {k_{on}__{(p)}} - {k_{on}__{(r)}}   \n",
       "                                                                              \n",
       "                   0                           {k_{on}__{(r)}}               -\n",
       "                                                                              \n",
       "                  0.0                                0.0                      \n",
       "                                                                              \n",
       "                  0.0                                0.0                      \n",
       "                                                                              \n",
       "                  0.0                                0.0                      \n",
       "                                                                              \n",
       "                   rₚ                                 0                       \n",
       "                                                                              \n",
       "                   0                                 rₚ                       \n",
       "                                                                              \n",
       "                   0                                  0                       \n",
       "                                                                              \n",
       "                  0.0                                0.0                      \n",
       "                                                                              \n",
       "                  0.0                                0.0                      \n",
       "                                                                              \n",
       "                  0.0                                0.0                      \n",
       "\n",
       "         0.0                      0.0                              0.0        \n",
       "                                                                              \n",
       "         0.0                      0.0                              0.0        \n",
       "                                                                              \n",
       "         0.0                      0.0                              0.0        \n",
       "                                                                              \n",
       "         0.0                      0.0                              0.0        \n",
       "                                                                              \n",
       "         0.0                      0.0                              0.0        \n",
       "                                                                              \n",
       "         0.0                      0.0                              0.0        \n",
       "                                                                              \n",
       "          0                       0.0                              0.0        \n",
       "                                                                              \n",
       "   {k_{off}__{(r)}}               0.0                              0.0        \n",
       "                                                                              \n",
       "2⋅γₘ - {k_{off}__{(r)}}           0.0                              0.0        \n",
       "                                                                              \n",
       "         0.0             -γₚ - {k_{off}__{(p)}}              {k_{on}__{(p)}}  \n",
       "                                                                              \n",
       "         0.0                {k_{off}__{(p)}}     -γₚ - {k_{on}__{(p)}} - {k_{o\n",
       "                                                                              \n",
       "         0.0                       0                         {k_{on}__{(r)}}  \n",
       "                                                                              \n",
       "          0                        rₘ                               0         \n",
       "                                                                              \n",
       "          0                        0                                0         \n",
       "                                                                              \n",
       "          rₚ                       0                                0         \n",
       "                                                                              \n",
       "         0.0                       γₚ                               0         \n",
       "                                                                              \n",
       "         0.0                       0                               γₚ         \n",
       "                                                                              \n",
       "         0.0                       0                                0         \n",
       "\n",
       "                     0.0                        0.0                           \n",
       "                                                                              \n",
       "                     0.0                        0.0                           \n",
       "                                                                              \n",
       "                     0.0                        0.0                           \n",
       "                                                                              \n",
       "                     0.0                        0.0                           \n",
       "                                                                              \n",
       "                     0.0                        0.0                           \n",
       "                                                                              \n",
       "                     0.0                        0.0                           \n",
       "                                                                              \n",
       "                     0.0                        0.0                           \n",
       "                                                                              \n",
       "                     0.0                        0.0                           \n",
       "                                                                              \n",
       "                     0.0                        0.0                           \n",
       "                                                                              \n",
       "                      0                          0                            \n",
       "                                                                              \n",
       "n}__{(r)}}     {k_{off}__{(r)}}                  0                            \n",
       "                                                                              \n",
       "            -γₚ - {k_{off}__{(r)}}               0                            \n",
       "                                                                              \n",
       "                      0             -γₘ - γₚ - {k_{off}__{(p)}}               \n",
       "                                                                              \n",
       "                      0                  {k_{off}__{(p)}}        -γₘ - γₚ - {k\n",
       "                                                                              \n",
       "                      0                          0                            \n",
       "                                                                              \n",
       "                      0                        2⋅rₚ                           \n",
       "                                                                              \n",
       "                      0                          0                            \n",
       "                                                                              \n",
       "                      γₚ                         0                            \n",
       "\n",
       "       0.0                                   0.0                        0.0   \n",
       "                                                                              \n",
       "       0.0                                   0.0                        0.0   \n",
       "                                                                              \n",
       "       0.0                                   0.0                        0.0   \n",
       "                                                                              \n",
       "       0.0                                   0.0                        0.0   \n",
       "                                                                              \n",
       "       0.0                                   0.0                        0.0   \n",
       "                                                                              \n",
       "       0.0                                   0.0                        0.0   \n",
       "                                                                              \n",
       "       0.0                                   0.0                        0.0   \n",
       "                                                                              \n",
       "       0.0                                   0.0                        0.0   \n",
       "                                                                              \n",
       "       0.0                                   0.0                        0.0   \n",
       "                                                                              \n",
       "        0                                     0                         0.0   \n",
       "                                                                              \n",
       "        0                                     0                         0.0   \n",
       "                                                                              \n",
       "        0                                     0                         0.0   \n",
       "                                                                              \n",
       " {k_{on}__{(p)}}                              0                         0.0   \n",
       "                                                                              \n",
       "_{on}__{(p)}} - {k_{on}__{(r)}}       {k_{off}__{(r)}}                  0.0   \n",
       "                                                                              \n",
       " {k_{on}__{(r)}}                 -γₘ - γₚ - {k_{off}__{(r)}}            0.0   \n",
       "                                                                              \n",
       "        0                                     0               -2⋅γₚ - {k_{off}\n",
       "                                                                              \n",
       "       2⋅rₚ                                   0                   {k_{off}__{(\n",
       "                                                                              \n",
       "        0                                   2⋅rₚ                         0    \n",
       "\n",
       "                             0.0                               0.0           ⎤\n",
       "                                                                             ⎥\n",
       "                             0.0                               0.0           ⎥\n",
       "                                                                             ⎥\n",
       "                             0.0                               0.0           ⎥\n",
       "                                                                             ⎥\n",
       "                             0.0                               0.0           ⎥\n",
       "                                                                             ⎥\n",
       "                             0.0                               0.0           ⎥\n",
       "                                                                             ⎥\n",
       "                             0.0                               0.0           ⎥\n",
       "                                                                             ⎥\n",
       "                             0.0                               0.0           ⎥\n",
       "                                                                             ⎥\n",
       "                             0.0                               0.0           ⎥\n",
       "                                                                             ⎥\n",
       "                             0.0                               0.0           ⎥\n",
       "                                                                             ⎥\n",
       "                             0.0                               0.0           ⎥\n",
       "                                                                             ⎥\n",
       "                             0.0                               0.0           ⎥\n",
       "                                                                             ⎥\n",
       "                             0.0                               0.0           ⎥\n",
       "                                                                             ⎥\n",
       "                             0.0                               0.0           ⎥\n",
       "                                                                             ⎥\n",
       "                             0.0                               0.0           ⎥\n",
       "                                                                             ⎥\n",
       "                             0.0                               0.0           ⎥\n",
       "                                                                             ⎥\n",
       "__{(p)}}               {k_{on}__{(p)}}                          0            ⎥\n",
       "                                                                             ⎥\n",
       "p)}}      -2⋅γₚ - {k_{on}__{(p)}} - {k_{on}__{(r)}}      {k_{off}__{(r)}}    ⎥\n",
       "                                                                             ⎥\n",
       "                       {k_{on}__{(r)}}               -2⋅γₚ - {k_{off}__{(r)}}⎦"
      ]
     },
     "execution_count": 208,
     "metadata": {},
     "output_type": "execute_result"
    }
   ],
   "source": [
    "A_matrix"
   ]
  },
  {
   "cell_type": "code",
   "execution_count": 155,
   "metadata": {},
   "outputs": [],
   "source": [
    "test = m**2"
   ]
  },
  {
   "cell_type": "code",
   "execution_count": null,
   "metadata": {},
   "outputs": [],
   "source": []
  },
  {
   "cell_type": "markdown",
   "metadata": {},
   "source": [
    "### Defining function to generate moment vectors"
   ]
  },
  {
   "cell_type": "markdown",
   "metadata": {},
   "source": [
    "Now let's define a function that given a list of states and a moment of the form $\\bb{m^x p^y}$ (as the keys from the dictionary that contains the equation coefficients) it generates an array with the individual moments. For example if the function receives $\\bb{m^2 p}$ with three states $\\{E, P, R \\}$ it returns sympy variables of the form\n",
    "$$\n",
    "\\ee{m^2 p}_E, \\ee{m^2 p}_P, \\ee{m^2 p}_R\n",
    "$$"
   ]
  },
  {
   "cell_type": "code",
   "execution_count": 19,
   "metadata": {},
   "outputs": [],
   "source": [
    "def moment_dict(moments, states=['E', 'P', 'R']):\n",
    "    '''\n",
    "    Function that generates automatically sympy variables for a given moment\n",
    "    one for each of the specified states.\n",
    "    \n",
    "    Parameters\n",
    "    ----------\n",
    "    moments : list.\n",
    "        List of sympy variables of the form m**x * p**y for which to \n",
    "        generate the moment variables.\n",
    "    states : array-like.\n",
    "        List containing strings that define each of the states for which\n",
    "        to define the moment variables.\n",
    "        \n",
    "    Returns\n",
    "    -------\n",
    "    moments_dict : dictionary.\n",
    "        dictionary containing all new defined variables associated with each\n",
    "        moment.\n",
    "    '''\n",
    "    # Initialize dictionary to save the variables\n",
    "    moments_dict = dict()\n",
    "    \n",
    "    # Loop through each of the moments adding the variables to the dictionary\n",
    "    for mom in moments:\n",
    "        # Process non-zero moments\n",
    "        if mom != 1:\n",
    "            # Find the degree of the moment for each of the variables\n",
    "            if mom.has(m):\n",
    "                m_degree = sympy.Poly(mom).degree(m)\n",
    "            else:\n",
    "                m_degree = 0\n",
    "            if mom.has(p):\n",
    "                p_degree = sympy.Poly(mom).degree(p)\n",
    "            else:\n",
    "                p_degree = 0\n",
    "\n",
    "            # Initialize list to save variables\n",
    "            mom_var = list()\n",
    "\n",
    "            # Loop through states to generate the variables\n",
    "            for s in states:\n",
    "                mom_var.append(sympy.Symbol('{\\\\langle ' +\n",
    "                               sympy.latex(mm**m_degree * pp**p_degree) +\n",
    "                                            '\\\\rangle}_' + s))\n",
    "        else:\n",
    "            # Initialize list to save variables\n",
    "            mom_var = list()\n",
    "            \n",
    "            # Loop through states to generate the variables\n",
    "            for s in states:\n",
    "                mom_var.append(sympy.Symbol('{\\\\langle m^0 p^0' +\n",
    "                                            '\\\\rangle}_' + s))\n",
    "        # Append variables to dictionary\n",
    "        moments_dict[mom] = mom_var\n",
    "        \n",
    "    return moments_dict"
   ]
  },
  {
   "cell_type": "markdown",
   "metadata": {},
   "source": [
    "Let's generate a dictionary for the variables in the protein second moment dictionary we saved earlier."
   ]
  },
  {
   "cell_type": "code",
   "execution_count": 20,
   "metadata": {},
   "outputs": [
    {
     "data": {
      "image/png": "[encoded data removed]",
      "text/latex": [
       "$$\\left \\{ 1 : \\left [ {\\langle m^0 p^0\\rangle}_E, \\quad {\\langle m^0 p^0\\rangle}_P, \\quad {\\langle m^0 p^0\\rangle}_R\\right ], \\quad {\\mathbf{m}} : \\left [ {\\langle m\\rangle}_E, \\quad {\\langle m\\rangle}_P, \\quad {\\langle m\\rangle}_R\\right ], \\quad {\\mathbf{p}} : \\left [ {\\langle p\\rangle}_E, \\quad {\\langle p\\rangle}_P, \\quad {\\langle p\\rangle}_R\\right ], \\quad {\\mathbf{p}}^{2} : \\left [ {\\langle p^{2}\\rangle}_E, \\quad {\\langle p^{2}\\rangle}_P, \\quad {\\langle p^{2}\\rangle}_R\\right ], \\quad {\\mathbf{m}} {\\mathbf{p}} : \\left [ {\\langle m p\\rangle}_E, \\quad {\\langle m p\\rangle}_P, \\quad {\\langle m p\\rangle}_R\\right ], \\quad {\\mathbf{m}} {\\mathbf{p}}^{2} : \\left [ {\\langle m p^{2}\\rangle}_E, \\quad {\\langle m p^{2}\\rangle}_P, \\quad {\\langle m p^{2}\\rangle}_R\\right ]\\right \\}$$"
      ],
      "text/plain": [
       "⎧                                                                             \n",
       "⎨1: [{\\langle m_E__0 p__0\\rangle}, {\\langle m_P__0 p__0\\rangle}, {\\langle m_R_\n",
       "⎩                                                                             \n",
       "\n",
       "                                                                              \n",
       "_0 p__0\\rangle}], {\\mathbf{m}}: [{\\langle m\\rangle}_E, {\\langle m\\rangle}_P, {\n",
       "                                                                              \n",
       "\n",
       "                                                                              \n",
       "\\langle m\\rangle}_R], {\\mathbf{p}}: [{\\langle p\\rangle}_E, {\\langle p\\rangle}_\n",
       "                                                                              \n",
       "\n",
       "                                      2                                       \n",
       "P, {\\langle p\\rangle}_R], {\\mathbf{p}} : [{\\langle p_E__{2}\\rangle}, {\\langle \n",
       "                                                                              \n",
       "\n",
       "                                                                              \n",
       "p_P__{2}\\rangle}, {\\langle p_R__{2}\\rangle}], {\\mathbf{m}}⋅{\\mathbf{p}}: [{\\la\n",
       "                                                                              \n",
       "\n",
       "                                                                              \n",
       "ngle m p\\rangle}_E, {\\langle m p\\rangle}_P, {\\langle m p\\rangle}_R], {\\mathbf{\n",
       "                                                                              \n",
       "\n",
       "                2                                                             \n",
       "m}}⋅{\\mathbf{p}} : [{\\langle m p_E__{2}\\rangle}, {\\langle m p_P__{2}\\rangle}, \n",
       "                                                                              \n",
       "\n",
       "                            ⎫\n",
       "{\\langle m p_R__{2}\\rangle}]⎬\n",
       "                            ⎭"
      ]
     },
     "execution_count": 20,
     "metadata": {},
     "output_type": "execute_result"
    }
   ],
   "source": [
    "# Extract keys from the p2_dict\n",
    "p2_keys = [key for key, val in p2_dict.items()]\n",
    "\n",
    "# Generate dictionary with variables for each variable in dictionary\n",
    "p2_var_dict = moment_dict(p2_keys)\n",
    "\n",
    "p2_var_dict"
   ]
  }
 ],
 "metadata": {
  "kernelspec": {
   "display_name": "Python 3",
   "language": "python",
   "name": "python3"
  },
  "language_info": {
   "codemirror_mode": {
    "name": "ipython",
    "version": 3
   },
   "file_extension": ".py",
   "mimetype": "text/x-python",
   "name": "python",
   "nbconvert_exporter": "python",
   "pygments_lexer": "ipython3",
   "version": "3.6.6"
  }
 },
 "nbformat": 4,
 "nbformat_minor": 2
}
